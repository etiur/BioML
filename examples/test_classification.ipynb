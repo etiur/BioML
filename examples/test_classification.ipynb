{
 "cells": [
  {
   "cell_type": "code",
   "execution_count": 1,
   "metadata": {},
   "outputs": [],
   "source": [
    "\n",
    "from functools import partial\n",
    "import pandas as pd\n",
    "import time\n",
    "from sklearn.feature_selection import VarianceThreshold\n",
    "from sklearn.ensemble import RandomForestRegressor as rfr\n",
    "import shap\n",
    "import xgboost as xgb\n",
    "import numpy as np"
   ]
  },
  {
   "cell_type": "markdown",
   "metadata": {},
   "source": [
    "### Models"
   ]
  },
  {
   "cell_type": "code",
   "execution_count": 2,
   "metadata": {},
   "outputs": [],
   "source": [
    "from BioML.features import selection\n",
    "from pycaret.datasets import get_data\n",
    "import pandas as pd\n",
    "from sklearn.model_selection import train_test_split\n",
    "from pathlib import Path"
   ]
  },
  {
   "cell_type": "code",
   "execution_count": 3,
   "metadata": {},
   "outputs": [
    {
     "data": {
      "text/html": [
       "<div>\n",
       "<style scoped>\n",
       "    .dataframe tbody tr th:only-of-type {\n",
       "        vertical-align: middle;\n",
       "    }\n",
       "\n",
       "    .dataframe tbody tr th {\n",
       "        vertical-align: top;\n",
       "    }\n",
       "\n",
       "    .dataframe thead th {\n",
       "        text-align: right;\n",
       "    }\n",
       "</style>\n",
       "<table border=\"1\" class=\"dataframe\">\n",
       "  <thead>\n",
       "    <tr style=\"text-align: right;\">\n",
       "      <th></th>\n",
       "      <th>Number of times pregnant</th>\n",
       "      <th>Plasma glucose concentration a 2 hours in an oral glucose tolerance test</th>\n",
       "      <th>Diastolic blood pressure (mm Hg)</th>\n",
       "      <th>Triceps skin fold thickness (mm)</th>\n",
       "      <th>2-Hour serum insulin (mu U/ml)</th>\n",
       "      <th>Body mass index (weight in kg/(height in m)^2)</th>\n",
       "      <th>Diabetes pedigree function</th>\n",
       "      <th>Age (years)</th>\n",
       "      <th>Class variable</th>\n",
       "    </tr>\n",
       "  </thead>\n",
       "  <tbody>\n",
       "    <tr>\n",
       "      <th>0</th>\n",
       "      <td>6</td>\n",
       "      <td>148</td>\n",
       "      <td>72</td>\n",
       "      <td>35</td>\n",
       "      <td>0</td>\n",
       "      <td>33.6</td>\n",
       "      <td>0.627</td>\n",
       "      <td>50</td>\n",
       "      <td>1</td>\n",
       "    </tr>\n",
       "    <tr>\n",
       "      <th>1</th>\n",
       "      <td>1</td>\n",
       "      <td>85</td>\n",
       "      <td>66</td>\n",
       "      <td>29</td>\n",
       "      <td>0</td>\n",
       "      <td>26.6</td>\n",
       "      <td>0.351</td>\n",
       "      <td>31</td>\n",
       "      <td>0</td>\n",
       "    </tr>\n",
       "    <tr>\n",
       "      <th>2</th>\n",
       "      <td>8</td>\n",
       "      <td>183</td>\n",
       "      <td>64</td>\n",
       "      <td>0</td>\n",
       "      <td>0</td>\n",
       "      <td>23.3</td>\n",
       "      <td>0.672</td>\n",
       "      <td>32</td>\n",
       "      <td>1</td>\n",
       "    </tr>\n",
       "    <tr>\n",
       "      <th>3</th>\n",
       "      <td>1</td>\n",
       "      <td>89</td>\n",
       "      <td>66</td>\n",
       "      <td>23</td>\n",
       "      <td>94</td>\n",
       "      <td>28.1</td>\n",
       "      <td>0.167</td>\n",
       "      <td>21</td>\n",
       "      <td>0</td>\n",
       "    </tr>\n",
       "    <tr>\n",
       "      <th>4</th>\n",
       "      <td>0</td>\n",
       "      <td>137</td>\n",
       "      <td>40</td>\n",
       "      <td>35</td>\n",
       "      <td>168</td>\n",
       "      <td>43.1</td>\n",
       "      <td>2.288</td>\n",
       "      <td>33</td>\n",
       "      <td>1</td>\n",
       "    </tr>\n",
       "  </tbody>\n",
       "</table>\n",
       "</div>"
      ],
      "text/plain": [
       "   Number of times pregnant  \\\n",
       "0                         6   \n",
       "1                         1   \n",
       "2                         8   \n",
       "3                         1   \n",
       "4                         0   \n",
       "\n",
       "   Plasma glucose concentration a 2 hours in an oral glucose tolerance test  \\\n",
       "0                                                148                          \n",
       "1                                                 85                          \n",
       "2                                                183                          \n",
       "3                                                 89                          \n",
       "4                                                137                          \n",
       "\n",
       "   Diastolic blood pressure (mm Hg)  Triceps skin fold thickness (mm)  \\\n",
       "0                                72                                35   \n",
       "1                                66                                29   \n",
       "2                                64                                 0   \n",
       "3                                66                                23   \n",
       "4                                40                                35   \n",
       "\n",
       "   2-Hour serum insulin (mu U/ml)  \\\n",
       "0                               0   \n",
       "1                               0   \n",
       "2                               0   \n",
       "3                              94   \n",
       "4                             168   \n",
       "\n",
       "   Body mass index (weight in kg/(height in m)^2)  Diabetes pedigree function  \\\n",
       "0                                            33.6                       0.627   \n",
       "1                                            26.6                       0.351   \n",
       "2                                            23.3                       0.672   \n",
       "3                                            28.1                       0.167   \n",
       "4                                            43.1                       2.288   \n",
       "\n",
       "   Age (years)  Class variable  \n",
       "0           50               1  \n",
       "1           31               0  \n",
       "2           32               1  \n",
       "3           21               0  \n",
       "4           33               1  "
      ]
     },
     "metadata": {},
     "output_type": "display_data"
    }
   ],
   "source": [
    "data = get_data('diabetes')\n",
    "new_data = data.drop(\"Class variable\", axis=1)\n",
    "labels = data[\"Class variable\"]"
   ]
  },
  {
   "cell_type": "code",
   "execution_count": 4,
   "metadata": {},
   "outputs": [],
   "source": [
    "ester_label = pd.read_csv(\"../data/esterase_labels.csv\", index_col=0)\n",
    "ester = \"-../data/esterase_features.xlsx\""
   ]
  },
  {
   "cell_type": "code",
   "execution_count": 1,
   "metadata": {},
   "outputs": [
    {
     "data": {
      "text/plain": [
       "'possum_features'"
      ]
     },
     "execution_count": 1,
     "metadata": {},
     "output_type": "execute_result"
    }
   ],
   "source": [
    "{}.get(\"hello\", \"possum_features\")"
   ]
  },
  {
   "cell_type": "markdown",
   "metadata": {},
   "source": [
    "## Classification"
   ]
  },
  {
   "cell_type": "code",
   "execution_count": 5,
   "metadata": {},
   "outputs": [],
   "source": [
    "import BioML.models.classification as classification\n",
    "from collections import defaultdict\n",
    "from functools import partial\n",
    "import pandas as pd\n",
    "import numpy as np"
   ]
  },
  {
   "cell_type": "code",
   "execution_count": 6,
   "metadata": {},
   "outputs": [],
   "source": [
    "plot = (\"learning\", \"confusion_matrix\", \"class_report\")"
   ]
  },
  {
   "cell_type": "code",
   "execution_count": 7,
   "metadata": {},
   "outputs": [],
   "source": [
    "excel = pd.read_excel(\"../data/esterase_features.xlsx\", index_col=0, sheet_name=\"ch2_20\")\n",
    "label = pd.read_csv(\"../data/esterase_labels.csv\", index_col=0)\n",
    "l = pd.Series(label[\"label1\"])"
   ]
  },
  {
   "cell_type": "code",
   "execution_count": 8,
   "metadata": {},
   "outputs": [
    {
     "name": "stderr",
     "output_type": "stream",
     "text": [
      "27-07-2024 11:57:36 INFO ------------------------------------------------------------------------------\n",
      "27-07-2024 11:57:36 INFO PycaretInterface parameters\n",
      "27-07-2024 11:57:36 INFO Seed: 250\n",
      "27-07-2024 11:57:36 INFO Budget time: 20\n",
      "27-07-2024 11:57:36 INFO The number of models to select: 3\n",
      "27-07-2024 11:57:36 INFO Output path: classification_training\n",
      "27-07-2024 11:57:36 INFO ----------------Trainer inputs-------------------------\n",
      "27-07-2024 11:57:36 INFO Number of kfolds: 5\n",
      "27-07-2024 11:57:36 INFO Number of retuning iterations: 50\n",
      "27-07-2024 11:57:36 INFO Test size: 50\n"
     ]
    }
   ],
   "source": [
    "data = classification.DataParser(\"../data/esterase_features.xlsx\", \"../data/esterase_labels.csv\", sheets=\"ch2_20\")\n",
    "experiment = classification.PycaretInterface(\"classification\", 250, budget_time=20, best_model=3, \n",
    "                                  output_path=\"classification_training\", optimize=\"MCC\")\n",
    "classifier = classification.Classifier(optimize=\"MCC\", drop=())\n",
    "training = classification.Trainer(experiment, classifier, 5, 50)\n"
   ]
  },
  {
   "cell_type": "code",
   "execution_count": 9,
   "metadata": {},
   "outputs": [],
   "source": [
    "c = classification.split.ClusterSpliter(\"../data/resultsDB_clu.tsv\", 5, random_state=experiment.seed)\n",
    "X_train, X_test = c.train_test_split(data.features)"
   ]
  },
  {
   "cell_type": "code",
   "execution_count": 10,
   "metadata": {},
   "outputs": [
    {
     "name": "stderr",
     "output_type": "stream",
     "text": [
      "2024/07/27 11:57:37 INFO mlflow.tracking.fluent: Experiment with name 'Classification' does not exist. Creating a new experiment.\n",
      "27-07-2024 11:57:38 INFO Added metrics for classification: Average precision\n",
      "27-07-2024 11:57:38 INFO --------------------------------------------------------\n",
      "27-07-2024 11:57:38 INFO Training classification models\n",
      "27-07-2024 11:57:38 INFO The models used ['lr', 'knn', 'nb', 'dt', 'svm', 'rbfsvm', 'gpc', 'mlp', 'ridge', 'rf', 'qda', 'ada', 'gbc', 'lda', 'et', 'xgboost', 'lightgbm', 'catboost', 'dummy']\n",
      "27-07-2024 11:57:38 INFO The number of models used 19\n",
      "27-07-2024 11:57:38 INFO Time budget is 20 minutes\n",
      "27-07-2024 11:57:43 INFO Model lr trained in 0.086 minutes\n",
      "27-07-2024 11:57:48 INFO Model knn trained in 0.073 minutes\n",
      "27-07-2024 11:57:51 INFO Model nb trained in 0.059 minutes\n",
      "27-07-2024 11:57:53 INFO Model dt trained in 0.03 minutes\n",
      "27-07-2024 11:57:55 INFO Model svm trained in 0.038 minutes\n",
      "27-07-2024 11:57:57 INFO Model rbfsvm trained in 0.032 minutes\n",
      "27-07-2024 11:57:59 INFO Model gpc trained in 0.033 minutes\n",
      "27-07-2024 11:58:02 INFO Model mlp trained in 0.04 minutes\n",
      "27-07-2024 11:58:04 INFO Model ridge trained in 0.032 minutes\n",
      "27-07-2024 11:58:06 INFO Model rf trained in 0.045 minutes\n",
      "27-07-2024 11:58:08 INFO Model qda trained in 0.037 minutes\n",
      "27-07-2024 11:58:11 INFO Model ada trained in 0.036 minutes\n",
      "27-07-2024 11:58:13 INFO Model gbc trained in 0.039 minutes\n",
      "27-07-2024 11:58:15 INFO Model lda trained in 0.03 minutes\n",
      "27-07-2024 11:58:17 INFO Model et trained in 0.041 minutes\n",
      "27-07-2024 11:58:20 INFO Model xgboost trained in 0.043 minutes\n",
      "27-07-2024 11:58:22 INFO Model lightgbm trained in 0.036 minutes\n",
      "27-07-2024 11:58:29 INFO Model catboost trained in 0.11 minutes\n",
      "27-07-2024 11:58:30 INFO Model dummy trained in 0.027 minutes\n",
      "27-07-2024 11:58:30 INFO Training over: Total runtime 0.868 minutes\n",
      "27-07-2024 11:58:30 INFO Analyse the best models and plotting them\n",
      "27-07-2024 11:58:30 INFO Analyse the top 1 model: knn\n",
      "27-07-2024 11:58:32 INFO Analyse the top 2 model: rbfsvm\n",
      "27-07-2024 11:58:33 INFO Analyse the top 3 model: nb\n",
      "27-07-2024 11:58:34 INFO --------Stacking the best models--------\n",
      "27-07-2024 11:58:34 INFO ----------Stacking the best models--------------\n",
      "27-07-2024 11:58:37 INFO --------Creating an ensemble model--------\n",
      "27-07-2024 11:58:37 INFO ----------Creating a majority voting model--------------\n",
      "27-07-2024 11:58:37 INFO fold: 5\n",
      "27-07-2024 11:58:37 INFO weights: None\n",
      "27-07-2024 11:58:39 INFO --------Retuning the best models--------\n",
      "27-07-2024 11:58:39 INFO Retuning knn\n",
      "27-07-2024 11:58:39 INFO ---------Retuning the best models--------------\n",
      "27-07-2024 11:58:39 INFO num_iter: 50\n",
      "27-07-2024 11:58:39 INFO fold: 5\n",
      "27-07-2024 11:58:56 INFO Retuning rbfsvm\n",
      "27-07-2024 11:58:56 INFO ---------Retuning the best models--------------\n",
      "27-07-2024 11:58:56 INFO num_iter: 50\n",
      "27-07-2024 11:58:56 INFO fold: 5\n",
      "27-07-2024 11:59:08 INFO Retuning nb\n",
      "27-07-2024 11:59:08 INFO --------Stacking the best models--------\n",
      "27-07-2024 11:59:08 INFO ----------Stacking the best models--------------\n",
      "27-07-2024 11:59:11 INFO --------Creating an ensemble model--------\n",
      "27-07-2024 11:59:11 INFO ----------Creating a majority voting model--------------\n",
      "27-07-2024 11:59:11 INFO fold: 5\n",
      "27-07-2024 11:59:11 INFO weights: None\n",
      "27-07-2024 11:59:13 INFO Analyse the best models and plotting them\n",
      "27-07-2024 11:59:13 INFO Analyse the top 1 model: knn\n",
      "27-07-2024 11:59:14 INFO Analyse the top 2 model: rbfsvm\n",
      "27-07-2024 11:59:16 INFO Analyse the top 3 model: nb\n"
     ]
    }
   ],
   "source": [
    "results, models = training.generate_training_results(X_train, data.label, tune=True, test_data=X_test, fold_strategy=c)"
   ]
  },
  {
   "cell_type": "code",
   "execution_count": 11,
   "metadata": {},
   "outputs": [
    {
     "data": {
      "text/html": [
       "<div>\n",
       "<style scoped>\n",
       "    .dataframe tbody tr th:only-of-type {\n",
       "        vertical-align: middle;\n",
       "    }\n",
       "\n",
       "    .dataframe tbody tr th {\n",
       "        vertical-align: top;\n",
       "    }\n",
       "\n",
       "    .dataframe thead th {\n",
       "        text-align: right;\n",
       "    }\n",
       "</style>\n",
       "<table border=\"1\" class=\"dataframe\">\n",
       "  <thead>\n",
       "    <tr style=\"text-align: right;\">\n",
       "      <th></th>\n",
       "      <th></th>\n",
       "      <th>Accuracy</th>\n",
       "      <th>AUC</th>\n",
       "      <th>Recall</th>\n",
       "      <th>Prec.</th>\n",
       "      <th>F1</th>\n",
       "      <th>Kappa</th>\n",
       "      <th>MCC</th>\n",
       "      <th>Average Precision Score</th>\n",
       "    </tr>\n",
       "    <tr>\n",
       "      <th>Split</th>\n",
       "      <th>Fold</th>\n",
       "      <th></th>\n",
       "      <th></th>\n",
       "      <th></th>\n",
       "      <th></th>\n",
       "      <th></th>\n",
       "      <th></th>\n",
       "      <th></th>\n",
       "      <th></th>\n",
       "    </tr>\n",
       "  </thead>\n",
       "  <tbody>\n",
       "    <tr>\n",
       "      <th rowspan=\"2\" valign=\"top\">CV-Train</th>\n",
       "      <th>Mean</th>\n",
       "      <td>0.7328</td>\n",
       "      <td>0.8059</td>\n",
       "      <td>0.4406</td>\n",
       "      <td>0.8042</td>\n",
       "      <td>0.5669</td>\n",
       "      <td>0.3980</td>\n",
       "      <td>0.4364</td>\n",
       "      <td>0.7658</td>\n",
       "    </tr>\n",
       "    <tr>\n",
       "      <th>Std</th>\n",
       "      <td>0.0245</td>\n",
       "      <td>0.0154</td>\n",
       "      <td>0.0661</td>\n",
       "      <td>0.0399</td>\n",
       "      <td>0.0618</td>\n",
       "      <td>0.0640</td>\n",
       "      <td>0.0585</td>\n",
       "      <td>0.0186</td>\n",
       "    </tr>\n",
       "    <tr>\n",
       "      <th rowspan=\"2\" valign=\"top\">CV-Val</th>\n",
       "      <th>Mean</th>\n",
       "      <td>0.6670</td>\n",
       "      <td>0.6575</td>\n",
       "      <td>0.3258</td>\n",
       "      <td>0.6967</td>\n",
       "      <td>0.4224</td>\n",
       "      <td>0.2437</td>\n",
       "      <td>0.2816</td>\n",
       "      <td>0.6391</td>\n",
       "    </tr>\n",
       "    <tr>\n",
       "      <th>Std</th>\n",
       "      <td>0.1166</td>\n",
       "      <td>0.0963</td>\n",
       "      <td>0.1924</td>\n",
       "      <td>0.2853</td>\n",
       "      <td>0.1949</td>\n",
       "      <td>0.2334</td>\n",
       "      <td>0.2683</td>\n",
       "      <td>0.0856</td>\n",
       "    </tr>\n",
       "  </tbody>\n",
       "</table>\n",
       "</div>"
      ],
      "text/plain": [
       "               Accuracy     AUC  Recall   Prec.      F1   Kappa     MCC  \\\n",
       "Split    Fold                                                             \n",
       "CV-Train Mean    0.7328  0.8059  0.4406  0.8042  0.5669  0.3980  0.4364   \n",
       "         Std     0.0245  0.0154  0.0661  0.0399  0.0618  0.0640  0.0585   \n",
       "CV-Val   Mean    0.6670  0.6575  0.3258  0.6967  0.4224  0.2437  0.2816   \n",
       "         Std     0.1166  0.0963  0.1924  0.2853  0.1949  0.2334  0.2683   \n",
       "\n",
       "               Average Precision Score  \n",
       "Split    Fold                           \n",
       "CV-Train Mean                   0.7658  \n",
       "         Std                    0.0186  \n",
       "CV-Val   Mean                   0.6391  \n",
       "         Std                    0.0856  "
      ]
     },
     "execution_count": 11,
     "metadata": {},
     "output_type": "execute_result"
    }
   ],
   "source": [
    "results[\"not_tuned\"][\"majority\"][0]"
   ]
  },
  {
   "cell_type": "code",
   "execution_count": 12,
   "metadata": {},
   "outputs": [
    {
     "data": {
      "text/html": [
       "<div>\n",
       "<style scoped>\n",
       "    .dataframe tbody tr th:only-of-type {\n",
       "        vertical-align: middle;\n",
       "    }\n",
       "\n",
       "    .dataframe tbody tr th {\n",
       "        vertical-align: top;\n",
       "    }\n",
       "\n",
       "    .dataframe thead th {\n",
       "        text-align: right;\n",
       "    }\n",
       "</style>\n",
       "<table border=\"1\" class=\"dataframe\">\n",
       "  <thead>\n",
       "    <tr style=\"text-align: right;\">\n",
       "      <th></th>\n",
       "      <th></th>\n",
       "      <th>Accuracy</th>\n",
       "      <th>AUC</th>\n",
       "      <th>Recall</th>\n",
       "      <th>Prec.</th>\n",
       "      <th>F1</th>\n",
       "      <th>Kappa</th>\n",
       "      <th>MCC</th>\n",
       "      <th>Average Precision Score</th>\n",
       "    </tr>\n",
       "    <tr>\n",
       "      <th>Split</th>\n",
       "      <th>Fold</th>\n",
       "      <th></th>\n",
       "      <th></th>\n",
       "      <th></th>\n",
       "      <th></th>\n",
       "      <th></th>\n",
       "      <th></th>\n",
       "      <th></th>\n",
       "      <th></th>\n",
       "    </tr>\n",
       "  </thead>\n",
       "  <tbody>\n",
       "    <tr>\n",
       "      <th rowspan=\"2\" valign=\"top\">CV-Train</th>\n",
       "      <th>Mean</th>\n",
       "      <td>0.7606</td>\n",
       "      <td>0.9524</td>\n",
       "      <td>0.4880</td>\n",
       "      <td>0.8507</td>\n",
       "      <td>0.6177</td>\n",
       "      <td>0.4625</td>\n",
       "      <td>0.5013</td>\n",
       "      <td>0.9087</td>\n",
       "    </tr>\n",
       "    <tr>\n",
       "      <th>Std</th>\n",
       "      <td>0.0229</td>\n",
       "      <td>0.0076</td>\n",
       "      <td>0.0685</td>\n",
       "      <td>0.0323</td>\n",
       "      <td>0.0615</td>\n",
       "      <td>0.0630</td>\n",
       "      <td>0.0549</td>\n",
       "      <td>0.0114</td>\n",
       "    </tr>\n",
       "    <tr>\n",
       "      <th rowspan=\"2\" valign=\"top\">CV-Val</th>\n",
       "      <th>Mean</th>\n",
       "      <td>0.6670</td>\n",
       "      <td>0.6509</td>\n",
       "      <td>0.3258</td>\n",
       "      <td>0.6967</td>\n",
       "      <td>0.4224</td>\n",
       "      <td>0.2437</td>\n",
       "      <td>0.2816</td>\n",
       "      <td>0.6271</td>\n",
       "    </tr>\n",
       "    <tr>\n",
       "      <th>Std</th>\n",
       "      <td>0.1166</td>\n",
       "      <td>0.0805</td>\n",
       "      <td>0.1924</td>\n",
       "      <td>0.2853</td>\n",
       "      <td>0.1949</td>\n",
       "      <td>0.2334</td>\n",
       "      <td>0.2683</td>\n",
       "      <td>0.0930</td>\n",
       "    </tr>\n",
       "  </tbody>\n",
       "</table>\n",
       "</div>"
      ],
      "text/plain": [
       "               Accuracy     AUC  Recall   Prec.      F1   Kappa     MCC  \\\n",
       "Split    Fold                                                             \n",
       "CV-Train Mean    0.7606  0.9524  0.4880  0.8507  0.6177  0.4625  0.5013   \n",
       "         Std     0.0229  0.0076  0.0685  0.0323  0.0615  0.0630  0.0549   \n",
       "CV-Val   Mean    0.6670  0.6509  0.3258  0.6967  0.4224  0.2437  0.2816   \n",
       "         Std     0.1166  0.0805  0.1924  0.2853  0.1949  0.2334  0.2683   \n",
       "\n",
       "               Average Precision Score  \n",
       "Split    Fold                           \n",
       "CV-Train Mean                   0.9087  \n",
       "         Std                    0.0114  \n",
       "CV-Val   Mean                   0.6271  \n",
       "         Std                    0.0930  "
      ]
     },
     "execution_count": 12,
     "metadata": {},
     "output_type": "execute_result"
    }
   ],
   "source": [
    "results[\"tuned\"][\"majority\"][0]"
   ]
  },
  {
   "cell_type": "markdown",
   "metadata": {},
   "source": [
    "##### Acces the ClaasificationExperiment from Pycaret and play with teh models if you want"
   ]
  },
  {
   "cell_type": "code",
   "execution_count": null,
   "metadata": {},
   "outputs": [
    {
     "data": {
      "text/plain": [
       "<pycaret.classification.oop.ClassificationExperiment at 0x1dd52a826d0>"
      ]
     },
     "execution_count": 8,
     "metadata": {},
     "output_type": "execute_result"
    }
   ],
   "source": [
    "experiment.pycaret"
   ]
  },
  {
   "cell_type": "code",
   "execution_count": null,
   "metadata": {},
   "outputs": [],
   "source": [
    "test_set_predictions = training.generate_holdout_prediction(models)"
   ]
  },
  {
   "cell_type": "code",
   "execution_count": 15,
   "metadata": {},
   "outputs": [],
   "source": [
    "training_output = \"classification_results\"\n",
    "l = []\n",
    "for tune_status, result_dict in results.items():\n",
    "    for key, value in result_dict.items():\n",
    "        classification.write_results(f\"{training_output}/{tune_status}\", *value, sheet_name=key)\n",
    "    classification.write_results(f\"{training_output}/{tune_status}\", test_set_predictions[tune_status] , sheet_name=f\"test_results\")"
   ]
  },
  {
   "cell_type": "markdown",
   "metadata": {},
   "source": [
    "### View in MlFlow"
   ]
  },
  {
   "cell_type": "code",
   "execution_count": 19,
   "metadata": {},
   "outputs": [],
   "source": [
    "import mlflow"
   ]
  },
  {
   "cell_type": "code",
   "execution_count": 21,
   "metadata": {},
   "outputs": [],
   "source": [
    "logs= experiment.get_logs()"
   ]
  },
  {
   "cell_type": "code",
   "execution_count": 31,
   "metadata": {},
   "outputs": [
    {
     "data": {
      "text/plain": [
       "run_id                                      3312c5c4cf7b410a9a98642b3111cdc6\n",
       "experiment_id                                             225057415584816760\n",
       "status                                                              FINISHED\n",
       "artifact_uri               file:///g:/Mi%20unidad/BSC/programs/BioML/exam...\n",
       "start_time                                  2024-03-28 16:10:51.356000+00:00\n",
       "                                                 ...                        \n",
       "tags.mlflow.runName                                        Voting Classifier\n",
       "tags.Run ID                                 3312c5c4cf7b410a9a98642b3111cdc6\n",
       "tags.USI                                                                ed0c\n",
       "tags.mlflow.parentRunId                     22708d4abc3d4236aeb2f24b65e1cbd3\n",
       "tags.mlflow.source.name    c:\\Users\\ruite\\miniforge3\\envs\\BioML\\Lib\\site-...\n",
       "Name: 0, Length: 257, dtype: object"
      ]
     },
     "execution_count": 31,
     "metadata": {},
     "output_type": "execute_result"
    }
   ],
   "source": [
    "logs.iloc[0]"
   ]
  },
  {
   "cell_type": "code",
   "execution_count": 27,
   "metadata": {},
   "outputs": [
    {
     "data": {
      "text/plain": [
       "mlflow.pyfunc.loaded_model:\n",
       "  artifact_path: model\n",
       "  flavor: mlflow.sklearn\n",
       "  run_id: a7a0c3f7eea1461f8887070e3a1164c9"
      ]
     },
     "execution_count": 27,
     "metadata": {},
     "output_type": "execute_result"
    }
   ],
   "source": [
    "logged_model = 'runs:/a7a0c3f7eea1461f8887070e3a1164c9/model'\n",
    "loaded_model = mlflow.pyfunc.load_model(logged_model)\n",
    "loaded_model"
   ]
  },
  {
   "cell_type": "markdown",
   "metadata": {},
   "source": [
    "## Save Model from pre-trained"
   ]
  },
  {
   "cell_type": "code",
   "execution_count": 12,
   "metadata": {},
   "outputs": [],
   "source": [
    "from BioML.models import save_model"
   ]
  },
  {
   "cell_type": "code",
   "execution_count": 13,
   "metadata": {},
   "outputs": [
    {
     "name": "stderr",
     "output_type": "stream",
     "text": [
      "22-06-2024 10:12:05 INFO ----------Finalizing the model by training it with all the data including test set--------------\n"
     ]
    },
    {
     "name": "stdout",
     "output_type": "stream",
     "text": [
      "Transformation Pipeline and Model Successfully Saved\n"
     ]
    }
   ],
   "source": [
    "generate = save_model.GenerateModel(training)\n",
    "final_model = generate.finalize_model(models[\"tuned\"][\"majority\"])\n",
    "generate.save_model(final_model, \"model_output/majority\")"
   ]
  },
  {
   "cell_type": "markdown",
   "metadata": {},
   "source": [
    "## Save Model from scratch"
   ]
  },
  {
   "cell_type": "code",
   "execution_count": 12,
   "metadata": {},
   "outputs": [],
   "source": [
    "from BioML.models import save_model"
   ]
  },
  {
   "cell_type": "code",
   "execution_count": 17,
   "metadata": {},
   "outputs": [
    {
     "name": "stderr",
     "output_type": "stream",
     "text": [
      "27-03-2024 14:28:52 INFO ------------------------------------------------------------------------------\n",
      "27-03-2024 14:28:52 INFO PycaretInterface parameters\n",
      "27-03-2024 14:28:52 INFO Seed: 200\n",
      "27-03-2024 14:28:52 INFO Budget time: 20\n",
      "27-03-2024 14:28:52 INFO The number of models to select: 3\n",
      "27-03-2024 14:28:52 INFO Output path: classification_training\n",
      "27-03-2024 14:28:52 INFO ----------------Trainer inputs-------------------------\n",
      "27-03-2024 14:28:52 INFO Number of kfolds: 5\n",
      "27-03-2024 14:28:52 INFO Number of iterations: 30\n"
     ]
    }
   ],
   "source": [
    "data = save_model.DataParser(\"../data/esterase_features.xlsx\", \"../data/esterase_labels.csv\", sheets=\"ch2_20\")\n",
    "experiment = save_model.PycaretInterface(\"classification\", 200, budget_time=20, best_model=3, \n",
    "                                  output_path=\"classification_training\", optimize=\"MCC\", experiment_name=\"generate_model\")\n",
    "classifier = save_model.Classifier(test_size=0.2, optimize=\"MCC\", selected=(\"qda\", \"rbfsvm\", \"ridge\"))\n",
    "training = save_model.Trainer(experiment, classifier, 5, 30)\n"
   ]
  },
  {
   "cell_type": "code",
   "execution_count": 19,
   "metadata": {},
   "outputs": [
    {
     "name": "stderr",
     "output_type": "stream",
     "text": [
      "2024/03/27 14:28:55 INFO mlflow.tracking.fluent: Experiment with name 'generate_model' does not exist. Creating a new experiment.\n",
      "27-03-2024 14:28:56 INFO --------------------------------------------------------\n",
      "27-03-2024 14:28:56 INFO Training classification models\n",
      "27-03-2024 14:28:56 INFO The models used ['lr']\n",
      "27-03-2024 14:28:56 INFO Time budget is 20 minutes\n",
      "27-03-2024 14:29:01 INFO Model lr trained in 0.092 minutes\n",
      "27-03-2024 14:29:01 INFO Training over: Total runtime 0.092 minutes\n"
     ]
    },
    {
     "name": "stdout",
     "output_type": "stream",
     "text": [
      "Model lr trained in 0.092 minutes\n"
     ]
    }
   ],
   "source": [
    "sorted_results, sorted_models, top_params = training.run_training(data.features, data.label)"
   ]
  },
  {
   "cell_type": "code",
   "execution_count": 20,
   "metadata": {},
   "outputs": [
    {
     "name": "stderr",
     "output_type": "stream",
     "text": [
      "27-03-2024 14:29:02 INFO ----------Finalizing the model by training it with all the data including test set--------------\n"
     ]
    },
    {
     "name": "stdout",
     "output_type": "stream",
     "text": [
      "Transformation Pipeline and Model Successfully Saved\n"
     ]
    }
   ],
   "source": [
    "generate = save_model.GenerateModel(training)\n",
    "models =  generate.train_by_strategy(sorted_models, \"majority\")\n",
    "final_model = generate.finalize_model(models)\n",
    "generate.save_model(final_model, \"model_output/logistic\")"
   ]
  },
  {
   "cell_type": "markdown",
   "metadata": {},
   "source": [
    "## Prediction"
   ]
  },
  {
   "cell_type": "code",
   "execution_count": 14,
   "metadata": {},
   "outputs": [],
   "source": [
    "from BioML.models import predict\n",
    "import pandas as pd\n",
    "import numpy as np\n",
    "from scipy.spatial import distance"
   ]
  },
  {
   "cell_type": "code",
   "execution_count": 15,
   "metadata": {},
   "outputs": [],
   "source": [
    "training_features = \"../data/esterase_features.xlsx\"\n",
    "label = \"../data/esterase_labels.csv\"\n",
    "test_features = \"../data/esterase_features.xlsx\"\n",
    "outlier_train=()\n",
    "outlier_test=()\n",
    "sheet_name=\"ch2_20\"\n",
    "problem=\"classification\"\n",
    "model_path=\"model_output/majority\"\n",
    "scaler=\"zscore\""
   ]
  },
  {
   "cell_type": "markdown",
   "metadata": {},
   "source": [
    "#### generate the predictions"
   ]
  },
  {
   "cell_type": "code",
   "execution_count": 17,
   "metadata": {},
   "outputs": [
    {
     "data": {
      "text/html": [
       "<div>\n",
       "<style scoped>\n",
       "    .dataframe tbody tr th:only-of-type {\n",
       "        vertical-align: middle;\n",
       "    }\n",
       "\n",
       "    .dataframe tbody tr th {\n",
       "        vertical-align: top;\n",
       "    }\n",
       "\n",
       "    .dataframe thead th {\n",
       "        text-align: right;\n",
       "    }\n",
       "</style>\n",
       "<table border=\"1\" class=\"dataframe\">\n",
       "  <thead>\n",
       "    <tr style=\"text-align: right;\">\n",
       "      <th></th>\n",
       "      <th>hydrophobicity_FASG890101.2.residue25</th>\n",
       "      <th>alphaticr.negativecharger.gap5</th>\n",
       "      <th>BHAR880101.lag9_moran</th>\n",
       "      <th>tri_gram_pssm7077</th>\n",
       "      <th>tri_gram_pssm286</th>\n",
       "      <th>tri_gram_pssm466</th>\n",
       "      <th>tri_gram_pssm3493</th>\n",
       "      <th>tri_gram_pssm1298</th>\n",
       "      <th>tri_gram_pssm5728</th>\n",
       "      <th>tri_gram_pssm7468</th>\n",
       "      <th>...</th>\n",
       "      <th>tri_gram_pssm4023</th>\n",
       "      <th>tri_gram_pssm3159</th>\n",
       "      <th>tri_gram_pssm7678</th>\n",
       "      <th>tri_gram_pssm7234</th>\n",
       "      <th>tri_gram_pssm5801</th>\n",
       "      <th>tri_gram_pssm5367</th>\n",
       "      <th>tri_gram_pssm7177</th>\n",
       "      <th>prediction_label</th>\n",
       "      <th>prediction_score_0</th>\n",
       "      <th>prediction_score_1</th>\n",
       "    </tr>\n",
       "    <tr>\n",
       "      <th>#</th>\n",
       "      <th></th>\n",
       "      <th></th>\n",
       "      <th></th>\n",
       "      <th></th>\n",
       "      <th></th>\n",
       "      <th></th>\n",
       "      <th></th>\n",
       "      <th></th>\n",
       "      <th></th>\n",
       "      <th></th>\n",
       "      <th></th>\n",
       "      <th></th>\n",
       "      <th></th>\n",
       "      <th></th>\n",
       "      <th></th>\n",
       "      <th></th>\n",
       "      <th></th>\n",
       "      <th></th>\n",
       "      <th></th>\n",
       "      <th></th>\n",
       "      <th></th>\n",
       "    </tr>\n",
       "  </thead>\n",
       "  <tbody>\n",
       "    <tr>\n",
       "      <th>EH1(72)</th>\n",
       "      <td>22.857143</td>\n",
       "      <td>0.055016</td>\n",
       "      <td>-0.102575</td>\n",
       "      <td>0.065363</td>\n",
       "      <td>0.832237</td>\n",
       "      <td>0.442684</td>\n",
       "      <td>0.180234</td>\n",
       "      <td>0.089845</td>\n",
       "      <td>0.490688</td>\n",
       "      <td>0.179098</td>\n",
       "      <td>...</td>\n",
       "      <td>0.624236</td>\n",
       "      <td>0.273944</td>\n",
       "      <td>0.460827</td>\n",
       "      <td>0.272559</td>\n",
       "      <td>0.612637</td>\n",
       "      <td>0.401477</td>\n",
       "      <td>0.029163</td>\n",
       "      <td>1</td>\n",
       "      <td>0.0583</td>\n",
       "      <td>0.9417</td>\n",
       "    </tr>\n",
       "    <tr>\n",
       "      <th>EH2(71)</th>\n",
       "      <td>25.513197</td>\n",
       "      <td>0.053731</td>\n",
       "      <td>-0.068227</td>\n",
       "      <td>0.067360</td>\n",
       "      <td>0.645581</td>\n",
       "      <td>0.449828</td>\n",
       "      <td>0.113174</td>\n",
       "      <td>0.094496</td>\n",
       "      <td>0.332225</td>\n",
       "      <td>0.160173</td>\n",
       "      <td>...</td>\n",
       "      <td>0.627025</td>\n",
       "      <td>0.241681</td>\n",
       "      <td>0.361142</td>\n",
       "      <td>0.294981</td>\n",
       "      <td>0.617432</td>\n",
       "      <td>0.372408</td>\n",
       "      <td>0.028312</td>\n",
       "      <td>1</td>\n",
       "      <td>0.0624</td>\n",
       "      <td>0.9376</td>\n",
       "    </tr>\n",
       "    <tr>\n",
       "      <th>EH3(69)</th>\n",
       "      <td>27.873564</td>\n",
       "      <td>0.055556</td>\n",
       "      <td>-0.010242</td>\n",
       "      <td>0.021795</td>\n",
       "      <td>0.756387</td>\n",
       "      <td>0.481429</td>\n",
       "      <td>0.207077</td>\n",
       "      <td>0.123859</td>\n",
       "      <td>0.046267</td>\n",
       "      <td>0.153389</td>\n",
       "      <td>...</td>\n",
       "      <td>0.578253</td>\n",
       "      <td>0.229875</td>\n",
       "      <td>0.456541</td>\n",
       "      <td>0.315422</td>\n",
       "      <td>0.460896</td>\n",
       "      <td>0.360463</td>\n",
       "      <td>0.011199</td>\n",
       "      <td>1</td>\n",
       "      <td>0.0625</td>\n",
       "      <td>0.9375</td>\n",
       "    </tr>\n",
       "    <tr>\n",
       "      <th>CalB(68)</th>\n",
       "      <td>21.806854</td>\n",
       "      <td>0.034921</td>\n",
       "      <td>-0.083474</td>\n",
       "      <td>0.006633</td>\n",
       "      <td>0.097950</td>\n",
       "      <td>0.037538</td>\n",
       "      <td>0.015682</td>\n",
       "      <td>0.006383</td>\n",
       "      <td>0.026272</td>\n",
       "      <td>0.007791</td>\n",
       "      <td>...</td>\n",
       "      <td>0.093919</td>\n",
       "      <td>0.022174</td>\n",
       "      <td>0.039728</td>\n",
       "      <td>0.034692</td>\n",
       "      <td>0.132978</td>\n",
       "      <td>0.032155</td>\n",
       "      <td>0.005397</td>\n",
       "      <td>0</td>\n",
       "      <td>0.5700</td>\n",
       "      <td>0.4300</td>\n",
       "    </tr>\n",
       "    <tr>\n",
       "      <th>EH4(67)</th>\n",
       "      <td>25.730993</td>\n",
       "      <td>0.053571</td>\n",
       "      <td>-0.103226</td>\n",
       "      <td>0.065890</td>\n",
       "      <td>0.685630</td>\n",
       "      <td>0.458253</td>\n",
       "      <td>0.117385</td>\n",
       "      <td>0.102536</td>\n",
       "      <td>0.358012</td>\n",
       "      <td>0.155480</td>\n",
       "      <td>...</td>\n",
       "      <td>0.620764</td>\n",
       "      <td>0.234235</td>\n",
       "      <td>0.351025</td>\n",
       "      <td>0.277734</td>\n",
       "      <td>0.608569</td>\n",
       "      <td>0.365297</td>\n",
       "      <td>0.027124</td>\n",
       "      <td>1</td>\n",
       "      <td>0.0622</td>\n",
       "      <td>0.9378</td>\n",
       "    </tr>\n",
       "    <tr>\n",
       "      <th>...</th>\n",
       "      <td>...</td>\n",
       "      <td>...</td>\n",
       "      <td>...</td>\n",
       "      <td>...</td>\n",
       "      <td>...</td>\n",
       "      <td>...</td>\n",
       "      <td>...</td>\n",
       "      <td>...</td>\n",
       "      <td>...</td>\n",
       "      <td>...</td>\n",
       "      <td>...</td>\n",
       "      <td>...</td>\n",
       "      <td>...</td>\n",
       "      <td>...</td>\n",
       "      <td>...</td>\n",
       "      <td>...</td>\n",
       "      <td>...</td>\n",
       "      <td>...</td>\n",
       "      <td>...</td>\n",
       "      <td>...</td>\n",
       "      <td>...</td>\n",
       "    </tr>\n",
       "    <tr>\n",
       "      <th>EH141(1)</th>\n",
       "      <td>26.797386</td>\n",
       "      <td>0.050773</td>\n",
       "      <td>-0.079524</td>\n",
       "      <td>0.006679</td>\n",
       "      <td>0.134293</td>\n",
       "      <td>0.070896</td>\n",
       "      <td>0.014058</td>\n",
       "      <td>0.003704</td>\n",
       "      <td>0.031492</td>\n",
       "      <td>0.015362</td>\n",
       "      <td>...</td>\n",
       "      <td>0.183355</td>\n",
       "      <td>0.036559</td>\n",
       "      <td>0.034975</td>\n",
       "      <td>0.038975</td>\n",
       "      <td>0.141937</td>\n",
       "      <td>0.026144</td>\n",
       "      <td>0.003584</td>\n",
       "      <td>0</td>\n",
       "      <td>0.9108</td>\n",
       "      <td>0.0892</td>\n",
       "    </tr>\n",
       "    <tr>\n",
       "      <th>EH142(1)</th>\n",
       "      <td>32.676056</td>\n",
       "      <td>0.034384</td>\n",
       "      <td>0.002960</td>\n",
       "      <td>0.001735</td>\n",
       "      <td>0.103232</td>\n",
       "      <td>0.054376</td>\n",
       "      <td>0.016582</td>\n",
       "      <td>0.007587</td>\n",
       "      <td>0.015728</td>\n",
       "      <td>0.009787</td>\n",
       "      <td>...</td>\n",
       "      <td>0.106868</td>\n",
       "      <td>0.027981</td>\n",
       "      <td>0.123676</td>\n",
       "      <td>0.035153</td>\n",
       "      <td>0.083529</td>\n",
       "      <td>0.015107</td>\n",
       "      <td>0.001517</td>\n",
       "      <td>0</td>\n",
       "      <td>0.9268</td>\n",
       "      <td>0.0732</td>\n",
       "    </tr>\n",
       "    <tr>\n",
       "      <th>EH143(1)</th>\n",
       "      <td>27.921093</td>\n",
       "      <td>0.064319</td>\n",
       "      <td>0.048037</td>\n",
       "      <td>0.005556</td>\n",
       "      <td>0.089063</td>\n",
       "      <td>0.102606</td>\n",
       "      <td>0.022504</td>\n",
       "      <td>0.006974</td>\n",
       "      <td>0.024215</td>\n",
       "      <td>0.031432</td>\n",
       "      <td>...</td>\n",
       "      <td>0.184709</td>\n",
       "      <td>0.029490</td>\n",
       "      <td>0.134652</td>\n",
       "      <td>0.072092</td>\n",
       "      <td>0.177750</td>\n",
       "      <td>0.035943</td>\n",
       "      <td>0.004516</td>\n",
       "      <td>0</td>\n",
       "      <td>0.9130</td>\n",
       "      <td>0.0870</td>\n",
       "    </tr>\n",
       "    <tr>\n",
       "      <th>EH144(1)</th>\n",
       "      <td>23.611111</td>\n",
       "      <td>0.028571</td>\n",
       "      <td>-0.022539</td>\n",
       "      <td>0.002426</td>\n",
       "      <td>0.040774</td>\n",
       "      <td>0.031842</td>\n",
       "      <td>0.004587</td>\n",
       "      <td>0.004792</td>\n",
       "      <td>0.010700</td>\n",
       "      <td>0.006292</td>\n",
       "      <td>...</td>\n",
       "      <td>0.071764</td>\n",
       "      <td>0.016577</td>\n",
       "      <td>0.036162</td>\n",
       "      <td>0.019665</td>\n",
       "      <td>0.027724</td>\n",
       "      <td>0.009666</td>\n",
       "      <td>0.004640</td>\n",
       "      <td>0</td>\n",
       "      <td>0.9187</td>\n",
       "      <td>0.0813</td>\n",
       "    </tr>\n",
       "    <tr>\n",
       "      <th>EH145(1)</th>\n",
       "      <td>22.769230</td>\n",
       "      <td>0.040752</td>\n",
       "      <td>-0.071947</td>\n",
       "      <td>0.004418</td>\n",
       "      <td>0.062490</td>\n",
       "      <td>0.034162</td>\n",
       "      <td>0.020488</td>\n",
       "      <td>0.007325</td>\n",
       "      <td>0.021449</td>\n",
       "      <td>0.011990</td>\n",
       "      <td>...</td>\n",
       "      <td>0.093325</td>\n",
       "      <td>0.033920</td>\n",
       "      <td>0.054643</td>\n",
       "      <td>0.026898</td>\n",
       "      <td>0.068620</td>\n",
       "      <td>0.031391</td>\n",
       "      <td>0.007553</td>\n",
       "      <td>0</td>\n",
       "      <td>0.9092</td>\n",
       "      <td>0.0908</td>\n",
       "    </tr>\n",
       "  </tbody>\n",
       "</table>\n",
       "<p>147 rows × 21 columns</p>\n",
       "</div>"
      ],
      "text/plain": [
       "          hydrophobicity_FASG890101.2.residue25  \\\n",
       "#                                                 \n",
       "EH1(72)                               22.857143   \n",
       "EH2(71)                               25.513197   \n",
       "EH3(69)                               27.873564   \n",
       "CalB(68)                              21.806854   \n",
       "EH4(67)                               25.730993   \n",
       "...                                         ...   \n",
       "EH141(1)                              26.797386   \n",
       "EH142(1)                              32.676056   \n",
       "EH143(1)                              27.921093   \n",
       "EH144(1)                              23.611111   \n",
       "EH145(1)                              22.769230   \n",
       "\n",
       "          alphaticr.negativecharger.gap5  BHAR880101.lag9_moran  \\\n",
       "#                                                                 \n",
       "EH1(72)                         0.055016              -0.102575   \n",
       "EH2(71)                         0.053731              -0.068227   \n",
       "EH3(69)                         0.055556              -0.010242   \n",
       "CalB(68)                        0.034921              -0.083474   \n",
       "EH4(67)                         0.053571              -0.103226   \n",
       "...                                  ...                    ...   \n",
       "EH141(1)                        0.050773              -0.079524   \n",
       "EH142(1)                        0.034384               0.002960   \n",
       "EH143(1)                        0.064319               0.048037   \n",
       "EH144(1)                        0.028571              -0.022539   \n",
       "EH145(1)                        0.040752              -0.071947   \n",
       "\n",
       "          tri_gram_pssm7077  tri_gram_pssm286  tri_gram_pssm466  \\\n",
       "#                                                                 \n",
       "EH1(72)            0.065363          0.832237          0.442684   \n",
       "EH2(71)            0.067360          0.645581          0.449828   \n",
       "EH3(69)            0.021795          0.756387          0.481429   \n",
       "CalB(68)           0.006633          0.097950          0.037538   \n",
       "EH4(67)            0.065890          0.685630          0.458253   \n",
       "...                     ...               ...               ...   \n",
       "EH141(1)           0.006679          0.134293          0.070896   \n",
       "EH142(1)           0.001735          0.103232          0.054376   \n",
       "EH143(1)           0.005556          0.089063          0.102606   \n",
       "EH144(1)           0.002426          0.040774          0.031842   \n",
       "EH145(1)           0.004418          0.062490          0.034162   \n",
       "\n",
       "          tri_gram_pssm3493  tri_gram_pssm1298  tri_gram_pssm5728  \\\n",
       "#                                                                   \n",
       "EH1(72)            0.180234           0.089845           0.490688   \n",
       "EH2(71)            0.113174           0.094496           0.332225   \n",
       "EH3(69)            0.207077           0.123859           0.046267   \n",
       "CalB(68)           0.015682           0.006383           0.026272   \n",
       "EH4(67)            0.117385           0.102536           0.358012   \n",
       "...                     ...                ...                ...   \n",
       "EH141(1)           0.014058           0.003704           0.031492   \n",
       "EH142(1)           0.016582           0.007587           0.015728   \n",
       "EH143(1)           0.022504           0.006974           0.024215   \n",
       "EH144(1)           0.004587           0.004792           0.010700   \n",
       "EH145(1)           0.020488           0.007325           0.021449   \n",
       "\n",
       "          tri_gram_pssm7468  ...  tri_gram_pssm4023  tri_gram_pssm3159  \\\n",
       "#                            ...                                         \n",
       "EH1(72)            0.179098  ...           0.624236           0.273944   \n",
       "EH2(71)            0.160173  ...           0.627025           0.241681   \n",
       "EH3(69)            0.153389  ...           0.578253           0.229875   \n",
       "CalB(68)           0.007791  ...           0.093919           0.022174   \n",
       "EH4(67)            0.155480  ...           0.620764           0.234235   \n",
       "...                     ...  ...                ...                ...   \n",
       "EH141(1)           0.015362  ...           0.183355           0.036559   \n",
       "EH142(1)           0.009787  ...           0.106868           0.027981   \n",
       "EH143(1)           0.031432  ...           0.184709           0.029490   \n",
       "EH144(1)           0.006292  ...           0.071764           0.016577   \n",
       "EH145(1)           0.011990  ...           0.093325           0.033920   \n",
       "\n",
       "          tri_gram_pssm7678  tri_gram_pssm7234  tri_gram_pssm5801  \\\n",
       "#                                                                   \n",
       "EH1(72)            0.460827           0.272559           0.612637   \n",
       "EH2(71)            0.361142           0.294981           0.617432   \n",
       "EH3(69)            0.456541           0.315422           0.460896   \n",
       "CalB(68)           0.039728           0.034692           0.132978   \n",
       "EH4(67)            0.351025           0.277734           0.608569   \n",
       "...                     ...                ...                ...   \n",
       "EH141(1)           0.034975           0.038975           0.141937   \n",
       "EH142(1)           0.123676           0.035153           0.083529   \n",
       "EH143(1)           0.134652           0.072092           0.177750   \n",
       "EH144(1)           0.036162           0.019665           0.027724   \n",
       "EH145(1)           0.054643           0.026898           0.068620   \n",
       "\n",
       "          tri_gram_pssm5367  tri_gram_pssm7177  prediction_label  \\\n",
       "#                                                                  \n",
       "EH1(72)            0.401477           0.029163                 1   \n",
       "EH2(71)            0.372408           0.028312                 1   \n",
       "EH3(69)            0.360463           0.011199                 1   \n",
       "CalB(68)           0.032155           0.005397                 0   \n",
       "EH4(67)            0.365297           0.027124                 1   \n",
       "...                     ...                ...               ...   \n",
       "EH141(1)           0.026144           0.003584                 0   \n",
       "EH142(1)           0.015107           0.001517                 0   \n",
       "EH143(1)           0.035943           0.004516                 0   \n",
       "EH144(1)           0.009666           0.004640                 0   \n",
       "EH145(1)           0.031391           0.007553                 0   \n",
       "\n",
       "          prediction_score_0  prediction_score_1  \n",
       "#                                                 \n",
       "EH1(72)               0.0583              0.9417  \n",
       "EH2(71)               0.0624              0.9376  \n",
       "EH3(69)               0.0625              0.9375  \n",
       "CalB(68)              0.5700              0.4300  \n",
       "EH4(67)               0.0622              0.9378  \n",
       "...                      ...                 ...  \n",
       "EH141(1)              0.9108              0.0892  \n",
       "EH142(1)              0.9268              0.0732  \n",
       "EH143(1)              0.9130              0.0870  \n",
       "EH144(1)              0.9187              0.0813  \n",
       "EH145(1)              0.9092              0.0908  \n",
       "\n",
       "[147 rows x 21 columns]"
      ]
     },
     "execution_count": 17,
     "metadata": {},
     "output_type": "execute_result"
    }
   ],
   "source": [
    "feature = predict.DataParser(training_features, label, outliers=outlier_train, sheets=sheet_name)\n",
    "test_features = feature.remove_outliers(feature.read_features(test_features, \"ch2_20\"), outlier_test)\n",
    "predictions = predict.predict(test_features, model_path, problem)\n",
    "predictions"
   ]
  },
  {
   "cell_type": "markdown",
   "metadata": {},
   "source": [
    "#### Optional if you want to filter predictions based if that test sample is within the applicability domain"
   ]
  },
  {
   "cell_type": "markdown",
   "metadata": {},
   "source": [
    "Applicability domain compares eucleadian distance between the features from the training and features from the test.   \n",
    "If the distance is far from a set threshold then that prediction is discarded since it deviates from the samples the model have seen during training"
   ]
  },
  {
   "cell_type": "code",
   "execution_count": 41,
   "metadata": {},
   "outputs": [],
   "source": [
    "transformed, scaler_dict, test_x = predict.scale(scaler, feature.drop(), test_features)\n",
    "filtered_pred = predict.domain_filter(predictions, transformed, test_x, 5) # it returns the predictions appended to the features"
   ]
  },
  {
   "cell_type": "code",
   "execution_count": 44,
   "metadata": {},
   "outputs": [
    {
     "data": {
      "text/plain": [
       "((120, 20), (147, 19))"
      ]
     },
     "execution_count": 44,
     "metadata": {},
     "output_type": "execute_result"
    }
   ],
   "source": [
    "filtered_pred.shape, predictions.shape"
   ]
  },
  {
   "cell_type": "code",
   "execution_count": 20,
   "metadata": {},
   "outputs": [],
   "source": [
    " # if you don't apply the domain filter, you can just use the predictions but you have to change the index to sample_0, sample_1, etc\n",
    "\n",
    "col_name = [\"prediction_score\", \"prediction_label\", \"AD_number\"]\n",
    "predictions = predictions.loc[:, predictions.columns.str.contains(\"|\".join(col_name))] \n",
    "predictions[\"Index\"] = [f\"sample_{x}\" for x, _ in enumerate(predictions.index)]# only keep the columns with the prediction scores"
   ]
  },
  {
   "cell_type": "code",
   "execution_count": 21,
   "metadata": {},
   "outputs": [
    {
     "data": {
      "text/html": [
       "<div>\n",
       "<style scoped>\n",
       "    .dataframe tbody tr th:only-of-type {\n",
       "        vertical-align: middle;\n",
       "    }\n",
       "\n",
       "    .dataframe tbody tr th {\n",
       "        vertical-align: top;\n",
       "    }\n",
       "\n",
       "    .dataframe thead th {\n",
       "        text-align: right;\n",
       "    }\n",
       "</style>\n",
       "<table border=\"1\" class=\"dataframe\">\n",
       "  <thead>\n",
       "    <tr style=\"text-align: right;\">\n",
       "      <th></th>\n",
       "      <th>prediction_label</th>\n",
       "      <th>prediction_score_0</th>\n",
       "      <th>prediction_score_1</th>\n",
       "      <th>Index</th>\n",
       "    </tr>\n",
       "    <tr>\n",
       "      <th>#</th>\n",
       "      <th></th>\n",
       "      <th></th>\n",
       "      <th></th>\n",
       "      <th></th>\n",
       "    </tr>\n",
       "  </thead>\n",
       "  <tbody>\n",
       "    <tr>\n",
       "      <th>EH1(72)</th>\n",
       "      <td>1</td>\n",
       "      <td>0.0583</td>\n",
       "      <td>0.9417</td>\n",
       "      <td>sample_0</td>\n",
       "    </tr>\n",
       "    <tr>\n",
       "      <th>EH2(71)</th>\n",
       "      <td>1</td>\n",
       "      <td>0.0624</td>\n",
       "      <td>0.9376</td>\n",
       "      <td>sample_1</td>\n",
       "    </tr>\n",
       "    <tr>\n",
       "      <th>EH3(69)</th>\n",
       "      <td>1</td>\n",
       "      <td>0.0625</td>\n",
       "      <td>0.9375</td>\n",
       "      <td>sample_2</td>\n",
       "    </tr>\n",
       "    <tr>\n",
       "      <th>CalB(68)</th>\n",
       "      <td>0</td>\n",
       "      <td>0.5700</td>\n",
       "      <td>0.4300</td>\n",
       "      <td>sample_3</td>\n",
       "    </tr>\n",
       "    <tr>\n",
       "      <th>EH4(67)</th>\n",
       "      <td>1</td>\n",
       "      <td>0.0622</td>\n",
       "      <td>0.9378</td>\n",
       "      <td>sample_4</td>\n",
       "    </tr>\n",
       "    <tr>\n",
       "      <th>...</th>\n",
       "      <td>...</td>\n",
       "      <td>...</td>\n",
       "      <td>...</td>\n",
       "      <td>...</td>\n",
       "    </tr>\n",
       "    <tr>\n",
       "      <th>EH141(1)</th>\n",
       "      <td>0</td>\n",
       "      <td>0.9108</td>\n",
       "      <td>0.0892</td>\n",
       "      <td>sample_142</td>\n",
       "    </tr>\n",
       "    <tr>\n",
       "      <th>EH142(1)</th>\n",
       "      <td>0</td>\n",
       "      <td>0.9268</td>\n",
       "      <td>0.0732</td>\n",
       "      <td>sample_143</td>\n",
       "    </tr>\n",
       "    <tr>\n",
       "      <th>EH143(1)</th>\n",
       "      <td>0</td>\n",
       "      <td>0.9130</td>\n",
       "      <td>0.0870</td>\n",
       "      <td>sample_144</td>\n",
       "    </tr>\n",
       "    <tr>\n",
       "      <th>EH144(1)</th>\n",
       "      <td>0</td>\n",
       "      <td>0.9187</td>\n",
       "      <td>0.0813</td>\n",
       "      <td>sample_145</td>\n",
       "    </tr>\n",
       "    <tr>\n",
       "      <th>EH145(1)</th>\n",
       "      <td>0</td>\n",
       "      <td>0.9092</td>\n",
       "      <td>0.0908</td>\n",
       "      <td>sample_146</td>\n",
       "    </tr>\n",
       "  </tbody>\n",
       "</table>\n",
       "<p>147 rows × 4 columns</p>\n",
       "</div>"
      ],
      "text/plain": [
       "          prediction_label  prediction_score_0  prediction_score_1       Index\n",
       "#                                                                             \n",
       "EH1(72)                  1              0.0583              0.9417    sample_0\n",
       "EH2(71)                  1              0.0624              0.9376    sample_1\n",
       "EH3(69)                  1              0.0625              0.9375    sample_2\n",
       "CalB(68)                 0              0.5700              0.4300    sample_3\n",
       "EH4(67)                  1              0.0622              0.9378    sample_4\n",
       "...                    ...                 ...                 ...         ...\n",
       "EH141(1)                 0              0.9108              0.0892  sample_142\n",
       "EH142(1)                 0              0.9268              0.0732  sample_143\n",
       "EH143(1)                 0              0.9130              0.0870  sample_144\n",
       "EH144(1)                 0              0.9187              0.0813  sample_145\n",
       "EH145(1)                 0              0.9092              0.0908  sample_146\n",
       "\n",
       "[147 rows x 4 columns]"
      ]
     },
     "execution_count": 21,
     "metadata": {},
     "output_type": "execute_result"
    }
   ],
   "source": [
    "predictions"
   ]
  },
  {
   "cell_type": "markdown",
   "metadata": {},
   "source": [
    "### Separate the fasta file into positive or negative"
   ]
  },
  {
   "cell_type": "code",
   "execution_count": 34,
   "metadata": {},
   "outputs": [],
   "source": [
    "fasta = \"../data/whole_sequence.fasta\"\n",
    "res_dir = \"prediction_results_domain\""
   ]
  },
  {
   "cell_type": "code",
   "execution_count": 35,
   "metadata": {},
   "outputs": [],
   "source": [
    "extractor = predict.FastaExtractor(fasta, res_dir)\n",
    "positive, negative = extractor.separate_negative_positive(predictions)\n"
   ]
  },
  {
   "cell_type": "code",
   "execution_count": 36,
   "metadata": {},
   "outputs": [],
   "source": [
    "extractor.extract(positive, negative, positive_fasta=f\"positive.fasta\", negative_fasta=f\"negative.fasta\")"
   ]
  }
 ],
 "metadata": {
  "kernelspec": {
   "display_name": "bioml",
   "language": "python",
   "name": "python3"
  },
  "language_info": {
   "codemirror_mode": {
    "name": "ipython",
    "version": 3
   },
   "file_extension": ".py",
   "mimetype": "text/x-python",
   "name": "python",
   "nbconvert_exporter": "python",
   "pygments_lexer": "ipython3",
   "version": "3.11.11"
  },
  "orig_nbformat": 4
 },
 "nbformat": 4,
 "nbformat_minor": 2
}
