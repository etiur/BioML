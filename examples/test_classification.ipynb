{
 "cells": [
  {
   "cell_type": "code",
   "execution_count": 1,
   "metadata": {},
   "outputs": [],
   "source": [
    "\n",
    "from functools import partial\n",
    "import pandas as pd\n",
    "import time\n",
    "from sklearn.feature_selection import VarianceThreshold\n",
    "from sklearn.ensemble import RandomForestRegressor as rfr\n",
    "import shap\n",
    "import xgboost as xgb\n",
    "import numpy as np"
   ]
  },
  {
   "cell_type": "markdown",
   "metadata": {},
   "source": [
    "### Models"
   ]
  },
  {
   "cell_type": "code",
   "execution_count": 2,
   "metadata": {},
   "outputs": [],
   "source": [
    "from BioML.features import selection\n",
    "from pycaret.datasets import get_data\n",
    "import pandas as pd\n",
    "from sklearn.model_selection import train_test_split\n",
    "from pathlib import Path"
   ]
  },
  {
   "cell_type": "code",
   "execution_count": 3,
   "metadata": {},
   "outputs": [
    {
     "data": {
      "text/html": [
       "<div>\n",
       "<style scoped>\n",
       "    .dataframe tbody tr th:only-of-type {\n",
       "        vertical-align: middle;\n",
       "    }\n",
       "\n",
       "    .dataframe tbody tr th {\n",
       "        vertical-align: top;\n",
       "    }\n",
       "\n",
       "    .dataframe thead th {\n",
       "        text-align: right;\n",
       "    }\n",
       "</style>\n",
       "<table border=\"1\" class=\"dataframe\">\n",
       "  <thead>\n",
       "    <tr style=\"text-align: right;\">\n",
       "      <th></th>\n",
       "      <th>Number of times pregnant</th>\n",
       "      <th>Plasma glucose concentration a 2 hours in an oral glucose tolerance test</th>\n",
       "      <th>Diastolic blood pressure (mm Hg)</th>\n",
       "      <th>Triceps skin fold thickness (mm)</th>\n",
       "      <th>2-Hour serum insulin (mu U/ml)</th>\n",
       "      <th>Body mass index (weight in kg/(height in m)^2)</th>\n",
       "      <th>Diabetes pedigree function</th>\n",
       "      <th>Age (years)</th>\n",
       "      <th>Class variable</th>\n",
       "    </tr>\n",
       "  </thead>\n",
       "  <tbody>\n",
       "    <tr>\n",
       "      <th>0</th>\n",
       "      <td>6</td>\n",
       "      <td>148</td>\n",
       "      <td>72</td>\n",
       "      <td>35</td>\n",
       "      <td>0</td>\n",
       "      <td>33.6</td>\n",
       "      <td>0.627</td>\n",
       "      <td>50</td>\n",
       "      <td>1</td>\n",
       "    </tr>\n",
       "    <tr>\n",
       "      <th>1</th>\n",
       "      <td>1</td>\n",
       "      <td>85</td>\n",
       "      <td>66</td>\n",
       "      <td>29</td>\n",
       "      <td>0</td>\n",
       "      <td>26.6</td>\n",
       "      <td>0.351</td>\n",
       "      <td>31</td>\n",
       "      <td>0</td>\n",
       "    </tr>\n",
       "    <tr>\n",
       "      <th>2</th>\n",
       "      <td>8</td>\n",
       "      <td>183</td>\n",
       "      <td>64</td>\n",
       "      <td>0</td>\n",
       "      <td>0</td>\n",
       "      <td>23.3</td>\n",
       "      <td>0.672</td>\n",
       "      <td>32</td>\n",
       "      <td>1</td>\n",
       "    </tr>\n",
       "    <tr>\n",
       "      <th>3</th>\n",
       "      <td>1</td>\n",
       "      <td>89</td>\n",
       "      <td>66</td>\n",
       "      <td>23</td>\n",
       "      <td>94</td>\n",
       "      <td>28.1</td>\n",
       "      <td>0.167</td>\n",
       "      <td>21</td>\n",
       "      <td>0</td>\n",
       "    </tr>\n",
       "    <tr>\n",
       "      <th>4</th>\n",
       "      <td>0</td>\n",
       "      <td>137</td>\n",
       "      <td>40</td>\n",
       "      <td>35</td>\n",
       "      <td>168</td>\n",
       "      <td>43.1</td>\n",
       "      <td>2.288</td>\n",
       "      <td>33</td>\n",
       "      <td>1</td>\n",
       "    </tr>\n",
       "  </tbody>\n",
       "</table>\n",
       "</div>"
      ],
      "text/plain": [
       "   Number of times pregnant  \\\n",
       "0                         6   \n",
       "1                         1   \n",
       "2                         8   \n",
       "3                         1   \n",
       "4                         0   \n",
       "\n",
       "   Plasma glucose concentration a 2 hours in an oral glucose tolerance test  \\\n",
       "0                                                148                          \n",
       "1                                                 85                          \n",
       "2                                                183                          \n",
       "3                                                 89                          \n",
       "4                                                137                          \n",
       "\n",
       "   Diastolic blood pressure (mm Hg)  Triceps skin fold thickness (mm)  \\\n",
       "0                                72                                35   \n",
       "1                                66                                29   \n",
       "2                                64                                 0   \n",
       "3                                66                                23   \n",
       "4                                40                                35   \n",
       "\n",
       "   2-Hour serum insulin (mu U/ml)  \\\n",
       "0                               0   \n",
       "1                               0   \n",
       "2                               0   \n",
       "3                              94   \n",
       "4                             168   \n",
       "\n",
       "   Body mass index (weight in kg/(height in m)^2)  Diabetes pedigree function  \\\n",
       "0                                            33.6                       0.627   \n",
       "1                                            26.6                       0.351   \n",
       "2                                            23.3                       0.672   \n",
       "3                                            28.1                       0.167   \n",
       "4                                            43.1                       2.288   \n",
       "\n",
       "   Age (years)  Class variable  \n",
       "0           50               1  \n",
       "1           31               0  \n",
       "2           32               1  \n",
       "3           21               0  \n",
       "4           33               1  "
      ]
     },
     "metadata": {},
     "output_type": "display_data"
    }
   ],
   "source": [
    "data = get_data('diabetes')\n",
    "new_data = data.drop(\"Class variable\", axis=1)\n",
    "labels = data[\"Class variable\"]"
   ]
  },
  {
   "cell_type": "code",
   "execution_count": 4,
   "metadata": {},
   "outputs": [],
   "source": [
    "ester_label = pd.read_csv(\"../data/esterase_labels.csv\", index_col=0)\n",
    "ester = \"-../data/esterase_features.xlsx\""
   ]
  },
  {
   "cell_type": "markdown",
   "metadata": {},
   "source": [
    "## Classification"
   ]
  },
  {
   "cell_type": "code",
   "execution_count": 1,
   "metadata": {},
   "outputs": [],
   "source": [
    "import BioML.models.classification as classification\n",
    "from collections import defaultdict\n",
    "from functools import partial\n",
    "import pandas as pd\n",
    "import numpy as np"
   ]
  },
  {
   "cell_type": "code",
   "execution_count": 2,
   "metadata": {},
   "outputs": [],
   "source": [
    "plot = (\"learning\", \"confusion_matrix\", \"class_report\")"
   ]
  },
  {
   "cell_type": "code",
   "execution_count": 3,
   "metadata": {},
   "outputs": [],
   "source": [
    "excel = pd.read_excel(\"../data/esterase_features.xlsx\", index_col=0, sheet_name=\"ch2_20\")\n",
    "label = pd.read_csv(\"../data/esterase_labels.csv\", index_col=0)\n",
    "l = pd.Series(label[\"label1\"])"
   ]
  },
  {
   "cell_type": "code",
   "execution_count": 4,
   "metadata": {},
   "outputs": [
    {
     "name": "stderr",
     "output_type": "stream",
     "text": [
      "28-03-2024 12:33:06 INFO ------------------------------------------------------------------------------\n",
      "28-03-2024 12:33:06 INFO PycaretInterface parameters\n",
      "28-03-2024 12:33:06 INFO Seed: 200\n",
      "28-03-2024 12:33:06 INFO Budget time: 20\n",
      "28-03-2024 12:33:06 INFO The number of models to select: 3\n",
      "28-03-2024 12:33:06 INFO Output path: classification_training\n",
      "28-03-2024 12:33:06 INFO ----------------Trainer inputs-------------------------\n",
      "28-03-2024 12:33:06 INFO Number of kfolds: 5\n",
      "28-03-2024 12:33:06 INFO Number of retuning iterations: 30\n"
     ]
    }
   ],
   "source": [
    "data = classification.DataParser(\"../data/esterase_features.xlsx\", \"../data/esterase_labels.csv\", sheets=\"ch2_20\")\n",
    "experiment = classification.PycaretInterface(\"classification\", 200, budget_time=20, best_model=3, \n",
    "                                  output_path=\"classification_training\", optimize=\"MCC\")\n",
    "classifier = classification.Classifier(test_size=0.2, optimize=\"MCC\", drop=())\n",
    "training = classification.Trainer(experiment, classifier, 5, 30)\n"
   ]
  },
  {
   "cell_type": "code",
   "execution_count": 5,
   "metadata": {},
   "outputs": [],
   "source": [
    "c = classification.split.ClusterSpliter(\"../data/resultsDB_clu.tsv\", 5, random_state=experiment.seed)\n",
    "X_train, X_test = c.train_test_split(data.features)"
   ]
  },
  {
   "cell_type": "code",
   "execution_count": 6,
   "metadata": {},
   "outputs": [
    {
     "name": "stderr",
     "output_type": "stream",
     "text": [
      "28-03-2024 12:33:06 INFO --------------------------------------------------------\n",
      "28-03-2024 12:33:06 INFO Training classification models\n",
      "28-03-2024 12:33:06 INFO The models used ['lr', 'knn', 'nb', 'dt', 'svm', 'rbfsvm', 'gpc', 'mlp', 'ridge', 'rf', 'qda', 'ada', 'gbc', 'lda', 'et', 'xgboost', 'lightgbm', 'catboost', 'dummy']\n",
      "28-03-2024 12:33:06 INFO Time budget is 20 minutes\n",
      "28-03-2024 12:33:09 INFO Model ridge trained in 0.039 minutes\n",
      "28-03-2024 12:33:11 INFO Model et trained in 0.034 minutes\n",
      "28-03-2024 12:33:12 INFO Model rbfsvm trained in 0.013 minutes\n",
      "28-03-2024 12:33:20 INFO Model catboost trained in 0.138 minutes\n",
      "28-03-2024 12:33:21 INFO Model dt trained in 0.015 minutes\n",
      "28-03-2024 12:33:22 INFO Model knn trained in 0.018 minutes\n",
      "28-03-2024 12:33:23 INFO Model lr trained in 0.013 minutes\n",
      "28-03-2024 12:33:24 INFO Model nb trained in 0.013 minutes\n",
      "28-03-2024 12:33:25 INFO Model gpc trained in 0.023 minutes\n",
      "28-03-2024 12:33:26 INFO Model xgboost trained in 0.015 minutes\n",
      "28-03-2024 12:33:27 INFO Model lda trained in 0.013 minutes\n",
      "28-03-2024 12:33:27 INFO Model ada trained in 0.016 minutes\n",
      "28-03-2024 12:33:28 INFO Model dummy trained in 0.012 minutes\n",
      "28-03-2024 12:33:29 INFO Model gbc trained in 0.015 minutes\n",
      "28-03-2024 12:33:31 INFO Model mlp trained in 0.024 minutes\n",
      "28-03-2024 12:33:31 INFO Model qda trained in 0.013 minutes\n",
      "28-03-2024 12:33:32 INFO Model svm trained in 0.013 minutes\n",
      "28-03-2024 12:35:08 INFO Model lightgbm trained in 1.602 minutes\n",
      "28-03-2024 12:35:09 INFO Model rf trained in 0.019 minutes\n",
      "28-03-2024 12:35:09 INFO Training over: Total runtime 2.047 minutes\n",
      "28-03-2024 12:35:09 INFO Analyse the best models and plotting them\n",
      "28-03-2024 12:35:09 INFO Analyse the top 1 model: qda\n",
      "28-03-2024 12:35:11 INFO Analyse the top 2 model: rbfsvm\n",
      "28-03-2024 12:35:12 INFO Analyse the top 3 model: ridge\n",
      "28-03-2024 12:35:13 INFO --------Stacking the best models--------\n",
      "28-03-2024 12:35:13 INFO ----------Stacking the best models--------------\n",
      "28-03-2024 12:35:14 INFO --------Creating an ensemble model--------\n",
      "28-03-2024 12:35:14 INFO ----------Creating a majority voting model--------------\n",
      "28-03-2024 12:35:14 INFO fold: 5\n",
      "28-03-2024 12:35:14 INFO weights: None\n",
      "28-03-2024 12:35:15 INFO --------Retuning the best models--------\n",
      "28-03-2024 12:35:15 INFO Retuning qda\n",
      "28-03-2024 12:35:15 INFO ---------Retuning the best models--------------\n",
      "28-03-2024 12:35:15 INFO num_iter: 30\n",
      "28-03-2024 12:35:15 INFO fold: 5\n",
      "28-03-2024 12:35:20 INFO Retuning rbfsvm\n",
      "28-03-2024 12:35:20 INFO ---------Retuning the best models--------------\n",
      "28-03-2024 12:35:20 INFO num_iter: 30\n",
      "28-03-2024 12:35:20 INFO fold: 5\n",
      "28-03-2024 12:35:24 INFO Retuning ridge\n",
      "28-03-2024 12:35:24 INFO ---------Retuning the best models--------------\n",
      "28-03-2024 12:35:24 INFO num_iter: 30\n",
      "28-03-2024 12:35:24 INFO fold: 5\n",
      "28-03-2024 12:35:28 INFO --------Stacking the best models--------\n",
      "28-03-2024 12:35:28 INFO ----------Stacking the best models--------------\n",
      "28-03-2024 12:35:30 INFO --------Creating an ensemble model--------\n",
      "28-03-2024 12:35:30 INFO ----------Creating a majority voting model--------------\n",
      "28-03-2024 12:35:30 INFO fold: 5\n",
      "28-03-2024 12:35:30 INFO weights: None\n",
      "28-03-2024 12:35:31 INFO Analyse the best models and plotting them\n",
      "28-03-2024 12:35:31 INFO Analyse the top 1 model: qda\n",
      "28-03-2024 12:35:32 INFO Analyse the top 2 model: rbfsvm\n",
      "28-03-2024 12:35:33 INFO Analyse the top 3 model: ridge\n"
     ]
    }
   ],
   "source": [
    "results, models = training.generate_training_results(X_train, data.label, tune=True, test_data=X_test, fold_strategy=c)"
   ]
  },
  {
   "cell_type": "code",
   "execution_count": 10,
   "metadata": {},
   "outputs": [
    {
     "data": {
      "text/html": [
       "<div>\n",
       "<style scoped>\n",
       "    .dataframe tbody tr th:only-of-type {\n",
       "        vertical-align: middle;\n",
       "    }\n",
       "\n",
       "    .dataframe tbody tr th {\n",
       "        vertical-align: top;\n",
       "    }\n",
       "\n",
       "    .dataframe thead th {\n",
       "        text-align: right;\n",
       "    }\n",
       "</style>\n",
       "<table border=\"1\" class=\"dataframe\">\n",
       "  <thead>\n",
       "    <tr style=\"text-align: right;\">\n",
       "      <th></th>\n",
       "      <th></th>\n",
       "      <th>Accuracy</th>\n",
       "      <th>AUC</th>\n",
       "      <th>Recall</th>\n",
       "      <th>Prec.</th>\n",
       "      <th>F1</th>\n",
       "      <th>Kappa</th>\n",
       "      <th>MCC</th>\n",
       "      <th>Average Precision Score</th>\n",
       "    </tr>\n",
       "    <tr>\n",
       "      <th>Split</th>\n",
       "      <th>Fold</th>\n",
       "      <th></th>\n",
       "      <th></th>\n",
       "      <th></th>\n",
       "      <th></th>\n",
       "      <th></th>\n",
       "      <th></th>\n",
       "      <th></th>\n",
       "      <th></th>\n",
       "    </tr>\n",
       "  </thead>\n",
       "  <tbody>\n",
       "    <tr>\n",
       "      <th rowspan=\"2\" valign=\"top\">CV-Train</th>\n",
       "      <th>Mean</th>\n",
       "      <td>0.7970</td>\n",
       "      <td>0.0</td>\n",
       "      <td>0.5742</td>\n",
       "      <td>0.8886</td>\n",
       "      <td>0.6936</td>\n",
       "      <td>0.5523</td>\n",
       "      <td>0.5837</td>\n",
       "      <td>0.0</td>\n",
       "    </tr>\n",
       "    <tr>\n",
       "      <th>Std</th>\n",
       "      <td>0.0213</td>\n",
       "      <td>0.0</td>\n",
       "      <td>0.0854</td>\n",
       "      <td>0.0159</td>\n",
       "      <td>0.0637</td>\n",
       "      <td>0.0637</td>\n",
       "      <td>0.0496</td>\n",
       "      <td>0.0</td>\n",
       "    </tr>\n",
       "    <tr>\n",
       "      <th rowspan=\"2\" valign=\"top\">CV-Val</th>\n",
       "      <th>Mean</th>\n",
       "      <td>0.7703</td>\n",
       "      <td>0.0</td>\n",
       "      <td>0.5353</td>\n",
       "      <td>0.8779</td>\n",
       "      <td>0.6455</td>\n",
       "      <td>0.4841</td>\n",
       "      <td>0.5253</td>\n",
       "      <td>0.0</td>\n",
       "    </tr>\n",
       "    <tr>\n",
       "      <th>Std</th>\n",
       "      <td>0.0597</td>\n",
       "      <td>0.0</td>\n",
       "      <td>0.1275</td>\n",
       "      <td>0.1119</td>\n",
       "      <td>0.0955</td>\n",
       "      <td>0.0949</td>\n",
       "      <td>0.0812</td>\n",
       "      <td>0.0</td>\n",
       "    </tr>\n",
       "  </tbody>\n",
       "</table>\n",
       "</div>"
      ],
      "text/plain": [
       "               Accuracy  AUC  Recall   Prec.      F1   Kappa     MCC  \\\n",
       "Split    Fold                                                          \n",
       "CV-Train Mean    0.7970  0.0  0.5742  0.8886  0.6936  0.5523  0.5837   \n",
       "         Std     0.0213  0.0  0.0854  0.0159  0.0637  0.0637  0.0496   \n",
       "CV-Val   Mean    0.7703  0.0  0.5353  0.8779  0.6455  0.4841  0.5253   \n",
       "         Std     0.0597  0.0  0.1275  0.1119  0.0955  0.0949  0.0812   \n",
       "\n",
       "               Average Precision Score  \n",
       "Split    Fold                           \n",
       "CV-Train Mean                      0.0  \n",
       "         Std                       0.0  \n",
       "CV-Val   Mean                      0.0  \n",
       "         Std                       0.0  "
      ]
     },
     "execution_count": 10,
     "metadata": {},
     "output_type": "execute_result"
    }
   ],
   "source": [
    "results[\"not_tuned\"][\"majority\"][0]"
   ]
  },
  {
   "cell_type": "code",
   "execution_count": 11,
   "metadata": {},
   "outputs": [
    {
     "data": {
      "text/html": [
       "<div>\n",
       "<style scoped>\n",
       "    .dataframe tbody tr th:only-of-type {\n",
       "        vertical-align: middle;\n",
       "    }\n",
       "\n",
       "    .dataframe tbody tr th {\n",
       "        vertical-align: top;\n",
       "    }\n",
       "\n",
       "    .dataframe thead th {\n",
       "        text-align: right;\n",
       "    }\n",
       "</style>\n",
       "<table border=\"1\" class=\"dataframe\">\n",
       "  <thead>\n",
       "    <tr style=\"text-align: right;\">\n",
       "      <th></th>\n",
       "      <th></th>\n",
       "      <th>Accuracy</th>\n",
       "      <th>AUC</th>\n",
       "      <th>Recall</th>\n",
       "      <th>Prec.</th>\n",
       "      <th>F1</th>\n",
       "      <th>Kappa</th>\n",
       "      <th>MCC</th>\n",
       "      <th>Average Precision Score</th>\n",
       "    </tr>\n",
       "    <tr>\n",
       "      <th>Split</th>\n",
       "      <th>Fold</th>\n",
       "      <th></th>\n",
       "      <th></th>\n",
       "      <th></th>\n",
       "      <th></th>\n",
       "      <th></th>\n",
       "      <th></th>\n",
       "      <th></th>\n",
       "      <th></th>\n",
       "    </tr>\n",
       "  </thead>\n",
       "  <tbody>\n",
       "    <tr>\n",
       "      <th rowspan=\"2\" valign=\"top\">CV-Train</th>\n",
       "      <th>Mean</th>\n",
       "      <td>0.7992</td>\n",
       "      <td>0.0</td>\n",
       "      <td>0.5905</td>\n",
       "      <td>0.8773</td>\n",
       "      <td>0.7027</td>\n",
       "      <td>0.5597</td>\n",
       "      <td>0.5864</td>\n",
       "      <td>0.0</td>\n",
       "    </tr>\n",
       "    <tr>\n",
       "      <th>Std</th>\n",
       "      <td>0.0170</td>\n",
       "      <td>0.0</td>\n",
       "      <td>0.0763</td>\n",
       "      <td>0.0177</td>\n",
       "      <td>0.0543</td>\n",
       "      <td>0.0532</td>\n",
       "      <td>0.0410</td>\n",
       "      <td>0.0</td>\n",
       "    </tr>\n",
       "    <tr>\n",
       "      <th rowspan=\"2\" valign=\"top\">CV-Val</th>\n",
       "      <th>Mean</th>\n",
       "      <td>0.7616</td>\n",
       "      <td>0.0</td>\n",
       "      <td>0.5535</td>\n",
       "      <td>0.8128</td>\n",
       "      <td>0.6364</td>\n",
       "      <td>0.4653</td>\n",
       "      <td>0.4961</td>\n",
       "      <td>0.0</td>\n",
       "    </tr>\n",
       "    <tr>\n",
       "      <th>Std</th>\n",
       "      <td>0.0538</td>\n",
       "      <td>0.0</td>\n",
       "      <td>0.1458</td>\n",
       "      <td>0.1267</td>\n",
       "      <td>0.1116</td>\n",
       "      <td>0.1051</td>\n",
       "      <td>0.0867</td>\n",
       "      <td>0.0</td>\n",
       "    </tr>\n",
       "  </tbody>\n",
       "</table>\n",
       "</div>"
      ],
      "text/plain": [
       "               Accuracy  AUC  Recall   Prec.      F1   Kappa     MCC  \\\n",
       "Split    Fold                                                          \n",
       "CV-Train Mean    0.7992  0.0  0.5905  0.8773  0.7027  0.5597  0.5864   \n",
       "         Std     0.0170  0.0  0.0763  0.0177  0.0543  0.0532  0.0410   \n",
       "CV-Val   Mean    0.7616  0.0  0.5535  0.8128  0.6364  0.4653  0.4961   \n",
       "         Std     0.0538  0.0  0.1458  0.1267  0.1116  0.1051  0.0867   \n",
       "\n",
       "               Average Precision Score  \n",
       "Split    Fold                           \n",
       "CV-Train Mean                      0.0  \n",
       "         Std                       0.0  \n",
       "CV-Val   Mean                      0.0  \n",
       "         Std                       0.0  "
      ]
     },
     "execution_count": 11,
     "metadata": {},
     "output_type": "execute_result"
    }
   ],
   "source": [
    "results[\"tuned\"][\"majority\"][0]"
   ]
  },
  {
   "cell_type": "code",
   "execution_count": 9,
   "metadata": {},
   "outputs": [
    {
     "data": {
      "text/plain": [
       "0.7044"
      ]
     },
     "execution_count": 9,
     "metadata": {},
     "output_type": "execute_result"
    }
   ],
   "source": [
    "results[\"not_tuned\"][\"holdout\"][0].loc[\"qda\"].loc[(\"CV-Train\", \"Mean\")][\"MCC\"]"
   ]
  },
  {
   "cell_type": "markdown",
   "metadata": {},
   "source": [
    "##### Acces the ClaasificationExperiment from Pycaret and play with teh models if you want"
   ]
  },
  {
   "cell_type": "code",
   "execution_count": 8,
   "metadata": {},
   "outputs": [
    {
     "data": {
      "text/plain": [
       "<pycaret.classification.oop.ClassificationExperiment at 0x1dd52a826d0>"
      ]
     },
     "execution_count": 8,
     "metadata": {},
     "output_type": "execute_result"
    }
   ],
   "source": [
    "experiment.pycaret"
   ]
  },
  {
   "cell_type": "code",
   "execution_count": 13,
   "metadata": {},
   "outputs": [],
   "source": [
    "test_set_predictions = training.generate_holdout_prediction(models)"
   ]
  },
  {
   "cell_type": "code",
   "execution_count": 14,
   "metadata": {},
   "outputs": [],
   "source": [
    "training_output = \"classification_results\"\n",
    "l = []\n",
    "for tune_status, result_dict in results.items():\n",
    "    for key, value in result_dict.items():\n",
    "        classification.write_results(f\"{training_output}/{tune_status}\", *value, sheet_name=key)\n",
    "    classification.write_results(f\"{training_output}/{tune_status}\", test_set_predictions[tune_status] , sheet_name=f\"test_results\")"
   ]
  },
  {
   "cell_type": "markdown",
   "metadata": {},
   "source": [
    "## Save Model from pre-trained"
   ]
  },
  {
   "cell_type": "code",
   "execution_count": 15,
   "metadata": {},
   "outputs": [],
   "source": [
    "from BioML.models import save_model"
   ]
  },
  {
   "cell_type": "code",
   "execution_count": 18,
   "metadata": {},
   "outputs": [
    {
     "name": "stderr",
     "output_type": "stream",
     "text": [
      "28-03-2024 12:38:51 INFO ----------Finalizing the model by training it with all the data including test set--------------\n"
     ]
    },
    {
     "name": "stdout",
     "output_type": "stream",
     "text": [
      "Transformation Pipeline and Model Successfully Saved\n"
     ]
    }
   ],
   "source": [
    "generate = save_model.GenerateModel(training)\n",
    "final_model = generate.finalize_model(models[\"tuned\"][\"majority\"])\n",
    "generate.save_model(final_model, \"model_output/majority\")"
   ]
  },
  {
   "cell_type": "markdown",
   "metadata": {},
   "source": [
    "## Save Model from scratch"
   ]
  },
  {
   "cell_type": "code",
   "execution_count": 12,
   "metadata": {},
   "outputs": [],
   "source": [
    "from BioML.models import save_model"
   ]
  },
  {
   "cell_type": "code",
   "execution_count": 17,
   "metadata": {},
   "outputs": [
    {
     "name": "stderr",
     "output_type": "stream",
     "text": [
      "27-03-2024 14:28:52 INFO ------------------------------------------------------------------------------\n",
      "27-03-2024 14:28:52 INFO PycaretInterface parameters\n",
      "27-03-2024 14:28:52 INFO Seed: 200\n",
      "27-03-2024 14:28:52 INFO Budget time: 20\n",
      "27-03-2024 14:28:52 INFO The number of models to select: 3\n",
      "27-03-2024 14:28:52 INFO Output path: classification_training\n",
      "27-03-2024 14:28:52 INFO ----------------Trainer inputs-------------------------\n",
      "27-03-2024 14:28:52 INFO Number of kfolds: 5\n",
      "27-03-2024 14:28:52 INFO Number of iterations: 30\n"
     ]
    }
   ],
   "source": [
    "data = save_model.DataParser(\"../data/esterase_features.xlsx\", \"../data/esterase_labels.csv\", sheets=\"ch2_20\")\n",
    "experiment = save_model.PycaretInterface(\"classification\", 200, budget_time=20, best_model=3, \n",
    "                                  output_path=\"classification_training\", optimize=\"MCC\", experiment_name=\"generate_model\")\n",
    "classifier = save_model.Classifier(test_size=0.2, optimize=\"MCC\", selected=(\"qda\", \"rbfsvm\", \"ridge\"))\n",
    "training = save_model.Trainer(experiment, classifier, 5, 30)\n"
   ]
  },
  {
   "cell_type": "code",
   "execution_count": 18,
   "metadata": {},
   "outputs": [
    {
     "data": {
      "text/plain": [
       "'lr'"
      ]
     },
     "execution_count": 18,
     "metadata": {},
     "output_type": "execute_result"
    }
   ],
   "source": [
    "regressor.selected"
   ]
  },
  {
   "cell_type": "code",
   "execution_count": 19,
   "metadata": {},
   "outputs": [
    {
     "name": "stderr",
     "output_type": "stream",
     "text": [
      "2024/03/27 14:28:55 INFO mlflow.tracking.fluent: Experiment with name 'generate_model' does not exist. Creating a new experiment.\n",
      "27-03-2024 14:28:56 INFO --------------------------------------------------------\n",
      "27-03-2024 14:28:56 INFO Training classification models\n",
      "27-03-2024 14:28:56 INFO The models used ['lr']\n",
      "27-03-2024 14:28:56 INFO Time budget is 20 minutes\n",
      "27-03-2024 14:29:01 INFO Model lr trained in 0.092 minutes\n",
      "27-03-2024 14:29:01 INFO Training over: Total runtime 0.092 minutes\n"
     ]
    },
    {
     "name": "stdout",
     "output_type": "stream",
     "text": [
      "Model lr trained in 0.092 minutes\n"
     ]
    }
   ],
   "source": [
    "sorted_results, sorted_models, top_params = training.run_training(data.features, data.label)"
   ]
  },
  {
   "cell_type": "code",
   "execution_count": 20,
   "metadata": {},
   "outputs": [
    {
     "name": "stderr",
     "output_type": "stream",
     "text": [
      "27-03-2024 14:29:02 INFO ----------Finalizing the model by training it with all the data including test set--------------\n"
     ]
    },
    {
     "name": "stdout",
     "output_type": "stream",
     "text": [
      "Transformation Pipeline and Model Successfully Saved\n"
     ]
    }
   ],
   "source": [
    "generate = save_model.GenerateModel(training)\n",
    "models =  generate.train_by_strategy(sorted_models, \"majority\")\n",
    "final_model = generate.finalize_model(models)\n",
    "generate.save_model(final_model, \"model_output/logistic\")"
   ]
  },
  {
   "cell_type": "markdown",
   "metadata": {},
   "source": [
    "## Prediction"
   ]
  },
  {
   "cell_type": "code",
   "execution_count": 22,
   "metadata": {},
   "outputs": [],
   "source": [
    "from BioML.models import predict\n",
    "import pandas as pd\n",
    "import numpy as np\n",
    "from scipy.spatial import distance"
   ]
  },
  {
   "cell_type": "code",
   "execution_count": 23,
   "metadata": {},
   "outputs": [],
   "source": [
    "training_features = \"../data/esterase_features.xlsx\"\n",
    "label = \"../data/esterase_labels.csv\"\n",
    "test_features = \"../data/esterase_features.xlsx\"\n",
    "outlier_train=()\n",
    "outlier_test=()\n",
    "sheet_name=\"ch2_20\"\n",
    "problem=\"classification\"\n",
    "model_path=\"model_output/majority\"\n",
    "scaler=\"zscore\""
   ]
  },
  {
   "cell_type": "markdown",
   "metadata": {},
   "source": [
    "#### generate the predictions"
   ]
  },
  {
   "cell_type": "code",
   "execution_count": 40,
   "metadata": {},
   "outputs": [],
   "source": [
    "feature = predict.DataParser(training_features, label, outliers=outlier_train, sheets=sheet_name)\n",
    "test_features = feature.remove_outliers(feature.read_features(test_features, \"ch2_20\"), outlier_test)\n",
    "predictions = predict.predict(test_features, model_path, problem)\n"
   ]
  },
  {
   "cell_type": "markdown",
   "metadata": {},
   "source": [
    "#### Optional if you want to filter predictions based if that test sample is within the applicability domain"
   ]
  },
  {
   "cell_type": "markdown",
   "metadata": {},
   "source": [
    "Applicability domain compares eucleadian distance between the features from the training and features from the test.   \n",
    "If the distance is far from a set threshold then that prediction is discarded since it deviates from the samples the model have seen during training"
   ]
  },
  {
   "cell_type": "code",
   "execution_count": 41,
   "metadata": {},
   "outputs": [],
   "source": [
    "transformed, scaler_dict, test_x = predict.scale(scaler, feature.drop(), test_features)\n",
    "filtered_pred = predict.domain_filter(predictions, transformed, test_x, 5) # it returns the predictions appended to the features"
   ]
  },
  {
   "cell_type": "code",
   "execution_count": 44,
   "metadata": {},
   "outputs": [
    {
     "data": {
      "text/plain": [
       "((120, 20), (147, 19))"
      ]
     },
     "execution_count": 44,
     "metadata": {},
     "output_type": "execute_result"
    }
   ],
   "source": [
    "filtered_pred.shape, predictions.shape"
   ]
  },
  {
   "cell_type": "code",
   "execution_count": null,
   "metadata": {},
   "outputs": [],
   "source": [
    " # if you don't apply the domain filter, you can just use the predictions but you have to change the index to sample_0, sample_1, etc\n",
    "predictions.index = [f\"sample_{x}\" for x, _ in enumerate(predictions.index)]\n",
    "col_name = [\"prediction_score\", \"prediction_label\", \"AD_number\"]\n",
    "predictions = predictions.loc[:, predictions.columns.str.contains(\"|\".join(col_name))] # only keep the columns with the prediction scores"
   ]
  },
  {
   "cell_type": "markdown",
   "metadata": {},
   "source": [
    "### Separate the fasta file into positive or negative"
   ]
  },
  {
   "cell_type": "code",
   "execution_count": 34,
   "metadata": {},
   "outputs": [],
   "source": [
    "fasta = \"../data/whole_sequence.fasta\"\n",
    "res_dir = \"prediction_results_domain\""
   ]
  },
  {
   "cell_type": "code",
   "execution_count": 35,
   "metadata": {},
   "outputs": [],
   "source": [
    "extractor = predict.FastaExtractor(fasta, res_dir)\n",
    "positive, negative = extractor.separate_negative_positive(predictions)\n"
   ]
  },
  {
   "cell_type": "code",
   "execution_count": 36,
   "metadata": {},
   "outputs": [],
   "source": [
    "extractor.extract(positive, negative, positive_fasta=f\"positive.fasta\", negative_fasta=f\"negative.fasta\")"
   ]
  }
 ],
 "metadata": {
  "kernelspec": {
   "display_name": "bioml",
   "language": "python",
   "name": "python3"
  },
  "language_info": {
   "codemirror_mode": {
    "name": "ipython",
    "version": 3
   },
   "file_extension": ".py",
   "mimetype": "text/x-python",
   "name": "python",
   "nbconvert_exporter": "python",
   "pygments_lexer": "ipython3",
   "version": "3.10.13"
  },
  "orig_nbformat": 4
 },
 "nbformat": 4,
 "nbformat_minor": 2
}
