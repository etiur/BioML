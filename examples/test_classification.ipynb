{
 "cells": [
  {
   "cell_type": "code",
   "execution_count": 1,
   "metadata": {},
   "outputs": [],
   "source": [
    "\n",
    "from functools import partial\n",
    "import pandas as pd\n",
    "import time\n",
    "from sklearn.feature_selection import VarianceThreshold\n",
    "from sklearn.ensemble import RandomForestRegressor as rfr\n",
    "import shap\n",
    "import xgboost as xgb\n",
    "import numpy as np"
   ]
  },
  {
   "cell_type": "markdown",
   "metadata": {},
   "source": [
    "### Models"
   ]
  },
  {
   "cell_type": "code",
   "execution_count": 2,
   "metadata": {},
   "outputs": [],
   "source": [
    "from BioML.features import selection\n",
    "from pycaret.datasets import get_data\n",
    "import pandas as pd\n",
    "from sklearn.model_selection import train_test_split\n",
    "from pathlib import Path"
   ]
  },
  {
   "cell_type": "code",
   "execution_count": 3,
   "metadata": {},
   "outputs": [
    {
     "data": {
      "text/html": [
       "<div>\n",
       "<style scoped>\n",
       "    .dataframe tbody tr th:only-of-type {\n",
       "        vertical-align: middle;\n",
       "    }\n",
       "\n",
       "    .dataframe tbody tr th {\n",
       "        vertical-align: top;\n",
       "    }\n",
       "\n",
       "    .dataframe thead th {\n",
       "        text-align: right;\n",
       "    }\n",
       "</style>\n",
       "<table border=\"1\" class=\"dataframe\">\n",
       "  <thead>\n",
       "    <tr style=\"text-align: right;\">\n",
       "      <th></th>\n",
       "      <th>Number of times pregnant</th>\n",
       "      <th>Plasma glucose concentration a 2 hours in an oral glucose tolerance test</th>\n",
       "      <th>Diastolic blood pressure (mm Hg)</th>\n",
       "      <th>Triceps skin fold thickness (mm)</th>\n",
       "      <th>2-Hour serum insulin (mu U/ml)</th>\n",
       "      <th>Body mass index (weight in kg/(height in m)^2)</th>\n",
       "      <th>Diabetes pedigree function</th>\n",
       "      <th>Age (years)</th>\n",
       "      <th>Class variable</th>\n",
       "    </tr>\n",
       "  </thead>\n",
       "  <tbody>\n",
       "    <tr>\n",
       "      <th>0</th>\n",
       "      <td>6</td>\n",
       "      <td>148</td>\n",
       "      <td>72</td>\n",
       "      <td>35</td>\n",
       "      <td>0</td>\n",
       "      <td>33.6</td>\n",
       "      <td>0.627</td>\n",
       "      <td>50</td>\n",
       "      <td>1</td>\n",
       "    </tr>\n",
       "    <tr>\n",
       "      <th>1</th>\n",
       "      <td>1</td>\n",
       "      <td>85</td>\n",
       "      <td>66</td>\n",
       "      <td>29</td>\n",
       "      <td>0</td>\n",
       "      <td>26.6</td>\n",
       "      <td>0.351</td>\n",
       "      <td>31</td>\n",
       "      <td>0</td>\n",
       "    </tr>\n",
       "    <tr>\n",
       "      <th>2</th>\n",
       "      <td>8</td>\n",
       "      <td>183</td>\n",
       "      <td>64</td>\n",
       "      <td>0</td>\n",
       "      <td>0</td>\n",
       "      <td>23.3</td>\n",
       "      <td>0.672</td>\n",
       "      <td>32</td>\n",
       "      <td>1</td>\n",
       "    </tr>\n",
       "    <tr>\n",
       "      <th>3</th>\n",
       "      <td>1</td>\n",
       "      <td>89</td>\n",
       "      <td>66</td>\n",
       "      <td>23</td>\n",
       "      <td>94</td>\n",
       "      <td>28.1</td>\n",
       "      <td>0.167</td>\n",
       "      <td>21</td>\n",
       "      <td>0</td>\n",
       "    </tr>\n",
       "    <tr>\n",
       "      <th>4</th>\n",
       "      <td>0</td>\n",
       "      <td>137</td>\n",
       "      <td>40</td>\n",
       "      <td>35</td>\n",
       "      <td>168</td>\n",
       "      <td>43.1</td>\n",
       "      <td>2.288</td>\n",
       "      <td>33</td>\n",
       "      <td>1</td>\n",
       "    </tr>\n",
       "  </tbody>\n",
       "</table>\n",
       "</div>"
      ],
      "text/plain": [
       "   Number of times pregnant  \\\n",
       "0                         6   \n",
       "1                         1   \n",
       "2                         8   \n",
       "3                         1   \n",
       "4                         0   \n",
       "\n",
       "   Plasma glucose concentration a 2 hours in an oral glucose tolerance test  \\\n",
       "0                                                148                          \n",
       "1                                                 85                          \n",
       "2                                                183                          \n",
       "3                                                 89                          \n",
       "4                                                137                          \n",
       "\n",
       "   Diastolic blood pressure (mm Hg)  Triceps skin fold thickness (mm)  \\\n",
       "0                                72                                35   \n",
       "1                                66                                29   \n",
       "2                                64                                 0   \n",
       "3                                66                                23   \n",
       "4                                40                                35   \n",
       "\n",
       "   2-Hour serum insulin (mu U/ml)  \\\n",
       "0                               0   \n",
       "1                               0   \n",
       "2                               0   \n",
       "3                              94   \n",
       "4                             168   \n",
       "\n",
       "   Body mass index (weight in kg/(height in m)^2)  Diabetes pedigree function  \\\n",
       "0                                            33.6                       0.627   \n",
       "1                                            26.6                       0.351   \n",
       "2                                            23.3                       0.672   \n",
       "3                                            28.1                       0.167   \n",
       "4                                            43.1                       2.288   \n",
       "\n",
       "   Age (years)  Class variable  \n",
       "0           50               1  \n",
       "1           31               0  \n",
       "2           32               1  \n",
       "3           21               0  \n",
       "4           33               1  "
      ]
     },
     "metadata": {},
     "output_type": "display_data"
    }
   ],
   "source": [
    "data = get_data('diabetes')\n",
    "new_data = data.drop(\"Class variable\", axis=1)\n",
    "labels = data[\"Class variable\"]"
   ]
  },
  {
   "cell_type": "code",
   "execution_count": 4,
   "metadata": {},
   "outputs": [],
   "source": [
    "ester_label = pd.read_csv(\"../data/esterase_labels.csv\", index_col=0)\n",
    "ester = \"-../data/esterase_features.xlsx\""
   ]
  },
  {
   "cell_type": "markdown",
   "metadata": {},
   "source": [
    "## Classification"
   ]
  },
  {
   "cell_type": "code",
   "execution_count": 5,
   "metadata": {},
   "outputs": [],
   "source": [
    "import BioML.models.classification as classification\n",
    "from collections import defaultdict\n",
    "from functools import partial\n",
    "import pandas as pd\n",
    "import numpy as np"
   ]
  },
  {
   "cell_type": "code",
   "execution_count": 6,
   "metadata": {},
   "outputs": [],
   "source": [
    "plot = (\"learning\", \"confusion_matrix\", \"class_report\")"
   ]
  },
  {
   "cell_type": "code",
   "execution_count": 7,
   "metadata": {},
   "outputs": [],
   "source": [
    "excel = pd.read_excel(\"../data/esterase_features.xlsx\", index_col=0, sheet_name=\"ch2_20\")\n",
    "label = pd.read_csv(\"../data/esterase_labels.csv\", index_col=0)\n",
    "l = pd.Series(label[\"label1\"])"
   ]
  },
  {
   "cell_type": "code",
   "execution_count": 8,
   "metadata": {},
   "outputs": [
    {
     "name": "stderr",
     "output_type": "stream",
     "text": [
      "27-03-2024 14:06:26 INFO ------------------------------------------------------------------------------\n",
      "27-03-2024 14:06:26 INFO PycaretInterface parameters\n",
      "27-03-2024 14:06:26 INFO Seed: 200\n",
      "27-03-2024 14:06:26 INFO Budget time: 20\n",
      "27-03-2024 14:06:26 INFO The number of models to select: 3\n",
      "27-03-2024 14:06:26 INFO Output path: classification_training\n",
      "27-03-2024 14:06:26 INFO ----------------Trainer inputs-------------------------\n",
      "27-03-2024 14:06:26 INFO Number of kfolds: 5\n",
      "27-03-2024 14:06:26 INFO Number of iterations: 30\n"
     ]
    }
   ],
   "source": [
    "data = classification.DataParser(\"../data/esterase_features.xlsx\", \"../data/esterase_labels.csv\", sheets=\"ch2_20\")\n",
    "experiment = classification.PycaretInterface(\"classification\", 200, budget_time=20, best_model=3, \n",
    "                                  output_path=\"classification_training\", optimize=\"MCC\")\n",
    "regressor = classification.Classifier(test_size=0.2, optimize=\"MCC\")\n",
    "training = classification.Trainer(experiment, regressor, 5, 30)\n"
   ]
  },
  {
   "cell_type": "code",
   "execution_count": null,
   "metadata": {},
   "outputs": [],
   "source": []
  },
  {
   "cell_type": "code",
   "execution_count": 11,
   "metadata": {},
   "outputs": [],
   "source": [
    "c = classification.split.ClusterSpliter(\"../data/resultsDB_clu.tsv\", 2, random_state=experiment.seed)\n",
    "X_train, X_test = c.train_test_split(data.features)"
   ]
  },
  {
   "cell_type": "code",
   "execution_count": 12,
   "metadata": {},
   "outputs": [
    {
     "name": "stderr",
     "output_type": "stream",
     "text": [
      "27-03-2024 14:14:49 INFO --------------------------------------------------------\n",
      "27-03-2024 14:14:49 INFO Training classification models\n",
      "27-03-2024 14:14:49 INFO The models used ['rf', 'lda', 'rbfsvm', 'et', 'dt', 'knn', 'xgboost', 'nb', 'mlp', 'catboost', 'ridge', 'dummy', 'svm', 'lr', 'qda', 'gbc']\n",
      "27-03-2024 14:14:49 INFO Time budget is 20 minutes\n",
      "27-03-2024 14:14:55 INFO Model mlp trained in 0.1 minutes\n"
     ]
    },
    {
     "name": "stdout",
     "output_type": "stream",
     "text": [
      "Model mlp trained in 0.1 minutes\n"
     ]
    },
    {
     "name": "stderr",
     "output_type": "stream",
     "text": [
      "27-03-2024 14:14:59 INFO Model dummy trained in 0.065 minutes\n"
     ]
    },
    {
     "name": "stdout",
     "output_type": "stream",
     "text": [
      "Model dummy trained in 0.065 minutes\n"
     ]
    },
    {
     "name": "stderr",
     "output_type": "stream",
     "text": [
      "27-03-2024 14:15:03 INFO Model knn trained in 0.07 minutes\n"
     ]
    },
    {
     "name": "stdout",
     "output_type": "stream",
     "text": [
      "Model knn trained in 0.07 minutes\n"
     ]
    },
    {
     "name": "stderr",
     "output_type": "stream",
     "text": [
      "27-03-2024 14:15:07 INFO Model svm trained in 0.068 minutes\n"
     ]
    },
    {
     "name": "stdout",
     "output_type": "stream",
     "text": [
      "Model svm trained in 0.068 minutes\n"
     ]
    },
    {
     "name": "stderr",
     "output_type": "stream",
     "text": [
      "27-03-2024 14:15:12 INFO Model et trained in 0.074 minutes\n"
     ]
    },
    {
     "name": "stdout",
     "output_type": "stream",
     "text": [
      "Model et trained in 0.074 minutes\n"
     ]
    },
    {
     "name": "stderr",
     "output_type": "stream",
     "text": [
      "27-03-2024 14:15:16 INFO Model lda trained in 0.07 minutes\n"
     ]
    },
    {
     "name": "stdout",
     "output_type": "stream",
     "text": [
      "Model lda trained in 0.07 minutes\n"
     ]
    },
    {
     "name": "stderr",
     "output_type": "stream",
     "text": [
      "27-03-2024 14:15:18 INFO Model lr trained in 0.032 minutes\n"
     ]
    },
    {
     "name": "stdout",
     "output_type": "stream",
     "text": [
      "Model lr trained in 0.032 minutes\n"
     ]
    },
    {
     "name": "stderr",
     "output_type": "stream",
     "text": [
      "27-03-2024 14:15:20 INFO Model rbfsvm trained in 0.033 minutes\n"
     ]
    },
    {
     "name": "stdout",
     "output_type": "stream",
     "text": [
      "Model rbfsvm trained in 0.033 minutes\n"
     ]
    },
    {
     "name": "stderr",
     "output_type": "stream",
     "text": [
      "27-03-2024 14:15:22 INFO Model xgboost trained in 0.04 minutes\n"
     ]
    },
    {
     "name": "stdout",
     "output_type": "stream",
     "text": [
      "Model xgboost trained in 0.04 minutes\n"
     ]
    },
    {
     "name": "stderr",
     "output_type": "stream",
     "text": [
      "27-03-2024 14:15:24 INFO Model qda trained in 0.03 minutes\n"
     ]
    },
    {
     "name": "stdout",
     "output_type": "stream",
     "text": [
      "Model qda trained in 0.03 minutes\n"
     ]
    },
    {
     "name": "stderr",
     "output_type": "stream",
     "text": [
      "27-03-2024 14:15:27 INFO Model nb trained in 0.039 minutes\n"
     ]
    },
    {
     "name": "stdout",
     "output_type": "stream",
     "text": [
      "Model nb trained in 0.039 minutes\n"
     ]
    },
    {
     "name": "stderr",
     "output_type": "stream",
     "text": [
      "27-03-2024 14:15:30 INFO Model gbc trained in 0.056 minutes\n"
     ]
    },
    {
     "name": "stdout",
     "output_type": "stream",
     "text": [
      "Model gbc trained in 0.056 minutes\n"
     ]
    },
    {
     "name": "stderr",
     "output_type": "stream",
     "text": [
      "27-03-2024 14:15:32 INFO Model dt trained in 0.042 minutes\n"
     ]
    },
    {
     "name": "stdout",
     "output_type": "stream",
     "text": [
      "Model dt trained in 0.042 minutes\n"
     ]
    },
    {
     "name": "stderr",
     "output_type": "stream",
     "text": [
      "27-03-2024 14:15:35 INFO Model rf trained in 0.05 minutes\n"
     ]
    },
    {
     "name": "stdout",
     "output_type": "stream",
     "text": [
      "Model rf trained in 0.05 minutes\n"
     ]
    },
    {
     "name": "stderr",
     "output_type": "stream",
     "text": [
      "27-03-2024 14:15:43 INFO Model catboost trained in 0.123 minutes\n"
     ]
    },
    {
     "name": "stdout",
     "output_type": "stream",
     "text": [
      "Model catboost trained in 0.123 minutes\n"
     ]
    },
    {
     "name": "stderr",
     "output_type": "stream",
     "text": [
      "27-03-2024 14:15:45 INFO Model ridge trained in 0.04 minutes\n",
      "27-03-2024 14:15:45 INFO Training over: Total runtime 0.934 minutes\n",
      "27-03-2024 14:15:45 INFO Analyse the best models and plotting them\n",
      "27-03-2024 14:15:45 INFO Analyse the top 1 model: knn\n"
     ]
    },
    {
     "name": "stdout",
     "output_type": "stream",
     "text": [
      "Model ridge trained in 0.04 minutes\n"
     ]
    },
    {
     "name": "stderr",
     "output_type": "stream",
     "text": [
      "27-03-2024 14:15:47 INFO Analyse the top 2 model: et\n",
      "27-03-2024 14:15:49 INFO Analyse the top 3 model: rbfsvm\n",
      "27-03-2024 14:15:50 INFO --------Stacking the best models--------\n",
      "27-03-2024 14:15:50 INFO ----------Stacking the best models--------------\n",
      "27-03-2024 14:15:54 INFO --------Creating an ensemble model--------\n",
      "27-03-2024 14:15:54 INFO ----------Creating a majority voting model--------------\n",
      "27-03-2024 14:15:54 INFO fold: 5\n",
      "27-03-2024 14:15:54 INFO weights: None\n",
      "27-03-2024 14:15:57 INFO --------Retuning the best models--------\n",
      "27-03-2024 14:15:57 INFO Retuning knn\n",
      "27-03-2024 14:15:57 INFO ---------Retuning the best models--------------\n",
      "27-03-2024 14:15:57 INFO num_iter: 30\n",
      "27-03-2024 14:15:57 INFO fold: 5\n",
      "27-03-2024 14:16:04 INFO Retuning et\n",
      "27-03-2024 14:16:04 INFO ---------Retuning the best models--------------\n",
      "27-03-2024 14:16:04 INFO num_iter: 30\n",
      "27-03-2024 14:16:04 INFO fold: 5\n",
      "27-03-2024 14:16:25 INFO Retuning rbfsvm\n",
      "27-03-2024 14:16:25 INFO ---------Retuning the best models--------------\n",
      "27-03-2024 14:16:25 INFO num_iter: 30\n",
      "27-03-2024 14:16:25 INFO fold: 5\n",
      "27-03-2024 14:16:32 INFO --------Stacking the best models--------\n",
      "27-03-2024 14:16:32 INFO ----------Stacking the best models--------------\n",
      "27-03-2024 14:16:37 INFO --------Creating an ensemble model--------\n",
      "27-03-2024 14:16:37 INFO ----------Creating a majority voting model--------------\n",
      "27-03-2024 14:16:37 INFO fold: 5\n",
      "27-03-2024 14:16:37 INFO weights: None\n",
      "27-03-2024 14:16:42 INFO Analyse the best models and plotting them\n",
      "27-03-2024 14:16:42 INFO Analyse the top 1 model: knn\n",
      "27-03-2024 14:16:43 INFO Analyse the top 2 model: et\n",
      "27-03-2024 14:16:46 INFO Analyse the top 3 model: rbfsvm\n"
     ]
    }
   ],
   "source": [
    "results, models = training.generate_training_results(X_train, data.label, tune=True, \n",
    "                                                           test_data=X_test, fold_strategy=c)"
   ]
  },
  {
   "cell_type": "markdown",
   "metadata": {},
   "source": [
    "##### Acces the ClaasificationExperiment from Pycaret and play with teh models if you want"
   ]
  },
  {
   "cell_type": "code",
   "execution_count": 8,
   "metadata": {},
   "outputs": [
    {
     "data": {
      "text/plain": [
       "<pycaret.classification.oop.ClassificationExperiment at 0x1dd52a826d0>"
      ]
     },
     "execution_count": 8,
     "metadata": {},
     "output_type": "execute_result"
    }
   ],
   "source": [
    "experiment.pycaret"
   ]
  },
  {
   "cell_type": "code",
   "execution_count": 11,
   "metadata": {},
   "outputs": [],
   "source": [
    "test_set_predictions = training.generate_holdout_prediction(models)"
   ]
  },
  {
   "cell_type": "code",
   "execution_count": 14,
   "metadata": {},
   "outputs": [],
   "source": [
    "training_output = \"classification_results\"\n",
    "l = []\n",
    "for tune_status, result_dict in results.items():\n",
    "    for key, value in result_dict.items():\n",
    "        classification.write_results(f\"{training_output}/{tune_status}\", *value, sheet_name=key)\n",
    "    classification.write_results(f\"{training_output}/{tune_status}\", test_set_predictions[tune_status] , sheet_name=f\"test_results\")"
   ]
  },
  {
   "cell_type": "markdown",
   "metadata": {},
   "source": [
    "## Generate Models"
   ]
  },
  {
   "cell_type": "code",
   "execution_count": 16,
   "metadata": {},
   "outputs": [],
   "source": [
    "from BioML.models import save_model"
   ]
  },
  {
   "cell_type": "code",
   "execution_count": 17,
   "metadata": {},
   "outputs": [
    {
     "name": "stderr",
     "output_type": "stream",
     "text": [
      "27-03-2024 14:28:52 INFO ------------------------------------------------------------------------------\n",
      "27-03-2024 14:28:52 INFO PycaretInterface parameters\n",
      "27-03-2024 14:28:52 INFO Seed: 200\n",
      "27-03-2024 14:28:52 INFO Budget time: 20\n",
      "27-03-2024 14:28:52 INFO The number of models to select: 3\n",
      "27-03-2024 14:28:52 INFO Output path: classification_training\n",
      "27-03-2024 14:28:52 INFO ----------------Trainer inputs-------------------------\n",
      "27-03-2024 14:28:52 INFO Number of kfolds: 5\n",
      "27-03-2024 14:28:52 INFO Number of iterations: 30\n"
     ]
    }
   ],
   "source": [
    "data = save_model.DataParser(\"../data/esterase_features.xlsx\", \"../data/esterase_labels.csv\", sheets=\"ch2_20\")\n",
    "experiment = save_model.PycaretInterface(\"classification\", 200, budget_time=20, best_model=3, \n",
    "                                  output_path=\"classification_training\", optimize=\"MCC\", experiment_name=\"generate_model\")\n",
    "regressor = save_model.Classifier(test_size=0.2, optimize=\"MCC\", selected=\"lr\")\n",
    "training = save_model.Trainer(experiment, regressor, 5, 30)\n"
   ]
  },
  {
   "cell_type": "code",
   "execution_count": 18,
   "metadata": {},
   "outputs": [
    {
     "data": {
      "text/plain": [
       "'lr'"
      ]
     },
     "execution_count": 18,
     "metadata": {},
     "output_type": "execute_result"
    }
   ],
   "source": [
    "regressor.selected"
   ]
  },
  {
   "cell_type": "code",
   "execution_count": 19,
   "metadata": {},
   "outputs": [
    {
     "name": "stderr",
     "output_type": "stream",
     "text": [
      "2024/03/27 14:28:55 INFO mlflow.tracking.fluent: Experiment with name 'generate_model' does not exist. Creating a new experiment.\n",
      "27-03-2024 14:28:56 INFO --------------------------------------------------------\n",
      "27-03-2024 14:28:56 INFO Training classification models\n",
      "27-03-2024 14:28:56 INFO The models used ['lr']\n",
      "27-03-2024 14:28:56 INFO Time budget is 20 minutes\n",
      "27-03-2024 14:29:01 INFO Model lr trained in 0.092 minutes\n",
      "27-03-2024 14:29:01 INFO Training over: Total runtime 0.092 minutes\n"
     ]
    },
    {
     "name": "stdout",
     "output_type": "stream",
     "text": [
      "Model lr trained in 0.092 minutes\n"
     ]
    }
   ],
   "source": [
    "sorted_results, sorted_models, top_params = training.run_training(data.features, data.label)"
   ]
  },
  {
   "cell_type": "code",
   "execution_count": 20,
   "metadata": {},
   "outputs": [
    {
     "name": "stderr",
     "output_type": "stream",
     "text": [
      "27-03-2024 14:29:02 INFO ----------Finalizing the model by training it with all the data including test set--------------\n"
     ]
    },
    {
     "name": "stdout",
     "output_type": "stream",
     "text": [
      "Transformation Pipeline and Model Successfully Saved\n"
     ]
    }
   ],
   "source": [
    "generate = save_model.GenerateModel(training)\n",
    "models =  generate.train_by_strategy(sorted_models, \"simple:0\")\n",
    "final_model = generate.finalize_model(models)\n",
    "generate.save_model(final_model, \"model_output/logistic\")"
   ]
  },
  {
   "cell_type": "markdown",
   "metadata": {},
   "source": [
    "## Prediction"
   ]
  },
  {
   "cell_type": "code",
   "execution_count": 13,
   "metadata": {},
   "outputs": [],
   "source": [
    "from BioML.models import predict\n",
    "import pandas as pd\n",
    "import numpy as np\n",
    "from scipy.spatial import distance"
   ]
  },
  {
   "cell_type": "code",
   "execution_count": 21,
   "metadata": {},
   "outputs": [],
   "source": [
    "training_features = \"../data/esterase_features.xlsx\"\n",
    "label = \"../data/esterase_labels.csv\"\n",
    "test_features = \"../data/esterase_features.xlsx\"\n",
    "outlier_train=()\n",
    "outlier_test=()\n",
    "sheet_name=\"ch2_20\"\n",
    "problem=\"classification\"\n",
    "model_path=\"model_output/logistic\"\n",
    "scaler=\"zscore\""
   ]
  },
  {
   "cell_type": "code",
   "execution_count": 23,
   "metadata": {},
   "outputs": [
    {
     "data": {
      "text/html": [
       "<div>\n",
       "<style scoped>\n",
       "    .dataframe tbody tr th:only-of-type {\n",
       "        vertical-align: middle;\n",
       "    }\n",
       "\n",
       "    .dataframe tbody tr th {\n",
       "        vertical-align: top;\n",
       "    }\n",
       "\n",
       "    .dataframe thead th {\n",
       "        text-align: right;\n",
       "    }\n",
       "</style>\n",
       "<table border=\"1\" class=\"dataframe\">\n",
       "  <thead>\n",
       "    <tr style=\"text-align: right;\">\n",
       "      <th></th>\n",
       "      <th>hydrophobicity_FASG890101.2.residue25</th>\n",
       "      <th>alphaticr.negativecharger.gap5</th>\n",
       "      <th>BHAR880101.lag9_moran</th>\n",
       "      <th>tri_gram_pssm7077</th>\n",
       "      <th>tri_gram_pssm286</th>\n",
       "      <th>tri_gram_pssm466</th>\n",
       "      <th>tri_gram_pssm3493</th>\n",
       "      <th>tri_gram_pssm1298</th>\n",
       "      <th>tri_gram_pssm5728</th>\n",
       "      <th>tri_gram_pssm7468</th>\n",
       "      <th>tri_gram_pssm1297</th>\n",
       "      <th>tri_gram_pssm4023</th>\n",
       "      <th>tri_gram_pssm3159</th>\n",
       "      <th>tri_gram_pssm7678</th>\n",
       "      <th>tri_gram_pssm7234</th>\n",
       "      <th>tri_gram_pssm5801</th>\n",
       "      <th>tri_gram_pssm5367</th>\n",
       "      <th>tri_gram_pssm7177</th>\n",
       "    </tr>\n",
       "    <tr>\n",
       "      <th>#</th>\n",
       "      <th></th>\n",
       "      <th></th>\n",
       "      <th></th>\n",
       "      <th></th>\n",
       "      <th></th>\n",
       "      <th></th>\n",
       "      <th></th>\n",
       "      <th></th>\n",
       "      <th></th>\n",
       "      <th></th>\n",
       "      <th></th>\n",
       "      <th></th>\n",
       "      <th></th>\n",
       "      <th></th>\n",
       "      <th></th>\n",
       "      <th></th>\n",
       "      <th></th>\n",
       "      <th></th>\n",
       "    </tr>\n",
       "  </thead>\n",
       "  <tbody>\n",
       "    <tr>\n",
       "      <th>EH1(72)</th>\n",
       "      <td>22.857143</td>\n",
       "      <td>0.055016</td>\n",
       "      <td>-0.102575</td>\n",
       "      <td>0.065363</td>\n",
       "      <td>0.832237</td>\n",
       "      <td>0.442684</td>\n",
       "      <td>0.180234</td>\n",
       "      <td>0.089845</td>\n",
       "      <td>0.490688</td>\n",
       "      <td>0.179098</td>\n",
       "      <td>0.027139</td>\n",
       "      <td>0.624236</td>\n",
       "      <td>0.273944</td>\n",
       "      <td>0.460827</td>\n",
       "      <td>0.272559</td>\n",
       "      <td>0.612637</td>\n",
       "      <td>0.401477</td>\n",
       "      <td>0.029163</td>\n",
       "    </tr>\n",
       "    <tr>\n",
       "      <th>EH2(71)</th>\n",
       "      <td>25.513196</td>\n",
       "      <td>0.053731</td>\n",
       "      <td>-0.068227</td>\n",
       "      <td>0.067360</td>\n",
       "      <td>0.645581</td>\n",
       "      <td>0.449828</td>\n",
       "      <td>0.113174</td>\n",
       "      <td>0.094496</td>\n",
       "      <td>0.332225</td>\n",
       "      <td>0.160173</td>\n",
       "      <td>0.024556</td>\n",
       "      <td>0.627025</td>\n",
       "      <td>0.241681</td>\n",
       "      <td>0.361142</td>\n",
       "      <td>0.294981</td>\n",
       "      <td>0.617432</td>\n",
       "      <td>0.372408</td>\n",
       "      <td>0.028312</td>\n",
       "    </tr>\n",
       "    <tr>\n",
       "      <th>EH3(69)</th>\n",
       "      <td>27.873563</td>\n",
       "      <td>0.055556</td>\n",
       "      <td>-0.010242</td>\n",
       "      <td>0.021795</td>\n",
       "      <td>0.756387</td>\n",
       "      <td>0.481429</td>\n",
       "      <td>0.207077</td>\n",
       "      <td>0.123859</td>\n",
       "      <td>0.046267</td>\n",
       "      <td>0.153389</td>\n",
       "      <td>0.032419</td>\n",
       "      <td>0.578253</td>\n",
       "      <td>0.229875</td>\n",
       "      <td>0.456541</td>\n",
       "      <td>0.315422</td>\n",
       "      <td>0.460896</td>\n",
       "      <td>0.360463</td>\n",
       "      <td>0.011199</td>\n",
       "    </tr>\n",
       "    <tr>\n",
       "      <th>CalB(68)</th>\n",
       "      <td>21.806854</td>\n",
       "      <td>0.034921</td>\n",
       "      <td>-0.083474</td>\n",
       "      <td>0.006633</td>\n",
       "      <td>0.097950</td>\n",
       "      <td>0.037538</td>\n",
       "      <td>0.015682</td>\n",
       "      <td>0.006383</td>\n",
       "      <td>0.026272</td>\n",
       "      <td>0.007791</td>\n",
       "      <td>0.003719</td>\n",
       "      <td>0.093919</td>\n",
       "      <td>0.022174</td>\n",
       "      <td>0.039728</td>\n",
       "      <td>0.034692</td>\n",
       "      <td>0.132978</td>\n",
       "      <td>0.032155</td>\n",
       "      <td>0.005397</td>\n",
       "    </tr>\n",
       "    <tr>\n",
       "      <th>EH4(67)</th>\n",
       "      <td>25.730994</td>\n",
       "      <td>0.053571</td>\n",
       "      <td>-0.103226</td>\n",
       "      <td>0.065890</td>\n",
       "      <td>0.685630</td>\n",
       "      <td>0.458253</td>\n",
       "      <td>0.117385</td>\n",
       "      <td>0.102536</td>\n",
       "      <td>0.358012</td>\n",
       "      <td>0.155480</td>\n",
       "      <td>0.025488</td>\n",
       "      <td>0.620764</td>\n",
       "      <td>0.234235</td>\n",
       "      <td>0.351025</td>\n",
       "      <td>0.277734</td>\n",
       "      <td>0.608569</td>\n",
       "      <td>0.365297</td>\n",
       "      <td>0.027124</td>\n",
       "    </tr>\n",
       "    <tr>\n",
       "      <th>...</th>\n",
       "      <td>...</td>\n",
       "      <td>...</td>\n",
       "      <td>...</td>\n",
       "      <td>...</td>\n",
       "      <td>...</td>\n",
       "      <td>...</td>\n",
       "      <td>...</td>\n",
       "      <td>...</td>\n",
       "      <td>...</td>\n",
       "      <td>...</td>\n",
       "      <td>...</td>\n",
       "      <td>...</td>\n",
       "      <td>...</td>\n",
       "      <td>...</td>\n",
       "      <td>...</td>\n",
       "      <td>...</td>\n",
       "      <td>...</td>\n",
       "      <td>...</td>\n",
       "    </tr>\n",
       "    <tr>\n",
       "      <th>EH141(1)</th>\n",
       "      <td>26.797386</td>\n",
       "      <td>0.050773</td>\n",
       "      <td>-0.079524</td>\n",
       "      <td>0.006679</td>\n",
       "      <td>0.134293</td>\n",
       "      <td>0.070896</td>\n",
       "      <td>0.014058</td>\n",
       "      <td>0.003704</td>\n",
       "      <td>0.031492</td>\n",
       "      <td>0.015362</td>\n",
       "      <td>0.001344</td>\n",
       "      <td>0.183355</td>\n",
       "      <td>0.036559</td>\n",
       "      <td>0.034975</td>\n",
       "      <td>0.038975</td>\n",
       "      <td>0.141937</td>\n",
       "      <td>0.026144</td>\n",
       "      <td>0.003584</td>\n",
       "    </tr>\n",
       "    <tr>\n",
       "      <th>EH142(1)</th>\n",
       "      <td>32.676056</td>\n",
       "      <td>0.034384</td>\n",
       "      <td>0.002960</td>\n",
       "      <td>0.001735</td>\n",
       "      <td>0.103232</td>\n",
       "      <td>0.054376</td>\n",
       "      <td>0.016582</td>\n",
       "      <td>0.007587</td>\n",
       "      <td>0.015728</td>\n",
       "      <td>0.009787</td>\n",
       "      <td>0.008807</td>\n",
       "      <td>0.106868</td>\n",
       "      <td>0.027981</td>\n",
       "      <td>0.123676</td>\n",
       "      <td>0.035153</td>\n",
       "      <td>0.083529</td>\n",
       "      <td>0.015107</td>\n",
       "      <td>0.001517</td>\n",
       "    </tr>\n",
       "    <tr>\n",
       "      <th>EH143(1)</th>\n",
       "      <td>27.921093</td>\n",
       "      <td>0.064319</td>\n",
       "      <td>0.048037</td>\n",
       "      <td>0.005556</td>\n",
       "      <td>0.089063</td>\n",
       "      <td>0.102606</td>\n",
       "      <td>0.022504</td>\n",
       "      <td>0.006974</td>\n",
       "      <td>0.024215</td>\n",
       "      <td>0.031432</td>\n",
       "      <td>0.002388</td>\n",
       "      <td>0.184709</td>\n",
       "      <td>0.029490</td>\n",
       "      <td>0.134652</td>\n",
       "      <td>0.072092</td>\n",
       "      <td>0.177750</td>\n",
       "      <td>0.035943</td>\n",
       "      <td>0.004516</td>\n",
       "    </tr>\n",
       "    <tr>\n",
       "      <th>EH144(1)</th>\n",
       "      <td>23.611111</td>\n",
       "      <td>0.028571</td>\n",
       "      <td>-0.022539</td>\n",
       "      <td>0.002426</td>\n",
       "      <td>0.040774</td>\n",
       "      <td>0.031842</td>\n",
       "      <td>0.004587</td>\n",
       "      <td>0.004792</td>\n",
       "      <td>0.010700</td>\n",
       "      <td>0.006292</td>\n",
       "      <td>0.003681</td>\n",
       "      <td>0.071764</td>\n",
       "      <td>0.016577</td>\n",
       "      <td>0.036162</td>\n",
       "      <td>0.019665</td>\n",
       "      <td>0.027724</td>\n",
       "      <td>0.009666</td>\n",
       "      <td>0.004640</td>\n",
       "    </tr>\n",
       "    <tr>\n",
       "      <th>EH145(1)</th>\n",
       "      <td>22.769231</td>\n",
       "      <td>0.040752</td>\n",
       "      <td>-0.071947</td>\n",
       "      <td>0.004418</td>\n",
       "      <td>0.062490</td>\n",
       "      <td>0.034162</td>\n",
       "      <td>0.020488</td>\n",
       "      <td>0.007325</td>\n",
       "      <td>0.021449</td>\n",
       "      <td>0.011990</td>\n",
       "      <td>0.005467</td>\n",
       "      <td>0.093325</td>\n",
       "      <td>0.033920</td>\n",
       "      <td>0.054643</td>\n",
       "      <td>0.026898</td>\n",
       "      <td>0.068620</td>\n",
       "      <td>0.031391</td>\n",
       "      <td>0.007553</td>\n",
       "    </tr>\n",
       "  </tbody>\n",
       "</table>\n",
       "<p>147 rows × 18 columns</p>\n",
       "</div>"
      ],
      "text/plain": [
       "          hydrophobicity_FASG890101.2.residue25  \\\n",
       "#                                                 \n",
       "EH1(72)                               22.857143   \n",
       "EH2(71)                               25.513196   \n",
       "EH3(69)                               27.873563   \n",
       "CalB(68)                              21.806854   \n",
       "EH4(67)                               25.730994   \n",
       "...                                         ...   \n",
       "EH141(1)                              26.797386   \n",
       "EH142(1)                              32.676056   \n",
       "EH143(1)                              27.921093   \n",
       "EH144(1)                              23.611111   \n",
       "EH145(1)                              22.769231   \n",
       "\n",
       "          alphaticr.negativecharger.gap5  BHAR880101.lag9_moran  \\\n",
       "#                                                                 \n",
       "EH1(72)                         0.055016              -0.102575   \n",
       "EH2(71)                         0.053731              -0.068227   \n",
       "EH3(69)                         0.055556              -0.010242   \n",
       "CalB(68)                        0.034921              -0.083474   \n",
       "EH4(67)                         0.053571              -0.103226   \n",
       "...                                  ...                    ...   \n",
       "EH141(1)                        0.050773              -0.079524   \n",
       "EH142(1)                        0.034384               0.002960   \n",
       "EH143(1)                        0.064319               0.048037   \n",
       "EH144(1)                        0.028571              -0.022539   \n",
       "EH145(1)                        0.040752              -0.071947   \n",
       "\n",
       "          tri_gram_pssm7077  tri_gram_pssm286  tri_gram_pssm466  \\\n",
       "#                                                                 \n",
       "EH1(72)            0.065363          0.832237          0.442684   \n",
       "EH2(71)            0.067360          0.645581          0.449828   \n",
       "EH3(69)            0.021795          0.756387          0.481429   \n",
       "CalB(68)           0.006633          0.097950          0.037538   \n",
       "EH4(67)            0.065890          0.685630          0.458253   \n",
       "...                     ...               ...               ...   \n",
       "EH141(1)           0.006679          0.134293          0.070896   \n",
       "EH142(1)           0.001735          0.103232          0.054376   \n",
       "EH143(1)           0.005556          0.089063          0.102606   \n",
       "EH144(1)           0.002426          0.040774          0.031842   \n",
       "EH145(1)           0.004418          0.062490          0.034162   \n",
       "\n",
       "          tri_gram_pssm3493  tri_gram_pssm1298  tri_gram_pssm5728  \\\n",
       "#                                                                   \n",
       "EH1(72)            0.180234           0.089845           0.490688   \n",
       "EH2(71)            0.113174           0.094496           0.332225   \n",
       "EH3(69)            0.207077           0.123859           0.046267   \n",
       "CalB(68)           0.015682           0.006383           0.026272   \n",
       "EH4(67)            0.117385           0.102536           0.358012   \n",
       "...                     ...                ...                ...   \n",
       "EH141(1)           0.014058           0.003704           0.031492   \n",
       "EH142(1)           0.016582           0.007587           0.015728   \n",
       "EH143(1)           0.022504           0.006974           0.024215   \n",
       "EH144(1)           0.004587           0.004792           0.010700   \n",
       "EH145(1)           0.020488           0.007325           0.021449   \n",
       "\n",
       "          tri_gram_pssm7468  tri_gram_pssm1297  tri_gram_pssm4023  \\\n",
       "#                                                                   \n",
       "EH1(72)            0.179098           0.027139           0.624236   \n",
       "EH2(71)            0.160173           0.024556           0.627025   \n",
       "EH3(69)            0.153389           0.032419           0.578253   \n",
       "CalB(68)           0.007791           0.003719           0.093919   \n",
       "EH4(67)            0.155480           0.025488           0.620764   \n",
       "...                     ...                ...                ...   \n",
       "EH141(1)           0.015362           0.001344           0.183355   \n",
       "EH142(1)           0.009787           0.008807           0.106868   \n",
       "EH143(1)           0.031432           0.002388           0.184709   \n",
       "EH144(1)           0.006292           0.003681           0.071764   \n",
       "EH145(1)           0.011990           0.005467           0.093325   \n",
       "\n",
       "          tri_gram_pssm3159  tri_gram_pssm7678  tri_gram_pssm7234  \\\n",
       "#                                                                   \n",
       "EH1(72)            0.273944           0.460827           0.272559   \n",
       "EH2(71)            0.241681           0.361142           0.294981   \n",
       "EH3(69)            0.229875           0.456541           0.315422   \n",
       "CalB(68)           0.022174           0.039728           0.034692   \n",
       "EH4(67)            0.234235           0.351025           0.277734   \n",
       "...                     ...                ...                ...   \n",
       "EH141(1)           0.036559           0.034975           0.038975   \n",
       "EH142(1)           0.027981           0.123676           0.035153   \n",
       "EH143(1)           0.029490           0.134652           0.072092   \n",
       "EH144(1)           0.016577           0.036162           0.019665   \n",
       "EH145(1)           0.033920           0.054643           0.026898   \n",
       "\n",
       "          tri_gram_pssm5801  tri_gram_pssm5367  tri_gram_pssm7177  \n",
       "#                                                                  \n",
       "EH1(72)            0.612637           0.401477           0.029163  \n",
       "EH2(71)            0.617432           0.372408           0.028312  \n",
       "EH3(69)            0.460896           0.360463           0.011199  \n",
       "CalB(68)           0.132978           0.032155           0.005397  \n",
       "EH4(67)            0.608569           0.365297           0.027124  \n",
       "...                     ...                ...                ...  \n",
       "EH141(1)           0.141937           0.026144           0.003584  \n",
       "EH142(1)           0.083529           0.015107           0.001517  \n",
       "EH143(1)           0.177750           0.035943           0.004516  \n",
       "EH144(1)           0.027724           0.009666           0.004640  \n",
       "EH145(1)           0.068620           0.031391           0.007553  \n",
       "\n",
       "[147 rows x 18 columns]"
      ]
     },
     "execution_count": 23,
     "metadata": {},
     "output_type": "execute_result"
    }
   ],
   "source": [
    "test_features"
   ]
  },
  {
   "cell_type": "code",
   "execution_count": 26,
   "metadata": {},
   "outputs": [],
   "source": [
    "feature = predict.DataParser(training_features, label, outliers=outlier_train, sheets=sheet_name)\n",
    "test_features = feature.remove_outliers(feature.read_features(test_features, \"ch2_20\"), outlier_test)\n",
    "predictions = predict.predict(test_features, model_path, problem)\n"
   ]
  },
  {
   "cell_type": "code",
   "execution_count": 44,
   "metadata": {},
   "outputs": [],
   "source": [
    "transformed, scaler_dict, test_x = predict.scale(scaler, feature.drop(), test_features)\n",
    "domain = predict.ApplicabilityDomain()\n",
    "domain0 = predict.domain_filter(predictions, transformed, test_x, 5)"
   ]
  },
  {
   "cell_type": "code",
   "execution_count": 45,
   "metadata": {},
   "outputs": [],
   "source": [
    "fasta = \"../data/whole_sequence.fasta\"\n",
    "res_dir = \"prediction_results_domain\""
   ]
  },
  {
   "cell_type": "code",
   "execution_count": 46,
   "metadata": {},
   "outputs": [],
   "source": [
    "predictions.index = [f\"sample_{x}\" for x, _ in enumerate(predictions.index)]"
   ]
  },
  {
   "cell_type": "code",
   "execution_count": 47,
   "metadata": {},
   "outputs": [],
   "source": [
    "col_name = [\"prediction_score\", \"prediction_label\", \"AD_number\"]\n",
    "predictions = predictions.loc[:, predictions.columns.str.contains(\"|\".join(col_name))]"
   ]
  },
  {
   "cell_type": "code",
   "execution_count": 48,
   "metadata": {},
   "outputs": [],
   "source": [
    "extractor = predict.FastaExtractor(fasta, res_dir)\n",
    "positive, negative = extractor.separate_negative_positive(domain0)\n"
   ]
  },
  {
   "cell_type": "code",
   "execution_count": 49,
   "metadata": {},
   "outputs": [],
   "source": [
    "extractor.extract(positive, negative, positive_fasta=f\"positive.fasta\", negative_fasta=f\"negative.fasta\")"
   ]
  },
  {
   "cell_type": "code",
   "execution_count": null,
   "metadata": {},
   "outputs": [],
   "source": []
  }
 ],
 "metadata": {
  "kernelspec": {
   "display_name": "bioml",
   "language": "python",
   "name": "python3"
  },
  "language_info": {
   "codemirror_mode": {
    "name": "ipython",
    "version": 3
   },
   "file_extension": ".py",
   "mimetype": "text/x-python",
   "name": "python",
   "nbconvert_exporter": "python",
   "pygments_lexer": "ipython3",
   "version": "3.11.6"
  },
  "orig_nbformat": 4
 },
 "nbformat": 4,
 "nbformat_minor": 2
}
