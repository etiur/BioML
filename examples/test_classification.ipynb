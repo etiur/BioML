{
 "cells": [
  {
   "cell_type": "code",
   "execution_count": 1,
   "metadata": {},
   "outputs": [],
   "source": [
    "\n",
    "from functools import partial\n",
    "import pandas as pd\n",
    "import time\n",
    "from sklearn.feature_selection import VarianceThreshold\n",
    "from sklearn.ensemble import RandomForestRegressor as rfr\n",
    "import shap\n",
    "import xgboost as xgb\n",
    "import numpy as np"
   ]
  },
  {
   "cell_type": "markdown",
   "metadata": {},
   "source": [
    "### Models"
   ]
  },
  {
   "cell_type": "code",
   "execution_count": 2,
   "metadata": {},
   "outputs": [],
   "source": [
    "from BioML.features import selection\n",
    "from pycaret.datasets import get_data\n",
    "import pandas as pd\n",
    "from sklearn.model_selection import train_test_split\n",
    "from pathlib import Path"
   ]
  },
  {
   "cell_type": "code",
   "execution_count": 3,
   "metadata": {},
   "outputs": [
    {
     "data": {
      "text/html": [
       "<div>\n",
       "<style scoped>\n",
       "    .dataframe tbody tr th:only-of-type {\n",
       "        vertical-align: middle;\n",
       "    }\n",
       "\n",
       "    .dataframe tbody tr th {\n",
       "        vertical-align: top;\n",
       "    }\n",
       "\n",
       "    .dataframe thead th {\n",
       "        text-align: right;\n",
       "    }\n",
       "</style>\n",
       "<table border=\"1\" class=\"dataframe\">\n",
       "  <thead>\n",
       "    <tr style=\"text-align: right;\">\n",
       "      <th></th>\n",
       "      <th>Number of times pregnant</th>\n",
       "      <th>Plasma glucose concentration a 2 hours in an oral glucose tolerance test</th>\n",
       "      <th>Diastolic blood pressure (mm Hg)</th>\n",
       "      <th>Triceps skin fold thickness (mm)</th>\n",
       "      <th>2-Hour serum insulin (mu U/ml)</th>\n",
       "      <th>Body mass index (weight in kg/(height in m)^2)</th>\n",
       "      <th>Diabetes pedigree function</th>\n",
       "      <th>Age (years)</th>\n",
       "      <th>Class variable</th>\n",
       "    </tr>\n",
       "  </thead>\n",
       "  <tbody>\n",
       "    <tr>\n",
       "      <th>0</th>\n",
       "      <td>6</td>\n",
       "      <td>148</td>\n",
       "      <td>72</td>\n",
       "      <td>35</td>\n",
       "      <td>0</td>\n",
       "      <td>33.6</td>\n",
       "      <td>0.627</td>\n",
       "      <td>50</td>\n",
       "      <td>1</td>\n",
       "    </tr>\n",
       "    <tr>\n",
       "      <th>1</th>\n",
       "      <td>1</td>\n",
       "      <td>85</td>\n",
       "      <td>66</td>\n",
       "      <td>29</td>\n",
       "      <td>0</td>\n",
       "      <td>26.6</td>\n",
       "      <td>0.351</td>\n",
       "      <td>31</td>\n",
       "      <td>0</td>\n",
       "    </tr>\n",
       "    <tr>\n",
       "      <th>2</th>\n",
       "      <td>8</td>\n",
       "      <td>183</td>\n",
       "      <td>64</td>\n",
       "      <td>0</td>\n",
       "      <td>0</td>\n",
       "      <td>23.3</td>\n",
       "      <td>0.672</td>\n",
       "      <td>32</td>\n",
       "      <td>1</td>\n",
       "    </tr>\n",
       "    <tr>\n",
       "      <th>3</th>\n",
       "      <td>1</td>\n",
       "      <td>89</td>\n",
       "      <td>66</td>\n",
       "      <td>23</td>\n",
       "      <td>94</td>\n",
       "      <td>28.1</td>\n",
       "      <td>0.167</td>\n",
       "      <td>21</td>\n",
       "      <td>0</td>\n",
       "    </tr>\n",
       "    <tr>\n",
       "      <th>4</th>\n",
       "      <td>0</td>\n",
       "      <td>137</td>\n",
       "      <td>40</td>\n",
       "      <td>35</td>\n",
       "      <td>168</td>\n",
       "      <td>43.1</td>\n",
       "      <td>2.288</td>\n",
       "      <td>33</td>\n",
       "      <td>1</td>\n",
       "    </tr>\n",
       "  </tbody>\n",
       "</table>\n",
       "</div>"
      ],
      "text/plain": [
       "   Number of times pregnant  \\\n",
       "0                         6   \n",
       "1                         1   \n",
       "2                         8   \n",
       "3                         1   \n",
       "4                         0   \n",
       "\n",
       "   Plasma glucose concentration a 2 hours in an oral glucose tolerance test  \\\n",
       "0                                                148                          \n",
       "1                                                 85                          \n",
       "2                                                183                          \n",
       "3                                                 89                          \n",
       "4                                                137                          \n",
       "\n",
       "   Diastolic blood pressure (mm Hg)  Triceps skin fold thickness (mm)  \\\n",
       "0                                72                                35   \n",
       "1                                66                                29   \n",
       "2                                64                                 0   \n",
       "3                                66                                23   \n",
       "4                                40                                35   \n",
       "\n",
       "   2-Hour serum insulin (mu U/ml)  \\\n",
       "0                               0   \n",
       "1                               0   \n",
       "2                               0   \n",
       "3                              94   \n",
       "4                             168   \n",
       "\n",
       "   Body mass index (weight in kg/(height in m)^2)  Diabetes pedigree function  \\\n",
       "0                                            33.6                       0.627   \n",
       "1                                            26.6                       0.351   \n",
       "2                                            23.3                       0.672   \n",
       "3                                            28.1                       0.167   \n",
       "4                                            43.1                       2.288   \n",
       "\n",
       "   Age (years)  Class variable  \n",
       "0           50               1  \n",
       "1           31               0  \n",
       "2           32               1  \n",
       "3           21               0  \n",
       "4           33               1  "
      ]
     },
     "metadata": {},
     "output_type": "display_data"
    }
   ],
   "source": [
    "data = get_data('diabetes')\n",
    "new_data = data.drop(\"Class variable\", axis=1)\n",
    "labels = data[\"Class variable\"]"
   ]
  },
  {
   "cell_type": "code",
   "execution_count": 4,
   "metadata": {},
   "outputs": [],
   "source": [
    "ester_label = pd.read_csv(\"../data/esterase_labels.csv\", index_col=0)\n",
    "ester = \"-../data/esterase_features.xlsx\""
   ]
  },
  {
   "cell_type": "markdown",
   "metadata": {},
   "source": [
    "## Classification"
   ]
  },
  {
   "cell_type": "code",
   "execution_count": 5,
   "metadata": {},
   "outputs": [],
   "source": [
    "import BioML.models.classification as classification\n",
    "from collections import defaultdict\n",
    "from functools import partial\n",
    "import pandas as pd\n",
    "import numpy as np"
   ]
  },
  {
   "cell_type": "code",
   "execution_count": 6,
   "metadata": {},
   "outputs": [],
   "source": [
    "plot = (\"learning\", \"confusion_matrix\", \"class_report\")"
   ]
  },
  {
   "cell_type": "code",
   "execution_count": 7,
   "metadata": {},
   "outputs": [],
   "source": [
    "excel = pd.read_excel(\"../data/esterase_features.xlsx\", index_col=0, sheet_name=\"ch2_20\")\n",
    "label = pd.read_csv(\"../data/esterase_labels.csv\", index_col=0)\n",
    "l = pd.Series(label[\"label1\"])"
   ]
  },
  {
   "cell_type": "code",
   "execution_count": 8,
   "metadata": {},
   "outputs": [
    {
     "name": "stderr",
     "output_type": "stream",
     "text": [
      "23-02-2024 13:36:43 INFO ------------------------------------------------------------------------------\n",
      "23-02-2024 13:36:43 INFO PycaretInterface parameters\n",
      "23-02-2024 13:36:43 INFO Seed: 200\n",
      "23-02-2024 13:36:43 INFO Budget time: 20\n",
      "23-02-2024 13:36:43 INFO The number of models to select: 3\n",
      "23-02-2024 13:36:43 INFO Output path: classification_training\n",
      "23-02-2024 13:36:43 INFO ----------------Trainer inputs-------------------------\n",
      "23-02-2024 13:36:43 INFO Number of kfolds: 5\n",
      "23-02-2024 13:36:43 INFO Number of iterations: 30\n"
     ]
    }
   ],
   "source": [
    "data = classification.DataParser(\"../data/esterase_features.xlsx\", \"../data/esterase_labels.csv\", sheets=\"ch2_20\")\n",
    "experiment = classification.PycaretInterface(\"classification\", 200, budget_time=20, best_model=3, \n",
    "                                  output_path=\"classification_training\", optimize=\"MCC\")\n",
    "regressor = classification.Classifier(test_size=0.2, optimize=\"MCC\")\n",
    "training = classification.Trainer(experiment, regressor, 5, 30)\n"
   ]
  },
  {
   "cell_type": "code",
   "execution_count": 9,
   "metadata": {},
   "outputs": [],
   "source": [
    "c = classification.split.ClusterSpliter(\"../data/resultsDB_clu.tsv\", 5, random_state=experiment.seed, test_size=0.2)\n",
    "X_train, X_test = c.train_test_split(data.features)"
   ]
  },
  {
   "cell_type": "code",
   "execution_count": 10,
   "metadata": {},
   "outputs": [
    {
     "name": "stderr",
     "output_type": "stream",
     "text": [
      "2024/02/23 13:36:47 INFO mlflow.tracking.fluent: Experiment with name 'Classification' does not exist. Creating a new experiment.\n",
      "23-02-2024 13:36:48 INFO --------------------------------------------------------\n",
      "23-02-2024 13:36:48 INFO Training classification models\n",
      "23-02-2024 13:36:48 INFO The models used ['lr', 'knn', 'nb', 'dt', 'svm', 'rbfsvm', 'mlp', 'ridge', 'rf', 'qda', 'gbc', 'lda', 'et', 'xgboost', 'catboost', 'dummy']\n",
      "23-02-2024 13:36:48 INFO Time budget is 20 minutes\n",
      "23-02-2024 13:37:31 INFO Training over: Total runtime 0.72 minutes\n",
      "23-02-2024 13:37:31 INFO Analyse the best models and plotting them\n",
      "23-02-2024 13:37:31 INFO Analyse the top 1 model: qda\n",
      "23-02-2024 13:37:33 INFO Analyse the top 2 model: et\n",
      "23-02-2024 13:37:35 INFO Analyse the top 3 model: rbfsvm\n",
      "23-02-2024 13:37:36 INFO --------Stacking the best models--------\n",
      "23-02-2024 13:37:36 INFO ----------Stacking the best models--------------\n",
      "23-02-2024 13:37:39 INFO --------Creating an ensemble model--------\n",
      "23-02-2024 13:37:39 INFO ----------Creating a majority voting model--------------\n",
      "23-02-2024 13:37:39 INFO fold: 5\n",
      "23-02-2024 13:37:39 INFO weights: None\n",
      "23-02-2024 13:37:42 INFO --------Retuning the best models--------\n",
      "23-02-2024 13:37:42 INFO Retuning qda\n",
      "23-02-2024 13:37:42 INFO ---------Retuning the best models--------------\n",
      "23-02-2024 13:37:42 INFO num_iter: 30\n",
      "23-02-2024 13:37:42 INFO fold: 5\n",
      "23-02-2024 13:37:47 INFO Retuning et\n",
      "23-02-2024 13:37:47 INFO ---------Retuning the best models--------------\n",
      "23-02-2024 13:37:47 INFO num_iter: 30\n",
      "23-02-2024 13:37:47 INFO fold: 5\n",
      "23-02-2024 13:38:22 INFO Retuning rbfsvm\n",
      "23-02-2024 13:38:22 INFO ---------Retuning the best models--------------\n",
      "23-02-2024 13:38:22 INFO num_iter: 30\n",
      "23-02-2024 13:38:22 INFO fold: 5\n",
      "23-02-2024 13:38:27 INFO --------Stacking the best models--------\n",
      "23-02-2024 13:38:27 INFO ----------Stacking the best models--------------\n",
      "23-02-2024 13:38:30 INFO --------Creating an ensemble model--------\n",
      "23-02-2024 13:38:30 INFO ----------Creating a majority voting model--------------\n",
      "23-02-2024 13:38:30 INFO fold: 5\n",
      "23-02-2024 13:38:30 INFO weights: None\n"
     ]
    }
   ],
   "source": [
    "results, models = training.generate_training_results(X_train, data.label, tune=True, \n",
    "                                                           test_data=X_test, fold_strategy=c)"
   ]
  },
  {
   "cell_type": "markdown",
   "metadata": {},
   "source": [
    "##### Acces the ClaasificationExperiment from Pycaret and play with teh models if you want"
   ]
  },
  {
   "cell_type": "code",
   "execution_count": 8,
   "metadata": {},
   "outputs": [
    {
     "data": {
      "text/plain": [
       "<pycaret.classification.oop.ClassificationExperiment at 0x1dd52a826d0>"
      ]
     },
     "execution_count": 8,
     "metadata": {},
     "output_type": "execute_result"
    }
   ],
   "source": [
    "experiment.pycaret"
   ]
  },
  {
   "cell_type": "code",
   "execution_count": 11,
   "metadata": {},
   "outputs": [],
   "source": [
    "test_set_predictions = training.generate_holdout_prediction(models)"
   ]
  },
  {
   "cell_type": "code",
   "execution_count": 14,
   "metadata": {},
   "outputs": [],
   "source": [
    "training_output = \"classification_results\"\n",
    "l = []\n",
    "for tune_status, result_dict in results.items():\n",
    "    for key, value in result_dict.items():\n",
    "        classification.write_results(f\"{training_output}/{tune_status}\", *value, sheet_name=key)\n",
    "    classification.write_results(f\"{training_output}/{tune_status}\", test_set_predictions[tune_status] , sheet_name=f\"test_results\")"
   ]
  },
  {
   "cell_type": "markdown",
   "metadata": {},
   "source": [
    "## Generate Models"
   ]
  },
  {
   "cell_type": "code",
   "execution_count": 32,
   "metadata": {},
   "outputs": [],
   "source": [
    "from BioML.models import save_model"
   ]
  },
  {
   "cell_type": "code",
   "execution_count": 33,
   "metadata": {},
   "outputs": [
    {
     "name": "stderr",
     "output_type": "stream",
     "text": [
      "23-02-2024 13:09:43 INFO ------------------------------------------------------------------------------\n",
      "23-02-2024 13:09:43 INFO PycaretInterface parameters\n",
      "23-02-2024 13:09:43 INFO Seed: 200\n",
      "23-02-2024 13:09:43 INFO Budget time: 20\n",
      "23-02-2024 13:09:43 INFO The number of models to select: 3\n",
      "23-02-2024 13:09:43 INFO Output path: classification_training\n",
      "23-02-2024 13:09:43 INFO ----------------Trainer inputs-------------------------\n",
      "23-02-2024 13:09:43 INFO Number of kfolds: 5\n",
      "23-02-2024 13:09:43 INFO Number of iterations: 30\n"
     ]
    }
   ],
   "source": [
    "data = save_model.DataParser(\"../data/esterase_features.xlsx\", \"../data/esterase_labels.csv\", sheets=\"ch2_20\")\n",
    "experiment = save_model.PycaretInterface(\"classification\", 200, budget_time=20, best_model=3, \n",
    "                                  output_path=\"classification_training\", optimize=\"MCC\", experiment_name=\"generate_model\")\n",
    "regressor = save_model.Classifier(test_size=0.2, optimize=\"MCC\", selected=\"lr\")\n",
    "training = save_model.Trainer(experiment, regressor, 5, 30)\n"
   ]
  },
  {
   "cell_type": "code",
   "execution_count": 34,
   "metadata": {},
   "outputs": [
    {
     "data": {
      "text/plain": [
       "'lr'"
      ]
     },
     "execution_count": 34,
     "metadata": {},
     "output_type": "execute_result"
    }
   ],
   "source": [
    "regressor.selected"
   ]
  },
  {
   "cell_type": "code",
   "execution_count": 35,
   "metadata": {},
   "outputs": [
    {
     "name": "stderr",
     "output_type": "stream",
     "text": [
      "23-02-2024 13:09:47 INFO --------------------------------------------------------\n",
      "23-02-2024 13:09:47 INFO Training classification models\n",
      "23-02-2024 13:09:47 INFO The models used ['lr']\n",
      "23-02-2024 13:09:47 INFO Time budget is 20 minutes\n",
      "23-02-2024 13:09:52 INFO Training over: Total runtime 0.077 minutes\n",
      "23-02-2024 13:09:52 INFO Analyse the best models and plotting them\n",
      "23-02-2024 13:09:52 INFO Analyse the top 1 model: lr\n"
     ]
    }
   ],
   "source": [
    "sorted_results, sorted_models, top_params = training.run_training(data.features, data.label)"
   ]
  },
  {
   "cell_type": "code",
   "execution_count": 36,
   "metadata": {},
   "outputs": [
    {
     "name": "stderr",
     "output_type": "stream",
     "text": [
      "23-02-2024 13:09:58 INFO ----------Finalizing the model by training it with all the data including test set--------------\n"
     ]
    },
    {
     "name": "stdout",
     "output_type": "stream",
     "text": [
      "Transformation Pipeline and Model Successfully Saved\n"
     ]
    }
   ],
   "source": [
    "generate = save_model.GenerateModel(training)\n",
    "models =  generate.train_by_strategy(sorted_models, \"simple:0\")\n",
    "final_model = generate.finalize_model(models)\n",
    "generate.save_model(final_model, \"model_output/logistic\")"
   ]
  },
  {
   "cell_type": "markdown",
   "metadata": {},
   "source": [
    "## Prediction"
   ]
  },
  {
   "cell_type": "code",
   "execution_count": 37,
   "metadata": {},
   "outputs": [],
   "source": [
    "from BioML.models import predict\n",
    "import pandas as pd\n",
    "import numpy as np\n",
    "from scipy.spatial import distance"
   ]
  },
  {
   "cell_type": "code",
   "execution_count": 42,
   "metadata": {},
   "outputs": [],
   "source": [
    "training_features = \"../data/esterase_features.xlsx\"\n",
    "label = \"../data/esterase_labels.csv\"\n",
    "test_features = \"../data/esterase_features.xlsx\"\n",
    "outlier_train=()\n",
    "outlier_test=()\n",
    "sheet_name=\"ch2_20\"\n",
    "problem=\"classification\"\n",
    "model_path=\"model_output/logistic\"\n",
    "scaler=\"zscore\""
   ]
  },
  {
   "cell_type": "code",
   "execution_count": 43,
   "metadata": {},
   "outputs": [],
   "source": [
    "feature = predict.DataParser(training_features, label, outliers=outlier_train, sheets=sheet_name)\n",
    "test_features = feature.remove_outliers(feature.read_features(test_features, \"ch2_20\"), outlier_test)\n",
    "predictions = predict.predict(test_features, model_path, problem)\n"
   ]
  },
  {
   "cell_type": "code",
   "execution_count": 44,
   "metadata": {},
   "outputs": [],
   "source": [
    "transformed, scaler_dict, test_x = predict.scale(scaler, feature.drop(), test_features)\n",
    "domain = predict.ApplicabilityDomain()\n",
    "domain0 = predict.domain_filter(predictions, transformed, test_x, 5)"
   ]
  },
  {
   "cell_type": "code",
   "execution_count": 45,
   "metadata": {},
   "outputs": [],
   "source": [
    "fasta = \"../data/whole_sequence.fasta\"\n",
    "res_dir = \"prediction_results_domain\""
   ]
  },
  {
   "cell_type": "code",
   "execution_count": 46,
   "metadata": {},
   "outputs": [],
   "source": [
    "predictions.index = [f\"sample_{x}\" for x, _ in enumerate(predictions.index)]"
   ]
  },
  {
   "cell_type": "code",
   "execution_count": 47,
   "metadata": {},
   "outputs": [],
   "source": [
    "col_name = [\"prediction_score\", \"prediction_label\", \"AD_number\"]\n",
    "predictions = predictions.loc[:, predictions.columns.str.contains(\"|\".join(col_name))]"
   ]
  },
  {
   "cell_type": "code",
   "execution_count": 48,
   "metadata": {},
   "outputs": [],
   "source": [
    "extractor = predict.FastaExtractor(fasta, res_dir)\n",
    "positive, negative = extractor.separate_negative_positive(domain0)\n"
   ]
  },
  {
   "cell_type": "code",
   "execution_count": 49,
   "metadata": {},
   "outputs": [],
   "source": [
    "extractor.extract(positive, negative, positive_fasta=f\"positive.fasta\", negative_fasta=f\"negative.fasta\")"
   ]
  },
  {
   "cell_type": "code",
   "execution_count": null,
   "metadata": {},
   "outputs": [],
   "source": []
  }
 ],
 "metadata": {
  "kernelspec": {
   "display_name": "bioml",
   "language": "python",
   "name": "python3"
  },
  "language_info": {
   "codemirror_mode": {
    "name": "ipython",
    "version": 3
   },
   "file_extension": ".py",
   "mimetype": "text/x-python",
   "name": "python",
   "nbconvert_exporter": "python",
   "pygments_lexer": "ipython3",
   "version": "3.11.6"
  },
  "orig_nbformat": 4
 },
 "nbformat": 4,
 "nbformat_minor": 2
}
