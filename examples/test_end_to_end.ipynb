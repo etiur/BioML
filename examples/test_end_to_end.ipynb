{
 "cells": [
  {
   "cell_type": "markdown",
   "metadata": {},
   "source": [
    "# 1.1 PSSM generation"
   ]
  },
  {
   "cell_type": "markdown",
   "metadata": {},
   "source": [
    "Generate PSSM files to extract evolutionary features. Using Mmseqs the process can be really fast.  \n",
    "\n",
    "However, I have found a problem (I don't know if it is an bug or not) in the program and created an issue to the Mmseqs team. So at the moment it is down."
   ]
  },
  {
   "cell_type": "code",
   "execution_count": 1,
   "metadata": {},
   "outputs": [],
   "source": [
    "from BioML.utilities.utils import MmseqsClustering"
   ]
  },
  {
   "cell_type": "code",
   "execution_count": 2,
   "metadata": {},
   "outputs": [],
   "source": [
    "fasta_file = \"../data/whole_sequence.fasta\""
   ]
  },
  {
   "cell_type": "code",
   "execution_count": 3,
   "metadata": {},
   "outputs": [
    {
     "name": "stdout",
     "output_type": "stream",
     "text": [
      "start running createdb\n",
      "It took 0.008338212966918945 second to run\n",
      "start running search\n",
      "It took 2.8009424209594727 second to run\n",
      "start running generate_profile\n",
      "It took 0.08434319496154785 second to run\n",
      "start running convert profile to pssm\n",
      "It took 0.04231381416320801 second to run\n"
     ]
    }
   ],
   "source": [
    "pssm_file = MmseqsClustering.easy_generate_pssm(input_file=fasta_file, database_input=fasta_file,\n",
    "output_database=\"../data/whole_sequence\", generate_searchdb=True, pssm_filename=\"esterase.pssm\")"
   ]
  },
  {
   "cell_type": "code",
   "execution_count": 4,
   "metadata": {},
   "outputs": [],
   "source": [
    "MmseqsClustering.split_pssm(pssm_file)"
   ]
  },
  {
   "cell_type": "markdown",
   "metadata": {},
   "source": [
    "# 1.2 Extract Features"
   ]
  },
  {
   "cell_type": "markdown",
   "metadata": {},
   "source": [
    "There are several features to extract:\n",
    "   1. Physicochemical features from iFeatures https://github.com/Superzchen/iFeature\n",
    "   2. It might be great to incorporate other features the Lab is using like the Onehot encoding and the AA index\n",
    "   3. Evolutionary features using PSSM and Possum https://possum.erc.monash.edu/\n",
    "   4. Features or embeddings from Large language models \n",
    "\n",
    "Before substrate extraction you might want to clean the fast file of non canonical residues like X, U, B etc and to remove those shorter than 100 aamino acids for example"
   ]
  },
  {
   "cell_type": "code",
   "execution_count": 4,
   "metadata": {},
   "outputs": [],
   "source": [
    "from BioML.features.extraction import PossumFeatures, IfeatureFeatures, read_features\n",
    "from BioML.utilities.utils import clean_fasta"
   ]
  },
  {
   "cell_type": "code",
   "execution_count": 5,
   "metadata": {},
   "outputs": [
    {
     "name": "stdout",
     "output_type": "stream",
     "text": [
      "Success!\n",
      "The sequences shorter than 100 will be removed!\n",
      "Success!\n"
     ]
    }
   ],
   "source": [
    "clean_fasta(\"/home/ruite/Projects/enzyminer/POSSUM_Toolkit\", fasta_file, \"cleaned.fasta\", 100)\n",
    "fasta_file = \"cleaned.fasta\""
   ]
  },
  {
   "cell_type": "code",
   "execution_count": 18,
   "metadata": {},
   "outputs": [
    {
     "name": "stdout",
     "output_type": "stream",
     "text": [
      "iFeature features to be extracted: {'long': ['NMBroto', 'Moran', 'Geary'], 'short': ['CKSAAGP', 'PAAC', 'CTDD', 'GDPC', 'APAAC', 'GAAC', 'GTPC', 'SOCNumber', 'CTDT', 'KSCTriad', 'CTDC', 'CTriad', 'QSOrder']}\n"
     ]
    },
    {
     "name": "stdout",
     "output_type": "stream",
     "text": [
      "start running Ifeature programs\n",
      "It took 16.37057065963745 second to run\n"
     ]
    }
   ],
   "source": [
    "ifeatures = IfeatureFeatures(\"/home/ruite/Projects/enzyminer/iFeature\")\n",
    "ifeatures.extract(fasta_file)"
   ]
  },
  {
   "cell_type": "code",
   "execution_count": 4,
   "metadata": {},
   "outputs": [
    {
     "name": "stdout",
     "output_type": "stream",
     "text": [
      "Possum features to be extracted: {'long': ['tri_gram_pssm', 'pssm_cc'], 'short': ['edp', 'd_fpssm', 'rpssm', 'pssm_ac', 'pssm_composition', 'pse_pssm:2', 's_fpssm', 'pse_pssm:3', 'tpc', 'aac_pssm', 'smoothed_pssm:7', 'k_separated_bigrams_pssm', 'eedp', 'ab_pssm', 'smoothed_pssm:5', 'smoothed_pssm:9', 'dpc_pssm', 'rpm_pssm', 'dp_pssm', 'pse_pssm:1']}\n",
      "start running Possum programs\n",
      "It took 494.46776008605957 second to run\n"
     ]
    }
   ],
   "source": [
    "possum = PossumFeatures(pssm_dir=\"pssm\", program=\"/home/ruite/Projects/enzyminer/POSSUM_Toolkit\")\n",
    "possum.extract(fasta_file)"
   ]
  },
  {
   "cell_type": "markdown",
   "metadata": {},
   "source": [
    "# 1.3  LLM embeddings"
   ]
  },
  {
   "cell_type": "markdown",
   "metadata": {},
   "source": [
    "If you want you can easily generate large language model embeddings from models supported by Hugging Face's API"
   ]
  },
  {
   "cell_type": "code",
   "execution_count": 2,
   "metadata": {},
   "outputs": [],
   "source": [
    "from BioML.deep import embeddings"
   ]
  },
  {
   "cell_type": "code",
   "execution_count": 4,
   "metadata": {},
   "outputs": [],
   "source": [
    "embeddings.generate_embeddings(fasta_file, model_name=\"facebook/esm2_t6_8M_UR50D\", option=\"mean\", save_path=\"embeddings.csv\", mode=\"write\")"
   ]
  },
  {
   "cell_type": "markdown",
   "metadata": {},
   "source": [
    "# 2 Feature selection"
   ]
  },
  {
   "cell_type": "markdown",
   "metadata": {},
   "source": [
    "If we combine features from multiple places the dimensions would be too high to handle, so normally ti would be wise to use some feature selection techniques:BioML implements at the moment 8 algorithms for classification and 6 for regression \n",
    " \n",
    "    1. Supervised: using Tree methods Random Forest and Xgboost, Recursive feature elmination\n",
    "    2. Filter methods: Pearson correlation, Chi squared,\n",
    "    3. TODO: Unsupervised methods like: PCA, ICA (independent component analysis)"
   ]
  },
  {
   "cell_type": "code",
   "execution_count": 5,
   "metadata": {},
   "outputs": [],
   "source": [
    "import pandas as pd\n",
    "from BioML.features import selection\n",
    "from BioML.features.extraction import read_features"
   ]
  },
  {
   "cell_type": "code",
   "execution_count": 6,
   "metadata": {},
   "outputs": [],
   "source": [
    "ifeat = read_features(\"ifeature\", ifeature_out=\"ifeature_features\", file_splits=1)\n",
    "possum_feat = read_features(\"possum\", possum_out=\"possum_features\", file_splits=1, index=ifeat.index)\n",
    "emb = pd.read_csv(\"embeddings.csv\", index_col=0)"
   ]
  },
  {
   "cell_type": "code",
   "execution_count": 7,
   "metadata": {},
   "outputs": [
    {
     "data": {
      "text/plain": [
       "((320,), (2274,), (18730,))"
      ]
     },
     "execution_count": 7,
     "metadata": {},
     "output_type": "execute_result"
    }
   ],
   "source": [
    "emb.columns.shape, ifeat.columns.shape, possum_feat.columns.shape"
   ]
  },
  {
   "cell_type": "markdown",
   "metadata": {},
   "source": [
    "The DataReader function takes:\n",
    "* label in different formats: string, ndarray, a list of pd.Series.\n",
    "* It also takes features in different formats: a list, ndarray, dataframe, list of dataframes or a list of the different accepted formats and concatenates them\n",
    "\n",
    "It will automatically remove features with 0 variance (meaning every value is the same), you can control the threshold"
   ]
  },
  {
   "cell_type": "code",
   "execution_count": 8,
   "metadata": {},
   "outputs": [
    {
     "data": {
      "text/plain": [
       "Data with:\n",
       "    num. samples: 147\n",
       "    num. columns: 7096\n",
       "    variance threshold: 0.005\n",
       "    sheet: None"
      ]
     },
     "execution_count": 8,
     "metadata": {},
     "output_type": "execute_result"
    }
   ],
   "source": [
    "features = selection.DataReader(\"../data/esterase_labels.csv\", [ifeat, emb, possum_feat], variance_thres=0.005)\n",
    "features"
   ]
  },
  {
   "cell_type": "markdown",
   "metadata": {},
   "source": [
    "### Custom splitting based on 30% sequence identity"
   ]
  },
  {
   "cell_type": "markdown",
   "metadata": {},
   "source": [
    "It is recommended to split based on sequence identity so that the training, test or validation sets doesn't have sequence with more than 30% sequence identity.\n",
    "You can use mmseqs to generate such clusters"
   ]
  },
  {
   "cell_type": "code",
   "execution_count": 2,
   "metadata": {},
   "outputs": [],
   "source": [
    "from BioML.utilities.utils import MmseqsClustering\n",
    "from BioML.utilities.split_methods import ClusterSpliter\n",
    "from BioML.models.base import DataParser\n",
    "import pandas as pd\n",
    "from sklearn.model_selection import train_test_split\n",
    "from pathlib import Path"
   ]
  },
  {
   "cell_type": "markdown",
   "metadata": {},
   "source": [
    "### Generate different clusters of sequences based on an identity threshold of 30%.\n",
    "It creates a cluster.tsv file. This tsv file has the first column the clusters names (which should be the same one as the features indices) and in the second column the idex of the sequence that resides within that cluster.  \n",
    "\n",
    "For example: This means EH2(71) is a cluster with 3 sequences that share more than 30% sequence identity.\n",
    "\n",
    "* EH2(71)\tEH2(71)\n",
    "* EH2(71)\tEH4(67)\n",
    "* EH2(71)\tEH14(48)\n",
    "\n",
    "This technique is actually very flexible, you can generate manually a cluster file if you want to customize the way you want to split your data into training and testing splits"
   ]
  },
  {
   "cell_type": "code",
   "execution_count": 9,
   "metadata": {},
   "outputs": [
    {
     "name": "stdout",
     "output_type": "stream",
     "text": [
      "start running cluster\n",
      "It took 0.007874488830566406 second to run\n",
      "start running create tsv\n",
      "It took 0.0096435546875 second to run\n"
     ]
    }
   ],
   "source": [
    "cluster = MmseqsClustering.easy_cluster(fasta_file, cluster_at_sequence_identity=0.3)"
   ]
  },
  {
   "cell_type": "markdown",
   "metadata": {},
   "source": [
    "Now split based on this sequence identity cluster, the clusters names can be strings or numbers as long as it is the same as the index of feautures dataframe.  \n",
    "But if they are different, cluster names are different to the index of the dataframe, there is an additional groups argument in the split and train_test_split function that accepts a list with the names present in the cluster file and ordered as the rows in the dataframe"
   ]
  },
  {
   "cell_type": "code",
   "execution_count": 10,
   "metadata": {},
   "outputs": [],
   "source": [
    "split = ClusterSpliter(\"cluster.tsv\", num_splits=5, random_state=100, stratified=True)\n",
    "X_train, X_test, y_train, y_test = split.train_test_split(features.features, features.label)"
   ]
  },
  {
   "cell_type": "code",
   "execution_count": 15,
   "metadata": {},
   "outputs": [
    {
     "data": {
      "text/html": [
       "<div>\n",
       "<style scoped>\n",
       "    .dataframe tbody tr th:only-of-type {\n",
       "        vertical-align: middle;\n",
       "    }\n",
       "\n",
       "    .dataframe tbody tr th {\n",
       "        vertical-align: top;\n",
       "    }\n",
       "\n",
       "    .dataframe thead th {\n",
       "        text-align: right;\n",
       "    }\n",
       "</style>\n",
       "<table border=\"1\" class=\"dataframe\">\n",
       "  <thead>\n",
       "    <tr style=\"text-align: right;\">\n",
       "      <th></th>\n",
       "      <th>CHAM820101.lag24_Moran</th>\n",
       "      <th>CHOC760101.lag24_Moran</th>\n",
       "      <th>CHAM820101.lag24_Geary</th>\n",
       "      <th>CHOC760101.lag24_Geary</th>\n",
       "      <th>BIGC670101.lag24_Geary</th>\n",
       "      <th>CHAM810101.lag23_Geary</th>\n",
       "      <th>CHAM820101.lag1_NMBroto</th>\n",
       "      <th>CHAM820101.lag6_NMBroto</th>\n",
       "      <th>CHAM820101.lag13_NMBroto</th>\n",
       "      <th>CHAM820101.lag14_NMBroto</th>\n",
       "      <th>...</th>\n",
       "      <th>k_separated_bigrams_pssm390</th>\n",
       "      <th>k_separated_bigrams_pssm391</th>\n",
       "      <th>k_separated_bigrams_pssm392</th>\n",
       "      <th>k_separated_bigrams_pssm393</th>\n",
       "      <th>k_separated_bigrams_pssm394</th>\n",
       "      <th>k_separated_bigrams_pssm395</th>\n",
       "      <th>k_separated_bigrams_pssm396</th>\n",
       "      <th>k_separated_bigrams_pssm397</th>\n",
       "      <th>k_separated_bigrams_pssm398</th>\n",
       "      <th>k_separated_bigrams_pssm399</th>\n",
       "    </tr>\n",
       "  </thead>\n",
       "  <tbody>\n",
       "    <tr>\n",
       "      <th>EH111(8)</th>\n",
       "      <td>-0.008110</td>\n",
       "      <td>-0.017239</td>\n",
       "      <td>1.016057</td>\n",
       "      <td>1.022939</td>\n",
       "      <td>1.009556</td>\n",
       "      <td>1.203009</td>\n",
       "      <td>-0.004050</td>\n",
       "      <td>-0.016813</td>\n",
       "      <td>0.004004</td>\n",
       "      <td>0.029777</td>\n",
       "      <td>...</td>\n",
       "      <td>2.2453</td>\n",
       "      <td>0.9570</td>\n",
       "      <td>0.3072</td>\n",
       "      <td>0.7610</td>\n",
       "      <td>0.9127</td>\n",
       "      <td>1.0619</td>\n",
       "      <td>0.7904</td>\n",
       "      <td>0.1896</td>\n",
       "      <td>0.6685</td>\n",
       "      <td>1.5599</td>\n",
       "    </tr>\n",
       "    <tr>\n",
       "      <th>EH15(42)</th>\n",
       "      <td>-0.169281</td>\n",
       "      <td>-0.150940</td>\n",
       "      <td>1.167139</td>\n",
       "      <td>1.159859</td>\n",
       "      <td>1.183571</td>\n",
       "      <td>1.054979</td>\n",
       "      <td>0.210418</td>\n",
       "      <td>0.139457</td>\n",
       "      <td>0.167311</td>\n",
       "      <td>0.220085</td>\n",
       "      <td>...</td>\n",
       "      <td>2.3718</td>\n",
       "      <td>0.4967</td>\n",
       "      <td>0.3481</td>\n",
       "      <td>0.9688</td>\n",
       "      <td>1.0273</td>\n",
       "      <td>1.2460</td>\n",
       "      <td>0.9468</td>\n",
       "      <td>0.6249</td>\n",
       "      <td>0.6065</td>\n",
       "      <td>1.2092</td>\n",
       "    </tr>\n",
       "    <tr>\n",
       "      <th>EH117(6)</th>\n",
       "      <td>0.000683</td>\n",
       "      <td>0.015617</td>\n",
       "      <td>1.000051</td>\n",
       "      <td>0.989300</td>\n",
       "      <td>1.010810</td>\n",
       "      <td>1.049855</td>\n",
       "      <td>0.021633</td>\n",
       "      <td>0.060085</td>\n",
       "      <td>0.096981</td>\n",
       "      <td>0.110730</td>\n",
       "      <td>...</td>\n",
       "      <td>2.6691</td>\n",
       "      <td>1.4482</td>\n",
       "      <td>0.6259</td>\n",
       "      <td>1.1633</td>\n",
       "      <td>1.1543</td>\n",
       "      <td>1.5685</td>\n",
       "      <td>1.4454</td>\n",
       "      <td>0.5699</td>\n",
       "      <td>1.0028</td>\n",
       "      <td>2.0741</td>\n",
       "    </tr>\n",
       "    <tr>\n",
       "      <th>EH11(53)</th>\n",
       "      <td>-0.129986</td>\n",
       "      <td>-0.130555</td>\n",
       "      <td>1.155337</td>\n",
       "      <td>1.158283</td>\n",
       "      <td>1.144786</td>\n",
       "      <td>1.076079</td>\n",
       "      <td>0.215108</td>\n",
       "      <td>0.120346</td>\n",
       "      <td>0.227989</td>\n",
       "      <td>0.293609</td>\n",
       "      <td>...</td>\n",
       "      <td>2.3010</td>\n",
       "      <td>0.3320</td>\n",
       "      <td>0.3129</td>\n",
       "      <td>0.6068</td>\n",
       "      <td>1.3050</td>\n",
       "      <td>1.2378</td>\n",
       "      <td>1.3231</td>\n",
       "      <td>0.1621</td>\n",
       "      <td>0.8732</td>\n",
       "      <td>2.4431</td>\n",
       "    </tr>\n",
       "    <tr>\n",
       "      <th>EH135(2)</th>\n",
       "      <td>0.042662</td>\n",
       "      <td>0.053678</td>\n",
       "      <td>0.954970</td>\n",
       "      <td>0.953658</td>\n",
       "      <td>0.921358</td>\n",
       "      <td>1.020049</td>\n",
       "      <td>0.058143</td>\n",
       "      <td>0.089392</td>\n",
       "      <td>0.081488</td>\n",
       "      <td>0.039703</td>\n",
       "      <td>...</td>\n",
       "      <td>1.9925</td>\n",
       "      <td>0.5501</td>\n",
       "      <td>0.7866</td>\n",
       "      <td>0.8449</td>\n",
       "      <td>0.9459</td>\n",
       "      <td>0.8244</td>\n",
       "      <td>0.6754</td>\n",
       "      <td>0.3764</td>\n",
       "      <td>1.0684</td>\n",
       "      <td>1.3102</td>\n",
       "    </tr>\n",
       "    <tr>\n",
       "      <th>...</th>\n",
       "      <td>...</td>\n",
       "      <td>...</td>\n",
       "      <td>...</td>\n",
       "      <td>...</td>\n",
       "      <td>...</td>\n",
       "      <td>...</td>\n",
       "      <td>...</td>\n",
       "      <td>...</td>\n",
       "      <td>...</td>\n",
       "      <td>...</td>\n",
       "      <td>...</td>\n",
       "      <td>...</td>\n",
       "      <td>...</td>\n",
       "      <td>...</td>\n",
       "      <td>...</td>\n",
       "      <td>...</td>\n",
       "      <td>...</td>\n",
       "      <td>...</td>\n",
       "      <td>...</td>\n",
       "      <td>...</td>\n",
       "      <td>...</td>\n",
       "    </tr>\n",
       "    <tr>\n",
       "      <th>EH86(13)</th>\n",
       "      <td>-0.121520</td>\n",
       "      <td>-0.132601</td>\n",
       "      <td>1.118555</td>\n",
       "      <td>1.122978</td>\n",
       "      <td>1.146220</td>\n",
       "      <td>1.067694</td>\n",
       "      <td>0.113712</td>\n",
       "      <td>0.122434</td>\n",
       "      <td>0.180717</td>\n",
       "      <td>0.191214</td>\n",
       "      <td>...</td>\n",
       "      <td>2.3976</td>\n",
       "      <td>0.3845</td>\n",
       "      <td>0.3421</td>\n",
       "      <td>0.5570</td>\n",
       "      <td>1.3030</td>\n",
       "      <td>1.2759</td>\n",
       "      <td>1.3698</td>\n",
       "      <td>0.1671</td>\n",
       "      <td>0.9226</td>\n",
       "      <td>2.5163</td>\n",
       "    </tr>\n",
       "    <tr>\n",
       "      <th>EH102(10)</th>\n",
       "      <td>-0.024638</td>\n",
       "      <td>-0.002846</td>\n",
       "      <td>1.024055</td>\n",
       "      <td>0.994123</td>\n",
       "      <td>0.983951</td>\n",
       "      <td>1.036248</td>\n",
       "      <td>0.078662</td>\n",
       "      <td>0.090576</td>\n",
       "      <td>0.017300</td>\n",
       "      <td>0.057238</td>\n",
       "      <td>...</td>\n",
       "      <td>1.6730</td>\n",
       "      <td>0.5163</td>\n",
       "      <td>0.3904</td>\n",
       "      <td>0.7569</td>\n",
       "      <td>0.4700</td>\n",
       "      <td>0.7540</td>\n",
       "      <td>0.7634</td>\n",
       "      <td>0.2213</td>\n",
       "      <td>0.3959</td>\n",
       "      <td>1.2849</td>\n",
       "    </tr>\n",
       "    <tr>\n",
       "      <th>EH66(19)</th>\n",
       "      <td>-0.024549</td>\n",
       "      <td>-0.043896</td>\n",
       "      <td>1.027011</td>\n",
       "      <td>1.043370</td>\n",
       "      <td>1.031698</td>\n",
       "      <td>0.943373</td>\n",
       "      <td>0.038165</td>\n",
       "      <td>0.015982</td>\n",
       "      <td>0.027990</td>\n",
       "      <td>0.008226</td>\n",
       "      <td>...</td>\n",
       "      <td>2.2308</td>\n",
       "      <td>0.6369</td>\n",
       "      <td>0.4093</td>\n",
       "      <td>0.6156</td>\n",
       "      <td>1.1185</td>\n",
       "      <td>0.7785</td>\n",
       "      <td>0.8500</td>\n",
       "      <td>0.3616</td>\n",
       "      <td>0.3936</td>\n",
       "      <td>1.6623</td>\n",
       "    </tr>\n",
       "    <tr>\n",
       "      <th>EH23(34)</th>\n",
       "      <td>-0.078406</td>\n",
       "      <td>-0.063373</td>\n",
       "      <td>1.083799</td>\n",
       "      <td>1.068878</td>\n",
       "      <td>1.058834</td>\n",
       "      <td>1.086991</td>\n",
       "      <td>0.108666</td>\n",
       "      <td>0.080507</td>\n",
       "      <td>0.121945</td>\n",
       "      <td>0.024578</td>\n",
       "      <td>...</td>\n",
       "      <td>2.8997</td>\n",
       "      <td>0.5738</td>\n",
       "      <td>0.4337</td>\n",
       "      <td>1.1346</td>\n",
       "      <td>1.5730</td>\n",
       "      <td>1.6435</td>\n",
       "      <td>1.1874</td>\n",
       "      <td>0.6957</td>\n",
       "      <td>0.7814</td>\n",
       "      <td>1.4910</td>\n",
       "    </tr>\n",
       "    <tr>\n",
       "      <th>EH8(63)</th>\n",
       "      <td>-0.089390</td>\n",
       "      <td>-0.106190</td>\n",
       "      <td>1.095064</td>\n",
       "      <td>1.107683</td>\n",
       "      <td>1.119504</td>\n",
       "      <td>1.084142</td>\n",
       "      <td>0.181465</td>\n",
       "      <td>0.078650</td>\n",
       "      <td>0.067484</td>\n",
       "      <td>0.128505</td>\n",
       "      <td>...</td>\n",
       "      <td>2.7481</td>\n",
       "      <td>0.4022</td>\n",
       "      <td>0.3776</td>\n",
       "      <td>0.6414</td>\n",
       "      <td>1.4805</td>\n",
       "      <td>1.3629</td>\n",
       "      <td>1.4278</td>\n",
       "      <td>0.1700</td>\n",
       "      <td>0.9261</td>\n",
       "      <td>2.6357</td>\n",
       "    </tr>\n",
       "  </tbody>\n",
       "</table>\n",
       "<p>122 rows × 7096 columns</p>\n",
       "</div>"
      ],
      "text/plain": [
       "           CHAM820101.lag24_Moran  CHOC760101.lag24_Moran  \\\n",
       "EH111(8)                -0.008110               -0.017239   \n",
       "EH15(42)                -0.169281               -0.150940   \n",
       "EH117(6)                 0.000683                0.015617   \n",
       "EH11(53)                -0.129986               -0.130555   \n",
       "EH135(2)                 0.042662                0.053678   \n",
       "...                           ...                     ...   \n",
       "EH86(13)                -0.121520               -0.132601   \n",
       "EH102(10)               -0.024638               -0.002846   \n",
       "EH66(19)                -0.024549               -0.043896   \n",
       "EH23(34)                -0.078406               -0.063373   \n",
       "EH8(63)                 -0.089390               -0.106190   \n",
       "\n",
       "           CHAM820101.lag24_Geary  CHOC760101.lag24_Geary  \\\n",
       "EH111(8)                 1.016057                1.022939   \n",
       "EH15(42)                 1.167139                1.159859   \n",
       "EH117(6)                 1.000051                0.989300   \n",
       "EH11(53)                 1.155337                1.158283   \n",
       "EH135(2)                 0.954970                0.953658   \n",
       "...                           ...                     ...   \n",
       "EH86(13)                 1.118555                1.122978   \n",
       "EH102(10)                1.024055                0.994123   \n",
       "EH66(19)                 1.027011                1.043370   \n",
       "EH23(34)                 1.083799                1.068878   \n",
       "EH8(63)                  1.095064                1.107683   \n",
       "\n",
       "           BIGC670101.lag24_Geary  CHAM810101.lag23_Geary  \\\n",
       "EH111(8)                 1.009556                1.203009   \n",
       "EH15(42)                 1.183571                1.054979   \n",
       "EH117(6)                 1.010810                1.049855   \n",
       "EH11(53)                 1.144786                1.076079   \n",
       "EH135(2)                 0.921358                1.020049   \n",
       "...                           ...                     ...   \n",
       "EH86(13)                 1.146220                1.067694   \n",
       "EH102(10)                0.983951                1.036248   \n",
       "EH66(19)                 1.031698                0.943373   \n",
       "EH23(34)                 1.058834                1.086991   \n",
       "EH8(63)                  1.119504                1.084142   \n",
       "\n",
       "           CHAM820101.lag1_NMBroto  CHAM820101.lag6_NMBroto  \\\n",
       "EH111(8)                 -0.004050                -0.016813   \n",
       "EH15(42)                  0.210418                 0.139457   \n",
       "EH117(6)                  0.021633                 0.060085   \n",
       "EH11(53)                  0.215108                 0.120346   \n",
       "EH135(2)                  0.058143                 0.089392   \n",
       "...                            ...                      ...   \n",
       "EH86(13)                  0.113712                 0.122434   \n",
       "EH102(10)                 0.078662                 0.090576   \n",
       "EH66(19)                  0.038165                 0.015982   \n",
       "EH23(34)                  0.108666                 0.080507   \n",
       "EH8(63)                   0.181465                 0.078650   \n",
       "\n",
       "           CHAM820101.lag13_NMBroto  CHAM820101.lag14_NMBroto  ...  \\\n",
       "EH111(8)                   0.004004                  0.029777  ...   \n",
       "EH15(42)                   0.167311                  0.220085  ...   \n",
       "EH117(6)                   0.096981                  0.110730  ...   \n",
       "EH11(53)                   0.227989                  0.293609  ...   \n",
       "EH135(2)                   0.081488                  0.039703  ...   \n",
       "...                             ...                       ...  ...   \n",
       "EH86(13)                   0.180717                  0.191214  ...   \n",
       "EH102(10)                  0.017300                  0.057238  ...   \n",
       "EH66(19)                   0.027990                  0.008226  ...   \n",
       "EH23(34)                   0.121945                  0.024578  ...   \n",
       "EH8(63)                    0.067484                  0.128505  ...   \n",
       "\n",
       "           k_separated_bigrams_pssm390  k_separated_bigrams_pssm391  \\\n",
       "EH111(8)                        2.2453                       0.9570   \n",
       "EH15(42)                        2.3718                       0.4967   \n",
       "EH117(6)                        2.6691                       1.4482   \n",
       "EH11(53)                        2.3010                       0.3320   \n",
       "EH135(2)                        1.9925                       0.5501   \n",
       "...                                ...                          ...   \n",
       "EH86(13)                        2.3976                       0.3845   \n",
       "EH102(10)                       1.6730                       0.5163   \n",
       "EH66(19)                        2.2308                       0.6369   \n",
       "EH23(34)                        2.8997                       0.5738   \n",
       "EH8(63)                         2.7481                       0.4022   \n",
       "\n",
       "           k_separated_bigrams_pssm392  k_separated_bigrams_pssm393  \\\n",
       "EH111(8)                        0.3072                       0.7610   \n",
       "EH15(42)                        0.3481                       0.9688   \n",
       "EH117(6)                        0.6259                       1.1633   \n",
       "EH11(53)                        0.3129                       0.6068   \n",
       "EH135(2)                        0.7866                       0.8449   \n",
       "...                                ...                          ...   \n",
       "EH86(13)                        0.3421                       0.5570   \n",
       "EH102(10)                       0.3904                       0.7569   \n",
       "EH66(19)                        0.4093                       0.6156   \n",
       "EH23(34)                        0.4337                       1.1346   \n",
       "EH8(63)                         0.3776                       0.6414   \n",
       "\n",
       "           k_separated_bigrams_pssm394  k_separated_bigrams_pssm395  \\\n",
       "EH111(8)                        0.9127                       1.0619   \n",
       "EH15(42)                        1.0273                       1.2460   \n",
       "EH117(6)                        1.1543                       1.5685   \n",
       "EH11(53)                        1.3050                       1.2378   \n",
       "EH135(2)                        0.9459                       0.8244   \n",
       "...                                ...                          ...   \n",
       "EH86(13)                        1.3030                       1.2759   \n",
       "EH102(10)                       0.4700                       0.7540   \n",
       "EH66(19)                        1.1185                       0.7785   \n",
       "EH23(34)                        1.5730                       1.6435   \n",
       "EH8(63)                         1.4805                       1.3629   \n",
       "\n",
       "           k_separated_bigrams_pssm396  k_separated_bigrams_pssm397  \\\n",
       "EH111(8)                        0.7904                       0.1896   \n",
       "EH15(42)                        0.9468                       0.6249   \n",
       "EH117(6)                        1.4454                       0.5699   \n",
       "EH11(53)                        1.3231                       0.1621   \n",
       "EH135(2)                        0.6754                       0.3764   \n",
       "...                                ...                          ...   \n",
       "EH86(13)                        1.3698                       0.1671   \n",
       "EH102(10)                       0.7634                       0.2213   \n",
       "EH66(19)                        0.8500                       0.3616   \n",
       "EH23(34)                        1.1874                       0.6957   \n",
       "EH8(63)                         1.4278                       0.1700   \n",
       "\n",
       "           k_separated_bigrams_pssm398  k_separated_bigrams_pssm399  \n",
       "EH111(8)                        0.6685                       1.5599  \n",
       "EH15(42)                        0.6065                       1.2092  \n",
       "EH117(6)                        1.0028                       2.0741  \n",
       "EH11(53)                        0.8732                       2.4431  \n",
       "EH135(2)                        1.0684                       1.3102  \n",
       "...                                ...                          ...  \n",
       "EH86(13)                        0.9226                       2.5163  \n",
       "EH102(10)                       0.3959                       1.2849  \n",
       "EH66(19)                        0.3936                       1.6623  \n",
       "EH23(34)                        0.7814                       1.4910  \n",
       "EH8(63)                         0.9261                       2.6357  \n",
       "\n",
       "[122 rows x 7096 columns]"
      ]
     },
     "execution_count": 15,
     "metadata": {},
     "output_type": "execute_result"
    }
   ],
   "source": [
    "X_train"
   ]
  },
  {
   "cell_type": "markdown",
   "metadata": {},
   "source": [
    "\n",
    "The get_range_features retuns a list of feature dimensions to extract and it will generate an excel file with those features, the number of sheets will be len(feature_range) * number of selection algorithms"
   ]
  },
  {
   "cell_type": "markdown",
   "metadata": {},
   "source": [
    "It will also output an plot of the feature importance with the shap package https://www.aidancooper.co.uk/a-non-technical-guide-to-interpreting-shap-analyses/\n",
    "\n",
    "Using the scores from Xgboost using the columns from the maximum feature range.\n",
    "The selection is not repeated for each feature range except for the RFE.   \n",
    "Because the columns are sorted by importance, so I just get [:feature range]"
   ]
  },
  {
   "cell_type": "code",
   "execution_count": 12,
   "metadata": {},
   "outputs": [
    {
     "data": {
      "text/plain": [
       "[13, 26, 39, 52, 65]"
      ]
     },
     "execution_count": 12,
     "metadata": {},
     "output_type": "execute_result"
    }
   ],
   "source": [
    "problem =\"classification\"\n",
    "feature_range = selection.get_range_features(features.features, num_features_min =None, num_features_max=65, step_range=None)\n",
    "feature_range"
   ]
  },
  {
   "cell_type": "code",
   "execution_count": 13,
   "metadata": {},
   "outputs": [
    {
     "name": "stderr",
     "output_type": "stream",
     "text": [
      "27-05-2024 11:02:40 INFO Reading the features\n",
      "27-05-2024 11:02:40 INFO Starting feature selection and using the following parameters\n",
      "27-05-2024 11:02:40 INFO seed: 10\n",
      "27-05-2024 11:02:40 INFO filtering the features\n"
     ]
    },
    {
     "name": "stdout",
     "output_type": "stream",
     "text": [
      "classification filter: mutual_info\n",
      "classification filter: Fscore\n",
      "classification filter: chi2\n",
      "classification filter: FechnerCorr\n",
      "classification filter: KendallCorr\n",
      "generating a feature set of 13 dimensions\n",
      "generating a feature set of 26 dimensions\n",
      "generating a feature set of 39 dimensions\n",
      "generating a feature set of 52 dimensions\n",
      "generating a feature set of 65 dimensions\n"
     ]
    },
    {
     "data": {
      "image/png": "[encoded data removed]",
      "text/plain": [
       "<Figure size 800x950 with 2 Axes>"
      ]
     },
     "metadata": {},
     "output_type": "display_data"
    }
   ],
   "source": [
    "# select features\n",
    "if problem == \"classification\":\n",
    "    filters = selection.FeatureClassification()\n",
    "elif problem == \"regression\":\n",
    "    filters = selection.FeatureRegression()\n",
    "\n",
    "select = selection.FeatureSelection(\"classification_results/filtered_features.xlsx\", filters, num_thread=2, seed=10, \n",
    "                                    scaler=\"robust\", test_size=0.2)\n",
    "\n",
    "select.construct_features(features.features, X_train, y_train, feature_range)"
   ]
  },
  {
   "cell_type": "markdown",
   "metadata": {},
   "source": [
    "# 4. Outlier detection"
   ]
  },
  {
   "cell_type": "markdown",
   "metadata": {},
   "source": [
    "You can also eliminate outliers in your dataset which could decrease model performance.\n",
    "Although, generally, if you have a lot of data outliers won't matter much.  \n",
    "It is unsupervised so it only needs the features. It accepts the following formats\n",
    "\n",
    "1. excel files\n",
    "2. Pandas dataframe\n",
    "3. Series, ndarray\n",
    "4. csv file\n",
    "\n",
    "It leverages 8 different outlier detection algorithms and gives you a voting. \n",
    "If you give it an excel file where there are different sheets. It will iterate through all of them."
   ]
  },
  {
   "cell_type": "code",
   "execution_count": 1,
   "metadata": {},
   "outputs": [],
   "source": [
    "from BioML.utilities.outlier import OutlierDetection"
   ]
  },
  {
   "cell_type": "code",
   "execution_count": 2,
   "metadata": {},
   "outputs": [
    {
     "name": "stdout",
     "output_type": "stream",
     "text": [
      "using FechnerCorr_52 for outlier calculations\n"
     ]
    },
    {
     "name": "stderr",
     "output_type": "stream",
     "text": [
      "[Parallel(n_jobs=4)]: Using backend LokyBackend with 4 concurrent workers.\n",
      "[Parallel(n_jobs=4)]: Done   2 out of   4 | elapsed:    2.1s remaining:    2.1s\n",
      "[Parallel(n_jobs=4)]: Done   4 out of   4 | elapsed:    2.4s finished\n"
     ]
    },
    {
     "name": "stdout",
     "output_type": "stream",
     "text": [
      "using mutual_info_65 for outlier calculations\n"
     ]
    },
    {
     "name": "stderr",
     "output_type": "stream",
     "text": [
      "[Parallel(n_jobs=4)]: Using backend LokyBackend with 4 concurrent workers.\n",
      "[Parallel(n_jobs=4)]: Done   2 out of   4 | elapsed:    0.0s remaining:    0.0s\n",
      "[Parallel(n_jobs=4)]: Done   4 out of   4 | elapsed:    0.0s finished\n"
     ]
    },
    {
     "name": "stdout",
     "output_type": "stream",
     "text": [
      "using random_52 for outlier calculations\n"
     ]
    },
    {
     "name": "stderr",
     "output_type": "stream",
     "text": [
      "[Parallel(n_jobs=4)]: Using backend LokyBackend with 4 concurrent workers.\n",
      "[Parallel(n_jobs=4)]: Done   2 out of   4 | elapsed:    0.0s remaining:    0.0s\n",
      "[Parallel(n_jobs=4)]: Done   4 out of   4 | elapsed:    0.0s finished\n"
     ]
    },
    {
     "name": "stdout",
     "output_type": "stream",
     "text": [
      "using random_39 for outlier calculations\n"
     ]
    },
    {
     "name": "stderr",
     "output_type": "stream",
     "text": [
      "[Parallel(n_jobs=4)]: Using backend LokyBackend with 4 concurrent workers.\n",
      "[Parallel(n_jobs=4)]: Done   2 out of   4 | elapsed:    0.0s remaining:    0.0s\n",
      "[Parallel(n_jobs=4)]: Done   4 out of   4 | elapsed:    0.0s finished\n"
     ]
    },
    {
     "name": "stdout",
     "output_type": "stream",
     "text": [
      "using Fscore_52 for outlier calculations\n"
     ]
    },
    {
     "name": "stderr",
     "output_type": "stream",
     "text": [
      "[Parallel(n_jobs=4)]: Using backend LokyBackend with 4 concurrent workers.\n",
      "[Parallel(n_jobs=4)]: Done   2 out of   4 | elapsed:    0.0s remaining:    0.0s\n",
      "[Parallel(n_jobs=4)]: Done   4 out of   4 | elapsed:    0.0s finished\n"
     ]
    },
    {
     "name": "stdout",
     "output_type": "stream",
     "text": [
      "using mutual_info_26 for outlier calculations\n"
     ]
    },
    {
     "name": "stderr",
     "output_type": "stream",
     "text": [
      "[Parallel(n_jobs=4)]: Using backend LokyBackend with 4 concurrent workers.\n",
      "[Parallel(n_jobs=4)]: Done   2 out of   4 | elapsed:    0.0s remaining:    0.0s\n",
      "[Parallel(n_jobs=4)]: Done   4 out of   4 | elapsed:    0.0s finished\n"
     ]
    },
    {
     "name": "stdout",
     "output_type": "stream",
     "text": [
      "using xgbtree_13 for outlier calculations\n"
     ]
    },
    {
     "name": "stderr",
     "output_type": "stream",
     "text": [
      "[Parallel(n_jobs=4)]: Using backend LokyBackend with 4 concurrent workers.\n",
      "[Parallel(n_jobs=4)]: Done   2 out of   4 | elapsed:    0.0s remaining:    0.0s\n",
      "[Parallel(n_jobs=4)]: Done   4 out of   4 | elapsed:    0.0s finished\n"
     ]
    },
    {
     "name": "stdout",
     "output_type": "stream",
     "text": [
      "using chi2_39 for outlier calculations\n"
     ]
    },
    {
     "name": "stderr",
     "output_type": "stream",
     "text": [
      "[Parallel(n_jobs=4)]: Using backend LokyBackend with 4 concurrent workers.\n",
      "[Parallel(n_jobs=4)]: Done   2 out of   4 | elapsed:    0.0s remaining:    0.0s\n",
      "[Parallel(n_jobs=4)]: Done   4 out of   4 | elapsed:    0.0s finished\n"
     ]
    },
    {
     "name": "stdout",
     "output_type": "stream",
     "text": [
      "using Fscore_39 for outlier calculations\n"
     ]
    },
    {
     "name": "stderr",
     "output_type": "stream",
     "text": [
      "[Parallel(n_jobs=4)]: Using backend LokyBackend with 4 concurrent workers.\n",
      "[Parallel(n_jobs=4)]: Done   2 out of   4 | elapsed:    0.0s remaining:    0.0s\n",
      "[Parallel(n_jobs=4)]: Done   4 out of   4 | elapsed:    0.0s finished\n"
     ]
    },
    {
     "name": "stdout",
     "output_type": "stream",
     "text": [
      "using KendallCorr_52 for outlier calculations\n"
     ]
    },
    {
     "name": "stderr",
     "output_type": "stream",
     "text": [
      "[Parallel(n_jobs=4)]: Using backend LokyBackend with 4 concurrent workers.\n",
      "[Parallel(n_jobs=4)]: Done   2 out of   4 | elapsed:    0.0s remaining:    0.0s\n",
      "[Parallel(n_jobs=4)]: Done   4 out of   4 | elapsed:    0.0s finished\n"
     ]
    },
    {
     "name": "stdout",
     "output_type": "stream",
     "text": [
      "using chi2_26 for outlier calculations\n"
     ]
    },
    {
     "name": "stderr",
     "output_type": "stream",
     "text": [
      "[Parallel(n_jobs=4)]: Using backend LokyBackend with 4 concurrent workers.\n",
      "[Parallel(n_jobs=4)]: Done   2 out of   4 | elapsed:    0.0s remaining:    0.0s\n",
      "[Parallel(n_jobs=4)]: Done   4 out of   4 | elapsed:    0.0s finished\n"
     ]
    },
    {
     "name": "stdout",
     "output_type": "stream",
     "text": [
      "using KendallCorr_65 for outlier calculations\n"
     ]
    },
    {
     "name": "stderr",
     "output_type": "stream",
     "text": [
      "[Parallel(n_jobs=4)]: Using backend LokyBackend with 4 concurrent workers.\n",
      "[Parallel(n_jobs=4)]: Done   1 out of   1 | elapsed:    0.0s finished\n",
      "[Parallel(n_jobs=4)]: Done   4 out of   4 | elapsed:    0.0s finished\n"
     ]
    },
    {
     "name": "stdout",
     "output_type": "stream",
     "text": [
      "using chi2_65 for outlier calculations\n"
     ]
    },
    {
     "name": "stderr",
     "output_type": "stream",
     "text": [
      "[Parallel(n_jobs=4)]: Using backend LokyBackend with 4 concurrent workers.\n",
      "[Parallel(n_jobs=4)]: Done   1 out of   1 | elapsed:    0.0s finished\n",
      "[Parallel(n_jobs=4)]: Done   4 out of   4 | elapsed:    0.0s finished\n"
     ]
    },
    {
     "name": "stdout",
     "output_type": "stream",
     "text": [
      "using random_65 for outlier calculations\n"
     ]
    },
    {
     "name": "stderr",
     "output_type": "stream",
     "text": [
      "[Parallel(n_jobs=4)]: Using backend LokyBackend with 4 concurrent workers.\n",
      "[Parallel(n_jobs=4)]: Done   2 out of   4 | elapsed:    0.0s remaining:    0.0s\n",
      "[Parallel(n_jobs=4)]: Done   4 out of   4 | elapsed:    0.0s finished\n"
     ]
    },
    {
     "name": "stdout",
     "output_type": "stream",
     "text": [
      "using Fscore_65 for outlier calculations\n"
     ]
    },
    {
     "name": "stderr",
     "output_type": "stream",
     "text": [
      "[Parallel(n_jobs=4)]: Using backend LokyBackend with 4 concurrent workers.\n",
      "[Parallel(n_jobs=4)]: Done   2 out of   4 | elapsed:    0.0s remaining:    0.0s\n",
      "[Parallel(n_jobs=4)]: Done   4 out of   4 | elapsed:    0.0s finished\n"
     ]
    },
    {
     "name": "stdout",
     "output_type": "stream",
     "text": [
      "using chi2_52 for outlier calculations\n"
     ]
    },
    {
     "name": "stderr",
     "output_type": "stream",
     "text": [
      "[Parallel(n_jobs=4)]: Using backend LokyBackend with 4 concurrent workers.\n",
      "[Parallel(n_jobs=4)]: Done   2 out of   4 | elapsed:    0.0s remaining:    0.0s\n",
      "[Parallel(n_jobs=4)]: Done   4 out of   4 | elapsed:    0.0s finished\n"
     ]
    },
    {
     "name": "stdout",
     "output_type": "stream",
     "text": [
      "using rfe_65 for outlier calculations\n"
     ]
    },
    {
     "name": "stderr",
     "output_type": "stream",
     "text": [
      "[Parallel(n_jobs=4)]: Using backend LokyBackend with 4 concurrent workers.\n",
      "[Parallel(n_jobs=4)]: Done   1 out of   1 | elapsed:    0.0s finished\n",
      "[Parallel(n_jobs=4)]: Done   4 out of   4 | elapsed:    0.0s finished\n"
     ]
    },
    {
     "name": "stdout",
     "output_type": "stream",
     "text": [
      "using xgbtree_39 for outlier calculations\n"
     ]
    },
    {
     "name": "stderr",
     "output_type": "stream",
     "text": [
      "[Parallel(n_jobs=4)]: Using backend LokyBackend with 4 concurrent workers.\n",
      "[Parallel(n_jobs=4)]: Done   2 out of   4 | elapsed:    0.0s remaining:    0.0s\n",
      "[Parallel(n_jobs=4)]: Done   4 out of   4 | elapsed:    0.0s finished\n"
     ]
    },
    {
     "name": "stdout",
     "output_type": "stream",
     "text": [
      "using rfe_26 for outlier calculations\n"
     ]
    },
    {
     "name": "stderr",
     "output_type": "stream",
     "text": [
      "[Parallel(n_jobs=4)]: Using backend LokyBackend with 4 concurrent workers.\n",
      "[Parallel(n_jobs=4)]: Done   2 out of   4 | elapsed:    0.0s remaining:    0.0s\n",
      "[Parallel(n_jobs=4)]: Done   4 out of   4 | elapsed:    0.0s finished\n"
     ]
    },
    {
     "name": "stdout",
     "output_type": "stream",
     "text": [
      "using xgbtree_52 for outlier calculations\n"
     ]
    },
    {
     "name": "stderr",
     "output_type": "stream",
     "text": [
      "[Parallel(n_jobs=4)]: Using backend LokyBackend with 4 concurrent workers.\n",
      "[Parallel(n_jobs=4)]: Done   2 out of   4 | elapsed:    0.0s remaining:    0.0s\n",
      "[Parallel(n_jobs=4)]: Done   4 out of   4 | elapsed:    0.0s finished\n"
     ]
    },
    {
     "name": "stdout",
     "output_type": "stream",
     "text": [
      "using mutual_info_52 for outlier calculations\n"
     ]
    },
    {
     "name": "stderr",
     "output_type": "stream",
     "text": [
      "[Parallel(n_jobs=4)]: Using backend LokyBackend with 4 concurrent workers.\n",
      "[Parallel(n_jobs=4)]: Done   2 out of   4 | elapsed:    0.0s remaining:    0.0s\n",
      "[Parallel(n_jobs=4)]: Done   4 out of   4 | elapsed:    0.0s finished\n"
     ]
    },
    {
     "name": "stdout",
     "output_type": "stream",
     "text": [
      "using xgbtree_65 for outlier calculations\n"
     ]
    },
    {
     "name": "stderr",
     "output_type": "stream",
     "text": [
      "[Parallel(n_jobs=4)]: Using backend LokyBackend with 4 concurrent workers.\n",
      "[Parallel(n_jobs=4)]: Done   2 out of   4 | elapsed:    0.0s remaining:    0.0s\n",
      "[Parallel(n_jobs=4)]: Done   4 out of   4 | elapsed:    0.0s finished\n"
     ]
    },
    {
     "name": "stdout",
     "output_type": "stream",
     "text": [
      "using KendallCorr_13 for outlier calculations\n"
     ]
    },
    {
     "name": "stderr",
     "output_type": "stream",
     "text": [
      "[Parallel(n_jobs=4)]: Using backend LokyBackend with 4 concurrent workers.\n",
      "[Parallel(n_jobs=4)]: Done   2 out of   4 | elapsed:    0.0s remaining:    0.0s\n",
      "[Parallel(n_jobs=4)]: Done   4 out of   4 | elapsed:    0.0s finished\n"
     ]
    },
    {
     "name": "stdout",
     "output_type": "stream",
     "text": [
      "using FechnerCorr_65 for outlier calculations\n"
     ]
    },
    {
     "name": "stderr",
     "output_type": "stream",
     "text": [
      "[Parallel(n_jobs=4)]: Using backend LokyBackend with 4 concurrent workers.\n",
      "[Parallel(n_jobs=4)]: Done   2 out of   4 | elapsed:    0.0s remaining:    0.0s\n",
      "[Parallel(n_jobs=4)]: Done   4 out of   4 | elapsed:    0.0s finished\n"
     ]
    },
    {
     "name": "stdout",
     "output_type": "stream",
     "text": [
      "using Fscore_13 for outlier calculations\n"
     ]
    },
    {
     "name": "stderr",
     "output_type": "stream",
     "text": [
      "[Parallel(n_jobs=4)]: Using backend LokyBackend with 4 concurrent workers.\n",
      "[Parallel(n_jobs=4)]: Done   2 out of   4 | elapsed:    0.0s remaining:    0.0s\n",
      "[Parallel(n_jobs=4)]: Done   4 out of   4 | elapsed:    0.0s finished\n"
     ]
    },
    {
     "name": "stdout",
     "output_type": "stream",
     "text": [
      "using rfe_52 for outlier calculations\n"
     ]
    },
    {
     "name": "stderr",
     "output_type": "stream",
     "text": [
      "[Parallel(n_jobs=4)]: Using backend LokyBackend with 4 concurrent workers.\n",
      "[Parallel(n_jobs=4)]: Done   2 out of   4 | elapsed:    0.0s remaining:    0.0s\n",
      "[Parallel(n_jobs=4)]: Done   4 out of   4 | elapsed:    0.0s finished\n"
     ]
    },
    {
     "name": "stdout",
     "output_type": "stream",
     "text": [
      "using random_26 for outlier calculations\n"
     ]
    },
    {
     "name": "stderr",
     "output_type": "stream",
     "text": [
      "[Parallel(n_jobs=4)]: Using backend LokyBackend with 4 concurrent workers.\n",
      "[Parallel(n_jobs=4)]: Done   2 out of   4 | elapsed:    0.0s remaining:    0.0s\n",
      "[Parallel(n_jobs=4)]: Done   4 out of   4 | elapsed:    0.0s finished\n"
     ]
    },
    {
     "name": "stdout",
     "output_type": "stream",
     "text": [
      "using FechnerCorr_13 for outlier calculations\n"
     ]
    },
    {
     "name": "stderr",
     "output_type": "stream",
     "text": [
      "[Parallel(n_jobs=4)]: Using backend LokyBackend with 4 concurrent workers.\n",
      "[Parallel(n_jobs=4)]: Done   2 out of   4 | elapsed:    0.0s remaining:    0.0s\n",
      "[Parallel(n_jobs=4)]: Done   4 out of   4 | elapsed:    0.0s finished\n"
     ]
    },
    {
     "name": "stdout",
     "output_type": "stream",
     "text": [
      "using rfe_13 for outlier calculations\n"
     ]
    },
    {
     "name": "stderr",
     "output_type": "stream",
     "text": [
      "[Parallel(n_jobs=4)]: Using backend LokyBackend with 4 concurrent workers.\n",
      "[Parallel(n_jobs=4)]: Done   2 out of   4 | elapsed:    0.0s remaining:    0.0s\n",
      "[Parallel(n_jobs=4)]: Done   4 out of   4 | elapsed:    0.0s finished\n"
     ]
    },
    {
     "name": "stdout",
     "output_type": "stream",
     "text": [
      "using KendallCorr_26 for outlier calculations\n"
     ]
    },
    {
     "name": "stderr",
     "output_type": "stream",
     "text": [
      "[Parallel(n_jobs=4)]: Using backend LokyBackend with 4 concurrent workers.\n",
      "[Parallel(n_jobs=4)]: Done   2 out of   4 | elapsed:    0.0s remaining:    0.0s\n",
      "[Parallel(n_jobs=4)]: Done   4 out of   4 | elapsed:    0.0s finished\n"
     ]
    },
    {
     "name": "stdout",
     "output_type": "stream",
     "text": [
      "using mutual_info_39 for outlier calculations\n"
     ]
    },
    {
     "name": "stderr",
     "output_type": "stream",
     "text": [
      "[Parallel(n_jobs=4)]: Using backend LokyBackend with 4 concurrent workers.\n",
      "[Parallel(n_jobs=4)]: Done   2 out of   4 | elapsed:    0.0s remaining:    0.0s\n",
      "[Parallel(n_jobs=4)]: Done   4 out of   4 | elapsed:    0.0s finished\n"
     ]
    },
    {
     "name": "stdout",
     "output_type": "stream",
     "text": [
      "using rfe_39 for outlier calculations\n"
     ]
    },
    {
     "name": "stderr",
     "output_type": "stream",
     "text": [
      "[Parallel(n_jobs=4)]: Using backend LokyBackend with 4 concurrent workers.\n",
      "[Parallel(n_jobs=4)]: Done   2 out of   4 | elapsed:    0.0s remaining:    0.0s\n",
      "[Parallel(n_jobs=4)]: Done   4 out of   4 | elapsed:    0.0s finished\n"
     ]
    },
    {
     "name": "stdout",
     "output_type": "stream",
     "text": [
      "using random_13 for outlier calculations\n"
     ]
    },
    {
     "name": "stderr",
     "output_type": "stream",
     "text": [
      "[Parallel(n_jobs=4)]: Using backend LokyBackend with 4 concurrent workers.\n",
      "[Parallel(n_jobs=4)]: Done   2 out of   4 | elapsed:    0.0s remaining:    0.0s\n",
      "[Parallel(n_jobs=4)]: Done   4 out of   4 | elapsed:    0.0s finished\n"
     ]
    },
    {
     "name": "stdout",
     "output_type": "stream",
     "text": [
      "using mutual_info_13 for outlier calculations\n"
     ]
    },
    {
     "name": "stderr",
     "output_type": "stream",
     "text": [
      "[Parallel(n_jobs=4)]: Using backend LokyBackend with 4 concurrent workers.\n",
      "[Parallel(n_jobs=4)]: Done   2 out of   4 | elapsed:    0.0s remaining:    0.0s\n",
      "[Parallel(n_jobs=4)]: Done   4 out of   4 | elapsed:    0.0s finished\n"
     ]
    },
    {
     "name": "stdout",
     "output_type": "stream",
     "text": [
      "using xgbtree_26 for outlier calculations\n"
     ]
    },
    {
     "name": "stderr",
     "output_type": "stream",
     "text": [
      "[Parallel(n_jobs=4)]: Using backend LokyBackend with 4 concurrent workers.\n",
      "[Parallel(n_jobs=4)]: Done   2 out of   4 | elapsed:    0.0s remaining:    0.0s\n",
      "[Parallel(n_jobs=4)]: Done   4 out of   4 | elapsed:    0.0s finished\n"
     ]
    },
    {
     "name": "stdout",
     "output_type": "stream",
     "text": [
      "using Fscore_26 for outlier calculations\n"
     ]
    },
    {
     "name": "stderr",
     "output_type": "stream",
     "text": [
      "[Parallel(n_jobs=4)]: Using backend LokyBackend with 4 concurrent workers.\n",
      "[Parallel(n_jobs=4)]: Done   2 out of   4 | elapsed:    0.0s remaining:    0.0s\n",
      "[Parallel(n_jobs=4)]: Done   4 out of   4 | elapsed:    0.0s finished\n"
     ]
    },
    {
     "name": "stdout",
     "output_type": "stream",
     "text": [
      "using FechnerCorr_39 for outlier calculations\n"
     ]
    },
    {
     "name": "stderr",
     "output_type": "stream",
     "text": [
      "[Parallel(n_jobs=4)]: Using backend LokyBackend with 4 concurrent workers.\n",
      "[Parallel(n_jobs=4)]: Done   2 out of   4 | elapsed:    0.0s remaining:    0.0s\n",
      "[Parallel(n_jobs=4)]: Done   4 out of   4 | elapsed:    0.0s finished\n"
     ]
    },
    {
     "name": "stdout",
     "output_type": "stream",
     "text": [
      "using FechnerCorr_26 for outlier calculations\n"
     ]
    },
    {
     "name": "stderr",
     "output_type": "stream",
     "text": [
      "[Parallel(n_jobs=4)]: Using backend LokyBackend with 4 concurrent workers.\n",
      "[Parallel(n_jobs=4)]: Done   2 out of   4 | elapsed:    0.0s remaining:    0.0s\n",
      "[Parallel(n_jobs=4)]: Done   4 out of   4 | elapsed:    0.0s finished\n"
     ]
    },
    {
     "name": "stdout",
     "output_type": "stream",
     "text": [
      "using KendallCorr_39 for outlier calculations\n"
     ]
    },
    {
     "name": "stderr",
     "output_type": "stream",
     "text": [
      "[Parallel(n_jobs=4)]: Using backend LokyBackend with 4 concurrent workers.\n",
      "[Parallel(n_jobs=4)]: Done   2 out of   4 | elapsed:    0.0s remaining:    0.0s\n",
      "[Parallel(n_jobs=4)]: Done   4 out of   4 | elapsed:    0.0s finished\n"
     ]
    },
    {
     "name": "stdout",
     "output_type": "stream",
     "text": [
      "using chi2_13 for outlier calculations\n",
      "saving the outlier file\n"
     ]
    },
    {
     "name": "stderr",
     "output_type": "stream",
     "text": [
      "[Parallel(n_jobs=4)]: Using backend LokyBackend with 4 concurrent workers.\n",
      "[Parallel(n_jobs=4)]: Done   2 out of   4 | elapsed:    0.0s remaining:    0.0s\n",
      "[Parallel(n_jobs=4)]: Done   4 out of   4 | elapsed:    0.0s finished\n"
     ]
    }
   ],
   "source": [
    "detection = OutlierDetection(\"classification_results/filtered_features.xlsx\", output=\"classification_results/outliers.csv\", num_thread=4)\n",
    "outliers = detection.run()"
   ]
  },
  {
   "cell_type": "code",
   "execution_count": 9,
   "metadata": {},
   "outputs": [
    {
     "data": {
      "text/plain": [
       "EH46(23)     243\n",
       "EH125(4)     160\n",
       "EH102(10)    153\n",
       "EH89(13)     153\n",
       "EH51(22)     135\n",
       "EH75(16)     133\n",
       "EH49(23)     110\n",
       "EH138(2)     107\n",
       "EH139(2)      85\n",
       "EH97(11)      78\n",
       "EH71(18)      75\n",
       "EH93(12)      73\n",
       "EH84(13)      72\n",
       "EH130(2)      72\n",
       "EH121(5)      66\n",
       "EH64(20)      61\n",
       "EH53(21)      60\n",
       "EH63(20)      60\n",
       "EH115(8)      57\n",
       "EH101(11)     55\n",
       "dtype: int64"
      ]
     },
     "execution_count": 9,
     "metadata": {},
     "output_type": "execute_result"
    }
   ],
   "source": [
    "outliers.head(20)"
   ]
  },
  {
   "cell_type": "markdown",
   "metadata": {},
   "source": [
    "# 5. Model Training: Classification"
   ]
  },
  {
   "cell_type": "code",
   "execution_count": 1,
   "metadata": {},
   "outputs": [],
   "source": [
    "from BioML.models.classification import Classifier\n",
    "from BioML.models.base import PycaretInterface, Trainer, DataParser\n",
    "from collections import defaultdict\n",
    "from functools import partial\n",
    "import pandas as pd\n",
    "import numpy as np\n",
    "from BioML.utilities.utils import write_results"
   ]
  },
  {
   "cell_type": "markdown",
   "metadata": {},
   "source": [
    "### We first read the data and create train and test set based on the sequence identity threshold\n",
    "The DataParser returns a dataframe with the labels as a column in the same dataframe, which is why we don't need the y_train and the y_test.\n",
    "This is how Pycaret likes it (the library used by BioML to train machine learning models) \n",
    "\n",
    "Here I'm only using one of the sheets for this example, but we don't know which of the sheets would perform better so we might need to iterate through the sheets, train the models and collect the performance for each sheet."
   ]
  },
  {
   "cell_type": "code",
   "execution_count": 4,
   "metadata": {},
   "outputs": [],
   "source": [
    "data = DataParser(\"classification_results/filtered_features.xlsx\", \"../data/esterase_labels.csv\", sheets=\"mutual_info_13\")\n",
    "split = ClusterSpliter(\"cluster.tsv\", num_splits=5, random_state=100, stratified=True)\n",
    "X_train, X_test, _, _ = split.train_test_split(data.features, data.features[data.label])"
   ]
  },
  {
   "cell_type": "code",
   "execution_count": 5,
   "metadata": {},
   "outputs": [
    {
     "data": {
      "text/html": [
       "<div>\n",
       "<style scoped>\n",
       "    .dataframe tbody tr th:only-of-type {\n",
       "        vertical-align: middle;\n",
       "    }\n",
       "\n",
       "    .dataframe tbody tr th {\n",
       "        vertical-align: top;\n",
       "    }\n",
       "\n",
       "    .dataframe thead th {\n",
       "        text-align: right;\n",
       "    }\n",
       "</style>\n",
       "<table border=\"1\" class=\"dataframe\">\n",
       "  <thead>\n",
       "    <tr style=\"text-align: right;\">\n",
       "      <th></th>\n",
       "      <th>smoothed_pssm472_5</th>\n",
       "      <th>smoothed_pssm351_5</th>\n",
       "      <th>eedp243</th>\n",
       "      <th>dpc_pssm75</th>\n",
       "      <th>smoothed_pssm617_5</th>\n",
       "      <th>smoothed_pssm688_9</th>\n",
       "      <th>smoothed_pssm39_7</th>\n",
       "      <th>dpc_pssm30</th>\n",
       "      <th>smoothed_pssm292_5</th>\n",
       "      <th>smoothed_pssm252_5</th>\n",
       "      <th>pssm_composition237</th>\n",
       "      <th>smoothed_pssm628_7</th>\n",
       "      <th>smoothed_pssm77_9</th>\n",
       "      <th>target</th>\n",
       "    </tr>\n",
       "  </thead>\n",
       "  <tbody>\n",
       "    <tr>\n",
       "      <th>EH111(8)</th>\n",
       "      <td>0</td>\n",
       "      <td>-20</td>\n",
       "      <td>5.996016</td>\n",
       "      <td>4.869048</td>\n",
       "      <td>-29</td>\n",
       "      <td>-8</td>\n",
       "      <td>-22</td>\n",
       "      <td>2.853175</td>\n",
       "      <td>-27</td>\n",
       "      <td>-20</td>\n",
       "      <td>-0.221344</td>\n",
       "      <td>-2</td>\n",
       "      <td>-47</td>\n",
       "      <td>0</td>\n",
       "    </tr>\n",
       "    <tr>\n",
       "      <th>EH15(42)</th>\n",
       "      <td>-7</td>\n",
       "      <td>1</td>\n",
       "      <td>6.922680</td>\n",
       "      <td>7.253425</td>\n",
       "      <td>-5</td>\n",
       "      <td>-10</td>\n",
       "      <td>-16</td>\n",
       "      <td>6.787671</td>\n",
       "      <td>2</td>\n",
       "      <td>0</td>\n",
       "      <td>-0.136519</td>\n",
       "      <td>-13</td>\n",
       "      <td>-33</td>\n",
       "      <td>1</td>\n",
       "    </tr>\n",
       "    <tr>\n",
       "      <th>EH117(6)</th>\n",
       "      <td>-13</td>\n",
       "      <td>-22</td>\n",
       "      <td>4.606989</td>\n",
       "      <td>3.873391</td>\n",
       "      <td>-11</td>\n",
       "      <td>-12</td>\n",
       "      <td>-4</td>\n",
       "      <td>2.420601</td>\n",
       "      <td>-14</td>\n",
       "      <td>-20</td>\n",
       "      <td>-0.042827</td>\n",
       "      <td>-24</td>\n",
       "      <td>-31</td>\n",
       "      <td>0</td>\n",
       "    </tr>\n",
       "    <tr>\n",
       "      <th>EH11(53)</th>\n",
       "      <td>-3</td>\n",
       "      <td>-4</td>\n",
       "      <td>5.967532</td>\n",
       "      <td>6.967638</td>\n",
       "      <td>-27</td>\n",
       "      <td>-17</td>\n",
       "      <td>-16</td>\n",
       "      <td>6.925566</td>\n",
       "      <td>0</td>\n",
       "      <td>8</td>\n",
       "      <td>-0.080645</td>\n",
       "      <td>-15</td>\n",
       "      <td>-46</td>\n",
       "      <td>1</td>\n",
       "    </tr>\n",
       "    <tr>\n",
       "      <th>EH135(2)</th>\n",
       "      <td>-12</td>\n",
       "      <td>-8</td>\n",
       "      <td>6.765233</td>\n",
       "      <td>5.707143</td>\n",
       "      <td>-3</td>\n",
       "      <td>-13</td>\n",
       "      <td>-12</td>\n",
       "      <td>5.646429</td>\n",
       "      <td>2</td>\n",
       "      <td>6</td>\n",
       "      <td>-0.117438</td>\n",
       "      <td>2</td>\n",
       "      <td>-22</td>\n",
       "      <td>0</td>\n",
       "    </tr>\n",
       "    <tr>\n",
       "      <th>...</th>\n",
       "      <td>...</td>\n",
       "      <td>...</td>\n",
       "      <td>...</td>\n",
       "      <td>...</td>\n",
       "      <td>...</td>\n",
       "      <td>...</td>\n",
       "      <td>...</td>\n",
       "      <td>...</td>\n",
       "      <td>...</td>\n",
       "      <td>...</td>\n",
       "      <td>...</td>\n",
       "      <td>...</td>\n",
       "      <td>...</td>\n",
       "      <td>...</td>\n",
       "    </tr>\n",
       "    <tr>\n",
       "      <th>EH86(13)</th>\n",
       "      <td>-11</td>\n",
       "      <td>-3</td>\n",
       "      <td>6.300664</td>\n",
       "      <td>7.791391</td>\n",
       "      <td>-28</td>\n",
       "      <td>-24</td>\n",
       "      <td>3</td>\n",
       "      <td>7.990066</td>\n",
       "      <td>2</td>\n",
       "      <td>-2</td>\n",
       "      <td>-0.184818</td>\n",
       "      <td>-13</td>\n",
       "      <td>-21</td>\n",
       "      <td>0</td>\n",
       "    </tr>\n",
       "    <tr>\n",
       "      <th>EH102(10)</th>\n",
       "      <td>-5</td>\n",
       "      <td>-26</td>\n",
       "      <td>7.291860</td>\n",
       "      <td>8.708333</td>\n",
       "      <td>2</td>\n",
       "      <td>14</td>\n",
       "      <td>-17</td>\n",
       "      <td>7.402778</td>\n",
       "      <td>-45</td>\n",
       "      <td>-30</td>\n",
       "      <td>-0.119816</td>\n",
       "      <td>6</td>\n",
       "      <td>-41</td>\n",
       "      <td>0</td>\n",
       "    </tr>\n",
       "    <tr>\n",
       "      <th>EH66(19)</th>\n",
       "      <td>-15</td>\n",
       "      <td>-15</td>\n",
       "      <td>7.493902</td>\n",
       "      <td>9.281250</td>\n",
       "      <td>-31</td>\n",
       "      <td>-25</td>\n",
       "      <td>-12</td>\n",
       "      <td>4.965278</td>\n",
       "      <td>-12</td>\n",
       "      <td>-5</td>\n",
       "      <td>-0.128028</td>\n",
       "      <td>-15</td>\n",
       "      <td>-30</td>\n",
       "      <td>0</td>\n",
       "    </tr>\n",
       "    <tr>\n",
       "      <th>EH23(34)</th>\n",
       "      <td>-6</td>\n",
       "      <td>-8</td>\n",
       "      <td>5.287572</td>\n",
       "      <td>4.426513</td>\n",
       "      <td>-15</td>\n",
       "      <td>-25</td>\n",
       "      <td>-9</td>\n",
       "      <td>4.423631</td>\n",
       "      <td>6</td>\n",
       "      <td>3</td>\n",
       "      <td>-0.114943</td>\n",
       "      <td>-20</td>\n",
       "      <td>-16</td>\n",
       "      <td>1</td>\n",
       "    </tr>\n",
       "    <tr>\n",
       "      <th>EH8(63)</th>\n",
       "      <td>-1</td>\n",
       "      <td>-11</td>\n",
       "      <td>6.274265</td>\n",
       "      <td>7.692082</td>\n",
       "      <td>-11</td>\n",
       "      <td>-10</td>\n",
       "      <td>-4</td>\n",
       "      <td>7.683284</td>\n",
       "      <td>5</td>\n",
       "      <td>0</td>\n",
       "      <td>-0.078947</td>\n",
       "      <td>-7</td>\n",
       "      <td>-14</td>\n",
       "      <td>1</td>\n",
       "    </tr>\n",
       "  </tbody>\n",
       "</table>\n",
       "<p>122 rows × 14 columns</p>\n",
       "</div>"
      ],
      "text/plain": [
       "           smoothed_pssm472_5  smoothed_pssm351_5   eedp243  dpc_pssm75  \\\n",
       "EH111(8)                    0                 -20  5.996016    4.869048   \n",
       "EH15(42)                   -7                   1  6.922680    7.253425   \n",
       "EH117(6)                  -13                 -22  4.606989    3.873391   \n",
       "EH11(53)                   -3                  -4  5.967532    6.967638   \n",
       "EH135(2)                  -12                  -8  6.765233    5.707143   \n",
       "...                       ...                 ...       ...         ...   \n",
       "EH86(13)                  -11                  -3  6.300664    7.791391   \n",
       "EH102(10)                  -5                 -26  7.291860    8.708333   \n",
       "EH66(19)                  -15                 -15  7.493902    9.281250   \n",
       "EH23(34)                   -6                  -8  5.287572    4.426513   \n",
       "EH8(63)                    -1                 -11  6.274265    7.692082   \n",
       "\n",
       "           smoothed_pssm617_5  smoothed_pssm688_9  smoothed_pssm39_7  \\\n",
       "EH111(8)                  -29                  -8                -22   \n",
       "EH15(42)                   -5                 -10                -16   \n",
       "EH117(6)                  -11                 -12                 -4   \n",
       "EH11(53)                  -27                 -17                -16   \n",
       "EH135(2)                   -3                 -13                -12   \n",
       "...                       ...                 ...                ...   \n",
       "EH86(13)                  -28                 -24                  3   \n",
       "EH102(10)                   2                  14                -17   \n",
       "EH66(19)                  -31                 -25                -12   \n",
       "EH23(34)                  -15                 -25                 -9   \n",
       "EH8(63)                   -11                 -10                 -4   \n",
       "\n",
       "           dpc_pssm30  smoothed_pssm292_5  smoothed_pssm252_5  \\\n",
       "EH111(8)     2.853175                 -27                 -20   \n",
       "EH15(42)     6.787671                   2                   0   \n",
       "EH117(6)     2.420601                 -14                 -20   \n",
       "EH11(53)     6.925566                   0                   8   \n",
       "EH135(2)     5.646429                   2                   6   \n",
       "...               ...                 ...                 ...   \n",
       "EH86(13)     7.990066                   2                  -2   \n",
       "EH102(10)    7.402778                 -45                 -30   \n",
       "EH66(19)     4.965278                 -12                  -5   \n",
       "EH23(34)     4.423631                   6                   3   \n",
       "EH8(63)      7.683284                   5                   0   \n",
       "\n",
       "           pssm_composition237  smoothed_pssm628_7  smoothed_pssm77_9  target  \n",
       "EH111(8)             -0.221344                  -2                -47       0  \n",
       "EH15(42)             -0.136519                 -13                -33       1  \n",
       "EH117(6)             -0.042827                 -24                -31       0  \n",
       "EH11(53)             -0.080645                 -15                -46       1  \n",
       "EH135(2)             -0.117438                   2                -22       0  \n",
       "...                        ...                 ...                ...     ...  \n",
       "EH86(13)             -0.184818                 -13                -21       0  \n",
       "EH102(10)            -0.119816                   6                -41       0  \n",
       "EH66(19)             -0.128028                 -15                -30       0  \n",
       "EH23(34)             -0.114943                 -20                -16       1  \n",
       "EH8(63)              -0.078947                  -7                -14       1  \n",
       "\n",
       "[122 rows x 14 columns]"
      ]
     },
     "execution_count": 5,
     "metadata": {},
     "output_type": "execute_result"
    }
   ],
   "source": [
    "X_train"
   ]
  },
  {
   "cell_type": "markdown",
   "metadata": {},
   "source": [
    "There are 3 classes important for training machine learning models in BioML. \n",
    "\n",
    "1. The pycaretInterface which provides a thin layer between pycaret and BioML.\n",
    "2. Classifer or Regressor claases which has the training arguments\n",
    "3. Then the Trainer class that takes both classes to perform classification or regression task.\n",
    "\n",
    "This modularity is similar to other machine learning framewoeks like pytorch-lightning and Hugging Face\n",
    "\n",
    "I recommend learning more about pycaret since it does many things: https://pycaret.readthedocs.io/en/latest/"
   ]
  },
  {
   "cell_type": "markdown",
   "metadata": {},
   "source": [
    "Currently there are 19 supported models, but you can supply your custom models as well as long as it is compatible with the scikit learn API. A fit and a predict or predict_proba methods "
   ]
  },
  {
   "cell_type": "code",
   "execution_count": 61,
   "metadata": {},
   "outputs": [
    {
     "name": "stderr",
     "output_type": "stream",
     "text": [
      "27-05-2024 15:23:05 INFO ------------------------------------------------------------------------------\n",
      "27-05-2024 15:23:05 INFO PycaretInterface parameters\n",
      "27-05-2024 15:23:05 INFO Seed: 250\n",
      "27-05-2024 15:23:05 INFO Budget time: 20\n",
      "27-05-2024 15:23:05 INFO The number of models to select: 3\n",
      "27-05-2024 15:23:05 INFO Output path: classification_results\n",
      "27-05-2024 15:23:05 INFO ----------------Trainer inputs-------------------------\n",
      "27-05-2024 15:23:05 INFO Number of kfolds: 5\n",
      "27-05-2024 15:23:05 INFO Number of retuning iterations: 50\n",
      "27-05-2024 15:23:05 INFO Test size: 0.2\n"
     ]
    }
   ],
   "source": [
    "experiment = PycaretInterface(\"classification\", 250, budget_time=20, best_model=3, \n",
    "                                  output_path=\"classification_results\", optimize=\"MCC\")\n",
    "classifier = Classifier(optimize=\"MCC\", drop=(\"nb\"), selected=(), add=(), plot=(\"learning\", \"confusion_matrix\", \"class_report\"))\n",
    "training = Trainer(experiment, classifier, num_splits=5, test_size=0.2,  num_iter=50, cross_validation=True)"
   ]
  },
  {
   "cell_type": "markdown",
   "metadata": {},
   "source": [
    "Here we pass the custom spliting class if we want to perform cross validation using the same sequence identity criteria.\n",
    "If the sequence identity threshold is important random cross validation would not be valid as well.\n",
    "\n",
    "You can create your own custing spliting class as long as it is compatible with CV generator in scikit-learn\n",
    "\n",
    "You can can also deactivate cross validation set cross_validation=False during the Trainer class instantiation. Then the metrics will be evaluated on the test set\n",
    "\n",
    "The results is a nested dictionary with the results for the different models, ensemble of models and stacking of the models.\n",
    "\n",
    "The models is another nested dictionary with the trained models\n"
   ]
  },
  {
   "cell_type": "code",
   "execution_count": 62,
   "metadata": {},
   "outputs": [
    {
     "name": "stderr",
     "output_type": "stream",
     "text": [
      "27-05-2024 15:23:09 INFO --------------------------------------------------------\n",
      "27-05-2024 15:23:09 INFO Training classification models\n",
      "27-05-2024 15:23:09 INFO The models used ['lr', 'knn', 'dt', 'svm', 'rbfsvm', 'gpc', 'mlp', 'ridge', 'rf', 'qda', 'ada', 'gbc', 'lda', 'et', 'xgboost', 'lightgbm', 'catboost', 'dummy']\n",
      "27-05-2024 15:23:09 INFO The number of models used 18\n",
      "27-05-2024 15:23:09 INFO Time budget is 20 minutes\n",
      "27-05-2024 15:23:10 INFO Model gbc trained in 0.024 minutes\n",
      "27-05-2024 15:23:11 INFO Model rbfsvm trained in 0.02 minutes\n",
      "27-05-2024 15:23:13 INFO Model rf trained in 0.03 minutes\n",
      "27-05-2024 15:23:18 INFO Model catboost trained in 0.086 minutes\n",
      "27-05-2024 15:23:19 INFO Model dt trained in 0.02 minutes\n",
      "27-05-2024 15:23:21 INFO Model dummy trained in 0.02 minutes\n",
      "27-05-2024 15:23:22 INFO Model mlp trained in 0.028 minutes\n",
      "27-05-2024 15:23:24 INFO Model knn trained in 0.022 minutes\n",
      "27-05-2024 15:23:25 INFO Model gpc trained in 0.021 minutes\n",
      "27-05-2024 15:23:26 INFO Model lda trained in 0.022 minutes\n",
      "27-05-2024 15:23:27 INFO Model svm trained in 0.02 minutes\n",
      "27-05-2024 15:25:05 INFO Model lightgbm trained in 1.624 minutes\n",
      "27-05-2024 15:25:06 INFO Model qda trained in 0.02 minutes\n",
      "27-05-2024 15:25:07 INFO Model ridge trained in 0.019 minutes\n",
      "27-05-2024 15:25:08 INFO Model lr trained in 0.02 minutes\n",
      "27-05-2024 15:25:10 INFO Model ada trained in 0.023 minutes\n",
      "27-05-2024 15:25:11 INFO Model et trained in 0.025 minutes\n",
      "27-05-2024 15:25:12 INFO Model xgboost trained in 0.021 minutes\n",
      "27-05-2024 15:25:12 INFO Training over: Total runtime 2.065 minutes\n",
      "27-05-2024 15:25:12 INFO Analyse the best models and plotting them\n",
      "27-05-2024 15:25:12 INFO Analyse the top 1 model: rbfsvm\n",
      "27-05-2024 15:25:14 INFO Analyse the top 2 model: knn\n",
      "27-05-2024 15:25:16 INFO Analyse the top 3 model: qda\n",
      "27-05-2024 15:25:17 INFO --------Stacking the best models--------\n",
      "27-05-2024 15:25:17 INFO ----------Stacking the best models--------------\n",
      "27-05-2024 15:25:19 INFO --------Creating an ensemble model--------\n",
      "27-05-2024 15:25:19 INFO ----------Creating a majority voting model--------------\n",
      "27-05-2024 15:25:19 INFO fold: 5\n",
      "27-05-2024 15:25:19 INFO weights: None\n",
      "27-05-2024 15:25:20 INFO --------Retuning the best models--------\n",
      "27-05-2024 15:25:20 INFO Retuning rbfsvm\n",
      "27-05-2024 15:25:20 INFO ---------Retuning the best models--------------\n",
      "27-05-2024 15:25:20 INFO num_iter: 50\n",
      "27-05-2024 15:25:20 INFO fold: 5\n",
      "27-05-2024 15:25:30 INFO Retuning knn\n",
      "27-05-2024 15:25:30 INFO ---------Retuning the best models--------------\n",
      "27-05-2024 15:25:30 INFO num_iter: 50\n",
      "27-05-2024 15:25:30 INFO fold: 5\n",
      "27-05-2024 15:25:42 INFO Retuning qda\n",
      "27-05-2024 15:25:42 INFO ---------Retuning the best models--------------\n",
      "27-05-2024 15:25:42 INFO num_iter: 50\n",
      "27-05-2024 15:25:42 INFO fold: 5\n",
      "27-05-2024 15:25:52 INFO --------Stacking the best models--------\n",
      "27-05-2024 15:25:52 INFO ----------Stacking the best models--------------\n",
      "27-05-2024 15:25:54 INFO --------Creating an ensemble model--------\n",
      "27-05-2024 15:25:54 INFO ----------Creating a majority voting model--------------\n",
      "27-05-2024 15:25:54 INFO fold: 5\n",
      "27-05-2024 15:25:54 INFO weights: None\n",
      "27-05-2024 15:25:55 INFO Analyse the best models and plotting them\n",
      "27-05-2024 15:25:55 INFO Analyse the top 1 model: rbfsvm\n",
      "27-05-2024 15:25:57 INFO Analyse the top 2 model: knn\n",
      "27-05-2024 15:25:58 INFO Analyse the top 3 model: qda\n"
     ]
    }
   ],
   "source": [
    "results, models = training.generate_training_results(X_train, data.label, tune=True, test_data=X_test, fold_strategy=split)"
   ]
  },
  {
   "cell_type": "markdown",
   "metadata": {},
   "source": [
    "Pycaret also generates different plots for the models it trains, like learning curves, validation curves, Precision Recall Curve, AUC etc: \n",
    "You can add more plots by modifying the plots argument in the classifier or regressor class\n",
    "\n",
    "You can see the full list of plots here: https://pycaret.readthedocs.io/en/stable/api/classification.html#pycaret.classification.plot_model\n",
    "\n",
    "Let's explain the 3 plots that I included by default for the classification: (\"learning\", \"confusion_matrix\", \"class_report\")\n",
    "For regression these are the 3 plots: (\"residuals\", \"error\", \"learning\")"
   ]
  },
  {
   "cell_type": "code",
   "execution_count": 63,
   "metadata": {},
   "outputs": [
    {
     "data": {
      "text/html": [],
      "text/plain": [
       "<IPython.core.display.HTML object>"
      ]
     },
     "metadata": {},
     "output_type": "display_data"
    },
    {
     "data": {
      "image/png": "[encoded data removed]",
      "text/plain": [
       "<Figure size 800x550 with 1 Axes>"
      ]
     },
     "metadata": {},
     "output_type": "display_data"
    }
   ],
   "source": [
    "experiment.pycaret.plot_model(models[\"not_tuned\"][\"holdout\"][\"lr\"], \"learning\")"
   ]
  },
  {
   "cell_type": "markdown",
   "metadata": {},
   "source": [
    "Then if we want we can generate the predictions for the test or holdout set by providing with the trained models and finally \n",
    "we save both the training and the test set results"
   ]
  },
  {
   "cell_type": "code",
   "execution_count": 50,
   "metadata": {},
   "outputs": [],
   "source": [
    "test_set_predictions = training.generate_holdout_prediction(models)"
   ]
  },
  {
   "cell_type": "code",
   "execution_count": 54,
   "metadata": {},
   "outputs": [],
   "source": [
    "training_output = \"classification_results\"\n",
    "l = []\n",
    "for tune_status, result_dict in results.items():\n",
    "    for key, value in result_dict.items():\n",
    "        write_results(f\"{training_output}/{tune_status}\", *value, sheet_name=key)\n",
    "    write_results(f\"{training_output}/{tune_status}\", test_set_predictions[tune_status] , sheet_name=f\"test_results\")"
   ]
  },
  {
   "cell_type": "markdown",
   "metadata": {},
   "source": [
    "This is an example of using one feature set, but if you had various features sets that you want to test you could use iterate_excel from the utilities and the iterate_multiple_features method from Trainer.\n",
    "\n",
    "The method accepts an iterator of (feature dataframe, label column name, name): \n",
    "    1. name is used to identify the features later in the results\n",
    "    2. feature dataframe should contain a column with teh labels\n",
    "    3. label column name within the feature dataframe\n",
    "\n",
    "Then it calls the run_training method from the Trainer iteratively and gathers performance metrics for different sheets.\n",
    "run_training only runs the models without tuning, stacking or esembling.\n",
    "Finally it write the results for each sheet\n",
    "\n",
    "Once you have picked the best performing sheet you could run again the previous steps then perform tuning, stacking and ensembling\n",
    "\n",
    "Iterate excel reads all the sheets from an excel and yields (feature dataframe, label column name, sheet)"
   ]
  },
  {
   "cell_type": "code",
   "execution_count": 4,
   "metadata": {},
   "outputs": [],
   "source": [
    "from BioML.utilities.utils import write_results, iterate_excel\n",
    "from BioML.models.base import DataParser"
   ]
  },
  {
   "cell_type": "code",
   "execution_count": 6,
   "metadata": {},
   "outputs": [
    {
     "name": "stderr",
     "output_type": "stream",
     "text": [
      "27-05-2024 16:16:10 INFO ------------------------------------------------------------------------------\n",
      "27-05-2024 16:16:10 INFO PycaretInterface parameters\n",
      "27-05-2024 16:16:10 INFO Seed: 250\n",
      "27-05-2024 16:16:10 INFO Budget time: 20\n",
      "27-05-2024 16:16:10 INFO The number of models to select: 4\n",
      "27-05-2024 16:16:10 INFO Output path: classification_results\n",
      "27-05-2024 16:16:10 INFO ----------------Trainer inputs-------------------------\n",
      "27-05-2024 16:16:10 INFO Number of kfolds: 5\n",
      "27-05-2024 16:16:10 INFO Number of retuning iterations: 50\n",
      "27-05-2024 16:16:10 INFO Test size: 0.2\n"
     ]
    }
   ],
   "source": [
    "experiment = PycaretInterface(\"classification\", 250, budget_time=20, best_model=4, \n",
    "                                  output_path=\"classification_results\", optimize=\"MCC\")\n",
    "classifier = Classifier(optimize=\"MCC\", drop=(), selected=(), add=())\n",
    "training = Trainer(experiment, classifier, num_splits=5, test_size=0.2,  num_iter=50)"
   ]
  },
  {
   "cell_type": "code",
   "execution_count": 7,
   "metadata": {},
   "outputs": [
    {
     "name": "stderr",
     "output_type": "stream",
     "text": [
      "27-05-2024 16:16:13 INFO --------------------------------------------------------\n",
      "27-05-2024 16:16:13 INFO Training classification models\n",
      "27-05-2024 16:16:13 INFO The models used ['lr', 'knn', 'nb', 'dt', 'svm', 'rbfsvm', 'gpc', 'mlp', 'ridge', 'rf', 'qda', 'ada', 'gbc', 'lda', 'et', 'xgboost', 'lightgbm', 'catboost', 'dummy']\n",
      "27-05-2024 16:16:13 INFO The number of models used 19\n",
      "27-05-2024 16:16:13 INFO Time budget is 20 minutes\n",
      "27-05-2024 16:16:15 INFO Model ada trained in 0.044 minutes\n",
      "27-05-2024 16:16:17 INFO Model svm trained in 0.03 minutes\n",
      "27-05-2024 16:16:18 INFO Model ridge trained in 0.013 minutes\n",
      "27-05-2024 16:16:19 INFO Model xgboost trained in 0.015 minutes\n",
      "27-05-2024 16:16:19 INFO Model nb trained in 0.014 minutes\n",
      "27-05-2024 16:18:02 INFO Model lightgbm trained in 1.708 minutes\n",
      "27-05-2024 16:18:03 INFO Model gpc trained in 0.021 minutes\n",
      "27-05-2024 16:18:04 INFO Model knn trained in 0.015 minutes\n",
      "27-05-2024 16:18:05 INFO Model rbfsvm trained in 0.014 minutes\n",
      "27-05-2024 16:18:06 INFO Model gbc trained in 0.016 minutes\n",
      "27-05-2024 16:18:07 INFO Model dummy trained in 0.013 minutes\n",
      "27-05-2024 16:18:08 INFO Model dt trained in 0.013 minutes\n",
      "27-05-2024 16:18:08 INFO Model qda trained in 0.013 minutes\n",
      "27-05-2024 16:18:09 INFO Model rf trained in 0.019 minutes\n",
      "27-05-2024 16:18:13 INFO Model catboost trained in 0.065 minutes\n",
      "27-05-2024 16:18:15 INFO Model mlp trained in 0.023 minutes\n",
      "27-05-2024 16:18:16 INFO Model lr trained in 0.014 minutes\n",
      "27-05-2024 16:18:16 INFO Model lda trained in 0.013 minutes\n",
      "27-05-2024 16:18:18 INFO Model et trained in 0.02 minutes\n",
      "27-05-2024 16:18:18 INFO Training over: Total runtime 2.084 minutes\n",
      "27-05-2024 16:18:19 INFO --------------------------------------------------------\n",
      "27-05-2024 16:18:19 INFO Training classification models\n",
      "27-05-2024 16:18:19 INFO The models used ['ada', 'svm', 'ridge', 'xgboost', 'nb', 'lightgbm', 'gpc', 'knn', 'rbfsvm', 'gbc', 'dummy', 'dt', 'qda', 'rf', 'catboost', 'mlp', 'lr', 'lda', 'et']\n",
      "27-05-2024 16:18:19 INFO The number of models used 19\n",
      "27-05-2024 16:18:19 INFO Time budget is 20 minutes\n",
      "27-05-2024 16:18:19 INFO Model dt trained in 0.015 minutes\n",
      "27-05-2024 16:18:20 INFO Model nb trained in 0.014 minutes\n",
      "27-05-2024 16:18:21 INFO Model rbfsvm trained in 0.014 minutes\n",
      "27-05-2024 16:18:23 INFO Model mlp trained in 0.029 minutes\n",
      "27-05-2024 16:18:24 INFO Model ridge trained in 0.014 minutes\n",
      "27-05-2024 16:18:24 INFO Model lr trained in 0.014 minutes\n",
      "27-05-2024 16:18:26 INFO Model gpc trained in 0.026 minutes\n",
      "27-05-2024 16:18:27 INFO Model svm trained in 0.014 minutes\n",
      "27-05-2024 16:20:06 INFO Model lightgbm trained in 1.658 minutes\n",
      "27-05-2024 16:20:07 INFO Model qda trained in 0.014 minutes\n",
      "27-05-2024 16:20:08 INFO Model et trained in 0.019 minutes\n",
      "27-05-2024 16:20:09 INFO Model xgboost trained in 0.015 minutes\n",
      "27-05-2024 16:20:10 INFO Model dummy trained in 0.014 minutes\n",
      "27-05-2024 16:20:11 INFO Model gbc trained in 0.016 minutes\n",
      "27-05-2024 16:20:12 INFO Model lda trained in 0.013 minutes\n",
      "27-05-2024 16:20:13 INFO Model knn trained in 0.015 minutes\n",
      "27-05-2024 16:20:14 INFO Model ada trained in 0.017 minutes\n",
      "27-05-2024 16:20:15 INFO Model rf trained in 0.02 minutes\n",
      "27-05-2024 16:20:19 INFO Model catboost trained in 0.063 minutes\n",
      "27-05-2024 16:20:19 INFO Training over: Total runtime 2.004 minutes\n",
      "27-05-2024 16:20:20 INFO --------------------------------------------------------\n",
      "27-05-2024 16:20:20 INFO Training classification models\n",
      "27-05-2024 16:20:20 INFO The models used ['dt', 'nb', 'rbfsvm', 'mlp', 'ridge', 'lr', 'gpc', 'svm', 'lightgbm', 'qda', 'et', 'xgboost', 'dummy', 'gbc', 'lda', 'knn', 'ada', 'rf', 'catboost']\n",
      "27-05-2024 16:20:20 INFO The number of models used 19\n",
      "27-05-2024 16:20:20 INFO Time budget is 20 minutes\n",
      "27-05-2024 16:20:21 INFO Model xgboost trained in 0.016 minutes\n",
      "27-05-2024 16:20:21 INFO Model ridge trained in 0.014 minutes\n",
      "27-05-2024 16:22:07 INFO Model lightgbm trained in 1.765 minutes\n",
      "27-05-2024 16:22:08 INFO Model knn trained in 0.016 minutes\n",
      "27-05-2024 16:22:09 INFO Model rbfsvm trained in 0.014 minutes\n",
      "27-05-2024 16:22:10 INFO Model ada trained in 0.016 minutes\n",
      "27-05-2024 16:22:12 INFO Model gpc trained in 0.024 minutes\n",
      "27-05-2024 16:22:12 INFO Model nb trained in 0.014 minutes\n",
      "27-05-2024 16:22:13 INFO Model lr trained in 0.014 minutes\n",
      "27-05-2024 16:22:14 INFO Model dummy trained in 0.014 minutes\n",
      "27-05-2024 16:22:20 INFO Model catboost trained in 0.093 minutes\n",
      "27-05-2024 16:22:21 INFO Model mlp trained in 0.029 minutes\n",
      "27-05-2024 16:22:23 INFO Model et trained in 0.022 minutes\n",
      "27-05-2024 16:22:23 INFO Model qda trained in 0.014 minutes\n",
      "27-05-2024 16:22:25 INFO Model rf trained in 0.021 minutes\n",
      "27-05-2024 16:22:26 INFO Model svm trained in 0.014 minutes\n",
      "27-05-2024 16:22:26 INFO Model dt trained in 0.014 minutes\n",
      "27-05-2024 16:22:27 INFO Model gbc trained in 0.018 minutes\n",
      "27-05-2024 16:22:28 INFO Model lda trained in 0.014 minutes\n",
      "27-05-2024 16:22:28 INFO Training over: Total runtime 2.144 minutes\n",
      "27-05-2024 16:22:29 INFO --------------------------------------------------------\n",
      "27-05-2024 16:22:29 INFO Training classification models\n",
      "27-05-2024 16:22:29 INFO The models used ['xgboost', 'ridge', 'lightgbm', 'knn', 'rbfsvm', 'ada', 'gpc', 'nb', 'lr', 'dummy', 'catboost', 'mlp', 'et', 'qda', 'rf', 'svm', 'dt', 'gbc', 'lda']\n",
      "27-05-2024 16:22:29 INFO The number of models used 19\n",
      "27-05-2024 16:22:29 INFO Time budget is 20 minutes\n",
      "27-05-2024 16:22:31 INFO Model mlp trained in 0.027 minutes\n",
      "27-05-2024 16:22:32 INFO Model rbfsvm trained in 0.014 minutes\n",
      "27-05-2024 16:22:32 INFO Model lr trained in 0.014 minutes\n",
      "27-05-2024 16:22:33 INFO Model svm trained in 0.013 minutes\n",
      "27-05-2024 16:24:23 INFO Model lightgbm trained in 1.837 minutes\n",
      "27-05-2024 16:24:24 INFO Model dt trained in 0.014 minutes\n",
      "27-05-2024 16:24:26 INFO Model gpc trained in 0.023 minutes\n",
      "27-05-2024 16:24:27 INFO Model ridge trained in 0.013 minutes\n",
      "27-05-2024 16:24:28 INFO Model ada trained in 0.016 minutes\n",
      "27-05-2024 16:24:29 INFO Model et trained in 0.018 minutes\n",
      "27-05-2024 16:24:29 INFO Model lda trained in 0.014 minutes\n",
      "27-05-2024 16:24:30 INFO Model knn trained in 0.015 minutes\n",
      "27-05-2024 16:24:36 INFO Model catboost trained in 0.087 minutes\n",
      "27-05-2024 16:24:36 INFO Model dummy trained in 0.014 minutes\n",
      "27-05-2024 16:24:37 INFO Model gbc trained in 0.017 minutes\n",
      "27-05-2024 16:24:38 INFO Model nb trained in 0.015 minutes\n",
      "27-05-2024 16:24:39 INFO Model xgboost trained in 0.015 minutes\n",
      "27-05-2024 16:24:40 INFO Model qda trained in 0.014 minutes\n",
      "27-05-2024 16:24:41 INFO Model rf trained in 0.021 minutes\n",
      "27-05-2024 16:24:41 INFO Training over: Total runtime 2.203 minutes\n",
      "27-05-2024 16:24:42 INFO --------------------------------------------------------\n",
      "27-05-2024 16:24:42 INFO Training classification models\n",
      "27-05-2024 16:24:42 INFO The models used ['mlp', 'rbfsvm', 'lr', 'svm', 'lightgbm', 'dt', 'gpc', 'ridge', 'ada', 'et', 'lda', 'knn', 'catboost', 'dummy', 'gbc', 'nb', 'xgboost', 'qda', 'rf']\n",
      "27-05-2024 16:24:42 INFO The number of models used 19\n",
      "27-05-2024 16:24:42 INFO Time budget is 20 minutes\n",
      "27-05-2024 16:24:43 INFO Model knn trained in 0.016 minutes\n",
      "27-05-2024 16:26:12 INFO Model lightgbm trained in 1.471 minutes\n",
      "27-05-2024 16:26:12 INFO Model ada trained in 0.016 minutes\n",
      "27-05-2024 16:26:13 INFO Model nb trained in 0.013 minutes\n",
      "27-05-2024 16:26:14 INFO Model lr trained in 0.013 minutes\n",
      "27-05-2024 16:26:15 INFO Model xgboost trained in 0.015 minutes\n",
      "27-05-2024 16:26:17 INFO Model gpc trained in 0.026 minutes\n",
      "27-05-2024 16:26:17 INFO Model rbfsvm trained in 0.014 minutes\n",
      "27-05-2024 16:26:18 INFO Model dt trained in 0.013 minutes\n",
      "27-05-2024 16:26:23 INFO Model catboost trained in 0.073 minutes\n",
      "27-05-2024 16:26:24 INFO Model rf trained in 0.019 minutes\n",
      "27-05-2024 16:26:24 INFO Model svm trained in 0.014 minutes\n",
      "27-05-2024 16:26:25 INFO Model lda trained in 0.014 minutes\n",
      "27-05-2024 16:26:26 INFO Model et trained in 0.018 minutes\n",
      "27-05-2024 16:26:27 INFO Model qda trained in 0.013 minutes\n",
      "27-05-2024 16:26:28 INFO Model ridge trained in 0.013 minutes\n",
      "27-05-2024 16:26:29 INFO Model mlp trained in 0.024 minutes\n",
      "27-05-2024 16:26:30 INFO Model dummy trained in 0.014 minutes\n",
      "27-05-2024 16:26:31 INFO Model gbc trained in 0.017 minutes\n",
      "27-05-2024 16:26:31 INFO Training over: Total runtime 1.815 minutes\n",
      "27-05-2024 16:26:32 INFO --------------------------------------------------------\n",
      "27-05-2024 16:26:32 INFO Training classification models\n",
      "27-05-2024 16:26:32 INFO The models used ['knn', 'lightgbm', 'ada', 'nb', 'lr', 'xgboost', 'gpc', 'rbfsvm', 'dt', 'catboost', 'rf', 'svm', 'lda', 'et', 'qda', 'ridge', 'mlp', 'dummy', 'gbc']\n",
      "27-05-2024 16:26:32 INFO The number of models used 19\n",
      "27-05-2024 16:26:32 INFO Time budget is 20 minutes\n",
      "27-05-2024 16:26:33 INFO Model svm trained in 0.014 minutes\n",
      "27-05-2024 16:26:34 INFO Model lr trained in 0.014 minutes\n",
      "27-05-2024 16:26:35 INFO Model dt trained in 0.014 minutes\n",
      "27-05-2024 16:26:35 INFO Model ridge trained in 0.013 minutes\n",
      "27-05-2024 16:26:36 INFO Model ada trained in 0.017 minutes\n",
      "27-05-2024 16:26:38 INFO Model mlp trained in 0.03 minutes\n",
      "27-05-2024 16:26:40 INFO Model gpc trained in 0.026 minutes\n",
      "27-05-2024 16:28:16 INFO Model lightgbm trained in 1.603 minutes\n",
      "27-05-2024 16:28:17 INFO Model xgboost trained in 0.015 minutes\n",
      "27-05-2024 16:28:18 INFO Model lda trained in 0.014 minutes\n",
      "27-05-2024 16:28:19 INFO Model gbc trained in 0.018 minutes\n",
      "27-05-2024 16:28:20 INFO Model nb trained in 0.014 minutes\n",
      "27-05-2024 16:28:21 INFO Model rf trained in 0.019 minutes\n",
      "27-05-2024 16:28:25 INFO Model catboost trained in 0.069 minutes\n",
      "27-05-2024 16:28:26 INFO Model dummy trained in 0.014 minutes\n",
      "27-05-2024 16:28:27 INFO Model rbfsvm trained in 0.014 minutes\n",
      "27-05-2024 16:28:28 INFO Model knn trained in 0.018 minutes\n",
      "27-05-2024 16:28:29 INFO Model et trained in 0.02 minutes\n",
      "27-05-2024 16:28:30 INFO Model qda trained in 0.014 minutes\n",
      "27-05-2024 16:28:30 INFO Training over: Total runtime 1.961 minutes\n",
      "27-05-2024 16:28:31 INFO --------------------------------------------------------\n",
      "27-05-2024 16:28:31 INFO Training classification models\n",
      "27-05-2024 16:28:31 INFO The models used ['svm', 'lr', 'dt', 'ridge', 'ada', 'mlp', 'gpc', 'lightgbm', 'xgboost', 'lda', 'gbc', 'nb', 'rf', 'catboost', 'dummy', 'rbfsvm', 'knn', 'et', 'qda']\n",
      "27-05-2024 16:28:31 INFO The number of models used 19\n",
      "27-05-2024 16:28:31 INFO Time budget is 20 minutes\n",
      "27-05-2024 16:28:32 INFO Model nb trained in 0.014 minutes\n",
      "27-05-2024 16:28:33 INFO Model ada trained in 0.017 minutes\n",
      "27-05-2024 16:28:34 INFO Model xgboost trained in 0.016 minutes\n",
      "27-05-2024 16:28:34 INFO Model rbfsvm trained in 0.014 minutes\n",
      "27-05-2024 16:28:35 INFO Model dt trained in 0.015 minutes\n",
      "27-05-2024 16:28:36 INFO Model knn trained in 0.018 minutes\n",
      "27-05-2024 16:28:39 INFO Model gpc trained in 0.036 minutes\n",
      "27-05-2024 16:28:39 INFO Model lr trained in 0.015 minutes\n",
      "27-05-2024 16:28:41 INFO Model mlp trained in 0.033 minutes\n",
      "27-05-2024 16:28:43 INFO Model rf trained in 0.021 minutes\n",
      "27-05-2024 16:28:43 INFO Model qda trained in 0.013 minutes\n",
      "27-05-2024 16:28:44 INFO Model ridge trained in 0.013 minutes\n",
      "27-05-2024 16:28:45 INFO Model gbc trained in 0.017 minutes\n",
      "27-05-2024 16:28:46 INFO Model lda trained in 0.014 minutes\n",
      "27-05-2024 16:28:47 INFO Model et trained in 0.019 minutes\n",
      "27-05-2024 16:30:31 INFO Model lightgbm trained in 1.726 minutes\n",
      "27-05-2024 16:30:32 INFO Model svm trained in 0.014 minutes\n",
      "27-05-2024 16:30:36 INFO Model catboost trained in 0.067 minutes\n",
      "27-05-2024 16:30:36 INFO Model dummy trained in 0.014 minutes\n",
      "27-05-2024 16:30:36 INFO Training over: Total runtime 2.097 minutes\n",
      "27-05-2024 16:30:37 INFO --------------------------------------------------------\n",
      "27-05-2024 16:30:37 INFO Training classification models\n",
      "27-05-2024 16:30:37 INFO The models used ['nb', 'ada', 'xgboost', 'rbfsvm', 'dt', 'knn', 'gpc', 'lr', 'mlp', 'rf', 'qda', 'ridge', 'gbc', 'lda', 'et', 'lightgbm', 'svm', 'catboost', 'dummy']\n",
      "27-05-2024 16:30:37 INFO The number of models used 19\n",
      "27-05-2024 16:30:37 INFO Time budget is 20 minutes\n",
      "27-05-2024 16:30:38 INFO Model ridge trained in 0.014 minutes\n",
      "27-05-2024 16:30:39 INFO Model dt trained in 0.014 minutes\n",
      "27-05-2024 16:30:40 INFO Model mlp trained in 0.024 minutes\n",
      "27-05-2024 16:32:14 INFO Model lightgbm trained in 1.565 minutes\n",
      "27-05-2024 16:32:15 INFO Model xgboost trained in 0.015 minutes\n",
      "27-05-2024 16:32:16 INFO Model svm trained in 0.014 minutes\n",
      "27-05-2024 16:32:18 INFO Model gpc trained in 0.032 minutes\n",
      "27-05-2024 16:32:19 INFO Model ada trained in 0.017 minutes\n",
      "27-05-2024 16:32:20 INFO Model knn trained in 0.016 minutes\n",
      "27-05-2024 16:32:21 INFO Model gbc trained in 0.017 minutes\n",
      "27-05-2024 16:32:22 INFO Model dummy trained in 0.014 minutes\n",
      "27-05-2024 16:32:23 INFO Model rbfsvm trained in 0.015 minutes\n",
      "27-05-2024 16:32:24 INFO Model qda trained in 0.015 minutes\n",
      "27-05-2024 16:32:25 INFO Model rf trained in 0.025 minutes\n",
      "27-05-2024 16:32:32 INFO Model catboost trained in 0.122 minutes\n",
      "27-05-2024 16:32:33 INFO Model lr trained in 0.014 minutes\n",
      "27-05-2024 16:32:34 INFO Model nb trained in 0.017 minutes\n",
      "27-05-2024 16:32:35 INFO Model lda trained in 0.015 minutes\n",
      "27-05-2024 16:32:37 INFO Model et trained in 0.022 minutes\n",
      "27-05-2024 16:32:37 INFO Training over: Total runtime 1.987 minutes\n",
      "27-05-2024 16:32:37 INFO --------------------------------------------------------\n",
      "27-05-2024 16:32:37 INFO Training classification models\n",
      "27-05-2024 16:32:37 INFO The models used ['ridge', 'dt', 'mlp', 'lightgbm', 'xgboost', 'svm', 'gpc', 'ada', 'knn', 'gbc', 'dummy', 'rbfsvm', 'qda', 'rf', 'catboost', 'lr', 'nb', 'lda', 'et']\n",
      "27-05-2024 16:32:37 INFO The number of models used 19\n",
      "27-05-2024 16:32:37 INFO Time budget is 20 minutes\n",
      "27-05-2024 16:32:38 INFO Model rbfsvm trained in 0.016 minutes\n",
      "27-05-2024 16:32:39 INFO Model xgboost trained in 0.017 minutes\n",
      "27-05-2024 16:32:40 INFO Model knn trained in 0.016 minutes\n",
      "27-05-2024 16:32:41 INFO Model lr trained in 0.015 minutes\n",
      "27-05-2024 16:32:44 INFO Model mlp trained in 0.037 minutes\n",
      "27-05-2024 16:32:44 INFO Model nb trained in 0.015 minutes\n",
      "27-05-2024 16:32:47 INFO Model gpc trained in 0.04 minutes\n",
      "27-05-2024 16:32:48 INFO Model dt trained in 0.016 minutes\n",
      "27-05-2024 16:32:49 INFO Model svm trained in 0.015 minutes\n",
      "27-05-2024 16:32:50 INFO Model qda trained in 0.018 minutes\n",
      "27-05-2024 16:32:51 INFO Model et trained in 0.023 minutes\n",
      "27-05-2024 16:34:03 INFO Model lightgbm trained in 1.196 minutes\n",
      "27-05-2024 16:34:04 INFO Model dummy trained in 0.014 minutes\n",
      "27-05-2024 16:34:05 INFO Model gbc trained in 0.017 minutes\n",
      "27-05-2024 16:34:06 INFO Model lda trained in 0.014 minutes\n",
      "27-05-2024 16:34:07 INFO Model ada trained in 0.018 minutes\n",
      "27-05-2024 16:34:08 INFO Model ridge trained in 0.015 minutes\n",
      "27-05-2024 16:34:09 INFO Model rf trained in 0.02 minutes\n",
      "27-05-2024 16:34:19 INFO Model catboost trained in 0.167 minutes\n",
      "27-05-2024 16:34:19 INFO Training over: Total runtime 1.691 minutes\n",
      "27-05-2024 16:34:20 INFO --------------------------------------------------------\n",
      "27-05-2024 16:34:20 INFO Training classification models\n",
      "27-05-2024 16:34:20 INFO The models used ['rbfsvm', 'xgboost', 'knn', 'lr', 'mlp', 'nb', 'gpc', 'dt', 'svm', 'qda', 'et', 'lightgbm', 'dummy', 'gbc', 'lda', 'ada', 'ridge', 'rf', 'catboost']\n",
      "27-05-2024 16:34:20 INFO The number of models used 19\n",
      "27-05-2024 16:34:20 INFO Time budget is 20 minutes\n",
      "27-05-2024 16:36:04 INFO Model lightgbm trained in 1.725 minutes\n",
      "27-05-2024 16:36:05 INFO Model mlp trained in 0.023 minutes\n",
      "27-05-2024 16:36:06 INFO Model svm trained in 0.015 minutes\n",
      "27-05-2024 16:36:07 INFO Model ada trained in 0.017 minutes\n",
      "27-05-2024 16:36:08 INFO Model knn trained in 0.015 minutes\n",
      "27-05-2024 16:36:09 INFO Model ridge trained in 0.015 minutes\n",
      "27-05-2024 16:36:10 INFO Model gpc trained in 0.03 minutes\n",
      "27-05-2024 16:36:11 INFO Model xgboost trained in 0.016 minutes\n",
      "27-05-2024 16:36:12 INFO Model nb trained in 0.015 minutes\n",
      "27-05-2024 16:36:13 INFO Model dummy trained in 0.015 minutes\n",
      "27-05-2024 16:36:21 INFO Model catboost trained in 0.133 minutes\n",
      "27-05-2024 16:36:22 INFO Model lr trained in 0.015 minutes\n",
      "27-05-2024 16:36:23 INFO Model et trained in 0.022 minutes\n",
      "27-05-2024 16:36:24 INFO Model qda trained in 0.015 minutes\n",
      "27-05-2024 16:36:26 INFO Model rf trained in 0.023 minutes\n",
      "27-05-2024 16:36:27 INFO Model dt trained in 0.015 minutes\n",
      "27-05-2024 16:36:27 INFO Model rbfsvm trained in 0.015 minutes\n",
      "27-05-2024 16:36:29 INFO Model gbc trained in 0.021 minutes\n",
      "27-05-2024 16:36:30 INFO Model lda trained in 0.015 minutes\n",
      "27-05-2024 16:36:30 INFO Training over: Total runtime 2.16 minutes\n",
      "27-05-2024 16:36:31 INFO --------------------------------------------------------\n",
      "27-05-2024 16:36:31 INFO Training classification models\n",
      "27-05-2024 16:36:31 INFO The models used ['lightgbm', 'mlp', 'svm', 'ada', 'knn', 'ridge', 'gpc', 'xgboost', 'nb', 'dummy', 'catboost', 'lr', 'et', 'qda', 'rf', 'dt', 'rbfsvm', 'gbc', 'lda']\n",
      "27-05-2024 16:36:31 INFO The number of models used 19\n",
      "27-05-2024 16:36:31 INFO Time budget is 20 minutes\n",
      "27-05-2024 16:36:31 INFO Model lr trained in 0.015 minutes\n",
      "27-05-2024 16:36:32 INFO Model knn trained in 0.015 minutes\n",
      "27-05-2024 16:36:33 INFO Model nb trained in 0.014 minutes\n",
      "27-05-2024 16:36:34 INFO Model dt trained in 0.015 minutes\n",
      "27-05-2024 16:36:35 INFO Model svm trained in 0.014 minutes\n",
      "27-05-2024 16:36:36 INFO Model rbfsvm trained in 0.015 minutes\n",
      "27-05-2024 16:36:38 INFO Model gpc trained in 0.032 minutes\n",
      "27-05-2024 16:36:39 INFO Model mlp trained in 0.026 minutes\n",
      "27-05-2024 16:36:40 INFO Model ridge trained in 0.015 minutes\n",
      "27-05-2024 16:36:42 INFO Model et trained in 0.021 minutes\n",
      "27-05-2024 16:36:42 INFO Model lda trained in 0.015 minutes\n",
      "27-05-2024 16:36:44 INFO Model ada trained in 0.021 minutes\n",
      "27-05-2024 16:36:54 INFO Model catboost trained in 0.177 minutes\n",
      "27-05-2024 16:36:55 INFO Model dummy trained in 0.016 minutes\n",
      "27-05-2024 16:36:57 INFO Model gbc trained in 0.021 minutes\n",
      "27-05-2024 16:36:58 INFO Model xgboost trained in 0.017 minutes\n",
      "27-05-2024 16:38:38 INFO Model lightgbm trained in 1.673 minutes\n",
      "27-05-2024 16:38:39 INFO Model qda trained in 0.014 minutes\n",
      "27-05-2024 16:38:40 INFO Model rf trained in 0.02 minutes\n",
      "27-05-2024 16:38:40 INFO Training over: Total runtime 2.157 minutes\n",
      "27-05-2024 16:38:41 INFO --------------------------------------------------------\n",
      "27-05-2024 16:38:41 INFO Training classification models\n",
      "27-05-2024 16:38:41 INFO The models used ['lr', 'knn', 'nb', 'dt', 'svm', 'rbfsvm', 'gpc', 'mlp', 'ridge', 'et', 'lda', 'ada', 'catboost', 'dummy', 'gbc', 'xgboost', 'lightgbm', 'qda', 'rf']\n",
      "27-05-2024 16:38:41 INFO The number of models used 19\n",
      "27-05-2024 16:38:41 INFO Time budget is 20 minutes\n",
      "27-05-2024 16:38:42 INFO Model ada trained in 0.017 minutes\n",
      "27-05-2024 16:38:43 INFO Model svm trained in 0.014 minutes\n",
      "27-05-2024 16:38:44 INFO Model ridge trained in 0.014 minutes\n",
      "27-05-2024 16:38:45 INFO Model xgboost trained in 0.015 minutes\n",
      "27-05-2024 16:38:45 INFO Model nb trained in 0.014 minutes\n",
      "27-05-2024 16:40:22 INFO Model lightgbm trained in 1.617 minutes\n",
      "27-05-2024 16:40:24 INFO Model gpc trained in 0.026 minutes\n",
      "27-05-2024 16:40:25 INFO Model knn trained in 0.015 minutes\n",
      "27-05-2024 16:40:26 INFO Model rbfsvm trained in 0.015 minutes\n",
      "27-05-2024 16:40:33 INFO Model catboost trained in 0.123 minutes\n",
      "27-05-2024 16:40:35 INFO Model rf trained in 0.022 minutes\n",
      "27-05-2024 16:40:35 INFO Model dt trained in 0.015 minutes\n",
      "27-05-2024 16:40:36 INFO Model lda trained in 0.016 minutes\n",
      "27-05-2024 16:40:38 INFO Model et trained in 0.024 minutes\n",
      "27-05-2024 16:40:39 INFO Model qda trained in 0.015 minutes\n",
      "27-05-2024 16:40:41 INFO Model mlp trained in 0.03 minutes\n",
      "27-05-2024 16:40:41 INFO Model lr trained in 0.016 minutes\n",
      "27-05-2024 16:40:42 INFO Model dummy trained in 0.015 minutes\n",
      "27-05-2024 16:40:44 INFO Model gbc trained in 0.021 minutes\n",
      "27-05-2024 16:40:44 INFO Training over: Total runtime 2.047 minutes\n",
      "27-05-2024 16:40:45 INFO --------------------------------------------------------\n",
      "27-05-2024 16:40:45 INFO Training classification models\n",
      "27-05-2024 16:40:45 INFO The models used ['ada', 'svm', 'ridge', 'xgboost', 'nb', 'lightgbm', 'gpc', 'knn', 'rbfsvm', 'catboost', 'rf', 'dt', 'lda', 'et', 'qda', 'mlp', 'lr', 'dummy', 'gbc']\n",
      "27-05-2024 16:40:45 INFO The number of models used 19\n",
      "27-05-2024 16:40:45 INFO Time budget is 20 minutes\n",
      "27-05-2024 16:40:46 INFO Model dt trained in 0.015 minutes\n",
      "27-05-2024 16:40:47 INFO Model nb trained in 0.015 minutes\n",
      "27-05-2024 16:40:47 INFO Model rbfsvm trained in 0.015 minutes\n",
      "27-05-2024 16:40:49 INFO Model mlp trained in 0.029 minutes\n",
      "27-05-2024 16:40:50 INFO Model ridge trained in 0.015 minutes\n",
      "27-05-2024 16:40:51 INFO Model lr trained in 0.015 minutes\n",
      "27-05-2024 16:40:53 INFO Model gpc trained in 0.027 minutes\n",
      "27-05-2024 16:40:54 INFO Model svm trained in 0.015 minutes\n",
      "27-05-2024 16:42:28 INFO Model lightgbm trained in 1.567 minutes\n",
      "27-05-2024 16:42:28 INFO Model lda trained in 0.015 minutes\n",
      "27-05-2024 16:42:30 INFO Model gbc trained in 0.018 minutes\n",
      "27-05-2024 16:42:30 INFO Model xgboost trained in 0.016 minutes\n",
      "27-05-2024 16:42:32 INFO Model rf trained in 0.02 minutes\n",
      "27-05-2024 16:42:37 INFO Model catboost trained in 0.096 minutes\n",
      "27-05-2024 16:42:38 INFO Model dummy trained in 0.015 minutes\n",
      "27-05-2024 16:42:39 INFO Model knn trained in 0.015 minutes\n",
      "27-05-2024 16:42:40 INFO Model ada trained in 0.018 minutes\n",
      "27-05-2024 16:42:42 INFO Model et trained in 0.021 minutes\n",
      "27-05-2024 16:42:42 INFO Model qda trained in 0.015 minutes\n",
      "27-05-2024 16:42:42 INFO Training over: Total runtime 1.962 minutes\n",
      "27-05-2024 16:42:43 INFO --------------------------------------------------------\n",
      "27-05-2024 16:42:43 INFO Training classification models\n",
      "27-05-2024 16:42:43 INFO The models used ['dt', 'nb', 'rbfsvm', 'mlp', 'ridge', 'lr', 'gpc', 'svm', 'lightgbm', 'lda', 'gbc', 'xgboost', 'rf', 'catboost', 'dummy', 'knn', 'ada', 'et', 'qda']\n",
      "27-05-2024 16:42:43 INFO The number of models used 19\n",
      "27-05-2024 16:42:43 INFO Time budget is 20 minutes\n",
      "27-05-2024 16:42:44 INFO Model xgboost trained in 0.017 minutes\n",
      "27-05-2024 16:42:45 INFO Model ridge trained in 0.014 minutes\n",
      "27-05-2024 16:44:17 INFO Model lightgbm trained in 1.537 minutes\n",
      "27-05-2024 16:44:18 INFO Model knn trained in 0.016 minutes\n",
      "27-05-2024 16:44:19 INFO Model rbfsvm trained in 0.016 minutes\n",
      "27-05-2024 16:44:20 INFO Model ada trained in 0.017 minutes\n",
      "27-05-2024 16:44:22 INFO Model gpc trained in 0.026 minutes\n",
      "27-05-2024 16:44:23 INFO Model nb trained in 0.015 minutes\n",
      "27-05-2024 16:44:24 INFO Model lr trained in 0.015 minutes\n",
      "27-05-2024 16:44:25 INFO Model rf trained in 0.021 minutes\n",
      "27-05-2024 16:44:26 INFO Model qda trained in 0.015 minutes\n",
      "27-05-2024 16:44:27 INFO Model mlp trained in 0.023 minutes\n",
      "27-05-2024 16:44:28 INFO Model gbc trained in 0.018 minutes\n",
      "27-05-2024 16:44:29 INFO Model lda trained in 0.015 minutes\n",
      "27-05-2024 16:44:30 INFO Model et trained in 0.019 minutes\n",
      "27-05-2024 16:44:31 INFO Model svm trained in 0.015 minutes\n",
      "27-05-2024 16:44:32 INFO Model dt trained in 0.015 minutes\n",
      "27-05-2024 16:44:42 INFO Model catboost trained in 0.166 minutes\n",
      "27-05-2024 16:44:43 INFO Model dummy trained in 0.015 minutes\n",
      "27-05-2024 16:44:43 INFO Training over: Total runtime 1.994 minutes\n",
      "27-05-2024 16:44:44 INFO --------------------------------------------------------\n",
      "27-05-2024 16:44:44 INFO Training classification models\n",
      "27-05-2024 16:44:44 INFO The models used ['xgboost', 'ridge', 'lightgbm', 'knn', 'rbfsvm', 'ada', 'gpc', 'nb', 'lr', 'rf', 'qda', 'mlp', 'gbc', 'lda', 'et', 'svm', 'dt', 'catboost', 'dummy']\n",
      "27-05-2024 16:44:44 INFO The number of models used 19\n",
      "27-05-2024 16:44:44 INFO Time budget is 20 minutes\n",
      "27-05-2024 16:44:46 INFO Model mlp trained in 0.031 minutes\n",
      "27-05-2024 16:44:47 INFO Model rbfsvm trained in 0.015 minutes\n",
      "27-05-2024 16:44:48 INFO Model lr trained in 0.015 minutes\n",
      "27-05-2024 16:44:49 INFO Model svm trained in 0.015 minutes\n",
      "27-05-2024 16:46:29 INFO Model lightgbm trained in 1.666 minutes\n",
      "27-05-2024 16:46:30 INFO Model dt trained in 0.031 minutes\n",
      "27-05-2024 16:46:35 INFO Model gpc trained in 0.073 minutes\n",
      "27-05-2024 16:46:36 INFO Model ridge trained in 0.021 minutes\n",
      "27-05-2024 16:46:38 INFO Model ada trained in 0.029 minutes\n",
      "27-05-2024 16:46:40 INFO Model gbc trained in 0.035 minutes\n",
      "27-05-2024 16:46:42 INFO Model dummy trained in 0.029 minutes\n",
      "27-05-2024 16:46:44 INFO Model knn trained in 0.034 minutes\n",
      "27-05-2024 16:46:45 INFO Model qda trained in 0.025 minutes\n",
      "27-05-2024 16:46:48 INFO Model rf trained in 0.038 minutes\n",
      "27-05-2024 16:46:58 INFO Model catboost trained in 0.166 minutes\n",
      "27-05-2024 16:46:58 INFO Model nb trained in 0.015 minutes\n",
      "27-05-2024 16:46:59 INFO Model xgboost trained in 0.017 minutes\n",
      "27-05-2024 16:47:01 INFO Model lda trained in 0.02 minutes\n",
      "27-05-2024 16:47:02 INFO Model et trained in 0.028 minutes\n",
      "27-05-2024 16:47:02 INFO Training over: Total runtime 2.307 minutes\n",
      "27-05-2024 16:47:04 INFO --------------------------------------------------------\n",
      "27-05-2024 16:47:04 INFO Training classification models\n",
      "27-05-2024 16:47:04 INFO The models used ['mlp', 'rbfsvm', 'lr', 'svm', 'lightgbm', 'dt', 'gpc', 'ridge', 'ada', 'gbc', 'dummy', 'knn', 'qda', 'rf', 'catboost', 'nb', 'xgboost', 'lda', 'et']\n",
      "27-05-2024 16:47:04 INFO The number of models used 19\n",
      "27-05-2024 16:47:04 INFO Time budget is 20 minutes\n",
      "27-05-2024 16:47:04 INFO Model knn trained in 0.016 minutes\n",
      "27-05-2024 16:48:35 INFO Model lightgbm trained in 1.51 minutes\n",
      "27-05-2024 16:48:36 INFO Model ada trained in 0.017 minutes\n",
      "27-05-2024 16:48:37 INFO Model nb trained in 0.014 minutes\n",
      "27-05-2024 16:48:38 INFO Model lr trained in 0.014 minutes\n",
      "27-05-2024 16:48:39 INFO Model xgboost trained in 0.016 minutes\n",
      "27-05-2024 16:48:40 INFO Model gpc trained in 0.024 minutes\n",
      "27-05-2024 16:48:41 INFO Model rbfsvm trained in 0.014 minutes\n",
      "27-05-2024 16:48:42 INFO Model dt trained in 0.014 minutes\n",
      "27-05-2024 16:48:43 INFO Model qda trained in 0.014 minutes\n",
      "27-05-2024 16:48:44 INFO Model et trained in 0.019 minutes\n",
      "27-05-2024 16:48:45 INFO Model svm trained in 0.015 minutes\n",
      "27-05-2024 16:48:46 INFO Model dummy trained in 0.015 minutes\n",
      "27-05-2024 16:48:47 INFO Model gbc trained in 0.019 minutes\n",
      "27-05-2024 16:48:48 INFO Model lda trained in 0.016 minutes\n",
      "27-05-2024 16:48:49 INFO Model ridge trained in 0.015 minutes\n",
      "27-05-2024 16:48:50 INFO Model mlp trained in 0.023 minutes\n",
      "27-05-2024 16:48:51 INFO Model rf trained in 0.02 minutes\n",
      "27-05-2024 16:48:59 INFO Model catboost trained in 0.138 minutes\n",
      "27-05-2024 16:48:59 INFO Training over: Total runtime 1.933 minutes\n",
      "27-05-2024 16:49:01 INFO --------------------------------------------------------\n",
      "27-05-2024 16:49:01 INFO Training classification models\n",
      "27-05-2024 16:49:01 INFO The models used ['knn', 'lightgbm', 'ada', 'nb', 'lr', 'xgboost', 'gpc', 'rbfsvm', 'dt', 'qda', 'et', 'svm', 'dummy', 'gbc', 'lda', 'ridge', 'mlp', 'rf', 'catboost']\n",
      "27-05-2024 16:49:01 INFO The number of models used 19\n",
      "27-05-2024 16:49:01 INFO Time budget is 20 minutes\n",
      "27-05-2024 16:49:02 INFO Model svm trained in 0.018 minutes\n",
      "27-05-2024 16:49:03 INFO Model lr trained in 0.017 minutes\n",
      "27-05-2024 16:49:04 INFO Model dt trained in 0.016 minutes\n",
      "27-05-2024 16:49:05 INFO Model ridge trained in 0.016 minutes\n",
      "27-05-2024 16:49:06 INFO Model ada trained in 0.02 minutes\n",
      "27-05-2024 16:49:08 INFO Model mlp trained in 0.036 minutes\n",
      "27-05-2024 16:49:10 INFO Model gpc trained in 0.027 minutes\n",
      "27-05-2024 16:50:40 INFO Model lightgbm trained in 1.513 minutes\n",
      "27-05-2024 16:50:41 INFO Model xgboost trained in 0.016 minutes\n",
      "27-05-2024 16:50:42 INFO Model dummy trained in 0.014 minutes\n",
      "27-05-2024 16:50:53 INFO Model catboost trained in 0.184 minutes\n",
      "27-05-2024 16:50:54 INFO Model nb trained in 0.016 minutes\n",
      "27-05-2024 16:50:56 INFO Model et trained in 0.022 minutes\n",
      "27-05-2024 16:50:56 INFO Model qda trained in 0.015 minutes\n",
      "27-05-2024 16:50:58 INFO Model rf trained in 0.023 minutes\n",
      "27-05-2024 16:50:59 INFO Model rbfsvm trained in 0.016 minutes\n",
      "27-05-2024 16:51:00 INFO Model knn trained in 0.016 minutes\n",
      "27-05-2024 16:51:01 INFO Model gbc trained in 0.02 minutes\n",
      "27-05-2024 16:51:02 INFO Model lda trained in 0.015 minutes\n",
      "27-05-2024 16:51:02 INFO Training over: Total runtime 2.021 minutes\n",
      "27-05-2024 16:51:03 INFO --------------------------------------------------------\n",
      "27-05-2024 16:51:03 INFO Training classification models\n",
      "27-05-2024 16:51:03 INFO The models used ['svm', 'lr', 'dt', 'ridge', 'ada', 'mlp', 'gpc', 'lightgbm', 'xgboost', 'dummy', 'catboost', 'nb', 'et', 'qda', 'rf', 'rbfsvm', 'knn', 'gbc', 'lda']\n",
      "27-05-2024 16:51:03 INFO The number of models used 19\n",
      "27-05-2024 16:51:03 INFO Time budget is 20 minutes\n",
      "27-05-2024 16:51:04 INFO Model nb trained in 0.016 minutes\n",
      "27-05-2024 16:51:05 INFO Model ada trained in 0.02 minutes\n",
      "27-05-2024 16:51:06 INFO Model xgboost trained in 0.017 minutes\n",
      "27-05-2024 16:51:07 INFO Model rbfsvm trained in 0.015 minutes\n",
      "27-05-2024 16:51:08 INFO Model dt trained in 0.014 minutes\n",
      "27-05-2024 16:51:09 INFO Model knn trained in 0.015 minutes\n",
      "27-05-2024 16:51:10 INFO Model gpc trained in 0.029 minutes\n",
      "27-05-2024 16:51:11 INFO Model lr trained in 0.015 minutes\n",
      "27-05-2024 16:51:13 INFO Model mlp trained in 0.023 minutes\n",
      "27-05-2024 16:51:14 INFO Model et trained in 0.02 minutes\n",
      "27-05-2024 16:51:15 INFO Model lda trained in 0.015 minutes\n",
      "27-05-2024 16:51:16 INFO Model ridge trained in 0.015 minutes\n",
      "27-05-2024 16:51:26 INFO Model catboost trained in 0.176 minutes\n",
      "27-05-2024 16:51:27 INFO Model dummy trained in 0.015 minutes\n",
      "27-05-2024 16:51:28 INFO Model gbc trained in 0.021 minutes\n",
      "27-05-2024 16:53:02 INFO Model lightgbm trained in 1.56 minutes\n",
      "27-05-2024 16:53:03 INFO Model svm trained in 0.016 minutes\n",
      "27-05-2024 16:53:04 INFO Model qda trained in 0.016 minutes\n",
      "27-05-2024 16:53:05 INFO Model rf trained in 0.021 minutes\n",
      "27-05-2024 16:53:05 INFO Training over: Total runtime 2.038 minutes\n",
      "27-05-2024 16:53:06 INFO --------------------------------------------------------\n",
      "27-05-2024 16:53:06 INFO Training classification models\n",
      "27-05-2024 16:53:06 INFO The models used ['nb', 'ada', 'xgboost', 'rbfsvm', 'dt', 'knn', 'gpc', 'lr', 'mlp', 'et', 'lda', 'ridge', 'catboost', 'dummy', 'gbc', 'lightgbm', 'svm', 'qda', 'rf']\n",
      "27-05-2024 16:53:06 INFO The number of models used 19\n",
      "27-05-2024 16:53:06 INFO Time budget is 20 minutes\n",
      "27-05-2024 16:53:07 INFO Model ridge trained in 0.015 minutes\n",
      "27-05-2024 16:53:08 INFO Model dt trained in 0.015 minutes\n",
      "27-05-2024 16:53:09 INFO Model mlp trained in 0.023 minutes\n",
      "27-05-2024 16:54:45 INFO Model lightgbm trained in 1.597 minutes\n",
      "27-05-2024 16:54:46 INFO Model xgboost trained in 0.017 minutes\n",
      "27-05-2024 16:54:47 INFO Model svm trained in 0.015 minutes\n",
      "27-05-2024 16:54:48 INFO Model gpc trained in 0.026 minutes\n",
      "27-05-2024 16:54:50 INFO Model ada trained in 0.018 minutes\n",
      "27-05-2024 16:54:51 INFO Model knn trained in 0.015 minutes\n",
      "27-05-2024 16:55:01 INFO Model catboost trained in 0.181 minutes\n",
      "27-05-2024 16:55:03 INFO Model rf trained in 0.025 minutes\n",
      "27-05-2024 16:55:04 INFO Model rbfsvm trained in 0.017 minutes\n",
      "27-05-2024 16:55:05 INFO Model lda trained in 0.017 minutes\n",
      "27-05-2024 16:55:06 INFO Model et trained in 0.022 minutes\n",
      "27-05-2024 16:55:07 INFO Model qda trained in 0.015 minutes\n",
      "27-05-2024 16:55:08 INFO Model lr trained in 0.016 minutes\n",
      "27-05-2024 16:55:09 INFO Model nb trained in 0.015 minutes\n",
      "27-05-2024 16:55:10 INFO Model dummy trained in 0.016 minutes\n",
      "27-05-2024 16:55:11 INFO Model gbc trained in 0.022 minutes\n",
      "27-05-2024 16:55:11 INFO Training over: Total runtime 2.087 minutes\n",
      "27-05-2024 16:55:12 INFO --------------------------------------------------------\n",
      "27-05-2024 16:55:12 INFO Training classification models\n",
      "27-05-2024 16:55:12 INFO The models used ['ridge', 'dt', 'mlp', 'lightgbm', 'xgboost', 'svm', 'gpc', 'ada', 'knn', 'catboost', 'rf', 'rbfsvm', 'lda', 'et', 'qda', 'lr', 'nb', 'dummy', 'gbc']\n",
      "27-05-2024 16:55:12 INFO The number of models used 19\n",
      "27-05-2024 16:55:12 INFO Time budget is 20 minutes\n",
      "27-05-2024 16:55:13 INFO Model rbfsvm trained in 0.016 minutes\n",
      "27-05-2024 16:55:14 INFO Model xgboost trained in 0.019 minutes\n",
      "27-05-2024 16:55:15 INFO Model knn trained in 0.017 minutes\n",
      "27-05-2024 16:55:16 INFO Model lr trained in 0.016 minutes\n",
      "27-05-2024 16:55:18 INFO Model mlp trained in 0.028 minutes\n",
      "27-05-2024 16:55:19 INFO Model nb trained in 0.017 minutes\n",
      "27-05-2024 16:55:21 INFO Model gpc trained in 0.034 minutes\n",
      "27-05-2024 16:55:22 INFO Model dt trained in 0.016 minutes\n",
      "27-05-2024 16:55:23 INFO Model svm trained in 0.015 minutes\n",
      "27-05-2024 16:55:24 INFO Model lda trained in 0.015 minutes\n",
      "27-05-2024 16:55:25 INFO Model gbc trained in 0.021 minutes\n",
      "27-05-2024 16:57:02 INFO Model lightgbm trained in 1.62 minutes\n",
      "27-05-2024 16:57:04 INFO Model rf trained in 0.022 minutes\n",
      "27-05-2024 16:57:17 INFO Model catboost trained in 0.23 minutes\n",
      "27-05-2024 16:57:19 INFO Model dummy trained in 0.017 minutes\n",
      "27-05-2024 16:57:20 INFO Model ada trained in 0.02 minutes\n",
      "27-05-2024 16:57:21 INFO Model ridge trained in 0.016 minutes\n",
      "27-05-2024 16:57:22 INFO Model et trained in 0.023 minutes\n",
      "27-05-2024 16:57:23 INFO Model qda trained in 0.017 minutes\n",
      "27-05-2024 16:57:23 INFO Training over: Total runtime 2.179 minutes\n",
      "27-05-2024 16:57:24 INFO --------------------------------------------------------\n",
      "27-05-2024 16:57:24 INFO Training classification models\n",
      "27-05-2024 16:57:24 INFO The models used ['rbfsvm', 'xgboost', 'knn', 'lr', 'mlp', 'nb', 'gpc', 'dt', 'svm', 'lda', 'gbc', 'lightgbm', 'rf', 'catboost', 'dummy', 'ada', 'ridge', 'et', 'qda']\n",
      "27-05-2024 16:57:24 INFO The number of models used 19\n",
      "27-05-2024 16:57:24 INFO Time budget is 20 minutes\n",
      "27-05-2024 16:59:00 INFO Model lightgbm trained in 1.601 minutes\n",
      "27-05-2024 16:59:02 INFO Model mlp trained in 0.026 minutes\n",
      "27-05-2024 16:59:03 INFO Model svm trained in 0.016 minutes\n",
      "27-05-2024 16:59:04 INFO Model ada trained in 0.019 minutes\n",
      "27-05-2024 16:59:05 INFO Model knn trained in 0.016 minutes\n",
      "27-05-2024 16:59:06 INFO Model ridge trained in 0.017 minutes\n",
      "27-05-2024 16:59:08 INFO Model gpc trained in 0.035 minutes\n",
      "27-05-2024 16:59:09 INFO Model xgboost trained in 0.021 minutes\n",
      "27-05-2024 16:59:10 INFO Model nb trained in 0.016 minutes\n",
      "27-05-2024 16:59:12 INFO Model rf trained in 0.025 minutes\n",
      "27-05-2024 16:59:13 INFO Model qda trained in 0.017 minutes\n",
      "27-05-2024 16:59:14 INFO Model lr trained in 0.016 minutes\n",
      "27-05-2024 16:59:15 INFO Model gbc trained in 0.023 minutes\n",
      "27-05-2024 16:59:16 INFO Model lda trained in 0.016 minutes\n",
      "27-05-2024 16:59:17 INFO Model et trained in 0.023 minutes\n",
      "27-05-2024 16:59:18 INFO Model dt trained in 0.016 minutes\n",
      "27-05-2024 16:59:19 INFO Model rbfsvm trained in 0.016 minutes\n",
      "27-05-2024 16:59:30 INFO Model catboost trained in 0.172 minutes\n",
      "27-05-2024 16:59:30 INFO Model dummy trained in 0.016 minutes\n",
      "27-05-2024 16:59:30 INFO Training over: Total runtime 2.108 minutes\n",
      "27-05-2024 16:59:32 INFO --------------------------------------------------------\n",
      "27-05-2024 16:59:32 INFO Training classification models\n",
      "27-05-2024 16:59:32 INFO The models used ['lightgbm', 'mlp', 'svm', 'ada', 'knn', 'ridge', 'gpc', 'xgboost', 'nb', 'rf', 'qda', 'lr', 'gbc', 'lda', 'et', 'dt', 'rbfsvm', 'catboost', 'dummy']\n",
      "27-05-2024 16:59:32 INFO The number of models used 19\n",
      "27-05-2024 16:59:32 INFO Time budget is 20 minutes\n",
      "27-05-2024 16:59:33 INFO Model lr trained in 0.021 minutes\n",
      "27-05-2024 16:59:34 INFO Model knn trained in 0.017 minutes\n",
      "27-05-2024 16:59:35 INFO Model nb trained in 0.016 minutes\n",
      "27-05-2024 16:59:36 INFO Model dt trained in 0.015 minutes\n",
      "27-05-2024 16:59:37 INFO Model svm trained in 0.015 minutes\n",
      "27-05-2024 16:59:38 INFO Model rbfsvm trained in 0.016 minutes\n",
      "27-05-2024 16:59:40 INFO Model gpc trained in 0.034 minutes\n",
      "27-05-2024 16:59:41 INFO Model mlp trained in 0.027 minutes\n",
      "27-05-2024 16:59:42 INFO Model ridge trained in 0.016 minutes\n",
      "27-05-2024 16:59:43 INFO Model gbc trained in 0.022 minutes\n",
      "27-05-2024 16:59:44 INFO Model dummy trained in 0.015 minutes\n",
      "27-05-2024 16:59:46 INFO Model ada trained in 0.019 minutes\n",
      "27-05-2024 16:59:46 INFO Model qda trained in 0.015 minutes\n",
      "27-05-2024 16:59:48 INFO Model rf trained in 0.023 minutes\n",
      "27-05-2024 16:59:59 INFO Model catboost trained in 0.188 minutes\n",
      "27-05-2024 17:00:00 INFO Model xgboost trained in 0.018 minutes\n",
      "27-05-2024 17:01:40 INFO Model lightgbm trained in 1.661 minutes\n",
      "27-05-2024 17:01:41 INFO Model lda trained in 0.015 minutes\n",
      "27-05-2024 17:01:42 INFO Model et trained in 0.021 minutes\n",
      "27-05-2024 17:01:42 INFO Training over: Total runtime 2.175 minutes\n",
      "27-05-2024 17:01:43 INFO --------------------------------------------------------\n",
      "27-05-2024 17:01:43 INFO Training classification models\n",
      "27-05-2024 17:01:43 INFO The models used ['lr', 'knn', 'nb', 'dt', 'svm', 'rbfsvm', 'gpc', 'mlp', 'ridge', 'gbc', 'dummy', 'ada', 'qda', 'rf', 'catboost', 'xgboost', 'lightgbm', 'lda', 'et']\n",
      "27-05-2024 17:01:43 INFO The number of models used 19\n",
      "27-05-2024 17:01:43 INFO Time budget is 20 minutes\n",
      "27-05-2024 17:01:44 INFO Model ada trained in 0.02 minutes\n",
      "27-05-2024 17:01:45 INFO Model svm trained in 0.017 minutes\n",
      "27-05-2024 17:01:46 INFO Model ridge trained in 0.015 minutes\n",
      "27-05-2024 17:01:47 INFO Model xgboost trained in 0.018 minutes\n",
      "27-05-2024 17:01:48 INFO Model nb trained in 0.016 minutes\n",
      "27-05-2024 17:03:26 INFO Model lightgbm trained in 1.639 minutes\n",
      "27-05-2024 17:03:28 INFO Model gpc trained in 0.032 minutes\n",
      "27-05-2024 17:03:29 INFO Model knn trained in 0.016 minutes\n",
      "27-05-2024 17:03:30 INFO Model rbfsvm trained in 0.016 minutes\n",
      "27-05-2024 17:03:31 INFO Model qda trained in 0.016 minutes\n",
      "27-05-2024 17:03:33 INFO Model et trained in 0.023 minutes\n",
      "27-05-2024 17:03:34 INFO Model dt trained in 0.017 minutes\n",
      "27-05-2024 17:03:35 INFO Model dummy trained in 0.017 minutes\n",
      "27-05-2024 17:03:36 INFO Model gbc trained in 0.024 minutes\n",
      "27-05-2024 17:03:37 INFO Model lda trained in 0.017 minutes\n",
      "27-05-2024 17:03:39 INFO Model mlp trained in 0.029 minutes\n",
      "27-05-2024 17:03:40 INFO Model lr trained in 0.017 minutes\n",
      "27-05-2024 17:03:42 INFO Model rf trained in 0.027 minutes\n",
      "27-05-2024 17:03:53 INFO Model catboost trained in 0.184 minutes\n",
      "27-05-2024 17:03:53 INFO Training over: Total runtime 2.159 minutes\n",
      "27-05-2024 17:03:54 INFO --------------------------------------------------------\n",
      "27-05-2024 17:03:54 INFO Training classification models\n",
      "27-05-2024 17:03:54 INFO The models used ['ada', 'svm', 'ridge', 'xgboost', 'nb', 'lightgbm', 'gpc', 'knn', 'rbfsvm', 'qda', 'et', 'dt', 'dummy', 'gbc', 'lda', 'mlp', 'lr', 'rf', 'catboost']\n",
      "27-05-2024 17:03:54 INFO The number of models used 19\n",
      "27-05-2024 17:03:54 INFO Time budget is 20 minutes\n",
      "27-05-2024 17:03:55 INFO Model dt trained in 0.018 minutes\n",
      "27-05-2024 17:03:56 INFO Model nb trained in 0.016 minutes\n",
      "27-05-2024 17:03:57 INFO Model rbfsvm trained in 0.017 minutes\n",
      "27-05-2024 17:03:58 INFO Model mlp trained in 0.027 minutes\n",
      "27-05-2024 17:03:59 INFO Model ridge trained in 0.016 minutes\n",
      "27-05-2024 17:04:00 INFO Model lr trained in 0.016 minutes\n",
      "27-05-2024 17:04:03 INFO Model gpc trained in 0.04 minutes\n",
      "27-05-2024 17:04:04 INFO Model svm trained in 0.017 minutes\n",
      "27-05-2024 17:05:37 INFO Model lightgbm trained in 1.561 minutes\n",
      "27-05-2024 17:05:38 INFO Model dummy trained in 0.015 minutes\n",
      "27-05-2024 17:05:48 INFO Model catboost trained in 0.167 minutes\n",
      "27-05-2024 17:05:49 INFO Model xgboost trained in 0.019 minutes\n",
      "27-05-2024 17:05:51 INFO Model et trained in 0.023 minutes\n",
      "27-05-2024 17:05:52 INFO Model qda trained in 0.016 minutes\n",
      "27-05-2024 17:05:53 INFO Model rf trained in 0.023 minutes\n",
      "27-05-2024 17:05:54 INFO Model knn trained in 0.016 minutes\n",
      "27-05-2024 17:05:55 INFO Model ada trained in 0.02 minutes\n",
      "27-05-2024 17:05:57 INFO Model gbc trained in 0.023 minutes\n",
      "27-05-2024 17:05:57 INFO Model lda trained in 0.016 minutes\n",
      "27-05-2024 17:05:58 INFO Training over: Total runtime 2.065 minutes\n",
      "27-05-2024 17:05:59 INFO --------------------------------------------------------\n",
      "27-05-2024 17:05:59 INFO Training classification models\n",
      "27-05-2024 17:05:59 INFO The models used ['dt', 'nb', 'rbfsvm', 'mlp', 'ridge', 'lr', 'gpc', 'svm', 'lightgbm', 'dummy', 'catboost', 'xgboost', 'et', 'qda', 'rf', 'knn', 'ada', 'gbc', 'lda']\n",
      "27-05-2024 17:05:59 INFO The number of models used 19\n",
      "27-05-2024 17:05:59 INFO Time budget is 20 minutes\n",
      "27-05-2024 17:06:00 INFO Model xgboost trained in 0.019 minutes\n",
      "27-05-2024 17:06:01 INFO Model ridge trained in 0.016 minutes\n",
      "27-05-2024 17:07:40 INFO Model lightgbm trained in 1.65 minutes\n",
      "27-05-2024 17:07:41 INFO Model knn trained in 0.016 minutes\n",
      "27-05-2024 17:07:42 INFO Model rbfsvm trained in 0.016 minutes\n",
      "27-05-2024 17:07:43 INFO Model ada trained in 0.019 minutes\n",
      "27-05-2024 17:07:45 INFO Model gpc trained in 0.03 minutes\n",
      "27-05-2024 17:07:46 INFO Model nb trained in 0.016 minutes\n",
      "27-05-2024 17:07:47 INFO Model lr trained in 0.017 minutes\n",
      "27-05-2024 17:07:48 INFO Model et trained in 0.022 minutes\n",
      "27-05-2024 17:07:49 INFO Model lda trained in 0.02 minutes\n",
      "27-05-2024 17:07:51 INFO Model mlp trained in 0.025 minutes\n",
      "27-05-2024 17:08:03 INFO Model catboost trained in 0.212 minutes\n",
      "27-05-2024 17:08:04 INFO Model dummy trained in 0.015 minutes\n",
      "27-05-2024 17:08:06 INFO Model gbc trained in 0.022 minutes\n",
      "27-05-2024 17:08:07 INFO Model svm trained in 0.016 minutes\n",
      "27-05-2024 17:08:07 INFO Model dt trained in 0.016 minutes\n",
      "27-05-2024 17:08:08 INFO Model qda trained in 0.017 minutes\n",
      "27-05-2024 17:08:10 INFO Model rf trained in 0.023 minutes\n",
      "27-05-2024 17:08:10 INFO Training over: Total runtime 2.188 minutes\n",
      "27-05-2024 17:08:11 INFO --------------------------------------------------------\n",
      "27-05-2024 17:08:11 INFO Training classification models\n",
      "27-05-2024 17:08:11 INFO The models used ['xgboost', 'ridge', 'lightgbm', 'knn', 'rbfsvm', 'ada', 'gpc', 'nb', 'lr', 'et', 'lda', 'mlp', 'catboost', 'dummy', 'gbc', 'svm', 'dt', 'qda', 'rf']\n",
      "27-05-2024 17:08:11 INFO The number of models used 19\n",
      "27-05-2024 17:08:11 INFO Time budget is 20 minutes\n",
      "27-05-2024 17:08:12 INFO Model mlp trained in 0.024 minutes\n",
      "27-05-2024 17:08:13 INFO Model rbfsvm trained in 0.016 minutes\n",
      "27-05-2024 17:08:14 INFO Model lr trained in 0.016 minutes\n",
      "27-05-2024 17:08:15 INFO Model svm trained in 0.016 minutes\n",
      "27-05-2024 17:09:44 INFO Model lightgbm trained in 1.481 minutes\n",
      "27-05-2024 17:09:45 INFO Model dt trained in 0.016 minutes\n",
      "27-05-2024 17:09:47 INFO Model gpc trained in 0.028 minutes\n",
      "27-05-2024 17:09:48 INFO Model ridge trained in 0.016 minutes\n",
      "27-05-2024 17:09:49 INFO Model ada trained in 0.019 minutes\n",
      "27-05-2024 17:10:00 INFO Model catboost trained in 0.192 minutes\n",
      "27-05-2024 17:10:02 INFO Model rf trained in 0.025 minutes\n",
      "27-05-2024 17:10:03 INFO Model knn trained in 0.017 minutes\n",
      "27-05-2024 17:10:04 INFO Model lda trained in 0.017 minutes\n",
      "27-05-2024 17:10:05 INFO Model et trained in 0.022 minutes\n",
      "27-05-2024 17:10:06 INFO Model qda trained in 0.017 minutes\n",
      "27-05-2024 17:10:07 INFO Model nb trained in 0.016 minutes\n",
      "27-05-2024 17:10:08 INFO Model xgboost trained in 0.018 minutes\n",
      "27-05-2024 17:10:09 INFO Model dummy trained in 0.017 minutes\n",
      "27-05-2024 17:10:11 INFO Model gbc trained in 0.03 minutes\n",
      "27-05-2024 17:10:11 INFO Training over: Total runtime 2.004 minutes\n",
      "27-05-2024 17:10:12 INFO --------------------------------------------------------\n",
      "27-05-2024 17:10:12 INFO Training classification models\n",
      "27-05-2024 17:10:12 INFO The models used ['mlp', 'rbfsvm', 'lr', 'svm', 'lightgbm', 'dt', 'gpc', 'ridge', 'ada', 'catboost', 'rf', 'knn', 'lda', 'et', 'qda', 'nb', 'xgboost', 'dummy', 'gbc']\n",
      "27-05-2024 17:10:12 INFO The number of models used 19\n",
      "27-05-2024 17:10:12 INFO Time budget is 20 minutes\n",
      "27-05-2024 17:10:13 INFO Model knn trained in 0.021 minutes\n",
      "27-05-2024 17:11:50 INFO Model lightgbm trained in 1.61 minutes\n",
      "27-05-2024 17:11:51 INFO Model ada trained in 0.02 minutes\n",
      "27-05-2024 17:11:52 INFO Model nb trained in 0.017 minutes\n",
      "27-05-2024 17:11:53 INFO Model lr trained in 0.017 minutes\n",
      "27-05-2024 17:11:54 INFO Model xgboost trained in 0.018 minutes\n",
      "27-05-2024 17:11:56 INFO Model gpc trained in 0.03 minutes\n",
      "27-05-2024 17:11:57 INFO Model rbfsvm trained in 0.017 minutes\n",
      "27-05-2024 17:11:58 INFO Model dt trained in 0.017 minutes\n",
      "27-05-2024 17:11:59 INFO Model lda trained in 0.02 minutes\n",
      "27-05-2024 17:12:01 INFO Model gbc trained in 0.025 minutes\n",
      "27-05-2024 17:12:02 INFO Model svm trained in 0.016 minutes\n",
      "27-05-2024 17:12:03 INFO Model rf trained in 0.026 minutes\n",
      "27-05-2024 17:12:29 INFO Model catboost trained in 0.429 minutes\n",
      "27-05-2024 17:12:30 INFO Model dummy trained in 0.023 minutes\n",
      "27-05-2024 17:12:32 INFO Model ridge trained in 0.022 minutes\n",
      "27-05-2024 17:12:34 INFO Model mlp trained in 0.037 minutes\n",
      "27-05-2024 17:12:36 INFO Model et trained in 0.03 minutes\n",
      "27-05-2024 17:12:37 INFO Model qda trained in 0.025 minutes\n",
      "27-05-2024 17:12:37 INFO Training over: Total runtime 2.418 minutes\n",
      "27-05-2024 17:12:39 INFO --------------------------------------------------------\n",
      "27-05-2024 17:12:39 INFO Training classification models\n",
      "27-05-2024 17:12:39 INFO The models used ['knn', 'lightgbm', 'ada', 'nb', 'lr', 'xgboost', 'gpc', 'rbfsvm', 'dt', 'lda', 'gbc', 'svm', 'rf', 'catboost', 'dummy', 'ridge', 'mlp', 'et', 'qda']\n",
      "27-05-2024 17:12:39 INFO The number of models used 19\n",
      "27-05-2024 17:12:39 INFO Time budget is 20 minutes\n",
      "27-05-2024 17:12:40 INFO Model svm trained in 0.024 minutes\n",
      "27-05-2024 17:12:44 INFO Model lr trained in 0.064 minutes\n",
      "27-05-2024 17:12:47 INFO Model dt trained in 0.051 minutes\n",
      "27-05-2024 17:12:48 INFO Model ridge trained in 0.021 minutes\n",
      "27-05-2024 17:12:50 INFO Model ada trained in 0.023 minutes\n",
      "27-05-2024 17:12:51 INFO Model mlp trained in 0.03 minutes\n",
      "27-05-2024 17:12:54 INFO Model gpc trained in 0.047 minutes\n"
     ]
    }
   ],
   "source": [
    "generator = iterate_excel(\"classification_results/filtered_features.xlsx\", parser=DataParser, \n",
    "                          label=\"../data/esterase_labels.csv\", outliers=())\n",
    "\n",
    "split = ClusterSpliter(\"cluster.tsv\", num_splits=5, random_state=100, stratified=True)\n",
    "training.iterate_multiple_features(generator, training_output=\"classification_results\", split_strategy=split)"
   ]
  },
  {
   "cell_type": "markdown",
   "metadata": {},
   "source": [
    "## Save Model from pre-trained"
   ]
  },
  {
   "cell_type": "markdown",
   "metadata": {},
   "source": [
    "To save the models you can train the model with all the data or save the model trained only with the training data"
   ]
  },
  {
   "cell_type": "code",
   "execution_count": 45,
   "metadata": {},
   "outputs": [
    {
     "data": {
      "text/plain": [
       "{'qda': QuadraticDiscriminantAnalysis(priors=None, reg_param=0.8258792813861613,\n",
       "                               store_covariance=False, tol=0.0001),\n",
       " 'knn': KNeighborsClassifier(algorithm='auto', leaf_size=30, metric='euclidean',\n",
       "                      metric_params=None, n_jobs=-1, n_neighbors=24, p=2,\n",
       "                      weights='uniform'),\n",
       " 'nb': GaussianNB(priors=None, var_smoothing=0.7918521648729947)}"
      ]
     },
     "execution_count": 45,
     "metadata": {},
     "output_type": "execute_result"
    }
   ],
   "source": [
    "models[\"tuned\"][\"holdout\"]"
   ]
  },
  {
   "cell_type": "code",
   "execution_count": 33,
   "metadata": {},
   "outputs": [],
   "source": [
    "from BioML.models import save_model"
   ]
  },
  {
   "cell_type": "code",
   "execution_count": 18,
   "metadata": {},
   "outputs": [
    {
     "name": "stderr",
     "output_type": "stream",
     "text": [
      "28-03-2024 12:38:51 INFO ----------Finalizing the model by training it with all the data including test set--------------\n"
     ]
    },
    {
     "name": "stdout",
     "output_type": "stream",
     "text": [
      "Transformation Pipeline and Model Successfully Saved\n"
     ]
    }
   ],
   "source": [
    "generate = save_model.GenerateModel(training)\n",
    "for status, model in models.items():\n",
    "    for key, value in model.items():\n",
    "        if key == \"holdout\":\n",
    "            for num, mod in enumerate(value.values()):\n",
    "                if num > training.experiment.best_model - 1 : break\n",
    "                final_model = generate.finalize_model(value, num)\n",
    "                generate.save_model(final_model, f\"classification_results/model_output/{key}_{status}\")\n",
    "        else:\n",
    "            final_model = generate.finalize_model(value)\n",
    "            generate.save_model(final_model, f\"classification_results/model_output/{key}_{status}\")"
   ]
  },
  {
   "cell_type": "markdown",
   "metadata": {},
   "source": [
    "## Save Model from scratch"
   ]
  },
  {
   "cell_type": "markdown",
   "metadata": {},
   "source": [
    "This is an example on how to train a a few models and save that "
   ]
  },
  {
   "cell_type": "code",
   "execution_count": 12,
   "metadata": {},
   "outputs": [],
   "source": [
    "from BioML.models import save_model"
   ]
  },
  {
   "cell_type": "code",
   "execution_count": 17,
   "metadata": {},
   "outputs": [
    {
     "name": "stderr",
     "output_type": "stream",
     "text": [
      "27-03-2024 14:28:52 INFO ------------------------------------------------------------------------------\n",
      "27-03-2024 14:28:52 INFO PycaretInterface parameters\n",
      "27-03-2024 14:28:52 INFO Seed: 200\n",
      "27-03-2024 14:28:52 INFO Budget time: 20\n",
      "27-03-2024 14:28:52 INFO The number of models to select: 3\n",
      "27-03-2024 14:28:52 INFO Output path: classification_training\n",
      "27-03-2024 14:28:52 INFO ----------------Trainer inputs-------------------------\n",
      "27-03-2024 14:28:52 INFO Number of kfolds: 5\n",
      "27-03-2024 14:28:52 INFO Number of iterations: 30\n"
     ]
    }
   ],
   "source": [
    "data = DataParser(\"filtered_features.xlsx\", \"../data/esterase_labels.csv\", sheets=\"ch2_50\")\n",
    "experiment = PycaretInterface(\"classification\", 200, budget_time=20, best_model=3, \n",
    "                                  output_path=\"classification_results\", optimize=\"MCC\", experiment_name=\"generate_model\")\n",
    "classifier = Classifier(optimize=\"MCC\", selected=(\"qda\", \"rbfsvm\", \"ridge\"))\n",
    "training = Trainer(experiment, classifier, num_splits=5, test_size=0.2,  num_iter=30)\n"
   ]
  },
  {
   "cell_type": "code",
   "execution_count": 19,
   "metadata": {},
   "outputs": [
    {
     "name": "stderr",
     "output_type": "stream",
     "text": [
      "2024/03/27 14:28:55 INFO mlflow.tracking.fluent: Experiment with name 'generate_model' does not exist. Creating a new experiment.\n",
      "27-03-2024 14:28:56 INFO --------------------------------------------------------\n",
      "27-03-2024 14:28:56 INFO Training classification models\n",
      "27-03-2024 14:28:56 INFO The models used ['lr']\n",
      "27-03-2024 14:28:56 INFO Time budget is 20 minutes\n",
      "27-03-2024 14:29:01 INFO Model lr trained in 0.092 minutes\n",
      "27-03-2024 14:29:01 INFO Training over: Total runtime 0.092 minutes\n"
     ]
    },
    {
     "name": "stdout",
     "output_type": "stream",
     "text": [
      "Model lr trained in 0.092 minutes\n"
     ]
    }
   ],
   "source": [
    "sorted_results, sorted_models, top_params = training.run_training(data.features, data.label)"
   ]
  },
  {
   "cell_type": "code",
   "execution_count": 20,
   "metadata": {},
   "outputs": [
    {
     "name": "stderr",
     "output_type": "stream",
     "text": [
      "27-03-2024 14:29:02 INFO ----------Finalizing the model by training it with all the data including test set--------------\n"
     ]
    },
    {
     "name": "stdout",
     "output_type": "stream",
     "text": [
      "Transformation Pipeline and Model Successfully Saved\n"
     ]
    }
   ],
   "source": [
    "generate = save_model.GenerateModel(training)\n",
    "models =  generate.train_by_strategy(sorted_models, \"majority\")\n",
    "final_model = generate.finalize_model(models)\n",
    "generate.save_model(final_model, \"classification_results/model_output/logistic\")"
   ]
  },
  {
   "cell_type": "markdown",
   "metadata": {},
   "source": [
    "## Prediction"
   ]
  },
  {
   "cell_type": "markdown",
   "metadata": {},
   "source": [
    "Finally once you have the models you can make predictions on new data."
   ]
  },
  {
   "cell_type": "code",
   "execution_count": 34,
   "metadata": {},
   "outputs": [],
   "source": [
    "from BioML.models import predict\n",
    "import pandas as pd\n",
    "import numpy as np\n",
    "from scipy.spatial import distance"
   ]
  },
  {
   "cell_type": "code",
   "execution_count": 23,
   "metadata": {},
   "outputs": [],
   "source": [
    "training_features = \"filtered_features.xlsx\"\n",
    "label = \"../data/esterase_labels.csv\"\n",
    "outlier_train=()\n",
    "outlier_test=()\n",
    "sheet_name=\"random_39\"\n",
    "problem=\"classification\"\n",
    "model_path=\"classification_results/model_output/majority\"\n",
    "scaler=\"robust\""
   ]
  },
  {
   "cell_type": "markdown",
   "metadata": {},
   "source": [
    "#### Generate the predictions"
   ]
  },
  {
   "cell_type": "markdown",
   "metadata": {},
   "source": [
    "The prediccions are appended to the features dataframe, if it is classification it returns\n",
    "the probability of being in class 0 or class 1"
   ]
  },
  {
   "cell_type": "code",
   "execution_count": 40,
   "metadata": {},
   "outputs": [],
   "source": [
    "feature = predict.DataParser(training_features, label, outliers=outlier_train, sheets=sheet_name)\n",
    "test_features = feature.remove_outliers(feature.read_features(training_features, \"random_39\"), outlier_test)\n",
    "predictions = predict.predict(test_features, model_path, problem)"
   ]
  },
  {
   "cell_type": "markdown",
   "metadata": {},
   "source": [
    "#### Optional if you want to filter predictions based if that test sample is within the applicability domain"
   ]
  },
  {
   "cell_type": "markdown",
   "metadata": {},
   "source": [
    "Applicability domain compares eucleadian distance between the features from the training and features from the test.   \n",
    "If the distance is far from a set threshold then that prediction is discarded since it deviates from the samples the model have seen during training  \n",
    "Testing on the training dataset it discards a few as well so the error can be quite high"
   ]
  },
  {
   "cell_type": "code",
   "execution_count": 41,
   "metadata": {},
   "outputs": [],
   "source": [
    "transformed, scaler_dict, test_x = predict.scale(scaler, feature.drop(), test_features)\n",
    "filtered_pred = predict.domain_filter(predictions, transformed, test_x, 5) # it returns the predictions appended to the features"
   ]
  },
  {
   "cell_type": "code",
   "execution_count": 44,
   "metadata": {},
   "outputs": [
    {
     "data": {
      "text/plain": [
       "((120, 20), (147, 19))"
      ]
     },
     "execution_count": 44,
     "metadata": {},
     "output_type": "execute_result"
    }
   ],
   "source": [
    "filtered_pred.shape, predictions.shape"
   ]
  },
  {
   "cell_type": "markdown",
   "metadata": {},
   "source": [
    " if you don't apply the domain filter, you can just use the predictions but you have to change the index to sample_0, sample_1, etc to filter the fasta files into positive or negative"
   ]
  },
  {
   "cell_type": "code",
   "execution_count": null,
   "metadata": {},
   "outputs": [],
   "source": [
    "\n",
    "predictions.index = [f\"sample_{x}\" for x, _ in enumerate(predictions.index)]\n",
    "col_name = [\"prediction_score\", \"prediction_label\", \"AD_number\"]\n",
    "predictions = predictions.loc[:, predictions.columns.str.contains(\"|\".join(col_name))] # only keep the columns with the prediction scores"
   ]
  },
  {
   "cell_type": "markdown",
   "metadata": {},
   "source": [
    "### Separate the fasta file into positive or negative"
   ]
  },
  {
   "cell_type": "code",
   "execution_count": 34,
   "metadata": {},
   "outputs": [],
   "source": [
    "fasta = \"../data/whole_sequence.fasta\"\n",
    "res_dir = \"prediction_results_domain\""
   ]
  },
  {
   "cell_type": "code",
   "execution_count": 35,
   "metadata": {},
   "outputs": [],
   "source": [
    "extractor = predict.FastaExtractor(fasta, res_dir)\n",
    "positive, negative = extractor.separate_negative_positive(predictions)\n"
   ]
  },
  {
   "cell_type": "code",
   "execution_count": 36,
   "metadata": {},
   "outputs": [],
   "source": [
    "extractor.extract(positive, negative, positive_fasta=\"classification_results/positive.fasta\", negative_fasta=f\"classification_results/negative.fasta\")"
   ]
  },
  {
   "cell_type": "markdown",
   "metadata": {},
   "source": [
    "Several uses cases comes into mind \n",
    "\n",
    "1. Rapidly test different features sets people might have constructed (or generate one using BioML)\n",
    "2. Compare which of the classical algorithms is more suited for your features so you can focus your efforts on optimizing the hyperparameters of that algorithm\n",
    "3. Have a baseline model to compare the performance of your customized training pipeline\n",
    "4. TODO: Finetune your own large language models -> I will implement a way to automatically finetune LLM's for a specific task.  \n",
    "\n"
   ]
  }
 ],
 "metadata": {
  "kernelspec": {
   "display_name": "bioml",
   "language": "python",
   "name": "python3"
  },
  "language_info": {
   "codemirror_mode": {
    "name": "ipython",
    "version": 3
   },
   "file_extension": ".py",
   "mimetype": "text/x-python",
   "name": "python",
   "nbconvert_exporter": "python",
   "pygments_lexer": "ipython3",
   "version": "3.10.13"
  },
  "orig_nbformat": 4
 },
 "nbformat": 4,
 "nbformat_minor": 2
}
