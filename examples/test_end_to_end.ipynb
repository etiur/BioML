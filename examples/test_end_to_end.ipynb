{
 "cells": [
  {
   "cell_type": "markdown",
   "metadata": {},
   "source": [
    "# 1.1 PSSM generation"
   ]
  },
  {
   "cell_type": "markdown",
   "metadata": {},
   "source": [
    "Generate PSSM files to extract evolutionary features using Mmseqs's easy_generate_pssm function.\n",
    "\n",
    "The arguments are: we have the names of the arguments and inside () the format it accepts\n",
    "* input_file (FASTA): path to the fasta file \n",
    "* database_input (FASTA): path to the uniref50 database or any database you want to perform the search \n",
    "* generate_searchdb (bool): Set it to True only the first time you run it to create the search database from the database input which is necessary for Mmseqs to run correctly\n",
    "* database_output (str, optional): Optionally, you canname the database created from the database_input\n",
    "* pssm_filename (str): name of the pssm file which stores the PSSM for all the sequences in the input\n",
    "* output_dir (str): pssm_file will be split into individual PSSM files in this directory\n",
    "\n",
    "So the generated output is basically:\n",
    "the individual pssm_files stored in *output_dir* used by PossumFeatures(pssm_dir=output_dir)"
   ]
  },
  {
   "cell_type": "code",
   "execution_count": 1,
   "metadata": {},
   "outputs": [],
   "source": [
    "from BioML.utilities.utils import MmseqsClustering"
   ]
  },
  {
   "cell_type": "code",
   "execution_count": 2,
   "metadata": {},
   "outputs": [],
   "source": [
    "fasta_file = \"../data/whole_sequence.fasta\""
   ]
  },
  {
   "cell_type": "code",
   "execution_count": 3,
   "metadata": {},
   "outputs": [
    {
     "name": "stdout",
     "output_type": "stream",
     "text": [
      "start running createdb\n",
      "It took 0.07075858116149902 second to run\n",
      "start running search\n",
      "It took 0.008486747741699219 second to run\n",
      "start running generate_profile\n",
      "It took 0.13269639015197754 second to run\n",
      "start running convert profile to pssm\n",
      "It took 0.08297467231750488 second to run\n"
     ]
    }
   ],
   "source": [
    "pssm_file = MmseqsClustering.easy_generate_pssm(input_file=fasta_file, database_input=\"../data/db_seq.fasta\",\n",
    "                                                generate_searchdb=True, pssm_filename=\"esterase.pssm\", output_dir=\"pssm\") # actualizar"
   ]
  },
  {
   "cell_type": "markdown",
   "metadata": {},
   "source": [
    "# 1.2 Extract Features"
   ]
  },
  {
   "cell_type": "markdown",
   "metadata": {},
   "source": [
    "There are several features to extract:\n",
    "   1. Physicochemical features from iFeatures https://github.com/Superzchen/iFeature\n",
    "   2. Evolutionary features using PSSM and Possum https://possum.erc.monash.edu/\n",
    "   3. Features or embeddings from Large language models "
   ]
  },
  {
   "cell_type": "code",
   "execution_count": 3,
   "metadata": {},
   "outputs": [],
   "source": [
    "from BioML.features.extraction import PossumFeatures, IfeatureFeatures, ExtractFeatures \n",
    "from BioML.utilities.utils import clean_fasta"
   ]
  },
  {
   "cell_type": "markdown",
   "metadata": {},
   "source": [
    "Before substrate extraction you might want to clean the fast file of non canonical residues like X, U, B etc and to remove those shorter than 100 aamino acids for example.\n",
    "The arguments are:\n",
    "* possum_program (str): path to the POSSUM_Toolkit with the scripts to clean the fasta file\n",
    "* fasta_file (FASTA): path to the fasta file\n",
    "* out_fasta (FASTA): path to the cleaned fasta file\n",
    "* min_aa (int): minimum length of the sequence\n",
    "\n",
    "The generated output is:\n",
    "* out_fasta which is used by all the other feature extraction programs.\n",
    "Clean fasta should actually be used even before pssm_generation from Mmseqs"
   ]
  },
  {
   "cell_type": "code",
   "execution_count": null,
   "metadata": {},
   "outputs": [],
   "source": [
    "clean_fasta(\"../POSSUM_Toolkit\", fasta_file, \"cleaned.fasta\", 100)\n",
    "fasta_file = \"cleaned.fasta\""
   ]
  },
  {
   "cell_type": "markdown",
   "metadata": {},
   "source": [
    "This class extract iFeature features and the most important arguments for the class are:\n",
    "* program (str): path to the iFeature program\n",
    "* output (str): path to the output directory\n",
    "\n",
    "The output of the function ifeatures.extract(fasta_file)\n",
    "*  A bunch of csv files stored in the output directory.\n",
    "\n",
    "Each of the csv files represent one feature from the iFeature program repertoire\n"
   ]
  },
  {
   "cell_type": "code",
   "execution_count": 5,
   "metadata": {},
   "outputs": [
    {
     "name": "stdout",
     "output_type": "stream",
     "text": [
      "iFeature features to be extracted: {'long': ['Moran', 'Geary', 'NMBroto'], 'short': ['QSOrder', 'GDPC', 'CTDT', 'PAAC', 'GAAC', 'SOCNumber', 'KSCTriad', 'APAAC', 'CTDD', 'CTDC', 'CKSAAGP', 'CTriad', 'GTPC']}\n",
      "start running Ifeature programs\n",
      "It took 15.259301900863647 second to run\n"
     ]
    }
   ],
   "source": [
    "ifeatures = IfeatureFeatures(\"../iFeature\")\n",
    "ifeatures.extract(fasta_file)"
   ]
  },
  {
   "cell_type": "markdown",
   "metadata": {},
   "source": [
    "This class extract possum features and the most important arguments for the class are:\n",
    "* pssm_dir (str): path to the individual pssm files generated by Mmseqs\n",
    "* output (str): path to the output directory\n",
    "* program (str): path to the POSSUM_Toolkit\n",
    "\n",
    "The output:\n",
    "with this function you generate a bunch of tsv files stored in the output directory."
   ]
  },
  {
   "cell_type": "code",
   "execution_count": 6,
   "metadata": {},
   "outputs": [
    {
     "name": "stdout",
     "output_type": "stream",
     "text": [
      "Possum features to be extracted: {'long': ['pssm_cc', 'tri_gram_pssm'], 'short': ['dpc_pssm', 'pse_pssm:1', 'smoothed_pssm:9', 'k_separated_bigrams_pssm', 'smoothed_pssm:5', 'smoothed_pssm:7', 'aac_pssm', 'dp_pssm', 's_fpssm', 'ab_pssm', 'pse_pssm:3', 'pse_pssm:2', 'tpc', 'rpm_pssm', 'pssm_composition', 'eedp', 'rpssm', 'pssm_ac', 'd_fpssm', 'edp']}\n",
      "start running Possum programs\n",
      "It took 187.8209524154663 second to run\n"
     ]
    }
   ],
   "source": [
    "possum = PossumFeatures(pssm_dir=\"pssm\", output=\"possum_features\", program=\"../POSSUM_Toolkit\")\n",
    "possum.extract(fasta_file)"
   ]
  },
  {
   "cell_type": "markdown",
   "metadata": {},
   "source": [
    "For large fasta files of hundreds thousands of sequences I recommend using ExtractFeatures.\n",
    "ExtractFeatures takes a large fasta file and splits it into smaller fasta files called groups_*.fasta with separate_bunch(base=\"group\"). You could change the base to change the name of the files.\n",
    "\n",
    "The arguments for the run_extraction_parallel function are:\n",
    "* file (list[FASTA]): a list of fasta files\n",
    "* num_threads (int): number of threads to use\n",
    "* f (function): an arbitrary number of function to be applied to each fasta file. The function can be anyone that accepts a fasta file as an argument.\n",
    "\n",
    "The output is a list of csv files stored in the different output directories from each fasta file\n"
   ]
  },
  {
   "cell_type": "code",
   "execution_count": null,
   "metadata": {},
   "outputs": [
    {
     "name": "stdout",
     "output_type": "stream",
     "text": [
      "Possum features to be extracted: {'long': ['pssm_cc', 'tri_gram_pssm'], 'short': ['ab_pssm', 'edp', 'eedp', 'rpm_pssm', 'smoothed_pssm:5', 'pssm_composition', 'rpssm', 'pssm_ac', 'pse_pssm:1', 'pse_pssm:3', 's_fpssm', 'd_fpssm', 'tpc', 'smoothed_pssm:7', 'pse_pssm:2', 'dpc_pssm', 'k_separated_bigrams_pssm', 'dp_pssm', 'smoothed_pssm:9', 'aac_pssm']}\n",
      "iFeature features to be extracted: {'long': ['Moran', 'NMBroto', 'Geary'], 'short': ['CTDD', 'GTPC', 'PAAC', 'GAAC', 'APAAC', 'CTDC', 'CTDT', 'GDPC', 'QSOrder', 'KSCTriad', 'CTriad', 'SOCNumber', 'CKSAAGP']}\n",
      "start running Possum programs\n",
      "It took 0.9275431632995605 second to run\n",
      "start running Ifeature programs\n",
      "It took 16.410173177719116 second to run\n"
     ]
    }
   ],
   "source": [
    "extract = ExtractFeatures(fasta_file)\n",
    "extract.separate_bunch()\n",
    "file = list(extract.fasta_file.parent.glob(\"group_*.fasta\"))\n",
    "\n",
    "possum = PossumFeatures(pssm_dir=\"pssm\", output=\"possum_features\", program=\"../POSSUM_Toolkit\")\n",
    "ifeature = IfeatureFeatures(\"../iFeature\")\n",
    "\n",
    "extract.run_extraction_parallel(file, 100, possum.extract, ifeature.extract)"
   ]
  },
  {
   "cell_type": "markdown",
   "metadata": {},
   "source": [
    "# 1.3  LLM embeddings"
   ]
  },
  {
   "cell_type": "markdown",
   "metadata": {},
   "source": [
    "If you want you can easily generate large language model embeddings from models supported by Hugging Face's API"
   ]
  },
  {
   "cell_type": "code",
   "execution_count": 7,
   "metadata": {},
   "outputs": [],
   "source": [
    "from BioML.deep import embeddings\n",
    "from BioML.deep. train_config import LLMConfig"
   ]
  },
  {
   "cell_type": "code",
   "execution_count": 8,
   "metadata": {},
   "outputs": [],
   "source": [
    "config = LLMConfig()\n",
    "tokenizer = embeddings.TokenizeFasta(config)\n",
    "embed = embeddings.ExtractEmbeddings(config)\n",
    "tok = tokenizer.tokenize(fasta_file)"
   ]
  },
  {
   "cell_type": "markdown",
   "metadata": {},
   "source": [
    "Generate embeddings from a FASTA file:\n",
    "* fasta_file (FASTA): path to the fasta file\n",
    "* model_name (str): name of the model\n",
    "* option (str): The embeddings has the dimensions L*H where L is the number of aminoacids and H is the dimension of the features. The option can be \"mean\", \"sum\", \"max\" or \"flatten\" so it turns L * H into H. \n",
    "* save_path (str): path to the output file\n",
    "* mode (str): write or return\n",
    "\n",
    "The saved output \n",
    "* embeddings.csv"
   ]
  },
  {
   "cell_type": "code",
   "execution_count": 6,
   "metadata": {},
   "outputs": [],
   "source": [
    "embeddings.generate_embeddings(fasta_file, model_name=\"facebook/esm2_t6_8M_UR50D\", option=\"mean\", \n",
    "                               save_path=\"embeddings.csv\", mode=\"write\")"
   ]
  },
  {
   "cell_type": "markdown",
   "metadata": {},
   "source": [
    "# 2 Feature selection"
   ]
  },
  {
   "cell_type": "markdown",
   "metadata": {},
   "source": [
    "If we combine features from multiple places the dimensions would be too high to handle, so normally ti would be wise to use some feature selection techniques:  \n",
    "BioML implements at the moment 8 algorithms for classification and 6 for regression \n",
    " \n",
    "    1. Supervised: using Tree methods Random Forest and Xgboost, Recursive feature elmination\n",
    "    2. Filter methods: Pearson correlation, Chi squared,\n",
    "    3. Unsupervised methods like: PCA, ICA (independent component analysis)"
   ]
  },
  {
   "cell_type": "code",
   "execution_count": 4,
   "metadata": {},
   "outputs": [],
   "source": [
    "import pandas as pd\n",
    "from BioML.features import selection\n",
    "from BioML.features.extraction import read_features"
   ]
  },
  {
   "cell_type": "markdown",
   "metadata": {},
   "source": [
    "read features is a convenient function to read all the csv or tsv files generated by the feature extraction programs and returns a dataframe with all the features\n",
    "The arguments are:\n",
    "* program (str): the feature extraction program wether 'ifeature' or 'possum'\n",
    "* ifeature_out (str): path to the output directory if ifeature features\n",
    "* possum_out (str): path to the output directory if possum features\n",
    "* file_splits (int): This arguments was added for ExtractFeatures that splits the large fasta files into smaller ones, it is the number of splits performed. In this case no splits so file_splits = 1 \n",
    "* index (list): possum features don't save the sequence index with the tsvs unlike ifeature, which makes identifying each row back to the original sequence difficult (the order is kept) so you should provide the index if you are using possum features\n",
    "\n",
    "The output is a dataframe with all the features concatenated"
   ]
  },
  {
   "cell_type": "code",
   "execution_count": 6,
   "metadata": {},
   "outputs": [
    {
     "name": "stdout",
     "output_type": "stream",
     "text": [
      "Warning possum_features/tri_gram_pssm_0.csv does not exist\n",
      "Warning possum_features/k_separated_bigrams_pssm_0.csv does not exist\n"
     ]
    }
   ],
   "source": [
    "ifeat = read_features(\"ifeature\", ifeature_out=\"ifeature_features\", file_splits=1)\n",
    "possum_feat = read_features(\"possum\", possum_out=\"possum_features\", file_splits=1, index=ifeat.index)\n",
    "emb = pd.read_csv(\"embeddings.csv\", index_col=0, header=None)"
   ]
  },
  {
   "cell_type": "code",
   "execution_count": 7,
   "metadata": {},
   "outputs": [
    {
     "data": {
      "text/plain": [
       "((320,), (2274,), (10330,))"
      ]
     },
     "execution_count": 7,
     "metadata": {},
     "output_type": "execute_result"
    }
   ],
   "source": [
    "emb.columns.shape, ifeat.columns.shape, possum_feat.columns.shape"
   ]
  },
  {
   "cell_type": "markdown",
   "metadata": {},
   "source": [
    "The DataReader function takes in different formats and converts them into a single format (the conversion is necessary for the feature selection):\n",
    "\n",
    "* label in different formats: string, ndarray, a list of pd.Series.\n",
    "* It also takes features in different formats: a list or ndarray, dataframe, list of dataframes or a list of the different accepted formats and concatenates them\n",
    "\n",
    "It will automatically remove features with 0 variance (meaning every value is the same), you can control the threshold\n",
    "\n",
    "The output: \n",
    "* A class with the features"
   ]
  },
  {
   "cell_type": "code",
   "execution_count": 8,
   "metadata": {},
   "outputs": [
    {
     "data": {
      "text/plain": [
       "Data with:\n",
       "    num. samples: 147\n",
       "    num. columns: 12924\n",
       "    variance threshold: 0\n",
       "    sheet: None"
      ]
     },
     "execution_count": 8,
     "metadata": {},
     "output_type": "execute_result"
    }
   ],
   "source": [
    "features = selection.DataReader(\"../data/esterase_labels.csv\", [ifeat, possum_feat, emb], variance_thres=0)\n",
    "#features.features.columns = features.features.columns.astype(str)\n",
    "features"
   ]
  },
  {
   "cell_type": "markdown",
   "metadata": {},
   "source": [
    "### Custom splitting based on 30% sequence identity"
   ]
  },
  {
   "cell_type": "markdown",
   "metadata": {},
   "source": [
    "It is recommended to split based on sequence identity so that the training, test or validation sets doesn't have sequence with more than 30% sequence identity.\n",
    "You can use mmseqs to generate such clusters"
   ]
  },
  {
   "cell_type": "code",
   "execution_count": 1,
   "metadata": {},
   "outputs": [],
   "source": [
    "from BioML.utilities.utils import MmseqsClustering\n",
    "from BioML.utilities.split_methods import ClusterSpliter\n",
    "from BioML.models.base import DataParser\n",
    "import pandas as pd\n",
    "from sklearn.model_selection import train_test_split\n",
    "from pathlib import Path"
   ]
  },
  {
   "cell_type": "markdown",
   "metadata": {},
   "source": [
    "### Generate different clusters of sequences based on an identity threshold of 30%.\n",
    "It creates a cluster.tsv file. This tsv file has the first column the clusters names (which should be the same one as the features indices) and in the second column the idex of the sequence that resides within that cluster.  \n",
    "\n",
    "For example: This means EH2(71) is a cluster with 3 sequences that share more than 30% sequence identity.\n",
    "\n",
    "* EH2(71)\tEH2(71)\n",
    "* EH2(71)\tEH4(67)\n",
    "* EH2(71)\tEH14(48)\n",
    "\n",
    "This technique is actually very flexible, you can generate manually a cluster file if you want to customize the way you want to split your data into training and testing splits"
   ]
  },
  {
   "cell_type": "markdown",
   "metadata": {},
   "source": [
    "easy_cluster function takes the following arguments:\n",
    "\n",
    "* input_file (str or Path): path to the input sequence file\n",
    "* cluster_at_sequence_identity (float): the sequence identity threshold\n",
    "* cluster_tsv (str or Path): path to the output cluster file\n",
    "\n",
    "The output:\n",
    "* cluster.tsv"
   ]
  },
  {
   "cell_type": "code",
   "execution_count": 9,
   "metadata": {},
   "outputs": [
    {
     "name": "stdout",
     "output_type": "stream",
     "text": [
      "start running cluster\n",
      "It took 6.722121715545654 second to run\n",
      "start running create tsv\n",
      "It took 0.02847123146057129 second to run\n"
     ]
    }
   ],
   "source": [
    "cluster = MmseqsClustering.easy_cluster(fasta_file, cluster_at_sequence_identity=0.3, \n",
    "                                        cluster_tsv=\"cluster.tsv\")"
   ]
  },
  {
   "cell_type": "markdown",
   "metadata": {},
   "source": [
    "Now split based on this sequence identity cluster, the clusters names can be strings or numbers as long as it is the same as the index of feautures dataframe.  \n",
    "But if they are different, cluster names are different to the index of the dataframe, there is an additional groups argument in the split and train_test_split function that accepts a list with the names present in the cluster file and ordered as the rows in the dataframe"
   ]
  },
  {
   "cell_type": "markdown",
   "metadata": {},
   "source": [
    "The clustersplitter splits the dataframes into training and testing sets based on the cluster file.\n",
    "The arguments are:\n",
    "\n",
    "* _cluster_info (str or Path): path to the cluster file\n",
    "* num_splits (int): number of splits\n",
    "* random_state (int): random seed\n",
    "* stratified (bool): whether to use stratified sampling or not, only for classification\n",
    "\n",
    "The function train_test_split is similar to the sklearn train_test_split function.\n",
    "* X (Any iterable): features dataframe\n",
    "* y (any iterable): labels array -> y is optional, if you don't provide it it returns X_train and X_test only\n",
    "* test_size (float): proportion of the dataset to include in the test split (it doesn't always work since it has to follow the clusters)\n",
    "\n",
    "The output is X_train, X_test, y_train, y_test"
   ]
  },
  {
   "cell_type": "code",
   "execution_count": 9,
   "metadata": {},
   "outputs": [],
   "source": [
    "split = ClusterSpliter(\"cluster.tsv\", num_splits=5, random_state=100, stratified=True)\n",
    "X_train, X_test, y_train, y_test = split.train_test_split(features.features, features.label)"
   ]
  },
  {
   "cell_type": "code",
   "execution_count": 11,
   "metadata": {},
   "outputs": [
    {
     "data": {
      "text/plain": [
       "((117, 12924), 117)"
      ]
     },
     "execution_count": 11,
     "metadata": {},
     "output_type": "execute_result"
    }
   ],
   "source": [
    "X_train.shape, len(X_train.values)"
   ]
  },
  {
   "cell_type": "markdown",
   "metadata": {},
   "source": [
    "The get_range_features arguments:\n",
    "* features (pd.DataFrame): features dataframe\n",
    "* num_features_min (int): minimum number of features\n",
    "* num_features_max (int): maximum number of features\n",
    "* step_range (int): step range between num_features_min and num_features_max\n",
    "\n",
    "The output:\n",
    "* feature_range (list): list of feature dimensions to extract for each of the feature selection algorithm\n",
    "\n",
    "You could skip this function and give an list of feature dimensions diectly to construct features"
   ]
  },
  {
   "cell_type": "code",
   "execution_count": 7,
   "metadata": {},
   "outputs": [
    {
     "data": {
      "text/plain": [
       "[20, 30, 40, 50, 60]"
      ]
     },
     "execution_count": 7,
     "metadata": {},
     "output_type": "execute_result"
    }
   ],
   "source": [
    "problem =\"classification\"\n",
    "feature_range = selection.get_range_features(features.features, num_features_min = 20, num_features_max=60, step_range=10)\n",
    "feature_range"
   ]
  },
  {
   "cell_type": "markdown",
   "metadata": {},
   "source": [
    "Featureselection class arguments are:\n",
    "\n",
    "* excel_file (str or Path): path to the excel file to save the features\n",
    "* filter_args : a class with filter_args attributes, which is a dict containing the selection algorithms\n",
    "* num_thread (int): number of threads\n",
    "* seed (int): random seed\n",
    "* scaler (str): scaler to use to scale the features before runing the selection\n",
    "\n",
    "The construct_features function is the function that actually runs the selection algorithms.\n",
    "* X (Any iterable): features dataframe\n",
    "* X_train (Any iterable): training features dataframe\n",
    "* X_test (Any iterable): testing features dataframe\n",
    "* y_train (Any iterable): training labels array\n",
    "* feature_range (list): list of feature dimensions to extract for each of the feature selection algorithm\n",
    "\n",
    "The output is:\n",
    "* excel_file (saved): with the features, each sheet is a selection algorithm and feature_dimension\n",
    "* feature importance plot (saved): with the shap package https://www.aidancooper.co.uk/a-non-technical-guide-to-interpreting-shap-analyses/\n",
    "* A csv of the feature importance (saved)\n"
   ]
  },
  {
   "cell_type": "code",
   "execution_count": 9,
   "metadata": {},
   "outputs": [
    {
     "name": "stderr",
     "output_type": "stream",
     "text": [
      "14-04-2025 14:29:31 INFO Reading the features\n",
      "14-04-2025 14:29:31 INFO Starting feature selection and using the following parameters\n",
      "14-04-2025 14:29:31 INFO seed: 10\n",
      "14-04-2025 14:29:31 INFO filtering the features\n"
     ]
    },
    {
     "name": "stdout",
     "output_type": "stream",
     "text": [
      "classification filter: mutual_info\n",
      "classification filter: Fscore\n",
      "classification filter: chi2\n",
      "classification filter: FechnerCorr\n",
      "classification filter: KendallCorr\n",
      "generating a feature set of 20 dimensions\n",
      "generating a feature set of 30 dimensions\n",
      "generating a feature set of 40 dimensions\n",
      "generating a feature set of 50 dimensions\n",
      "generating a feature set of 60 dimensions\n"
     ]
    },
    {
     "data": {
      "text/plain": [
       "<Figure size 800x950 with 0 Axes>"
      ]
     },
     "metadata": {},
     "output_type": "display_data"
    }
   ],
   "source": [
    "# select features\n",
    "if problem == \"classification\":\n",
    "    filters = selection.FeatureClassification()\n",
    "elif problem == \"regression\":\n",
    "    filters = selection.FeatureRegression()\n",
    "\n",
    "select = selection.FeatureSelection(\"classification_results/filtered_features.xlsx\", filters, num_thread=2, seed=10, \n",
    "                                    scaler=\"robust\")\n",
    "\n",
    "select.construct_features(features.features, X_train, X_test, y_train, feature_range)"
   ]
  },
  {
   "cell_type": "markdown",
   "metadata": {},
   "source": [
    "# 4. Outlier detection"
   ]
  },
  {
   "cell_type": "markdown",
   "metadata": {},
   "source": [
    "You can also eliminate outliers in your dataset which could decrease model performance.\n",
    "Although, generally, if you have a lot of data outliers won't matter much.  \n",
    "It is unsupervised so it only needs the features. It accepts the following formats\n",
    "\n",
    "1. excel files\n",
    "2. Pandas dataframe\n",
    "3. Series, ndarray\n",
    "4. csv file\n",
    "\n",
    "It leverages 8 different outlier detection algorithms and gives you a voting. \n",
    "If you give it an excel file where there are different sheets. It will iterate through all of them."
   ]
  },
  {
   "cell_type": "code",
   "execution_count": 21,
   "metadata": {},
   "outputs": [],
   "source": [
    "from BioML.utilities.outlier import OutlierDetection"
   ]
  },
  {
   "cell_type": "markdown",
   "metadata": {},
   "source": [
    "THe OutlierDetection class arguments are:\n",
    "\n",
    "* feature_file (str or Path): path to the excel file\n",
    "* output (str or Path): path to the output file\n",
    "* num_thread (int): number of threads\n",
    "\n",
    "The run function outputs a dataframe with the outliers in it.\n",
    "* \"classification_results/outliers.csv\" (saved)"
   ]
  },
  {
   "cell_type": "code",
   "execution_count": 22,
   "metadata": {},
   "outputs": [],
   "source": [
    "detection = OutlierDetection(\"classification_results/filtered_features.xlsx\", output=\"classification_results/outliers.csv\", num_thread=4)\n",
    "outliers = detection.run()"
   ]
  },
  {
   "cell_type": "code",
   "execution_count": 23,
   "metadata": {},
   "outputs": [
    {
     "data": {
      "text/html": [
       "<div>\n",
       "<style scoped>\n",
       "    .dataframe tbody tr th:only-of-type {\n",
       "        vertical-align: middle;\n",
       "    }\n",
       "\n",
       "    .dataframe tbody tr th {\n",
       "        vertical-align: top;\n",
       "    }\n",
       "\n",
       "    .dataframe thead th {\n",
       "        text-align: right;\n",
       "    }\n",
       "</style>\n",
       "<table border=\"1\" class=\"dataframe\">\n",
       "  <thead>\n",
       "    <tr style=\"text-align: right;\">\n",
       "      <th></th>\n",
       "      <th>0</th>\n",
       "    </tr>\n",
       "  </thead>\n",
       "  <tbody>\n",
       "    <tr>\n",
       "      <th>EH144(1)</th>\n",
       "      <td>281</td>\n",
       "    </tr>\n",
       "    <tr>\n",
       "      <th>EH115(8)</th>\n",
       "      <td>226</td>\n",
       "    </tr>\n",
       "    <tr>\n",
       "      <th>EH121(5)</th>\n",
       "      <td>198</td>\n",
       "    </tr>\n",
       "    <tr>\n",
       "      <th>EH74(17)</th>\n",
       "      <td>169</td>\n",
       "    </tr>\n",
       "    <tr>\n",
       "      <th>EH125(4)</th>\n",
       "      <td>142</td>\n",
       "    </tr>\n",
       "    <tr>\n",
       "      <th>EH98(11)</th>\n",
       "      <td>116</td>\n",
       "    </tr>\n",
       "    <tr>\n",
       "      <th>EH85(13)</th>\n",
       "      <td>116</td>\n",
       "    </tr>\n",
       "    <tr>\n",
       "      <th>EH48(23)</th>\n",
       "      <td>102</td>\n",
       "    </tr>\n",
       "    <tr>\n",
       "      <th>EH61(20)</th>\n",
       "      <td>86</td>\n",
       "    </tr>\n",
       "    <tr>\n",
       "      <th>EH46(23)</th>\n",
       "      <td>85</td>\n",
       "    </tr>\n",
       "    <tr>\n",
       "      <th>EH31(29)</th>\n",
       "      <td>76</td>\n",
       "    </tr>\n",
       "    <tr>\n",
       "      <th>EH127(4)</th>\n",
       "      <td>73</td>\n",
       "    </tr>\n",
       "    <tr>\n",
       "      <th>EH111(8)</th>\n",
       "      <td>66</td>\n",
       "    </tr>\n",
       "    <tr>\n",
       "      <th>EH102(10)</th>\n",
       "      <td>65</td>\n",
       "    </tr>\n",
       "    <tr>\n",
       "      <th>EH119(6)</th>\n",
       "      <td>58</td>\n",
       "    </tr>\n",
       "    <tr>\n",
       "      <th>EH92(12)</th>\n",
       "      <td>55</td>\n",
       "    </tr>\n",
       "    <tr>\n",
       "      <th>EH6(66)</th>\n",
       "      <td>53</td>\n",
       "    </tr>\n",
       "    <tr>\n",
       "      <th>EH29(31)</th>\n",
       "      <td>46</td>\n",
       "    </tr>\n",
       "    <tr>\n",
       "      <th>EH36(28)</th>\n",
       "      <td>46</td>\n",
       "    </tr>\n",
       "    <tr>\n",
       "      <th>EH52(21)</th>\n",
       "      <td>45</td>\n",
       "    </tr>\n",
       "  </tbody>\n",
       "</table>\n",
       "</div>"
      ],
      "text/plain": [
       "             0\n",
       "EH144(1)   281\n",
       "EH115(8)   226\n",
       "EH121(5)   198\n",
       "EH74(17)   169\n",
       "EH125(4)   142\n",
       "EH98(11)   116\n",
       "EH85(13)   116\n",
       "EH48(23)   102\n",
       "EH61(20)    86\n",
       "EH46(23)    85\n",
       "EH31(29)    76\n",
       "EH127(4)    73\n",
       "EH111(8)    66\n",
       "EH102(10)   65\n",
       "EH119(6)    58\n",
       "EH92(12)    55\n",
       "EH6(66)     53\n",
       "EH29(31)    46\n",
       "EH36(28)    46\n",
       "EH52(21)    45"
      ]
     },
     "execution_count": 23,
     "metadata": {},
     "output_type": "execute_result"
    }
   ],
   "source": [
    "outliers.head(20)"
   ]
  },
  {
   "cell_type": "markdown",
   "metadata": {},
   "source": [
    "## Iterate through multiple feature sheets"
   ]
  },
  {
   "cell_type": "markdown",
   "metadata": {},
   "source": [
    "You have many features sets that were selected and saved in the excel file from the previous feature selection step. You want to test which feature set is better for your data relatively fast -> you could use iterate_excel from the utilities and the iterate_multiple_features method from Trainer.\n",
    "\n",
    "The iterate_multiple_features method from Trainer accepts an iterator of (feature dataframe, label column name, name) generated by iterate_excel: \n",
    "    1. name is used to identify the features later in the results\n",
    "    2. feature dataframe should contain a column with teh labels\n",
    "    3. label column name within the feature dataframe\n",
    "\n",
    "Then it calls the run_training method from the Trainer iteratively and gathers performance metrics for different sheets.\n",
    "run_training only runs the models without tuning, stacking or esembling.\n",
    "Finally it write the results for each sheet\n",
    "\n",
    "Once you have picked the best performing sheet you could run again the previous steps and perform tuning, stacking and ensembling\n",
    "\n",
    "Iterate excel reads all the sheets from an excel and yields (feature dataframe, label column name, sheet)"
   ]
  },
  {
   "cell_type": "code",
   "execution_count": 1,
   "metadata": {},
   "outputs": [],
   "source": [
    "from BioML.utilities.utils import write_results, iterate_excel\n",
    "from BioML.models.base import DataParser\n",
    "from BioML.models.classification import Classifier\n",
    "from BioML.models.regression import Regressor\n",
    "from BioML.models.base import PycaretInterface, Trainer, DataParser\n",
    "from collections import defaultdict\n",
    "from functools import partial\n",
    "import pandas as pd\n",
    "import numpy as np\n",
    "from BioML.utilities.utils import write_results\n",
    "from sklearn.linear_model import PassiveAggressiveClassifier\n",
    "from BioML.utilities.split_methods import ClusterSpliter"
   ]
  },
  {
   "cell_type": "markdown",
   "metadata": {},
   "source": [
    "By default pycaret logs the hyperparameters and metrics in MlFLow (similar to wandb or tensorboard) but since we are only testing the features\n",
    "we don't need registry of all those runs.\n",
    "So we can disable log_experiment"
   ]
  },
  {
   "cell_type": "code",
   "execution_count": null,
   "metadata": {},
   "outputs": [
    {
     "name": "stderr",
     "output_type": "stream",
     "text": [
      "04-04-2025 12:08:37 INFO ------------------------------------------------------------------------------\n",
      "04-04-2025 12:08:37 INFO PycaretInterface parameters\n",
      "04-04-2025 12:08:37 INFO Seed: 250\n",
      "04-04-2025 12:08:37 INFO Budget time: 20\n",
      "04-04-2025 12:08:37 INFO The number of models to select: 4\n",
      "04-04-2025 12:08:37 INFO Output path: classification_results\n",
      "04-04-2025 12:08:37 INFO ----------------Trainer inputs-------------------------\n",
      "04-04-2025 12:08:37 INFO Number of kfolds: 5\n",
      "04-04-2025 12:08:37 INFO Number of retuning iterations: 50\n",
      "04-04-2025 12:08:37 INFO Test size: 0.2\n"
     ]
    }
   ],
   "source": [
    "experiment = PycaretInterface(\"classification\", 250, budget_time=20, best_model=4, \n",
    "                                  output_path=\"classification_results\", optimize=\"MCC\", log_experiment=False) \n",
    "classifier = Classifier(optimize=\"MCC\", drop=(), selected=(), add=())\n",
    "training = Trainer(experiment, classifier, num_splits=5, test_size=0.2,  num_iter=50)"
   ]
  },
  {
   "cell_type": "markdown",
   "metadata": {},
   "source": [
    "The arguments for iterate_excel are:\n",
    "\n",
    "* excel_file (str): the path to the excel file with all the selected features\n",
    "* parser (DataParser): the parser for the excel file\n",
    "* label (str): The labels for the features it can be any of the accepted formates by parser\n",
    "* outliers (Iterable[str]): An iterable containing the indices to remove from the training set\n",
    "\n",
    "The output is:\n",
    "* yield -> (feature dataframe, label column name, sheet name)\n",
    "\n",
    "The arguments for iterate_multiple_features are:\n",
    "\n",
    "* generator (Generator): A generator that yields (feature dataframe, label column name, name)\n",
    "* training_output (str): the path to the training output\n",
    "* split_strategy (ClusterSpliter): The strategy for splitting the training dataset\n",
    "\n",
    "The output is:\n",
    "* \"training_output / training_results.xlsx\" (saved)\n",
    "* \"output_path/ config_setup_pycaret.csv\" (saved) from PycaretInterface"
   ]
  },
  {
   "cell_type": "code",
   "execution_count": 4,
   "metadata": {},
   "outputs": [
    {
     "name": "stderr",
     "output_type": "stream",
     "text": [
      "2025/04/04 12:08:42 INFO mlflow.tracking.fluent: Experiment with name 'Classification' does not exist. Creating a new experiment.\n",
      "04-04-2025 12:08:42 INFO Added metrics for classification: Average precision\n",
      "04-04-2025 12:08:42 INFO --------------------------------------------------------\n",
      "04-04-2025 12:08:42 INFO Training classification models\n",
      "04-04-2025 12:08:42 INFO The models used ['lr', 'knn', 'nb', 'dt', 'svm', 'rbfsvm', 'gpc', 'mlp', 'ridge', 'rf', 'qda', 'ada', 'gbc', 'lda', 'et', 'xgboost', 'lightgbm', 'catboost', 'dummy']\n",
      "04-04-2025 12:08:42 INFO The number of models used 19\n",
      "04-04-2025 12:08:42 INFO Time budget is 20 minutes\n",
      "2025/04/04 12:08:45 WARNING mlflow.models.model: Model logged without a signature and input example. Please set `input_example` parameter when logging the model to auto infer the model signature.\n",
      "04-04-2025 12:08:46 INFO Model lr trained in 0.055 minutes\n",
      "2025/04/04 12:08:48 WARNING mlflow.models.model: Model logged without a signature and input example. Please set `input_example` parameter when logging the model to auto infer the model signature.\n",
      "04-04-2025 12:08:48 INFO Model knn trained in 0.039 minutes\n",
      "2025/04/04 12:08:48 WARNING mlflow.models.model: Model logged without a signature and input example. Please set `input_example` parameter when logging the model to auto infer the model signature.\n",
      "04-04-2025 12:08:49 INFO Model nb trained in 0.013 minutes\n",
      "2025/04/04 12:08:49 WARNING mlflow.models.model: Model logged without a signature and input example. Please set `input_example` parameter when logging the model to auto infer the model signature.\n",
      "04-04-2025 12:08:49 INFO Model dt trained in 0.013 minutes\n",
      "2025/04/04 12:08:50 WARNING mlflow.models.model: Model logged without a signature and input example. Please set `input_example` parameter when logging the model to auto infer the model signature.\n",
      "04-04-2025 12:08:50 INFO Model svm trained in 0.013 minutes\n",
      "2025/04/04 12:08:51 WARNING mlflow.models.model: Model logged without a signature and input example. Please set `input_example` parameter when logging the model to auto infer the model signature.\n",
      "04-04-2025 12:08:51 INFO Model rbfsvm trained in 0.013 minutes\n",
      "2025/04/04 12:08:52 WARNING mlflow.models.model: Model logged without a signature and input example. Please set `input_example` parameter when logging the model to auto infer the model signature.\n",
      "04-04-2025 12:08:53 INFO Model gpc trained in 0.027 minutes\n",
      "2025/04/04 12:08:54 WARNING mlflow.models.model: Model logged without a signature and input example. Please set `input_example` parameter when logging the model to auto infer the model signature.\n",
      "04-04-2025 12:08:54 INFO Model mlp trained in 0.024 minutes\n",
      "2025/04/04 12:08:55 WARNING mlflow.models.model: Model logged without a signature and input example. Please set `input_example` parameter when logging the model to auto infer the model signature.\n",
      "04-04-2025 12:08:55 INFO Model ridge trained in 0.014 minutes\n",
      "2025/04/04 12:08:56 WARNING mlflow.models.model: Model logged without a signature and input example. Please set `input_example` parameter when logging the model to auto infer the model signature.\n",
      "04-04-2025 12:08:56 INFO Model rf trained in 0.02 minutes\n",
      "2025/04/04 12:08:57 WARNING mlflow.models.model: Model logged without a signature and input example. Please set `input_example` parameter when logging the model to auto infer the model signature.\n",
      "04-04-2025 12:08:57 INFO Model qda trained in 0.014 minutes\n",
      "2025/04/04 12:08:58 WARNING mlflow.models.model: Model logged without a signature and input example. Please set `input_example` parameter when logging the model to auto infer the model signature.\n",
      "04-04-2025 12:08:58 INFO Model ada trained in 0.017 minutes\n",
      "2025/04/04 12:08:59 WARNING mlflow.models.model: Model logged without a signature and input example. Please set `input_example` parameter when logging the model to auto infer the model signature.\n",
      "04-04-2025 12:08:59 INFO Model gbc trained in 0.019 minutes\n",
      "2025/04/04 12:09:00 WARNING mlflow.models.model: Model logged without a signature and input example. Please set `input_example` parameter when logging the model to auto infer the model signature.\n",
      "04-04-2025 12:09:00 INFO Model lda trained in 0.013 minutes\n",
      "2025/04/04 12:09:01 WARNING mlflow.models.model: Model logged without a signature and input example. Please set `input_example` parameter when logging the model to auto infer the model signature.\n",
      "04-04-2025 12:09:01 INFO Model et trained in 0.02 minutes\n",
      "2025/04/04 12:09:02 WARNING mlflow.models.model: Model logged without a signature and input example. Please set `input_example` parameter when logging the model to auto infer the model signature.\n",
      "04-04-2025 12:09:02 INFO Model xgboost trained in 0.017 minutes\n",
      "2025/04/04 12:10:00 WARNING mlflow.models.model: Model logged without a signature and input example. Please set `input_example` parameter when logging the model to auto infer the model signature.\n",
      "04-04-2025 12:10:00 INFO Model lightgbm trained in 0.97 minutes\n",
      "2025/04/04 12:10:06 WARNING mlflow.models.model: Model logged without a signature and input example. Please set `input_example` parameter when logging the model to auto infer the model signature.\n",
      "04-04-2025 12:10:06 INFO Model catboost trained in 0.094 minutes\n",
      "2025/04/04 12:10:06 WARNING mlflow.models.model: Model logged without a signature and input example. Please set `input_example` parameter when logging the model to auto infer the model signature.\n",
      "04-04-2025 12:10:07 INFO Model dummy trained in 0.014 minutes\n",
      "04-04-2025 12:10:07 INFO Training over: Total runtime 1.408 minutes\n",
      "04-04-2025 12:10:08 INFO Added metrics for classification: Average precision\n",
      "04-04-2025 12:10:08 INFO --------------------------------------------------------\n",
      "04-04-2025 12:10:08 INFO Training classification models\n",
      "04-04-2025 12:10:08 INFO The models used ['lr', 'knn', 'nb', 'dt', 'svm', 'rbfsvm', 'gpc', 'mlp', 'ridge', 'rf', 'qda', 'ada', 'gbc', 'lda', 'et', 'xgboost', 'lightgbm', 'catboost', 'dummy']\n",
      "04-04-2025 12:10:08 INFO The number of models used 19\n",
      "04-04-2025 12:10:08 INFO Time budget is 20 minutes\n",
      "2025/04/04 12:10:08 WARNING mlflow.models.model: Model logged without a signature and input example. Please set `input_example` parameter when logging the model to auto infer the model signature.\n",
      "04-04-2025 12:10:09 INFO Model lr trained in 0.013 minutes\n",
      "2025/04/04 12:10:09 WARNING mlflow.models.model: Model logged without a signature and input example. Please set `input_example` parameter when logging the model to auto infer the model signature.\n",
      "04-04-2025 12:10:09 INFO Model knn trained in 0.014 minutes\n",
      "2025/04/04 12:10:10 WARNING mlflow.models.model: Model logged without a signature and input example. Please set `input_example` parameter when logging the model to auto infer the model signature.\n",
      "04-04-2025 12:10:10 INFO Model nb trained in 0.013 minutes\n",
      "2025/04/04 12:10:11 WARNING mlflow.models.model: Model logged without a signature and input example. Please set `input_example` parameter when logging the model to auto infer the model signature.\n",
      "04-04-2025 12:10:11 INFO Model dt trained in 0.013 minutes\n",
      "2025/04/04 12:10:11 WARNING mlflow.models.model: Model logged without a signature and input example. Please set `input_example` parameter when logging the model to auto infer the model signature.\n",
      "04-04-2025 12:10:12 INFO Model svm trained in 0.013 minutes\n",
      "2025/04/04 12:10:12 WARNING mlflow.models.model: Model logged without a signature and input example. Please set `input_example` parameter when logging the model to auto infer the model signature.\n",
      "04-04-2025 12:10:13 INFO Model rbfsvm trained in 0.014 minutes\n",
      "2025/04/04 12:10:14 WARNING mlflow.models.model: Model logged without a signature and input example. Please set `input_example` parameter when logging the model to auto infer the model signature.\n",
      "04-04-2025 12:10:14 INFO Model gpc trained in 0.025 minutes\n",
      "2025/04/04 12:10:15 WARNING mlflow.models.model: Model logged without a signature and input example. Please set `input_example` parameter when logging the model to auto infer the model signature.\n",
      "04-04-2025 12:10:16 INFO Model mlp trained in 0.028 minutes\n",
      "2025/04/04 12:10:16 WARNING mlflow.models.model: Model logged without a signature and input example. Please set `input_example` parameter when logging the model to auto infer the model signature.\n",
      "04-04-2025 12:10:17 INFO Model ridge trained in 0.013 minutes\n",
      "2025/04/04 12:10:18 WARNING mlflow.models.model: Model logged without a signature and input example. Please set `input_example` parameter when logging the model to auto infer the model signature.\n",
      "04-04-2025 12:10:18 INFO Model rf trained in 0.021 minutes\n",
      "2025/04/04 12:10:18 WARNING mlflow.models.model: Model logged without a signature and input example. Please set `input_example` parameter when logging the model to auto infer the model signature.\n",
      "04-04-2025 12:10:19 INFO Model qda trained in 0.014 minutes\n",
      "2025/04/04 12:10:19 WARNING mlflow.models.model: Model logged without a signature and input example. Please set `input_example` parameter when logging the model to auto infer the model signature.\n",
      "04-04-2025 12:10:20 INFO Model ada trained in 0.017 minutes\n",
      "2025/04/04 12:10:21 WARNING mlflow.models.model: Model logged without a signature and input example. Please set `input_example` parameter when logging the model to auto infer the model signature.\n",
      "04-04-2025 12:10:21 INFO Model gbc trained in 0.019 minutes\n",
      "2025/04/04 12:10:21 WARNING mlflow.models.model: Model logged without a signature and input example. Please set `input_example` parameter when logging the model to auto infer the model signature.\n",
      "04-04-2025 12:10:22 INFO Model lda trained in 0.013 minutes\n",
      "2025/04/04 12:10:23 WARNING mlflow.models.model: Model logged without a signature and input example. Please set `input_example` parameter when logging the model to auto infer the model signature.\n",
      "04-04-2025 12:10:23 INFO Model et trained in 0.02 minutes\n",
      "2025/04/04 12:10:24 WARNING mlflow.models.model: Model logged without a signature and input example. Please set `input_example` parameter when logging the model to auto infer the model signature.\n",
      "04-04-2025 12:10:24 INFO Model xgboost trained in 0.019 minutes\n",
      "2025/04/04 12:11:16 WARNING mlflow.models.model: Model logged without a signature and input example. Please set `input_example` parameter when logging the model to auto infer the model signature.\n",
      "04-04-2025 12:11:17 INFO Model lightgbm trained in 0.878 minutes\n",
      "2025/04/04 12:11:22 WARNING mlflow.models.model: Model logged without a signature and input example. Please set `input_example` parameter when logging the model to auto infer the model signature.\n",
      "04-04-2025 12:11:22 INFO Model catboost trained in 0.094 minutes\n",
      "2025/04/04 12:11:23 WARNING mlflow.models.model: Model logged without a signature and input example. Please set `input_example` parameter when logging the model to auto infer the model signature.\n",
      "04-04-2025 12:11:23 INFO Model dummy trained in 0.013 minutes\n",
      "04-04-2025 12:11:23 INFO Training over: Total runtime 1.255 minutes\n",
      "04-04-2025 12:11:24 INFO Added metrics for classification: Average precision\n",
      "04-04-2025 12:11:24 INFO --------------------------------------------------------\n",
      "04-04-2025 12:11:24 INFO Training classification models\n",
      "04-04-2025 12:11:24 INFO The models used ['lr', 'knn', 'nb', 'dt', 'svm', 'rbfsvm', 'gpc', 'mlp', 'ridge', 'rf', 'qda', 'ada', 'gbc', 'lda', 'et', 'xgboost', 'lightgbm', 'catboost', 'dummy']\n",
      "04-04-2025 12:11:24 INFO The number of models used 19\n",
      "04-04-2025 12:11:24 INFO Time budget is 20 minutes\n",
      "2025/04/04 12:11:25 WARNING mlflow.models.model: Model logged without a signature and input example. Please set `input_example` parameter when logging the model to auto infer the model signature.\n",
      "04-04-2025 12:11:25 INFO Model lr trained in 0.014 minutes\n",
      "2025/04/04 12:11:26 WARNING mlflow.models.model: Model logged without a signature and input example. Please set `input_example` parameter when logging the model to auto infer the model signature.\n",
      "04-04-2025 12:11:26 INFO Model knn trained in 0.015 minutes\n",
      "2025/04/04 12:11:26 WARNING mlflow.models.model: Model logged without a signature and input example. Please set `input_example` parameter when logging the model to auto infer the model signature.\n",
      "04-04-2025 12:11:27 INFO Model nb trained in 0.014 minutes\n",
      "2025/04/04 12:11:27 WARNING mlflow.models.model: Model logged without a signature and input example. Please set `input_example` parameter when logging the model to auto infer the model signature.\n",
      "04-04-2025 12:11:27 INFO Model dt trained in 0.013 minutes\n",
      "2025/04/04 12:11:28 WARNING mlflow.models.model: Model logged without a signature and input example. Please set `input_example` parameter when logging the model to auto infer the model signature.\n",
      "04-04-2025 12:11:28 INFO Model svm trained in 0.014 minutes\n",
      "2025/04/04 12:11:29 WARNING mlflow.models.model: Model logged without a signature and input example. Please set `input_example` parameter when logging the model to auto infer the model signature.\n",
      "04-04-2025 12:11:29 INFO Model rbfsvm trained in 0.013 minutes\n",
      "2025/04/04 12:11:30 WARNING mlflow.models.model: Model logged without a signature and input example. Please set `input_example` parameter when logging the model to auto infer the model signature.\n",
      "04-04-2025 12:11:31 INFO Model gpc trained in 0.026 minutes\n",
      "2025/04/04 12:11:32 WARNING mlflow.models.model: Model logged without a signature and input example. Please set `input_example` parameter when logging the model to auto infer the model signature.\n",
      "04-04-2025 12:11:32 INFO Model mlp trained in 0.025 minutes\n",
      "2025/04/04 12:11:33 WARNING mlflow.models.model: Model logged without a signature and input example. Please set `input_example` parameter when logging the model to auto infer the model signature.\n",
      "04-04-2025 12:11:33 INFO Model ridge trained in 0.013 minutes\n",
      "2025/04/04 12:11:34 WARNING mlflow.models.model: Model logged without a signature and input example. Please set `input_example` parameter when logging the model to auto infer the model signature.\n",
      "04-04-2025 12:11:34 INFO Model rf trained in 0.023 minutes\n",
      "2025/04/04 12:11:35 WARNING mlflow.models.model: Model logged without a signature and input example. Please set `input_example` parameter when logging the model to auto infer the model signature.\n",
      "04-04-2025 12:11:35 INFO Model qda trained in 0.013 minutes\n",
      "2025/04/04 12:11:36 WARNING mlflow.models.model: Model logged without a signature and input example. Please set `input_example` parameter when logging the model to auto infer the model signature.\n",
      "04-04-2025 12:11:36 INFO Model ada trained in 0.017 minutes\n",
      "2025/04/04 12:11:37 WARNING mlflow.models.model: Model logged without a signature and input example. Please set `input_example` parameter when logging the model to auto infer the model signature.\n",
      "04-04-2025 12:11:37 INFO Model gbc trained in 0.019 minutes\n",
      "2025/04/04 12:11:38 WARNING mlflow.models.model: Model logged without a signature and input example. Please set `input_example` parameter when logging the model to auto infer the model signature.\n",
      "04-04-2025 12:11:38 INFO Model lda trained in 0.012 minutes\n",
      "2025/04/04 12:11:39 WARNING mlflow.models.model: Model logged without a signature and input example. Please set `input_example` parameter when logging the model to auto infer the model signature.\n",
      "04-04-2025 12:11:39 INFO Model et trained in 0.022 minutes\n",
      "2025/04/04 12:11:40 WARNING mlflow.models.model: Model logged without a signature and input example. Please set `input_example` parameter when logging the model to auto infer the model signature.\n",
      "04-04-2025 12:11:40 INFO Model xgboost trained in 0.016 minutes\n",
      "2025/04/04 12:12:36 WARNING mlflow.models.model: Model logged without a signature and input example. Please set `input_example` parameter when logging the model to auto infer the model signature.\n",
      "04-04-2025 12:12:36 INFO Model lightgbm trained in 0.934 minutes\n",
      "2025/04/04 12:12:43 WARNING mlflow.models.model: Model logged without a signature and input example. Please set `input_example` parameter when logging the model to auto infer the model signature.\n",
      "04-04-2025 12:12:43 INFO Model catboost trained in 0.108 minutes\n",
      "2025/04/04 12:12:43 WARNING mlflow.models.model: Model logged without a signature and input example. Please set `input_example` parameter when logging the model to auto infer the model signature.\n",
      "04-04-2025 12:12:44 INFO Model dummy trained in 0.013 minutes\n",
      "04-04-2025 12:12:44 INFO Training over: Total runtime 1.323 minutes\n",
      "04-04-2025 12:12:45 INFO Added metrics for classification: Average precision\n",
      "04-04-2025 12:12:45 INFO --------------------------------------------------------\n",
      "04-04-2025 12:12:45 INFO Training classification models\n",
      "04-04-2025 12:12:45 INFO The models used ['lr', 'knn', 'nb', 'dt', 'svm', 'rbfsvm', 'gpc', 'mlp', 'ridge', 'rf', 'qda', 'ada', 'gbc', 'lda', 'et', 'xgboost', 'lightgbm', 'catboost', 'dummy']\n",
      "04-04-2025 12:12:45 INFO The number of models used 19\n",
      "04-04-2025 12:12:45 INFO Time budget is 20 minutes\n",
      "2025/04/04 12:12:45 WARNING mlflow.models.model: Model logged without a signature and input example. Please set `input_example` parameter when logging the model to auto infer the model signature.\n",
      "04-04-2025 12:12:45 INFO Model lr trained in 0.013 minutes\n",
      "2025/04/04 12:12:46 WARNING mlflow.models.model: Model logged without a signature and input example. Please set `input_example` parameter when logging the model to auto infer the model signature.\n",
      "04-04-2025 12:12:46 INFO Model knn trained in 0.013 minutes\n",
      "2025/04/04 12:12:47 WARNING mlflow.models.model: Model logged without a signature and input example. Please set `input_example` parameter when logging the model to auto infer the model signature.\n",
      "04-04-2025 12:12:47 INFO Model nb trained in 0.013 minutes\n",
      "2025/04/04 12:12:47 WARNING mlflow.models.model: Model logged without a signature and input example. Please set `input_example` parameter when logging the model to auto infer the model signature.\n",
      "04-04-2025 12:12:48 INFO Model dt trained in 0.013 minutes\n",
      "2025/04/04 12:12:48 WARNING mlflow.models.model: Model logged without a signature and input example. Please set `input_example` parameter when logging the model to auto infer the model signature.\n",
      "04-04-2025 12:12:48 INFO Model svm trained in 0.013 minutes\n",
      "2025/04/04 12:12:49 WARNING mlflow.models.model: Model logged without a signature and input example. Please set `input_example` parameter when logging the model to auto infer the model signature.\n",
      "04-04-2025 12:12:49 INFO Model rbfsvm trained in 0.013 minutes\n",
      "2025/04/04 12:12:50 WARNING mlflow.models.model: Model logged without a signature and input example. Please set `input_example` parameter when logging the model to auto infer the model signature.\n",
      "04-04-2025 12:12:51 INFO Model gpc trained in 0.023 minutes\n",
      "2025/04/04 12:12:52 WARNING mlflow.models.model: Model logged without a signature and input example. Please set `input_example` parameter when logging the model to auto infer the model signature.\n",
      "04-04-2025 12:12:52 INFO Model mlp trained in 0.026 minutes\n",
      "2025/04/04 12:12:53 WARNING mlflow.models.model: Model logged without a signature and input example. Please set `input_example` parameter when logging the model to auto infer the model signature.\n",
      "04-04-2025 12:12:53 INFO Model ridge trained in 0.013 minutes\n",
      "2025/04/04 12:12:54 WARNING mlflow.models.model: Model logged without a signature and input example. Please set `input_example` parameter when logging the model to auto infer the model signature.\n",
      "04-04-2025 12:12:54 INFO Model rf trained in 0.022 minutes\n",
      "2025/04/04 12:12:55 WARNING mlflow.models.model: Model logged without a signature and input example. Please set `input_example` parameter when logging the model to auto infer the model signature.\n",
      "04-04-2025 12:12:55 INFO Model qda trained in 0.013 minutes\n",
      "2025/04/04 12:12:56 WARNING mlflow.models.model: Model logged without a signature and input example. Please set `input_example` parameter when logging the model to auto infer the model signature.\n",
      "04-04-2025 12:12:56 INFO Model ada trained in 0.018 minutes\n",
      "2025/04/04 12:12:57 WARNING mlflow.models.model: Model logged without a signature and input example. Please set `input_example` parameter when logging the model to auto infer the model signature.\n",
      "04-04-2025 12:12:57 INFO Model gbc trained in 0.02 minutes\n",
      "2025/04/04 12:12:58 WARNING mlflow.models.model: Model logged without a signature and input example. Please set `input_example` parameter when logging the model to auto infer the model signature.\n",
      "04-04-2025 12:12:58 INFO Model lda trained in 0.013 minutes\n",
      "2025/04/04 12:12:59 WARNING mlflow.models.model: Model logged without a signature and input example. Please set `input_example` parameter when logging the model to auto infer the model signature.\n",
      "04-04-2025 12:12:59 INFO Model et trained in 0.02 minutes\n",
      "2025/04/04 12:13:01 WARNING mlflow.models.model: Model logged without a signature and input example. Please set `input_example` parameter when logging the model to auto infer the model signature.\n",
      "04-04-2025 12:13:01 INFO Model xgboost trained in 0.025 minutes\n"
     ]
    },
    {
     "ename": "KeyboardInterrupt",
     "evalue": "",
     "output_type": "error",
     "traceback": [
      "\u001b[31m---------------------------------------------------------------------------\u001b[39m",
      "\u001b[31mKeyboardInterrupt\u001b[39m                         Traceback (most recent call last)",
      "\u001b[36mCell\u001b[39m\u001b[36m \u001b[39m\u001b[32mIn[4]\u001b[39m\u001b[32m, line 5\u001b[39m\n\u001b[32m      1\u001b[39m generator = iterate_excel(\u001b[33m\"\u001b[39m\u001b[33mclassification_results/filtered_features.xlsx\u001b[39m\u001b[33m\"\u001b[39m, parser=DataParser, \n\u001b[32m      2\u001b[39m                           label=\u001b[33m\"\u001b[39m\u001b[33m../data/esterase_labels.csv\u001b[39m\u001b[33m\"\u001b[39m, outliers=())\n\u001b[32m      4\u001b[39m split = ClusterSpliter(\u001b[33m\"\u001b[39m\u001b[33mcluster.tsv\u001b[39m\u001b[33m\"\u001b[39m, num_splits=\u001b[32m5\u001b[39m, random_state=\u001b[32m100\u001b[39m, stratified=\u001b[38;5;28;01mTrue\u001b[39;00m)\n\u001b[32m----> \u001b[39m\u001b[32m5\u001b[39m \u001b[43mtraining\u001b[49m\u001b[43m.\u001b[49m\u001b[43miterate_multiple_features\u001b[49m\u001b[43m(\u001b[49m\u001b[43mgenerator\u001b[49m\u001b[43m,\u001b[49m\u001b[43m \u001b[49m\u001b[43mtraining_output\u001b[49m\u001b[43m=\u001b[49m\u001b[33;43m\"\u001b[39;49m\u001b[33;43mclassification_results\u001b[39;49m\u001b[33;43m\"\u001b[39;49m\u001b[43m,\u001b[49m\u001b[43m \u001b[49m\u001b[43msplit_strategy\u001b[49m\u001b[43m=\u001b[49m\u001b[43msplit\u001b[49m\u001b[43m)\u001b[49m\n",
      "\u001b[36mFile \u001b[39m\u001b[32m~/Projects/BioML/BioML/models/base.py:1139\u001b[39m, in \u001b[36mTrainer.iterate_multiple_features\u001b[39m\u001b[34m(self, iterator, training_output, split_strategy, split_index, filter_sheet, test_size, **kwargs)\u001b[39m\n\u001b[32m   1135\u001b[39m \u001b[38;5;28;01mif\u001b[39;00m split_strategy \u001b[38;5;129;01mis\u001b[39;00m \u001b[38;5;129;01mnot\u001b[39;00m \u001b[38;5;28;01mNone\u001b[39;00m:\n\u001b[32m   1136\u001b[39m     X_train, X_test, _, _ = split_strategy.train_test_split(input_feature, input_feature[label_name], \n\u001b[32m   1137\u001b[39m                                                             test_size=test_size, \n\u001b[32m   1138\u001b[39m                                                             split_index=split_index)\n\u001b[32m-> \u001b[39m\u001b[32m1139\u001b[39m     sorted_results, sorted_models, top_params = \u001b[38;5;28;43mself\u001b[39;49m\u001b[43m.\u001b[49m\u001b[43mrun_training\u001b[49m\u001b[43m(\u001b[49m\u001b[43mX_train\u001b[49m\u001b[43m,\u001b[49m\u001b[43m \u001b[49m\u001b[43mlabel_name\u001b[49m\u001b[43m,\u001b[49m\u001b[43m \u001b[49m\u001b[43mtest_data\u001b[49m\u001b[43m=\u001b[49m\u001b[43mX_test\u001b[49m\u001b[43m,\u001b[49m\u001b[43m \u001b[49m\n\u001b[32m   1140\u001b[39m \u001b[43m                                                \u001b[49m\u001b[43mfold_strategy\u001b[49m\u001b[43m=\u001b[49m\u001b[43msplit_strategy\u001b[49m\u001b[43m,\u001b[49m\u001b[43m \u001b[49m\u001b[43m*\u001b[49m\u001b[43m*\u001b[49m\u001b[43mkwargs\u001b[49m\u001b[43m)\u001b[49m\n\u001b[32m   1141\u001b[39m \u001b[38;5;28;01melse\u001b[39;00m:\n\u001b[32m   1142\u001b[39m     sorted_results, sorted_models, top_params = \u001b[38;5;28mself\u001b[39m.run_training(input_feature, label_name,\n\u001b[32m   1143\u001b[39m                                                                   **kwargs)\n",
      "\u001b[36mFile \u001b[39m\u001b[32m~/Projects/BioML/BioML/models/base.py:996\u001b[39m, in \u001b[36mTrainer.run_training\u001b[39m\u001b[34m(self, feature, label_name, **kwargs)\u001b[39m\n\u001b[32m    972\u001b[39m \u001b[38;5;28;01mdef\u001b[39;00m\u001b[38;5;250m \u001b[39m\u001b[34mrun_training\u001b[39m(\u001b[38;5;28mself\u001b[39m, feature: pd.DataFrame, label_name: \u001b[38;5;28mstr\u001b[39m,\n\u001b[32m    973\u001b[39m                   **kwargs: Any) -> \u001b[38;5;28mtuple\u001b[39m[pd.DataFrame, \u001b[38;5;28mdict\u001b[39m[\u001b[38;5;28mstr\u001b[39m, Any], pd.Series]:\n\u001b[32m    974\u001b[39m \u001b[38;5;250m        \u001b[39m\u001b[33;03m\"\"\"\u001b[39;00m\n\u001b[32m    975\u001b[39m \u001b[33;03m        A function that splits the data into training and test sets and then trains the models\u001b[39;00m\n\u001b[32m    976\u001b[39m \u001b[33;03m        using cross-validation but only on the training data\u001b[39;00m\n\u001b[32m   (...)\u001b[39m\u001b[32m    994\u001b[39m \u001b[33;03m        \u001b[39;00m\n\u001b[32m    995\u001b[39m \u001b[33;03m        \"\"\"\u001b[39;00m\n\u001b[32m--> \u001b[39m\u001b[32m996\u001b[39m         results, returned_models = \u001b[38;5;28;43mself\u001b[39;49m\u001b[43m.\u001b[49m\u001b[43mtrain\u001b[49m\u001b[43m(\u001b[49m\u001b[43mfeature\u001b[49m\u001b[43m,\u001b[49m\u001b[43m \u001b[49m\u001b[43mlabel_name\u001b[49m\u001b[43m,\u001b[49m\u001b[43m \u001b[49m\u001b[43m*\u001b[49m\u001b[43m*\u001b[49m\u001b[43mkwargs\u001b[49m\u001b[43m)\u001b[49m \u001b[38;5;66;03m# type: ignore\u001b[39;00m\n\u001b[32m    997\u001b[39m         sorted_results, sorted_models = \u001b[38;5;28mself\u001b[39m.rank_results(results, returned_models, \u001b[38;5;28mself\u001b[39m.arguments._calculate_score_dataframe)\n\u001b[32m    998\u001b[39m         top_params = \u001b[38;5;28mself\u001b[39m.experiment.get_best_params_multiple(sorted_models)\n",
      "\u001b[36mFile \u001b[39m\u001b[32m~/Projects/BioML/BioML/models/base.py:851\u001b[39m, in \u001b[36mTrainer.train\u001b[39m\u001b[34m(self, features, label_name, **kwargs)\u001b[39m\n\u001b[32m    848\u001b[39m \u001b[38;5;28;01mif\u001b[39;00m \u001b[38;5;28mself\u001b[39m.arguments.add:\n\u001b[32m    849\u001b[39m     \u001b[38;5;28mself\u001b[39m.experiment.final_models += \u001b[38;5;28mself\u001b[39m.arguments.add\n\u001b[32m--> \u001b[39m\u001b[32m851\u001b[39m results, returned_models = \u001b[38;5;28;43mself\u001b[39;49m\u001b[43m.\u001b[49m\u001b[43mexperiment\u001b[49m\u001b[43m.\u001b[49m\u001b[43mtrain\u001b[49m\u001b[43m(\u001b[49m\u001b[38;5;28;43mself\u001b[39;49m\u001b[43m.\u001b[49m\u001b[43mcross_validation\u001b[49m\u001b[43m)\u001b[49m\n\u001b[32m    853\u001b[39m \u001b[38;5;28;01mreturn\u001b[39;00m results, returned_models\n",
      "\u001b[36mFile \u001b[39m\u001b[32m~/Projects/BioML/BioML/models/base.py:439\u001b[39m, in \u001b[36mPycaretInterface.train\u001b[39m\u001b[34m(self, cross_validation)\u001b[39m\n\u001b[32m    437\u001b[39m \u001b[38;5;28;01mfor\u001b[39;00m m \u001b[38;5;129;01min\u001b[39;00m \u001b[38;5;28mself\u001b[39m.final_models:\n\u001b[32m    438\u001b[39m     model_time_start = time.time()\n\u001b[32m--> \u001b[39m\u001b[32m439\u001b[39m     model = \u001b[38;5;28;43mself\u001b[39;49m\u001b[43m.\u001b[49m\u001b[43mpycaret\u001b[49m\u001b[43m.\u001b[49m\u001b[43mcreate_model\u001b[49m\u001b[43m(\u001b[49m\u001b[43mm\u001b[49m\u001b[43m,\u001b[49m\u001b[43m \u001b[49m\u001b[43mreturn_train_score\u001b[49m\u001b[43m=\u001b[49m\u001b[38;5;28;43;01mTrue\u001b[39;49;00m\u001b[43m,\u001b[49m\u001b[43m \u001b[49m\u001b[43mverbose\u001b[49m\u001b[43m=\u001b[49m\u001b[38;5;28;43;01mFalse\u001b[39;49;00m\u001b[43m,\u001b[49m\u001b[43m \u001b[49m\u001b[43mcross_validation\u001b[49m\u001b[43m=\u001b[49m\u001b[43mcross_validation\u001b[49m\u001b[43m)\u001b[49m\n\u001b[32m    440\u001b[39m     model_results = \u001b[38;5;28mself\u001b[39m.pycaret.pull(pop=\u001b[38;5;28;01mTrue\u001b[39;00m)\n\u001b[32m    441\u001b[39m     model_results = model_results.loc[[(\u001b[33m\"\u001b[39m\u001b[33mCV-Train\u001b[39m\u001b[33m\"\u001b[39m, \u001b[33m\"\u001b[39m\u001b[33mMean\u001b[39m\u001b[33m\"\u001b[39m), (\u001b[33m\"\u001b[39m\u001b[33mCV-Train\u001b[39m\u001b[33m\"\u001b[39m, \u001b[33m\"\u001b[39m\u001b[33mStd\u001b[39m\u001b[33m\"\u001b[39m), (\u001b[33m\"\u001b[39m\u001b[33mCV-Val\u001b[39m\u001b[33m\"\u001b[39m, \u001b[33m\"\u001b[39m\u001b[33mMean\u001b[39m\u001b[33m\"\u001b[39m), (\u001b[33m\"\u001b[39m\u001b[33mCV-Val\u001b[39m\u001b[33m\"\u001b[39m, \u001b[33m\"\u001b[39m\u001b[33mStd\u001b[39m\u001b[33m\"\u001b[39m)]]\n",
      "\u001b[36mFile \u001b[39m\u001b[32m~/miniforge3/envs/bioml/lib/python3.11/site-packages/pycaret/classification/oop.py:1344\u001b[39m, in \u001b[36mClassificationExperiment.create_model\u001b[39m\u001b[34m(self, estimator, fold, round, cross_validation, fit_kwargs, groups, experiment_custom_tags, probability_threshold, engine, verbose, return_train_score, **kwargs)\u001b[39m\n\u001b[32m   1341\u001b[39m     \u001b[38;5;28mself\u001b[39m._set_engine(estimator=estimator, engine=engine, severity=\u001b[33m\"\u001b[39m\u001b[33merror\u001b[39m\u001b[33m\"\u001b[39m)\n\u001b[32m   1343\u001b[39m \u001b[38;5;28;01mtry\u001b[39;00m:\n\u001b[32m-> \u001b[39m\u001b[32m1344\u001b[39m     return_values = \u001b[38;5;28;43msuper\u001b[39;49m\u001b[43m(\u001b[49m\u001b[43m)\u001b[49m\u001b[43m.\u001b[49m\u001b[43mcreate_model\u001b[49m\u001b[43m(\u001b[49m\n\u001b[32m   1345\u001b[39m \u001b[43m        \u001b[49m\u001b[43mestimator\u001b[49m\u001b[43m=\u001b[49m\u001b[43mestimator\u001b[49m\u001b[43m,\u001b[49m\n\u001b[32m   1346\u001b[39m \u001b[43m        \u001b[49m\u001b[43mfold\u001b[49m\u001b[43m=\u001b[49m\u001b[43mfold\u001b[49m\u001b[43m,\u001b[49m\n\u001b[32m   1347\u001b[39m \u001b[43m        \u001b[49m\u001b[38;5;28;43mround\u001b[39;49m\u001b[43m=\u001b[49m\u001b[38;5;28;43mround\u001b[39;49m\u001b[43m,\u001b[49m\n\u001b[32m   1348\u001b[39m \u001b[43m        \u001b[49m\u001b[43mcross_validation\u001b[49m\u001b[43m=\u001b[49m\u001b[43mcross_validation\u001b[49m\u001b[43m,\u001b[49m\n\u001b[32m   1349\u001b[39m \u001b[43m        \u001b[49m\u001b[43mfit_kwargs\u001b[49m\u001b[43m=\u001b[49m\u001b[43mfit_kwargs\u001b[49m\u001b[43m,\u001b[49m\n\u001b[32m   1350\u001b[39m \u001b[43m        \u001b[49m\u001b[43mgroups\u001b[49m\u001b[43m=\u001b[49m\u001b[43mgroups\u001b[49m\u001b[43m,\u001b[49m\n\u001b[32m   1351\u001b[39m \u001b[43m        \u001b[49m\u001b[43mverbose\u001b[49m\u001b[43m=\u001b[49m\u001b[43mverbose\u001b[49m\u001b[43m,\u001b[49m\n\u001b[32m   1352\u001b[39m \u001b[43m        \u001b[49m\u001b[43mexperiment_custom_tags\u001b[49m\u001b[43m=\u001b[49m\u001b[43mexperiment_custom_tags\u001b[49m\u001b[43m,\u001b[49m\n\u001b[32m   1353\u001b[39m \u001b[43m        \u001b[49m\u001b[43mprobability_threshold\u001b[49m\u001b[43m=\u001b[49m\u001b[43mprobability_threshold\u001b[49m\u001b[43m,\u001b[49m\n\u001b[32m   1354\u001b[39m \u001b[43m        \u001b[49m\u001b[43mreturn_train_score\u001b[49m\u001b[43m=\u001b[49m\u001b[43mreturn_train_score\u001b[49m\u001b[43m,\u001b[49m\n\u001b[32m   1355\u001b[39m \u001b[43m        \u001b[49m\u001b[43m*\u001b[49m\u001b[43m*\u001b[49m\u001b[43mkwargs\u001b[49m\u001b[43m,\u001b[49m\n\u001b[32m   1356\u001b[39m \u001b[43m    \u001b[49m\u001b[43m)\u001b[49m\n\u001b[32m   1357\u001b[39m \u001b[38;5;28;01mfinally\u001b[39;00m:\n\u001b[32m   1358\u001b[39m     \u001b[38;5;28;01mif\u001b[39;00m engine \u001b[38;5;129;01mis\u001b[39;00m \u001b[38;5;129;01mnot\u001b[39;00m \u001b[38;5;28;01mNone\u001b[39;00m:\n\u001b[32m   1359\u001b[39m         \u001b[38;5;66;03m# Reset the models back to the default engines\u001b[39;00m\n",
      "\u001b[36mFile \u001b[39m\u001b[32m~/miniforge3/envs/bioml/lib/python3.11/site-packages/pycaret/internal/pycaret_experiment/supervised_experiment.py:1766\u001b[39m, in \u001b[36m_SupervisedExperiment.create_model\u001b[39m\u001b[34m(self, estimator, fold, round, cross_validation, predict, fit_kwargs, groups, refit, probability_threshold, experiment_custom_tags, verbose, return_train_score, **kwargs)\u001b[39m\n\u001b[32m   1754\u001b[39m \u001b[38;5;66;03m# TODO improve error message\u001b[39;00m\n\u001b[32m   1755\u001b[39m \u001b[38;5;28;01massert\u001b[39;00m \u001b[38;5;129;01mnot\u001b[39;00m \u001b[38;5;28many\u001b[39m(\n\u001b[32m   1756\u001b[39m     x\n\u001b[32m   1757\u001b[39m     \u001b[38;5;129;01min\u001b[39;00m (\n\u001b[32m   (...)\u001b[39m\u001b[32m   1764\u001b[39m     \u001b[38;5;28;01mfor\u001b[39;00m x \u001b[38;5;129;01min\u001b[39;00m kwargs\n\u001b[32m   1765\u001b[39m )\n\u001b[32m-> \u001b[39m\u001b[32m1766\u001b[39m \u001b[38;5;28;01mreturn\u001b[39;00m \u001b[38;5;28;43mself\u001b[39;49m\u001b[43m.\u001b[49m\u001b[43m_create_model\u001b[49m\u001b[43m(\u001b[49m\n\u001b[32m   1767\u001b[39m \u001b[43m    \u001b[49m\u001b[43mestimator\u001b[49m\u001b[43m=\u001b[49m\u001b[43mestimator\u001b[49m\u001b[43m,\u001b[49m\n\u001b[32m   1768\u001b[39m \u001b[43m    \u001b[49m\u001b[43mfold\u001b[49m\u001b[43m=\u001b[49m\u001b[43mfold\u001b[49m\u001b[43m,\u001b[49m\n\u001b[32m   1769\u001b[39m \u001b[43m    \u001b[49m\u001b[38;5;28;43mround\u001b[39;49m\u001b[43m=\u001b[49m\u001b[38;5;28;43mround\u001b[39;49m\u001b[43m,\u001b[49m\n\u001b[32m   1770\u001b[39m \u001b[43m    \u001b[49m\u001b[43mcross_validation\u001b[49m\u001b[43m=\u001b[49m\u001b[43mcross_validation\u001b[49m\u001b[43m,\u001b[49m\n\u001b[32m   1771\u001b[39m \u001b[43m    \u001b[49m\u001b[43mpredict\u001b[49m\u001b[43m=\u001b[49m\u001b[43mpredict\u001b[49m\u001b[43m,\u001b[49m\n\u001b[32m   1772\u001b[39m \u001b[43m    \u001b[49m\u001b[43mfit_kwargs\u001b[49m\u001b[43m=\u001b[49m\u001b[43mfit_kwargs\u001b[49m\u001b[43m,\u001b[49m\n\u001b[32m   1773\u001b[39m \u001b[43m    \u001b[49m\u001b[43mgroups\u001b[49m\u001b[43m=\u001b[49m\u001b[43mgroups\u001b[49m\u001b[43m,\u001b[49m\n\u001b[32m   1774\u001b[39m \u001b[43m    \u001b[49m\u001b[43mrefit\u001b[49m\u001b[43m=\u001b[49m\u001b[43mrefit\u001b[49m\u001b[43m,\u001b[49m\n\u001b[32m   1775\u001b[39m \u001b[43m    \u001b[49m\u001b[43mprobability_threshold\u001b[49m\u001b[43m=\u001b[49m\u001b[43mprobability_threshold\u001b[49m\u001b[43m,\u001b[49m\n\u001b[32m   1776\u001b[39m \u001b[43m    \u001b[49m\u001b[43mexperiment_custom_tags\u001b[49m\u001b[43m=\u001b[49m\u001b[43mexperiment_custom_tags\u001b[49m\u001b[43m,\u001b[49m\n\u001b[32m   1777\u001b[39m \u001b[43m    \u001b[49m\u001b[43mverbose\u001b[49m\u001b[43m=\u001b[49m\u001b[43mverbose\u001b[49m\u001b[43m,\u001b[49m\n\u001b[32m   1778\u001b[39m \u001b[43m    \u001b[49m\u001b[43mreturn_train_score\u001b[49m\u001b[43m=\u001b[49m\u001b[43mreturn_train_score\u001b[49m\u001b[43m,\u001b[49m\n\u001b[32m   1779\u001b[39m \u001b[43m    \u001b[49m\u001b[43m*\u001b[49m\u001b[43m*\u001b[49m\u001b[43mkwargs\u001b[49m\u001b[43m,\u001b[49m\n\u001b[32m   1780\u001b[39m \u001b[43m\u001b[49m\u001b[43m)\u001b[49m\n",
      "\u001b[36mFile \u001b[39m\u001b[32m~/miniforge3/envs/bioml/lib/python3.11/site-packages/pycaret/internal/pycaret_experiment/supervised_experiment.py:1533\u001b[39m, in \u001b[36m_SupervisedExperiment._create_model\u001b[39m\u001b[34m(self, estimator, fold, round, cross_validation, predict, fit_kwargs, groups, refit, probability_threshold, experiment_custom_tags, verbose, system, add_to_model_list, X_train_data, y_train_data, metrics, display, model_only, return_train_score, error_score, **kwargs)\u001b[39m\n\u001b[32m   1530\u001b[39m         \u001b[38;5;28;01mreturn\u001b[39;00m model, model_fit_time\n\u001b[32m   1531\u001b[39m     \u001b[38;5;28;01mreturn\u001b[39;00m model\n\u001b[32m-> \u001b[39m\u001b[32m1533\u001b[39m model, model_fit_time, model_results, _ = \u001b[38;5;28;43mself\u001b[39;49m\u001b[43m.\u001b[49m\u001b[43m_create_model_with_cv\u001b[49m\u001b[43m(\u001b[49m\n\u001b[32m   1534\u001b[39m \u001b[43m    \u001b[49m\u001b[43mmodel\u001b[49m\u001b[43m=\u001b[49m\u001b[43mmodel\u001b[49m\u001b[43m,\u001b[49m\n\u001b[32m   1535\u001b[39m \u001b[43m    \u001b[49m\u001b[43mdata_X\u001b[49m\u001b[43m=\u001b[49m\u001b[43mdata_X\u001b[49m\u001b[43m,\u001b[49m\n\u001b[32m   1536\u001b[39m \u001b[43m    \u001b[49m\u001b[43mdata_y\u001b[49m\u001b[43m=\u001b[49m\u001b[43mdata_y\u001b[49m\u001b[43m,\u001b[49m\n\u001b[32m   1537\u001b[39m \u001b[43m    \u001b[49m\u001b[43mfit_kwargs\u001b[49m\u001b[43m=\u001b[49m\u001b[43mfit_kwargs\u001b[49m\u001b[43m,\u001b[49m\n\u001b[32m   1538\u001b[39m \u001b[43m    \u001b[49m\u001b[38;5;28;43mround\u001b[39;49m\u001b[43m=\u001b[49m\u001b[38;5;28;43mround\u001b[39;49m\u001b[43m,\u001b[49m\n\u001b[32m   1539\u001b[39m \u001b[43m    \u001b[49m\u001b[43mcv\u001b[49m\u001b[43m=\u001b[49m\u001b[43mcv\u001b[49m\u001b[43m,\u001b[49m\n\u001b[32m   1540\u001b[39m \u001b[43m    \u001b[49m\u001b[43mgroups\u001b[49m\u001b[43m=\u001b[49m\u001b[43mgroups\u001b[49m\u001b[43m,\u001b[49m\n\u001b[32m   1541\u001b[39m \u001b[43m    \u001b[49m\u001b[43mmetrics\u001b[49m\u001b[43m=\u001b[49m\u001b[43mmetrics\u001b[49m\u001b[43m,\u001b[49m\n\u001b[32m   1542\u001b[39m \u001b[43m    \u001b[49m\u001b[43mrefit\u001b[49m\u001b[43m=\u001b[49m\u001b[43mrefit\u001b[49m\u001b[43m,\u001b[49m\n\u001b[32m   1543\u001b[39m \u001b[43m    \u001b[49m\u001b[43msystem\u001b[49m\u001b[43m=\u001b[49m\u001b[43msystem\u001b[49m\u001b[43m,\u001b[49m\n\u001b[32m   1544\u001b[39m \u001b[43m    \u001b[49m\u001b[43mdisplay\u001b[49m\u001b[43m=\u001b[49m\u001b[43mdisplay\u001b[49m\u001b[43m,\u001b[49m\n\u001b[32m   1545\u001b[39m \u001b[43m    \u001b[49m\u001b[43merror_score\u001b[49m\u001b[43m=\u001b[49m\u001b[43merror_score\u001b[49m\u001b[43m,\u001b[49m\n\u001b[32m   1546\u001b[39m \u001b[43m    \u001b[49m\u001b[43mreturn_train_score\u001b[49m\u001b[43m=\u001b[49m\u001b[43mreturn_train_score\u001b[49m\u001b[43m,\u001b[49m\n\u001b[32m   1547\u001b[39m \u001b[43m\u001b[49m\u001b[43m)\u001b[49m\n\u001b[32m   1549\u001b[39m \u001b[38;5;66;03m# end runtime\u001b[39;00m\n\u001b[32m   1550\u001b[39m runtime_end = time.time()\n",
      "\u001b[36mFile \u001b[39m\u001b[32m~/miniforge3/envs/bioml/lib/python3.11/site-packages/pycaret/internal/pycaret_experiment/supervised_experiment.py:1126\u001b[39m, in \u001b[36m_SupervisedExperiment._create_model_with_cv\u001b[39m\u001b[34m(self, model, data_X, data_y, fit_kwargs, round, cv, groups, metrics, refit, system, display, error_score, return_train_score)\u001b[39m\n\u001b[32m   1124\u001b[39m     model_fit_start = time.time()\n\u001b[32m   1125\u001b[39m     \u001b[38;5;28;01mwith\u001b[39;00m redirect_output(\u001b[38;5;28mself\u001b[39m.logger):\n\u001b[32m-> \u001b[39m\u001b[32m1126\u001b[39m         scores = \u001b[43mcross_validate\u001b[49m\u001b[43m(\u001b[49m\n\u001b[32m   1127\u001b[39m \u001b[43m            \u001b[49m\u001b[43mpipeline_with_model\u001b[49m\u001b[43m,\u001b[49m\n\u001b[32m   1128\u001b[39m \u001b[43m            \u001b[49m\u001b[43mdata_X\u001b[49m\u001b[43m,\u001b[49m\n\u001b[32m   1129\u001b[39m \u001b[43m            \u001b[49m\u001b[43mdata_y\u001b[49m\u001b[43m,\u001b[49m\n\u001b[32m   1130\u001b[39m \u001b[43m            \u001b[49m\u001b[43mcv\u001b[49m\u001b[43m=\u001b[49m\u001b[43mcv\u001b[49m\u001b[43m,\u001b[49m\n\u001b[32m   1131\u001b[39m \u001b[43m            \u001b[49m\u001b[43mgroups\u001b[49m\u001b[43m=\u001b[49m\u001b[43mgroups\u001b[49m\u001b[43m,\u001b[49m\n\u001b[32m   1132\u001b[39m \u001b[43m            \u001b[49m\u001b[43mscoring\u001b[49m\u001b[43m=\u001b[49m\u001b[43mmetrics_dict\u001b[49m\u001b[43m,\u001b[49m\n\u001b[32m   1133\u001b[39m \u001b[43m            \u001b[49m\u001b[43mparams\u001b[49m\u001b[43m=\u001b[49m\u001b[43mfit_kwargs\u001b[49m\u001b[43m,\u001b[49m\n\u001b[32m   1134\u001b[39m \u001b[43m            \u001b[49m\u001b[43mn_jobs\u001b[49m\u001b[43m=\u001b[49m\u001b[43mn_jobs\u001b[49m\u001b[43m,\u001b[49m\n\u001b[32m   1135\u001b[39m \u001b[43m            \u001b[49m\u001b[43mreturn_train_score\u001b[49m\u001b[43m=\u001b[49m\u001b[43mreturn_train_score\u001b[49m\u001b[43m,\u001b[49m\n\u001b[32m   1136\u001b[39m \u001b[43m            \u001b[49m\u001b[43merror_score\u001b[49m\u001b[43m=\u001b[49m\u001b[43merror_score\u001b[49m\u001b[43m,\u001b[49m\n\u001b[32m   1137\u001b[39m \u001b[43m        \u001b[49m\u001b[43m)\u001b[49m\n\u001b[32m   1139\u001b[39m model_fit_end = time.time()\n\u001b[32m   1140\u001b[39m model_fit_time = np.array(model_fit_end - model_fit_start).round(\u001b[32m2\u001b[39m)\n",
      "\u001b[36mFile \u001b[39m\u001b[32m~/miniforge3/envs/bioml/lib/python3.11/site-packages/sklearn/utils/_param_validation.py:213\u001b[39m, in \u001b[36mvalidate_params.<locals>.decorator.<locals>.wrapper\u001b[39m\u001b[34m(*args, **kwargs)\u001b[39m\n\u001b[32m    207\u001b[39m \u001b[38;5;28;01mtry\u001b[39;00m:\n\u001b[32m    208\u001b[39m     \u001b[38;5;28;01mwith\u001b[39;00m config_context(\n\u001b[32m    209\u001b[39m         skip_parameter_validation=(\n\u001b[32m    210\u001b[39m             prefer_skip_nested_validation \u001b[38;5;129;01mor\u001b[39;00m global_skip_validation\n\u001b[32m    211\u001b[39m         )\n\u001b[32m    212\u001b[39m     ):\n\u001b[32m--> \u001b[39m\u001b[32m213\u001b[39m         \u001b[38;5;28;01mreturn\u001b[39;00m \u001b[43mfunc\u001b[49m\u001b[43m(\u001b[49m\u001b[43m*\u001b[49m\u001b[43margs\u001b[49m\u001b[43m,\u001b[49m\u001b[43m \u001b[49m\u001b[43m*\u001b[49m\u001b[43m*\u001b[49m\u001b[43mkwargs\u001b[49m\u001b[43m)\u001b[49m\n\u001b[32m    214\u001b[39m \u001b[38;5;28;01mexcept\u001b[39;00m InvalidParameterError \u001b[38;5;28;01mas\u001b[39;00m e:\n\u001b[32m    215\u001b[39m     \u001b[38;5;66;03m# When the function is just a wrapper around an estimator, we allow\u001b[39;00m\n\u001b[32m    216\u001b[39m     \u001b[38;5;66;03m# the function to delegate validation to the estimator, but we replace\u001b[39;00m\n\u001b[32m    217\u001b[39m     \u001b[38;5;66;03m# the name of the estimator by the name of the function in the error\u001b[39;00m\n\u001b[32m    218\u001b[39m     \u001b[38;5;66;03m# message to avoid confusion.\u001b[39;00m\n\u001b[32m    219\u001b[39m     msg = re.sub(\n\u001b[32m    220\u001b[39m         \u001b[33mr\u001b[39m\u001b[33m\"\u001b[39m\u001b[33mparameter of \u001b[39m\u001b[33m\\\u001b[39m\u001b[33mw+ must be\u001b[39m\u001b[33m\"\u001b[39m,\n\u001b[32m    221\u001b[39m         \u001b[33mf\u001b[39m\u001b[33m\"\u001b[39m\u001b[33mparameter of \u001b[39m\u001b[38;5;132;01m{\u001b[39;00mfunc.\u001b[34m__qualname__\u001b[39m\u001b[38;5;132;01m}\u001b[39;00m\u001b[33m must be\u001b[39m\u001b[33m\"\u001b[39m,\n\u001b[32m    222\u001b[39m         \u001b[38;5;28mstr\u001b[39m(e),\n\u001b[32m    223\u001b[39m     )\n",
      "\u001b[36mFile \u001b[39m\u001b[32m~/miniforge3/envs/bioml/lib/python3.11/site-packages/sklearn/model_selection/_validation.py:430\u001b[39m, in \u001b[36mcross_validate\u001b[39m\u001b[34m(estimator, X, y, groups, scoring, cv, n_jobs, verbose, fit_params, params, pre_dispatch, return_train_score, return_estimator, return_indices, error_score)\u001b[39m\n\u001b[32m    427\u001b[39m \u001b[38;5;66;03m# We clone the estimator to make sure that all the folds are\u001b[39;00m\n\u001b[32m    428\u001b[39m \u001b[38;5;66;03m# independent, and that it is pickle-able.\u001b[39;00m\n\u001b[32m    429\u001b[39m parallel = Parallel(n_jobs=n_jobs, verbose=verbose, pre_dispatch=pre_dispatch)\n\u001b[32m--> \u001b[39m\u001b[32m430\u001b[39m results = \u001b[43mparallel\u001b[49m\u001b[43m(\u001b[49m\n\u001b[32m    431\u001b[39m \u001b[43m    \u001b[49m\u001b[43mdelayed\u001b[49m\u001b[43m(\u001b[49m\u001b[43m_fit_and_score\u001b[49m\u001b[43m)\u001b[49m\u001b[43m(\u001b[49m\n\u001b[32m    432\u001b[39m \u001b[43m        \u001b[49m\u001b[43mclone\u001b[49m\u001b[43m(\u001b[49m\u001b[43mestimator\u001b[49m\u001b[43m)\u001b[49m\u001b[43m,\u001b[49m\n\u001b[32m    433\u001b[39m \u001b[43m        \u001b[49m\u001b[43mX\u001b[49m\u001b[43m,\u001b[49m\n\u001b[32m    434\u001b[39m \u001b[43m        \u001b[49m\u001b[43my\u001b[49m\u001b[43m,\u001b[49m\n\u001b[32m    435\u001b[39m \u001b[43m        \u001b[49m\u001b[43mscorer\u001b[49m\u001b[43m=\u001b[49m\u001b[43mscorers\u001b[49m\u001b[43m,\u001b[49m\n\u001b[32m    436\u001b[39m \u001b[43m        \u001b[49m\u001b[43mtrain\u001b[49m\u001b[43m=\u001b[49m\u001b[43mtrain\u001b[49m\u001b[43m,\u001b[49m\n\u001b[32m    437\u001b[39m \u001b[43m        \u001b[49m\u001b[43mtest\u001b[49m\u001b[43m=\u001b[49m\u001b[43mtest\u001b[49m\u001b[43m,\u001b[49m\n\u001b[32m    438\u001b[39m \u001b[43m        \u001b[49m\u001b[43mverbose\u001b[49m\u001b[43m=\u001b[49m\u001b[43mverbose\u001b[49m\u001b[43m,\u001b[49m\n\u001b[32m    439\u001b[39m \u001b[43m        \u001b[49m\u001b[43mparameters\u001b[49m\u001b[43m=\u001b[49m\u001b[38;5;28;43;01mNone\u001b[39;49;00m\u001b[43m,\u001b[49m\n\u001b[32m    440\u001b[39m \u001b[43m        \u001b[49m\u001b[43mfit_params\u001b[49m\u001b[43m=\u001b[49m\u001b[43mrouted_params\u001b[49m\u001b[43m.\u001b[49m\u001b[43mestimator\u001b[49m\u001b[43m.\u001b[49m\u001b[43mfit\u001b[49m\u001b[43m,\u001b[49m\n\u001b[32m    441\u001b[39m \u001b[43m        \u001b[49m\u001b[43mscore_params\u001b[49m\u001b[43m=\u001b[49m\u001b[43mrouted_params\u001b[49m\u001b[43m.\u001b[49m\u001b[43mscorer\u001b[49m\u001b[43m.\u001b[49m\u001b[43mscore\u001b[49m\u001b[43m,\u001b[49m\n\u001b[32m    442\u001b[39m \u001b[43m        \u001b[49m\u001b[43mreturn_train_score\u001b[49m\u001b[43m=\u001b[49m\u001b[43mreturn_train_score\u001b[49m\u001b[43m,\u001b[49m\n\u001b[32m    443\u001b[39m \u001b[43m        \u001b[49m\u001b[43mreturn_times\u001b[49m\u001b[43m=\u001b[49m\u001b[38;5;28;43;01mTrue\u001b[39;49;00m\u001b[43m,\u001b[49m\n\u001b[32m    444\u001b[39m \u001b[43m        \u001b[49m\u001b[43mreturn_estimator\u001b[49m\u001b[43m=\u001b[49m\u001b[43mreturn_estimator\u001b[49m\u001b[43m,\u001b[49m\n\u001b[32m    445\u001b[39m \u001b[43m        \u001b[49m\u001b[43merror_score\u001b[49m\u001b[43m=\u001b[49m\u001b[43merror_score\u001b[49m\u001b[43m,\u001b[49m\n\u001b[32m    446\u001b[39m \u001b[43m    \u001b[49m\u001b[43m)\u001b[49m\n\u001b[32m    447\u001b[39m \u001b[43m    \u001b[49m\u001b[38;5;28;43;01mfor\u001b[39;49;00m\u001b[43m \u001b[49m\u001b[43mtrain\u001b[49m\u001b[43m,\u001b[49m\u001b[43m \u001b[49m\u001b[43mtest\u001b[49m\u001b[43m \u001b[49m\u001b[38;5;129;43;01min\u001b[39;49;00m\u001b[43m \u001b[49m\u001b[43mindices\u001b[49m\n\u001b[32m    448\u001b[39m \u001b[43m\u001b[49m\u001b[43m)\u001b[49m\n\u001b[32m    450\u001b[39m _warn_or_raise_about_fit_failures(results, error_score)\n\u001b[32m    452\u001b[39m \u001b[38;5;66;03m# For callable scoring, the return type is only know after calling. If the\u001b[39;00m\n\u001b[32m    453\u001b[39m \u001b[38;5;66;03m# return type is a dictionary, the error scores can now be inserted with\u001b[39;00m\n\u001b[32m    454\u001b[39m \u001b[38;5;66;03m# the correct key.\u001b[39;00m\n",
      "\u001b[36mFile \u001b[39m\u001b[32m~/miniforge3/envs/bioml/lib/python3.11/site-packages/sklearn/utils/parallel.py:67\u001b[39m, in \u001b[36mParallel.__call__\u001b[39m\u001b[34m(self, iterable)\u001b[39m\n\u001b[32m     62\u001b[39m config = get_config()\n\u001b[32m     63\u001b[39m iterable_with_config = (\n\u001b[32m     64\u001b[39m     (_with_config(delayed_func, config), args, kwargs)\n\u001b[32m     65\u001b[39m     \u001b[38;5;28;01mfor\u001b[39;00m delayed_func, args, kwargs \u001b[38;5;129;01min\u001b[39;00m iterable\n\u001b[32m     66\u001b[39m )\n\u001b[32m---> \u001b[39m\u001b[32m67\u001b[39m \u001b[38;5;28;01mreturn\u001b[39;00m \u001b[38;5;28;43msuper\u001b[39;49m\u001b[43m(\u001b[49m\u001b[43m)\u001b[49m\u001b[43m.\u001b[49m\u001b[34;43m__call__\u001b[39;49m\u001b[43m(\u001b[49m\u001b[43miterable_with_config\u001b[49m\u001b[43m)\u001b[49m\n",
      "\u001b[36mFile \u001b[39m\u001b[32m~/miniforge3/envs/bioml/lib/python3.11/site-packages/joblib/parallel.py:1952\u001b[39m, in \u001b[36mParallel.__call__\u001b[39m\u001b[34m(self, iterable)\u001b[39m\n\u001b[32m   1946\u001b[39m \u001b[38;5;66;03m# The first item from the output is blank, but it makes the interpreter\u001b[39;00m\n\u001b[32m   1947\u001b[39m \u001b[38;5;66;03m# progress until it enters the Try/Except block of the generator and\u001b[39;00m\n\u001b[32m   1948\u001b[39m \u001b[38;5;66;03m# reach the first `yield` statement. This starts the aynchronous\u001b[39;00m\n\u001b[32m   1949\u001b[39m \u001b[38;5;66;03m# dispatch of the tasks to the workers.\u001b[39;00m\n\u001b[32m   1950\u001b[39m \u001b[38;5;28mnext\u001b[39m(output)\n\u001b[32m-> \u001b[39m\u001b[32m1952\u001b[39m \u001b[38;5;28;01mreturn\u001b[39;00m output \u001b[38;5;28;01mif\u001b[39;00m \u001b[38;5;28mself\u001b[39m.return_generator \u001b[38;5;28;01melse\u001b[39;00m \u001b[38;5;28mlist\u001b[39m(output)\n",
      "\u001b[36mFile \u001b[39m\u001b[32m~/miniforge3/envs/bioml/lib/python3.11/site-packages/joblib/parallel.py:1595\u001b[39m, in \u001b[36mParallel._get_outputs\u001b[39m\u001b[34m(self, iterator, pre_dispatch)\u001b[39m\n\u001b[32m   1592\u001b[39m     \u001b[38;5;28;01myield\u001b[39;00m\n\u001b[32m   1594\u001b[39m     \u001b[38;5;28;01mwith\u001b[39;00m \u001b[38;5;28mself\u001b[39m._backend.retrieval_context():\n\u001b[32m-> \u001b[39m\u001b[32m1595\u001b[39m         \u001b[38;5;28;01myield from\u001b[39;00m \u001b[38;5;28mself\u001b[39m._retrieve()\n\u001b[32m   1597\u001b[39m \u001b[38;5;28;01mexcept\u001b[39;00m \u001b[38;5;167;01mGeneratorExit\u001b[39;00m:\n\u001b[32m   1598\u001b[39m     \u001b[38;5;66;03m# The generator has been garbage collected before being fully\u001b[39;00m\n\u001b[32m   1599\u001b[39m     \u001b[38;5;66;03m# consumed. This aborts the remaining tasks if possible and warn\u001b[39;00m\n\u001b[32m   1600\u001b[39m     \u001b[38;5;66;03m# the user if necessary.\u001b[39;00m\n\u001b[32m   1601\u001b[39m     \u001b[38;5;28mself\u001b[39m._exception = \u001b[38;5;28;01mTrue\u001b[39;00m\n",
      "\u001b[36mFile \u001b[39m\u001b[32m~/miniforge3/envs/bioml/lib/python3.11/site-packages/joblib/parallel.py:1707\u001b[39m, in \u001b[36mParallel._retrieve\u001b[39m\u001b[34m(self)\u001b[39m\n\u001b[32m   1702\u001b[39m \u001b[38;5;66;03m# If the next job is not ready for retrieval yet, we just wait for\u001b[39;00m\n\u001b[32m   1703\u001b[39m \u001b[38;5;66;03m# async callbacks to progress.\u001b[39;00m\n\u001b[32m   1704\u001b[39m \u001b[38;5;28;01mif\u001b[39;00m ((\u001b[38;5;28mlen\u001b[39m(\u001b[38;5;28mself\u001b[39m._jobs) == \u001b[32m0\u001b[39m) \u001b[38;5;129;01mor\u001b[39;00m\n\u001b[32m   1705\u001b[39m     (\u001b[38;5;28mself\u001b[39m._jobs[\u001b[32m0\u001b[39m].get_status(\n\u001b[32m   1706\u001b[39m         timeout=\u001b[38;5;28mself\u001b[39m.timeout) == TASK_PENDING)):\n\u001b[32m-> \u001b[39m\u001b[32m1707\u001b[39m     time.sleep(\u001b[32m0.01\u001b[39m)\n\u001b[32m   1708\u001b[39m     \u001b[38;5;28;01mcontinue\u001b[39;00m\n\u001b[32m   1710\u001b[39m \u001b[38;5;66;03m# We need to be careful: the job list can be filling up as\u001b[39;00m\n\u001b[32m   1711\u001b[39m \u001b[38;5;66;03m# we empty it and Python list are not thread-safe by\u001b[39;00m\n\u001b[32m   1712\u001b[39m \u001b[38;5;66;03m# default hence the use of the lock\u001b[39;00m\n",
      "\u001b[31mKeyboardInterrupt\u001b[39m: "
     ]
    }
   ],
   "source": [
    "generator = iterate_excel(\"classification_results/filtered_features.xlsx\", parser=DataParser, \n",
    "                          label=\"../data/esterase_labels.csv\", outliers=())\n",
    "\n",
    "split = ClusterSpliter(\"cluster.tsv\", num_splits=5, random_state=100, stratified=True)\n",
    "training.iterate_multiple_features(generator, training_output=\"classification_results\", split_strategy=split)"
   ]
  },
  {
   "cell_type": "markdown",
   "metadata": {},
   "source": [
    "# 5. Model Training: Classification"
   ]
  },
  {
   "cell_type": "markdown",
   "metadata": {},
   "source": [
    "Now that you know which feature set is the best -> you train, tune and ensemble models using only that specific sheet"
   ]
  },
  {
   "cell_type": "code",
   "execution_count": 20,
   "metadata": {},
   "outputs": [],
   "source": [
    "from BioML.models.classification import Classifier\n",
    "from BioML.models.regression import Regressor\n",
    "from BioML.models.base import PycaretInterface, Trainer, DataParser\n",
    "from collections import defaultdict\n",
    "from functools import partial\n",
    "import pandas as pd\n",
    "import numpy as np\n",
    "from BioML.utilities.utils import write_results\n",
    "from sklearn.linear_model import PassiveAggressiveClassifier\n",
    "from BioML.utilities.split_methods import ClusterSpliter"
   ]
  },
  {
   "cell_type": "code",
   "execution_count": 23,
   "metadata": {},
   "outputs": [
    {
     "data": {
      "text/html": [
       "<div>\n",
       "<style scoped>\n",
       "    .dataframe tbody tr th:only-of-type {\n",
       "        vertical-align: middle;\n",
       "    }\n",
       "\n",
       "    .dataframe tbody tr th {\n",
       "        vertical-align: top;\n",
       "    }\n",
       "\n",
       "    .dataframe thead th {\n",
       "        text-align: right;\n",
       "    }\n",
       "</style>\n",
       "<table border=\"1\" class=\"dataframe\">\n",
       "  <thead>\n",
       "    <tr style=\"text-align: right;\">\n",
       "      <th></th>\n",
       "      <th></th>\n",
       "      <th></th>\n",
       "      <th>Recall</th>\n",
       "      <th>Prec.</th>\n",
       "      <th>F1</th>\n",
       "      <th>Kappa</th>\n",
       "      <th>MCC</th>\n",
       "      <th>Average Precision Score</th>\n",
       "    </tr>\n",
       "    <tr>\n",
       "      <th></th>\n",
       "      <th>Accuracy</th>\n",
       "      <th>AUC</th>\n",
       "      <th></th>\n",
       "      <th></th>\n",
       "      <th></th>\n",
       "      <th></th>\n",
       "      <th></th>\n",
       "      <th></th>\n",
       "    </tr>\n",
       "  </thead>\n",
       "  <tbody>\n",
       "    <tr>\n",
       "      <th>lr_Logistic Regression</th>\n",
       "      <th>0.8333</th>\n",
       "      <th>0.8054</th>\n",
       "      <td>0.6923</td>\n",
       "      <td>0.9000</td>\n",
       "      <td>0.7826</td>\n",
       "      <td>0.6512</td>\n",
       "      <td>0.6659</td>\n",
       "      <td>0.7355</td>\n",
       "    </tr>\n",
       "    <tr>\n",
       "      <th>Voting Classifier</th>\n",
       "      <th>0.8333</th>\n",
       "      <th>0.8167</th>\n",
       "      <td>0.6923</td>\n",
       "      <td>0.9000</td>\n",
       "      <td>0.7826</td>\n",
       "      <td>0.6512</td>\n",
       "      <td>0.6659</td>\n",
       "      <td>0.7564</td>\n",
       "    </tr>\n",
       "    <tr>\n",
       "      <th>PassiveAggressiveClassifier_PassiveAggressiveClassifier</th>\n",
       "      <th>0.6667</th>\n",
       "      <th>0.6335</th>\n",
       "      <td>0.3846</td>\n",
       "      <td>0.7143</td>\n",
       "      <td>0.5000</td>\n",
       "      <td>0.2823</td>\n",
       "      <td>0.3128</td>\n",
       "      <td>0.5414</td>\n",
       "    </tr>\n",
       "    <tr>\n",
       "      <th>Stacking Classifier</th>\n",
       "      <th>0.6000</th>\n",
       "      <th>0.7964</th>\n",
       "      <td>0.1538</td>\n",
       "      <td>0.6667</td>\n",
       "      <td>0.2500</td>\n",
       "      <td>0.1045</td>\n",
       "      <td>0.1570</td>\n",
       "      <td>0.7232</td>\n",
       "    </tr>\n",
       "    <tr>\n",
       "      <th>nb_Naive Bayes</th>\n",
       "      <th>0.5333</th>\n",
       "      <th>0.6109</th>\n",
       "      <td>0.0000</td>\n",
       "      <td>0.0000</td>\n",
       "      <td>0.0000</td>\n",
       "      <td>-0.0660</td>\n",
       "      <td>-0.1624</td>\n",
       "      <td>0.4872</td>\n",
       "    </tr>\n",
       "  </tbody>\n",
       "</table>\n",
       "</div>"
      ],
      "text/plain": [
       "                                                                    Recall  \\\n",
       "                                                   Accuracy AUC              \n",
       "lr_Logistic Regression                             0.8333   0.8054  0.6923   \n",
       "Voting Classifier                                  0.8333   0.8167  0.6923   \n",
       "PassiveAggressiveClassifier_PassiveAggressiveCl... 0.6667   0.6335  0.3846   \n",
       "Stacking Classifier                                0.6000   0.7964  0.1538   \n",
       "nb_Naive Bayes                                     0.5333   0.6109  0.0000   \n",
       "\n",
       "                                                                     Prec.  \\\n",
       "                                                   Accuracy AUC              \n",
       "lr_Logistic Regression                             0.8333   0.8054  0.9000   \n",
       "Voting Classifier                                  0.8333   0.8167  0.9000   \n",
       "PassiveAggressiveClassifier_PassiveAggressiveCl... 0.6667   0.6335  0.7143   \n",
       "Stacking Classifier                                0.6000   0.7964  0.6667   \n",
       "nb_Naive Bayes                                     0.5333   0.6109  0.0000   \n",
       "\n",
       "                                                                        F1  \\\n",
       "                                                   Accuracy AUC              \n",
       "lr_Logistic Regression                             0.8333   0.8054  0.7826   \n",
       "Voting Classifier                                  0.8333   0.8167  0.7826   \n",
       "PassiveAggressiveClassifier_PassiveAggressiveCl... 0.6667   0.6335  0.5000   \n",
       "Stacking Classifier                                0.6000   0.7964  0.2500   \n",
       "nb_Naive Bayes                                     0.5333   0.6109  0.0000   \n",
       "\n",
       "                                                                     Kappa  \\\n",
       "                                                   Accuracy AUC              \n",
       "lr_Logistic Regression                             0.8333   0.8054  0.6512   \n",
       "Voting Classifier                                  0.8333   0.8167  0.6512   \n",
       "PassiveAggressiveClassifier_PassiveAggressiveCl... 0.6667   0.6335  0.2823   \n",
       "Stacking Classifier                                0.6000   0.7964  0.1045   \n",
       "nb_Naive Bayes                                     0.5333   0.6109 -0.0660   \n",
       "\n",
       "                                                                       MCC  \\\n",
       "                                                   Accuracy AUC              \n",
       "lr_Logistic Regression                             0.8333   0.8054  0.6659   \n",
       "Voting Classifier                                  0.8333   0.8167  0.6659   \n",
       "PassiveAggressiveClassifier_PassiveAggressiveCl... 0.6667   0.6335  0.3128   \n",
       "Stacking Classifier                                0.6000   0.7964  0.1570   \n",
       "nb_Naive Bayes                                     0.5333   0.6109 -0.1624   \n",
       "\n",
       "                                                                    Average Precision Score  \n",
       "                                                   Accuracy AUC                              \n",
       "lr_Logistic Regression                             0.8333   0.8054                   0.7355  \n",
       "Voting Classifier                                  0.8333   0.8167                   0.7564  \n",
       "PassiveAggressiveClassifier_PassiveAggressiveCl... 0.6667   0.6335                   0.5414  \n",
       "Stacking Classifier                                0.6000   0.7964                   0.7232  \n",
       "nb_Naive Bayes                                     0.5333   0.6109                   0.4872  "
      ]
     },
     "execution_count": 23,
     "metadata": {},
     "output_type": "execute_result"
    }
   ],
   "source": [
    "pd.read_excel(\"/home/ruite/Projects/BioML/examples/classification_results/not_tuned/training_results.xlsx\", sheet_name=[\"train\", \"test_results\"], index_col=[0,1,2])[\"test_results\"].head(20)"
   ]
  },
  {
   "cell_type": "markdown",
   "metadata": {},
   "source": [
    "### We first read the data and create train and test set based on the sequence identity threshold\n",
    "The DataParser returns a dataframe with the labels as a column in the same dataframe, which is why we don't need the y_train and the y_test.\n",
    "This is how Pycaret likes it (the library used by BioML to train machine learning models) \n",
    "\n",
    "Here I'm only using one of the sheets for this example, but we don't know which of the sheets would perform better so we might need to iterate through the sheets, train the models and collect the performance for each sheet."
   ]
  },
  {
   "cell_type": "code",
   "execution_count": 4,
   "metadata": {},
   "outputs": [],
   "source": [
    "data = DataParser(\"classification_results/filtered_features.xlsx\", \"../data/esterase_labels.csv\", sheets=\"chi2_60\")\n",
    "data = DataParser(\"../data/esterase_features.xlsx\", \"../data/esterase_labels.csv\", sheets=\"ch2_20\")\n",
    "split = ClusterSpliter(\"cluster.tsv\", num_splits=5, random_state=100, stratified=True)\n",
    "X_train, X_test, _, _ = split.train_test_split(data.features, data.features[data.label])"
   ]
  },
  {
   "cell_type": "code",
   "execution_count": 5,
   "metadata": {},
   "outputs": [
    {
     "data": {
      "text/html": [
       "<div>\n",
       "<style scoped>\n",
       "    .dataframe tbody tr th:only-of-type {\n",
       "        vertical-align: middle;\n",
       "    }\n",
       "\n",
       "    .dataframe tbody tr th {\n",
       "        vertical-align: top;\n",
       "    }\n",
       "\n",
       "    .dataframe thead th {\n",
       "        text-align: right;\n",
       "    }\n",
       "</style>\n",
       "<table border=\"1\" class=\"dataframe\">\n",
       "  <thead>\n",
       "    <tr style=\"text-align: right;\">\n",
       "      <th></th>\n",
       "      <th>hydrophobicity_FASG890101.2.residue25</th>\n",
       "      <th>alphaticr.negativecharger.gap5</th>\n",
       "      <th>BHAR880101.lag9_moran</th>\n",
       "      <th>tri_gram_pssm7077</th>\n",
       "      <th>tri_gram_pssm286</th>\n",
       "      <th>tri_gram_pssm466</th>\n",
       "      <th>tri_gram_pssm3493</th>\n",
       "      <th>tri_gram_pssm1298</th>\n",
       "      <th>tri_gram_pssm5728</th>\n",
       "      <th>tri_gram_pssm7468</th>\n",
       "      <th>tri_gram_pssm1297</th>\n",
       "      <th>tri_gram_pssm4023</th>\n",
       "      <th>tri_gram_pssm3159</th>\n",
       "      <th>tri_gram_pssm7678</th>\n",
       "      <th>tri_gram_pssm7234</th>\n",
       "      <th>tri_gram_pssm5801</th>\n",
       "      <th>tri_gram_pssm5367</th>\n",
       "      <th>tri_gram_pssm7177</th>\n",
       "      <th>target</th>\n",
       "    </tr>\n",
       "  </thead>\n",
       "  <tbody>\n",
       "    <tr>\n",
       "      <th>EH111(8)</th>\n",
       "      <td>19.762846</td>\n",
       "      <td>0.040486</td>\n",
       "      <td>0.084414</td>\n",
       "      <td>0.002188</td>\n",
       "      <td>0.051697</td>\n",
       "      <td>0.048276</td>\n",
       "      <td>0.016844</td>\n",
       "      <td>0.004625</td>\n",
       "      <td>0.018720</td>\n",
       "      <td>0.010066</td>\n",
       "      <td>0.001115</td>\n",
       "      <td>0.088146</td>\n",
       "      <td>0.019392</td>\n",
       "      <td>0.030169</td>\n",
       "      <td>0.035476</td>\n",
       "      <td>0.080685</td>\n",
       "      <td>0.070774</td>\n",
       "      <td>0.001775</td>\n",
       "      <td>0</td>\n",
       "    </tr>\n",
       "    <tr>\n",
       "      <th>EH15(42)</th>\n",
       "      <td>26.279863</td>\n",
       "      <td>0.052265</td>\n",
       "      <td>-0.051729</td>\n",
       "      <td>0.010338</td>\n",
       "      <td>0.573238</td>\n",
       "      <td>0.169123</td>\n",
       "      <td>0.121183</td>\n",
       "      <td>0.019340</td>\n",
       "      <td>0.333862</td>\n",
       "      <td>0.171416</td>\n",
       "      <td>0.006026</td>\n",
       "      <td>0.451274</td>\n",
       "      <td>0.081755</td>\n",
       "      <td>0.229442</td>\n",
       "      <td>0.082068</td>\n",
       "      <td>0.262047</td>\n",
       "      <td>0.289476</td>\n",
       "      <td>0.006036</td>\n",
       "      <td>1</td>\n",
       "    </tr>\n",
       "    <tr>\n",
       "      <th>EH117(6)</th>\n",
       "      <td>25.267666</td>\n",
       "      <td>0.036876</td>\n",
       "      <td>-0.027442</td>\n",
       "      <td>0.007047</td>\n",
       "      <td>0.075657</td>\n",
       "      <td>0.082276</td>\n",
       "      <td>0.037046</td>\n",
       "      <td>0.010299</td>\n",
       "      <td>0.030363</td>\n",
       "      <td>0.023863</td>\n",
       "      <td>0.003769</td>\n",
       "      <td>0.188441</td>\n",
       "      <td>0.026338</td>\n",
       "      <td>0.058306</td>\n",
       "      <td>0.080121</td>\n",
       "      <td>0.122729</td>\n",
       "      <td>0.022790</td>\n",
       "      <td>0.009361</td>\n",
       "      <td>0</td>\n",
       "    </tr>\n",
       "    <tr>\n",
       "      <th>EH11(53)</th>\n",
       "      <td>19.032258</td>\n",
       "      <td>0.032895</td>\n",
       "      <td>0.042455</td>\n",
       "      <td>0.065163</td>\n",
       "      <td>0.875810</td>\n",
       "      <td>0.447033</td>\n",
       "      <td>0.195845</td>\n",
       "      <td>0.096829</td>\n",
       "      <td>0.513410</td>\n",
       "      <td>0.182430</td>\n",
       "      <td>0.031378</td>\n",
       "      <td>0.635770</td>\n",
       "      <td>0.265902</td>\n",
       "      <td>0.460689</td>\n",
       "      <td>0.281517</td>\n",
       "      <td>0.613932</td>\n",
       "      <td>0.404746</td>\n",
       "      <td>0.028915</td>\n",
       "      <td>1</td>\n",
       "    </tr>\n",
       "    <tr>\n",
       "      <th>EH135(2)</th>\n",
       "      <td>24.555160</td>\n",
       "      <td>0.047273</td>\n",
       "      <td>0.035283</td>\n",
       "      <td>0.004763</td>\n",
       "      <td>0.053927</td>\n",
       "      <td>0.031520</td>\n",
       "      <td>0.007024</td>\n",
       "      <td>0.005613</td>\n",
       "      <td>0.022906</td>\n",
       "      <td>0.011953</td>\n",
       "      <td>0.005436</td>\n",
       "      <td>0.069167</td>\n",
       "      <td>0.018054</td>\n",
       "      <td>0.040943</td>\n",
       "      <td>0.023389</td>\n",
       "      <td>0.035671</td>\n",
       "      <td>0.049431</td>\n",
       "      <td>0.004665</td>\n",
       "      <td>0</td>\n",
       "    </tr>\n",
       "  </tbody>\n",
       "</table>\n",
       "</div>"
      ],
      "text/plain": [
       "          hydrophobicity_FASG890101.2.residue25  \\\n",
       "EH111(8)                              19.762846   \n",
       "EH15(42)                              26.279863   \n",
       "EH117(6)                              25.267666   \n",
       "EH11(53)                              19.032258   \n",
       "EH135(2)                              24.555160   \n",
       "\n",
       "          alphaticr.negativecharger.gap5  BHAR880101.lag9_moran  \\\n",
       "EH111(8)                        0.040486               0.084414   \n",
       "EH15(42)                        0.052265              -0.051729   \n",
       "EH117(6)                        0.036876              -0.027442   \n",
       "EH11(53)                        0.032895               0.042455   \n",
       "EH135(2)                        0.047273               0.035283   \n",
       "\n",
       "          tri_gram_pssm7077  tri_gram_pssm286  tri_gram_pssm466  \\\n",
       "EH111(8)           0.002188          0.051697          0.048276   \n",
       "EH15(42)           0.010338          0.573238          0.169123   \n",
       "EH117(6)           0.007047          0.075657          0.082276   \n",
       "EH11(53)           0.065163          0.875810          0.447033   \n",
       "EH135(2)           0.004763          0.053927          0.031520   \n",
       "\n",
       "          tri_gram_pssm3493  tri_gram_pssm1298  tri_gram_pssm5728  \\\n",
       "EH111(8)           0.016844           0.004625           0.018720   \n",
       "EH15(42)           0.121183           0.019340           0.333862   \n",
       "EH117(6)           0.037046           0.010299           0.030363   \n",
       "EH11(53)           0.195845           0.096829           0.513410   \n",
       "EH135(2)           0.007024           0.005613           0.022906   \n",
       "\n",
       "          tri_gram_pssm7468  tri_gram_pssm1297  tri_gram_pssm4023  \\\n",
       "EH111(8)           0.010066           0.001115           0.088146   \n",
       "EH15(42)           0.171416           0.006026           0.451274   \n",
       "EH117(6)           0.023863           0.003769           0.188441   \n",
       "EH11(53)           0.182430           0.031378           0.635770   \n",
       "EH135(2)           0.011953           0.005436           0.069167   \n",
       "\n",
       "          tri_gram_pssm3159  tri_gram_pssm7678  tri_gram_pssm7234  \\\n",
       "EH111(8)           0.019392           0.030169           0.035476   \n",
       "EH15(42)           0.081755           0.229442           0.082068   \n",
       "EH117(6)           0.026338           0.058306           0.080121   \n",
       "EH11(53)           0.265902           0.460689           0.281517   \n",
       "EH135(2)           0.018054           0.040943           0.023389   \n",
       "\n",
       "          tri_gram_pssm5801  tri_gram_pssm5367  tri_gram_pssm7177  target  \n",
       "EH111(8)           0.080685           0.070774           0.001775       0  \n",
       "EH15(42)           0.262047           0.289476           0.006036       1  \n",
       "EH117(6)           0.122729           0.022790           0.009361       0  \n",
       "EH11(53)           0.613932           0.404746           0.028915       1  \n",
       "EH135(2)           0.035671           0.049431           0.004665       0  "
      ]
     },
     "execution_count": 5,
     "metadata": {},
     "output_type": "execute_result"
    }
   ],
   "source": [
    "X_train.head()"
   ]
  },
  {
   "cell_type": "markdown",
   "metadata": {},
   "source": [
    "There are 3 classes important for training machine learning models in BioML. \n",
    "\n",
    "1. The pycaretInterface which provides a thin layer between pycaret and BioML.\n",
    "2. Classifer or Regressor clases which has the training arguments\n",
    "3. Then the Trainer class that takes both classes to perform classification or regression task.\n",
    "\n",
    "This modularity is similar to other machine learning framewoeks like pytorch-lightning and Hugging Face\n",
    "\n",
    "I recommend learning more about pycaret since it does many things: https://pycaret.readthedocs.io/en/latest/"
   ]
  },
  {
   "cell_type": "markdown",
   "metadata": {},
   "source": [
    "Currently there are 19 supported models, but you can supply your custom models as well as long as it is compatible with the scikit learn API. A fit and a predict or predict_proba methods "
   ]
  },
  {
   "cell_type": "code",
   "execution_count": 5,
   "metadata": {},
   "outputs": [],
   "source": [
    "problem = \"classification\"\n",
    "passive = PassiveAggressiveClassifier()"
   ]
  },
  {
   "cell_type": "markdown",
   "metadata": {},
   "source": [
    "The PycaretInterface class takes the following arguments\n",
    "\n",
    "* problem (str): classification or regression\n",
    "* seed (int): random seed\n",
    "* budget_time (int): time budget\n",
    "* best_model (int): How many models to select for tuning and ensembling\n",
    "* output_path (str): path to the output folder where the plots are saved\n",
    "* optimize (str): optimization metric for tune model, ensembling and satcking -> it doesnt affect the training\n",
    "\n",
    "The Trainer class takes the following arguments:\n",
    "\n",
    "* caret_interface (PycaretInterface): an instance of the PycaretInterface class\n",
    "* args (Classifier or Regressor): an instance of the Classifier or Regressor class\n",
    "* num_splits (int): number of splits\n",
    "* test_size (float): test size\n",
    "* num_iter (int): number of iterations\n",
    "* cross_validation (bool): cross validation\n",
    "\n",
    "The Classifier and Regressor classes take the following arguments:\n",
    "\n",
    "* drop (list): list of models to drop\n",
    "* selected (list): list of models to select\n",
    "* add (list): list of models to add\n",
    "* plot (list): list of plots to plot\n",
    "* optimize (str): optimization metric for sorting the model results, so the best models according to the optimize are at the top\n"
   ]
  },
  {
   "cell_type": "code",
   "execution_count": 8,
   "metadata": {},
   "outputs": [
    {
     "name": "stderr",
     "output_type": "stream",
     "text": [
      "04-04-2025 09:02:58 INFO ------------------------------------------------------------------------------\n",
      "04-04-2025 09:02:58 INFO PycaretInterface parameters\n",
      "04-04-2025 09:02:58 INFO Seed: 250\n",
      "04-04-2025 09:02:58 INFO Budget time: 20\n",
      "04-04-2025 09:02:58 INFO The number of models to select: 3\n",
      "04-04-2025 09:02:58 INFO Output path: classification_results\n",
      "04-04-2025 09:02:58 INFO ----------------Trainer inputs-------------------------\n",
      "04-04-2025 09:02:58 INFO Number of kfolds: 5\n",
      "04-04-2025 09:02:58 INFO Number of retuning iterations: 50\n",
      "04-04-2025 09:02:58 INFO Test size: 0.2\n"
     ]
    }
   ],
   "source": [
    "if problem == \"classification\":\n",
    "    args = Classifier(optimize=\"MCC\", drop=(), selected=(), add=(passive), plot=(\"learning\", \"confusion_matrix\", \"class_report\"))\n",
    "elif problem == \"regression\":\n",
    "    args = Regressor(optimize=\"RMSE\", drop=(), selected=(), add=(), plot=(\"learning\", \"residuals\", \"error\"))\n",
    "    \n",
    "experiment = PycaretInterface(problem, 250, budget_time=20, best_model=3, \n",
    "                                  output_path=\"classification_results\", optimize=\"MCC\", log_experiment=False)\n",
    "training = Trainer(experiment, args, num_splits=5, test_size=0.2,  num_iter=50, cross_validation=True)"
   ]
  },
  {
   "cell_type": "markdown",
   "metadata": {},
   "source": [
    "The arguments for generate_training_results are:\n",
    "\n",
    "* X_train (pd.DataFrame): training data\n",
    "* y_train (str): the name of the label column, since Pycaret needs the dataframe to have the labels and the features together in the X_train\n",
    "* X_test (pd.DataFrame): test data, it is a keyword argument (so you need to specify test_data=X_test,)\n",
    "* tune (bool): whether to tune the models\n",
    "* fold_strategy (ClusterSpliter): an instance of the ClusterSpliter class which has the cluster information\n",
    "\n",
    "The output: \n",
    "* results dict[str, dict[str, pd.DataFrame]] (returned): The dataframe has the different performance metric liek acc, precision, recall, etc\n",
    "* The models dict[str, dict[str, Any]] (returned): All the train models, 19 classifiers or 23 regressors\n",
    "* model_plots (saved): The plots of the best models saved in the output_path argument in PycaretInterface\n",
    "* config_setup_pycaret.csv (saved): The config file with the settings used by PycaretInterface"
   ]
  },
  {
   "cell_type": "code",
   "execution_count": 9,
   "metadata": {},
   "outputs": [
    {
     "name": "stderr",
     "output_type": "stream",
     "text": [
      "04-04-2025 09:03:01 INFO Added metrics for classification: Average precision\n",
      "04-04-2025 09:03:01 INFO --------------------------------------------------------\n",
      "04-04-2025 09:03:01 INFO Training classification models\n",
      "04-04-2025 09:03:01 INFO The models used ['lr', 'knn', 'nb', 'dt', 'svm', 'rbfsvm', 'gpc', 'mlp', 'ridge', 'rf', 'qda', 'ada', 'gbc', 'lda', 'et', 'xgboost', 'lightgbm', 'catboost', 'dummy', PassiveAggressiveClassifier(C=1.0, average=False, class_weight=None,\n",
      "                            early_stopping=False, fit_intercept=True,\n",
      "                            loss='hinge', max_iter=1000, n_iter_no_change=5,\n",
      "                            n_jobs=None, random_state=None, shuffle=True,\n",
      "                            tol=0.001, validation_fraction=0.1, verbose=0,\n",
      "                            warm_start=False)]\n",
      "04-04-2025 09:03:01 INFO The number of models used 20\n",
      "04-04-2025 09:03:01 INFO Time budget is 20 minutes\n",
      "04-04-2025 09:03:04 INFO Model lr trained in 0.047 minutes\n",
      "04-04-2025 09:03:06 INFO Model knn trained in 0.034 minutes\n",
      "04-04-2025 09:03:06 INFO Model nb trained in 0.009 minutes\n",
      "04-04-2025 09:03:07 INFO Model dt trained in 0.009 minutes\n",
      "04-04-2025 09:03:07 INFO Model svm trained in 0.009 minutes\n",
      "04-04-2025 09:03:08 INFO Model rbfsvm trained in 0.009 minutes\n",
      "04-04-2025 09:03:09 INFO Model gpc trained in 0.021 minutes\n",
      "04-04-2025 09:03:10 INFO Model mlp trained in 0.022 minutes\n",
      "04-04-2025 09:03:11 INFO Model ridge trained in 0.009 minutes\n",
      "04-04-2025 09:03:12 INFO Model rf trained in 0.016 minutes\n",
      "04-04-2025 09:03:12 INFO Model qda trained in 0.009 minutes\n",
      "04-04-2025 09:03:13 INFO Model ada trained in 0.012 minutes\n",
      "04-04-2025 09:03:14 INFO Model gbc trained in 0.013 minutes\n",
      "04-04-2025 09:03:14 INFO Model lda trained in 0.009 minutes\n",
      "04-04-2025 09:03:15 INFO Model et trained in 0.014 minutes\n",
      "04-04-2025 09:03:16 INFO Model xgboost trained in 0.012 minutes\n",
      "04-04-2025 09:04:12 INFO Model lightgbm trained in 0.941 minutes\n",
      "04-04-2025 09:04:18 INFO Model catboost trained in 0.098 minutes\n",
      "04-04-2025 09:04:19 INFO Model dummy trained in 0.009 minutes\n",
      "04-04-2025 09:04:19 INFO Model PassiveAggressiveClassifier trained in 0.009 minutes\n",
      "04-04-2025 09:04:19 INFO Training over: Total runtime 1.313 minutes\n",
      "04-04-2025 09:04:19 INFO Analyse the best models and plotting them\n",
      "04-04-2025 09:04:19 INFO Analyse the top 1 model: nb\n",
      "04-04-2025 09:04:21 INFO Analyse the top 2 model: lr\n",
      "04-04-2025 09:04:23 INFO Analyse the top 3 model: PassiveAggressiveClassifier\n",
      "04-04-2025 09:04:24 INFO --------Stacking the best models--------\n",
      "04-04-2025 09:04:24 INFO ----------Stacking the best models--------------\n",
      "04-04-2025 09:04:25 INFO --------Creating an ensemble model--------\n",
      "04-04-2025 09:04:25 INFO ----------Creating a majority voting model--------------\n",
      "04-04-2025 09:04:25 INFO fold: 5\n",
      "04-04-2025 09:04:25 INFO weights: None\n",
      "04-04-2025 09:04:26 INFO --------Retuning the best models--------\n",
      "04-04-2025 09:04:26 INFO Retuning nb\n",
      "04-04-2025 09:04:26 INFO Retuning lr\n",
      "04-04-2025 09:04:26 INFO ---------Retuning the best models--------------\n",
      "04-04-2025 09:04:26 INFO num_iter: 50\n",
      "04-04-2025 09:04:26 INFO fold: 5\n",
      "04-04-2025 09:04:37 INFO Retuning PassiveAggressiveClassifier\n",
      "04-04-2025 09:04:37 INFO --------Stacking the best models--------\n",
      "04-04-2025 09:04:37 INFO ----------Stacking the best models--------------\n",
      "04-04-2025 09:04:38 INFO --------Creating an ensemble model--------\n",
      "04-04-2025 09:04:38 INFO ----------Creating a majority voting model--------------\n",
      "04-04-2025 09:04:38 INFO fold: 5\n",
      "04-04-2025 09:04:38 INFO weights: None\n",
      "04-04-2025 09:04:39 INFO Analyse the best models and plotting them\n",
      "04-04-2025 09:04:39 INFO Analyse the top 1 model: nb\n",
      "04-04-2025 09:04:40 INFO Analyse the top 2 model: lr\n",
      "04-04-2025 09:04:42 INFO Analyse the top 3 model: PassiveAggressiveClassifier\n"
     ]
    }
   ],
   "source": [
    "results, models = training.generate_training_results(X_train, data.label, tune=True, test_data=X_test, fold_strategy=split)"
   ]
  },
  {
   "cell_type": "markdown",
   "metadata": {},
   "source": [
    "Pycaret also generates different plots for the models it trains, like learning curves, validation curves, Precision Recall Curve, AUC etc: \n",
    "You can add more plots by modifying the plots argument in the classifier or regressor class\n",
    "\n",
    "You can see the full list of plots here: https://pycaret.readthedocs.io/en/stable/api/classification.html#pycaret.classification.plot_model\n",
    "\n",
    "Let's explain the 3 plots that I included by default for the classification: (\"learning\", \"confusion_matrix\", \"class_report\")\n",
    "For regression these are the 3 plots: (\"residuals\", \"error\", \"learning\")\n",
    "Here is an example learning curve plot.\n",
    "\n",
    "You can access directly the pycaret class and play with it like this"
   ]
  },
  {
   "cell_type": "code",
   "execution_count": 10,
   "metadata": {},
   "outputs": [
    {
     "data": {
      "text/html": [],
      "text/plain": [
       "<IPython.core.display.HTML object>"
      ]
     },
     "metadata": {},
     "output_type": "display_data"
    },
    {
     "data": {
      "image/png": "[encoded data removed]",
      "text/plain": [
       "<Figure size 800x550 with 1 Axes>"
      ]
     },
     "metadata": {},
     "output_type": "display_data"
    }
   ],
   "source": [
    "experiment.pycaret.plot_model(models[\"not_tuned\"][\"train\"][\"rbfsvm\"], \"learning\")"
   ]
  },
  {
   "cell_type": "markdown",
   "metadata": {},
   "source": [
    "Then if we want we can generate the predictions for the test or holdout set by providing with the trained models and finally \n",
    "we save both the training and the test set results\n",
    "\n",
    "Looking at the results we can find out which models have performed well and see how we could combine them. Currently it combines automatically teh best 3 but that might not be the best approach."
   ]
  },
  {
   "cell_type": "markdown",
   "metadata": {},
   "source": [
    "The argument is :\n",
    "* the models dict[str, dict[str, Any]]: The trained models\n",
    "\n",
    "The output is:\n",
    "\n",
    "* test_set_predictions (returned -> dict[str, pd.DataFrame]): The test set predictions"
   ]
  },
  {
   "cell_type": "code",
   "execution_count": 11,
   "metadata": {},
   "outputs": [],
   "source": [
    "test_set_predictions = training.generate_holdout_prediction(models)"
   ]
  },
  {
   "cell_type": "markdown",
   "metadata": {},
   "source": [
    "The write_results argumets:\n",
    "* training_output (str): the path to the training output\n",
    "* sheet_name (str): the name of the sheet\n",
    "* sorted_results (pd.DataFrame): the sorted results\n",
    "* top_params (pd.Series, optional): the hyperparameters of the best models\n",
    "\n",
    "The output:\n",
    "* \"training_output / training_results.xlsx\" (saved)\n",
    "* \"training_output / top_hyperparameters.xlsx\" (saved)"
   ]
  },
  {
   "cell_type": "code",
   "execution_count": 12,
   "metadata": {},
   "outputs": [],
   "source": [
    "training_output = \"classification_results\"\n",
    "l = []\n",
    "for tune_status, result_dict in results.items():\n",
    "    for key, value in result_dict.items():\n",
    "        write_results(f\"{training_output}/{tune_status}\", *value, sheet_name=key)\n",
    "    write_results(f\"{training_output}/{tune_status}\", test_set_predictions[tune_status] , sheet_name=f\"test_results\")"
   ]
  },
  {
   "cell_type": "markdown",
   "metadata": {},
   "source": [
    "## 5.2 Save Model from pre-trained"
   ]
  },
  {
   "cell_type": "markdown",
   "metadata": {},
   "source": [
    "If you noticed, the previous step doesn't save any model only the training results. That is because both are separate blocks, and you need to use save_model to save them.\n",
    "\n",
    "To save the models you can train the model with all the data or save the model trained only with the training data"
   ]
  },
  {
   "cell_type": "code",
   "execution_count": 45,
   "metadata": {},
   "outputs": [
    {
     "data": {
      "text/plain": [
       "{'qda': QuadraticDiscriminantAnalysis(priors=None, reg_param=0.8258792813861613,\n",
       "                               store_covariance=False, tol=0.0001),\n",
       " 'knn': KNeighborsClassifier(algorithm='auto', leaf_size=30, metric='euclidean',\n",
       "                      metric_params=None, n_jobs=-1, n_neighbors=24, p=2,\n",
       "                      weights='uniform'),\n",
       " 'nb': GaussianNB(priors=None, var_smoothing=0.7918521648729947)}"
      ]
     },
     "execution_count": 45,
     "metadata": {},
     "output_type": "execute_result"
    }
   ],
   "source": [
    "models[\"tuned\"][\"train\"]"
   ]
  },
  {
   "cell_type": "code",
   "execution_count": 13,
   "metadata": {},
   "outputs": [],
   "source": [
    "from BioML.models import save_model"
   ]
  },
  {
   "cell_type": "markdown",
   "metadata": {},
   "source": [
    "GenerateModel arguments are:\n",
    "* trainer (Trainer): the trainer object, it should have been used in the previous step\n",
    "\n",
    "The finalize_model arguments are:\n",
    "* sorted_model (dict or Any): the model to finalize, it can be a dictrionary or a model object\n",
    "* index (int, optional): if it is a dictionary you need to indicate the index of the model you want to finalize\n",
    "\n",
    "The output of finalize_model is:\n",
    "* The fitted model with all the data\n",
    "\n",
    "The save_model arguments are:\n",
    "* model (Any): the model to save\n",
    "* filename (str): the filename to save the model\n",
    "\n",
    "The output of save_model is:\n",
    "* \"classification_results/saved_models/{status}_{name}\" -> the program adds .pkl automatically so no need for an extension"
   ]
  },
  {
   "cell_type": "code",
   "execution_count": 19,
   "metadata": {},
   "outputs": [
    {
     "name": "stderr",
     "output_type": "stream",
     "text": [
      "04-04-2025 09:10:12 INFO ----------Finalizing the model by training it with all the data including test set--------------\n",
      "04-04-2025 09:10:13 INFO ----------Finalizing the model by training it with all the data including test set--------------\n"
     ]
    },
    {
     "name": "stdout",
     "output_type": "stream",
     "text": [
      "Transformation Pipeline and Model Successfully Saved\n"
     ]
    },
    {
     "name": "stderr",
     "output_type": "stream",
     "text": [
      "04-04-2025 09:10:13 INFO ----------Finalizing the model by training it with all the data including test set--------------\n"
     ]
    },
    {
     "name": "stdout",
     "output_type": "stream",
     "text": [
      "Transformation Pipeline and Model Successfully Saved\n"
     ]
    },
    {
     "name": "stderr",
     "output_type": "stream",
     "text": [
      "04-04-2025 09:10:14 INFO ----------Finalizing the model by training it with all the data including test set--------------\n"
     ]
    },
    {
     "name": "stdout",
     "output_type": "stream",
     "text": [
      "Transformation Pipeline and Model Successfully Saved\n"
     ]
    },
    {
     "name": "stderr",
     "output_type": "stream",
     "text": [
      "04-04-2025 09:10:15 INFO ----------Finalizing the model by training it with all the data including test set--------------\n"
     ]
    },
    {
     "name": "stdout",
     "output_type": "stream",
     "text": [
      "Transformation Pipeline and Model Successfully Saved\n"
     ]
    },
    {
     "name": "stderr",
     "output_type": "stream",
     "text": [
      "04-04-2025 09:10:15 INFO ----------Finalizing the model by training it with all the data including test set--------------\n"
     ]
    },
    {
     "name": "stdout",
     "output_type": "stream",
     "text": [
      "Transformation Pipeline and Model Successfully Saved\n"
     ]
    },
    {
     "name": "stderr",
     "output_type": "stream",
     "text": [
      "04-04-2025 09:10:16 INFO ----------Finalizing the model by training it with all the data including test set--------------\n"
     ]
    },
    {
     "name": "stdout",
     "output_type": "stream",
     "text": [
      "Transformation Pipeline and Model Successfully Saved\n"
     ]
    },
    {
     "name": "stderr",
     "output_type": "stream",
     "text": [
      "04-04-2025 09:10:16 INFO ----------Finalizing the model by training it with all the data including test set--------------\n"
     ]
    },
    {
     "name": "stdout",
     "output_type": "stream",
     "text": [
      "Transformation Pipeline and Model Successfully Saved\n"
     ]
    },
    {
     "name": "stderr",
     "output_type": "stream",
     "text": [
      "04-04-2025 09:10:17 INFO ----------Finalizing the model by training it with all the data including test set--------------\n"
     ]
    },
    {
     "name": "stdout",
     "output_type": "stream",
     "text": [
      "Transformation Pipeline and Model Successfully Saved\n"
     ]
    },
    {
     "name": "stderr",
     "output_type": "stream",
     "text": [
      "04-04-2025 09:10:18 INFO ----------Finalizing the model by training it with all the data including test set--------------\n"
     ]
    },
    {
     "name": "stdout",
     "output_type": "stream",
     "text": [
      "Transformation Pipeline and Model Successfully Saved\n",
      "Transformation Pipeline and Model Successfully Saved\n"
     ]
    }
   ],
   "source": [
    "generate = save_model.GenerateModel(training)\n",
    "for status, model in models.items():\n",
    "    for key, value in model.items():\n",
    "        if key == \"train\":\n",
    "            for num, (name, mod) in enumerate(value.items()):\n",
    "                if num > training.experiment.best_model - 1 : break\n",
    "                final_model = generate.finalize_model(value, num)\n",
    "                generate.save_model(final_model, f\"classification_results/saved_models/{status}_{name}\")\n",
    "        else:\n",
    "            final_model = generate.finalize_model(value)\n",
    "            generate.save_model(final_model, f\"classification_results/saved_models/{key}_{status}\")"
   ]
  },
  {
   "cell_type": "markdown",
   "metadata": {},
   "source": [
    "## 5.3 Save Model from scratch"
   ]
  },
  {
   "cell_type": "markdown",
   "metadata": {},
   "source": [
    "This is an example on how to train on a few or a single model using the selected argument and save that "
   ]
  },
  {
   "cell_type": "code",
   "execution_count": 20,
   "metadata": {},
   "outputs": [],
   "source": [
    "from BioML.models import save_model"
   ]
  },
  {
   "cell_type": "code",
   "execution_count": 25,
   "metadata": {},
   "outputs": [
    {
     "name": "stderr",
     "output_type": "stream",
     "text": [
      "04-04-2025 09:11:38 INFO ------------------------------------------------------------------------------\n",
      "04-04-2025 09:11:38 INFO PycaretInterface parameters\n",
      "04-04-2025 09:11:38 INFO Seed: 200\n",
      "04-04-2025 09:11:38 INFO Budget time: 20\n",
      "04-04-2025 09:11:38 INFO The number of models to select: 3\n",
      "04-04-2025 09:11:38 INFO Output path: classification_results\n",
      "04-04-2025 09:11:38 INFO ----------------Trainer inputs-------------------------\n",
      "04-04-2025 09:11:38 INFO Number of kfolds: 5\n",
      "04-04-2025 09:11:38 INFO Number of retuning iterations: 30\n",
      "04-04-2025 09:11:38 INFO Test size: 0.2\n"
     ]
    }
   ],
   "source": [
    "data = DataParser(\"classification_results/filtered_features.xlsx\", \"../data/esterase_labels.csv\", sheets=\"chi2_60\")\n",
    "experiment = PycaretInterface(\"classification\", 200, budget_time=20, best_model=3, \n",
    "                                  output_path=\"classification_results\", optimize=\"MCC\", experiment_name=\"generate_model\", log_experiment=False)\n",
    "classifier = Classifier(optimize=\"MCC\", selected=(\"qda\", \"rbfsvm\", \"ridge\"))\n",
    "training = Trainer(experiment, classifier, num_splits=5, test_size=0.2,  num_iter=30)\n"
   ]
  },
  {
   "cell_type": "code",
   "execution_count": 26,
   "metadata": {},
   "outputs": [
    {
     "name": "stderr",
     "output_type": "stream",
     "text": [
      "04-04-2025 09:11:40 INFO Added metrics for classification: Average precision\n",
      "04-04-2025 09:11:40 INFO --------------------------------------------------------\n",
      "04-04-2025 09:11:40 INFO Training classification models\n",
      "04-04-2025 09:11:40 INFO The models used ('qda', 'rbfsvm', 'ridge')\n",
      "04-04-2025 09:11:40 INFO The number of models used 3\n",
      "04-04-2025 09:11:40 INFO Time budget is 20 minutes\n",
      "04-04-2025 09:11:41 INFO Model qda trained in 0.015 minutes\n",
      "04-04-2025 09:11:42 INFO Model rbfsvm trained in 0.011 minutes\n",
      "04-04-2025 09:11:43 INFO Model ridge trained in 0.009 minutes\n",
      "04-04-2025 09:11:43 INFO Training over: Total runtime 0.035 minutes\n"
     ]
    }
   ],
   "source": [
    "sorted_results, sorted_models, top_params = training.run_training(data.features, data.label)"
   ]
  },
  {
   "cell_type": "code",
   "execution_count": 27,
   "metadata": {},
   "outputs": [
    {
     "name": "stderr",
     "output_type": "stream",
     "text": [
      "04-04-2025 09:12:05 INFO --------Creating an ensemble model--------\n",
      "04-04-2025 09:12:05 INFO ----------Creating a majority voting model--------------\n",
      "04-04-2025 09:12:05 INFO fold: 5\n",
      "04-04-2025 09:12:05 INFO weights: None\n",
      "04-04-2025 09:12:06 INFO ----------Finalizing the model by training it with all the data including test set--------------\n"
     ]
    },
    {
     "name": "stdout",
     "output_type": "stream",
     "text": [
      "Transformation Pipeline and Model Successfully Saved\n"
     ]
    }
   ],
   "source": [
    "generate = save_model.GenerateModel(training)\n",
    "models =  generate.train_by_strategy(sorted_models, \"majority\")\n",
    "final_model = generate.finalize_model(models)\n",
    "generate.save_model(final_model, \"classification_results/single_model/logistic\")"
   ]
  },
  {
   "cell_type": "markdown",
   "metadata": {},
   "source": [
    "# 6. Prediction"
   ]
  },
  {
   "cell_type": "markdown",
   "metadata": {},
   "source": [
    "Finally once you have the models you can make predictions on new data."
   ]
  },
  {
   "cell_type": "code",
   "execution_count": 1,
   "metadata": {},
   "outputs": [],
   "source": [
    "from BioML.models import predict\n",
    "import pandas as pd\n",
    "import numpy as np\n",
    "from scipy.spatial import distance"
   ]
  },
  {
   "cell_type": "code",
   "execution_count": 2,
   "metadata": {},
   "outputs": [],
   "source": [
    "training_features = \"classification_results/filtered_features.xlsx\"\n",
    "label = \"../data/esterase_labels.csv\"\n",
    "outlier_train=()\n",
    "outlier_test=()\n",
    "sheet_name=\"chi2_60\"\n",
    "problem=\"classification\"\n",
    "model_path=\"classification_results/single_model/logistic\"\n",
    "scaler=\"robust\""
   ]
  },
  {
   "cell_type": "markdown",
   "metadata": {},
   "source": [
    "#### Generate the predictions"
   ]
  },
  {
   "cell_type": "markdown",
   "metadata": {},
   "source": [
    "The prediccions are appended to the features dataframe, if it is classification it returns\n",
    "the probability of being in class 0 or class 1"
   ]
  },
  {
   "cell_type": "markdown",
   "metadata": {},
   "source": [
    "The argument for the predict function are:\n",
    "\n",
    "* test_features (pandas.DataFrame): The test features\n",
    "* model_path (str): The path to the model, you don't need to scale the test features, becuase the saved model has then entire pipeline saved\n",
    "* problem (str): The problem type, classification (it returns the probability of being in class 0 or class 1), regression it returns the value\n",
    "\n",
    "The output of the predict function is:\n",
    "\n",
    "* The predictions (pd.DataFrame): The predictions are appended to the features"
   ]
  },
  {
   "cell_type": "code",
   "execution_count": 3,
   "metadata": {},
   "outputs": [],
   "source": [
    "feature = predict.DataParser(training_features, label, outliers=outlier_train, sheets=sheet_name)\n",
    "test_features = feature.remove_outliers(feature.read_features(training_features, \"chi2_60\"), outlier_test)\n",
    "predictions = predict.predict(test_features, model_path, problem)"
   ]
  },
  {
   "cell_type": "code",
   "execution_count": 4,
   "metadata": {},
   "outputs": [
    {
     "data": {
      "text/html": [
       "<div>\n",
       "<style scoped>\n",
       "    .dataframe tbody tr th:only-of-type {\n",
       "        vertical-align: middle;\n",
       "    }\n",
       "\n",
       "    .dataframe tbody tr th {\n",
       "        vertical-align: top;\n",
       "    }\n",
       "\n",
       "    .dataframe thead th {\n",
       "        text-align: right;\n",
       "    }\n",
       "</style>\n",
       "<table border=\"1\" class=\"dataframe\">\n",
       "  <thead>\n",
       "    <tr style=\"text-align: right;\">\n",
       "      <th></th>\n",
       "      <th>CHAM810101.lag23_NMBroto</th>\n",
       "      <th>CHOC760101.lag22_Geary</th>\n",
       "      <th>CIDH920105.lag1_Moran</th>\n",
       "      <th>CHAM820102.lag4_Moran</th>\n",
       "      <th>Schneider.lag1_SOCNumber</th>\n",
       "      <th>pssm_cc360</th>\n",
       "      <th>pssm_cc542</th>\n",
       "      <th>pssm_cc662</th>\n",
       "      <th>pssm_cc744</th>\n",
       "      <th>pssm_cc1025</th>\n",
       "      <th>...</th>\n",
       "      <th>CHAM810101.lag7_NMBroto</th>\n",
       "      <th>CHAM810101.lag9_NMBroto</th>\n",
       "      <th>CHAM810101.lag24_NMBroto</th>\n",
       "      <th>CHAM810101.lag30_NMBroto</th>\n",
       "      <th>DAYM780201.lag26_NMBroto</th>\n",
       "      <th>CIDH920105.lag3_Geary</th>\n",
       "      <th>CIDH920105.lag11_Geary</th>\n",
       "      <th>CIDH920105.lag16_Geary</th>\n",
       "      <th>CIDH920105.lag23_Geary</th>\n",
       "      <th>prediction_label</th>\n",
       "    </tr>\n",
       "  </thead>\n",
       "  <tbody>\n",
       "    <tr>\n",
       "      <th>EH1(72)</th>\n",
       "      <td>-0.086296</td>\n",
       "      <td>1.037206</td>\n",
       "      <td>0.028302</td>\n",
       "      <td>-0.082859</td>\n",
       "      <td>0.371161</td>\n",
       "      <td>-0.000232</td>\n",
       "      <td>-0.000284</td>\n",
       "      <td>-0.000167</td>\n",
       "      <td>-0.000974</td>\n",
       "      <td>-0.001420</td>\n",
       "      <td>...</td>\n",
       "      <td>-0.168890</td>\n",
       "      <td>0.041882</td>\n",
       "      <td>0.029023</td>\n",
       "      <td>0.013333</td>\n",
       "      <td>0.002101</td>\n",
       "      <td>0.966769</td>\n",
       "      <td>1.092017</td>\n",
       "      <td>1.031714</td>\n",
       "      <td>1.037640</td>\n",
       "      <td>1</td>\n",
       "    </tr>\n",
       "    <tr>\n",
       "      <th>EH2(71)</th>\n",
       "      <td>-0.110262</td>\n",
       "      <td>1.025836</td>\n",
       "      <td>-0.045634</td>\n",
       "      <td>-0.026907</td>\n",
       "      <td>0.348699</td>\n",
       "      <td>-0.000486</td>\n",
       "      <td>0.000237</td>\n",
       "      <td>-0.000954</td>\n",
       "      <td>-0.000170</td>\n",
       "      <td>-0.000966</td>\n",
       "      <td>...</td>\n",
       "      <td>0.053429</td>\n",
       "      <td>0.019795</td>\n",
       "      <td>-0.158698</td>\n",
       "      <td>-0.071886</td>\n",
       "      <td>0.005959</td>\n",
       "      <td>0.996057</td>\n",
       "      <td>0.985778</td>\n",
       "      <td>0.999326</td>\n",
       "      <td>1.039344</td>\n",
       "      <td>1</td>\n",
       "    </tr>\n",
       "    <tr>\n",
       "      <th>EH3(69)</th>\n",
       "      <td>-0.125391</td>\n",
       "      <td>1.050111</td>\n",
       "      <td>0.024718</td>\n",
       "      <td>0.003147</td>\n",
       "      <td>0.346771</td>\n",
       "      <td>-0.000700</td>\n",
       "      <td>0.000922</td>\n",
       "      <td>-0.000458</td>\n",
       "      <td>-0.000875</td>\n",
       "      <td>-0.001095</td>\n",
       "      <td>...</td>\n",
       "      <td>0.076793</td>\n",
       "      <td>-0.041301</td>\n",
       "      <td>0.079643</td>\n",
       "      <td>-0.111475</td>\n",
       "      <td>0.029596</td>\n",
       "      <td>0.977896</td>\n",
       "      <td>0.919151</td>\n",
       "      <td>0.881323</td>\n",
       "      <td>1.109520</td>\n",
       "      <td>1</td>\n",
       "    </tr>\n",
       "    <tr>\n",
       "      <th>CalB(68)</th>\n",
       "      <td>0.135638</td>\n",
       "      <td>1.005781</td>\n",
       "      <td>0.032854</td>\n",
       "      <td>-0.042622</td>\n",
       "      <td>0.251895</td>\n",
       "      <td>0.000807</td>\n",
       "      <td>-0.000265</td>\n",
       "      <td>0.001517</td>\n",
       "      <td>0.001502</td>\n",
       "      <td>-0.001548</td>\n",
       "      <td>...</td>\n",
       "      <td>0.018115</td>\n",
       "      <td>-0.024326</td>\n",
       "      <td>-0.017794</td>\n",
       "      <td>0.059463</td>\n",
       "      <td>0.012514</td>\n",
       "      <td>1.072358</td>\n",
       "      <td>0.999313</td>\n",
       "      <td>0.959426</td>\n",
       "      <td>1.012822</td>\n",
       "      <td>1</td>\n",
       "    </tr>\n",
       "    <tr>\n",
       "      <th>EH4(67)</th>\n",
       "      <td>-0.201467</td>\n",
       "      <td>1.008612</td>\n",
       "      <td>-0.042323</td>\n",
       "      <td>-0.007536</td>\n",
       "      <td>0.340954</td>\n",
       "      <td>-0.000667</td>\n",
       "      <td>-0.000236</td>\n",
       "      <td>-0.000500</td>\n",
       "      <td>-0.000306</td>\n",
       "      <td>-0.000731</td>\n",
       "      <td>...</td>\n",
       "      <td>0.133993</td>\n",
       "      <td>0.030291</td>\n",
       "      <td>-0.143633</td>\n",
       "      <td>-0.117702</td>\n",
       "      <td>-0.054452</td>\n",
       "      <td>1.018159</td>\n",
       "      <td>1.068451</td>\n",
       "      <td>1.038840</td>\n",
       "      <td>1.027438</td>\n",
       "      <td>1</td>\n",
       "    </tr>\n",
       "  </tbody>\n",
       "</table>\n",
       "<p>5 rows × 61 columns</p>\n",
       "</div>"
      ],
      "text/plain": [
       "          CHAM810101.lag23_NMBroto  CHOC760101.lag22_Geary  \\\n",
       "EH1(72)                  -0.086296                1.037206   \n",
       "EH2(71)                  -0.110262                1.025836   \n",
       "EH3(69)                  -0.125391                1.050111   \n",
       "CalB(68)                  0.135638                1.005781   \n",
       "EH4(67)                  -0.201467                1.008612   \n",
       "\n",
       "          CIDH920105.lag1_Moran  CHAM820102.lag4_Moran  \\\n",
       "EH1(72)                0.028302              -0.082859   \n",
       "EH2(71)               -0.045634              -0.026907   \n",
       "EH3(69)                0.024718               0.003147   \n",
       "CalB(68)               0.032854              -0.042622   \n",
       "EH4(67)               -0.042323              -0.007536   \n",
       "\n",
       "          Schneider.lag1_SOCNumber  pssm_cc360  pssm_cc542  pssm_cc662  \\\n",
       "EH1(72)                   0.371161   -0.000232   -0.000284   -0.000167   \n",
       "EH2(71)                   0.348699   -0.000486    0.000237   -0.000954   \n",
       "EH3(69)                   0.346771   -0.000700    0.000922   -0.000458   \n",
       "CalB(68)                  0.251895    0.000807   -0.000265    0.001517   \n",
       "EH4(67)                   0.340954   -0.000667   -0.000236   -0.000500   \n",
       "\n",
       "          pssm_cc744  pssm_cc1025  ...  CHAM810101.lag7_NMBroto  \\\n",
       "EH1(72)    -0.000974    -0.001420  ...                -0.168890   \n",
       "EH2(71)    -0.000170    -0.000966  ...                 0.053429   \n",
       "EH3(69)    -0.000875    -0.001095  ...                 0.076793   \n",
       "CalB(68)    0.001502    -0.001548  ...                 0.018115   \n",
       "EH4(67)    -0.000306    -0.000731  ...                 0.133993   \n",
       "\n",
       "          CHAM810101.lag9_NMBroto  CHAM810101.lag24_NMBroto  \\\n",
       "EH1(72)                  0.041882                  0.029023   \n",
       "EH2(71)                  0.019795                 -0.158698   \n",
       "EH3(69)                 -0.041301                  0.079643   \n",
       "CalB(68)                -0.024326                 -0.017794   \n",
       "EH4(67)                  0.030291                 -0.143633   \n",
       "\n",
       "          CHAM810101.lag30_NMBroto  DAYM780201.lag26_NMBroto  \\\n",
       "EH1(72)                   0.013333                  0.002101   \n",
       "EH2(71)                  -0.071886                  0.005959   \n",
       "EH3(69)                  -0.111475                  0.029596   \n",
       "CalB(68)                  0.059463                  0.012514   \n",
       "EH4(67)                  -0.117702                 -0.054452   \n",
       "\n",
       "          CIDH920105.lag3_Geary  CIDH920105.lag11_Geary  \\\n",
       "EH1(72)                0.966769                1.092017   \n",
       "EH2(71)                0.996057                0.985778   \n",
       "EH3(69)                0.977896                0.919151   \n",
       "CalB(68)               1.072358                0.999313   \n",
       "EH4(67)                1.018159                1.068451   \n",
       "\n",
       "          CIDH920105.lag16_Geary  CIDH920105.lag23_Geary  prediction_label  \n",
       "EH1(72)                 1.031714                1.037640                 1  \n",
       "EH2(71)                 0.999326                1.039344                 1  \n",
       "EH3(69)                 0.881323                1.109520                 1  \n",
       "CalB(68)                0.959426                1.012822                 1  \n",
       "EH4(67)                 1.038840                1.027438                 1  \n",
       "\n",
       "[5 rows x 61 columns]"
      ]
     },
     "execution_count": 4,
     "metadata": {},
     "output_type": "execute_result"
    }
   ],
   "source": [
    "predictions.head()"
   ]
  },
  {
   "cell_type": "markdown",
   "metadata": {},
   "source": [
    "#### Optional if you want to filter predictions based if that test sample is within the applicability domain"
   ]
  },
  {
   "cell_type": "markdown",
   "metadata": {},
   "source": [
    "Applicability domain compares eucleadian distance between the features from the training and features from the test.   \n",
    "If the distance is far from a set threshold then that prediction is discarded since it deviates from the samples the model have seen during training  \n",
    "Testing on the training dataset it discards a few as well so the error can be quite high"
   ]
  },
  {
   "cell_type": "code",
   "execution_count": 5,
   "metadata": {},
   "outputs": [],
   "source": [
    "transformed, scaler_dict, test_x = predict.scale(scaler, feature.drop(), test_features)\n",
    "filtered_pred = predict.domain_filter(predictions, transformed, test_x, 5) # it returns the predictions appended to the features"
   ]
  },
  {
   "cell_type": "code",
   "execution_count": 6,
   "metadata": {},
   "outputs": [
    {
     "data": {
      "text/plain": [
       "((130, 63), (147, 61))"
      ]
     },
     "execution_count": 6,
     "metadata": {},
     "output_type": "execute_result"
    }
   ],
   "source": [
    "filtered_pred.shape, predictions.shape"
   ]
  },
  {
   "cell_type": "markdown",
   "metadata": {},
   "source": [
    " if you don't apply the domain filter, you can just use the predictions but you have to add a new Index column to sample_0, sample_1, etc to filter the fasta files into positive or negative"
   ]
  },
  {
   "cell_type": "code",
   "execution_count": 7,
   "metadata": {},
   "outputs": [],
   "source": [
    "predictions[\"Index\"] = [f\"sample_{x}\" for x, _ in enumerate(predictions.index)]\n",
    "col_name = [\"prediction_score\", \"prediction_label\", \"AD_number\", \"Index\"]\n",
    "predictions = predictions.loc[:, predictions.columns.str.contains(\"|\".join(col_name))] # only keep the columns with the prediction scores"
   ]
  },
  {
   "cell_type": "markdown",
   "metadata": {},
   "source": [
    "### Separate the fasta file into positive or negative only make sense if it is a classification task"
   ]
  },
  {
   "cell_type": "code",
   "execution_count": 6,
   "metadata": {},
   "outputs": [],
   "source": [
    "fasta_file = \"../data/whole_sequence.fasta\"\n",
    "res_dir = \"classification_results\""
   ]
  },
  {
   "cell_type": "code",
   "execution_count": 7,
   "metadata": {},
   "outputs": [
    {
     "ename": "NameError",
     "evalue": "name 'predict' is not defined",
     "output_type": "error",
     "traceback": [
      "\u001b[31m---------------------------------------------------------------------------\u001b[39m",
      "\u001b[31mNameError\u001b[39m                                 Traceback (most recent call last)",
      "\u001b[36mCell\u001b[39m\u001b[36m \u001b[39m\u001b[32mIn[7]\u001b[39m\u001b[32m, line 1\u001b[39m\n\u001b[32m----> \u001b[39m\u001b[32m1\u001b[39m extractor = \u001b[43mpredict\u001b[49m.FastaExtractor(fasta_file, res_dir)\n\u001b[32m      2\u001b[39m positive, negative = extractor.separate_negative_positive(predictions)\n",
      "\u001b[31mNameError\u001b[39m: name 'predict' is not defined"
     ]
    }
   ],
   "source": [
    "extractor = predict.FastaExtractor(fasta_file, res_dir)\n",
    "positive, negative = extractor.separate_negative_positive(predictions)\n"
   ]
  },
  {
   "cell_type": "code",
   "execution_count": 13,
   "metadata": {},
   "outputs": [],
   "source": [
    "extractor.extract(positive, negative, positive_fasta=\"positive.fasta\", negative_fasta=f\"negative.fasta\")"
   ]
  },
  {
   "cell_type": "markdown",
   "metadata": {},
   "source": [
    "## Finetuning large language models"
   ]
  },
  {
   "cell_type": "code",
   "execution_count": null,
   "metadata": {},
   "outputs": [],
   "source": [
    "from BioML.deep import finetuning as ft\n",
    "from BioML.deep.train_config import LLMConfig, SplitConfig, TrainConfig\n",
    "import pandas as pd\n",
    "from BioML.utilities.utils import load_config"
   ]
  },
  {
   "cell_type": "markdown",
   "metadata": {},
   "source": [
    "For regression tasks use num_classes = 1, and change the optimize to val_R2 for instance.\n",
    "Go to BioML.deep.finetuning to see all the available metrics\n",
    "You can change optimize_mode to 'min' if it has to decrease\n",
    "To see the hyperparameters and configurations you can open mlflow  \n",
    "The command should be run (terminal) in the directory where logs are, specified by train_config.save_dir\n",
    "mlflow server --host 127.0.0.1 --port 8080 \n",
    "\n",
    "! mlflow server --host 127.0.0.1 --port 8080 # to run terminal commands in jupyter you can use this and then go to \n",
    "http://127.0.0.1:8080 or http://localhost:5000"
   ]
  },
  {
   "cell_type": "code",
   "execution_count": 2,
   "metadata": {},
   "outputs": [],
   "source": [
    "label = pd.read_csv(\"../data/esterase_labels.csv\", index_col=0).to_numpy().flatten()\n",
    "fasta_file = \"../data/whole_sequence.fasta\""
   ]
  },
  {
   "cell_type": "code",
   "execution_count": 3,
   "metadata": {},
   "outputs": [],
   "source": [
    "train_config = TrainConfig(num_classes=2, optimize=\"Val_MCC\", optimize_mode=\"max\", max_epochs=3, root_dir=\"LLM_results\") # for regression do num_classses = 1 \n",
    "llm_config = LLMConfig()\n",
    "split_config = SplitConfig()"
   ]
  },
  {
   "cell_type": "code",
   "execution_count": null,
   "metadata": {},
   "outputs": [
    {
     "name": "stderr",
     "output_type": "stream",
     "text": [
      "Seed set to 42\n",
      "Some weights of EsmForSequenceClassification were not initialized from the model checkpoint at facebook/esm2_t6_8M_UR50D and are newly initialized: ['classifier.dense.bias', 'classifier.dense.weight', 'classifier.out_proj.bias', 'classifier.out_proj.weight']\n",
      "You should probably TRAIN this model on a down-stream task to be able to use it for predictions and inference.\n",
      "GPU available: False, used: False\n",
      "TPU available: False, using: 0 TPU cores\n",
      "HPU available: False, using: 0 HPUs\n"
     ]
    },
    {
     "name": "stdout",
     "output_type": "stream",
     "text": [
      "trainable params: 846,402 || all params: 8,687,165 || trainable%: 9.7431\n"
     ]
    },
    {
     "name": "stderr",
     "output_type": "stream",
     "text": [
      "Loading `train_dataloader` to estimate number of stepping batches.\n",
      "/home/ruite/miniforge3/envs/bioml/lib/python3.11/site-packages/lightning/pytorch/trainer/connectors/data_connector.py:425: The 'train_dataloader' does not have many workers which may be a bottleneck. Consider increasing the value of the `num_workers` argument` to `num_workers=7` in the `DataLoader` to improve performance.\n",
      "/home/ruite/miniforge3/envs/bioml/lib/python3.11/site-packages/lightning/pytorch/loops/fit_loop.py:310: The number of training batches (12) is smaller than the logging interval Trainer(log_every_n_steps=50). Set a lower value for log_every_n_steps if you want to see logs for the training epoch.\n",
      "\n",
      "  | Name  | Type      | Params | Mode \n",
      "--------------------------------------------\n",
      "0 | model | PeftModel | 8.7 M  | train\n",
      "--------------------------------------------\n",
      "846 K     Trainable params\n",
      "7.8 M     Non-trainable params\n",
      "8.7 M     Total params\n",
      "34.749    Total estimated model params size (MB)\n",
      "204       Modules in train mode\n",
      "126       Modules in eval mode\n"
     ]
    },
    {
     "data": {
      "application/vnd.jupyter.widget-view+json": {
       "model_id": "b3e96c786b5c40afb6755d64e1992e8f",
       "version_major": 2,
       "version_minor": 0
      },
      "text/plain": [
       "Sanity Checking: |          | 0/? [00:00<?, ?it/s]"
      ]
     },
     "metadata": {},
     "output_type": "display_data"
    },
    {
     "name": "stderr",
     "output_type": "stream",
     "text": [
      "/home/ruite/miniforge3/envs/bioml/lib/python3.11/site-packages/lightning/pytorch/trainer/connectors/data_connector.py:425: The 'val_dataloader' does not have many workers which may be a bottleneck. Consider increasing the value of the `num_workers` argument` to `num_workers=7` in the `DataLoader` to improve performance.\n"
     ]
    },
    {
     "data": {
      "application/vnd.jupyter.widget-view+json": {
       "model_id": "921ae3d6ce694c60828cf4a01f290d0b",
       "version_major": 2,
       "version_minor": 0
      },
      "text/plain": [
       "Training: |          | 0/? [00:00<?, ?it/s]"
      ]
     },
     "metadata": {},
     "output_type": "display_data"
    },
    {
     "data": {
      "application/vnd.jupyter.widget-view+json": {
       "model_id": "55f0ad2904de4da8b3ca2def110b46e3",
       "version_major": 2,
       "version_minor": 0
      },
      "text/plain": [
       "Validation: |          | 0/? [00:00<?, ?it/s]"
      ]
     },
     "metadata": {},
     "output_type": "display_data"
    },
    {
     "name": "stderr",
     "output_type": "stream",
     "text": [
      "Metric Val_MCC improved. New best score: 0.034\n",
      "Epoch 0, global step 12: 'Val_MCC' reached 0.03414 (best 0.03414), saving model to '/home/ruite/Projects/BioML/examples/LLM_results/model_checkpoint/epoch=0-Val_MCC=0.03.ckpt' as top 1\n"
     ]
    },
    {
     "data": {
      "application/vnd.jupyter.widget-view+json": {
       "model_id": "f4a6bf92312b4078950209a2853a5d41",
       "version_major": 2,
       "version_minor": 0
      },
      "text/plain": [
       "Validation: |          | 0/? [00:00<?, ?it/s]"
      ]
     },
     "metadata": {},
     "output_type": "display_data"
    },
    {
     "name": "stderr",
     "output_type": "stream",
     "text": [
      "Epoch 1, global step 24: 'Val_MCC' was not in top 1\n"
     ]
    },
    {
     "data": {
      "application/vnd.jupyter.widget-view+json": {
       "model_id": "cf56790ba0cb4c73bd9460d778de234b",
       "version_major": 2,
       "version_minor": 0
      },
      "text/plain": [
       "Validation: |          | 0/? [00:00<?, ?it/s]"
      ]
     },
     "metadata": {},
     "output_type": "display_data"
    },
    {
     "name": "stderr",
     "output_type": "stream",
     "text": [
      "Epoch 2, global step 36: 'Val_MCC' was not in top 1\n",
      "`Trainer.fit` stopped: `max_epochs=3` reached.\n",
      "/home/ruite/miniforge3/envs/bioml/lib/python3.11/site-packages/lightning/pytorch/trainer/connectors/data_connector.py:425: The 'test_dataloader' does not have many workers which may be a bottleneck. Consider increasing the value of the `num_workers` argument` to `num_workers=7` in the `DataLoader` to improve performance.\n"
     ]
    },
    {
     "data": {
      "application/vnd.jupyter.widget-view+json": {
       "model_id": "e86b611424fe44ac87774b6e8076bee1",
       "version_major": 2,
       "version_minor": 0
      },
      "text/plain": [
       "Testing: |          | 0/? [00:00<?, ?it/s]"
      ]
     },
     "metadata": {},
     "output_type": "display_data"
    },
    {
     "name": "stdout",
     "output_type": "stream",
     "text": [
      "────────────────────────────────────────────────────────────────────────────────────────────────────────────────────────\n",
      "       Test metric             DataLoader 0\n",
      "────────────────────────────────────────────────────────────────────────────────────────────────────────────────────────\n",
      "       Test_AUROC           0.8616070747375488\n",
      "        Test_Acc            0.6000000238418579\n",
      " Test_Average_Precision     0.8665806651115417\n",
      "    Test_Cohen_Kappa        0.15094339847564697\n",
      "         Test_F1            0.6000000238418579\n",
      "        Test_MCC            0.2857142984867096\n",
      "     Test_Precision         0.6000000238418579\n",
      "       Test_Recall          0.6000000238418579\n",
      "          loss              0.6424059271812439\n",
      "────────────────────────────────────────────────────────────────────────────────────────────────────────────────────────\n"
     ]
    },
    {
     "name": "stderr",
     "output_type": "stream",
     "text": [
      "Restoring states from the checkpoint path at /home/ruite/Projects/BioML/examples/LLM_results/model_checkpoint/epoch=0-Val_MCC=0.03.ckpt\n",
      "Loaded model weights from the checkpoint at /home/ruite/Projects/BioML/examples/LLM_results/model_checkpoint/epoch=0-Val_MCC=0.03.ckpt\n",
      "/home/ruite/miniforge3/envs/bioml/lib/python3.11/site-packages/lightning/pytorch/trainer/connectors/data_connector.py:425: The 'test_dataloader' does not have many workers which may be a bottleneck. Consider increasing the value of the `num_workers` argument` to `num_workers=7` in the `DataLoader` to improve performance.\n"
     ]
    },
    {
     "data": {
      "application/vnd.jupyter.widget-view+json": {
       "model_id": "79f8708c7a854e3c93c260cac2030321",
       "version_major": 2,
       "version_minor": 0
      },
      "text/plain": [
       "Testing: |          | 0/? [00:00<?, ?it/s]"
      ]
     },
     "metadata": {},
     "output_type": "display_data"
    },
    {
     "name": "stdout",
     "output_type": "stream",
     "text": [
      "────────────────────────────────────────────────────────────────────────────────────────────────────────────────────────\n",
      "       Test metric             DataLoader 0\n",
      "────────────────────────────────────────────────────────────────────────────────────────────────────────────────────────\n",
      "       Test_AUROC                 0.78125\n",
      "        Test_Acc            0.5333333611488342\n",
      " Test_Average_Precision     0.7894397974014282\n",
      "    Test_Cohen_Kappa                0.0\n",
      "         Test_F1            0.5333333611488342\n",
      "        Test_MCC           0.024397501721978188\n",
      "     Test_Precision         0.5333333611488342\n",
      "       Test_Recall          0.5333333611488342\n",
      "          loss              0.6824653744697571\n",
      "────────────────────────────────────────────────────────────────────────────────────────────────────────────────────────\n"
     ]
    }
   ],
   "source": [
    "lr=1e-3\n",
    "use_best_model = True\n",
    "tokenizer_args: dict = load_config(\"\") # tokenizer_config.json\n",
    "lightning_trainer_args = {}\n",
    "# Placeholder for the training loop call\n",
    "model, data_module, best_model_path, peft_output = ft.training_loop(fasta_file, label, lr, train_config, llm_config, \n",
    "                                                       split_config, tokenizer_args, \n",
    "                                                       lightning_trainer_args, use_best_model)"
   ]
  },
  {
   "cell_type": "markdown",
   "metadata": {},
   "source": [
    "There will be 2 model folders after training, they contain the exact same model but they are loaded differently: \n",
    "train_config.root_dir / train_config.adapter_output: Where PEFT adapters are saved so you can use the HuggingFace APi from load_adapter\n",
    "\n",
    "from BioML.uilities.deep_utils import load_adapter\n",
    "\n",
    "Use the load_adapter function to get the trained model\n",
    "\n",
    "model = load_adapter(best_model_path, llm_config)\n",
    "\n",
    "Then there is train_config.root_dir / train_config.model_checkpoint_dir -> saved by the pytorch lightning\n",
    "If you want to use the lighning API\n",
    "\n",
    "mod = ft.TransformerModule.load_from_checkpoint(best_model_path, model=model): load the lightning model like so -> you will need to provide model architecture (look at the function training_loop to get the same model)"
   ]
  },
  {
   "cell_type": "code",
   "execution_count": 12,
   "metadata": {},
   "outputs": [
    {
     "name": "stderr",
     "output_type": "stream",
     "text": [
      "Some weights of EsmForSequenceClassification were not initialized from the model checkpoint at facebook/esm2_t6_8M_UR50D and are newly initialized: ['classifier.dense.bias', 'classifier.dense.weight', 'classifier.out_proj.bias', 'classifier.out_proj.weight']\n",
      "You should probably TRAIN this model on a down-stream task to be able to use it for predictions and inference.\n"
     ]
    },
    {
     "data": {
      "text/plain": [
       "PeftModel(\n",
       "  (base_model): LoraModel(\n",
       "    (model): EsmForSequenceClassification(\n",
       "      (esm): EsmModel(\n",
       "        (embeddings): EsmEmbeddings(\n",
       "          (word_embeddings): Embedding(33, 320, padding_idx=1)\n",
       "          (dropout): Dropout(p=0.0, inplace=False)\n",
       "          (position_embeddings): Embedding(1026, 320, padding_idx=1)\n",
       "        )\n",
       "        (encoder): EsmEncoder(\n",
       "          (layer): ModuleList(\n",
       "            (0-5): 6 x EsmLayer(\n",
       "              (attention): EsmAttention(\n",
       "                (self): EsmSelfAttention(\n",
       "                  (query): lora.Linear(\n",
       "                    (base_layer): Linear(in_features=320, out_features=320, bias=True)\n",
       "                    (lora_dropout): ModuleDict(\n",
       "                      (initial): Dropout(p=0.05, inplace=False)\n",
       "                    )\n",
       "                    (lora_A): ModuleDict(\n",
       "                      (initial): Linear(in_features=320, out_features=64, bias=False)\n",
       "                    )\n",
       "                    (lora_B): ModuleDict(\n",
       "                      (initial): Linear(in_features=64, out_features=320, bias=False)\n",
       "                    )\n",
       "                    (lora_embedding_A): ParameterDict()\n",
       "                    (lora_embedding_B): ParameterDict()\n",
       "                    (lora_magnitude_vector): ModuleDict(\n",
       "                      (initial): lora.dora.DoraLinearLayer()\n",
       "                    )\n",
       "                  )\n",
       "                  (key): lora.Linear(\n",
       "                    (base_layer): Linear(in_features=320, out_features=320, bias=True)\n",
       "                    (lora_dropout): ModuleDict(\n",
       "                      (initial): Dropout(p=0.05, inplace=False)\n",
       "                    )\n",
       "                    (lora_A): ModuleDict(\n",
       "                      (initial): Linear(in_features=320, out_features=64, bias=False)\n",
       "                    )\n",
       "                    (lora_B): ModuleDict(\n",
       "                      (initial): Linear(in_features=64, out_features=320, bias=False)\n",
       "                    )\n",
       "                    (lora_embedding_A): ParameterDict()\n",
       "                    (lora_embedding_B): ParameterDict()\n",
       "                    (lora_magnitude_vector): ModuleDict(\n",
       "                      (initial): lora.dora.DoraLinearLayer()\n",
       "                    )\n",
       "                  )\n",
       "                  (value): lora.Linear(\n",
       "                    (base_layer): Linear(in_features=320, out_features=320, bias=True)\n",
       "                    (lora_dropout): ModuleDict(\n",
       "                      (initial): Dropout(p=0.05, inplace=False)\n",
       "                    )\n",
       "                    (lora_A): ModuleDict(\n",
       "                      (initial): Linear(in_features=320, out_features=64, bias=False)\n",
       "                    )\n",
       "                    (lora_B): ModuleDict(\n",
       "                      (initial): Linear(in_features=64, out_features=320, bias=False)\n",
       "                    )\n",
       "                    (lora_embedding_A): ParameterDict()\n",
       "                    (lora_embedding_B): ParameterDict()\n",
       "                    (lora_magnitude_vector): ModuleDict(\n",
       "                      (initial): lora.dora.DoraLinearLayer()\n",
       "                    )\n",
       "                  )\n",
       "                  (dropout): Dropout(p=0.0, inplace=False)\n",
       "                  (rotary_embeddings): RotaryEmbedding()\n",
       "                )\n",
       "                (output): EsmSelfOutput(\n",
       "                  (dense): Linear(in_features=320, out_features=320, bias=True)\n",
       "                  (dropout): Dropout(p=0.0, inplace=False)\n",
       "                )\n",
       "                (LayerNorm): LayerNorm((320,), eps=1e-05, elementwise_affine=True)\n",
       "              )\n",
       "              (intermediate): EsmIntermediate(\n",
       "                (dense): Linear(in_features=320, out_features=1280, bias=True)\n",
       "              )\n",
       "              (output): EsmOutput(\n",
       "                (dense): Linear(in_features=1280, out_features=320, bias=True)\n",
       "                (dropout): Dropout(p=0.0, inplace=False)\n",
       "              )\n",
       "              (LayerNorm): LayerNorm((320,), eps=1e-05, elementwise_affine=True)\n",
       "            )\n",
       "          )\n",
       "          (emb_layer_norm_after): LayerNorm((320,), eps=1e-05, elementwise_affine=True)\n",
       "        )\n",
       "        (contact_head): EsmContactPredictionHead(\n",
       "          (regression): Linear(in_features=120, out_features=1, bias=True)\n",
       "          (activation): Sigmoid()\n",
       "        )\n",
       "      )\n",
       "      (classifier): EsmClassificationHead(\n",
       "        (dense): ModulesToSaveWrapper(\n",
       "          (original_module): Linear(in_features=320, out_features=320, bias=True)\n",
       "          (modules_to_save): ModuleDict(\n",
       "            (initial): Linear(in_features=320, out_features=320, bias=True)\n",
       "          )\n",
       "        )\n",
       "        (dropout): Dropout(p=0.0, inplace=False)\n",
       "        (out_proj): ModulesToSaveWrapper(\n",
       "          (original_module): Linear(in_features=320, out_features=2, bias=True)\n",
       "          (modules_to_save): ModuleDict(\n",
       "            (initial): Linear(in_features=320, out_features=2, bias=True)\n",
       "          )\n",
       "        )\n",
       "      )\n",
       "    )\n",
       "  )\n",
       ")"
      ]
     },
     "execution_count": 12,
     "metadata": {},
     "output_type": "execute_result"
    }
   ],
   "source": [
    "from BioML.utilities.deep_utils import load_adapter\n",
    "from pathlib import Path\n",
    "peft_output = Path(train_config.root_dir) / train_config.adapter_output\n",
    "mod_peft = load_adapter(peft_output, llm_config)\n",
    "mod_peft.eval()"
   ]
  },
  {
   "cell_type": "code",
   "execution_count": 21,
   "metadata": {},
   "outputs": [
    {
     "name": "stderr",
     "output_type": "stream",
     "text": [
      "Some weights of EsmForSequenceClassification were not initialized from the model checkpoint at facebook/esm2_t6_8M_UR50D and are newly initialized: ['classifier.dense.bias', 'classifier.dense.weight', 'classifier.out_proj.bias', 'classifier.out_proj.weight']\n",
      "You should probably TRAIN this model on a down-stream task to be able to use it for predictions and inference.\n"
     ]
    },
    {
     "name": "stdout",
     "output_type": "stream",
     "text": [
      "trainable params: 846,402 || all params: 8,687,165 || trainable%: 9.7431\n"
     ]
    }
   ],
   "source": [
    "peft = ft.PreparePEFT(train_config, llm_config, lora_init=True)\n",
    "model = peft.prepare_model()"
   ]
  },
  {
   "cell_type": "code",
   "execution_count": 23,
   "metadata": {},
   "outputs": [],
   "source": [
    "mod = ft.TransformerModule.load_from_checkpoint(best_model_path, model=model)"
   ]
  },
  {
   "cell_type": "markdown",
   "metadata": {},
   "source": [
    "# Predictions"
   ]
  },
  {
   "cell_type": "code",
   "execution_count": null,
   "metadata": {},
   "outputs": [],
   "source": [
    "from BioML.deep.embeddings import TokenizeFasta\n",
    "from BioML.models.predict import DeepPredictor, predict_deep"
   ]
  },
  {
   "cell_type": "code",
   "execution_count": null,
   "metadata": {},
   "outputs": [
    {
     "data": {
      "text/plain": [
       "tensor([20,  4,  4,  ...,  1,  1,  1])"
      ]
     },
     "execution_count": 9,
     "metadata": {},
     "output_type": "execute_result"
    }
   ],
   "source": [
    "tok = TokenizeFasta(llm_config, tokenizer_args)\n",
    "train_config = TrainConfig(num_classes=2, root_dir=\"LLM_results\") # for regression do num_classses = 1 \n",
    "peft_output = Path(train_config.root_dir) / train_config.adapter_output\n",
    "peft_model = load_adapter(peft_output, llm_config)\n",
    "test_fasta = \"../data/whole_sequence.fasta\"\n",
    "res_dir = \"LLM_results/predictions.csv\""
   ]
  },
  {
   "cell_type": "code",
   "execution_count": null,
   "metadata": {},
   "outputs": [],
   "source": [
    "predictor = DeepPredictor(peft_model, test_fasta, llm_config) # you could also give it the lightning model\n",
    "predictions = predictor.predict(tok.tokenizer, \"classification\", batch_size=2)\n",
    "predictions.to_csv(res_dir)"
   ]
  },
  {
   "cell_type": "code",
   "execution_count": null,
   "metadata": {},
   "outputs": [],
   "source": [
    "predict_deep(test_fasta, \"classification\", peft_output, llm_config, tokenizer_args, batch_size=2, res_dir=res_dir, lightning_model=None) # it is the same as above"
   ]
  },
  {
   "cell_type": "markdown",
   "metadata": {},
   "source": [
    "It will return a dataframe with the prediction class probablities for classification problems or the prediction for regression problems.\n",
    "It will named as res_dir"
   ]
  },
  {
   "cell_type": "markdown",
   "metadata": {},
   "source": [
    "## Several uses cases comes into mind \n",
    "\n",
    "1. Rapidly test different features sets people might have constructed (or generate one using BioML)\n",
    "2. Compare which of the classical algorithms is more suited for your features so you can focus your efforts on optimizing the hyperparameters of that algorithm\n",
    "3. Have a baseline model to compare the performance of your customized training pipeline\n",
    "4. Finetune your own large language models -> automatically finetune LLM's for a specific task using parameter efficient fine tuning techniques. I'll allow you to train it on a consumer GPU, models between 13B and 30B parameters. Although you might still need to control batch size, and gradient accumulation\n",
    "\n"
   ]
  },
  {
   "cell_type": "code",
   "execution_count": 6,
   "metadata": {},
   "outputs": [
    {
     "data": {
      "text/plain": [
       "PosixPath('/home/ruite/Projects/BioML/examples/home/ruite/Projects/BioML/data/esterase_labels.csv')"
      ]
     },
     "execution_count": 6,
     "metadata": {},
     "output_type": "execute_result"
    }
   ],
   "source": [
    "import os\n",
    "from pathlib import Path\n",
    "Path(\"home/ruite/Projects/BioML/data/esterase_labels.csv\").resolve()"
   ]
  }
 ],
 "metadata": {
  "kernelspec": {
   "display_name": "bioml",
   "language": "python",
   "name": "python3"
  },
  "language_info": {
   "codemirror_mode": {
    "name": "ipython",
    "version": 3
   },
   "file_extension": ".py",
   "mimetype": "text/x-python",
   "name": "python",
   "nbconvert_exporter": "python",
   "pygments_lexer": "ipython3",
   "version": "3.11.11"
  },
  "orig_nbformat": 4
 },
 "nbformat": 4,
 "nbformat_minor": 2
}
