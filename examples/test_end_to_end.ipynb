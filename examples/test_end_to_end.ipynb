{
 "cells": [
  {
   "cell_type": "markdown",
   "metadata": {},
   "source": [
    "# PSSM generation"
   ]
  },
  {
   "cell_type": "markdown",
   "metadata": {},
   "source": [
    "Generate PSSM files to extract evolutionary features. Using Mmseqs the process can be really fast.  \n",
    "\n",
    "However, I have found a problem (I don't know if it is an bug or not) in the program and created an issue to the Mmseqs team. So at the moment it is down."
   ]
  },
  {
   "cell_type": "code",
   "execution_count": 2,
   "metadata": {},
   "outputs": [],
   "source": [
    "from BioML.utilities.utils import MmseqsClustering"
   ]
  },
  {
   "cell_type": "code",
   "execution_count": 7,
   "metadata": {},
   "outputs": [],
   "source": [
    "fasta_file = \"../data/whole_sequence.fasta\""
   ]
  },
  {
   "cell_type": "code",
   "execution_count": 3,
   "metadata": {},
   "outputs": [
    {
     "name": "stdout",
     "output_type": "stream",
     "text": [
      "start running createdb\n",
      "It took 0.008338212966918945 second to run\n",
      "start running search\n",
      "It took 2.8009424209594727 second to run\n",
      "start running generate_profile\n",
      "It took 0.08434319496154785 second to run\n",
      "start running convert profile to pssm\n",
      "It took 0.04231381416320801 second to run\n"
     ]
    }
   ],
   "source": [
    "pssm_file = MmseqsClustering.easy_generate_pssm(input_file=fasta_file, database_input=fasta_file,\n",
    "output_database=\"../data/whole_sequence\", generate_searchdb=True, pssm_filename=\"esterase.pssm\")"
   ]
  },
  {
   "cell_type": "code",
   "execution_count": 4,
   "metadata": {},
   "outputs": [],
   "source": [
    "MmseqsClustering.split_pssm(pssm_file)"
   ]
  },
  {
   "cell_type": "markdown",
   "metadata": {},
   "source": [
    "# Extract Features"
   ]
  },
  {
   "cell_type": "markdown",
   "metadata": {},
   "source": [
    "There are several features to extract:\n",
    "   1. Physicochemical features from iFeatures https://github.com/Superzchen/iFeature\n",
    "   2. It might be great to incorporate other features the Lab is using like the Onehot encoding and the AA index\n",
    "   3. Evolutionary features using PSSM and Possum https://possum.erc.monash.edu/\n",
    "   4. Features or embeddings from Large language models \n",
    "\n",
    "Before substrate extraction you might want to clean the fast file of non canonical residues like X, U, B etc and to remove those shorter than 100 aamino acids for example"
   ]
  },
  {
   "cell_type": "code",
   "execution_count": 1,
   "metadata": {},
   "outputs": [],
   "source": [
    "from BioML.features.extraction import PossumFeatures, IfeatureFeatures, read_features\n",
    "from BioML.utilities.utils import clean_fasta"
   ]
  },
  {
   "cell_type": "code",
   "execution_count": 5,
   "metadata": {},
   "outputs": [
    {
     "name": "stdout",
     "output_type": "stream",
     "text": [
      "Success!\n",
      "The sequences shorter than 100 will be removed!\n",
      "Success!\n"
     ]
    }
   ],
   "source": [
    "clean_fasta(\"/home/ruite/Projects/enzyminer/POSSUM_Toolkit\", fasta_file, \"cleaned.fasta\", 100)\n",
    "fasta_file = \"cleaned.fasta\""
   ]
  },
  {
   "cell_type": "code",
   "execution_count": 18,
   "metadata": {},
   "outputs": [
    {
     "name": "stdout",
     "output_type": "stream",
     "text": [
      "iFeature features to be extracted: {'long': ['NMBroto', 'Moran', 'Geary'], 'short': ['CKSAAGP', 'PAAC', 'CTDD', 'GDPC', 'APAAC', 'GAAC', 'GTPC', 'SOCNumber', 'CTDT', 'KSCTriad', 'CTDC', 'CTriad', 'QSOrder']}\n"
     ]
    },
    {
     "name": "stdout",
     "output_type": "stream",
     "text": [
      "start running Ifeature programs\n",
      "It took 16.37057065963745 second to run\n"
     ]
    }
   ],
   "source": [
    "ifeatures = IfeatureFeatures(\"/home/ruite/Projects/enzyminer/iFeature\")\n",
    "ifeatures.extract(fasta_file)"
   ]
  },
  {
   "cell_type": "code",
   "execution_count": 4,
   "metadata": {},
   "outputs": [
    {
     "name": "stdout",
     "output_type": "stream",
     "text": [
      "Possum features to be extracted: {'long': ['tri_gram_pssm', 'pssm_cc'], 'short': ['edp', 'd_fpssm', 'rpssm', 'pssm_ac', 'pssm_composition', 'pse_pssm:2', 's_fpssm', 'pse_pssm:3', 'tpc', 'aac_pssm', 'smoothed_pssm:7', 'k_separated_bigrams_pssm', 'eedp', 'ab_pssm', 'smoothed_pssm:5', 'smoothed_pssm:9', 'dpc_pssm', 'rpm_pssm', 'dp_pssm', 'pse_pssm:1']}\n",
      "start running Possum programs\n",
      "It took 494.46776008605957 second to run\n"
     ]
    }
   ],
   "source": [
    "possum = PossumFeatures(pssm_dir=\"pssm\", program=\"/home/ruite/Projects/enzyminer/POSSUM_Toolkit\")\n",
    "possum.extract(fasta_file)"
   ]
  },
  {
   "cell_type": "markdown",
   "metadata": {},
   "source": [
    "##  LLM embeddings"
   ]
  },
  {
   "cell_type": "markdown",
   "metadata": {},
   "source": [
    "If you want you can easily generate large language model embeddings from models supported by Hugging Face's API"
   ]
  },
  {
   "cell_type": "code",
   "execution_count": 2,
   "metadata": {},
   "outputs": [],
   "source": [
    "from BioML.deep import embeddings"
   ]
  },
  {
   "cell_type": "code",
   "execution_count": 4,
   "metadata": {},
   "outputs": [],
   "source": [
    "embeddings.generate_embeddings(fasta_file, model_name=\"facebook/esm2_t6_8M_UR50D\", option=\"mean\", save_path=\"embeddings.csv\", mode=\"write\")"
   ]
  },
  {
   "cell_type": "markdown",
   "metadata": {},
   "source": [
    "## Feature selection"
   ]
  },
  {
   "cell_type": "markdown",
   "metadata": {},
   "source": [
    "If we combine features from multiple places the dimensions would be too high to handle, so normally ti would be wise to use some feature selection techniques: \n",
    "    1. Supervised: using Tree methods, Recursive feature elmination\n",
    "    2. Filter methods: Pearson correlation etc\n",
    "    3. TODO: Unsupervised methods like: PCA, ICA (independent component analysis)"
   ]
  },
  {
   "cell_type": "code",
   "execution_count": 2,
   "metadata": {},
   "outputs": [],
   "source": [
    "import pandas as pd\n",
    "from BioML.features import methods, selection"
   ]
  },
  {
   "cell_type": "code",
   "execution_count": 3,
   "metadata": {},
   "outputs": [],
   "source": [
    "ifeat = read_features(\"ifeature\", ifeature_out=\"ifeature_features\", file_splits=1)\n",
    "possum_feat = read_features(\"possum\", possum_out=\"possum_features\", file_splits=1, index=ifeat.index)\n",
    "emb = pd.read_csv(\"embeddings.csv\", index_col=0)"
   ]
  },
  {
   "cell_type": "code",
   "execution_count": 4,
   "metadata": {},
   "outputs": [
    {
     "data": {
      "text/plain": [
       "((320,), (2274,), (18730,))"
      ]
     },
     "execution_count": 4,
     "metadata": {},
     "output_type": "execute_result"
    }
   ],
   "source": [
    "emb.columns.shape, ifeat.columns.shape, possum_feat.columns.shape"
   ]
  },
  {
   "cell_type": "markdown",
   "metadata": {},
   "source": [
    "The DataReader function takes:\n",
    "* label in different formats: string, ndarray, a list of pd.Series.\n",
    "* It also takes features in different formats: a list, ndarray, dataframe, list of dataframes or a list of the different accepted formats and concatenates them\n",
    "\n",
    "It will automatically remove features with 0 variance (meaning every value is the same), you can control the threshold"
   ]
  },
  {
   "cell_type": "code",
   "execution_count": 5,
   "metadata": {},
   "outputs": [
    {
     "data": {
      "text/plain": [
       "Data with:\n",
       "    num. samples: 147\n",
       "    num. columns: 7096\n",
       "    variance threshold: 0.005\n",
       "    sheet: None"
      ]
     },
     "execution_count": 5,
     "metadata": {},
     "output_type": "execute_result"
    }
   ],
   "source": [
    "features = selection.DataReader(\"../data/esterase_labels.csv\", [ifeat, emb, possum_feat], variance_thres=0.005)\n",
    "features"
   ]
  },
  {
   "cell_type": "markdown",
   "metadata": {},
   "source": [
    "Depending on the problem you might use one of the feature selection classes: The name is quite self-explanatory.\n",
    "\n",
    "The get_range_features retuns a list of feature dimensions to extract and it will generate an excel file with those features, the number of sheets will be len(feature_range) * number of selection algorithms"
   ]
  },
  {
   "cell_type": "markdown",
   "metadata": {},
   "source": [
    "It will also output an plot of the feature importance with the shap package https://www.aidancooper.co.uk/a-non-technical-guide-to-interpreting-shap-analyses/"
   ]
  },
  {
   "cell_type": "code",
   "execution_count": 8,
   "metadata": {},
   "outputs": [
    {
     "data": {
      "text/plain": [
       "[13, 26, 39, 52, 65]"
      ]
     },
     "execution_count": 8,
     "metadata": {},
     "output_type": "execute_result"
    }
   ],
   "source": [
    "problem=\"classification\"\n",
    "feature_range = selection.get_range_features(features.features, num_features_min =None, num_features_max=65, step_range=None)\n",
    "feature_range"
   ]
  },
  {
   "cell_type": "code",
   "execution_count": 9,
   "metadata": {},
   "outputs": [
    {
     "name": "stderr",
     "output_type": "stream",
     "text": [
      "27-05-2024 09:56:38 INFO Reading the features\n",
      "27-05-2024 09:56:38 INFO Starting feature selection and using the following parameters\n",
      "27-05-2024 09:56:38 INFO seed: 10\n",
      "27-05-2024 09:56:38 INFO filtering the features\n"
     ]
    },
    {
     "name": "stdout",
     "output_type": "stream",
     "text": [
      "classification filter: mutual_info\n",
      "classification filter: Fscore\n",
      "classification filter: chi2\n",
      "classification filter: FechnerCorr\n",
      "classification filter: KendallCorr\n",
      "generating a feature set of 50 dimensions\n"
     ]
    },
    {
     "data": {
      "image/png": "[encoded data removed]",
      "text/plain": [
       "<Figure size 800x950 with 2 Axes>"
      ]
     },
     "metadata": {},
     "output_type": "display_data"
    }
   ],
   "source": [
    "\n",
    "filters = selection.FeatureSelection(\"filtered_features.xlsx\", num_thread=2, seed=10)\n",
    "# select features\n",
    "if problem == \"classification\":\n",
    "    select = selection.FeatureClassification(filters.seed, scaler=\"robust\", test_size=0.2)\n",
    "elif problem == \"regression\":\n",
    "    select = selection.FeatureRegression(filters.seed, scaler=\"robust\", test_size=0.2)\n",
    "feature_range = [50]\n",
    "select.construct_features(features.features, features.label, filters, feature_range)"
   ]
  },
  {
   "cell_type": "markdown",
   "metadata": {},
   "source": [
    "### Outlier detection"
   ]
  },
  {
   "cell_type": "markdown",
   "metadata": {},
   "source": [
    "You can also eliminate outliers in your dataset that could decrease model performance.\n",
    "Generally, if you have a lot of data outliers won't matter much\n",
    "You give it the filtered features:\n",
    "1. It also accepts different formats: excel files\n",
    "2. Pandas dataframe\n",
    "3. Series, ndarray\n",
    "4. csv file\n",
    "\n",
    "It leverages 10 different outlier detection algorithms and gives you a voting. If you give it an excel file where there are features on each sheet. It will use all of them."
   ]
  },
  {
   "cell_type": "code",
   "execution_count": 11,
   "metadata": {},
   "outputs": [],
   "source": [
    "from BioML.utilities.outlier import OutlierDetection"
   ]
  },
  {
   "cell_type": "code",
   "execution_count": 12,
   "metadata": {},
   "outputs": [
    {
     "name": "stdout",
     "output_type": "stream",
     "text": [
      "using FechnerCorr_50 for outlier calculations\n"
     ]
    },
    {
     "name": "stderr",
     "output_type": "stream",
     "text": [
      "[Parallel(n_jobs=4)]: Using backend LokyBackend with 4 concurrent workers.\n",
      "[Parallel(n_jobs=4)]: Done   2 out of   4 | elapsed:    1.2s remaining:    1.2s\n",
      "[Parallel(n_jobs=4)]: Done   4 out of   4 | elapsed:    1.2s finished\n"
     ]
    },
    {
     "name": "stdout",
     "output_type": "stream",
     "text": [
      "using rfe_50 for outlier calculations\n"
     ]
    },
    {
     "name": "stderr",
     "output_type": "stream",
     "text": [
      "[Parallel(n_jobs=4)]: Using backend LokyBackend with 4 concurrent workers.\n",
      "[Parallel(n_jobs=4)]: Done   4 out of   4 | elapsed:    0.0s finished\n"
     ]
    },
    {
     "name": "stdout",
     "output_type": "stream",
     "text": [
      "using KendallCorr_50 for outlier calculations\n"
     ]
    },
    {
     "name": "stderr",
     "output_type": "stream",
     "text": [
      "[Parallel(n_jobs=4)]: Using backend LokyBackend with 4 concurrent workers.\n",
      "[Parallel(n_jobs=4)]: Done   2 out of   4 | elapsed:    0.0s remaining:    0.0s\n",
      "[Parallel(n_jobs=4)]: Done   4 out of   4 | elapsed:    0.0s finished\n"
     ]
    },
    {
     "name": "stdout",
     "output_type": "stream",
     "text": [
      "using Fscore_50 for outlier calculations\n"
     ]
    },
    {
     "name": "stderr",
     "output_type": "stream",
     "text": [
      "[Parallel(n_jobs=4)]: Using backend LokyBackend with 4 concurrent workers.\n",
      "[Parallel(n_jobs=4)]: Done   1 out of   1 | elapsed:    0.0s finished\n",
      "[Parallel(n_jobs=4)]: Done   4 out of   4 | elapsed:    0.0s finished\n"
     ]
    },
    {
     "name": "stdout",
     "output_type": "stream",
     "text": [
      "using random_50 for outlier calculations\n"
     ]
    },
    {
     "name": "stderr",
     "output_type": "stream",
     "text": [
      "[Parallel(n_jobs=4)]: Using backend LokyBackend with 4 concurrent workers.\n",
      "[Parallel(n_jobs=4)]: Done   2 out of   4 | elapsed:    0.0s remaining:    0.0s\n",
      "[Parallel(n_jobs=4)]: Done   4 out of   4 | elapsed:    0.0s finished\n"
     ]
    },
    {
     "name": "stdout",
     "output_type": "stream",
     "text": [
      "using mutual_info_50 for outlier calculations\n"
     ]
    },
    {
     "name": "stderr",
     "output_type": "stream",
     "text": [
      "[Parallel(n_jobs=4)]: Using backend LokyBackend with 4 concurrent workers.\n",
      "[Parallel(n_jobs=4)]: Done   1 out of   1 | elapsed:    0.0s finished\n",
      "[Parallel(n_jobs=4)]: Done   2 out of   2 | elapsed:    0.0s finished\n",
      "[Parallel(n_jobs=4)]: Done   4 out of   4 | elapsed:    0.0s finished\n"
     ]
    },
    {
     "name": "stdout",
     "output_type": "stream",
     "text": [
      "using chi2_50 for outlier calculations\n"
     ]
    },
    {
     "name": "stderr",
     "output_type": "stream",
     "text": [
      "[Parallel(n_jobs=4)]: Using backend LokyBackend with 4 concurrent workers.\n",
      "[Parallel(n_jobs=4)]: Done   2 out of   4 | elapsed:    0.0s remaining:    0.0s\n",
      "[Parallel(n_jobs=4)]: Done   4 out of   4 | elapsed:    0.0s finished\n"
     ]
    },
    {
     "name": "stdout",
     "output_type": "stream",
     "text": [
      "using xgbtree_50 for outlier calculations\n",
      "saving the outlier file\n"
     ]
    },
    {
     "name": "stderr",
     "output_type": "stream",
     "text": [
      "[Parallel(n_jobs=4)]: Using backend LokyBackend with 4 concurrent workers.\n",
      "[Parallel(n_jobs=4)]: Done   2 out of   4 | elapsed:    0.0s remaining:    0.0s\n",
      "[Parallel(n_jobs=4)]: Done   4 out of   4 | elapsed:    0.0s finished\n"
     ]
    }
   ],
   "source": [
    "detection = OutlierDetection(\"filtered_features.xlsx\", num_thread=4)\n",
    "outliers = detection.run()"
   ]
  },
  {
   "cell_type": "code",
   "execution_count": 13,
   "metadata": {},
   "outputs": [
    {
     "data": {
      "text/plain": [
       "EH75(16)     64\n",
       "EH46(23)     61\n",
       "EH51(22)     43\n",
       "EH130(2)     37\n",
       "EH97(11)     32\n",
       "EH137(2)     28\n",
       "EH142(1)     28\n",
       "EH84(13)     22\n",
       "EH143(1)     19\n",
       "EH102(10)    16\n",
       "EH144(1)     14\n",
       "EH106(9)     13\n",
       "EH125(4)     12\n",
       "EH82(14)      8\n",
       "EH35(29)      8\n",
       "EH57(21)      8\n",
       "EH89(13)      7\n",
       "EH70(18)      7\n",
       "EH80(14)      7\n",
       "EH44(25)      7\n",
       "dtype: int64"
      ]
     },
     "execution_count": 13,
     "metadata": {},
     "output_type": "execute_result"
    }
   ],
   "source": [
    "outliers.head(20)"
   ]
  },
  {
   "cell_type": "markdown",
   "metadata": {},
   "source": [
    "## Custom splitting based on 30% sequence identity"
   ]
  },
  {
   "cell_type": "markdown",
   "metadata": {},
   "source": [
    "It is recommended to split based on sequence identity so that the training, test or validation sets doesn't have sequence with more than 30% sequence identity.\n",
    "You can use mmseqs to generate such clusters"
   ]
  },
  {
   "cell_type": "code",
   "execution_count": 6,
   "metadata": {},
   "outputs": [],
   "source": [
    "from BioML.utilities.utils import MmseqsClustering\n",
    "from BioML.utilities.split_methods import ClusterSpliter\n",
    "from BioML.models.base import DataParser\n",
    "import pandas as pd\n",
    "from sklearn.model_selection import train_test_split\n",
    "from pathlib import Path"
   ]
  },
  {
   "cell_type": "markdown",
   "metadata": {},
   "source": [
    "Generate different clusters of sequences based on an identity threshold of 30%.\n",
    "It creates a cluster.tsv file. This tsv file has the first column the clusters names (which should be the same one as the features indices) and in the second column the idex of the sequence that resides within that cluster.  \n",
    "\n",
    "For example: This means EH2(71) is a cluster with 3 sequences that share more than 30% sequence identity.\n",
    "\n",
    "* EH2(71)\tEH2(71)\n",
    "* EH2(71)\tEH4(67)\n",
    "* EH2(71)\tEH14(48)\n",
    "\n",
    "This technique is actually very flexible, you can generate manually a cluster file if you want to customize the way you want to split your data into training and testing splits"
   ]
  },
  {
   "cell_type": "code",
   "execution_count": 8,
   "metadata": {},
   "outputs": [
    {
     "name": "stdout",
     "output_type": "stream",
     "text": [
      "start running cluster\n",
      "It took 0.0032303333282470703 second to run\n",
      "start running create tsv\n",
      "It took 0.023415327072143555 second to run\n"
     ]
    }
   ],
   "source": [
    "cluster = MmseqsClustering.easy_cluster(fasta_file, cluster_at_sequence_identity=0.3)"
   ]
  },
  {
   "cell_type": "markdown",
   "metadata": {},
   "source": [
    "Now split based on this sequence identity cluster, the clusters can use strings or numbers as long as it is the same as the index of feautures dataframe.  \n",
    "But if they are different, meaning the cluster tsv has cluster names different to the index of the dataframe, there is an additional index argument in the split and train_test_split function that accepts a list with the same shape as the dataframe where the elements should have the same names as in the cluster file"
   ]
  },
  {
   "cell_type": "markdown",
   "metadata": {},
   "source": [
    "The Dataparser returns a dataframe with the labels already in the same dataframe, which is why we don't need the y_train and the y_test.\n",
    "This is how Pycaret likes it (the library used by BioML to train machine learning models) \n",
    "\n",
    "Here I'm only using one of the sheets for this example, but we don't know which of the sheets would perform better so we might need to iterate through the sheets, train the models and collect the performance to know which sheet perfoms better"
   ]
  },
  {
   "cell_type": "code",
   "execution_count": 7,
   "metadata": {},
   "outputs": [],
   "source": [
    "split = ClusterSpliter(\"cluster.tsv\", num_splits=5, random_state=100, stratified=True)\n",
    "data = DataParser(\"filtered_features.xlsx\", \"../data/esterase_labels.csv\", sheets=\"chi2_50\")\n",
    "X_train, X_test, _, _ = split.train_test_split(data.features, data.features[data.label])"
   ]
  },
  {
   "cell_type": "code",
   "execution_count": 10,
   "metadata": {},
   "outputs": [
    {
     "data": {
      "text/html": [
       "<div>\n",
       "<style scoped>\n",
       "    .dataframe tbody tr th:only-of-type {\n",
       "        vertical-align: middle;\n",
       "    }\n",
       "\n",
       "    .dataframe tbody tr th {\n",
       "        vertical-align: top;\n",
       "    }\n",
       "\n",
       "    .dataframe thead th {\n",
       "        text-align: right;\n",
       "    }\n",
       "</style>\n",
       "<table border=\"1\" class=\"dataframe\">\n",
       "  <thead>\n",
       "    <tr style=\"text-align: right;\">\n",
       "      <th></th>\n",
       "      <th>hydrophobicity_ARGP820101.3.residue25_CTDD</th>\n",
       "      <th>hydrophobicity_PONP930101.2.residue25_CTDD</th>\n",
       "      <th>hydrophobicity_CASG920101.2.residue75_CTDD</th>\n",
       "      <th>normwaalsvolume.3.residue50_CTDD</th>\n",
       "      <th>polarizability.2.residue75_CTDD</th>\n",
       "      <th>polarizability.3.residue50_CTDD</th>\n",
       "      <th>charge.1.residue25_CTDD</th>\n",
       "      <th>charge.3.residue75_CTDD</th>\n",
       "      <th>secondarystruct.3.residue50_CTDD</th>\n",
       "      <th>solventaccess.1.residue75_CTDD</th>\n",
       "      <th>...</th>\n",
       "      <th>k_separated_bigrams_pssm57</th>\n",
       "      <th>k_separated_bigrams_pssm69</th>\n",
       "      <th>k_separated_bigrams_pssm71</th>\n",
       "      <th>k_separated_bigrams_pssm87</th>\n",
       "      <th>k_separated_bigrams_pssm89</th>\n",
       "      <th>k_separated_bigrams_pssm103</th>\n",
       "      <th>k_separated_bigrams_pssm106</th>\n",
       "      <th>k_separated_bigrams_pssm108</th>\n",
       "      <th>k_separated_bigrams_pssm111</th>\n",
       "      <th>target</th>\n",
       "    </tr>\n",
       "  </thead>\n",
       "  <tbody>\n",
       "    <tr>\n",
       "      <th>EH111(8)</th>\n",
       "      <td>28.063241</td>\n",
       "      <td>28.853755</td>\n",
       "      <td>72.727273</td>\n",
       "      <td>44.664032</td>\n",
       "      <td>75.494071</td>\n",
       "      <td>44.664032</td>\n",
       "      <td>22.134387</td>\n",
       "      <td>75.889328</td>\n",
       "      <td>45.849802</td>\n",
       "      <td>71.146245</td>\n",
       "      <td>...</td>\n",
       "      <td>0.1139</td>\n",
       "      <td>0.5774</td>\n",
       "      <td>0.7877</td>\n",
       "      <td>0.1619</td>\n",
       "      <td>0.1598</td>\n",
       "      <td>0.5521</td>\n",
       "      <td>0.4948</td>\n",
       "      <td>0.1810</td>\n",
       "      <td>0.4380</td>\n",
       "      <td>0</td>\n",
       "    </tr>\n",
       "    <tr>\n",
       "      <th>EH15(42)</th>\n",
       "      <td>27.303754</td>\n",
       "      <td>30.034130</td>\n",
       "      <td>73.037543</td>\n",
       "      <td>43.344710</td>\n",
       "      <td>78.156997</td>\n",
       "      <td>43.344710</td>\n",
       "      <td>23.549488</td>\n",
       "      <td>81.911263</td>\n",
       "      <td>49.829352</td>\n",
       "      <td>77.815700</td>\n",
       "      <td>...</td>\n",
       "      <td>0.0637</td>\n",
       "      <td>0.5453</td>\n",
       "      <td>0.3697</td>\n",
       "      <td>0.2851</td>\n",
       "      <td>0.1417</td>\n",
       "      <td>0.3553</td>\n",
       "      <td>0.3478</td>\n",
       "      <td>0.2033</td>\n",
       "      <td>0.1990</td>\n",
       "      <td>1</td>\n",
       "    </tr>\n",
       "    <tr>\n",
       "      <th>EH117(6)</th>\n",
       "      <td>24.197002</td>\n",
       "      <td>26.766595</td>\n",
       "      <td>73.875803</td>\n",
       "      <td>43.683084</td>\n",
       "      <td>79.871520</td>\n",
       "      <td>43.683084</td>\n",
       "      <td>22.269807</td>\n",
       "      <td>79.657388</td>\n",
       "      <td>47.109208</td>\n",
       "      <td>74.089936</td>\n",
       "      <td>...</td>\n",
       "      <td>0.3316</td>\n",
       "      <td>1.4192</td>\n",
       "      <td>1.3787</td>\n",
       "      <td>0.2621</td>\n",
       "      <td>0.2442</td>\n",
       "      <td>0.9034</td>\n",
       "      <td>0.9543</td>\n",
       "      <td>0.4614</td>\n",
       "      <td>0.7471</td>\n",
       "      <td>0</td>\n",
       "    </tr>\n",
       "    <tr>\n",
       "      <th>EH11(53)</th>\n",
       "      <td>20.322581</td>\n",
       "      <td>29.677419</td>\n",
       "      <td>71.290323</td>\n",
       "      <td>60.322581</td>\n",
       "      <td>75.483871</td>\n",
       "      <td>60.322581</td>\n",
       "      <td>20.967742</td>\n",
       "      <td>72.903226</td>\n",
       "      <td>48.387097</td>\n",
       "      <td>78.064516</td>\n",
       "      <td>...</td>\n",
       "      <td>0.0728</td>\n",
       "      <td>0.6276</td>\n",
       "      <td>0.3115</td>\n",
       "      <td>0.1717</td>\n",
       "      <td>0.1582</td>\n",
       "      <td>0.4158</td>\n",
       "      <td>0.3956</td>\n",
       "      <td>0.1666</td>\n",
       "      <td>0.1521</td>\n",
       "      <td>1</td>\n",
       "    </tr>\n",
       "    <tr>\n",
       "      <th>EH135(2)</th>\n",
       "      <td>20.996441</td>\n",
       "      <td>27.402135</td>\n",
       "      <td>72.953737</td>\n",
       "      <td>49.110320</td>\n",
       "      <td>74.377224</td>\n",
       "      <td>49.110320</td>\n",
       "      <td>20.284698</td>\n",
       "      <td>74.377224</td>\n",
       "      <td>43.060498</td>\n",
       "      <td>76.868327</td>\n",
       "      <td>...</td>\n",
       "      <td>0.3491</td>\n",
       "      <td>0.6415</td>\n",
       "      <td>0.7879</td>\n",
       "      <td>0.6351</td>\n",
       "      <td>0.1436</td>\n",
       "      <td>0.5461</td>\n",
       "      <td>0.4663</td>\n",
       "      <td>0.3078</td>\n",
       "      <td>0.4083</td>\n",
       "      <td>0</td>\n",
       "    </tr>\n",
       "    <tr>\n",
       "      <th>...</th>\n",
       "      <td>...</td>\n",
       "      <td>...</td>\n",
       "      <td>...</td>\n",
       "      <td>...</td>\n",
       "      <td>...</td>\n",
       "      <td>...</td>\n",
       "      <td>...</td>\n",
       "      <td>...</td>\n",
       "      <td>...</td>\n",
       "      <td>...</td>\n",
       "      <td>...</td>\n",
       "      <td>...</td>\n",
       "      <td>...</td>\n",
       "      <td>...</td>\n",
       "      <td>...</td>\n",
       "      <td>...</td>\n",
       "      <td>...</td>\n",
       "      <td>...</td>\n",
       "      <td>...</td>\n",
       "      <td>...</td>\n",
       "      <td>...</td>\n",
       "    </tr>\n",
       "    <tr>\n",
       "      <th>EH86(13)</th>\n",
       "      <td>29.702970</td>\n",
       "      <td>27.722772</td>\n",
       "      <td>78.217822</td>\n",
       "      <td>46.864686</td>\n",
       "      <td>73.267327</td>\n",
       "      <td>46.864686</td>\n",
       "      <td>7.590759</td>\n",
       "      <td>75.577558</td>\n",
       "      <td>46.534653</td>\n",
       "      <td>75.247525</td>\n",
       "      <td>...</td>\n",
       "      <td>0.0844</td>\n",
       "      <td>0.5655</td>\n",
       "      <td>0.3234</td>\n",
       "      <td>0.1575</td>\n",
       "      <td>0.1448</td>\n",
       "      <td>0.3873</td>\n",
       "      <td>0.3416</td>\n",
       "      <td>0.1721</td>\n",
       "      <td>0.1593</td>\n",
       "      <td>0</td>\n",
       "    </tr>\n",
       "    <tr>\n",
       "      <th>EH102(10)</th>\n",
       "      <td>23.041475</td>\n",
       "      <td>20.276498</td>\n",
       "      <td>78.341014</td>\n",
       "      <td>49.308756</td>\n",
       "      <td>77.419355</td>\n",
       "      <td>49.308756</td>\n",
       "      <td>24.423963</td>\n",
       "      <td>66.820276</td>\n",
       "      <td>38.709677</td>\n",
       "      <td>77.419355</td>\n",
       "      <td>...</td>\n",
       "      <td>0.1108</td>\n",
       "      <td>0.7417</td>\n",
       "      <td>0.7898</td>\n",
       "      <td>0.2392</td>\n",
       "      <td>0.1605</td>\n",
       "      <td>0.4444</td>\n",
       "      <td>0.4739</td>\n",
       "      <td>0.1667</td>\n",
       "      <td>0.4562</td>\n",
       "      <td>0</td>\n",
       "    </tr>\n",
       "    <tr>\n",
       "      <th>EH66(19)</th>\n",
       "      <td>20.069204</td>\n",
       "      <td>22.491349</td>\n",
       "      <td>74.740484</td>\n",
       "      <td>49.826990</td>\n",
       "      <td>72.318339</td>\n",
       "      <td>49.826990</td>\n",
       "      <td>13.840830</td>\n",
       "      <td>80.968858</td>\n",
       "      <td>46.366782</td>\n",
       "      <td>75.778547</td>\n",
       "      <td>...</td>\n",
       "      <td>0.1602</td>\n",
       "      <td>0.7147</td>\n",
       "      <td>0.7956</td>\n",
       "      <td>0.2435</td>\n",
       "      <td>0.1459</td>\n",
       "      <td>0.6328</td>\n",
       "      <td>0.6648</td>\n",
       "      <td>0.2627</td>\n",
       "      <td>0.3109</td>\n",
       "      <td>0</td>\n",
       "    </tr>\n",
       "    <tr>\n",
       "      <th>EH23(34)</th>\n",
       "      <td>30.747126</td>\n",
       "      <td>26.149425</td>\n",
       "      <td>72.701149</td>\n",
       "      <td>45.689655</td>\n",
       "      <td>70.402299</td>\n",
       "      <td>45.689655</td>\n",
       "      <td>22.988506</td>\n",
       "      <td>79.022989</td>\n",
       "      <td>55.747126</td>\n",
       "      <td>70.402299</td>\n",
       "      <td>...</td>\n",
       "      <td>0.0797</td>\n",
       "      <td>0.7124</td>\n",
       "      <td>0.4266</td>\n",
       "      <td>0.2911</td>\n",
       "      <td>0.1478</td>\n",
       "      <td>0.4784</td>\n",
       "      <td>0.4949</td>\n",
       "      <td>0.2683</td>\n",
       "      <td>0.3029</td>\n",
       "      <td>1</td>\n",
       "    </tr>\n",
       "    <tr>\n",
       "      <th>EH8(63)</th>\n",
       "      <td>23.684211</td>\n",
       "      <td>22.222222</td>\n",
       "      <td>67.543860</td>\n",
       "      <td>43.567251</td>\n",
       "      <td>76.023392</td>\n",
       "      <td>43.567251</td>\n",
       "      <td>14.912281</td>\n",
       "      <td>79.239766</td>\n",
       "      <td>50.877193</td>\n",
       "      <td>72.514620</td>\n",
       "      <td>...</td>\n",
       "      <td>0.0873</td>\n",
       "      <td>0.6282</td>\n",
       "      <td>0.3276</td>\n",
       "      <td>0.1769</td>\n",
       "      <td>0.1602</td>\n",
       "      <td>0.4210</td>\n",
       "      <td>0.4027</td>\n",
       "      <td>0.1766</td>\n",
       "      <td>0.1915</td>\n",
       "      <td>1</td>\n",
       "    </tr>\n",
       "  </tbody>\n",
       "</table>\n",
       "<p>122 rows × 51 columns</p>\n",
       "</div>"
      ],
      "text/plain": [
       "           hydrophobicity_ARGP820101.3.residue25_CTDD  \\\n",
       "EH111(8)                                    28.063241   \n",
       "EH15(42)                                    27.303754   \n",
       "EH117(6)                                    24.197002   \n",
       "EH11(53)                                    20.322581   \n",
       "EH135(2)                                    20.996441   \n",
       "...                                               ...   \n",
       "EH86(13)                                    29.702970   \n",
       "EH102(10)                                   23.041475   \n",
       "EH66(19)                                    20.069204   \n",
       "EH23(34)                                    30.747126   \n",
       "EH8(63)                                     23.684211   \n",
       "\n",
       "           hydrophobicity_PONP930101.2.residue25_CTDD  \\\n",
       "EH111(8)                                    28.853755   \n",
       "EH15(42)                                    30.034130   \n",
       "EH117(6)                                    26.766595   \n",
       "EH11(53)                                    29.677419   \n",
       "EH135(2)                                    27.402135   \n",
       "...                                               ...   \n",
       "EH86(13)                                    27.722772   \n",
       "EH102(10)                                   20.276498   \n",
       "EH66(19)                                    22.491349   \n",
       "EH23(34)                                    26.149425   \n",
       "EH8(63)                                     22.222222   \n",
       "\n",
       "           hydrophobicity_CASG920101.2.residue75_CTDD  \\\n",
       "EH111(8)                                    72.727273   \n",
       "EH15(42)                                    73.037543   \n",
       "EH117(6)                                    73.875803   \n",
       "EH11(53)                                    71.290323   \n",
       "EH135(2)                                    72.953737   \n",
       "...                                               ...   \n",
       "EH86(13)                                    78.217822   \n",
       "EH102(10)                                   78.341014   \n",
       "EH66(19)                                    74.740484   \n",
       "EH23(34)                                    72.701149   \n",
       "EH8(63)                                     67.543860   \n",
       "\n",
       "           normwaalsvolume.3.residue50_CTDD  polarizability.2.residue75_CTDD  \\\n",
       "EH111(8)                          44.664032                        75.494071   \n",
       "EH15(42)                          43.344710                        78.156997   \n",
       "EH117(6)                          43.683084                        79.871520   \n",
       "EH11(53)                          60.322581                        75.483871   \n",
       "EH135(2)                          49.110320                        74.377224   \n",
       "...                                     ...                              ...   \n",
       "EH86(13)                          46.864686                        73.267327   \n",
       "EH102(10)                         49.308756                        77.419355   \n",
       "EH66(19)                          49.826990                        72.318339   \n",
       "EH23(34)                          45.689655                        70.402299   \n",
       "EH8(63)                           43.567251                        76.023392   \n",
       "\n",
       "           polarizability.3.residue50_CTDD  charge.1.residue25_CTDD  \\\n",
       "EH111(8)                         44.664032                22.134387   \n",
       "EH15(42)                         43.344710                23.549488   \n",
       "EH117(6)                         43.683084                22.269807   \n",
       "EH11(53)                         60.322581                20.967742   \n",
       "EH135(2)                         49.110320                20.284698   \n",
       "...                                    ...                      ...   \n",
       "EH86(13)                         46.864686                 7.590759   \n",
       "EH102(10)                        49.308756                24.423963   \n",
       "EH66(19)                         49.826990                13.840830   \n",
       "EH23(34)                         45.689655                22.988506   \n",
       "EH8(63)                          43.567251                14.912281   \n",
       "\n",
       "           charge.3.residue75_CTDD  secondarystruct.3.residue50_CTDD  \\\n",
       "EH111(8)                 75.889328                         45.849802   \n",
       "EH15(42)                 81.911263                         49.829352   \n",
       "EH117(6)                 79.657388                         47.109208   \n",
       "EH11(53)                 72.903226                         48.387097   \n",
       "EH135(2)                 74.377224                         43.060498   \n",
       "...                            ...                               ...   \n",
       "EH86(13)                 75.577558                         46.534653   \n",
       "EH102(10)                66.820276                         38.709677   \n",
       "EH66(19)                 80.968858                         46.366782   \n",
       "EH23(34)                 79.022989                         55.747126   \n",
       "EH8(63)                  79.239766                         50.877193   \n",
       "\n",
       "           solventaccess.1.residue75_CTDD  ...  k_separated_bigrams_pssm57  \\\n",
       "EH111(8)                        71.146245  ...                      0.1139   \n",
       "EH15(42)                        77.815700  ...                      0.0637   \n",
       "EH117(6)                        74.089936  ...                      0.3316   \n",
       "EH11(53)                        78.064516  ...                      0.0728   \n",
       "EH135(2)                        76.868327  ...                      0.3491   \n",
       "...                                   ...  ...                         ...   \n",
       "EH86(13)                        75.247525  ...                      0.0844   \n",
       "EH102(10)                       77.419355  ...                      0.1108   \n",
       "EH66(19)                        75.778547  ...                      0.1602   \n",
       "EH23(34)                        70.402299  ...                      0.0797   \n",
       "EH8(63)                         72.514620  ...                      0.0873   \n",
       "\n",
       "           k_separated_bigrams_pssm69  k_separated_bigrams_pssm71  \\\n",
       "EH111(8)                       0.5774                      0.7877   \n",
       "EH15(42)                       0.5453                      0.3697   \n",
       "EH117(6)                       1.4192                      1.3787   \n",
       "EH11(53)                       0.6276                      0.3115   \n",
       "EH135(2)                       0.6415                      0.7879   \n",
       "...                               ...                         ...   \n",
       "EH86(13)                       0.5655                      0.3234   \n",
       "EH102(10)                      0.7417                      0.7898   \n",
       "EH66(19)                       0.7147                      0.7956   \n",
       "EH23(34)                       0.7124                      0.4266   \n",
       "EH8(63)                        0.6282                      0.3276   \n",
       "\n",
       "           k_separated_bigrams_pssm87  k_separated_bigrams_pssm89  \\\n",
       "EH111(8)                       0.1619                      0.1598   \n",
       "EH15(42)                       0.2851                      0.1417   \n",
       "EH117(6)                       0.2621                      0.2442   \n",
       "EH11(53)                       0.1717                      0.1582   \n",
       "EH135(2)                       0.6351                      0.1436   \n",
       "...                               ...                         ...   \n",
       "EH86(13)                       0.1575                      0.1448   \n",
       "EH102(10)                      0.2392                      0.1605   \n",
       "EH66(19)                       0.2435                      0.1459   \n",
       "EH23(34)                       0.2911                      0.1478   \n",
       "EH8(63)                        0.1769                      0.1602   \n",
       "\n",
       "           k_separated_bigrams_pssm103  k_separated_bigrams_pssm106  \\\n",
       "EH111(8)                        0.5521                       0.4948   \n",
       "EH15(42)                        0.3553                       0.3478   \n",
       "EH117(6)                        0.9034                       0.9543   \n",
       "EH11(53)                        0.4158                       0.3956   \n",
       "EH135(2)                        0.5461                       0.4663   \n",
       "...                                ...                          ...   \n",
       "EH86(13)                        0.3873                       0.3416   \n",
       "EH102(10)                       0.4444                       0.4739   \n",
       "EH66(19)                        0.6328                       0.6648   \n",
       "EH23(34)                        0.4784                       0.4949   \n",
       "EH8(63)                         0.4210                       0.4027   \n",
       "\n",
       "           k_separated_bigrams_pssm108  k_separated_bigrams_pssm111  target  \n",
       "EH111(8)                        0.1810                       0.4380       0  \n",
       "EH15(42)                        0.2033                       0.1990       1  \n",
       "EH117(6)                        0.4614                       0.7471       0  \n",
       "EH11(53)                        0.1666                       0.1521       1  \n",
       "EH135(2)                        0.3078                       0.4083       0  \n",
       "...                                ...                          ...     ...  \n",
       "EH86(13)                        0.1721                       0.1593       0  \n",
       "EH102(10)                       0.1667                       0.4562       0  \n",
       "EH66(19)                        0.2627                       0.3109       0  \n",
       "EH23(34)                        0.2683                       0.3029       1  \n",
       "EH8(63)                         0.1766                       0.1915       1  \n",
       "\n",
       "[122 rows x 51 columns]"
      ]
     },
     "execution_count": 10,
     "metadata": {},
     "output_type": "execute_result"
    }
   ],
   "source": [
    "X_train"
   ]
  },
  {
   "cell_type": "markdown",
   "metadata": {},
   "source": [
    "## Classification"
   ]
  },
  {
   "cell_type": "code",
   "execution_count": 1,
   "metadata": {},
   "outputs": [],
   "source": [
    "from BioML.models.classification import Classifier\n",
    "from BioML.models.base import PycaretInterface, Trainer\n",
    "from collections import defaultdict\n",
    "from functools import partial\n",
    "import pandas as pd\n",
    "import numpy as np"
   ]
  },
  {
   "cell_type": "code",
   "execution_count": 2,
   "metadata": {},
   "outputs": [],
   "source": [
    "plot = (\"learning\", \"confusion_matrix\", \"class_report\")"
   ]
  },
  {
   "cell_type": "markdown",
   "metadata": {},
   "source": [
    "There are 3 classes important for training machine learning models in BioML. The pycaretInterface which provides a thin layer between pycaret and BioML.\n",
    "Classifer or Regressor claases which has the training arguments used by the Trainer to perform classification or regression task.\n",
    "This modularity is similar to other machine learning framewoeks like pytorch-lightning and Hugging Face (of course theirs are more impressive)\n",
    "\n",
    "I recommend learning more about pycaret since it does many things: https://pycaret.readthedocs.io/en/latest/"
   ]
  },
  {
   "cell_type": "markdown",
   "metadata": {},
   "source": [
    "Currently there are 19 supported models, but you can supply your custom models as well as long as it is compatible with the scikit learn API. A fit and a predict or predict_proba methods "
   ]
  },
  {
   "cell_type": "code",
   "execution_count": 4,
   "metadata": {},
   "outputs": [
    {
     "name": "stderr",
     "output_type": "stream",
     "text": [
      "26-05-2024 20:53:21 INFO ------------------------------------------------------------------------------\n",
      "26-05-2024 20:53:21 INFO PycaretInterface parameters\n",
      "26-05-2024 20:53:21 INFO Seed: 250\n",
      "26-05-2024 20:53:21 INFO Budget time: 20\n",
      "26-05-2024 20:53:21 INFO The number of models to select: 3\n",
      "26-05-2024 20:53:21 INFO Output path: classification_training\n",
      "26-05-2024 20:53:21 INFO ----------------Trainer inputs-------------------------\n",
      "26-05-2024 20:53:21 INFO Number of kfolds: 5\n",
      "26-05-2024 20:53:21 INFO Number of retuning iterations: 50\n",
      "26-05-2024 20:53:21 INFO Test size: 0.2\n"
     ]
    }
   ],
   "source": [
    "experiment = PycaretInterface(\"classification\", 250, budget_time=20, best_model=3, \n",
    "                                  output_path=\"classification_training\", optimize=\"MCC\")\n",
    "classifier = Classifier(optimize=\"MCC\", drop=(), selected=(), add=())\n",
    "training = Trainer(experiment, classifier, num_splits=5, test_size=0.2,  num_iter=50)"
   ]
  },
  {
   "cell_type": "markdown",
   "metadata": {},
   "source": [
    "The results is a nested dictionary with the results for the different models, ensemble of models and stacking of the models.\n",
    "\n",
    "The models is another nested dictionary with the trained models\n"
   ]
  },
  {
   "cell_type": "code",
   "execution_count": 8,
   "metadata": {},
   "outputs": [
    {
     "name": "stderr",
     "output_type": "stream",
     "text": [
      "26-05-2024 20:53:37 INFO --------------------------------------------------------\n",
      "26-05-2024 20:53:37 INFO Training classification models\n",
      "26-05-2024 20:53:37 INFO The models used ['lr', 'knn', 'nb', 'dt', 'svm', 'rbfsvm', 'gpc', 'mlp', 'ridge', 'rf', 'qda', 'ada', 'gbc', 'lda', 'et', 'xgboost', 'lightgbm', 'catboost', 'dummy']\n",
      "26-05-2024 20:53:37 INFO The number of models used 19\n",
      "26-05-2024 20:53:37 INFO Time budget is 20 minutes\n",
      "26-05-2024 20:53:40 INFO Model ada trained in 0.045 minutes\n",
      "26-05-2024 20:53:42 INFO Model svm trained in 0.03 minutes\n",
      "26-05-2024 20:53:43 INFO Model ridge trained in 0.014 minutes\n",
      "26-05-2024 20:53:44 INFO Model xgboost trained in 0.017 minutes\n",
      "26-05-2024 20:53:44 INFO Model nb trained in 0.015 minutes\n",
      "26-05-2024 20:55:26 INFO Model lightgbm trained in 1.69 minutes\n",
      "26-05-2024 20:55:28 INFO Model gpc trained in 0.031 minutes\n",
      "26-05-2024 20:55:29 INFO Model knn trained in 0.017 minutes\n",
      "26-05-2024 20:55:30 INFO Model rbfsvm trained in 0.015 minutes\n",
      "26-05-2024 20:55:31 INFO Model gbc trained in 0.02 minutes\n",
      "26-05-2024 20:55:32 INFO Model dummy trained in 0.015 minutes\n",
      "26-05-2024 20:55:33 INFO Model dt trained in 0.014 minutes\n",
      "26-05-2024 20:55:34 INFO Model qda trained in 0.016 minutes\n",
      "26-05-2024 20:55:35 INFO Model rf trained in 0.024 minutes\n",
      "26-05-2024 20:55:53 INFO Model catboost trained in 0.303 minutes\n",
      "26-05-2024 20:55:55 INFO Model mlp trained in 0.025 minutes\n",
      "26-05-2024 20:55:56 INFO Model lr trained in 0.016 minutes\n",
      "26-05-2024 20:55:57 INFO Model lda trained in 0.017 minutes\n",
      "26-05-2024 20:55:58 INFO Model et trained in 0.022 minutes\n",
      "26-05-2024 20:55:58 INFO Training over: Total runtime 2.348 minutes\n",
      "26-05-2024 20:55:58 INFO Analyse the best models and plotting them\n",
      "26-05-2024 20:55:58 INFO Analyse the top 1 model: rbfsvm\n",
      "26-05-2024 20:56:00 INFO Analyse the top 2 model: ridge\n",
      "26-05-2024 20:56:01 INFO Analyse the top 3 model: lr\n",
      "26-05-2024 20:56:03 INFO --------Stacking the best models--------\n",
      "26-05-2024 20:56:03 INFO ----------Stacking the best models--------------\n",
      "26-05-2024 20:56:05 INFO --------Creating an ensemble model--------\n",
      "26-05-2024 20:56:05 INFO ----------Creating a majority voting model--------------\n",
      "26-05-2024 20:56:05 INFO fold: 5\n",
      "26-05-2024 20:56:05 INFO weights: None\n",
      "26-05-2024 20:56:06 INFO --------Retuning the best models--------\n",
      "26-05-2024 20:56:06 INFO Retuning rbfsvm\n",
      "26-05-2024 20:56:06 INFO ---------Retuning the best models--------------\n",
      "26-05-2024 20:56:06 INFO num_iter: 50\n",
      "26-05-2024 20:56:06 INFO fold: 5\n",
      "26-05-2024 20:56:18 INFO Retuning ridge\n",
      "26-05-2024 20:56:18 INFO ---------Retuning the best models--------------\n",
      "26-05-2024 20:56:18 INFO num_iter: 50\n",
      "26-05-2024 20:56:18 INFO fold: 5\n",
      "26-05-2024 20:56:30 INFO Retuning lr\n",
      "26-05-2024 20:56:30 INFO ---------Retuning the best models--------------\n",
      "26-05-2024 20:56:30 INFO num_iter: 50\n",
      "26-05-2024 20:56:30 INFO fold: 5\n",
      "26-05-2024 20:56:42 INFO --------Stacking the best models--------\n",
      "26-05-2024 20:56:42 INFO ----------Stacking the best models--------------\n",
      "26-05-2024 20:56:43 INFO --------Creating an ensemble model--------\n",
      "26-05-2024 20:56:43 INFO ----------Creating a majority voting model--------------\n",
      "26-05-2024 20:56:43 INFO fold: 5\n",
      "26-05-2024 20:56:43 INFO weights: None\n",
      "26-05-2024 20:56:44 INFO Analyse the best models and plotting them\n",
      "26-05-2024 20:56:44 INFO Analyse the top 1 model: rbfsvm\n",
      "26-05-2024 20:56:46 INFO Analyse the top 2 model: ridge\n",
      "26-05-2024 20:56:47 INFO Analyse the top 3 model: lr\n"
     ]
    }
   ],
   "source": [
    "results, models = training.generate_training_results(X_train, data.label, tune=True, test_data=X_test, fold_strategy=split)"
   ]
  },
  {
   "cell_type": "code",
   "execution_count": 17,
   "metadata": {},
   "outputs": [
    {
     "data": {
      "text/html": [
       "<div>\n",
       "<style scoped>\n",
       "    .dataframe tbody tr th:only-of-type {\n",
       "        vertical-align: middle;\n",
       "    }\n",
       "\n",
       "    .dataframe tbody tr th {\n",
       "        vertical-align: top;\n",
       "    }\n",
       "\n",
       "    .dataframe thead th {\n",
       "        text-align: right;\n",
       "    }\n",
       "</style>\n",
       "<table border=\"1\" class=\"dataframe\">\n",
       "  <thead>\n",
       "    <tr style=\"text-align: right;\">\n",
       "      <th></th>\n",
       "      <th></th>\n",
       "      <th></th>\n",
       "      <th>Accuracy</th>\n",
       "      <th>AUC</th>\n",
       "      <th>Recall</th>\n",
       "      <th>Prec.</th>\n",
       "      <th>F1</th>\n",
       "      <th>Kappa</th>\n",
       "      <th>MCC</th>\n",
       "      <th>Average Precision Score</th>\n",
       "    </tr>\n",
       "    <tr>\n",
       "      <th></th>\n",
       "      <th>Split</th>\n",
       "      <th>Fold</th>\n",
       "      <th></th>\n",
       "      <th></th>\n",
       "      <th></th>\n",
       "      <th></th>\n",
       "      <th></th>\n",
       "      <th></th>\n",
       "      <th></th>\n",
       "      <th></th>\n",
       "    </tr>\n",
       "  </thead>\n",
       "  <tbody>\n",
       "    <tr>\n",
       "      <th rowspan=\"4\" valign=\"top\">rbfsvm</th>\n",
       "      <th rowspan=\"2\" valign=\"top\">CV-Train</th>\n",
       "      <th>Mean</th>\n",
       "      <td>0.8977</td>\n",
       "      <td>0.9710</td>\n",
       "      <td>0.8223</td>\n",
       "      <td>0.9607</td>\n",
       "      <td>0.8858</td>\n",
       "      <td>0.7942</td>\n",
       "      <td>0.8024</td>\n",
       "      <td>0.9742</td>\n",
       "    </tr>\n",
       "    <tr>\n",
       "      <th>Std</th>\n",
       "      <td>0.0115</td>\n",
       "      <td>0.0066</td>\n",
       "      <td>0.0272</td>\n",
       "      <td>0.0112</td>\n",
       "      <td>0.0146</td>\n",
       "      <td>0.0234</td>\n",
       "      <td>0.0211</td>\n",
       "      <td>0.0060</td>\n",
       "    </tr>\n",
       "    <tr>\n",
       "      <th rowspan=\"2\" valign=\"top\">CV-Val</th>\n",
       "      <th>Mean</th>\n",
       "      <td>0.7565</td>\n",
       "      <td>0.7831</td>\n",
       "      <td>0.6638</td>\n",
       "      <td>0.8219</td>\n",
       "      <td>0.7267</td>\n",
       "      <td>0.5076</td>\n",
       "      <td>0.5245</td>\n",
       "      <td>0.8311</td>\n",
       "    </tr>\n",
       "    <tr>\n",
       "      <th>Std</th>\n",
       "      <td>0.0626</td>\n",
       "      <td>0.0433</td>\n",
       "      <td>0.0747</td>\n",
       "      <td>0.1189</td>\n",
       "      <td>0.0589</td>\n",
       "      <td>0.1245</td>\n",
       "      <td>0.1330</td>\n",
       "      <td>0.0532</td>\n",
       "    </tr>\n",
       "    <tr>\n",
       "      <th>ridge</th>\n",
       "      <th>CV-Train</th>\n",
       "      <th>Mean</th>\n",
       "      <td>0.9365</td>\n",
       "      <td>0.9769</td>\n",
       "      <td>0.9110</td>\n",
       "      <td>0.9559</td>\n",
       "      <td>0.9327</td>\n",
       "      <td>0.8727</td>\n",
       "      <td>0.8740</td>\n",
       "      <td>0.0000</td>\n",
       "    </tr>\n",
       "  </tbody>\n",
       "</table>\n",
       "</div>"
      ],
      "text/plain": [
       "                      Accuracy     AUC  Recall   Prec.      F1   Kappa  \\\n",
       "       Split    Fold                                                     \n",
       "rbfsvm CV-Train Mean    0.8977  0.9710  0.8223  0.9607  0.8858  0.7942   \n",
       "                Std     0.0115  0.0066  0.0272  0.0112  0.0146  0.0234   \n",
       "       CV-Val   Mean    0.7565  0.7831  0.6638  0.8219  0.7267  0.5076   \n",
       "                Std     0.0626  0.0433  0.0747  0.1189  0.0589  0.1245   \n",
       "ridge  CV-Train Mean    0.9365  0.9769  0.9110  0.9559  0.9327  0.8727   \n",
       "\n",
       "                         MCC  Average Precision Score  \n",
       "       Split    Fold                                   \n",
       "rbfsvm CV-Train Mean  0.8024                   0.9742  \n",
       "                Std   0.0211                   0.0060  \n",
       "       CV-Val   Mean  0.5245                   0.8311  \n",
       "                Std   0.1330                   0.0532  \n",
       "ridge  CV-Train Mean  0.8740                   0.0000  "
      ]
     },
     "execution_count": 17,
     "metadata": {},
     "output_type": "execute_result"
    }
   ],
   "source": [
    "results[\"not_tuned\"][\"holdout\"][0].head()"
   ]
  },
  {
   "cell_type": "markdown",
   "metadata": {},
   "source": [
    "Then if we want we can generate the predictions for the test or holdout set by providing with the trained models and finally we save noth the training and the test set results"
   ]
  },
  {
   "cell_type": "code",
   "execution_count": 9,
   "metadata": {},
   "outputs": [],
   "source": [
    "test_set_predictions = training.generate_holdout_prediction(models)"
   ]
  },
  {
   "cell_type": "code",
   "execution_count": 12,
   "metadata": {},
   "outputs": [],
   "source": [
    "training_output = \"classification_results\"\n",
    "l = []\n",
    "for tune_status, result_dict in results.items():\n",
    "    for key, value in result_dict.items():\n",
    "        write_results(f\"{training_output}/{tune_status}\", *value, sheet_name=key)\n",
    "    write_results(f\"{training_output}/{tune_status}\", test_set_predictions[tune_status] , sheet_name=f\"test_results\")"
   ]
  },
  {
   "cell_type": "markdown",
   "metadata": {},
   "source": [
    "This is an example of using one feature set, but if you had various features sets that you want to test you could use iterate_excel from the utilities and the iterate_multiple_features method from Trainer.\n",
    "\n",
    "The method accepts an iterator of (feature dataframe, label column name, name): \n",
    "    1. name is used to identify the features later in the results\n",
    "    2. feature dataframe should contain a column with teh labels\n",
    "    3. label column name within the feature dataframe\n",
    "\n",
    "Then it calls the run_training method from the Trainer iteratively and gathers performance metrics for different sheets.\n",
    "run_training only runs the models without tuning, stacking or esembling.\n",
    "Finally it write the results for each sheet\n",
    "\n",
    "Once you have picked the best performing sheet you could run again the previous steps then perform tuning, stacking and ensembling\n",
    "\n",
    "Iterate excel reads all the sheets from an excel and yields (feature dataframe, label column name, sheet)"
   ]
  },
  {
   "cell_type": "code",
   "execution_count": 3,
   "metadata": {},
   "outputs": [],
   "source": [
    "from BioML.utilities.utils import write_results, iterate_excel\n",
    "from BioML.models.base import DataParser"
   ]
  },
  {
   "cell_type": "code",
   "execution_count": 4,
   "metadata": {},
   "outputs": [
    {
     "name": "stderr",
     "output_type": "stream",
     "text": [
      "26-05-2024 21:40:26 INFO ------------------------------------------------------------------------------\n",
      "26-05-2024 21:40:26 INFO PycaretInterface parameters\n",
      "26-05-2024 21:40:26 INFO Seed: 250\n",
      "26-05-2024 21:40:26 INFO Budget time: 20\n",
      "26-05-2024 21:40:26 INFO The number of models to select: 3\n",
      "26-05-2024 21:40:26 INFO Output path: classification_results\n",
      "26-05-2024 21:40:26 INFO ----------------Trainer inputs-------------------------\n",
      "26-05-2024 21:40:26 INFO Number of kfolds: 5\n",
      "26-05-2024 21:40:26 INFO Number of retuning iterations: 50\n",
      "26-05-2024 21:40:26 INFO Test size: 0.2\n"
     ]
    }
   ],
   "source": [
    "experiment = PycaretInterface(\"classification\", 250, budget_time=20, best_model=3, \n",
    "                                  output_path=\"classification_results\", optimize=\"MCC\")\n",
    "classifier = Classifier(optimize=\"MCC\", drop=(), selected=(), add=())\n",
    "training = Trainer(experiment, classifier, num_splits=5, test_size=0.2,  num_iter=50)"
   ]
  },
  {
   "cell_type": "code",
   "execution_count": 5,
   "metadata": {},
   "outputs": [
    {
     "name": "stderr",
     "output_type": "stream",
     "text": [
      "26-05-2024 21:40:29 INFO --------------------------------------------------------\n",
      "26-05-2024 21:40:29 INFO Training classification models\n",
      "26-05-2024 21:40:29 INFO The models used ['lr', 'knn', 'nb', 'dt', 'svm', 'rbfsvm', 'gpc', 'mlp', 'ridge', 'rf', 'qda', 'ada', 'gbc', 'lda', 'et', 'xgboost', 'lightgbm', 'catboost', 'dummy']\n",
      "26-05-2024 21:40:29 INFO The number of models used 19\n",
      "26-05-2024 21:40:29 INFO Time budget is 20 minutes\n",
      "26-05-2024 21:40:31 INFO Model ada trained in 0.046 minutes\n",
      "26-05-2024 21:40:33 INFO Model svm trained in 0.03 minutes\n",
      "26-05-2024 21:40:34 INFO Model ridge trained in 0.014 minutes\n",
      "26-05-2024 21:40:35 INFO Model xgboost trained in 0.016 minutes\n",
      "26-05-2024 21:40:36 INFO Model nb trained in 0.014 minutes\n",
      "26-05-2024 21:42:13 INFO Model lightgbm trained in 1.623 minutes\n",
      "26-05-2024 21:42:15 INFO Model gpc trained in 0.029 minutes\n",
      "26-05-2024 21:42:16 INFO Model knn trained in 0.018 minutes\n",
      "26-05-2024 21:42:17 INFO Model rbfsvm trained in 0.016 minutes\n",
      "26-05-2024 21:42:18 INFO Model gbc trained in 0.025 minutes\n",
      "26-05-2024 21:42:19 INFO Model dummy trained in 0.016 minutes\n",
      "26-05-2024 21:42:20 INFO Model dt trained in 0.016 minutes\n",
      "26-05-2024 21:42:21 INFO Model qda trained in 0.017 minutes\n",
      "26-05-2024 21:42:23 INFO Model rf trained in 0.027 minutes\n",
      "26-05-2024 21:42:38 INFO Model catboost trained in 0.243 minutes\n",
      "26-05-2024 21:42:39 INFO Model mlp trained in 0.029 minutes\n",
      "26-05-2024 21:42:40 INFO Model lr trained in 0.016 minutes\n",
      "26-05-2024 21:42:41 INFO Model lda trained in 0.017 minutes\n",
      "26-05-2024 21:42:43 INFO Model et trained in 0.024 minutes\n",
      "26-05-2024 21:42:43 INFO Training over: Total runtime 2.238 minutes\n",
      "26-05-2024 21:42:44 INFO --------------------------------------------------------\n",
      "26-05-2024 21:42:44 INFO Training classification models\n",
      "26-05-2024 21:42:44 INFO The models used ['ada', 'svm', 'ridge', 'xgboost', 'nb', 'lightgbm', 'gpc', 'knn', 'rbfsvm', 'gbc', 'dummy', 'dt', 'qda', 'rf', 'catboost', 'mlp', 'lr', 'lda', 'et']\n",
      "26-05-2024 21:42:44 INFO The number of models used 19\n",
      "26-05-2024 21:42:44 INFO Time budget is 20 minutes\n",
      "26-05-2024 21:42:45 INFO Model dt trained in 0.016 minutes\n",
      "26-05-2024 21:42:46 INFO Model nb trained in 0.015 minutes\n",
      "26-05-2024 21:42:47 INFO Model rbfsvm trained in 0.016 minutes\n",
      "26-05-2024 21:42:49 INFO Model mlp trained in 0.034 minutes\n",
      "26-05-2024 21:42:50 INFO Model ridge trained in 0.016 minutes\n",
      "26-05-2024 21:42:51 INFO Model lr trained in 0.016 minutes\n",
      "26-05-2024 21:42:52 INFO Model gpc trained in 0.025 minutes\n",
      "26-05-2024 21:42:53 INFO Model svm trained in 0.016 minutes\n",
      "26-05-2024 21:44:34 INFO Model lightgbm trained in 1.676 minutes\n",
      "26-05-2024 21:44:35 INFO Model qda trained in 0.016 minutes\n",
      "26-05-2024 21:44:36 INFO Model et trained in 0.023 minutes\n",
      "26-05-2024 21:44:37 INFO Model xgboost trained in 0.019 minutes\n",
      "26-05-2024 21:44:38 INFO Model dummy trained in 0.015 minutes\n",
      "26-05-2024 21:44:39 INFO Model gbc trained in 0.024 minutes\n",
      "26-05-2024 21:44:40 INFO Model lda trained in 0.016 minutes\n",
      "26-05-2024 21:44:41 INFO Model knn trained in 0.015 minutes\n",
      "26-05-2024 21:44:42 INFO Model ada trained in 0.02 minutes\n",
      "26-05-2024 21:44:44 INFO Model rf trained in 0.024 minutes\n",
      "26-05-2024 21:44:58 INFO Model catboost trained in 0.242 minutes\n",
      "26-05-2024 21:44:58 INFO Training over: Total runtime 2.244 minutes\n",
      "26-05-2024 21:44:59 INFO --------------------------------------------------------\n",
      "26-05-2024 21:44:59 INFO Training classification models\n",
      "26-05-2024 21:44:59 INFO The models used ['dt', 'nb', 'rbfsvm', 'mlp', 'ridge', 'lr', 'gpc', 'svm', 'lightgbm', 'qda', 'et', 'xgboost', 'dummy', 'gbc', 'lda', 'knn', 'ada', 'rf', 'catboost']\n",
      "26-05-2024 21:44:59 INFO The number of models used 19\n",
      "26-05-2024 21:44:59 INFO Time budget is 20 minutes\n",
      "26-05-2024 21:45:01 INFO Model xgboost trained in 0.019 minutes\n",
      "26-05-2024 21:45:01 INFO Model ridge trained in 0.015 minutes\n",
      "26-05-2024 21:46:38 INFO Model lightgbm trained in 1.612 minutes\n",
      "26-05-2024 21:46:39 INFO Model knn trained in 0.016 minutes\n",
      "26-05-2024 21:46:40 INFO Model rbfsvm trained in 0.015 minutes\n",
      "26-05-2024 21:46:41 INFO Model ada trained in 0.02 minutes\n",
      "26-05-2024 21:46:43 INFO Model gpc trained in 0.029 minutes\n",
      "26-05-2024 21:46:44 INFO Model nb trained in 0.015 minutes\n",
      "26-05-2024 21:46:45 INFO Model lr trained in 0.015 minutes\n",
      "26-05-2024 21:46:46 INFO Model dummy trained in 0.015 minutes\n",
      "26-05-2024 21:46:59 INFO Model catboost trained in 0.216 minutes\n",
      "26-05-2024 21:47:00 INFO Model mlp trained in 0.023 minutes\n",
      "26-05-2024 21:47:01 INFO Model et trained in 0.022 minutes\n",
      "26-05-2024 21:47:02 INFO Model qda trained in 0.016 minutes\n",
      "26-05-2024 21:47:04 INFO Model rf trained in 0.023 minutes\n",
      "26-05-2024 21:47:05 INFO Model svm trained in 0.015 minutes\n",
      "26-05-2024 21:47:05 INFO Model dt trained in 0.015 minutes\n",
      "26-05-2024 21:47:07 INFO Model gbc trained in 0.024 minutes\n",
      "26-05-2024 21:47:08 INFO Model lda trained in 0.016 minutes\n",
      "26-05-2024 21:47:08 INFO Training over: Total runtime 2.141 minutes\n",
      "26-05-2024 21:47:09 INFO --------------------------------------------------------\n",
      "26-05-2024 21:47:09 INFO Training classification models\n",
      "26-05-2024 21:47:09 INFO The models used ['xgboost', 'ridge', 'lightgbm', 'knn', 'rbfsvm', 'ada', 'gpc', 'nb', 'lr', 'dummy', 'catboost', 'mlp', 'et', 'qda', 'rf', 'svm', 'dt', 'gbc', 'lda']\n",
      "26-05-2024 21:47:09 INFO The number of models used 19\n",
      "26-05-2024 21:47:09 INFO Time budget is 20 minutes\n",
      "26-05-2024 21:47:10 INFO Model mlp trained in 0.028 minutes\n",
      "26-05-2024 21:47:11 INFO Model rbfsvm trained in 0.015 minutes\n",
      "26-05-2024 21:47:12 INFO Model lr trained in 0.015 minutes\n",
      "26-05-2024 21:47:13 INFO Model svm trained in 0.015 minutes\n",
      "26-05-2024 21:48:52 INFO Model lightgbm trained in 1.652 minutes\n",
      "26-05-2024 21:48:53 INFO Model dt trained in 0.015 minutes\n",
      "26-05-2024 21:48:55 INFO Model gpc trained in 0.023 minutes\n",
      "26-05-2024 21:48:55 INFO Model ridge trained in 0.014 minutes\n",
      "26-05-2024 21:48:57 INFO Model ada trained in 0.019 minutes\n",
      "26-05-2024 21:48:58 INFO Model et trained in 0.021 minutes\n",
      "26-05-2024 21:48:59 INFO Model lda trained in 0.015 minutes\n",
      "26-05-2024 21:49:00 INFO Model knn trained in 0.015 minutes\n",
      "26-05-2024 21:49:13 INFO Model catboost trained in 0.23 minutes\n",
      "26-05-2024 21:49:14 INFO Model dummy trained in 0.014 minutes\n",
      "26-05-2024 21:49:16 INFO Model gbc trained in 0.022 minutes\n",
      "26-05-2024 21:49:17 INFO Model nb trained in 0.016 minutes\n",
      "26-05-2024 21:49:18 INFO Model xgboost trained in 0.017 minutes\n",
      "26-05-2024 21:49:18 INFO Model qda trained in 0.015 minutes\n",
      "26-05-2024 21:49:20 INFO Model rf trained in 0.022 minutes\n",
      "26-05-2024 21:49:20 INFO Training over: Total runtime 2.183 minutes\n",
      "26-05-2024 21:49:21 INFO --------------------------------------------------------\n",
      "26-05-2024 21:49:21 INFO Training classification models\n",
      "26-05-2024 21:49:21 INFO The models used ['mlp', 'rbfsvm', 'lr', 'svm', 'lightgbm', 'dt', 'gpc', 'ridge', 'ada', 'et', 'lda', 'knn', 'catboost', 'dummy', 'gbc', 'nb', 'xgboost', 'qda', 'rf']\n",
      "26-05-2024 21:49:21 INFO The number of models used 19\n",
      "26-05-2024 21:49:21 INFO Time budget is 20 minutes\n",
      "26-05-2024 21:49:22 INFO Model knn trained in 0.015 minutes\n",
      "26-05-2024 21:51:03 INFO Model lightgbm trained in 1.687 minutes\n",
      "26-05-2024 21:51:04 INFO Model ada trained in 0.018 minutes\n",
      "26-05-2024 21:51:05 INFO Model nb trained in 0.014 minutes\n",
      "26-05-2024 21:51:06 INFO Model lr trained in 0.014 minutes\n",
      "26-05-2024 21:51:07 INFO Model xgboost trained in 0.016 minutes\n",
      "26-05-2024 21:51:08 INFO Model gpc trained in 0.023 minutes\n",
      "26-05-2024 21:51:09 INFO Model rbfsvm trained in 0.014 minutes\n",
      "26-05-2024 21:51:10 INFO Model dt trained in 0.014 minutes\n",
      "26-05-2024 21:51:24 INFO Model catboost trained in 0.24 minutes\n",
      "26-05-2024 21:51:25 INFO Model rf trained in 0.022 minutes\n",
      "26-05-2024 21:51:26 INFO Model svm trained in 0.014 minutes\n",
      "26-05-2024 21:51:27 INFO Model lda trained in 0.015 minutes\n",
      "26-05-2024 21:51:28 INFO Model et trained in 0.02 minutes\n",
      "26-05-2024 21:51:29 INFO Model qda trained in 0.015 minutes\n",
      "26-05-2024 21:51:30 INFO Model ridge trained in 0.014 minutes\n",
      "26-05-2024 21:51:32 INFO Model mlp trained in 0.026 minutes\n",
      "26-05-2024 21:51:33 INFO Model dummy trained in 0.014 minutes\n",
      "26-05-2024 21:51:34 INFO Model gbc trained in 0.024 minutes\n",
      "26-05-2024 21:51:34 INFO Training over: Total runtime 2.221 minutes\n",
      "26-05-2024 21:51:35 INFO --------------------------------------------------------\n",
      "26-05-2024 21:51:35 INFO Training classification models\n",
      "26-05-2024 21:51:35 INFO The models used ['knn', 'lightgbm', 'ada', 'nb', 'lr', 'xgboost', 'gpc', 'rbfsvm', 'dt', 'catboost', 'rf', 'svm', 'lda', 'et', 'qda', 'ridge', 'mlp', 'dummy', 'gbc']\n",
      "26-05-2024 21:51:35 INFO The number of models used 19\n",
      "26-05-2024 21:51:35 INFO Time budget is 20 minutes\n",
      "26-05-2024 21:51:36 INFO Model svm trained in 0.016 minutes\n",
      "26-05-2024 21:51:37 INFO Model lr trained in 0.014 minutes\n",
      "26-05-2024 21:51:38 INFO Model dt trained in 0.014 minutes\n",
      "26-05-2024 21:51:38 INFO Model ridge trained in 0.014 minutes\n",
      "26-05-2024 21:51:39 INFO Model ada trained in 0.018 minutes\n",
      "26-05-2024 21:51:41 INFO Model mlp trained in 0.022 minutes\n",
      "26-05-2024 21:51:42 INFO Model gpc trained in 0.028 minutes\n",
      "26-05-2024 21:53:18 INFO Model lightgbm trained in 1.599 minutes\n",
      "26-05-2024 21:53:19 INFO Model xgboost trained in 0.016 minutes\n",
      "26-05-2024 21:53:20 INFO Model lda trained in 0.015 minutes\n",
      "26-05-2024 21:53:22 INFO Model gbc trained in 0.02 minutes\n",
      "26-05-2024 21:53:22 INFO Model nb trained in 0.014 minutes\n",
      "26-05-2024 21:53:24 INFO Model rf trained in 0.021 minutes\n",
      "26-05-2024 21:53:36 INFO Model catboost trained in 0.2 minutes\n",
      "26-05-2024 21:53:36 INFO Model dummy trained in 0.014 minutes\n",
      "26-05-2024 21:53:37 INFO Model rbfsvm trained in 0.014 minutes\n",
      "26-05-2024 21:53:38 INFO Model knn trained in 0.014 minutes\n",
      "26-05-2024 21:53:39 INFO Model et trained in 0.02 minutes\n",
      "26-05-2024 21:53:40 INFO Model qda trained in 0.016 minutes\n",
      "26-05-2024 21:53:40 INFO Training over: Total runtime 2.09 minutes\n",
      "26-05-2024 21:53:41 INFO --------------------------------------------------------\n",
      "26-05-2024 21:53:41 INFO Training classification models\n",
      "26-05-2024 21:53:41 INFO The models used ['svm', 'lr', 'dt', 'ridge', 'ada', 'mlp', 'gpc', 'lightgbm', 'xgboost', 'lda', 'gbc', 'nb', 'rf', 'catboost', 'dummy', 'rbfsvm', 'knn', 'et', 'qda']\n",
      "26-05-2024 21:53:41 INFO The number of models used 19\n",
      "26-05-2024 21:53:41 INFO Time budget is 20 minutes\n",
      "26-05-2024 21:53:42 INFO Model nb trained in 0.016 minutes\n",
      "26-05-2024 21:53:43 INFO Model ada trained in 0.019 minutes\n",
      "26-05-2024 21:53:44 INFO Model xgboost trained in 0.017 minutes\n",
      "26-05-2024 21:53:45 INFO Model rbfsvm trained in 0.014 minutes\n",
      "26-05-2024 21:53:46 INFO Model dt trained in 0.014 minutes\n",
      "26-05-2024 21:53:47 INFO Model knn trained in 0.014 minutes\n",
      "26-05-2024 21:53:48 INFO Model gpc trained in 0.026 minutes\n",
      "26-05-2024 21:53:49 INFO Model lr trained in 0.015 minutes\n",
      "26-05-2024 21:53:51 INFO Model mlp trained in 0.025 minutes\n",
      "26-05-2024 21:53:52 INFO Model rf trained in 0.023 minutes\n",
      "26-05-2024 21:53:53 INFO Model qda trained in 0.016 minutes\n",
      "26-05-2024 21:53:54 INFO Model ridge trained in 0.014 minutes\n",
      "26-05-2024 21:53:55 INFO Model gbc trained in 0.023 minutes\n",
      "26-05-2024 21:53:56 INFO Model lda trained in 0.016 minutes\n",
      "26-05-2024 21:53:57 INFO Model et trained in 0.021 minutes\n",
      "26-05-2024 21:55:31 INFO Model lightgbm trained in 1.554 minutes\n",
      "26-05-2024 21:55:32 INFO Model svm trained in 0.014 minutes\n",
      "26-05-2024 21:55:45 INFO Model catboost trained in 0.219 minutes\n",
      "26-05-2024 21:55:46 INFO Model dummy trained in 0.014 minutes\n",
      "26-05-2024 21:55:46 INFO Training over: Total runtime 2.073 minutes\n",
      "26-05-2024 21:55:46 INFO --------------------------------------------------------\n",
      "26-05-2024 21:55:46 INFO Training classification models\n",
      "26-05-2024 21:55:46 INFO The models used ['nb', 'ada', 'xgboost', 'rbfsvm', 'dt', 'knn', 'gpc', 'lr', 'mlp', 'rf', 'qda', 'ridge', 'gbc', 'lda', 'et', 'lightgbm', 'svm', 'catboost', 'dummy']\n",
      "26-05-2024 21:55:46 INFO The number of models used 19\n",
      "26-05-2024 21:55:46 INFO Time budget is 20 minutes\n",
      "26-05-2024 21:55:47 INFO Model ridge trained in 0.014 minutes\n",
      "26-05-2024 21:55:48 INFO Model dt trained in 0.014 minutes\n",
      "26-05-2024 21:55:49 INFO Model mlp trained in 0.021 minutes\n",
      "26-05-2024 21:57:46 INFO Model lightgbm trained in 1.939 minutes\n",
      "26-05-2024 21:57:47 INFO Model xgboost trained in 0.016 minutes\n",
      "26-05-2024 21:57:48 INFO Model svm trained in 0.014 minutes\n",
      "26-05-2024 21:57:49 INFO Model gpc trained in 0.023 minutes\n",
      "26-05-2024 21:57:50 INFO Model ada trained in 0.017 minutes\n",
      "26-05-2024 21:57:51 INFO Model knn trained in 0.015 minutes\n",
      "26-05-2024 21:57:52 INFO Model gbc trained in 0.019 minutes\n",
      "26-05-2024 21:57:53 INFO Model dummy trained in 0.014 minutes\n",
      "26-05-2024 21:57:54 INFO Model rbfsvm trained in 0.014 minutes\n",
      "26-05-2024 21:57:55 INFO Model qda trained in 0.015 minutes\n",
      "26-05-2024 21:57:56 INFO Model rf trained in 0.02 minutes\n",
      "26-05-2024 21:58:06 INFO Model catboost trained in 0.176 minutes\n",
      "26-05-2024 21:58:07 INFO Model lr trained in 0.015 minutes\n",
      "26-05-2024 21:58:08 INFO Model nb trained in 0.014 minutes\n",
      "26-05-2024 21:58:09 INFO Model lda trained in 0.015 minutes\n",
      "26-05-2024 21:58:10 INFO Model et trained in 0.021 minutes\n",
      "26-05-2024 21:58:10 INFO Training over: Total runtime 2.397 minutes\n"
     ]
    }
   ],
   "source": [
    "generator = iterate_excel(\"filtered_features.xlsx\", parser=DataParser, label=\"../data/esterase_labels.csv\", outliers=())\n",
    "training.iterate_multiple_features(generator, training_output=\"classification_results\")"
   ]
  },
  {
   "cell_type": "markdown",
   "metadata": {},
   "source": [
    "## Save Model from pre-trained"
   ]
  },
  {
   "cell_type": "code",
   "execution_count": 45,
   "metadata": {},
   "outputs": [
    {
     "data": {
      "text/plain": [
       "{'qda': QuadraticDiscriminantAnalysis(priors=None, reg_param=0.8258792813861613,\n",
       "                               store_covariance=False, tol=0.0001),\n",
       " 'knn': KNeighborsClassifier(algorithm='auto', leaf_size=30, metric='euclidean',\n",
       "                      metric_params=None, n_jobs=-1, n_neighbors=24, p=2,\n",
       "                      weights='uniform'),\n",
       " 'nb': GaussianNB(priors=None, var_smoothing=0.7918521648729947)}"
      ]
     },
     "execution_count": 45,
     "metadata": {},
     "output_type": "execute_result"
    }
   ],
   "source": [
    "models[\"tuned\"][\"holdout\"]"
   ]
  },
  {
   "cell_type": "code",
   "execution_count": 33,
   "metadata": {},
   "outputs": [],
   "source": [
    "from BioML.models import save_model"
   ]
  },
  {
   "cell_type": "code",
   "execution_count": 18,
   "metadata": {},
   "outputs": [
    {
     "name": "stderr",
     "output_type": "stream",
     "text": [
      "28-03-2024 12:38:51 INFO ----------Finalizing the model by training it with all the data including test set--------------\n"
     ]
    },
    {
     "name": "stdout",
     "output_type": "stream",
     "text": [
      "Transformation Pipeline and Model Successfully Saved\n"
     ]
    }
   ],
   "source": [
    "generate = save_model.GenerateModel(training)\n",
    "for status, model in models.items():\n",
    "    for key, value in model.items():\n",
    "        if key == \"holdout\":\n",
    "            for num, mod in enumerate(value.values()):\n",
    "                if num > training.experiment.best_model - 1 : break\n",
    "                final_model = generate.finalize_model(value, num)\n",
    "                generate.save_model(final_model, f\"model_output/{key}_{status}\")\n",
    "        else:\n",
    "            final_model = generate.finalize_model(value)\n",
    "            generate.save_model(final_model, f\"model_output/{key}_{status}\")"
   ]
  },
  {
   "cell_type": "markdown",
   "metadata": {},
   "source": [
    "## Save Model from scratch"
   ]
  },
  {
   "cell_type": "code",
   "execution_count": 12,
   "metadata": {},
   "outputs": [],
   "source": [
    "from BioML.models import save_model"
   ]
  },
  {
   "cell_type": "code",
   "execution_count": 17,
   "metadata": {},
   "outputs": [
    {
     "name": "stderr",
     "output_type": "stream",
     "text": [
      "27-03-2024 14:28:52 INFO ------------------------------------------------------------------------------\n",
      "27-03-2024 14:28:52 INFO PycaretInterface parameters\n",
      "27-03-2024 14:28:52 INFO Seed: 200\n",
      "27-03-2024 14:28:52 INFO Budget time: 20\n",
      "27-03-2024 14:28:52 INFO The number of models to select: 3\n",
      "27-03-2024 14:28:52 INFO Output path: classification_training\n",
      "27-03-2024 14:28:52 INFO ----------------Trainer inputs-------------------------\n",
      "27-03-2024 14:28:52 INFO Number of kfolds: 5\n",
      "27-03-2024 14:28:52 INFO Number of iterations: 30\n"
     ]
    }
   ],
   "source": [
    "data = save_model.DataParser(\"filtered_features.xlsx\", \"../data/esterase_labels.csv\", sheets=\"ch2_50\")\n",
    "experiment = save_model.PycaretInterface(\"classification\", 200, budget_time=20, best_model=3, \n",
    "                                  output_path=\"classification_training\", optimize=\"MCC\", experiment_name=\"generate_model\")\n",
    "classifier = save_model.Classifier(optimize=\"MCC\", selected=(\"qda\", \"rbfsvm\", \"ridge\"))\n",
    "training = Trainer(experiment, classifier, num_splits=5, test_size=0.2,  num_iter=30)\n"
   ]
  },
  {
   "cell_type": "code",
   "execution_count": 19,
   "metadata": {},
   "outputs": [
    {
     "name": "stderr",
     "output_type": "stream",
     "text": [
      "2024/03/27 14:28:55 INFO mlflow.tracking.fluent: Experiment with name 'generate_model' does not exist. Creating a new experiment.\n",
      "27-03-2024 14:28:56 INFO --------------------------------------------------------\n",
      "27-03-2024 14:28:56 INFO Training classification models\n",
      "27-03-2024 14:28:56 INFO The models used ['lr']\n",
      "27-03-2024 14:28:56 INFO Time budget is 20 minutes\n",
      "27-03-2024 14:29:01 INFO Model lr trained in 0.092 minutes\n",
      "27-03-2024 14:29:01 INFO Training over: Total runtime 0.092 minutes\n"
     ]
    },
    {
     "name": "stdout",
     "output_type": "stream",
     "text": [
      "Model lr trained in 0.092 minutes\n"
     ]
    }
   ],
   "source": [
    "sorted_results, sorted_models, top_params = training.run_training(data.features, data.label)"
   ]
  },
  {
   "cell_type": "code",
   "execution_count": 20,
   "metadata": {},
   "outputs": [
    {
     "name": "stderr",
     "output_type": "stream",
     "text": [
      "27-03-2024 14:29:02 INFO ----------Finalizing the model by training it with all the data including test set--------------\n"
     ]
    },
    {
     "name": "stdout",
     "output_type": "stream",
     "text": [
      "Transformation Pipeline and Model Successfully Saved\n"
     ]
    }
   ],
   "source": [
    "generate = save_model.GenerateModel(training)\n",
    "models =  generate.train_by_strategy(sorted_models, \"majority\")\n",
    "final_model = generate.finalize_model(models)\n",
    "generate.save_model(final_model, \"model_output/logistic\")"
   ]
  },
  {
   "cell_type": "markdown",
   "metadata": {},
   "source": [
    "## Prediction"
   ]
  },
  {
   "cell_type": "code",
   "execution_count": 34,
   "metadata": {},
   "outputs": [],
   "source": [
    "from BioML.models import predict\n",
    "import pandas as pd\n",
    "import numpy as np\n",
    "from scipy.spatial import distance"
   ]
  },
  {
   "cell_type": "code",
   "execution_count": 23,
   "metadata": {},
   "outputs": [],
   "source": [
    "training_features = \"filtered_features.xlsx\"\n",
    "label = \"../data/esterase_labels.csv\"\n",
    "outlier_train=()\n",
    "outlier_test=()\n",
    "sheet_name=\"chi2_50\"\n",
    "problem=\"classification\"\n",
    "model_path=\"model_output/majority\"\n",
    "scaler=\"robust\""
   ]
  },
  {
   "cell_type": "markdown",
   "metadata": {},
   "source": [
    "#### generate the predictions"
   ]
  },
  {
   "cell_type": "code",
   "execution_count": 40,
   "metadata": {},
   "outputs": [],
   "source": [
    "feature = predict.DataParser(training_features, label, outliers=outlier_train, sheets=sheet_name)\n",
    "test_features = feature.remove_outliers(feature.read_features(test_features, \"chi2_50\"), outlier_test)\n",
    "predictions = predict.predict(test_features, model_path, problem)\n"
   ]
  },
  {
   "cell_type": "markdown",
   "metadata": {},
   "source": [
    "#### Optional if you want to filter predictions based if that test sample is within the applicability domain"
   ]
  },
  {
   "cell_type": "markdown",
   "metadata": {},
   "source": [
    "Applicability domain compares eucleadian distance between the features from the training and features from the test.   \n",
    "If the distance is far from a set threshold then that prediction is discarded since it deviates from the samples the model have seen during training"
   ]
  },
  {
   "cell_type": "code",
   "execution_count": 41,
   "metadata": {},
   "outputs": [],
   "source": [
    "transformed, scaler_dict, test_x = predict.scale(scaler, feature.drop(), test_features)\n",
    "filtered_pred = predict.domain_filter(predictions, transformed, test_x, 5) # it returns the predictions appended to the features"
   ]
  },
  {
   "cell_type": "code",
   "execution_count": 44,
   "metadata": {},
   "outputs": [
    {
     "data": {
      "text/plain": [
       "((120, 20), (147, 19))"
      ]
     },
     "execution_count": 44,
     "metadata": {},
     "output_type": "execute_result"
    }
   ],
   "source": [
    "filtered_pred.shape, predictions.shape"
   ]
  },
  {
   "cell_type": "code",
   "execution_count": null,
   "metadata": {},
   "outputs": [],
   "source": [
    " # if you don't apply the domain filter, you can just use the predictions but you have to change the index to sample_0, sample_1, etc\n",
    "predictions.index = [f\"sample_{x}\" for x, _ in enumerate(predictions.index)]\n",
    "col_name = [\"prediction_score\", \"prediction_label\", \"AD_number\"]\n",
    "predictions = predictions.loc[:, predictions.columns.str.contains(\"|\".join(col_name))] # only keep the columns with the prediction scores"
   ]
  },
  {
   "cell_type": "markdown",
   "metadata": {},
   "source": [
    "### Separate the fasta file into positive or negative"
   ]
  },
  {
   "cell_type": "code",
   "execution_count": 34,
   "metadata": {},
   "outputs": [],
   "source": [
    "fasta = \"../data/whole_sequence.fasta\"\n",
    "res_dir = \"prediction_results_domain\""
   ]
  },
  {
   "cell_type": "code",
   "execution_count": 35,
   "metadata": {},
   "outputs": [],
   "source": [
    "extractor = predict.FastaExtractor(fasta, res_dir)\n",
    "positive, negative = extractor.separate_negative_positive(predictions)\n"
   ]
  },
  {
   "cell_type": "code",
   "execution_count": 36,
   "metadata": {},
   "outputs": [],
   "source": [
    "extractor.extract(positive, negative, positive_fasta=f\"positive.fasta\", negative_fasta=f\"negative.fasta\")"
   ]
  }
 ],
 "metadata": {
  "kernelspec": {
   "display_name": "bioml",
   "language": "python",
   "name": "python3"
  },
  "language_info": {
   "codemirror_mode": {
    "name": "ipython",
    "version": 3
   },
   "file_extension": ".py",
   "mimetype": "text/x-python",
   "name": "python",
   "nbconvert_exporter": "python",
   "pygments_lexer": "ipython3",
   "version": "3.10.13"
  },
  "orig_nbformat": 4
 },
 "nbformat": 4,
 "nbformat_minor": 2
}
