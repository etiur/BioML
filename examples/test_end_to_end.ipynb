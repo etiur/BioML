{
 "cells": [
  {
   "cell_type": "markdown",
   "metadata": {},
   "source": [
    "# 1.1 PSSM generation"
   ]
  },
  {
   "cell_type": "markdown",
   "metadata": {},
   "source": [
    "Generate PSSM files to extract evolutionary features. Using Mmseqs the process can be really fast.  \n",
    "\n",
    "However, I have found a problem (I don't know if it is an bug or not) in the program and created an issue to the Mmseqs team. So at the moment it is down."
   ]
  },
  {
   "cell_type": "code",
   "execution_count": 1,
   "metadata": {},
   "outputs": [],
   "source": [
    "from BioML.utilities.utils import MmseqsClustering"
   ]
  },
  {
   "cell_type": "code",
   "execution_count": 29,
   "metadata": {},
   "outputs": [],
   "source": [
    "fasta_file = \"../data/whole_sequence.fasta\""
   ]
  },
  {
   "cell_type": "code",
   "execution_count": 3,
   "metadata": {},
   "outputs": [
    {
     "name": "stdout",
     "output_type": "stream",
     "text": [
      "start running createdb\n",
      "It took 0.008338212966918945 second to run\n",
      "start running search\n",
      "It took 2.8009424209594727 second to run\n",
      "start running generate_profile\n",
      "It took 0.08434319496154785 second to run\n",
      "start running convert profile to pssm\n",
      "It took 0.04231381416320801 second to run\n"
     ]
    }
   ],
   "source": [
    "pssm_file = MmseqsClustering.easy_generate_pssm(input_file=fasta_file, database_input=fasta_file,\n",
    "output_database=\"../data/whole_sequence\", generate_searchdb=True, pssm_filename=\"esterase.pssm\")"
   ]
  },
  {
   "cell_type": "code",
   "execution_count": 4,
   "metadata": {},
   "outputs": [],
   "source": [
    "MmseqsClustering.split_pssm(pssm_file)"
   ]
  },
  {
   "cell_type": "markdown",
   "metadata": {},
   "source": [
    "# 1.2 Extract Features"
   ]
  },
  {
   "cell_type": "markdown",
   "metadata": {},
   "source": [
    "There are several features to extract:\n",
    "   1. Physicochemical features from iFeatures https://github.com/Superzchen/iFeature\n",
    "   2. It might be great to incorporate other features the Lab is using like the Onehot encoding and the AA index\n",
    "   3. Evolutionary features using PSSM and Possum https://possum.erc.monash.edu/\n",
    "   4. Features or embeddings from Large language models \n",
    "\n",
    "Before substrate extraction you might want to clean the fast file of non canonical residues like X, U, B etc and to remove those shorter than 100 aamino acids for example"
   ]
  },
  {
   "cell_type": "code",
   "execution_count": 21,
   "metadata": {},
   "outputs": [],
   "source": [
    "from BioML.features.extraction import PossumFeatures, IfeatureFeatures, read_features\n",
    "from BioML.utilities.utils import clean_fasta"
   ]
  },
  {
   "cell_type": "code",
   "execution_count": 5,
   "metadata": {},
   "outputs": [
    {
     "name": "stdout",
     "output_type": "stream",
     "text": [
      "Success!\n",
      "The sequences shorter than 100 will be removed!\n",
      "Success!\n"
     ]
    }
   ],
   "source": [
    "clean_fasta(\"/home/ruite/Projects/enzyminer/POSSUM_Toolkit\", fasta_file, \"cleaned.fasta\", 100)\n",
    "fasta_file = \"cleaned.fasta\""
   ]
  },
  {
   "cell_type": "code",
   "execution_count": 18,
   "metadata": {},
   "outputs": [
    {
     "name": "stdout",
     "output_type": "stream",
     "text": [
      "iFeature features to be extracted: {'long': ['NMBroto', 'Moran', 'Geary'], 'short': ['CKSAAGP', 'PAAC', 'CTDD', 'GDPC', 'APAAC', 'GAAC', 'GTPC', 'SOCNumber', 'CTDT', 'KSCTriad', 'CTDC', 'CTriad', 'QSOrder']}\n"
     ]
    },
    {
     "name": "stdout",
     "output_type": "stream",
     "text": [
      "start running Ifeature programs\n",
      "It took 16.37057065963745 second to run\n"
     ]
    }
   ],
   "source": [
    "ifeatures = IfeatureFeatures(\"/home/ruite/Projects/enzyminer/iFeature\")\n",
    "ifeatures.extract(fasta_file)"
   ]
  },
  {
   "cell_type": "code",
   "execution_count": 4,
   "metadata": {},
   "outputs": [
    {
     "name": "stdout",
     "output_type": "stream",
     "text": [
      "Possum features to be extracted: {'long': ['tri_gram_pssm', 'pssm_cc'], 'short': ['edp', 'd_fpssm', 'rpssm', 'pssm_ac', 'pssm_composition', 'pse_pssm:2', 's_fpssm', 'pse_pssm:3', 'tpc', 'aac_pssm', 'smoothed_pssm:7', 'k_separated_bigrams_pssm', 'eedp', 'ab_pssm', 'smoothed_pssm:5', 'smoothed_pssm:9', 'dpc_pssm', 'rpm_pssm', 'dp_pssm', 'pse_pssm:1']}\n",
      "start running Possum programs\n",
      "It took 494.46776008605957 second to run\n"
     ]
    }
   ],
   "source": [
    "possum = PossumFeatures(pssm_dir=\"pssm\", program=\"/home/ruite/Projects/enzyminer/POSSUM_Toolkit\")\n",
    "possum.extract(fasta_file)"
   ]
  },
  {
   "cell_type": "markdown",
   "metadata": {},
   "source": [
    "# 1.3  LLM embeddings"
   ]
  },
  {
   "cell_type": "markdown",
   "metadata": {},
   "source": [
    "If you want you can easily generate large language model embeddings from models supported by Hugging Face's API"
   ]
  },
  {
   "cell_type": "code",
   "execution_count": 2,
   "metadata": {},
   "outputs": [],
   "source": [
    "from BioML.deep import embeddings"
   ]
  },
  {
   "cell_type": "code",
   "execution_count": 4,
   "metadata": {},
   "outputs": [],
   "source": [
    "embeddings.generate_embeddings(fasta_file, model_name=\"facebook/esm2_t6_8M_UR50D\", option=\"mean\", save_path=\"embeddings.csv\", mode=\"write\")"
   ]
  },
  {
   "cell_type": "markdown",
   "metadata": {},
   "source": [
    "# 2 Feature selection"
   ]
  },
  {
   "cell_type": "markdown",
   "metadata": {},
   "source": [
    "If we combine features from multiple places the dimensions would be too high to handle, so normally ti would be wise to use some feature selection techniques:BioML implements at the moment 8 algorithms for classification and 6 for regression \n",
    " \n",
    "    1. Supervised: using Tree methods Random Forest and Xgboost, Recursive feature elmination\n",
    "    2. Filter methods: Pearson correlation, Chi squared,\n",
    "    3. TODO: Unsupervised methods like: PCA, ICA (independent component analysis)"
   ]
  },
  {
   "cell_type": "code",
   "execution_count": 1,
   "metadata": {},
   "outputs": [],
   "source": [
    "import pandas as pd\n",
    "from BioML.features import selection\n",
    "from BioML.features.extraction import read_features"
   ]
  },
  {
   "cell_type": "code",
   "execution_count": 5,
   "metadata": {},
   "outputs": [],
   "source": [
    "ifeat = read_features(\"ifeature\", ifeature_out=\"ifeature_features\", file_splits=1)\n",
    "possum_feat = read_features(\"possum\", possum_out=\"possum_features\", file_splits=1, index=ifeat.index)\n",
    "emb = pd.read_csv(\"embeddings.csv\", index_col=0)"
   ]
  },
  {
   "cell_type": "code",
   "execution_count": 23,
   "metadata": {},
   "outputs": [
    {
     "data": {
      "text/plain": [
       "((320,), (2274,), (18730,))"
      ]
     },
     "execution_count": 23,
     "metadata": {},
     "output_type": "execute_result"
    }
   ],
   "source": [
    "emb.columns.shape, ifeat.columns.shape, possum_feat.columns.shape"
   ]
  },
  {
   "cell_type": "markdown",
   "metadata": {},
   "source": [
    "The DataReader function takes:\n",
    "* label in different formats: string, ndarray, a list of pd.Series.\n",
    "* It also takes features in different formats: a list, ndarray, dataframe, list of dataframes or a list of the different accepted formats and concatenates them\n",
    "\n",
    "It will automatically remove features with 0 variance (meaning every value is the same), you can control the threshold"
   ]
  },
  {
   "cell_type": "code",
   "execution_count": 6,
   "metadata": {},
   "outputs": [
    {
     "data": {
      "text/plain": [
       "Data with:\n",
       "    num. samples: 147\n",
       "    num. columns: 6907\n",
       "    variance threshold: 0.005\n",
       "    sheet: None"
      ]
     },
     "execution_count": 6,
     "metadata": {},
     "output_type": "execute_result"
    }
   ],
   "source": [
    "features = selection.DataReader(\"../data/esterase_labels.csv\", [ifeat, possum_feat], variance_thres=0.005)\n",
    "features"
   ]
  },
  {
   "cell_type": "markdown",
   "metadata": {},
   "source": [
    "### Custom splitting based on 30% sequence identity"
   ]
  },
  {
   "cell_type": "markdown",
   "metadata": {},
   "source": [
    "It is recommended to split based on sequence identity so that the training, test or validation sets doesn't have sequence with more than 30% sequence identity.\n",
    "You can use mmseqs to generate such clusters"
   ]
  },
  {
   "cell_type": "code",
   "execution_count": 2,
   "metadata": {},
   "outputs": [],
   "source": [
    "from BioML.utilities.utils import MmseqsClustering\n",
    "from BioML.utilities.split_methods import ClusterSpliter\n",
    "from BioML.models.base import DataParser\n",
    "import pandas as pd\n",
    "from sklearn.model_selection import train_test_split\n",
    "from pathlib import Path"
   ]
  },
  {
   "cell_type": "markdown",
   "metadata": {},
   "source": [
    "### Generate different clusters of sequences based on an identity threshold of 30%.\n",
    "It creates a cluster.tsv file. This tsv file has the first column the clusters names (which should be the same one as the features indices) and in the second column the idex of the sequence that resides within that cluster.  \n",
    "\n",
    "For example: This means EH2(71) is a cluster with 3 sequences that share more than 30% sequence identity.\n",
    "\n",
    "* EH2(71)\tEH2(71)\n",
    "* EH2(71)\tEH4(67)\n",
    "* EH2(71)\tEH14(48)\n",
    "\n",
    "This technique is actually very flexible, you can generate manually a cluster file if you want to customize the way you want to split your data into training and testing splits"
   ]
  },
  {
   "cell_type": "code",
   "execution_count": 30,
   "metadata": {},
   "outputs": [
    {
     "name": "stdout",
     "output_type": "stream",
     "text": [
      "start running cluster\n",
      "It took 0.0037527084350585938 second to run\n",
      "start running create tsv\n",
      "It took 0.05854964256286621 second to run\n"
     ]
    }
   ],
   "source": [
    "cluster = MmseqsClustering.easy_cluster(fasta_file, cluster_at_sequence_identity=0.3)"
   ]
  },
  {
   "cell_type": "markdown",
   "metadata": {},
   "source": [
    "Now split based on this sequence identity cluster, the clusters names can be strings or numbers as long as it is the same as the index of feautures dataframe.  \n",
    "But if they are different, cluster names are different to the index of the dataframe, there is an additional groups argument in the split and train_test_split function that accepts a list with the names present in the cluster file and ordered as the rows in the dataframe"
   ]
  },
  {
   "cell_type": "code",
   "execution_count": 7,
   "metadata": {},
   "outputs": [],
   "source": [
    "split = ClusterSpliter(\"cluster.tsv\", num_splits=5, random_state=100, stratified=True)\n",
    "X_train, X_test, y_train, y_test = split.train_test_split(features.features, features.label)"
   ]
  },
  {
   "cell_type": "code",
   "execution_count": 32,
   "metadata": {},
   "outputs": [
    {
     "data": {
      "text/html": [
       "<div>\n",
       "<style scoped>\n",
       "    .dataframe tbody tr th:only-of-type {\n",
       "        vertical-align: middle;\n",
       "    }\n",
       "\n",
       "    .dataframe tbody tr th {\n",
       "        vertical-align: top;\n",
       "    }\n",
       "\n",
       "    .dataframe thead th {\n",
       "        text-align: right;\n",
       "    }\n",
       "</style>\n",
       "<table border=\"1\" class=\"dataframe\">\n",
       "  <thead>\n",
       "    <tr style=\"text-align: right;\">\n",
       "      <th></th>\n",
       "      <th>CHAM820101.lag24_Geary</th>\n",
       "      <th>CHOC760101.lag24_Geary</th>\n",
       "      <th>BIGC670101.lag24_Geary</th>\n",
       "      <th>CHAM810101.lag23_Geary</th>\n",
       "      <th>CHAM820101.lag1_NMBroto</th>\n",
       "      <th>CHAM820101.lag6_NMBroto</th>\n",
       "      <th>CHAM820101.lag13_NMBroto</th>\n",
       "      <th>CHAM820101.lag14_NMBroto</th>\n",
       "      <th>CHAM820101.lag15_NMBroto</th>\n",
       "      <th>CHAM820101.lag20_NMBroto</th>\n",
       "      <th>...</th>\n",
       "      <th>s_fpssm390</th>\n",
       "      <th>s_fpssm391</th>\n",
       "      <th>s_fpssm392</th>\n",
       "      <th>s_fpssm393</th>\n",
       "      <th>s_fpssm394</th>\n",
       "      <th>s_fpssm395</th>\n",
       "      <th>s_fpssm396</th>\n",
       "      <th>s_fpssm397</th>\n",
       "      <th>s_fpssm398</th>\n",
       "      <th>s_fpssm399</th>\n",
       "    </tr>\n",
       "    <tr>\n",
       "      <th>#</th>\n",
       "      <th></th>\n",
       "      <th></th>\n",
       "      <th></th>\n",
       "      <th></th>\n",
       "      <th></th>\n",
       "      <th></th>\n",
       "      <th></th>\n",
       "      <th></th>\n",
       "      <th></th>\n",
       "      <th></th>\n",
       "      <th></th>\n",
       "      <th></th>\n",
       "      <th></th>\n",
       "      <th></th>\n",
       "      <th></th>\n",
       "      <th></th>\n",
       "      <th></th>\n",
       "      <th></th>\n",
       "      <th></th>\n",
       "      <th></th>\n",
       "      <th></th>\n",
       "    </tr>\n",
       "  </thead>\n",
       "  <tbody>\n",
       "    <tr>\n",
       "      <th>EH111(8)</th>\n",
       "      <td>1.016057</td>\n",
       "      <td>1.022939</td>\n",
       "      <td>1.009556</td>\n",
       "      <td>1.203009</td>\n",
       "      <td>-0.004050</td>\n",
       "      <td>-0.016813</td>\n",
       "      <td>0.004004</td>\n",
       "      <td>0.029777</td>\n",
       "      <td>-0.019283</td>\n",
       "      <td>0.117136</td>\n",
       "      <td>...</td>\n",
       "      <td>27.0</td>\n",
       "      <td>0.0</td>\n",
       "      <td>5.0</td>\n",
       "      <td>3.0</td>\n",
       "      <td>11.0</td>\n",
       "      <td>0.0</td>\n",
       "      <td>2.0</td>\n",
       "      <td>15.0</td>\n",
       "      <td>8.0</td>\n",
       "      <td>46.0</td>\n",
       "    </tr>\n",
       "    <tr>\n",
       "      <th>EH15(42)</th>\n",
       "      <td>1.167139</td>\n",
       "      <td>1.159859</td>\n",
       "      <td>1.183571</td>\n",
       "      <td>1.054979</td>\n",
       "      <td>0.210418</td>\n",
       "      <td>0.139457</td>\n",
       "      <td>0.167311</td>\n",
       "      <td>0.220085</td>\n",
       "      <td>0.212778</td>\n",
       "      <td>0.196873</td>\n",
       "      <td>...</td>\n",
       "      <td>20.0</td>\n",
       "      <td>3.0</td>\n",
       "      <td>15.0</td>\n",
       "      <td>11.0</td>\n",
       "      <td>11.0</td>\n",
       "      <td>1.0</td>\n",
       "      <td>6.0</td>\n",
       "      <td>6.0</td>\n",
       "      <td>7.0</td>\n",
       "      <td>71.0</td>\n",
       "    </tr>\n",
       "    <tr>\n",
       "      <th>EH117(6)</th>\n",
       "      <td>1.000051</td>\n",
       "      <td>0.989300</td>\n",
       "      <td>1.010810</td>\n",
       "      <td>1.049855</td>\n",
       "      <td>0.021633</td>\n",
       "      <td>0.060085</td>\n",
       "      <td>0.096981</td>\n",
       "      <td>0.110730</td>\n",
       "      <td>0.088660</td>\n",
       "      <td>-0.027230</td>\n",
       "      <td>...</td>\n",
       "      <td>38.0</td>\n",
       "      <td>5.0</td>\n",
       "      <td>18.0</td>\n",
       "      <td>17.0</td>\n",
       "      <td>4.0</td>\n",
       "      <td>2.0</td>\n",
       "      <td>5.0</td>\n",
       "      <td>10.0</td>\n",
       "      <td>12.0</td>\n",
       "      <td>61.0</td>\n",
       "    </tr>\n",
       "    <tr>\n",
       "      <th>EH11(53)</th>\n",
       "      <td>1.155337</td>\n",
       "      <td>1.158283</td>\n",
       "      <td>1.144786</td>\n",
       "      <td>1.076079</td>\n",
       "      <td>0.215108</td>\n",
       "      <td>0.120346</td>\n",
       "      <td>0.227989</td>\n",
       "      <td>0.293609</td>\n",
       "      <td>0.149229</td>\n",
       "      <td>0.199208</td>\n",
       "      <td>...</td>\n",
       "      <td>31.0</td>\n",
       "      <td>2.0</td>\n",
       "      <td>14.0</td>\n",
       "      <td>14.0</td>\n",
       "      <td>11.0</td>\n",
       "      <td>2.0</td>\n",
       "      <td>9.0</td>\n",
       "      <td>0.0</td>\n",
       "      <td>1.0</td>\n",
       "      <td>93.0</td>\n",
       "    </tr>\n",
       "    <tr>\n",
       "      <th>EH135(2)</th>\n",
       "      <td>0.954970</td>\n",
       "      <td>0.953658</td>\n",
       "      <td>0.921358</td>\n",
       "      <td>1.020049</td>\n",
       "      <td>0.058143</td>\n",
       "      <td>0.089392</td>\n",
       "      <td>0.081488</td>\n",
       "      <td>0.039703</td>\n",
       "      <td>0.140493</td>\n",
       "      <td>-0.016214</td>\n",
       "      <td>...</td>\n",
       "      <td>10.0</td>\n",
       "      <td>4.0</td>\n",
       "      <td>8.0</td>\n",
       "      <td>27.0</td>\n",
       "      <td>6.0</td>\n",
       "      <td>2.0</td>\n",
       "      <td>5.0</td>\n",
       "      <td>30.0</td>\n",
       "      <td>22.0</td>\n",
       "      <td>32.0</td>\n",
       "    </tr>\n",
       "    <tr>\n",
       "      <th>...</th>\n",
       "      <td>...</td>\n",
       "      <td>...</td>\n",
       "      <td>...</td>\n",
       "      <td>...</td>\n",
       "      <td>...</td>\n",
       "      <td>...</td>\n",
       "      <td>...</td>\n",
       "      <td>...</td>\n",
       "      <td>...</td>\n",
       "      <td>...</td>\n",
       "      <td>...</td>\n",
       "      <td>...</td>\n",
       "      <td>...</td>\n",
       "      <td>...</td>\n",
       "      <td>...</td>\n",
       "      <td>...</td>\n",
       "      <td>...</td>\n",
       "      <td>...</td>\n",
       "      <td>...</td>\n",
       "      <td>...</td>\n",
       "      <td>...</td>\n",
       "    </tr>\n",
       "    <tr>\n",
       "      <th>EH86(13)</th>\n",
       "      <td>1.118555</td>\n",
       "      <td>1.122978</td>\n",
       "      <td>1.146220</td>\n",
       "      <td>1.067694</td>\n",
       "      <td>0.113712</td>\n",
       "      <td>0.122434</td>\n",
       "      <td>0.180717</td>\n",
       "      <td>0.191214</td>\n",
       "      <td>0.146294</td>\n",
       "      <td>0.137896</td>\n",
       "      <td>...</td>\n",
       "      <td>24.0</td>\n",
       "      <td>0.0</td>\n",
       "      <td>15.0</td>\n",
       "      <td>10.0</td>\n",
       "      <td>6.0</td>\n",
       "      <td>1.0</td>\n",
       "      <td>5.0</td>\n",
       "      <td>6.0</td>\n",
       "      <td>8.0</td>\n",
       "      <td>66.0</td>\n",
       "    </tr>\n",
       "    <tr>\n",
       "      <th>EH102(10)</th>\n",
       "      <td>1.024055</td>\n",
       "      <td>0.994123</td>\n",
       "      <td>0.983951</td>\n",
       "      <td>1.036248</td>\n",
       "      <td>0.078662</td>\n",
       "      <td>0.090576</td>\n",
       "      <td>0.017300</td>\n",
       "      <td>0.057238</td>\n",
       "      <td>0.043014</td>\n",
       "      <td>0.077007</td>\n",
       "      <td>...</td>\n",
       "      <td>22.0</td>\n",
       "      <td>2.0</td>\n",
       "      <td>7.0</td>\n",
       "      <td>6.0</td>\n",
       "      <td>5.0</td>\n",
       "      <td>3.0</td>\n",
       "      <td>6.0</td>\n",
       "      <td>1.0</td>\n",
       "      <td>5.0</td>\n",
       "      <td>59.0</td>\n",
       "    </tr>\n",
       "    <tr>\n",
       "      <th>EH66(19)</th>\n",
       "      <td>1.027011</td>\n",
       "      <td>1.043370</td>\n",
       "      <td>1.031698</td>\n",
       "      <td>0.943373</td>\n",
       "      <td>0.038165</td>\n",
       "      <td>0.015982</td>\n",
       "      <td>0.027990</td>\n",
       "      <td>0.008226</td>\n",
       "      <td>-0.018514</td>\n",
       "      <td>0.074816</td>\n",
       "      <td>...</td>\n",
       "      <td>29.0</td>\n",
       "      <td>0.0</td>\n",
       "      <td>16.0</td>\n",
       "      <td>7.0</td>\n",
       "      <td>2.0</td>\n",
       "      <td>0.0</td>\n",
       "      <td>5.0</td>\n",
       "      <td>12.0</td>\n",
       "      <td>10.0</td>\n",
       "      <td>57.0</td>\n",
       "    </tr>\n",
       "    <tr>\n",
       "      <th>EH23(34)</th>\n",
       "      <td>1.083799</td>\n",
       "      <td>1.068878</td>\n",
       "      <td>1.058834</td>\n",
       "      <td>1.086991</td>\n",
       "      <td>0.108666</td>\n",
       "      <td>0.080507</td>\n",
       "      <td>0.121945</td>\n",
       "      <td>0.024578</td>\n",
       "      <td>0.078812</td>\n",
       "      <td>0.039162</td>\n",
       "      <td>...</td>\n",
       "      <td>28.0</td>\n",
       "      <td>2.0</td>\n",
       "      <td>22.0</td>\n",
       "      <td>18.0</td>\n",
       "      <td>12.0</td>\n",
       "      <td>4.0</td>\n",
       "      <td>16.0</td>\n",
       "      <td>8.0</td>\n",
       "      <td>8.0</td>\n",
       "      <td>73.0</td>\n",
       "    </tr>\n",
       "    <tr>\n",
       "      <th>EH8(63)</th>\n",
       "      <td>1.095064</td>\n",
       "      <td>1.107683</td>\n",
       "      <td>1.119504</td>\n",
       "      <td>1.084142</td>\n",
       "      <td>0.181465</td>\n",
       "      <td>0.078650</td>\n",
       "      <td>0.067484</td>\n",
       "      <td>0.128505</td>\n",
       "      <td>0.148773</td>\n",
       "      <td>0.114440</td>\n",
       "      <td>...</td>\n",
       "      <td>32.0</td>\n",
       "      <td>2.0</td>\n",
       "      <td>10.0</td>\n",
       "      <td>4.0</td>\n",
       "      <td>17.0</td>\n",
       "      <td>3.0</td>\n",
       "      <td>8.0</td>\n",
       "      <td>10.0</td>\n",
       "      <td>7.0</td>\n",
       "      <td>77.0</td>\n",
       "    </tr>\n",
       "  </tbody>\n",
       "</table>\n",
       "<p>122 rows × 6907 columns</p>\n",
       "</div>"
      ],
      "text/plain": [
       "           CHAM820101.lag24_Geary  CHOC760101.lag24_Geary  \\\n",
       "#                                                           \n",
       "EH111(8)                 1.016057                1.022939   \n",
       "EH15(42)                 1.167139                1.159859   \n",
       "EH117(6)                 1.000051                0.989300   \n",
       "EH11(53)                 1.155337                1.158283   \n",
       "EH135(2)                 0.954970                0.953658   \n",
       "...                           ...                     ...   \n",
       "EH86(13)                 1.118555                1.122978   \n",
       "EH102(10)                1.024055                0.994123   \n",
       "EH66(19)                 1.027011                1.043370   \n",
       "EH23(34)                 1.083799                1.068878   \n",
       "EH8(63)                  1.095064                1.107683   \n",
       "\n",
       "           BIGC670101.lag24_Geary  CHAM810101.lag23_Geary  \\\n",
       "#                                                           \n",
       "EH111(8)                 1.009556                1.203009   \n",
       "EH15(42)                 1.183571                1.054979   \n",
       "EH117(6)                 1.010810                1.049855   \n",
       "EH11(53)                 1.144786                1.076079   \n",
       "EH135(2)                 0.921358                1.020049   \n",
       "...                           ...                     ...   \n",
       "EH86(13)                 1.146220                1.067694   \n",
       "EH102(10)                0.983951                1.036248   \n",
       "EH66(19)                 1.031698                0.943373   \n",
       "EH23(34)                 1.058834                1.086991   \n",
       "EH8(63)                  1.119504                1.084142   \n",
       "\n",
       "           CHAM820101.lag1_NMBroto  CHAM820101.lag6_NMBroto  \\\n",
       "#                                                             \n",
       "EH111(8)                 -0.004050                -0.016813   \n",
       "EH15(42)                  0.210418                 0.139457   \n",
       "EH117(6)                  0.021633                 0.060085   \n",
       "EH11(53)                  0.215108                 0.120346   \n",
       "EH135(2)                  0.058143                 0.089392   \n",
       "...                            ...                      ...   \n",
       "EH86(13)                  0.113712                 0.122434   \n",
       "EH102(10)                 0.078662                 0.090576   \n",
       "EH66(19)                  0.038165                 0.015982   \n",
       "EH23(34)                  0.108666                 0.080507   \n",
       "EH8(63)                   0.181465                 0.078650   \n",
       "\n",
       "           CHAM820101.lag13_NMBroto  CHAM820101.lag14_NMBroto  \\\n",
       "#                                                               \n",
       "EH111(8)                   0.004004                  0.029777   \n",
       "EH15(42)                   0.167311                  0.220085   \n",
       "EH117(6)                   0.096981                  0.110730   \n",
       "EH11(53)                   0.227989                  0.293609   \n",
       "EH135(2)                   0.081488                  0.039703   \n",
       "...                             ...                       ...   \n",
       "EH86(13)                   0.180717                  0.191214   \n",
       "EH102(10)                  0.017300                  0.057238   \n",
       "EH66(19)                   0.027990                  0.008226   \n",
       "EH23(34)                   0.121945                  0.024578   \n",
       "EH8(63)                    0.067484                  0.128505   \n",
       "\n",
       "           CHAM820101.lag15_NMBroto  CHAM820101.lag20_NMBroto  ...  \\\n",
       "#                                                              ...   \n",
       "EH111(8)                  -0.019283                  0.117136  ...   \n",
       "EH15(42)                   0.212778                  0.196873  ...   \n",
       "EH117(6)                   0.088660                 -0.027230  ...   \n",
       "EH11(53)                   0.149229                  0.199208  ...   \n",
       "EH135(2)                   0.140493                 -0.016214  ...   \n",
       "...                             ...                       ...  ...   \n",
       "EH86(13)                   0.146294                  0.137896  ...   \n",
       "EH102(10)                  0.043014                  0.077007  ...   \n",
       "EH66(19)                  -0.018514                  0.074816  ...   \n",
       "EH23(34)                   0.078812                  0.039162  ...   \n",
       "EH8(63)                    0.148773                  0.114440  ...   \n",
       "\n",
       "           s_fpssm390  s_fpssm391  s_fpssm392  s_fpssm393  s_fpssm394  \\\n",
       "#                                                                       \n",
       "EH111(8)         27.0         0.0         5.0         3.0        11.0   \n",
       "EH15(42)         20.0         3.0        15.0        11.0        11.0   \n",
       "EH117(6)         38.0         5.0        18.0        17.0         4.0   \n",
       "EH11(53)         31.0         2.0        14.0        14.0        11.0   \n",
       "EH135(2)         10.0         4.0         8.0        27.0         6.0   \n",
       "...               ...         ...         ...         ...         ...   \n",
       "EH86(13)         24.0         0.0        15.0        10.0         6.0   \n",
       "EH102(10)        22.0         2.0         7.0         6.0         5.0   \n",
       "EH66(19)         29.0         0.0        16.0         7.0         2.0   \n",
       "EH23(34)         28.0         2.0        22.0        18.0        12.0   \n",
       "EH8(63)          32.0         2.0        10.0         4.0        17.0   \n",
       "\n",
       "           s_fpssm395  s_fpssm396  s_fpssm397  s_fpssm398  s_fpssm399  \n",
       "#                                                                      \n",
       "EH111(8)          0.0         2.0        15.0         8.0        46.0  \n",
       "EH15(42)          1.0         6.0         6.0         7.0        71.0  \n",
       "EH117(6)          2.0         5.0        10.0        12.0        61.0  \n",
       "EH11(53)          2.0         9.0         0.0         1.0        93.0  \n",
       "EH135(2)          2.0         5.0        30.0        22.0        32.0  \n",
       "...               ...         ...         ...         ...         ...  \n",
       "EH86(13)          1.0         5.0         6.0         8.0        66.0  \n",
       "EH102(10)         3.0         6.0         1.0         5.0        59.0  \n",
       "EH66(19)          0.0         5.0        12.0        10.0        57.0  \n",
       "EH23(34)          4.0        16.0         8.0         8.0        73.0  \n",
       "EH8(63)           3.0         8.0        10.0         7.0        77.0  \n",
       "\n",
       "[122 rows x 6907 columns]"
      ]
     },
     "execution_count": 32,
     "metadata": {},
     "output_type": "execute_result"
    }
   ],
   "source": [
    "X_train"
   ]
  },
  {
   "cell_type": "markdown",
   "metadata": {},
   "source": [
    "\n",
    "The get_range_features retuns a list of feature dimensions to extract and it will generate an excel file with those features, the number of sheets will be len(feature_range) * number of selection algorithms"
   ]
  },
  {
   "cell_type": "markdown",
   "metadata": {},
   "source": [
    "It will also output an plot of the feature importance with the shap package https://www.aidancooper.co.uk/a-non-technical-guide-to-interpreting-shap-analyses/\n",
    "\n",
    "Using the scores from Xgboost using the columns from the maximum feature range.\n",
    "The selection is not repeated for each feature range except for the RFE.   \n",
    "Because the columns are sorted by importance, so I just get [:feature range]"
   ]
  },
  {
   "cell_type": "code",
   "execution_count": 33,
   "metadata": {},
   "outputs": [
    {
     "data": {
      "text/plain": [
       "[20, 30, 40, 50, 60]"
      ]
     },
     "execution_count": 33,
     "metadata": {},
     "output_type": "execute_result"
    }
   ],
   "source": [
    "problem =\"classification\"\n",
    "feature_range = selection.get_range_features(features.features, num_features_min = 20, num_features_max=60, step_range=10)\n",
    "feature_range"
   ]
  },
  {
   "cell_type": "code",
   "execution_count": 34,
   "metadata": {},
   "outputs": [
    {
     "name": "stderr",
     "output_type": "stream",
     "text": [
      "27-05-2024 18:57:32 INFO Reading the features\n",
      "27-05-2024 18:57:32 INFO Starting feature selection and using the following parameters\n",
      "27-05-2024 18:57:32 INFO seed: 10\n",
      "27-05-2024 18:57:32 INFO filtering the features\n"
     ]
    },
    {
     "name": "stdout",
     "output_type": "stream",
     "text": [
      "classification filter: mutual_info\n",
      "classification filter: Fscore\n",
      "classification filter: chi2\n",
      "classification filter: FechnerCorr\n",
      "classification filter: KendallCorr\n",
      "generating a feature set of 20 dimensions\n",
      "generating a feature set of 30 dimensions\n",
      "generating a feature set of 40 dimensions\n",
      "generating a feature set of 50 dimensions\n",
      "generating a feature set of 60 dimensions\n"
     ]
    },
    {
     "data": {
      "image/png": "[encoded data removed]",
      "text/plain": [
       "<Figure size 800x950 with 2 Axes>"
      ]
     },
     "metadata": {},
     "output_type": "display_data"
    }
   ],
   "source": [
    "# select features\n",
    "if problem == \"classification\":\n",
    "    filters = selection.FeatureClassification()\n",
    "elif problem == \"regression\":\n",
    "    filters = selection.FeatureRegression()\n",
    "\n",
    "select = selection.FeatureSelection(\"classification_results/filtered_features.xlsx\", filters, num_thread=2, seed=10, \n",
    "                                    scaler=\"robust\", test_size=0.2)\n",
    "\n",
    "select.construct_features(features.features, X_train, y_train, feature_range)"
   ]
  },
  {
   "cell_type": "markdown",
   "metadata": {},
   "source": [
    "# 4. Outlier detection"
   ]
  },
  {
   "cell_type": "markdown",
   "metadata": {},
   "source": [
    "You can also eliminate outliers in your dataset which could decrease model performance.\n",
    "Although, generally, if you have a lot of data outliers won't matter much.  \n",
    "It is unsupervised so it only needs the features. It accepts the following formats\n",
    "\n",
    "1. excel files\n",
    "2. Pandas dataframe\n",
    "3. Series, ndarray\n",
    "4. csv file\n",
    "\n",
    "It leverages 8 different outlier detection algorithms and gives you a voting. \n",
    "If you give it an excel file where there are different sheets. It will iterate through all of them."
   ]
  },
  {
   "cell_type": "code",
   "execution_count": 12,
   "metadata": {},
   "outputs": [],
   "source": [
    "from BioML.utilities.outlier import OutlierDetection"
   ]
  },
  {
   "cell_type": "code",
   "execution_count": 13,
   "metadata": {},
   "outputs": [
    {
     "name": "stdout",
     "output_type": "stream",
     "text": [
      "using random_60 for outlier calculations\n"
     ]
    },
    {
     "name": "stderr",
     "output_type": "stream",
     "text": [
      "[Parallel(n_jobs=4)]: Using backend LokyBackend with 4 concurrent workers.\n",
      "[Parallel(n_jobs=4)]: Done   2 out of   4 | elapsed:    1.4s remaining:    1.4s\n",
      "[Parallel(n_jobs=4)]: Done   4 out of   4 | elapsed:    1.5s finished\n"
     ]
    },
    {
     "name": "stdout",
     "output_type": "stream",
     "text": [
      "using rfe_20 for outlier calculations\n"
     ]
    },
    {
     "name": "stderr",
     "output_type": "stream",
     "text": [
      "[Parallel(n_jobs=4)]: Using backend LokyBackend with 4 concurrent workers.\n",
      "[Parallel(n_jobs=4)]: Done   2 out of   4 | elapsed:    0.0s remaining:    0.0s\n",
      "[Parallel(n_jobs=4)]: Done   4 out of   4 | elapsed:    0.0s finished\n"
     ]
    },
    {
     "name": "stdout",
     "output_type": "stream",
     "text": [
      "using rfe_60 for outlier calculations\n"
     ]
    },
    {
     "name": "stderr",
     "output_type": "stream",
     "text": [
      "[Parallel(n_jobs=4)]: Using backend LokyBackend with 4 concurrent workers.\n",
      "[Parallel(n_jobs=4)]: Done   2 out of   4 | elapsed:    0.0s remaining:    0.0s\n",
      "[Parallel(n_jobs=4)]: Done   4 out of   4 | elapsed:    0.0s finished\n"
     ]
    },
    {
     "name": "stdout",
     "output_type": "stream",
     "text": [
      "using chi2_30 for outlier calculations\n"
     ]
    },
    {
     "name": "stderr",
     "output_type": "stream",
     "text": [
      "[Parallel(n_jobs=4)]: Using backend LokyBackend with 4 concurrent workers.\n",
      "[Parallel(n_jobs=4)]: Done   2 out of   4 | elapsed:    0.0s remaining:    0.0s\n",
      "[Parallel(n_jobs=4)]: Done   4 out of   4 | elapsed:    0.0s finished\n"
     ]
    },
    {
     "name": "stdout",
     "output_type": "stream",
     "text": [
      "using mutual_info_40 for outlier calculations\n"
     ]
    },
    {
     "name": "stderr",
     "output_type": "stream",
     "text": [
      "[Parallel(n_jobs=4)]: Using backend LokyBackend with 4 concurrent workers.\n",
      "[Parallel(n_jobs=4)]: Done   2 out of   4 | elapsed:    0.0s remaining:    0.0s\n",
      "[Parallel(n_jobs=4)]: Done   4 out of   4 | elapsed:    0.0s finished\n"
     ]
    },
    {
     "name": "stdout",
     "output_type": "stream",
     "text": [
      "using xgbtree_20 for outlier calculations\n"
     ]
    },
    {
     "name": "stderr",
     "output_type": "stream",
     "text": [
      "[Parallel(n_jobs=4)]: Using backend LokyBackend with 4 concurrent workers.\n",
      "[Parallel(n_jobs=4)]: Done   2 out of   4 | elapsed:    0.0s remaining:    0.0s\n",
      "[Parallel(n_jobs=4)]: Done   4 out of   4 | elapsed:    0.0s finished\n"
     ]
    },
    {
     "name": "stdout",
     "output_type": "stream",
     "text": [
      "using KendallCorr_60 for outlier calculations\n"
     ]
    },
    {
     "name": "stderr",
     "output_type": "stream",
     "text": [
      "[Parallel(n_jobs=4)]: Using backend LokyBackend with 4 concurrent workers.\n",
      "[Parallel(n_jobs=4)]: Done   2 out of   4 | elapsed:    0.0s remaining:    0.0s\n",
      "[Parallel(n_jobs=4)]: Done   4 out of   4 | elapsed:    0.0s finished\n"
     ]
    },
    {
     "name": "stdout",
     "output_type": "stream",
     "text": [
      "using random_30 for outlier calculations\n"
     ]
    },
    {
     "name": "stderr",
     "output_type": "stream",
     "text": [
      "[Parallel(n_jobs=4)]: Using backend LokyBackend with 4 concurrent workers.\n",
      "[Parallel(n_jobs=4)]: Done   2 out of   4 | elapsed:    0.0s remaining:    0.0s\n",
      "[Parallel(n_jobs=4)]: Done   4 out of   4 | elapsed:    0.0s finished\n"
     ]
    },
    {
     "name": "stdout",
     "output_type": "stream",
     "text": [
      "using FechnerCorr_60 for outlier calculations\n"
     ]
    },
    {
     "name": "stderr",
     "output_type": "stream",
     "text": [
      "[Parallel(n_jobs=4)]: Using backend LokyBackend with 4 concurrent workers.\n",
      "[Parallel(n_jobs=4)]: Done   2 out of   4 | elapsed:    0.0s remaining:    0.0s\n",
      "[Parallel(n_jobs=4)]: Done   4 out of   4 | elapsed:    0.0s finished\n"
     ]
    },
    {
     "name": "stdout",
     "output_type": "stream",
     "text": [
      "using KendallCorr_40 for outlier calculations\n"
     ]
    },
    {
     "name": "stderr",
     "output_type": "stream",
     "text": [
      "[Parallel(n_jobs=4)]: Using backend LokyBackend with 4 concurrent workers.\n",
      "[Parallel(n_jobs=4)]: Done   2 out of   4 | elapsed:    0.0s remaining:    0.0s\n",
      "[Parallel(n_jobs=4)]: Done   4 out of   4 | elapsed:    0.0s finished\n"
     ]
    },
    {
     "name": "stdout",
     "output_type": "stream",
     "text": [
      "using rfe_30 for outlier calculations\n"
     ]
    },
    {
     "name": "stderr",
     "output_type": "stream",
     "text": [
      "[Parallel(n_jobs=4)]: Using backend LokyBackend with 4 concurrent workers.\n",
      "[Parallel(n_jobs=4)]: Done   2 out of   4 | elapsed:    0.0s remaining:    0.0s\n",
      "[Parallel(n_jobs=4)]: Done   4 out of   4 | elapsed:    0.0s finished\n"
     ]
    },
    {
     "name": "stdout",
     "output_type": "stream",
     "text": [
      "using mutual_info_60 for outlier calculations\n"
     ]
    },
    {
     "name": "stderr",
     "output_type": "stream",
     "text": [
      "[Parallel(n_jobs=4)]: Using backend LokyBackend with 4 concurrent workers.\n",
      "[Parallel(n_jobs=4)]: Done   2 out of   4 | elapsed:    0.0s remaining:    0.0s\n",
      "[Parallel(n_jobs=4)]: Done   4 out of   4 | elapsed:    0.0s finished\n"
     ]
    },
    {
     "name": "stdout",
     "output_type": "stream",
     "text": [
      "using random_50 for outlier calculations\n"
     ]
    },
    {
     "name": "stderr",
     "output_type": "stream",
     "text": [
      "[Parallel(n_jobs=4)]: Using backend LokyBackend with 4 concurrent workers.\n",
      "[Parallel(n_jobs=4)]: Done   2 out of   4 | elapsed:    0.0s remaining:    0.0s\n",
      "[Parallel(n_jobs=4)]: Done   4 out of   4 | elapsed:    0.0s finished\n"
     ]
    },
    {
     "name": "stdout",
     "output_type": "stream",
     "text": [
      "using FechnerCorr_50 for outlier calculations\n"
     ]
    },
    {
     "name": "stderr",
     "output_type": "stream",
     "text": [
      "[Parallel(n_jobs=4)]: Using backend LokyBackend with 4 concurrent workers.\n",
      "[Parallel(n_jobs=4)]: Done   2 out of   4 | elapsed:    0.0s remaining:    0.0s\n",
      "[Parallel(n_jobs=4)]: Done   4 out of   4 | elapsed:    0.0s finished\n"
     ]
    },
    {
     "name": "stdout",
     "output_type": "stream",
     "text": [
      "using FechnerCorr_40 for outlier calculations\n"
     ]
    },
    {
     "name": "stderr",
     "output_type": "stream",
     "text": [
      "[Parallel(n_jobs=4)]: Using backend LokyBackend with 4 concurrent workers.\n",
      "[Parallel(n_jobs=4)]: Done   2 out of   4 | elapsed:    0.0s remaining:    0.0s\n",
      "[Parallel(n_jobs=4)]: Done   4 out of   4 | elapsed:    0.0s finished\n"
     ]
    },
    {
     "name": "stdout",
     "output_type": "stream",
     "text": [
      "using KendallCorr_20 for outlier calculations\n"
     ]
    },
    {
     "name": "stderr",
     "output_type": "stream",
     "text": [
      "[Parallel(n_jobs=4)]: Using backend LokyBackend with 4 concurrent workers.\n",
      "[Parallel(n_jobs=4)]: Done   2 out of   4 | elapsed:    0.0s remaining:    0.0s\n",
      "[Parallel(n_jobs=4)]: Done   4 out of   4 | elapsed:    0.0s finished\n"
     ]
    },
    {
     "name": "stdout",
     "output_type": "stream",
     "text": [
      "using chi2_50 for outlier calculations\n"
     ]
    },
    {
     "name": "stderr",
     "output_type": "stream",
     "text": [
      "[Parallel(n_jobs=4)]: Using backend LokyBackend with 4 concurrent workers.\n",
      "[Parallel(n_jobs=4)]: Done   2 out of   4 | elapsed:    0.0s remaining:    0.0s\n",
      "[Parallel(n_jobs=4)]: Done   4 out of   4 | elapsed:    0.0s finished\n"
     ]
    },
    {
     "name": "stdout",
     "output_type": "stream",
     "text": [
      "using xgbtree_30 for outlier calculations\n"
     ]
    },
    {
     "name": "stderr",
     "output_type": "stream",
     "text": [
      "[Parallel(n_jobs=4)]: Using backend LokyBackend with 4 concurrent workers.\n",
      "[Parallel(n_jobs=4)]: Done   2 out of   4 | elapsed:    0.0s remaining:    0.0s\n",
      "[Parallel(n_jobs=4)]: Done   4 out of   4 | elapsed:    0.0s finished\n"
     ]
    },
    {
     "name": "stdout",
     "output_type": "stream",
     "text": [
      "using rfe_50 for outlier calculations\n"
     ]
    },
    {
     "name": "stderr",
     "output_type": "stream",
     "text": [
      "[Parallel(n_jobs=4)]: Using backend LokyBackend with 4 concurrent workers.\n",
      "[Parallel(n_jobs=4)]: Done   2 out of   4 | elapsed:    0.0s remaining:    0.0s\n",
      "[Parallel(n_jobs=4)]: Done   4 out of   4 | elapsed:    0.0s finished\n"
     ]
    },
    {
     "name": "stdout",
     "output_type": "stream",
     "text": [
      "using chi2_20 for outlier calculations\n"
     ]
    },
    {
     "name": "stderr",
     "output_type": "stream",
     "text": [
      "[Parallel(n_jobs=4)]: Using backend LokyBackend with 4 concurrent workers.\n",
      "[Parallel(n_jobs=4)]: Done   2 out of   4 | elapsed:    0.0s remaining:    0.0s\n",
      "[Parallel(n_jobs=4)]: Done   4 out of   4 | elapsed:    0.0s finished\n"
     ]
    },
    {
     "name": "stdout",
     "output_type": "stream",
     "text": [
      "using KendallCorr_50 for outlier calculations\n"
     ]
    },
    {
     "name": "stderr",
     "output_type": "stream",
     "text": [
      "[Parallel(n_jobs=4)]: Using backend LokyBackend with 4 concurrent workers.\n",
      "[Parallel(n_jobs=4)]: Done   2 out of   4 | elapsed:    0.0s remaining:    0.0s\n",
      "[Parallel(n_jobs=4)]: Done   4 out of   4 | elapsed:    0.0s finished\n"
     ]
    },
    {
     "name": "stdout",
     "output_type": "stream",
     "text": [
      "using mutual_info_20 for outlier calculations\n"
     ]
    },
    {
     "name": "stderr",
     "output_type": "stream",
     "text": [
      "[Parallel(n_jobs=4)]: Using backend LokyBackend with 4 concurrent workers.\n",
      "[Parallel(n_jobs=4)]: Done   2 out of   4 | elapsed:    0.0s remaining:    0.0s\n",
      "[Parallel(n_jobs=4)]: Done   4 out of   4 | elapsed:    0.0s finished\n"
     ]
    },
    {
     "name": "stdout",
     "output_type": "stream",
     "text": [
      "using Fscore_60 for outlier calculations\n"
     ]
    },
    {
     "name": "stderr",
     "output_type": "stream",
     "text": [
      "[Parallel(n_jobs=4)]: Using backend LokyBackend with 4 concurrent workers.\n",
      "[Parallel(n_jobs=4)]: Done   2 out of   4 | elapsed:    0.0s remaining:    0.0s\n",
      "[Parallel(n_jobs=4)]: Done   4 out of   4 | elapsed:    0.0s finished\n"
     ]
    },
    {
     "name": "stdout",
     "output_type": "stream",
     "text": [
      "using random_40 for outlier calculations\n"
     ]
    },
    {
     "name": "stderr",
     "output_type": "stream",
     "text": [
      "[Parallel(n_jobs=4)]: Using backend LokyBackend with 4 concurrent workers.\n",
      "[Parallel(n_jobs=4)]: Done   2 out of   4 | elapsed:    0.0s remaining:    0.0s\n",
      "[Parallel(n_jobs=4)]: Done   4 out of   4 | elapsed:    0.0s finished\n"
     ]
    },
    {
     "name": "stdout",
     "output_type": "stream",
     "text": [
      "using chi2_40 for outlier calculations\n"
     ]
    },
    {
     "name": "stderr",
     "output_type": "stream",
     "text": [
      "[Parallel(n_jobs=4)]: Using backend LokyBackend with 4 concurrent workers.\n",
      "[Parallel(n_jobs=4)]: Done   2 out of   4 | elapsed:    0.0s remaining:    0.0s\n",
      "[Parallel(n_jobs=4)]: Done   4 out of   4 | elapsed:    0.0s finished\n"
     ]
    },
    {
     "name": "stdout",
     "output_type": "stream",
     "text": [
      "using xgbtree_40 for outlier calculations\n"
     ]
    },
    {
     "name": "stderr",
     "output_type": "stream",
     "text": [
      "[Parallel(n_jobs=4)]: Using backend LokyBackend with 4 concurrent workers.\n",
      "[Parallel(n_jobs=4)]: Done   2 out of   4 | elapsed:    0.0s remaining:    0.0s\n",
      "[Parallel(n_jobs=4)]: Done   4 out of   4 | elapsed:    0.0s finished\n"
     ]
    },
    {
     "name": "stdout",
     "output_type": "stream",
     "text": [
      "using chi2_60 for outlier calculations\n"
     ]
    },
    {
     "name": "stderr",
     "output_type": "stream",
     "text": [
      "[Parallel(n_jobs=4)]: Using backend LokyBackend with 4 concurrent workers.\n",
      "[Parallel(n_jobs=4)]: Done   2 out of   4 | elapsed:    0.0s remaining:    0.0s\n",
      "[Parallel(n_jobs=4)]: Done   4 out of   4 | elapsed:    0.0s finished\n"
     ]
    },
    {
     "name": "stdout",
     "output_type": "stream",
     "text": [
      "using Fscore_30 for outlier calculations\n"
     ]
    },
    {
     "name": "stderr",
     "output_type": "stream",
     "text": [
      "[Parallel(n_jobs=4)]: Using backend LokyBackend with 4 concurrent workers.\n",
      "[Parallel(n_jobs=4)]: Done   2 out of   4 | elapsed:    0.0s remaining:    0.0s\n",
      "[Parallel(n_jobs=4)]: Done   4 out of   4 | elapsed:    0.0s finished\n"
     ]
    },
    {
     "name": "stdout",
     "output_type": "stream",
     "text": [
      "using random_20 for outlier calculations\n"
     ]
    },
    {
     "name": "stderr",
     "output_type": "stream",
     "text": [
      "[Parallel(n_jobs=4)]: Using backend LokyBackend with 4 concurrent workers.\n",
      "[Parallel(n_jobs=4)]: Done   2 out of   4 | elapsed:    0.0s remaining:    0.0s\n",
      "[Parallel(n_jobs=4)]: Done   4 out of   4 | elapsed:    0.0s finished\n"
     ]
    },
    {
     "name": "stdout",
     "output_type": "stream",
     "text": [
      "using Fscore_40 for outlier calculations\n"
     ]
    },
    {
     "name": "stderr",
     "output_type": "stream",
     "text": [
      "[Parallel(n_jobs=4)]: Using backend LokyBackend with 4 concurrent workers.\n",
      "[Parallel(n_jobs=4)]: Done   2 out of   4 | elapsed:    0.0s remaining:    0.0s\n",
      "[Parallel(n_jobs=4)]: Done   4 out of   4 | elapsed:    0.0s finished\n"
     ]
    },
    {
     "name": "stdout",
     "output_type": "stream",
     "text": [
      "using mutual_info_50 for outlier calculations\n"
     ]
    },
    {
     "name": "stderr",
     "output_type": "stream",
     "text": [
      "[Parallel(n_jobs=4)]: Using backend LokyBackend with 4 concurrent workers.\n",
      "[Parallel(n_jobs=4)]: Done   2 out of   4 | elapsed:    0.0s remaining:    0.0s\n",
      "[Parallel(n_jobs=4)]: Done   4 out of   4 | elapsed:    0.0s finished\n"
     ]
    },
    {
     "name": "stdout",
     "output_type": "stream",
     "text": [
      "using FechnerCorr_20 for outlier calculations\n"
     ]
    },
    {
     "name": "stderr",
     "output_type": "stream",
     "text": [
      "[Parallel(n_jobs=4)]: Using backend LokyBackend with 4 concurrent workers.\n",
      "[Parallel(n_jobs=4)]: Done   2 out of   4 | elapsed:    0.0s remaining:    0.0s\n",
      "[Parallel(n_jobs=4)]: Done   4 out of   4 | elapsed:    0.0s finished\n"
     ]
    },
    {
     "name": "stdout",
     "output_type": "stream",
     "text": [
      "using KendallCorr_30 for outlier calculations\n"
     ]
    },
    {
     "name": "stderr",
     "output_type": "stream",
     "text": [
      "[Parallel(n_jobs=4)]: Using backend LokyBackend with 4 concurrent workers.\n",
      "[Parallel(n_jobs=4)]: Done   2 out of   4 | elapsed:    0.0s remaining:    0.0s\n",
      "[Parallel(n_jobs=4)]: Done   4 out of   4 | elapsed:    0.0s finished\n"
     ]
    },
    {
     "name": "stdout",
     "output_type": "stream",
     "text": [
      "using xgbtree_60 for outlier calculations\n"
     ]
    },
    {
     "name": "stderr",
     "output_type": "stream",
     "text": [
      "[Parallel(n_jobs=4)]: Using backend LokyBackend with 4 concurrent workers.\n",
      "[Parallel(n_jobs=4)]: Done   2 out of   4 | elapsed:    0.0s remaining:    0.0s\n",
      "[Parallel(n_jobs=4)]: Done   4 out of   4 | elapsed:    0.0s finished\n"
     ]
    },
    {
     "name": "stdout",
     "output_type": "stream",
     "text": [
      "using Fscore_20 for outlier calculations\n"
     ]
    },
    {
     "name": "stderr",
     "output_type": "stream",
     "text": [
      "[Parallel(n_jobs=4)]: Using backend LokyBackend with 4 concurrent workers.\n",
      "[Parallel(n_jobs=4)]: Done   2 out of   4 | elapsed:    0.0s remaining:    0.0s\n",
      "[Parallel(n_jobs=4)]: Done   4 out of   4 | elapsed:    0.0s finished\n"
     ]
    },
    {
     "name": "stdout",
     "output_type": "stream",
     "text": [
      "using FechnerCorr_30 for outlier calculations\n"
     ]
    },
    {
     "name": "stderr",
     "output_type": "stream",
     "text": [
      "[Parallel(n_jobs=4)]: Using backend LokyBackend with 4 concurrent workers.\n",
      "[Parallel(n_jobs=4)]: Done   2 out of   4 | elapsed:    0.0s remaining:    0.0s\n",
      "[Parallel(n_jobs=4)]: Done   4 out of   4 | elapsed:    0.0s finished\n"
     ]
    },
    {
     "name": "stdout",
     "output_type": "stream",
     "text": [
      "using mutual_info_30 for outlier calculations\n"
     ]
    },
    {
     "name": "stderr",
     "output_type": "stream",
     "text": [
      "[Parallel(n_jobs=4)]: Using backend LokyBackend with 4 concurrent workers.\n",
      "[Parallel(n_jobs=4)]: Done   2 out of   4 | elapsed:    0.0s remaining:    0.0s\n",
      "[Parallel(n_jobs=4)]: Done   4 out of   4 | elapsed:    0.0s finished\n"
     ]
    },
    {
     "name": "stdout",
     "output_type": "stream",
     "text": [
      "using rfe_40 for outlier calculations\n"
     ]
    },
    {
     "name": "stderr",
     "output_type": "stream",
     "text": [
      "[Parallel(n_jobs=4)]: Using backend LokyBackend with 4 concurrent workers.\n",
      "[Parallel(n_jobs=4)]: Done   2 out of   4 | elapsed:    0.0s remaining:    0.0s\n",
      "[Parallel(n_jobs=4)]: Done   4 out of   4 | elapsed:    0.0s finished\n"
     ]
    },
    {
     "name": "stdout",
     "output_type": "stream",
     "text": [
      "using xgbtree_50 for outlier calculations\n"
     ]
    },
    {
     "name": "stderr",
     "output_type": "stream",
     "text": [
      "[Parallel(n_jobs=4)]: Using backend LokyBackend with 4 concurrent workers.\n",
      "[Parallel(n_jobs=4)]: Done   2 out of   4 | elapsed:    0.0s remaining:    0.0s\n",
      "[Parallel(n_jobs=4)]: Done   4 out of   4 | elapsed:    0.0s finished\n"
     ]
    },
    {
     "name": "stdout",
     "output_type": "stream",
     "text": [
      "using Fscore_50 for outlier calculations\n",
      "saving the outlier file\n"
     ]
    },
    {
     "name": "stderr",
     "output_type": "stream",
     "text": [
      "[Parallel(n_jobs=4)]: Using backend LokyBackend with 4 concurrent workers.\n",
      "[Parallel(n_jobs=4)]: Done   2 out of   4 | elapsed:    0.0s remaining:    0.0s\n",
      "[Parallel(n_jobs=4)]: Done   4 out of   4 | elapsed:    0.0s finished\n"
     ]
    }
   ],
   "source": [
    "detection = OutlierDetection(\"classification_results/filtered_features.xlsx\", output=\"classification_results/outliers.csv\", num_thread=4)\n",
    "outliers = detection.run()"
   ]
  },
  {
   "cell_type": "code",
   "execution_count": 14,
   "metadata": {},
   "outputs": [
    {
     "data": {
      "text/plain": [
       "#\n",
       "EH46(23)     258\n",
       "EH125(4)     195\n",
       "EH89(13)     176\n",
       "EH102(10)    144\n",
       "EH51(22)     132\n",
       "EH75(16)     125\n",
       "EH121(5)     111\n",
       "EH138(2)     106\n",
       "EH49(23)     103\n",
       "EH97(11)     102\n",
       "EH71(18)      95\n",
       "EH130(2)      91\n",
       "EH139(2)      87\n",
       "EH106(9)      76\n",
       "EH93(12)      67\n",
       "EH64(20)      65\n",
       "EH84(13)      63\n",
       "EH101(11)     54\n",
       "EH115(8)      51\n",
       "EH111(8)      46\n",
       "dtype: int64"
      ]
     },
     "execution_count": 14,
     "metadata": {},
     "output_type": "execute_result"
    }
   ],
   "source": [
    "outliers.head(20)"
   ]
  },
  {
   "cell_type": "markdown",
   "metadata": {},
   "source": [
    "# 5. Model Training: Classification"
   ]
  },
  {
   "cell_type": "code",
   "execution_count": 8,
   "metadata": {},
   "outputs": [],
   "source": [
    "from BioML.models.classification import Classifier\n",
    "from BioML.models.regression import Regressor\n",
    "from BioML.models.base import PycaretInterface, Trainer, DataParser\n",
    "from collections import defaultdict\n",
    "from functools import partial\n",
    "import pandas as pd\n",
    "import numpy as np\n",
    "from BioML.utilities.utils import write_results\n",
    "from sklearn.linear_model import PassiveAggressiveClassifier"
   ]
  },
  {
   "cell_type": "markdown",
   "metadata": {},
   "source": [
    "### We first read the data and create train and test set based on the sequence identity threshold\n",
    "The DataParser returns a dataframe with the labels as a column in the same dataframe, which is why we don't need the y_train and the y_test.\n",
    "This is how Pycaret likes it (the library used by BioML to train machine learning models) \n",
    "\n",
    "Here I'm only using one of the sheets for this example, but we don't know which of the sheets would perform better so we might need to iterate through the sheets, train the models and collect the performance for each sheet."
   ]
  },
  {
   "cell_type": "code",
   "execution_count": 9,
   "metadata": {},
   "outputs": [],
   "source": [
    "data = DataParser(\"classification_results/filtered_features.xlsx\", \"../data/esterase_labels.csv\", sheets=\"chi2_60\")\n",
    "data = DataParser(\"../data/esterase_features.xlsx\", \"../data/esterase_labels.csv\", sheets=\"ch2_20\")\n",
    "split = ClusterSpliter(\"cluster.tsv\", num_splits=5, random_state=100, stratified=True)\n",
    "X_train, X_test, _, _ = split.train_test_split(data.features, data.features[data.label])"
   ]
  },
  {
   "cell_type": "code",
   "execution_count": 6,
   "metadata": {},
   "outputs": [
    {
     "data": {
      "text/html": [
       "<div>\n",
       "<style scoped>\n",
       "    .dataframe tbody tr th:only-of-type {\n",
       "        vertical-align: middle;\n",
       "    }\n",
       "\n",
       "    .dataframe tbody tr th {\n",
       "        vertical-align: top;\n",
       "    }\n",
       "\n",
       "    .dataframe thead th {\n",
       "        text-align: right;\n",
       "    }\n",
       "</style>\n",
       "<table border=\"1\" class=\"dataframe\">\n",
       "  <thead>\n",
       "    <tr style=\"text-align: right;\">\n",
       "      <th></th>\n",
       "      <th>hydrophobicity_FASG890101.2.residue25</th>\n",
       "      <th>alphaticr.negativecharger.gap5</th>\n",
       "      <th>BHAR880101.lag9_moran</th>\n",
       "      <th>tri_gram_pssm7077</th>\n",
       "      <th>tri_gram_pssm286</th>\n",
       "      <th>tri_gram_pssm466</th>\n",
       "      <th>tri_gram_pssm3493</th>\n",
       "      <th>tri_gram_pssm1298</th>\n",
       "      <th>tri_gram_pssm5728</th>\n",
       "      <th>tri_gram_pssm7468</th>\n",
       "      <th>tri_gram_pssm1297</th>\n",
       "      <th>tri_gram_pssm4023</th>\n",
       "      <th>tri_gram_pssm3159</th>\n",
       "      <th>tri_gram_pssm7678</th>\n",
       "      <th>tri_gram_pssm7234</th>\n",
       "      <th>tri_gram_pssm5801</th>\n",
       "      <th>tri_gram_pssm5367</th>\n",
       "      <th>tri_gram_pssm7177</th>\n",
       "      <th>target</th>\n",
       "    </tr>\n",
       "  </thead>\n",
       "  <tbody>\n",
       "    <tr>\n",
       "      <th>EH111(8)</th>\n",
       "      <td>19.762846</td>\n",
       "      <td>0.040486</td>\n",
       "      <td>0.084414</td>\n",
       "      <td>0.002188</td>\n",
       "      <td>0.051697</td>\n",
       "      <td>0.048276</td>\n",
       "      <td>0.016844</td>\n",
       "      <td>0.004625</td>\n",
       "      <td>0.018720</td>\n",
       "      <td>0.010066</td>\n",
       "      <td>0.001115</td>\n",
       "      <td>0.088146</td>\n",
       "      <td>0.019392</td>\n",
       "      <td>0.030169</td>\n",
       "      <td>0.035476</td>\n",
       "      <td>0.080685</td>\n",
       "      <td>0.070774</td>\n",
       "      <td>0.001775</td>\n",
       "      <td>0</td>\n",
       "    </tr>\n",
       "    <tr>\n",
       "      <th>EH15(42)</th>\n",
       "      <td>26.279863</td>\n",
       "      <td>0.052265</td>\n",
       "      <td>-0.051729</td>\n",
       "      <td>0.010338</td>\n",
       "      <td>0.573238</td>\n",
       "      <td>0.169123</td>\n",
       "      <td>0.121183</td>\n",
       "      <td>0.019340</td>\n",
       "      <td>0.333862</td>\n",
       "      <td>0.171416</td>\n",
       "      <td>0.006026</td>\n",
       "      <td>0.451274</td>\n",
       "      <td>0.081755</td>\n",
       "      <td>0.229442</td>\n",
       "      <td>0.082068</td>\n",
       "      <td>0.262047</td>\n",
       "      <td>0.289476</td>\n",
       "      <td>0.006036</td>\n",
       "      <td>1</td>\n",
       "    </tr>\n",
       "    <tr>\n",
       "      <th>EH117(6)</th>\n",
       "      <td>25.267666</td>\n",
       "      <td>0.036876</td>\n",
       "      <td>-0.027442</td>\n",
       "      <td>0.007047</td>\n",
       "      <td>0.075657</td>\n",
       "      <td>0.082276</td>\n",
       "      <td>0.037046</td>\n",
       "      <td>0.010299</td>\n",
       "      <td>0.030363</td>\n",
       "      <td>0.023863</td>\n",
       "      <td>0.003769</td>\n",
       "      <td>0.188441</td>\n",
       "      <td>0.026338</td>\n",
       "      <td>0.058306</td>\n",
       "      <td>0.080121</td>\n",
       "      <td>0.122729</td>\n",
       "      <td>0.022790</td>\n",
       "      <td>0.009361</td>\n",
       "      <td>0</td>\n",
       "    </tr>\n",
       "    <tr>\n",
       "      <th>EH11(53)</th>\n",
       "      <td>19.032258</td>\n",
       "      <td>0.032895</td>\n",
       "      <td>0.042455</td>\n",
       "      <td>0.065163</td>\n",
       "      <td>0.875810</td>\n",
       "      <td>0.447033</td>\n",
       "      <td>0.195845</td>\n",
       "      <td>0.096829</td>\n",
       "      <td>0.513410</td>\n",
       "      <td>0.182430</td>\n",
       "      <td>0.031378</td>\n",
       "      <td>0.635770</td>\n",
       "      <td>0.265902</td>\n",
       "      <td>0.460689</td>\n",
       "      <td>0.281517</td>\n",
       "      <td>0.613932</td>\n",
       "      <td>0.404746</td>\n",
       "      <td>0.028915</td>\n",
       "      <td>1</td>\n",
       "    </tr>\n",
       "    <tr>\n",
       "      <th>EH135(2)</th>\n",
       "      <td>24.555160</td>\n",
       "      <td>0.047273</td>\n",
       "      <td>0.035283</td>\n",
       "      <td>0.004763</td>\n",
       "      <td>0.053927</td>\n",
       "      <td>0.031520</td>\n",
       "      <td>0.007024</td>\n",
       "      <td>0.005613</td>\n",
       "      <td>0.022906</td>\n",
       "      <td>0.011953</td>\n",
       "      <td>0.005436</td>\n",
       "      <td>0.069167</td>\n",
       "      <td>0.018054</td>\n",
       "      <td>0.040943</td>\n",
       "      <td>0.023389</td>\n",
       "      <td>0.035671</td>\n",
       "      <td>0.049431</td>\n",
       "      <td>0.004665</td>\n",
       "      <td>0</td>\n",
       "    </tr>\n",
       "  </tbody>\n",
       "</table>\n",
       "</div>"
      ],
      "text/plain": [
       "          hydrophobicity_FASG890101.2.residue25  \\\n",
       "EH111(8)                              19.762846   \n",
       "EH15(42)                              26.279863   \n",
       "EH117(6)                              25.267666   \n",
       "EH11(53)                              19.032258   \n",
       "EH135(2)                              24.555160   \n",
       "\n",
       "          alphaticr.negativecharger.gap5  BHAR880101.lag9_moran  \\\n",
       "EH111(8)                        0.040486               0.084414   \n",
       "EH15(42)                        0.052265              -0.051729   \n",
       "EH117(6)                        0.036876              -0.027442   \n",
       "EH11(53)                        0.032895               0.042455   \n",
       "EH135(2)                        0.047273               0.035283   \n",
       "\n",
       "          tri_gram_pssm7077  tri_gram_pssm286  tri_gram_pssm466  \\\n",
       "EH111(8)           0.002188          0.051697          0.048276   \n",
       "EH15(42)           0.010338          0.573238          0.169123   \n",
       "EH117(6)           0.007047          0.075657          0.082276   \n",
       "EH11(53)           0.065163          0.875810          0.447033   \n",
       "EH135(2)           0.004763          0.053927          0.031520   \n",
       "\n",
       "          tri_gram_pssm3493  tri_gram_pssm1298  tri_gram_pssm5728  \\\n",
       "EH111(8)           0.016844           0.004625           0.018720   \n",
       "EH15(42)           0.121183           0.019340           0.333862   \n",
       "EH117(6)           0.037046           0.010299           0.030363   \n",
       "EH11(53)           0.195845           0.096829           0.513410   \n",
       "EH135(2)           0.007024           0.005613           0.022906   \n",
       "\n",
       "          tri_gram_pssm7468  tri_gram_pssm1297  tri_gram_pssm4023  \\\n",
       "EH111(8)           0.010066           0.001115           0.088146   \n",
       "EH15(42)           0.171416           0.006026           0.451274   \n",
       "EH117(6)           0.023863           0.003769           0.188441   \n",
       "EH11(53)           0.182430           0.031378           0.635770   \n",
       "EH135(2)           0.011953           0.005436           0.069167   \n",
       "\n",
       "          tri_gram_pssm3159  tri_gram_pssm7678  tri_gram_pssm7234  \\\n",
       "EH111(8)           0.019392           0.030169           0.035476   \n",
       "EH15(42)           0.081755           0.229442           0.082068   \n",
       "EH117(6)           0.026338           0.058306           0.080121   \n",
       "EH11(53)           0.265902           0.460689           0.281517   \n",
       "EH135(2)           0.018054           0.040943           0.023389   \n",
       "\n",
       "          tri_gram_pssm5801  tri_gram_pssm5367  tri_gram_pssm7177  target  \n",
       "EH111(8)           0.080685           0.070774           0.001775       0  \n",
       "EH15(42)           0.262047           0.289476           0.006036       1  \n",
       "EH117(6)           0.122729           0.022790           0.009361       0  \n",
       "EH11(53)           0.613932           0.404746           0.028915       1  \n",
       "EH135(2)           0.035671           0.049431           0.004665       0  "
      ]
     },
     "execution_count": 6,
     "metadata": {},
     "output_type": "execute_result"
    }
   ],
   "source": [
    "X_train.head()"
   ]
  },
  {
   "cell_type": "markdown",
   "metadata": {},
   "source": [
    "There are 3 classes important for training machine learning models in BioML. \n",
    "\n",
    "1. The pycaretInterface which provides a thin layer between pycaret and BioML.\n",
    "2. Classifer or Regressor claases which has the training arguments\n",
    "3. Then the Trainer class that takes both classes to perform classification or regression task.\n",
    "\n",
    "This modularity is similar to other machine learning framewoeks like pytorch-lightning and Hugging Face\n",
    "\n",
    "I recommend learning more about pycaret since it does many things: https://pycaret.readthedocs.io/en/latest/"
   ]
  },
  {
   "cell_type": "markdown",
   "metadata": {},
   "source": [
    "Currently there are 19 supported models, but you can supply your custom models as well as long as it is compatible with the scikit learn API. A fit and a predict or predict_proba methods "
   ]
  },
  {
   "cell_type": "code",
   "execution_count": 16,
   "metadata": {},
   "outputs": [],
   "source": [
    "problem = \"classification\"\n",
    "passive = PassiveAggressiveClassifier()"
   ]
  },
  {
   "cell_type": "code",
   "execution_count": 17,
   "metadata": {},
   "outputs": [
    {
     "name": "stderr",
     "output_type": "stream",
     "text": [
      "28-05-2024 15:49:16 INFO ------------------------------------------------------------------------------\n",
      "28-05-2024 15:49:16 INFO PycaretInterface parameters\n",
      "28-05-2024 15:49:16 INFO Seed: 250\n",
      "28-05-2024 15:49:16 INFO Budget time: 20\n",
      "28-05-2024 15:49:16 INFO The number of models to select: 3\n",
      "28-05-2024 15:49:16 INFO Output path: classification_results\n",
      "28-05-2024 15:49:16 INFO ----------------Trainer inputs-------------------------\n",
      "28-05-2024 15:49:16 INFO Number of kfolds: 5\n",
      "28-05-2024 15:49:16 INFO Number of retuning iterations: 50\n",
      "28-05-2024 15:49:16 INFO Test size: 0.2\n"
     ]
    }
   ],
   "source": [
    "experiment = PycaretInterface(\"classification\", 250, budget_time=20, best_model=3, \n",
    "                                  output_path=\"classification_results\", optimize=\"MCC\")\n",
    "if problem == \"classification\":\n",
    "    args = Classifier(optimize=\"MCC\", drop=(), selected=(), add=(passive), plot=(\"learning\", \"confusion_matrix\", \"class_report\"))\n",
    "elif problem == \"regression\":\n",
    "    args = Regressor(optimize=\"RMSE\", drop=(), selected=(), add=(), plot=(\"learning\", \"residuals\", \"error\"))\n",
    "\n",
    "training = Trainer(experiment, args, num_splits=5, test_size=0.2,  num_iter=50, cross_validation=True)"
   ]
  },
  {
   "cell_type": "markdown",
   "metadata": {},
   "source": [
    "Here we pass the custom spliting class if we want to perform cross validation using the same sequence identity criteria.\n",
    "If the sequence identity threshold is important random cross validation would not be valid as well.\n",
    "\n",
    "You can create your own custing spliting class as long as it is compatible with CV generator in scikit-learn\n",
    "\n",
    "You can can also deactivate cross validation set cross_validation=False during the Trainer class instantiation. Then the metrics will be evaluated on the test set\n",
    "\n",
    "The results is a nested dictionary with the results for the different models, ensemble of models and stacking of the models.\n",
    "\n",
    "The models is another nested dictionary with the trained models\n"
   ]
  },
  {
   "cell_type": "code",
   "execution_count": 18,
   "metadata": {},
   "outputs": [
    {
     "name": "stderr",
     "output_type": "stream",
     "text": [
      "28-05-2024 15:49:25 INFO --------------------------------------------------------\n",
      "28-05-2024 15:49:25 INFO Training classification models\n",
      "28-05-2024 15:49:25 INFO The models used ['lr', 'knn', 'nb', 'dt', 'svm', 'rbfsvm', 'gpc', 'mlp', 'ridge', 'rf', 'qda', 'ada', 'gbc', 'lda', 'et', 'xgboost', 'lightgbm', 'catboost', 'dummy', PassiveAggressiveClassifier(C=1.0, average=False, class_weight=None,\n",
      "                            early_stopping=False, fit_intercept=True,\n",
      "                            loss='hinge', max_iter=1000, n_iter_no_change=5,\n",
      "                            n_jobs=None, random_state=None, shuffle=True,\n",
      "                            tol=0.001, validation_fraction=0.1, verbose=0,\n",
      "                            warm_start=False)]\n",
      "28-05-2024 15:49:25 INFO The number of models used 20\n",
      "28-05-2024 15:49:25 INFO Time budget is 20 minutes\n",
      "28-05-2024 15:49:28 INFO Model knn trained in 0.057 minutes\n",
      "28-05-2024 15:49:31 INFO Model mlp trained in 0.047 minutes\n",
      "28-05-2024 15:49:32 INFO Model dt trained in 0.017 minutes\n",
      "28-05-2024 15:49:33 INFO Model svm trained in 0.018 minutes\n",
      "28-05-2024 15:49:34 INFO Model ada trained in 0.021 minutes\n",
      "28-05-2024 15:49:35 INFO Model nb trained in 0.017 minutes\n",
      "28-05-2024 15:49:38 INFO Model gpc trained in 0.051 minutes\n",
      "28-05-2024 15:49:40 INFO Model dummy trained in 0.019 minutes\n",
      "28-05-2024 15:49:41 INFO Model xgboost trained in 0.023 minutes\n",
      "28-05-2024 15:49:42 INFO Model ridge trained in 0.019 minutes\n",
      "28-05-2024 15:49:44 INFO Model gbc trained in 0.024 minutes\n",
      "28-05-2024 15:49:45 INFO Model qda trained in 0.017 minutes\n",
      "28-05-2024 15:51:26 INFO Model lightgbm trained in 1.689 minutes\n",
      "28-05-2024 15:51:38 INFO Model catboost trained in 0.195 minutes\n",
      "28-05-2024 15:51:39 INFO Model PassiveAggressiveClassifier trained in 0.018 minutes\n",
      "28-05-2024 15:51:40 INFO Model rf trained in 0.026 minutes\n",
      "28-05-2024 15:51:41 INFO Model rbfsvm trained in 0.017 minutes\n",
      "28-05-2024 15:51:42 INFO Model lr trained in 0.018 minutes\n",
      "28-05-2024 15:51:43 INFO Model lda trained in 0.017 minutes\n",
      "28-05-2024 15:51:45 INFO Model et trained in 0.025 minutes\n",
      "28-05-2024 15:51:45 INFO Training over: Total runtime 2.337 minutes\n",
      "28-05-2024 15:51:45 INFO Analyse the best models and plotting them\n",
      "28-05-2024 15:51:45 INFO Analyse the top 1 model: rbfsvm\n",
      "28-05-2024 15:51:46 INFO Analyse the top 2 model: svm\n",
      "28-05-2024 15:51:48 INFO Analyse the top 3 model: gpc\n",
      "28-05-2024 15:51:49 INFO --------Stacking the best models--------\n",
      "28-05-2024 15:51:49 INFO ----------Stacking the best models--------------\n",
      "28-05-2024 15:51:51 INFO --------Creating an ensemble model--------\n",
      "28-05-2024 15:51:51 INFO ----------Creating a majority voting model--------------\n",
      "28-05-2024 15:51:51 INFO fold: 5\n",
      "28-05-2024 15:51:51 INFO weights: None\n",
      "28-05-2024 15:51:53 INFO --------Retuning the best models--------\n",
      "28-05-2024 15:51:53 INFO Retuning rbfsvm\n",
      "28-05-2024 15:51:53 INFO ---------Retuning the best models--------------\n",
      "28-05-2024 15:51:53 INFO num_iter: 50\n",
      "28-05-2024 15:51:53 INFO fold: 5\n",
      "28-05-2024 15:52:02 INFO Retuning svm\n",
      "28-05-2024 15:52:02 INFO Retuning gpc\n",
      "28-05-2024 15:52:02 INFO ---------Retuning the best models--------------\n",
      "28-05-2024 15:52:02 INFO num_iter: 50\n",
      "28-05-2024 15:52:02 INFO fold: 5\n",
      "28-05-2024 15:52:36 INFO --------Stacking the best models--------\n",
      "28-05-2024 15:52:36 INFO ----------Stacking the best models--------------\n",
      "28-05-2024 15:52:38 INFO --------Creating an ensemble model--------\n",
      "28-05-2024 15:52:38 INFO ----------Creating a majority voting model--------------\n",
      "28-05-2024 15:52:38 INFO fold: 5\n",
      "28-05-2024 15:52:38 INFO weights: None\n",
      "28-05-2024 15:52:39 INFO Analyse the best models and plotting them\n",
      "28-05-2024 15:52:39 INFO Analyse the top 1 model: rbfsvm\n",
      "28-05-2024 15:52:41 INFO Analyse the top 2 model: svm\n",
      "28-05-2024 15:52:42 INFO Analyse the top 3 model: gpc\n"
     ]
    }
   ],
   "source": [
    "results, models = training.generate_training_results(X_train, data.label, tune=True, test_data=X_test, fold_strategy=split)"
   ]
  },
  {
   "cell_type": "markdown",
   "metadata": {},
   "source": [
    "Pycaret also generates different plots for the models it trains, like learning curves, validation curves, Precision Recall Curve, AUC etc: \n",
    "You can add more plots by modifying the plots argument in the classifier or regressor class\n",
    "\n",
    "You can see the full list of plots here: https://pycaret.readthedocs.io/en/stable/api/classification.html#pycaret.classification.plot_model\n",
    "\n",
    "Let's explain the 3 plots that I included by default for the classification: (\"learning\", \"confusion_matrix\", \"class_report\")\n",
    "For regression these are the 3 plots: (\"residuals\", \"error\", \"learning\")\n",
    "Here is an example learning curve plot.\n",
    "\n",
    "You can access directly the pycaret class and play with it like this"
   ]
  },
  {
   "cell_type": "code",
   "execution_count": 19,
   "metadata": {},
   "outputs": [
    {
     "data": {
      "text/html": [],
      "text/plain": [
       "<IPython.core.display.HTML object>"
      ]
     },
     "metadata": {},
     "output_type": "display_data"
    },
    {
     "data": {
      "image/png": "[encoded data removed]",
      "text/plain": [
       "<Figure size 800x550 with 1 Axes>"
      ]
     },
     "metadata": {},
     "output_type": "display_data"
    }
   ],
   "source": [
    "experiment.pycaret.plot_model(models[\"not_tuned\"][\"train\"][\"rbfsvm\"], \"learning\")"
   ]
  },
  {
   "cell_type": "markdown",
   "metadata": {},
   "source": [
    "Then if we want we can generate the predictions for the test or holdout set by providing with the trained models and finally \n",
    "we save both the training and the test set results\n",
    "\n",
    "Looking at the results we can find out which models have performed well and see how we could combine them. Currently it combines automatically teh best 3 but that might not be the best approach."
   ]
  },
  {
   "cell_type": "code",
   "execution_count": 20,
   "metadata": {},
   "outputs": [],
   "source": [
    "test_set_predictions = training.generate_holdout_prediction(models)"
   ]
  },
  {
   "cell_type": "code",
   "execution_count": 21,
   "metadata": {},
   "outputs": [],
   "source": [
    "training_output = \"classification_results\"\n",
    "l = []\n",
    "for tune_status, result_dict in results.items():\n",
    "    for key, value in result_dict.items():\n",
    "        write_results(f\"{training_output}/{tune_status}\", *value, sheet_name=key)\n",
    "    write_results(f\"{training_output}/{tune_status}\", test_set_predictions[tune_status] , sheet_name=f\"test_results\")"
   ]
  },
  {
   "cell_type": "markdown",
   "metadata": {},
   "source": [
    "This is an example of using one feature set, but if you had various features sets that you want to test you could use iterate_excel from the utilities and the iterate_multiple_features method from Trainer.\n",
    "\n",
    "The method accepts an iterator of (feature dataframe, label column name, name): \n",
    "    1. name is used to identify the features later in the results\n",
    "    2. feature dataframe should contain a column with teh labels\n",
    "    3. label column name within the feature dataframe\n",
    "\n",
    "Then it calls the run_training method from the Trainer iteratively and gathers performance metrics for different sheets.\n",
    "run_training only runs the models without tuning, stacking or esembling.\n",
    "Finally it write the results for each sheet\n",
    "\n",
    "Once you have picked the best performing sheet you could run again the previous steps then perform tuning, stacking and ensembling\n",
    "\n",
    "Iterate excel reads all the sheets from an excel and yields (feature dataframe, label column name, sheet)"
   ]
  },
  {
   "cell_type": "code",
   "execution_count": 44,
   "metadata": {},
   "outputs": [],
   "source": [
    "from BioML.utilities.utils import write_results, iterate_excel\n",
    "from BioML.models.base import DataParser"
   ]
  },
  {
   "cell_type": "code",
   "execution_count": 45,
   "metadata": {},
   "outputs": [
    {
     "name": "stderr",
     "output_type": "stream",
     "text": [
      "27-05-2024 18:59:37 INFO ------------------------------------------------------------------------------\n",
      "27-05-2024 18:59:37 INFO PycaretInterface parameters\n",
      "27-05-2024 18:59:37 INFO Seed: 250\n",
      "27-05-2024 18:59:37 INFO Budget time: 20\n",
      "27-05-2024 18:59:37 INFO The number of models to select: 4\n",
      "27-05-2024 18:59:37 INFO Output path: classification_results\n",
      "27-05-2024 18:59:37 INFO ----------------Trainer inputs-------------------------\n",
      "27-05-2024 18:59:37 INFO Number of kfolds: 5\n",
      "27-05-2024 18:59:37 INFO Number of retuning iterations: 50\n",
      "27-05-2024 18:59:37 INFO Test size: 0.2\n"
     ]
    }
   ],
   "source": [
    "experiment = PycaretInterface(\"classification\", 250, budget_time=20, best_model=4, \n",
    "                                  output_path=\"classification_results\", optimize=\"MCC\")\n",
    "classifier = Classifier(optimize=\"MCC\", drop=(), selected=(), add=())\n",
    "training = Trainer(experiment, classifier, num_splits=5, test_size=0.2,  num_iter=50)"
   ]
  },
  {
   "cell_type": "code",
   "execution_count": 46,
   "metadata": {},
   "outputs": [
    {
     "name": "stderr",
     "output_type": "stream",
     "text": [
      "27-05-2024 18:59:46 INFO --------------------------------------------------------\n",
      "27-05-2024 18:59:46 INFO Training classification models\n",
      "27-05-2024 18:59:46 INFO The models used ['lr', 'knn', 'nb', 'dt', 'svm', 'rbfsvm', 'gpc', 'mlp', 'ridge', 'rf', 'qda', 'ada', 'gbc', 'lda', 'et', 'xgboost', 'lightgbm', 'catboost', 'dummy']\n",
      "27-05-2024 18:59:46 INFO The number of models used 19\n",
      "27-05-2024 18:59:46 INFO Time budget is 20 minutes\n",
      "27-05-2024 18:59:50 INFO Model ada trained in 0.064 minutes\n",
      "27-05-2024 18:59:52 INFO Model svm trained in 0.041 minutes\n",
      "27-05-2024 18:59:53 INFO Model ridge trained in 0.02 minutes\n",
      "27-05-2024 18:59:55 INFO Model xgboost trained in 0.023 minutes\n",
      "27-05-2024 18:59:56 INFO Model nb trained in 0.02 minutes\n",
      "27-05-2024 19:01:42 INFO Model lightgbm trained in 1.774 minutes\n",
      "27-05-2024 19:01:44 INFO Model gpc trained in 0.022 minutes\n",
      "27-05-2024 19:01:45 INFO Model knn trained in 0.025 minutes\n",
      "27-05-2024 19:01:46 INFO Model rbfsvm trained in 0.02 minutes\n",
      "27-05-2024 19:01:48 INFO Model gbc trained in 0.026 minutes\n",
      "27-05-2024 19:01:49 INFO Model dummy trained in 0.02 minutes\n",
      "27-05-2024 19:01:50 INFO Model dt trained in 0.02 minutes\n",
      "27-05-2024 19:01:52 INFO Model qda trained in 0.02 minutes\n",
      "27-05-2024 19:01:53 INFO Model rf trained in 0.028 minutes\n",
      "27-05-2024 19:01:59 INFO Model catboost trained in 0.096 minutes\n",
      "27-05-2024 19:02:01 INFO Model mlp trained in 0.028 minutes\n",
      "27-05-2024 19:02:02 INFO Model lr trained in 0.02 minutes\n",
      "27-05-2024 19:02:03 INFO Model lda trained in 0.02 minutes\n",
      "27-05-2024 19:02:05 INFO Model et trained in 0.027 minutes\n",
      "27-05-2024 19:02:05 INFO Training over: Total runtime 2.313 minutes\n",
      "27-05-2024 19:02:06 INFO --------------------------------------------------------\n",
      "27-05-2024 19:02:06 INFO Training classification models\n",
      "27-05-2024 19:02:06 INFO The models used ['ada', 'svm', 'ridge', 'xgboost', 'nb', 'lightgbm', 'gpc', 'knn', 'rbfsvm', 'gbc', 'dummy', 'dt', 'qda', 'rf', 'catboost', 'mlp', 'lr', 'lda', 'et']\n",
      "27-05-2024 19:02:06 INFO The number of models used 19\n",
      "27-05-2024 19:02:06 INFO Time budget is 20 minutes\n",
      "27-05-2024 19:02:07 INFO Model dt trained in 0.02 minutes\n",
      "27-05-2024 19:02:08 INFO Model nb trained in 0.021 minutes\n",
      "27-05-2024 19:02:09 INFO Model rbfsvm trained in 0.02 minutes\n",
      "27-05-2024 19:02:11 INFO Model mlp trained in 0.027 minutes\n",
      "27-05-2024 19:02:12 INFO Model ridge trained in 0.02 minutes\n",
      "27-05-2024 19:02:13 INFO Model lr trained in 0.02 minutes\n",
      "27-05-2024 19:02:15 INFO Model gpc trained in 0.023 minutes\n",
      "27-05-2024 19:02:16 INFO Model svm trained in 0.02 minutes\n",
      "27-05-2024 19:03:47 INFO Model lightgbm trained in 1.519 minutes\n",
      "27-05-2024 19:03:48 INFO Model qda trained in 0.02 minutes\n",
      "27-05-2024 19:03:50 INFO Model et trained in 0.027 minutes\n",
      "27-05-2024 19:03:51 INFO Model xgboost trained in 0.021 minutes\n",
      "27-05-2024 19:03:52 INFO Model dummy trained in 0.02 minutes\n",
      "27-05-2024 19:03:54 INFO Model gbc trained in 0.023 minutes\n",
      "27-05-2024 19:03:55 INFO Model lda trained in 0.021 minutes\n",
      "27-05-2024 19:03:56 INFO Model knn trained in 0.021 minutes\n",
      "27-05-2024 19:03:58 INFO Model ada trained in 0.023 minutes\n",
      "27-05-2024 19:03:59 INFO Model rf trained in 0.027 minutes\n",
      "27-05-2024 19:04:04 INFO Model catboost trained in 0.085 minutes\n",
      "27-05-2024 19:04:04 INFO Training over: Total runtime 1.979 minutes\n",
      "27-05-2024 19:04:05 INFO --------------------------------------------------------\n",
      "27-05-2024 19:04:05 INFO Training classification models\n",
      "27-05-2024 19:04:05 INFO The models used ['dt', 'nb', 'rbfsvm', 'mlp', 'ridge', 'lr', 'gpc', 'svm', 'lightgbm', 'qda', 'et', 'xgboost', 'dummy', 'gbc', 'lda', 'knn', 'ada', 'rf', 'catboost']\n",
      "27-05-2024 19:04:05 INFO The number of models used 19\n",
      "27-05-2024 19:04:05 INFO Time budget is 20 minutes\n",
      "27-05-2024 19:04:07 INFO Model xgboost trained in 0.021 minutes\n",
      "27-05-2024 19:04:08 INFO Model ridge trained in 0.02 minutes\n",
      "27-05-2024 19:05:49 INFO Model lightgbm trained in 1.682 minutes\n",
      "27-05-2024 19:05:50 INFO Model knn trained in 0.02 minutes\n",
      "27-05-2024 19:05:51 INFO Model rbfsvm trained in 0.019 minutes\n",
      "27-05-2024 19:05:52 INFO Model ada trained in 0.022 minutes\n",
      "27-05-2024 19:05:54 INFO Model gpc trained in 0.021 minutes\n",
      "27-05-2024 19:05:55 INFO Model nb trained in 0.019 minutes\n",
      "27-05-2024 19:05:56 INFO Model lr trained in 0.019 minutes\n",
      "27-05-2024 19:05:57 INFO Model dummy trained in 0.02 minutes\n",
      "27-05-2024 19:06:05 INFO Model catboost trained in 0.128 minutes\n",
      "27-05-2024 19:06:06 INFO Model mlp trained in 0.024 minutes\n",
      "27-05-2024 19:06:08 INFO Model et trained in 0.024 minutes\n",
      "27-05-2024 19:06:09 INFO Model qda trained in 0.018 minutes\n",
      "27-05-2024 19:06:10 INFO Model rf trained in 0.025 minutes\n",
      "27-05-2024 19:06:11 INFO Model svm trained in 0.019 minutes\n",
      "27-05-2024 19:06:13 INFO Model dt trained in 0.02 minutes\n",
      "27-05-2024 19:06:14 INFO Model gbc trained in 0.024 minutes\n",
      "27-05-2024 19:06:15 INFO Model lda trained in 0.019 minutes\n",
      "27-05-2024 19:06:15 INFO Training over: Total runtime 2.162 minutes\n",
      "27-05-2024 19:06:16 INFO --------------------------------------------------------\n",
      "27-05-2024 19:06:16 INFO Training classification models\n",
      "27-05-2024 19:06:16 INFO The models used ['xgboost', 'ridge', 'lightgbm', 'knn', 'rbfsvm', 'ada', 'gpc', 'nb', 'lr', 'dummy', 'catboost', 'mlp', 'et', 'qda', 'rf', 'svm', 'dt', 'gbc', 'lda']\n",
      "27-05-2024 19:06:16 INFO The number of models used 19\n",
      "27-05-2024 19:06:16 INFO Time budget is 20 minutes\n",
      "27-05-2024 19:06:18 INFO Model mlp trained in 0.024 minutes\n",
      "27-05-2024 19:06:19 INFO Model rbfsvm trained in 0.019 minutes\n",
      "27-05-2024 19:06:20 INFO Model lr trained in 0.019 minutes\n",
      "27-05-2024 19:06:21 INFO Model svm trained in 0.019 minutes\n",
      "27-05-2024 19:08:08 INFO Model lightgbm trained in 1.777 minutes\n",
      "27-05-2024 19:08:09 INFO Model dt trained in 0.019 minutes\n",
      "27-05-2024 19:08:10 INFO Model gpc trained in 0.021 minutes\n",
      "27-05-2024 19:08:11 INFO Model ridge trained in 0.019 minutes\n",
      "27-05-2024 19:08:12 INFO Model ada trained in 0.022 minutes\n",
      "27-05-2024 19:08:14 INFO Model et trained in 0.024 minutes\n",
      "27-05-2024 19:08:15 INFO Model lda trained in 0.019 minutes\n",
      "27-05-2024 19:08:16 INFO Model knn trained in 0.019 minutes\n",
      "27-05-2024 19:08:22 INFO Model catboost trained in 0.09 minutes\n",
      "27-05-2024 19:08:23 INFO Model dummy trained in 0.019 minutes\n",
      "27-05-2024 19:08:24 INFO Model gbc trained in 0.023 minutes\n",
      "27-05-2024 19:08:25 INFO Model nb trained in 0.019 minutes\n",
      "27-05-2024 19:08:26 INFO Model xgboost trained in 0.02 minutes\n",
      "27-05-2024 19:08:28 INFO Model qda trained in 0.02 minutes\n",
      "27-05-2024 19:08:29 INFO Model rf trained in 0.025 minutes\n",
      "27-05-2024 19:08:29 INFO Training over: Total runtime 2.218 minutes\n",
      "27-05-2024 19:08:30 INFO --------------------------------------------------------\n",
      "27-05-2024 19:08:30 INFO Training classification models\n",
      "27-05-2024 19:08:30 INFO The models used ['mlp', 'rbfsvm', 'lr', 'svm', 'lightgbm', 'dt', 'gpc', 'ridge', 'ada', 'et', 'lda', 'knn', 'catboost', 'dummy', 'gbc', 'nb', 'xgboost', 'qda', 'rf']\n",
      "27-05-2024 19:08:30 INFO The number of models used 19\n",
      "27-05-2024 19:08:30 INFO Time budget is 20 minutes\n",
      "27-05-2024 19:08:31 INFO Model knn trained in 0.019 minutes\n",
      "27-05-2024 19:10:13 INFO Model lightgbm trained in 1.692 minutes\n",
      "27-05-2024 19:10:14 INFO Model ada trained in 0.022 minutes\n",
      "27-05-2024 19:10:15 INFO Model nb trained in 0.019 minutes\n",
      "27-05-2024 19:10:16 INFO Model lr trained in 0.02 minutes\n",
      "27-05-2024 19:10:18 INFO Model xgboost trained in 0.02 minutes\n",
      "27-05-2024 19:10:19 INFO Model gpc trained in 0.021 minutes\n",
      "27-05-2024 19:10:20 INFO Model rbfsvm trained in 0.019 minutes\n",
      "27-05-2024 19:10:21 INFO Model dt trained in 0.019 minutes\n",
      "27-05-2024 19:10:25 INFO Model catboost trained in 0.071 minutes\n",
      "27-05-2024 19:10:27 INFO Model rf trained in 0.026 minutes\n",
      "27-05-2024 19:10:28 INFO Model svm trained in 0.019 minutes\n",
      "27-05-2024 19:10:29 INFO Model lda trained in 0.019 minutes\n",
      "27-05-2024 19:10:31 INFO Model et trained in 0.024 minutes\n",
      "27-05-2024 19:10:32 INFO Model qda trained in 0.019 minutes\n",
      "27-05-2024 19:10:33 INFO Model ridge trained in 0.019 minutes\n",
      "27-05-2024 19:10:34 INFO Model mlp trained in 0.025 minutes\n",
      "27-05-2024 19:10:36 INFO Model dummy trained in 0.02 minutes\n",
      "27-05-2024 19:10:37 INFO Model gbc trained in 0.022 minutes\n",
      "27-05-2024 19:10:37 INFO Training over: Total runtime 2.115 minutes\n",
      "27-05-2024 19:10:38 INFO --------------------------------------------------------\n",
      "27-05-2024 19:10:38 INFO Training classification models\n",
      "27-05-2024 19:10:38 INFO The models used ['knn', 'lightgbm', 'ada', 'nb', 'lr', 'xgboost', 'gpc', 'rbfsvm', 'dt', 'catboost', 'rf', 'svm', 'lda', 'et', 'qda', 'ridge', 'mlp', 'dummy', 'gbc']\n",
      "27-05-2024 19:10:38 INFO The number of models used 19\n",
      "27-05-2024 19:10:38 INFO Time budget is 20 minutes\n",
      "27-05-2024 19:10:39 INFO Model svm trained in 0.019 minutes\n",
      "27-05-2024 19:10:40 INFO Model lr trained in 0.019 minutes\n",
      "27-05-2024 19:10:41 INFO Model dt trained in 0.019 minutes\n",
      "27-05-2024 19:10:43 INFO Model ridge trained in 0.019 minutes\n",
      "27-05-2024 19:10:44 INFO Model ada trained in 0.022 minutes\n",
      "27-05-2024 19:10:45 INFO Model mlp trained in 0.025 minutes\n",
      "27-05-2024 19:10:47 INFO Model gpc trained in 0.02 minutes\n",
      "27-05-2024 19:12:32 INFO Model lightgbm trained in 1.749 minutes\n",
      "27-05-2024 19:12:33 INFO Model xgboost trained in 0.02 minutes\n",
      "27-05-2024 19:12:34 INFO Model lda trained in 0.019 minutes\n",
      "27-05-2024 19:12:35 INFO Model gbc trained in 0.022 minutes\n",
      "27-05-2024 19:12:36 INFO Model nb trained in 0.02 minutes\n",
      "27-05-2024 19:12:38 INFO Model rf trained in 0.025 minutes\n",
      "27-05-2024 19:12:43 INFO Model catboost trained in 0.085 minutes\n",
      "27-05-2024 19:12:44 INFO Model dummy trained in 0.019 minutes\n",
      "27-05-2024 19:12:45 INFO Model rbfsvm trained in 0.019 minutes\n",
      "27-05-2024 19:12:47 INFO Model knn trained in 0.02 minutes\n",
      "27-05-2024 19:12:48 INFO Model et trained in 0.025 minutes\n",
      "27-05-2024 19:12:49 INFO Model qda trained in 0.02 minutes\n",
      "27-05-2024 19:12:49 INFO Training over: Total runtime 2.189 minutes\n",
      "27-05-2024 19:12:50 INFO --------------------------------------------------------\n",
      "27-05-2024 19:12:50 INFO Training classification models\n",
      "27-05-2024 19:12:50 INFO The models used ['svm', 'lr', 'dt', 'ridge', 'ada', 'mlp', 'gpc', 'lightgbm', 'xgboost', 'lda', 'gbc', 'nb', 'rf', 'catboost', 'dummy', 'rbfsvm', 'knn', 'et', 'qda']\n",
      "27-05-2024 19:12:50 INFO The number of models used 19\n",
      "27-05-2024 19:12:50 INFO Time budget is 20 minutes\n",
      "27-05-2024 19:12:51 INFO Model nb trained in 0.019 minutes\n",
      "27-05-2024 19:12:53 INFO Model ada trained in 0.023 minutes\n",
      "27-05-2024 19:12:54 INFO Model xgboost trained in 0.02 minutes\n",
      "27-05-2024 19:12:55 INFO Model rbfsvm trained in 0.02 minutes\n",
      "27-05-2024 19:12:56 INFO Model dt trained in 0.02 minutes\n",
      "27-05-2024 19:12:58 INFO Model knn trained in 0.019 minutes\n",
      "27-05-2024 19:12:59 INFO Model gpc trained in 0.021 minutes\n",
      "27-05-2024 19:13:00 INFO Model lr trained in 0.019 minutes\n",
      "27-05-2024 19:13:01 INFO Model mlp trained in 0.024 minutes\n",
      "27-05-2024 19:13:03 INFO Model rf trained in 0.025 minutes\n",
      "27-05-2024 19:13:04 INFO Model qda trained in 0.02 minutes\n",
      "27-05-2024 19:13:05 INFO Model ridge trained in 0.019 minutes\n",
      "27-05-2024 19:13:07 INFO Model gbc trained in 0.023 minutes\n",
      "27-05-2024 19:13:08 INFO Model lda trained in 0.019 minutes\n",
      "27-05-2024 19:13:09 INFO Model et trained in 0.024 minutes\n",
      "27-05-2024 19:14:53 INFO Model lightgbm trained in 1.729 minutes\n",
      "27-05-2024 19:14:54 INFO Model svm trained in 0.019 minutes\n",
      "27-05-2024 19:14:59 INFO Model catboost trained in 0.085 minutes\n",
      "27-05-2024 19:15:00 INFO Model dummy trained in 0.019 minutes\n",
      "27-05-2024 19:15:00 INFO Training over: Total runtime 2.167 minutes\n",
      "27-05-2024 19:15:01 INFO --------------------------------------------------------\n",
      "27-05-2024 19:15:01 INFO Training classification models\n",
      "27-05-2024 19:15:01 INFO The models used ['nb', 'ada', 'xgboost', 'rbfsvm', 'dt', 'knn', 'gpc', 'lr', 'mlp', 'rf', 'qda', 'ridge', 'gbc', 'lda', 'et', 'lightgbm', 'svm', 'catboost', 'dummy']\n",
      "27-05-2024 19:15:01 INFO The number of models used 19\n",
      "27-05-2024 19:15:01 INFO Time budget is 20 minutes\n",
      "27-05-2024 19:15:02 INFO Model ridge trained in 0.02 minutes\n",
      "27-05-2024 19:15:04 INFO Model dt trained in 0.019 minutes\n",
      "27-05-2024 19:15:05 INFO Model mlp trained in 0.025 minutes\n",
      "27-05-2024 19:16:44 INFO Model lightgbm trained in 1.648 minutes\n",
      "27-05-2024 19:16:45 INFO Model xgboost trained in 0.022 minutes\n",
      "27-05-2024 19:16:46 INFO Model svm trained in 0.019 minutes\n",
      "27-05-2024 19:16:48 INFO Model gpc trained in 0.022 minutes\n",
      "27-05-2024 19:16:49 INFO Model ada trained in 0.022 minutes\n",
      "27-05-2024 19:16:50 INFO Model knn trained in 0.019 minutes\n",
      "27-05-2024 19:16:52 INFO Model gbc trained in 0.022 minutes\n",
      "27-05-2024 19:16:53 INFO Model dummy trained in 0.019 minutes\n",
      "27-05-2024 19:16:54 INFO Model rbfsvm trained in 0.019 minutes\n",
      "27-05-2024 19:16:55 INFO Model qda trained in 0.02 minutes\n",
      "27-05-2024 19:16:57 INFO Model rf trained in 0.025 minutes\n",
      "27-05-2024 19:17:02 INFO Model catboost trained in 0.089 minutes\n",
      "27-05-2024 19:17:03 INFO Model lr trained in 0.019 minutes\n",
      "27-05-2024 19:17:04 INFO Model nb trained in 0.019 minutes\n",
      "27-05-2024 19:17:05 INFO Model lda trained in 0.019 minutes\n",
      "27-05-2024 19:17:07 INFO Model et trained in 0.025 minutes\n",
      "27-05-2024 19:17:07 INFO Training over: Total runtime 2.095 minutes\n",
      "27-05-2024 19:17:08 INFO --------------------------------------------------------\n",
      "27-05-2024 19:17:08 INFO Training classification models\n",
      "27-05-2024 19:17:08 INFO The models used ['ridge', 'dt', 'mlp', 'lightgbm', 'xgboost', 'svm', 'gpc', 'ada', 'knn', 'gbc', 'dummy', 'rbfsvm', 'qda', 'rf', 'catboost', 'lr', 'nb', 'lda', 'et']\n",
      "27-05-2024 19:17:08 INFO The number of models used 19\n",
      "27-05-2024 19:17:08 INFO Time budget is 20 minutes\n",
      "27-05-2024 19:17:09 INFO Model rbfsvm trained in 0.02 minutes\n",
      "27-05-2024 19:17:10 INFO Model xgboost trained in 0.021 minutes\n",
      "27-05-2024 19:17:11 INFO Model knn trained in 0.02 minutes\n",
      "27-05-2024 19:17:13 INFO Model lr trained in 0.019 minutes\n",
      "27-05-2024 19:17:14 INFO Model mlp trained in 0.024 minutes\n",
      "27-05-2024 19:17:15 INFO Model nb trained in 0.019 minutes\n",
      "27-05-2024 19:17:17 INFO Model gpc trained in 0.021 minutes\n",
      "27-05-2024 19:17:18 INFO Model dt trained in 0.02 minutes\n",
      "27-05-2024 19:17:19 INFO Model svm trained in 0.02 minutes\n",
      "27-05-2024 19:17:20 INFO Model qda trained in 0.02 minutes\n",
      "27-05-2024 19:17:22 INFO Model et trained in 0.024 minutes\n",
      "27-05-2024 19:19:13 INFO Model lightgbm trained in 1.853 minutes\n",
      "27-05-2024 19:19:14 INFO Model dummy trained in 0.019 minutes\n",
      "27-05-2024 19:19:15 INFO Model gbc trained in 0.023 minutes\n",
      "27-05-2024 19:19:16 INFO Model lda trained in 0.02 minutes\n",
      "27-05-2024 19:19:18 INFO Model ada trained in 0.023 minutes\n",
      "27-05-2024 19:19:19 INFO Model ridge trained in 0.02 minutes\n",
      "27-05-2024 19:19:21 INFO Model rf trained in 0.026 minutes\n",
      "27-05-2024 19:19:26 INFO Model catboost trained in 0.099 minutes\n",
      "27-05-2024 19:19:26 INFO Training over: Total runtime 2.311 minutes\n",
      "27-05-2024 19:19:27 INFO --------------------------------------------------------\n",
      "27-05-2024 19:19:27 INFO Training classification models\n",
      "27-05-2024 19:19:27 INFO The models used ['rbfsvm', 'xgboost', 'knn', 'lr', 'mlp', 'nb', 'gpc', 'dt', 'svm', 'qda', 'et', 'lightgbm', 'dummy', 'gbc', 'lda', 'ada', 'ridge', 'rf', 'catboost']\n",
      "27-05-2024 19:19:27 INFO The number of models used 19\n",
      "27-05-2024 19:19:27 INFO Time budget is 20 minutes\n",
      "27-05-2024 19:21:09 INFO Model lightgbm trained in 1.699 minutes\n",
      "27-05-2024 19:21:11 INFO Model mlp trained in 0.025 minutes\n",
      "27-05-2024 19:21:12 INFO Model svm trained in 0.02 minutes\n",
      "27-05-2024 19:21:13 INFO Model ada trained in 0.022 minutes\n",
      "27-05-2024 19:21:15 INFO Model knn trained in 0.02 minutes\n",
      "27-05-2024 19:21:16 INFO Model ridge trained in 0.019 minutes\n",
      "27-05-2024 19:21:17 INFO Model gpc trained in 0.021 minutes\n",
      "27-05-2024 19:21:18 INFO Model xgboost trained in 0.022 minutes\n",
      "27-05-2024 19:21:20 INFO Model nb trained in 0.019 minutes\n",
      "27-05-2024 19:21:21 INFO Model dummy trained in 0.019 minutes\n",
      "27-05-2024 19:21:26 INFO Model catboost trained in 0.087 minutes\n",
      "27-05-2024 19:21:27 INFO Model lr trained in 0.02 minutes\n",
      "27-05-2024 19:21:29 INFO Model et trained in 0.025 minutes\n",
      "27-05-2024 19:21:30 INFO Model qda trained in 0.019 minutes\n",
      "27-05-2024 19:21:31 INFO Model rf trained in 0.027 minutes\n",
      "27-05-2024 19:21:33 INFO Model dt trained in 0.02 minutes\n",
      "27-05-2024 19:21:34 INFO Model rbfsvm trained in 0.02 minutes\n",
      "27-05-2024 19:21:35 INFO Model gbc trained in 0.023 minutes\n",
      "27-05-2024 19:21:36 INFO Model lda trained in 0.019 minutes\n",
      "27-05-2024 19:21:36 INFO Training over: Total runtime 2.147 minutes\n",
      "27-05-2024 19:21:37 INFO --------------------------------------------------------\n",
      "27-05-2024 19:21:37 INFO Training classification models\n",
      "27-05-2024 19:21:37 INFO The models used ['lightgbm', 'mlp', 'svm', 'ada', 'knn', 'ridge', 'gpc', 'xgboost', 'nb', 'dummy', 'catboost', 'lr', 'et', 'qda', 'rf', 'dt', 'rbfsvm', 'gbc', 'lda']\n",
      "27-05-2024 19:21:37 INFO The number of models used 19\n",
      "27-05-2024 19:21:37 INFO Time budget is 20 minutes\n",
      "27-05-2024 19:21:38 INFO Model lr trained in 0.02 minutes\n",
      "27-05-2024 19:21:40 INFO Model knn trained in 0.02 minutes\n",
      "27-05-2024 19:21:41 INFO Model nb trained in 0.02 minutes\n",
      "27-05-2024 19:21:42 INFO Model dt trained in 0.019 minutes\n",
      "27-05-2024 19:21:43 INFO Model svm trained in 0.02 minutes\n",
      "27-05-2024 19:21:44 INFO Model rbfsvm trained in 0.02 minutes\n",
      "27-05-2024 19:21:46 INFO Model gpc trained in 0.021 minutes\n",
      "27-05-2024 19:21:47 INFO Model mlp trained in 0.025 minutes\n",
      "27-05-2024 19:21:48 INFO Model ridge trained in 0.019 minutes\n",
      "27-05-2024 19:21:50 INFO Model et trained in 0.024 minutes\n",
      "27-05-2024 19:21:51 INFO Model lda trained in 0.02 minutes\n",
      "27-05-2024 19:21:52 INFO Model ada trained in 0.023 minutes\n",
      "27-05-2024 19:22:03 INFO Model catboost trained in 0.181 minutes\n",
      "27-05-2024 19:22:04 INFO Model dummy trained in 0.019 minutes\n",
      "27-05-2024 19:22:06 INFO Model gbc trained in 0.024 minutes\n",
      "27-05-2024 19:22:07 INFO Model xgboost trained in 0.021 minutes\n",
      "27-05-2024 19:23:51 INFO Model lightgbm trained in 1.723 minutes\n",
      "27-05-2024 19:23:52 INFO Model qda trained in 0.019 minutes\n",
      "27-05-2024 19:23:53 INFO Model rf trained in 0.026 minutes\n",
      "27-05-2024 19:23:53 INFO Training over: Total runtime 2.267 minutes\n",
      "27-05-2024 19:23:54 INFO --------------------------------------------------------\n",
      "27-05-2024 19:23:54 INFO Training classification models\n",
      "27-05-2024 19:23:54 INFO The models used ['lr', 'knn', 'nb', 'dt', 'svm', 'rbfsvm', 'gpc', 'mlp', 'ridge', 'et', 'lda', 'ada', 'catboost', 'dummy', 'gbc', 'xgboost', 'lightgbm', 'qda', 'rf']\n",
      "27-05-2024 19:23:54 INFO The number of models used 19\n",
      "27-05-2024 19:23:54 INFO Time budget is 20 minutes\n",
      "27-05-2024 19:23:56 INFO Model ada trained in 0.024 minutes\n",
      "27-05-2024 19:23:57 INFO Model svm trained in 0.02 minutes\n",
      "27-05-2024 19:23:58 INFO Model ridge trained in 0.021 minutes\n",
      "27-05-2024 19:23:59 INFO Model xgboost trained in 0.021 minutes\n",
      "27-05-2024 19:24:01 INFO Model nb trained in 0.02 minutes\n",
      "27-05-2024 19:25:48 INFO Model lightgbm trained in 1.783 minutes\n",
      "27-05-2024 19:25:49 INFO Model gpc trained in 0.021 minutes\n",
      "27-05-2024 19:25:50 INFO Model knn trained in 0.02 minutes\n",
      "27-05-2024 19:25:51 INFO Model rbfsvm trained in 0.021 minutes\n",
      "27-05-2024 19:25:58 INFO Model catboost trained in 0.111 minutes\n",
      "27-05-2024 19:26:00 INFO Model rf trained in 0.027 minutes\n",
      "27-05-2024 19:26:01 INFO Model dt trained in 0.02 minutes\n",
      "27-05-2024 19:26:02 INFO Model lda trained in 0.02 minutes\n",
      "27-05-2024 19:26:03 INFO Model et trained in 0.025 minutes\n",
      "27-05-2024 19:26:05 INFO Model qda trained in 0.02 minutes\n",
      "27-05-2024 19:26:06 INFO Model mlp trained in 0.025 minutes\n",
      "27-05-2024 19:26:07 INFO Model lr trained in 0.02 minutes\n",
      "27-05-2024 19:26:09 INFO Model dummy trained in 0.02 minutes\n",
      "27-05-2024 19:26:10 INFO Model gbc trained in 0.024 minutes\n",
      "27-05-2024 19:26:10 INFO Training over: Total runtime 2.261 minutes\n",
      "27-05-2024 19:26:11 INFO --------------------------------------------------------\n",
      "27-05-2024 19:26:11 INFO Training classification models\n",
      "27-05-2024 19:26:11 INFO The models used ['ada', 'svm', 'ridge', 'xgboost', 'nb', 'lightgbm', 'gpc', 'knn', 'rbfsvm', 'catboost', 'rf', 'dt', 'lda', 'et', 'qda', 'mlp', 'lr', 'dummy', 'gbc']\n",
      "27-05-2024 19:26:11 INFO The number of models used 19\n",
      "27-05-2024 19:26:11 INFO Time budget is 20 minutes\n",
      "27-05-2024 19:26:12 INFO Model dt trained in 0.021 minutes\n",
      "27-05-2024 19:26:13 INFO Model nb trained in 0.02 minutes\n",
      "27-05-2024 19:26:15 INFO Model rbfsvm trained in 0.02 minutes\n",
      "27-05-2024 19:26:16 INFO Model mlp trained in 0.025 minutes\n",
      "27-05-2024 19:26:17 INFO Model ridge trained in 0.02 minutes\n",
      "27-05-2024 19:26:18 INFO Model lr trained in 0.02 minutes\n",
      "27-05-2024 19:26:20 INFO Model gpc trained in 0.021 minutes\n",
      "27-05-2024 19:26:21 INFO Model svm trained in 0.021 minutes\n",
      "27-05-2024 19:28:00 INFO Model lightgbm trained in 1.656 minutes\n",
      "27-05-2024 19:28:01 INFO Model lda trained in 0.02 minutes\n",
      "27-05-2024 19:28:03 INFO Model gbc trained in 0.024 minutes\n",
      "27-05-2024 19:28:04 INFO Model xgboost trained in 0.021 minutes\n",
      "27-05-2024 19:28:06 INFO Model rf trained in 0.026 minutes\n",
      "27-05-2024 19:28:11 INFO Model catboost trained in 0.094 minutes\n",
      "27-05-2024 19:28:13 INFO Model dummy trained in 0.02 minutes\n",
      "27-05-2024 19:28:14 INFO Model knn trained in 0.02 minutes\n",
      "27-05-2024 19:28:15 INFO Model ada trained in 0.024 minutes\n",
      "27-05-2024 19:28:17 INFO Model et trained in 0.027 minutes\n",
      "27-05-2024 19:28:18 INFO Model qda trained in 0.02 minutes\n",
      "27-05-2024 19:28:18 INFO Training over: Total runtime 2.118 minutes\n",
      "27-05-2024 19:28:19 INFO --------------------------------------------------------\n",
      "27-05-2024 19:28:19 INFO Training classification models\n",
      "27-05-2024 19:28:19 INFO The models used ['dt', 'nb', 'rbfsvm', 'mlp', 'ridge', 'lr', 'gpc', 'svm', 'lightgbm', 'lda', 'gbc', 'xgboost', 'rf', 'catboost', 'dummy', 'knn', 'ada', 'et', 'qda']\n",
      "27-05-2024 19:28:19 INFO The number of models used 19\n",
      "27-05-2024 19:28:19 INFO Time budget is 20 minutes\n",
      "27-05-2024 19:28:20 INFO Model xgboost trained in 0.023 minutes\n",
      "27-05-2024 19:28:22 INFO Model ridge trained in 0.021 minutes\n",
      "27-05-2024 19:30:01 INFO Model lightgbm trained in 1.663 minutes\n",
      "27-05-2024 19:30:03 INFO Model knn trained in 0.02 minutes\n",
      "27-05-2024 19:30:04 INFO Model rbfsvm trained in 0.021 minutes\n",
      "27-05-2024 19:30:05 INFO Model ada trained in 0.024 minutes\n",
      "27-05-2024 19:30:07 INFO Model gpc trained in 0.021 minutes\n",
      "27-05-2024 19:30:08 INFO Model nb trained in 0.02 minutes\n",
      "27-05-2024 19:30:09 INFO Model lr trained in 0.02 minutes\n",
      "27-05-2024 19:30:10 INFO Model rf trained in 0.026 minutes\n",
      "27-05-2024 19:30:12 INFO Model qda trained in 0.021 minutes\n",
      "27-05-2024 19:30:13 INFO Model mlp trained in 0.024 minutes\n",
      "27-05-2024 19:30:15 INFO Model gbc trained in 0.024 minutes\n",
      "27-05-2024 19:30:16 INFO Model lda trained in 0.02 minutes\n",
      "27-05-2024 19:30:17 INFO Model et trained in 0.025 minutes\n",
      "27-05-2024 19:30:19 INFO Model svm trained in 0.02 minutes\n",
      "27-05-2024 19:30:20 INFO Model dt trained in 0.021 minutes\n",
      "27-05-2024 19:30:28 INFO Model catboost trained in 0.135 minutes\n",
      "27-05-2024 19:30:29 INFO Model dummy trained in 0.02 minutes\n",
      "27-05-2024 19:30:29 INFO Training over: Total runtime 2.169 minutes\n",
      "27-05-2024 19:30:30 INFO --------------------------------------------------------\n",
      "27-05-2024 19:30:30 INFO Training classification models\n",
      "27-05-2024 19:30:30 INFO The models used ['xgboost', 'ridge', 'lightgbm', 'knn', 'rbfsvm', 'ada', 'gpc', 'nb', 'lr', 'rf', 'qda', 'mlp', 'gbc', 'lda', 'et', 'svm', 'dt', 'catboost', 'dummy']\n",
      "27-05-2024 19:30:30 INFO The number of models used 19\n",
      "27-05-2024 19:30:30 INFO Time budget is 20 minutes\n",
      "27-05-2024 19:30:32 INFO Model mlp trained in 0.025 minutes\n",
      "27-05-2024 19:30:33 INFO Model rbfsvm trained in 0.021 minutes\n",
      "27-05-2024 19:30:34 INFO Model lr trained in 0.021 minutes\n",
      "27-05-2024 19:30:35 INFO Model svm trained in 0.02 minutes\n",
      "27-05-2024 19:32:20 INFO Model lightgbm trained in 1.749 minutes\n",
      "27-05-2024 19:32:21 INFO Model dt trained in 0.02 minutes\n",
      "27-05-2024 19:32:23 INFO Model gpc trained in 0.021 minutes\n",
      "27-05-2024 19:32:24 INFO Model ridge trained in 0.02 minutes\n",
      "27-05-2024 19:32:25 INFO Model ada trained in 0.023 minutes\n",
      "27-05-2024 19:32:27 INFO Model gbc trained in 0.024 minutes\n",
      "27-05-2024 19:32:28 INFO Model dummy trained in 0.02 minutes\n",
      "27-05-2024 19:32:29 INFO Model knn trained in 0.02 minutes\n",
      "27-05-2024 19:32:30 INFO Model qda trained in 0.02 minutes\n",
      "27-05-2024 19:32:32 INFO Model rf trained in 0.027 minutes\n",
      "27-05-2024 19:32:39 INFO Model catboost trained in 0.119 minutes\n",
      "27-05-2024 19:32:40 INFO Model nb trained in 0.02 minutes\n",
      "27-05-2024 19:32:42 INFO Model xgboost trained in 0.021 minutes\n",
      "27-05-2024 19:32:43 INFO Model lda trained in 0.02 minutes\n",
      "27-05-2024 19:32:44 INFO Model et trained in 0.025 minutes\n",
      "27-05-2024 19:32:44 INFO Training over: Total runtime 2.236 minutes\n",
      "27-05-2024 19:32:45 INFO --------------------------------------------------------\n",
      "27-05-2024 19:32:45 INFO Training classification models\n",
      "27-05-2024 19:32:45 INFO The models used ['mlp', 'rbfsvm', 'lr', 'svm', 'lightgbm', 'dt', 'gpc', 'ridge', 'ada', 'gbc', 'dummy', 'knn', 'qda', 'rf', 'catboost', 'nb', 'xgboost', 'lda', 'et']\n",
      "27-05-2024 19:32:45 INFO The number of models used 19\n",
      "27-05-2024 19:32:45 INFO Time budget is 20 minutes\n",
      "27-05-2024 19:32:46 INFO Model knn trained in 0.021 minutes\n",
      "27-05-2024 19:34:29 INFO Model lightgbm trained in 1.716 minutes\n",
      "27-05-2024 19:34:31 INFO Model ada trained in 0.023 minutes\n",
      "27-05-2024 19:34:32 INFO Model nb trained in 0.021 minutes\n",
      "27-05-2024 19:34:33 INFO Model lr trained in 0.02 minutes\n",
      "27-05-2024 19:34:35 INFO Model xgboost trained in 0.021 minutes\n",
      "27-05-2024 19:34:36 INFO Model gpc trained in 0.022 minutes\n",
      "27-05-2024 19:34:37 INFO Model rbfsvm trained in 0.02 minutes\n",
      "27-05-2024 19:34:38 INFO Model dt trained in 0.02 minutes\n",
      "27-05-2024 19:34:40 INFO Model qda trained in 0.021 minutes\n",
      "27-05-2024 19:34:41 INFO Model et trained in 0.026 minutes\n",
      "27-05-2024 19:34:42 INFO Model svm trained in 0.02 minutes\n",
      "27-05-2024 19:34:43 INFO Model dummy trained in 0.02 minutes\n",
      "27-05-2024 19:34:45 INFO Model gbc trained in 0.025 minutes\n",
      "27-05-2024 19:34:46 INFO Model lda trained in 0.02 minutes\n",
      "27-05-2024 19:34:47 INFO Model ridge trained in 0.021 minutes\n",
      "27-05-2024 19:34:49 INFO Model mlp trained in 0.024 minutes\n",
      "27-05-2024 19:34:50 INFO Model rf trained in 0.026 minutes\n",
      "27-05-2024 19:34:57 INFO Model catboost trained in 0.11 minutes\n",
      "27-05-2024 19:34:57 INFO Training over: Total runtime 2.197 minutes\n",
      "27-05-2024 19:34:58 INFO --------------------------------------------------------\n",
      "27-05-2024 19:34:58 INFO Training classification models\n",
      "27-05-2024 19:34:58 INFO The models used ['knn', 'lightgbm', 'ada', 'nb', 'lr', 'xgboost', 'gpc', 'rbfsvm', 'dt', 'qda', 'et', 'svm', 'dummy', 'gbc', 'lda', 'ridge', 'mlp', 'rf', 'catboost']\n",
      "27-05-2024 19:34:58 INFO The number of models used 19\n",
      "27-05-2024 19:34:58 INFO Time budget is 20 minutes\n",
      "27-05-2024 19:34:59 INFO Model svm trained in 0.021 minutes\n",
      "27-05-2024 19:35:01 INFO Model lr trained in 0.02 minutes\n",
      "27-05-2024 19:35:02 INFO Model dt trained in 0.021 minutes\n",
      "27-05-2024 19:35:03 INFO Model ridge trained in 0.02 minutes\n",
      "27-05-2024 19:35:04 INFO Model ada trained in 0.024 minutes\n",
      "27-05-2024 19:35:06 INFO Model mlp trained in 0.024 minutes\n",
      "27-05-2024 19:35:07 INFO Model gpc trained in 0.022 minutes\n",
      "27-05-2024 19:36:50 INFO Model lightgbm trained in 1.71 minutes\n",
      "27-05-2024 19:36:51 INFO Model xgboost trained in 0.022 minutes\n",
      "27-05-2024 19:36:52 INFO Model dummy trained in 0.02 minutes\n",
      "27-05-2024 19:36:59 INFO Model catboost trained in 0.113 minutes\n",
      "27-05-2024 19:37:00 INFO Model nb trained in 0.02 minutes\n",
      "27-05-2024 19:37:02 INFO Model et trained in 0.026 minutes\n",
      "27-05-2024 19:37:03 INFO Model qda trained in 0.021 minutes\n",
      "27-05-2024 19:37:05 INFO Model rf trained in 0.028 minutes\n",
      "27-05-2024 19:37:06 INFO Model rbfsvm trained in 0.021 minutes\n",
      "27-05-2024 19:37:07 INFO Model knn trained in 0.021 minutes\n",
      "27-05-2024 19:37:09 INFO Model gbc trained in 0.026 minutes\n",
      "27-05-2024 19:37:10 INFO Model lda trained in 0.021 minutes\n",
      "27-05-2024 19:37:10 INFO Training over: Total runtime 2.202 minutes\n",
      "27-05-2024 19:37:11 INFO --------------------------------------------------------\n",
      "27-05-2024 19:37:11 INFO Training classification models\n",
      "27-05-2024 19:37:11 INFO The models used ['svm', 'lr', 'dt', 'ridge', 'ada', 'mlp', 'gpc', 'lightgbm', 'xgboost', 'dummy', 'catboost', 'nb', 'et', 'qda', 'rf', 'rbfsvm', 'knn', 'gbc', 'lda']\n",
      "27-05-2024 19:37:11 INFO The number of models used 19\n",
      "27-05-2024 19:37:11 INFO Time budget is 20 minutes\n",
      "27-05-2024 19:37:12 INFO Model nb trained in 0.021 minutes\n",
      "27-05-2024 19:37:14 INFO Model ada trained in 0.024 minutes\n",
      "27-05-2024 19:37:15 INFO Model xgboost trained in 0.022 minutes\n",
      "27-05-2024 19:37:16 INFO Model rbfsvm trained in 0.02 minutes\n",
      "27-05-2024 19:37:18 INFO Model dt trained in 0.02 minutes\n",
      "27-05-2024 19:37:19 INFO Model knn trained in 0.021 minutes\n",
      "27-05-2024 19:37:20 INFO Model gpc trained in 0.022 minutes\n",
      "27-05-2024 19:37:21 INFO Model lr trained in 0.02 minutes\n",
      "27-05-2024 19:37:23 INFO Model mlp trained in 0.025 minutes\n",
      "27-05-2024 19:37:25 INFO Model et trained in 0.026 minutes\n",
      "27-05-2024 19:37:26 INFO Model lda trained in 0.021 minutes\n",
      "27-05-2024 19:37:27 INFO Model ridge trained in 0.02 minutes\n",
      "27-05-2024 19:37:36 INFO Model catboost trained in 0.148 minutes\n",
      "27-05-2024 19:37:37 INFO Model dummy trained in 0.02 minutes\n",
      "27-05-2024 19:37:39 INFO Model gbc trained in 0.025 minutes\n",
      "27-05-2024 19:38:59 INFO Model lightgbm trained in 1.344 minutes\n",
      "27-05-2024 19:39:00 INFO Model svm trained in 0.02 minutes\n",
      "27-05-2024 19:39:02 INFO Model qda trained in 0.02 minutes\n",
      "27-05-2024 19:39:03 INFO Model rf trained in 0.026 minutes\n",
      "27-05-2024 19:39:03 INFO Training over: Total runtime 1.869 minutes\n",
      "27-05-2024 19:39:04 INFO --------------------------------------------------------\n",
      "27-05-2024 19:39:04 INFO Training classification models\n",
      "27-05-2024 19:39:04 INFO The models used ['nb', 'ada', 'xgboost', 'rbfsvm', 'dt', 'knn', 'gpc', 'lr', 'mlp', 'et', 'lda', 'ridge', 'catboost', 'dummy', 'gbc', 'lightgbm', 'svm', 'qda', 'rf']\n",
      "27-05-2024 19:39:04 INFO The number of models used 19\n",
      "27-05-2024 19:39:04 INFO Time budget is 20 minutes\n",
      "27-05-2024 19:39:06 INFO Model ridge trained in 0.021 minutes\n",
      "27-05-2024 19:39:07 INFO Model dt trained in 0.022 minutes\n",
      "27-05-2024 19:39:08 INFO Model mlp trained in 0.025 minutes\n",
      "27-05-2024 19:40:51 INFO Model lightgbm trained in 1.718 minutes\n",
      "27-05-2024 19:40:53 INFO Model xgboost trained in 0.023 minutes\n",
      "27-05-2024 19:40:54 INFO Model svm trained in 0.022 minutes\n",
      "27-05-2024 19:40:55 INFO Model gpc trained in 0.022 minutes\n",
      "27-05-2024 19:40:57 INFO Model ada trained in 0.025 minutes\n",
      "27-05-2024 19:40:58 INFO Model knn trained in 0.021 minutes\n",
      "27-05-2024 19:41:10 INFO Model catboost trained in 0.196 minutes\n",
      "27-05-2024 19:41:12 INFO Model rf trained in 0.027 minutes\n",
      "27-05-2024 19:41:13 INFO Model rbfsvm trained in 0.02 minutes\n",
      "27-05-2024 19:41:14 INFO Model lda trained in 0.021 minutes\n",
      "27-05-2024 19:41:16 INFO Model et trained in 0.026 minutes\n",
      "27-05-2024 19:41:17 INFO Model qda trained in 0.021 minutes\n",
      "27-05-2024 19:41:18 INFO Model lr trained in 0.021 minutes\n",
      "27-05-2024 19:41:19 INFO Model nb trained in 0.02 minutes\n",
      "27-05-2024 19:41:20 INFO Model dummy trained in 0.02 minutes\n",
      "27-05-2024 19:41:22 INFO Model gbc trained in 0.027 minutes\n",
      "27-05-2024 19:41:22 INFO Training over: Total runtime 2.297 minutes\n",
      "27-05-2024 19:41:23 INFO --------------------------------------------------------\n",
      "27-05-2024 19:41:23 INFO Training classification models\n",
      "27-05-2024 19:41:23 INFO The models used ['ridge', 'dt', 'mlp', 'lightgbm', 'xgboost', 'svm', 'gpc', 'ada', 'knn', 'catboost', 'rf', 'rbfsvm', 'lda', 'et', 'qda', 'lr', 'nb', 'dummy', 'gbc']\n",
      "27-05-2024 19:41:23 INFO The number of models used 19\n",
      "27-05-2024 19:41:23 INFO Time budget is 20 minutes\n",
      "27-05-2024 19:41:24 INFO Model rbfsvm trained in 0.021 minutes\n",
      "27-05-2024 19:41:26 INFO Model xgboost trained in 0.022 minutes\n",
      "27-05-2024 19:41:27 INFO Model knn trained in 0.021 minutes\n",
      "27-05-2024 19:41:28 INFO Model lr trained in 0.021 minutes\n",
      "27-05-2024 19:41:30 INFO Model mlp trained in 0.025 minutes\n",
      "27-05-2024 19:41:31 INFO Model nb trained in 0.022 minutes\n",
      "27-05-2024 19:41:32 INFO Model gpc trained in 0.022 minutes\n",
      "27-05-2024 19:41:34 INFO Model dt trained in 0.021 minutes\n",
      "27-05-2024 19:41:35 INFO Model svm trained in 0.02 minutes\n",
      "27-05-2024 19:41:36 INFO Model lda trained in 0.021 minutes\n",
      "27-05-2024 19:41:38 INFO Model gbc trained in 0.025 minutes\n",
      "27-05-2024 19:43:17 INFO Model lightgbm trained in 1.659 minutes\n",
      "27-05-2024 19:43:19 INFO Model rf trained in 0.026 minutes\n",
      "27-05-2024 19:43:28 INFO Model catboost trained in 0.148 minutes\n",
      "27-05-2024 19:43:29 INFO Model dummy trained in 0.021 minutes\n",
      "27-05-2024 19:43:30 INFO Model ada trained in 0.025 minutes\n",
      "27-05-2024 19:43:32 INFO Model ridge trained in 0.02 minutes\n",
      "27-05-2024 19:43:33 INFO Model et trained in 0.025 minutes\n",
      "27-05-2024 19:43:34 INFO Model qda trained in 0.021 minutes\n",
      "27-05-2024 19:43:34 INFO Training over: Total runtime 2.188 minutes\n",
      "27-05-2024 19:43:35 INFO --------------------------------------------------------\n",
      "27-05-2024 19:43:35 INFO Training classification models\n",
      "27-05-2024 19:43:35 INFO The models used ['rbfsvm', 'xgboost', 'knn', 'lr', 'mlp', 'nb', 'gpc', 'dt', 'svm', 'lda', 'gbc', 'lightgbm', 'rf', 'catboost', 'dummy', 'ada', 'ridge', 'et', 'qda']\n",
      "27-05-2024 19:43:35 INFO The number of models used 19\n",
      "27-05-2024 19:43:35 INFO Time budget is 20 minutes\n",
      "27-05-2024 19:45:16 INFO Model lightgbm trained in 1.681 minutes\n",
      "27-05-2024 19:45:18 INFO Model mlp trained in 0.025 minutes\n",
      "27-05-2024 19:45:19 INFO Model svm trained in 0.02 minutes\n",
      "27-05-2024 19:45:20 INFO Model ada trained in 0.024 minutes\n",
      "27-05-2024 19:45:22 INFO Model knn trained in 0.021 minutes\n",
      "27-05-2024 19:45:23 INFO Model ridge trained in 0.022 minutes\n",
      "27-05-2024 19:45:24 INFO Model gpc trained in 0.023 minutes\n",
      "27-05-2024 19:45:26 INFO Model xgboost trained in 0.022 minutes\n",
      "27-05-2024 19:45:27 INFO Model nb trained in 0.021 minutes\n",
      "27-05-2024 19:45:29 INFO Model rf trained in 0.027 minutes\n",
      "27-05-2024 19:45:30 INFO Model qda trained in 0.022 minutes\n",
      "27-05-2024 19:45:31 INFO Model lr trained in 0.021 minutes\n",
      "27-05-2024 19:45:33 INFO Model gbc trained in 0.025 minutes\n",
      "27-05-2024 19:45:34 INFO Model lda trained in 0.021 minutes\n",
      "27-05-2024 19:45:35 INFO Model et trained in 0.026 minutes\n",
      "27-05-2024 19:45:37 INFO Model dt trained in 0.021 minutes\n",
      "27-05-2024 19:45:38 INFO Model rbfsvm trained in 0.021 minutes\n",
      "27-05-2024 19:45:46 INFO Model catboost trained in 0.134 minutes\n",
      "27-05-2024 19:45:47 INFO Model dummy trained in 0.021 minutes\n",
      "27-05-2024 19:45:47 INFO Training over: Total runtime 2.197 minutes\n",
      "27-05-2024 19:45:48 INFO --------------------------------------------------------\n",
      "27-05-2024 19:45:48 INFO Training classification models\n",
      "27-05-2024 19:45:48 INFO The models used ['lightgbm', 'mlp', 'svm', 'ada', 'knn', 'ridge', 'gpc', 'xgboost', 'nb', 'rf', 'qda', 'lr', 'gbc', 'lda', 'et', 'dt', 'rbfsvm', 'catboost', 'dummy']\n",
      "27-05-2024 19:45:48 INFO The number of models used 19\n",
      "27-05-2024 19:45:48 INFO Time budget is 20 minutes\n",
      "27-05-2024 19:45:50 INFO Model lr trained in 0.021 minutes\n",
      "27-05-2024 19:45:51 INFO Model knn trained in 0.021 minutes\n",
      "27-05-2024 19:45:52 INFO Model nb trained in 0.021 minutes\n",
      "27-05-2024 19:45:53 INFO Model dt trained in 0.021 minutes\n",
      "27-05-2024 19:45:55 INFO Model svm trained in 0.022 minutes\n",
      "27-05-2024 19:45:56 INFO Model rbfsvm trained in 0.021 minutes\n",
      "27-05-2024 19:45:57 INFO Model gpc trained in 0.023 minutes\n",
      "27-05-2024 19:45:59 INFO Model mlp trained in 0.025 minutes\n",
      "27-05-2024 19:46:00 INFO Model ridge trained in 0.021 minutes\n",
      "27-05-2024 19:46:02 INFO Model gbc trained in 0.026 minutes\n",
      "27-05-2024 19:46:03 INFO Model dummy trained in 0.021 minutes\n",
      "27-05-2024 19:46:04 INFO Model ada trained in 0.024 minutes\n",
      "27-05-2024 19:46:06 INFO Model qda trained in 0.021 minutes\n",
      "27-05-2024 19:46:07 INFO Model rf trained in 0.028 minutes\n",
      "27-05-2024 19:46:19 INFO Model catboost trained in 0.188 minutes\n",
      "27-05-2024 19:46:20 INFO Model xgboost trained in 0.023 minutes\n",
      "27-05-2024 19:47:58 INFO Model lightgbm trained in 1.638 minutes\n",
      "27-05-2024 19:47:59 INFO Model lda trained in 0.021 minutes\n",
      "27-05-2024 19:48:01 INFO Model et trained in 0.027 minutes\n",
      "27-05-2024 19:48:01 INFO Training over: Total runtime 2.212 minutes\n",
      "27-05-2024 19:48:02 INFO --------------------------------------------------------\n",
      "27-05-2024 19:48:02 INFO Training classification models\n",
      "27-05-2024 19:48:02 INFO The models used ['lr', 'knn', 'nb', 'dt', 'svm', 'rbfsvm', 'gpc', 'mlp', 'ridge', 'gbc', 'dummy', 'ada', 'qda', 'rf', 'catboost', 'xgboost', 'lightgbm', 'lda', 'et']\n",
      "27-05-2024 19:48:02 INFO The number of models used 19\n",
      "27-05-2024 19:48:02 INFO Time budget is 20 minutes\n",
      "27-05-2024 19:48:03 INFO Model ada trained in 0.024 minutes\n",
      "27-05-2024 19:48:05 INFO Model svm trained in 0.021 minutes\n",
      "27-05-2024 19:48:06 INFO Model ridge trained in 0.021 minutes\n",
      "27-05-2024 19:48:07 INFO Model xgboost trained in 0.023 minutes\n",
      "27-05-2024 19:48:09 INFO Model nb trained in 0.023 minutes\n",
      "27-05-2024 19:49:48 INFO Model lightgbm trained in 1.661 minutes\n",
      "27-05-2024 19:49:50 INFO Model gpc trained in 0.023 minutes\n",
      "27-05-2024 19:49:51 INFO Model knn trained in 0.021 minutes\n",
      "27-05-2024 19:49:52 INFO Model rbfsvm trained in 0.021 minutes\n",
      "27-05-2024 19:49:54 INFO Model qda trained in 0.021 minutes\n",
      "27-05-2024 19:49:55 INFO Model et trained in 0.027 minutes\n",
      "27-05-2024 19:49:56 INFO Model dt trained in 0.021 minutes\n",
      "27-05-2024 19:49:58 INFO Model dummy trained in 0.022 minutes\n",
      "27-05-2024 19:49:59 INFO Model gbc trained in 0.026 minutes\n",
      "27-05-2024 19:50:01 INFO Model lda trained in 0.021 minutes\n",
      "27-05-2024 19:50:02 INFO Model mlp trained in 0.025 minutes\n",
      "27-05-2024 19:50:03 INFO Model lr trained in 0.021 minutes\n",
      "27-05-2024 19:50:05 INFO Model rf trained in 0.029 minutes\n",
      "27-05-2024 19:50:13 INFO Model catboost trained in 0.13 minutes\n",
      "27-05-2024 19:50:13 INFO Training over: Total runtime 2.183 minutes\n",
      "27-05-2024 19:50:14 INFO --------------------------------------------------------\n",
      "27-05-2024 19:50:14 INFO Training classification models\n",
      "27-05-2024 19:50:14 INFO The models used ['ada', 'svm', 'ridge', 'xgboost', 'nb', 'lightgbm', 'gpc', 'knn', 'rbfsvm', 'qda', 'et', 'dt', 'dummy', 'gbc', 'lda', 'mlp', 'lr', 'rf', 'catboost']\n",
      "27-05-2024 19:50:14 INFO The number of models used 19\n",
      "27-05-2024 19:50:14 INFO Time budget is 20 minutes\n",
      "27-05-2024 19:50:15 INFO Model dt trained in 0.021 minutes\n",
      "27-05-2024 19:50:17 INFO Model nb trained in 0.022 minutes\n",
      "27-05-2024 19:50:18 INFO Model rbfsvm trained in 0.022 minutes\n",
      "27-05-2024 19:50:19 INFO Model mlp trained in 0.025 minutes\n",
      "27-05-2024 19:50:21 INFO Model ridge trained in 0.021 minutes\n",
      "27-05-2024 19:50:22 INFO Model lr trained in 0.021 minutes\n",
      "27-05-2024 19:50:23 INFO Model gpc trained in 0.023 minutes\n",
      "27-05-2024 19:50:25 INFO Model svm trained in 0.022 minutes\n",
      "27-05-2024 19:52:08 INFO Model lightgbm trained in 1.716 minutes\n",
      "27-05-2024 19:52:09 INFO Model dummy trained in 0.021 minutes\n",
      "27-05-2024 19:52:16 INFO Model catboost trained in 0.122 minutes\n",
      "27-05-2024 19:52:18 INFO Model xgboost trained in 0.023 minutes\n",
      "27-05-2024 19:52:19 INFO Model et trained in 0.027 minutes\n",
      "27-05-2024 19:52:21 INFO Model qda trained in 0.022 minutes\n",
      "27-05-2024 19:52:22 INFO Model rf trained in 0.029 minutes\n",
      "27-05-2024 19:52:24 INFO Model knn trained in 0.022 minutes\n",
      "27-05-2024 19:52:25 INFO Model ada trained in 0.025 minutes\n",
      "27-05-2024 19:52:27 INFO Model gbc trained in 0.026 minutes\n",
      "27-05-2024 19:52:28 INFO Model lda trained in 0.022 minutes\n",
      "27-05-2024 19:52:28 INFO Training over: Total runtime 2.233 minutes\n",
      "27-05-2024 19:52:29 INFO --------------------------------------------------------\n",
      "27-05-2024 19:52:29 INFO Training classification models\n",
      "27-05-2024 19:52:29 INFO The models used ['dt', 'nb', 'rbfsvm', 'mlp', 'ridge', 'lr', 'gpc', 'svm', 'lightgbm', 'dummy', 'catboost', 'xgboost', 'et', 'qda', 'rf', 'knn', 'ada', 'gbc', 'lda']\n",
      "27-05-2024 19:52:29 INFO The number of models used 19\n",
      "27-05-2024 19:52:29 INFO Time budget is 20 minutes\n",
      "27-05-2024 19:52:30 INFO Model xgboost trained in 0.024 minutes\n",
      "27-05-2024 19:52:32 INFO Model ridge trained in 0.022 minutes\n",
      "27-05-2024 19:54:12 INFO Model lightgbm trained in 1.663 minutes\n",
      "27-05-2024 19:54:13 INFO Model knn trained in 0.022 minutes\n",
      "27-05-2024 19:54:14 INFO Model rbfsvm trained in 0.022 minutes\n",
      "27-05-2024 19:54:16 INFO Model ada trained in 0.026 minutes\n",
      "27-05-2024 19:54:17 INFO Model gpc trained in 0.024 minutes\n",
      "27-05-2024 19:54:18 INFO Model nb trained in 0.022 minutes\n",
      "27-05-2024 19:54:20 INFO Model lr trained in 0.022 minutes\n",
      "27-05-2024 19:54:21 INFO Model et trained in 0.028 minutes\n",
      "27-05-2024 19:54:23 INFO Model lda trained in 0.022 minutes\n",
      "27-05-2024 19:54:24 INFO Model mlp trained in 0.026 minutes\n",
      "27-05-2024 19:54:35 INFO Model catboost trained in 0.172 minutes\n",
      "27-05-2024 19:54:36 INFO Model dummy trained in 0.021 minutes\n",
      "27-05-2024 19:54:37 INFO Model gbc trained in 0.028 minutes\n",
      "27-05-2024 19:54:39 INFO Model svm trained in 0.022 minutes\n",
      "27-05-2024 19:54:40 INFO Model dt trained in 0.022 minutes\n",
      "27-05-2024 19:54:41 INFO Model qda trained in 0.023 minutes\n",
      "27-05-2024 19:54:43 INFO Model rf trained in 0.028 minutes\n",
      "27-05-2024 19:54:43 INFO Training over: Total runtime 2.235 minutes\n",
      "27-05-2024 19:54:44 INFO --------------------------------------------------------\n",
      "27-05-2024 19:54:44 INFO Training classification models\n",
      "27-05-2024 19:54:44 INFO The models used ['xgboost', 'ridge', 'lightgbm', 'knn', 'rbfsvm', 'ada', 'gpc', 'nb', 'lr', 'et', 'lda', 'mlp', 'catboost', 'dummy', 'gbc', 'svm', 'dt', 'qda', 'rf']\n",
      "27-05-2024 19:54:44 INFO The number of models used 19\n",
      "27-05-2024 19:54:44 INFO Time budget is 20 minutes\n",
      "27-05-2024 19:54:46 INFO Model mlp trained in 0.026 minutes\n",
      "27-05-2024 19:54:47 INFO Model rbfsvm trained in 0.023 minutes\n",
      "27-05-2024 19:54:48 INFO Model lr trained in 0.023 minutes\n",
      "27-05-2024 19:54:50 INFO Model svm trained in 0.022 minutes\n",
      "27-05-2024 19:56:33 INFO Model lightgbm trained in 1.713 minutes\n",
      "27-05-2024 19:56:34 INFO Model dt trained in 0.022 minutes\n",
      "27-05-2024 19:56:35 INFO Model gpc trained in 0.024 minutes\n",
      "27-05-2024 19:56:37 INFO Model ridge trained in 0.022 minutes\n",
      "27-05-2024 19:56:38 INFO Model ada trained in 0.026 minutes\n",
      "27-05-2024 19:56:46 INFO Model catboost trained in 0.133 minutes\n",
      "27-05-2024 19:56:48 INFO Model rf trained in 0.028 minutes\n",
      "27-05-2024 19:56:49 INFO Model knn trained in 0.022 minutes\n",
      "27-05-2024 19:56:50 INFO Model lda trained in 0.022 minutes\n",
      "27-05-2024 19:56:52 INFO Model et trained in 0.027 minutes\n",
      "27-05-2024 19:56:53 INFO Model qda trained in 0.023 minutes\n",
      "27-05-2024 19:56:55 INFO Model nb trained in 0.022 minutes\n",
      "27-05-2024 19:56:56 INFO Model xgboost trained in 0.024 minutes\n",
      "27-05-2024 19:56:57 INFO Model dummy trained in 0.021 minutes\n",
      "27-05-2024 19:56:59 INFO Model gbc trained in 0.027 minutes\n",
      "27-05-2024 19:56:59 INFO Training over: Total runtime 2.248 minutes\n",
      "27-05-2024 19:57:00 INFO --------------------------------------------------------\n",
      "27-05-2024 19:57:00 INFO Training classification models\n",
      "27-05-2024 19:57:00 INFO The models used ['mlp', 'rbfsvm', 'lr', 'svm', 'lightgbm', 'dt', 'gpc', 'ridge', 'ada', 'catboost', 'rf', 'knn', 'lda', 'et', 'qda', 'nb', 'xgboost', 'dummy', 'gbc']\n",
      "27-05-2024 19:57:00 INFO The number of models used 19\n",
      "27-05-2024 19:57:00 INFO Time budget is 20 minutes\n",
      "27-05-2024 19:57:02 INFO Model knn trained in 0.023 minutes\n",
      "27-05-2024 19:58:46 INFO Model lightgbm trained in 1.743 minutes\n",
      "27-05-2024 19:58:48 INFO Model ada trained in 0.027 minutes\n",
      "27-05-2024 19:58:49 INFO Model nb trained in 0.022 minutes\n",
      "27-05-2024 19:58:50 INFO Model lr trained in 0.022 minutes\n",
      "27-05-2024 19:58:52 INFO Model xgboost trained in 0.024 minutes\n",
      "27-05-2024 19:58:53 INFO Model gpc trained in 0.023 minutes\n",
      "27-05-2024 19:58:55 INFO Model rbfsvm trained in 0.022 minutes\n",
      "27-05-2024 19:58:56 INFO Model dt trained in 0.023 minutes\n",
      "27-05-2024 19:58:57 INFO Model lda trained in 0.022 minutes\n",
      "27-05-2024 19:58:59 INFO Model gbc trained in 0.029 minutes\n",
      "27-05-2024 19:59:00 INFO Model svm trained in 0.022 minutes\n",
      "27-05-2024 19:59:02 INFO Model rf trained in 0.029 minutes\n",
      "27-05-2024 19:59:16 INFO Model catboost trained in 0.225 minutes\n",
      "27-05-2024 19:59:17 INFO Model dummy trained in 0.022 minutes\n",
      "27-05-2024 19:59:18 INFO Model ridge trained in 0.022 minutes\n",
      "27-05-2024 19:59:20 INFO Model mlp trained in 0.026 minutes\n",
      "27-05-2024 19:59:21 INFO Model et trained in 0.028 minutes\n",
      "27-05-2024 19:59:23 INFO Model qda trained in 0.021 minutes\n",
      "27-05-2024 19:59:23 INFO Training over: Total runtime 2.375 minutes\n",
      "27-05-2024 19:59:24 INFO --------------------------------------------------------\n",
      "27-05-2024 19:59:24 INFO Training classification models\n",
      "27-05-2024 19:59:24 INFO The models used ['knn', 'lightgbm', 'ada', 'nb', 'lr', 'xgboost', 'gpc', 'rbfsvm', 'dt', 'lda', 'gbc', 'svm', 'rf', 'catboost', 'dummy', 'ridge', 'mlp', 'et', 'qda']\n",
      "27-05-2024 19:59:24 INFO The number of models used 19\n",
      "27-05-2024 19:59:24 INFO Time budget is 20 minutes\n",
      "27-05-2024 19:59:25 INFO Model svm trained in 0.022 minutes\n",
      "27-05-2024 19:59:27 INFO Model lr trained in 0.022 minutes\n",
      "27-05-2024 19:59:28 INFO Model dt trained in 0.023 minutes\n",
      "27-05-2024 19:59:29 INFO Model ridge trained in 0.022 minutes\n",
      "27-05-2024 19:59:31 INFO Model ada trained in 0.026 minutes\n",
      "27-05-2024 19:59:32 INFO Model mlp trained in 0.027 minutes\n",
      "27-05-2024 19:59:34 INFO Model gpc trained in 0.024 minutes\n",
      "27-05-2024 20:01:16 INFO Model lightgbm trained in 1.708 minutes\n",
      "27-05-2024 20:01:18 INFO Model xgboost trained in 0.024 minutes\n",
      "27-05-2024 20:01:19 INFO Model rf trained in 0.029 minutes\n",
      "27-05-2024 20:01:21 INFO Model qda trained in 0.022 minutes\n",
      "27-05-2024 20:01:22 INFO Model nb trained in 0.022 minutes\n",
      "27-05-2024 20:01:24 INFO Model gbc trained in 0.029 minutes\n",
      "27-05-2024 20:01:25 INFO Model lda trained in 0.022 minutes\n",
      "27-05-2024 20:01:27 INFO Model et trained in 0.028 minutes\n",
      "27-05-2024 20:01:28 INFO Model rbfsvm trained in 0.022 minutes\n",
      "27-05-2024 20:01:29 INFO Model knn trained in 0.022 minutes\n",
      "27-05-2024 20:01:41 INFO Model catboost trained in 0.185 minutes\n",
      "27-05-2024 20:01:42 INFO Model dummy trained in 0.022 minutes\n",
      "27-05-2024 20:01:42 INFO Training over: Total runtime 2.3 minutes\n",
      "27-05-2024 20:01:43 INFO --------------------------------------------------------\n",
      "27-05-2024 20:01:43 INFO Training classification models\n",
      "27-05-2024 20:01:43 INFO The models used ['svm', 'lr', 'dt', 'ridge', 'ada', 'mlp', 'gpc', 'lightgbm', 'xgboost', 'rf', 'qda', 'nb', 'gbc', 'lda', 'et', 'rbfsvm', 'knn', 'catboost', 'dummy']\n",
      "27-05-2024 20:01:43 INFO The number of models used 19\n",
      "27-05-2024 20:01:43 INFO Time budget is 20 minutes\n",
      "27-05-2024 20:01:44 INFO Model nb trained in 0.022 minutes\n",
      "27-05-2024 20:01:46 INFO Model ada trained in 0.026 minutes\n",
      "27-05-2024 20:01:47 INFO Model xgboost trained in 0.024 minutes\n",
      "27-05-2024 20:01:49 INFO Model rbfsvm trained in 0.022 minutes\n",
      "27-05-2024 20:01:50 INFO Model dt trained in 0.022 minutes\n",
      "27-05-2024 20:01:51 INFO Model knn trained in 0.022 minutes\n",
      "27-05-2024 20:01:53 INFO Model gpc trained in 0.024 minutes\n",
      "27-05-2024 20:01:54 INFO Model lr trained in 0.023 minutes\n",
      "27-05-2024 20:01:56 INFO Model mlp trained in 0.027 minutes\n",
      "27-05-2024 20:01:57 INFO Model gbc trained in 0.028 minutes\n",
      "27-05-2024 20:01:59 INFO Model dummy trained in 0.022 minutes\n",
      "27-05-2024 20:02:00 INFO Model ridge trained in 0.022 minutes\n",
      "27-05-2024 20:02:01 INFO Model qda trained in 0.022 minutes\n",
      "27-05-2024 20:02:03 INFO Model rf trained in 0.03 minutes\n",
      "27-05-2024 20:02:13 INFO Model catboost trained in 0.168 minutes\n",
      "27-05-2024 20:03:54 INFO Model lightgbm trained in 1.678 minutes\n",
      "27-05-2024 20:03:55 INFO Model svm trained in 0.023 minutes\n",
      "27-05-2024 20:03:57 INFO Model lda trained in 0.022 minutes\n",
      "27-05-2024 20:03:58 INFO Model et trained in 0.028 minutes\n",
      "27-05-2024 20:03:58 INFO Training over: Total runtime 2.255 minutes\n",
      "27-05-2024 20:03:59 INFO --------------------------------------------------------\n",
      "27-05-2024 20:03:59 INFO Training classification models\n",
      "27-05-2024 20:03:59 INFO The models used ['nb', 'ada', 'xgboost', 'rbfsvm', 'dt', 'knn', 'gpc', 'lr', 'mlp', 'gbc', 'dummy', 'ridge', 'qda', 'rf', 'catboost', 'lightgbm', 'svm', 'lda', 'et']\n",
      "27-05-2024 20:03:59 INFO The number of models used 19\n",
      "27-05-2024 20:03:59 INFO Time budget is 20 minutes\n",
      "27-05-2024 20:04:01 INFO Model ridge trained in 0.022 minutes\n",
      "27-05-2024 20:04:02 INFO Model dt trained in 0.023 minutes\n",
      "27-05-2024 20:04:04 INFO Model mlp trained in 0.026 minutes\n",
      "27-05-2024 20:05:46 INFO Model lightgbm trained in 1.714 minutes\n",
      "27-05-2024 20:05:48 INFO Model xgboost trained in 0.024 minutes\n",
      "27-05-2024 20:05:49 INFO Model svm trained in 0.022 minutes\n",
      "27-05-2024 20:05:51 INFO Model gpc trained in 0.025 minutes\n",
      "27-05-2024 20:05:52 INFO Model ada trained in 0.026 minutes\n",
      "27-05-2024 20:05:54 INFO Model knn trained in 0.022 minutes\n",
      "27-05-2024 20:05:55 INFO Model qda trained in 0.022 minutes\n",
      "27-05-2024 20:05:57 INFO Model et trained in 0.028 minutes\n",
      "27-05-2024 20:05:58 INFO Model rbfsvm trained in 0.023 minutes\n",
      "27-05-2024 20:05:59 INFO Model dummy trained in 0.022 minutes\n",
      "27-05-2024 20:06:01 INFO Model gbc trained in 0.029 minutes\n",
      "27-05-2024 20:06:02 INFO Model lda trained in 0.022 minutes\n",
      "27-05-2024 20:06:04 INFO Model lr trained in 0.022 minutes\n",
      "27-05-2024 20:06:05 INFO Model nb trained in 0.022 minutes\n",
      "27-05-2024 20:06:07 INFO Model rf trained in 0.03 minutes\n",
      "27-05-2024 20:06:17 INFO Model catboost trained in 0.169 minutes\n",
      "27-05-2024 20:06:17 INFO Training over: Total runtime 2.294 minutes\n",
      "27-05-2024 20:06:18 INFO --------------------------------------------------------\n",
      "27-05-2024 20:06:18 INFO Training classification models\n",
      "27-05-2024 20:06:18 INFO The models used ['ridge', 'dt', 'mlp', 'lightgbm', 'xgboost', 'svm', 'gpc', 'ada', 'knn', 'qda', 'et', 'rbfsvm', 'dummy', 'gbc', 'lda', 'lr', 'nb', 'rf', 'catboost']\n",
      "27-05-2024 20:06:18 INFO The number of models used 19\n",
      "27-05-2024 20:06:18 INFO Time budget is 20 minutes\n",
      "27-05-2024 20:06:19 INFO Model rbfsvm trained in 0.023 minutes\n",
      "27-05-2024 20:06:21 INFO Model xgboost trained in 0.025 minutes\n",
      "27-05-2024 20:06:22 INFO Model knn trained in 0.023 minutes\n",
      "27-05-2024 20:06:24 INFO Model lr trained in 0.023 minutes\n",
      "27-05-2024 20:06:25 INFO Model mlp trained in 0.026 minutes\n",
      "27-05-2024 20:06:27 INFO Model nb trained in 0.022 minutes\n",
      "27-05-2024 20:06:28 INFO Model gpc trained in 0.024 minutes\n",
      "27-05-2024 20:06:29 INFO Model dt trained in 0.022 minutes\n",
      "27-05-2024 20:06:31 INFO Model svm trained in 0.023 minutes\n",
      "27-05-2024 20:06:32 INFO Model dummy trained in 0.022 minutes\n",
      "27-05-2024 20:06:43 INFO Model catboost trained in 0.187 minutes\n",
      "27-05-2024 20:08:24 INFO Model lightgbm trained in 1.688 minutes\n",
      "27-05-2024 20:08:26 INFO Model et trained in 0.029 minutes\n",
      "27-05-2024 20:08:28 INFO Model qda trained in 0.024 minutes\n",
      "27-05-2024 20:08:29 INFO Model rf trained in 0.03 minutes\n",
      "27-05-2024 20:08:31 INFO Model ada trained in 0.027 minutes\n",
      "27-05-2024 20:08:33 INFO Model ridge trained in 0.024 minutes\n",
      "27-05-2024 20:08:34 INFO Model gbc trained in 0.03 minutes\n",
      "27-05-2024 20:08:36 INFO Model lda trained in 0.023 minutes\n",
      "27-05-2024 20:08:36 INFO Training over: Total runtime 2.295 minutes\n",
      "27-05-2024 20:08:37 INFO --------------------------------------------------------\n",
      "27-05-2024 20:08:37 INFO Training classification models\n",
      "27-05-2024 20:08:37 INFO The models used ['rbfsvm', 'xgboost', 'knn', 'lr', 'mlp', 'nb', 'gpc', 'dt', 'svm', 'dummy', 'catboost', 'lightgbm', 'et', 'qda', 'rf', 'ada', 'ridge', 'gbc', 'lda']\n",
      "27-05-2024 20:08:37 INFO The number of models used 19\n",
      "27-05-2024 20:08:37 INFO Time budget is 20 minutes\n",
      "27-05-2024 20:10:20 INFO Model lightgbm trained in 1.726 minutes\n",
      "27-05-2024 20:10:22 INFO Model mlp trained in 0.027 minutes\n",
      "27-05-2024 20:10:23 INFO Model svm trained in 0.024 minutes\n",
      "27-05-2024 20:10:25 INFO Model ada trained in 0.027 minutes\n",
      "27-05-2024 20:10:27 INFO Model knn trained in 0.024 minutes\n",
      "27-05-2024 20:10:28 INFO Model ridge trained in 0.023 minutes\n",
      "27-05-2024 20:10:29 INFO Model gpc trained in 0.025 minutes\n",
      "27-05-2024 20:10:31 INFO Model xgboost trained in 0.027 minutes\n",
      "27-05-2024 20:10:32 INFO Model nb trained in 0.023 minutes\n",
      "27-05-2024 20:10:34 INFO Model et trained in 0.03 minutes\n",
      "27-05-2024 20:10:36 INFO Model lda trained in 0.024 minutes\n",
      "27-05-2024 20:10:37 INFO Model lr trained in 0.024 minutes\n",
      "27-05-2024 20:10:48 INFO Model catboost trained in 0.174 minutes\n",
      "27-05-2024 20:10:49 INFO Model dummy trained in 0.024 minutes\n",
      "27-05-2024 20:10:51 INFO Model gbc trained in 0.031 minutes\n",
      "27-05-2024 20:10:52 INFO Model dt trained in 0.024 minutes\n",
      "27-05-2024 20:10:54 INFO Model rbfsvm trained in 0.024 minutes\n",
      "27-05-2024 20:10:55 INFO Model qda trained in 0.024 minutes\n",
      "27-05-2024 20:10:57 INFO Model rf trained in 0.034 minutes\n",
      "27-05-2024 20:10:57 INFO Training over: Total runtime 2.341 minutes\n",
      "27-05-2024 20:10:59 INFO --------------------------------------------------------\n",
      "27-05-2024 20:10:59 INFO Training classification models\n",
      "27-05-2024 20:10:59 INFO The models used ['lightgbm', 'mlp', 'svm', 'ada', 'knn', 'ridge', 'gpc', 'xgboost', 'nb', 'et', 'lda', 'lr', 'catboost', 'dummy', 'gbc', 'dt', 'rbfsvm', 'qda', 'rf']\n",
      "27-05-2024 20:10:59 INFO The number of models used 19\n",
      "27-05-2024 20:10:59 INFO Time budget is 20 minutes\n",
      "27-05-2024 20:11:00 INFO Model lr trained in 0.025 minutes\n",
      "27-05-2024 20:11:02 INFO Model knn trained in 0.025 minutes\n",
      "27-05-2024 20:11:03 INFO Model nb trained in 0.025 minutes\n",
      "27-05-2024 20:11:05 INFO Model dt trained in 0.025 minutes\n",
      "27-05-2024 20:11:06 INFO Model svm trained in 0.024 minutes\n",
      "27-05-2024 20:11:07 INFO Model rbfsvm trained in 0.025 minutes\n",
      "27-05-2024 20:11:09 INFO Model gpc trained in 0.027 minutes\n",
      "27-05-2024 20:11:11 INFO Model mlp trained in 0.03 minutes\n",
      "27-05-2024 20:11:12 INFO Model ridge trained in 0.025 minutes\n",
      "27-05-2024 20:11:26 INFO Model catboost trained in 0.219 minutes\n",
      "27-05-2024 20:11:28 INFO Model rf trained in 0.034 minutes\n",
      "27-05-2024 20:11:29 INFO Model ada trained in 0.03 minutes\n",
      "27-05-2024 20:11:31 INFO Model lda trained in 0.027 minutes\n",
      "27-05-2024 20:11:33 INFO Model et trained in 0.033 minutes\n",
      "27-05-2024 20:11:35 INFO Model qda trained in 0.026 minutes\n",
      "27-05-2024 20:11:36 INFO Model xgboost trained in 0.028 minutes\n",
      "27-05-2024 20:13:16 INFO Model lightgbm trained in 1.657 minutes\n",
      "27-05-2024 20:13:17 INFO Model dummy trained in 0.028 minutes\n",
      "27-05-2024 20:13:20 INFO Model gbc trained in 0.041 minutes\n",
      "27-05-2024 20:13:20 INFO Training over: Total runtime 2.354 minutes\n",
      "27-05-2024 20:13:21 INFO --------------------------------------------------------\n",
      "27-05-2024 20:13:21 INFO Training classification models\n",
      "27-05-2024 20:13:21 INFO The models used ['lr', 'knn', 'nb', 'dt', 'svm', 'rbfsvm', 'gpc', 'mlp', 'ridge', 'catboost', 'rf', 'ada', 'lda', 'et', 'qda', 'xgboost', 'lightgbm', 'dummy', 'gbc']\n",
      "27-05-2024 20:13:21 INFO The number of models used 19\n",
      "27-05-2024 20:13:21 INFO Time budget is 20 minutes\n",
      "27-05-2024 20:13:24 INFO Model ada trained in 0.036 minutes\n",
      "27-05-2024 20:13:25 INFO Model svm trained in 0.029 minutes\n",
      "27-05-2024 20:13:27 INFO Model ridge trained in 0.029 minutes\n",
      "27-05-2024 20:13:29 INFO Model xgboost trained in 0.036 minutes\n",
      "27-05-2024 20:13:31 INFO Model nb trained in 0.03 minutes\n",
      "27-05-2024 20:15:06 INFO Model lightgbm trained in 1.584 minutes\n",
      "27-05-2024 20:15:08 INFO Model gpc trained in 0.036 minutes\n",
      "27-05-2024 20:15:10 INFO Model knn trained in 0.035 minutes\n",
      "27-05-2024 20:15:12 INFO Model rbfsvm trained in 0.034 minutes\n",
      "27-05-2024 20:15:14 INFO Model lda trained in 0.033 minutes\n",
      "27-05-2024 20:15:17 INFO Model gbc trained in 0.044 minutes\n",
      "27-05-2024 20:15:19 INFO Model dt trained in 0.032 minutes\n",
      "27-05-2024 20:15:22 INFO Model rf trained in 0.047 minutes\n",
      "27-05-2024 20:15:40 INFO Model catboost trained in 0.307 minutes\n",
      "27-05-2024 20:15:42 INFO Model dummy trained in 0.032 minutes\n",
      "27-05-2024 20:15:45 INFO Model mlp trained in 0.041 minutes\n",
      "27-05-2024 20:15:46 INFO Model lr trained in 0.033 minutes\n",
      "27-05-2024 20:15:49 INFO Model et trained in 0.045 minutes\n",
      "27-05-2024 20:15:51 INFO Model qda trained in 0.034 minutes\n",
      "27-05-2024 20:15:51 INFO Training over: Total runtime 2.497 minutes\n",
      "27-05-2024 20:15:53 INFO --------------------------------------------------------\n",
      "27-05-2024 20:15:53 INFO Training classification models\n",
      "27-05-2024 20:15:53 INFO The models used ['ada', 'svm', 'ridge', 'xgboost', 'nb', 'lightgbm', 'gpc', 'knn', 'rbfsvm', 'lda', 'gbc', 'dt', 'rf', 'catboost', 'dummy', 'mlp', 'lr', 'et', 'qda']\n",
      "27-05-2024 20:15:53 INFO The number of models used 19\n",
      "27-05-2024 20:15:53 INFO Time budget is 20 minutes\n",
      "27-05-2024 20:15:55 INFO Model dt trained in 0.034 minutes\n",
      "27-05-2024 20:15:57 INFO Model nb trained in 0.032 minutes\n",
      "27-05-2024 20:15:59 INFO Model rbfsvm trained in 0.034 minutes\n",
      "27-05-2024 20:16:02 INFO Model mlp trained in 0.042 minutes\n",
      "27-05-2024 20:16:04 INFO Model ridge trained in 0.032 minutes\n",
      "27-05-2024 20:16:06 INFO Model lr trained in 0.032 minutes\n",
      "27-05-2024 20:16:08 INFO Model gpc trained in 0.037 minutes\n",
      "27-05-2024 20:16:10 INFO Model svm trained in 0.033 minutes\n",
      "27-05-2024 20:17:48 INFO Model lightgbm trained in 1.634 minutes\n",
      "27-05-2024 20:17:51 INFO Model rf trained in 0.047 minutes\n",
      "27-05-2024 20:17:53 INFO Model qda trained in 0.032 minutes\n",
      "27-05-2024 20:17:55 INFO Model xgboost trained in 0.038 minutes\n",
      "27-05-2024 20:17:58 INFO Model gbc trained in 0.046 minutes\n",
      "27-05-2024 20:18:00 INFO Model lda trained in 0.033 minutes\n",
      "27-05-2024 20:18:02 INFO Model et trained in 0.043 minutes\n",
      "27-05-2024 20:18:04 INFO Model knn trained in 0.033 minutes\n",
      "27-05-2024 20:18:07 INFO Model ada trained in 0.041 minutes\n",
      "27-05-2024 20:18:33 INFO Model catboost trained in 0.439 minutes\n",
      "27-05-2024 20:18:35 INFO Model dummy trained in 0.033 minutes\n",
      "27-05-2024 20:18:35 INFO Training over: Total runtime 2.695 minutes\n",
      "27-05-2024 20:18:37 INFO --------------------------------------------------------\n",
      "27-05-2024 20:18:37 INFO Training classification models\n",
      "27-05-2024 20:18:37 INFO The models used ['dt', 'nb', 'rbfsvm', 'mlp', 'ridge', 'lr', 'gpc', 'svm', 'lightgbm', 'rf', 'qda', 'xgboost', 'gbc', 'lda', 'et', 'knn', 'ada', 'catboost', 'dummy']\n",
      "27-05-2024 20:18:37 INFO The number of models used 19\n",
      "27-05-2024 20:18:37 INFO Time budget is 20 minutes\n",
      "27-05-2024 20:18:39 INFO Model xgboost trained in 0.039 minutes\n",
      "27-05-2024 20:18:41 INFO Model ridge trained in 0.032 minutes\n",
      "27-05-2024 20:20:19 INFO Model lightgbm trained in 1.631 minutes\n",
      "27-05-2024 20:20:21 INFO Model knn trained in 0.032 minutes\n",
      "27-05-2024 20:20:23 INFO Model rbfsvm trained in 0.033 minutes\n",
      "27-05-2024 20:20:25 INFO Model ada trained in 0.04 minutes\n",
      "27-05-2024 20:20:28 INFO Model gpc trained in 0.035 minutes\n",
      "27-05-2024 20:20:30 INFO Model nb trained in 0.035 minutes\n",
      "27-05-2024 20:20:32 INFO Model lr trained in 0.032 minutes\n",
      "27-05-2024 20:20:34 INFO Model gbc trained in 0.046 minutes\n",
      "27-05-2024 20:20:36 INFO Model dummy trained in 0.033 minutes\n",
      "27-05-2024 20:20:39 INFO Model mlp trained in 0.041 minutes\n",
      "27-05-2024 20:20:41 INFO Model qda trained in 0.033 minutes\n",
      "27-05-2024 20:20:44 INFO Model rf trained in 0.046 minutes\n",
      "27-05-2024 20:21:05 INFO Model catboost trained in 0.348 minutes\n",
      "27-05-2024 20:21:07 INFO Model svm trained in 0.033 minutes\n",
      "27-05-2024 20:21:09 INFO Model dt trained in 0.033 minutes\n",
      "27-05-2024 20:21:11 INFO Model lda trained in 0.034 minutes\n",
      "27-05-2024 20:21:13 INFO Model et trained in 0.044 minutes\n",
      "27-05-2024 20:21:13 INFO Training over: Total runtime 2.602 minutes\n",
      "27-05-2024 20:21:15 INFO --------------------------------------------------------\n",
      "27-05-2024 20:21:15 INFO Training classification models\n",
      "27-05-2024 20:21:15 INFO The models used ['xgboost', 'ridge', 'lightgbm', 'knn', 'rbfsvm', 'ada', 'gpc', 'nb', 'lr', 'gbc', 'dummy', 'mlp', 'qda', 'rf', 'catboost', 'svm', 'dt', 'lda', 'et']\n",
      "27-05-2024 20:21:15 INFO The number of models used 19\n",
      "27-05-2024 20:21:15 INFO Time budget is 20 minutes\n",
      "27-05-2024 20:21:18 INFO Model mlp trained in 0.042 minutes\n",
      "27-05-2024 20:21:20 INFO Model rbfsvm trained in 0.034 minutes\n",
      "27-05-2024 20:21:22 INFO Model lr trained in 0.035 minutes\n",
      "27-05-2024 20:21:24 INFO Model svm trained in 0.033 minutes\n",
      "27-05-2024 20:23:10 INFO Model lightgbm trained in 1.762 minutes\n",
      "27-05-2024 20:23:12 INFO Model dt trained in 0.033 minutes\n",
      "27-05-2024 20:23:14 INFO Model gpc trained in 0.036 minutes\n",
      "27-05-2024 20:23:16 INFO Model ridge trained in 0.036 minutes\n",
      "27-05-2024 20:23:18 INFO Model ada trained in 0.04 minutes\n",
      "27-05-2024 20:23:20 INFO Model qda trained in 0.033 minutes\n",
      "27-05-2024 20:23:23 INFO Model et trained in 0.044 minutes\n",
      "27-05-2024 20:23:25 INFO Model knn trained in 0.034 minutes\n",
      "27-05-2024 20:23:27 INFO Model dummy trained in 0.034 minutes\n",
      "27-05-2024 20:23:30 INFO Model gbc trained in 0.044 minutes\n",
      "27-05-2024 20:23:32 INFO Model lda trained in 0.033 minutes\n",
      "27-05-2024 20:23:34 INFO Model nb trained in 0.033 minutes\n",
      "27-05-2024 20:23:36 INFO Model xgboost trained in 0.04 minutes\n",
      "27-05-2024 20:23:39 INFO Model rf trained in 0.047 minutes\n",
      "27-05-2024 20:23:59 INFO Model catboost trained in 0.328 minutes\n",
      "27-05-2024 20:23:59 INFO Training over: Total runtime 2.719 minutes\n",
      "27-05-2024 20:24:01 INFO --------------------------------------------------------\n",
      "27-05-2024 20:24:01 INFO Training classification models\n",
      "27-05-2024 20:24:01 INFO The models used ['mlp', 'rbfsvm', 'lr', 'svm', 'lightgbm', 'dt', 'gpc', 'ridge', 'ada', 'qda', 'et', 'knn', 'dummy', 'gbc', 'lda', 'nb', 'xgboost', 'rf', 'catboost']\n",
      "27-05-2024 20:24:01 INFO The number of models used 19\n",
      "27-05-2024 20:24:01 INFO Time budget is 20 minutes\n",
      "27-05-2024 20:24:03 INFO Model knn trained in 0.034 minutes\n",
      "27-05-2024 20:25:38 INFO Model lightgbm trained in 1.589 minutes\n",
      "27-05-2024 20:25:39 INFO Model ada trained in 0.026 minutes\n",
      "27-05-2024 20:25:41 INFO Model nb trained in 0.022 minutes\n",
      "27-05-2024 20:25:42 INFO Model lr trained in 0.023 minutes\n",
      "27-05-2024 20:25:44 INFO Model xgboost trained in 0.025 minutes\n",
      "27-05-2024 20:25:45 INFO Model gpc trained in 0.026 minutes\n",
      "27-05-2024 20:25:47 INFO Model rbfsvm trained in 0.022 minutes\n",
      "27-05-2024 20:25:48 INFO Model dt trained in 0.022 minutes\n",
      "27-05-2024 20:25:49 INFO Model dummy trained in 0.022 minutes\n",
      "27-05-2024 20:26:01 INFO Model catboost trained in 0.198 minutes\n",
      "27-05-2024 20:26:02 INFO Model svm trained in 0.022 minutes\n",
      "27-05-2024 20:26:04 INFO Model et trained in 0.028 minutes\n",
      "27-05-2024 20:26:05 INFO Model qda trained in 0.022 minutes\n",
      "27-05-2024 20:26:07 INFO Model rf trained in 0.029 minutes\n",
      "27-05-2024 20:26:09 INFO Model ridge trained in 0.023 minutes\n",
      "27-05-2024 20:26:10 INFO Model mlp trained in 0.026 minutes\n",
      "27-05-2024 20:26:12 INFO Model gbc trained in 0.029 minutes\n",
      "27-05-2024 20:26:13 INFO Model lda trained in 0.023 minutes\n",
      "27-05-2024 20:26:13 INFO Training over: Total runtime 2.211 minutes\n",
      "27-05-2024 20:26:14 INFO --------------------------------------------------------\n",
      "27-05-2024 20:26:14 INFO Training classification models\n",
      "27-05-2024 20:26:14 INFO The models used ['knn', 'lightgbm', 'ada', 'nb', 'lr', 'xgboost', 'gpc', 'rbfsvm', 'dt', 'dummy', 'catboost', 'svm', 'et', 'qda', 'rf', 'ridge', 'mlp', 'gbc', 'lda']\n",
      "27-05-2024 20:26:14 INFO The number of models used 19\n",
      "27-05-2024 20:26:14 INFO Time budget is 20 minutes\n",
      "27-05-2024 20:26:16 INFO Model svm trained in 0.023 minutes\n",
      "27-05-2024 20:26:17 INFO Model lr trained in 0.023 minutes\n",
      "27-05-2024 20:26:18 INFO Model dt trained in 0.022 minutes\n",
      "27-05-2024 20:26:20 INFO Model ridge trained in 0.023 minutes\n",
      "27-05-2024 20:26:21 INFO Model ada trained in 0.026 minutes\n",
      "27-05-2024 20:26:23 INFO Model mlp trained in 0.027 minutes\n",
      "27-05-2024 20:26:25 INFO Model gpc trained in 0.025 minutes\n",
      "27-05-2024 20:28:04 INFO Model lightgbm trained in 1.66 minutes\n",
      "27-05-2024 20:28:06 INFO Model xgboost trained in 0.024 minutes\n",
      "27-05-2024 20:28:07 INFO Model et trained in 0.028 minutes\n",
      "27-05-2024 20:28:09 INFO Model lda trained in 0.022 minutes\n",
      "27-05-2024 20:28:10 INFO Model nb trained in 0.024 minutes\n",
      "27-05-2024 20:28:22 INFO Model catboost trained in 0.192 minutes\n",
      "27-05-2024 20:28:23 INFO Model dummy trained in 0.023 minutes\n",
      "27-05-2024 20:28:25 INFO Model gbc trained in 0.029 minutes\n",
      "27-05-2024 20:28:26 INFO Model rbfsvm trained in 0.023 minutes\n",
      "27-05-2024 20:28:27 INFO Model knn trained in 0.023 minutes\n",
      "27-05-2024 20:28:29 INFO Model qda trained in 0.022 minutes\n",
      "27-05-2024 20:28:31 INFO Model rf trained in 0.029 minutes\n",
      "27-05-2024 20:28:31 INFO Training over: Total runtime 2.27 minutes\n",
      "27-05-2024 20:28:32 INFO --------------------------------------------------------\n",
      "27-05-2024 20:28:32 INFO Training classification models\n",
      "27-05-2024 20:28:32 INFO The models used ['svm', 'lr', 'dt', 'ridge', 'ada', 'mlp', 'gpc', 'lightgbm', 'xgboost', 'et', 'lda', 'nb', 'catboost', 'dummy', 'gbc', 'rbfsvm', 'knn', 'qda', 'rf']\n",
      "27-05-2024 20:28:32 INFO The number of models used 19\n",
      "27-05-2024 20:28:32 INFO Time budget is 20 minutes\n",
      "27-05-2024 20:28:33 INFO Model nb trained in 0.023 minutes\n",
      "27-05-2024 20:28:35 INFO Model ada trained in 0.026 minutes\n",
      "27-05-2024 20:28:36 INFO Model xgboost trained in 0.025 minutes\n",
      "27-05-2024 20:28:38 INFO Model rbfsvm trained in 0.024 minutes\n",
      "27-05-2024 20:28:39 INFO Model dt trained in 0.022 minutes\n",
      "27-05-2024 20:28:40 INFO Model knn trained in 0.023 minutes\n",
      "27-05-2024 20:28:42 INFO Model gpc trained in 0.025 minutes\n",
      "27-05-2024 20:28:43 INFO Model lr trained in 0.023 minutes\n",
      "27-05-2024 20:28:45 INFO Model mlp trained in 0.027 minutes\n",
      "27-05-2024 20:28:57 INFO Model catboost trained in 0.2 minutes\n",
      "27-05-2024 20:28:58 INFO Model rf trained in 0.029 minutes\n",
      "27-05-2024 20:29:00 INFO Model ridge trained in 0.023 minutes\n",
      "27-05-2024 20:29:01 INFO Model lda trained in 0.022 minutes\n",
      "27-05-2024 20:29:03 INFO Model et trained in 0.028 minutes\n",
      "27-05-2024 20:29:04 INFO Model qda trained in 0.023 minutes\n",
      "27-05-2024 20:31:01 INFO Model lightgbm trained in 1.94 minutes\n",
      "27-05-2024 20:31:02 INFO Model svm trained in 0.024 minutes\n",
      "27-05-2024 20:31:04 INFO Model dummy trained in 0.026 minutes\n",
      "27-05-2024 20:31:05 INFO Model gbc trained in 0.031 minutes\n",
      "27-05-2024 20:31:05 INFO Training over: Total runtime 2.563 minutes\n"
     ]
    }
   ],
   "source": [
    "generator = iterate_excel(\"classification_results/filtered_features.xlsx\", parser=DataParser, \n",
    "                          label=\"../data/esterase_labels.csv\", outliers=())\n",
    "\n",
    "split = ClusterSpliter(\"cluster.tsv\", num_splits=5, random_state=100, stratified=True)\n",
    "training.iterate_multiple_features(generator, training_output=\"classification_results\", split_strategy=split)"
   ]
  },
  {
   "cell_type": "markdown",
   "metadata": {},
   "source": [
    "## 5.2 Save Model from pre-trained"
   ]
  },
  {
   "cell_type": "markdown",
   "metadata": {},
   "source": [
    "To save the models you can train the model with all the data or save the model trained only with the training data"
   ]
  },
  {
   "cell_type": "code",
   "execution_count": 45,
   "metadata": {},
   "outputs": [
    {
     "data": {
      "text/plain": [
       "{'qda': QuadraticDiscriminantAnalysis(priors=None, reg_param=0.8258792813861613,\n",
       "                               store_covariance=False, tol=0.0001),\n",
       " 'knn': KNeighborsClassifier(algorithm='auto', leaf_size=30, metric='euclidean',\n",
       "                      metric_params=None, n_jobs=-1, n_neighbors=24, p=2,\n",
       "                      weights='uniform'),\n",
       " 'nb': GaussianNB(priors=None, var_smoothing=0.7918521648729947)}"
      ]
     },
     "execution_count": 45,
     "metadata": {},
     "output_type": "execute_result"
    }
   ],
   "source": [
    "models[\"tuned\"][\"train\"]"
   ]
  },
  {
   "cell_type": "code",
   "execution_count": 55,
   "metadata": {},
   "outputs": [],
   "source": [
    "from BioML.models import save_model"
   ]
  },
  {
   "cell_type": "code",
   "execution_count": 67,
   "metadata": {},
   "outputs": [
    {
     "name": "stderr",
     "output_type": "stream",
     "text": [
      "27-05-2024 21:53:11 INFO ----------Finalizing the model by training it with all the data including test set--------------\n",
      "27-05-2024 21:53:13 INFO ----------Finalizing the model by training it with all the data including test set--------------\n"
     ]
    },
    {
     "name": "stdout",
     "output_type": "stream",
     "text": [
      "Transformation Pipeline and Model Successfully Saved\n",
      "Transformation Pipeline and Model Successfully Saved\n"
     ]
    },
    {
     "name": "stderr",
     "output_type": "stream",
     "text": [
      "27-05-2024 21:53:14 INFO ----------Finalizing the model by training it with all the data including test set--------------\n"
     ]
    },
    {
     "name": "stdout",
     "output_type": "stream",
     "text": [
      "Transformation Pipeline and Model Successfully Saved\n"
     ]
    },
    {
     "name": "stderr",
     "output_type": "stream",
     "text": [
      "27-05-2024 21:53:15 INFO ----------Finalizing the model by training it with all the data including test set--------------\n"
     ]
    },
    {
     "name": "stdout",
     "output_type": "stream",
     "text": [
      "Transformation Pipeline and Model Successfully Saved\n"
     ]
    },
    {
     "name": "stderr",
     "output_type": "stream",
     "text": [
      "27-05-2024 21:53:16 INFO ----------Finalizing the model by training it with all the data including test set--------------\n"
     ]
    },
    {
     "name": "stdout",
     "output_type": "stream",
     "text": [
      "Transformation Pipeline and Model Successfully Saved\n"
     ]
    },
    {
     "name": "stderr",
     "output_type": "stream",
     "text": [
      "27-05-2024 21:53:17 INFO ----------Finalizing the model by training it with all the data including test set--------------\n",
      "27-05-2024 21:53:19 INFO ----------Finalizing the model by training it with all the data including test set--------------\n"
     ]
    },
    {
     "name": "stdout",
     "output_type": "stream",
     "text": [
      "Transformation Pipeline and Model Successfully Saved\n",
      "Transformation Pipeline and Model Successfully Saved\n"
     ]
    },
    {
     "name": "stderr",
     "output_type": "stream",
     "text": [
      "27-05-2024 21:53:20 INFO ----------Finalizing the model by training it with all the data including test set--------------\n"
     ]
    },
    {
     "name": "stdout",
     "output_type": "stream",
     "text": [
      "Transformation Pipeline and Model Successfully Saved\n"
     ]
    },
    {
     "name": "stderr",
     "output_type": "stream",
     "text": [
      "27-05-2024 21:53:21 INFO ----------Finalizing the model by training it with all the data including test set--------------\n"
     ]
    },
    {
     "name": "stdout",
     "output_type": "stream",
     "text": [
      "Transformation Pipeline and Model Successfully Saved\n"
     ]
    },
    {
     "name": "stderr",
     "output_type": "stream",
     "text": [
      "27-05-2024 21:53:22 INFO ----------Finalizing the model by training it with all the data including test set--------------\n"
     ]
    },
    {
     "name": "stdout",
     "output_type": "stream",
     "text": [
      "Transformation Pipeline and Model Successfully Saved\n"
     ]
    }
   ],
   "source": [
    "generate = save_model.GenerateModel(training)\n",
    "for status, model in models.items():\n",
    "    for key, value in model.items():\n",
    "        if key == \"holdout\":\n",
    "            for num, (name, mod) in enumerate(value.items()):\n",
    "                if num > training.experiment.best_model - 1 : break\n",
    "                final_model = generate.finalize_model(value, num)\n",
    "                generate.save_model(final_model, f\"classification_results/saved_models/{status}_{name}\")\n",
    "        else:\n",
    "            final_model = generate.finalize_model(value)\n",
    "            generate.save_model(final_model, f\"classification_results/saved_models/{key}_{status}\")"
   ]
  },
  {
   "cell_type": "markdown",
   "metadata": {},
   "source": [
    "## 5.3 Save Model from scratch"
   ]
  },
  {
   "cell_type": "markdown",
   "metadata": {},
   "source": [
    "This is an example on how to train on a few or a single model using the selected argument and save that "
   ]
  },
  {
   "cell_type": "code",
   "execution_count": 12,
   "metadata": {},
   "outputs": [],
   "source": [
    "from BioML.models import save_model"
   ]
  },
  {
   "cell_type": "code",
   "execution_count": 17,
   "metadata": {},
   "outputs": [
    {
     "name": "stderr",
     "output_type": "stream",
     "text": [
      "27-03-2024 14:28:52 INFO ------------------------------------------------------------------------------\n",
      "27-03-2024 14:28:52 INFO PycaretInterface parameters\n",
      "27-03-2024 14:28:52 INFO Seed: 200\n",
      "27-03-2024 14:28:52 INFO Budget time: 20\n",
      "27-03-2024 14:28:52 INFO The number of models to select: 3\n",
      "27-03-2024 14:28:52 INFO Output path: classification_training\n",
      "27-03-2024 14:28:52 INFO ----------------Trainer inputs-------------------------\n",
      "27-03-2024 14:28:52 INFO Number of kfolds: 5\n",
      "27-03-2024 14:28:52 INFO Number of iterations: 30\n"
     ]
    }
   ],
   "source": [
    "data = DataParser(\"filtered_features.xlsx\", \"../data/esterase_labels.csv\", sheets=\"chi2_65\")\n",
    "experiment = PycaretInterface(\"classification\", 200, budget_time=20, best_model=3, \n",
    "                                  output_path=\"classification_results\", optimize=\"MCC\", experiment_name=\"generate_model\")\n",
    "classifier = Classifier(optimize=\"MCC\", selected=(\"qda\", \"rbfsvm\", \"ridge\"))\n",
    "training = Trainer(experiment, classifier, num_splits=5, test_size=0.2,  num_iter=30)\n"
   ]
  },
  {
   "cell_type": "code",
   "execution_count": 19,
   "metadata": {},
   "outputs": [
    {
     "name": "stderr",
     "output_type": "stream",
     "text": [
      "2024/03/27 14:28:55 INFO mlflow.tracking.fluent: Experiment with name 'generate_model' does not exist. Creating a new experiment.\n",
      "27-03-2024 14:28:56 INFO --------------------------------------------------------\n",
      "27-03-2024 14:28:56 INFO Training classification models\n",
      "27-03-2024 14:28:56 INFO The models used ['lr']\n",
      "27-03-2024 14:28:56 INFO Time budget is 20 minutes\n",
      "27-03-2024 14:29:01 INFO Model lr trained in 0.092 minutes\n",
      "27-03-2024 14:29:01 INFO Training over: Total runtime 0.092 minutes\n"
     ]
    },
    {
     "name": "stdout",
     "output_type": "stream",
     "text": [
      "Model lr trained in 0.092 minutes\n"
     ]
    }
   ],
   "source": [
    "sorted_results, sorted_models, top_params = training.run_training(data.features, data.label)"
   ]
  },
  {
   "cell_type": "code",
   "execution_count": 20,
   "metadata": {},
   "outputs": [
    {
     "name": "stderr",
     "output_type": "stream",
     "text": [
      "27-03-2024 14:29:02 INFO ----------Finalizing the model by training it with all the data including test set--------------\n"
     ]
    },
    {
     "name": "stdout",
     "output_type": "stream",
     "text": [
      "Transformation Pipeline and Model Successfully Saved\n"
     ]
    }
   ],
   "source": [
    "generate = save_model.GenerateModel(training)\n",
    "models =  generate.train_by_strategy(sorted_models, \"majority\")\n",
    "final_model = generate.finalize_model(models)\n",
    "generate.save_model(final_model, \"classification_results/model_output/logistic\")"
   ]
  },
  {
   "cell_type": "markdown",
   "metadata": {},
   "source": [
    "# 6. Prediction"
   ]
  },
  {
   "cell_type": "markdown",
   "metadata": {},
   "source": [
    "Finally once you have the models you can make predictions on new data."
   ]
  },
  {
   "cell_type": "code",
   "execution_count": 68,
   "metadata": {},
   "outputs": [],
   "source": [
    "from BioML.models import predict\n",
    "import pandas as pd\n",
    "import numpy as np\n",
    "from scipy.spatial import distance"
   ]
  },
  {
   "cell_type": "code",
   "execution_count": 72,
   "metadata": {},
   "outputs": [],
   "source": [
    "training_features = \"classification_results/filtered_features.xlsx\"\n",
    "label = \"../data/esterase_labels.csv\"\n",
    "outlier_train=()\n",
    "outlier_test=()\n",
    "sheet_name=\"chi2_60\"\n",
    "problem=\"classification\"\n",
    "model_path=\"classification_results/saved_models/tuned_rbfsvm\"\n",
    "scaler=\"robust\""
   ]
  },
  {
   "cell_type": "markdown",
   "metadata": {},
   "source": [
    "#### Generate the predictions"
   ]
  },
  {
   "cell_type": "markdown",
   "metadata": {},
   "source": [
    "The prediccions are appended to the features dataframe, if it is classification it returns\n",
    "the probability of being in class 0 or class 1"
   ]
  },
  {
   "cell_type": "code",
   "execution_count": 73,
   "metadata": {},
   "outputs": [],
   "source": [
    "feature = predict.DataParser(training_features, label, outliers=outlier_train, sheets=sheet_name)\n",
    "test_features = feature.remove_outliers(feature.read_features(training_features, \"chi2_60\"), outlier_test)\n",
    "predictions = predict.predict(test_features, model_path, problem)"
   ]
  },
  {
   "cell_type": "code",
   "execution_count": 74,
   "metadata": {},
   "outputs": [
    {
     "data": {
      "text/html": [
       "<div>\n",
       "<style scoped>\n",
       "    .dataframe tbody tr th:only-of-type {\n",
       "        vertical-align: middle;\n",
       "    }\n",
       "\n",
       "    .dataframe tbody tr th {\n",
       "        vertical-align: top;\n",
       "    }\n",
       "\n",
       "    .dataframe thead th {\n",
       "        text-align: right;\n",
       "    }\n",
       "</style>\n",
       "<table border=\"1\" class=\"dataframe\">\n",
       "  <thead>\n",
       "    <tr style=\"text-align: right;\">\n",
       "      <th></th>\n",
       "      <th>CHOC760101.lag5_NMBroto</th>\n",
       "      <th>CHOC760101.lag19_NMBroto</th>\n",
       "      <th>CHOC760101.lag28_NMBroto</th>\n",
       "      <th>BIGC670101.lag15_NMBroto</th>\n",
       "      <th>BIGC670101.lag17_NMBroto</th>\n",
       "      <th>BIGC670101.lag19_NMBroto</th>\n",
       "      <th>BIGC670101.lag20_NMBroto</th>\n",
       "      <th>BIGC670101.lag28_NMBroto</th>\n",
       "      <th>CHAM810101.lag4_NMBroto</th>\n",
       "      <th>CHAM810101.lag7_NMBroto</th>\n",
       "      <th>...</th>\n",
       "      <th>tri_gram_pssm3119</th>\n",
       "      <th>tri_gram_pssm3183</th>\n",
       "      <th>tri_gram_pssm3194</th>\n",
       "      <th>tri_gram_pssm3353</th>\n",
       "      <th>tri_gram_pssm3615</th>\n",
       "      <th>tri_gram_pssm3759</th>\n",
       "      <th>tri_gram_pssm4000</th>\n",
       "      <th>prediction_label</th>\n",
       "      <th>prediction_score_0</th>\n",
       "      <th>prediction_score_1</th>\n",
       "    </tr>\n",
       "    <tr>\n",
       "      <th>#</th>\n",
       "      <th></th>\n",
       "      <th></th>\n",
       "      <th></th>\n",
       "      <th></th>\n",
       "      <th></th>\n",
       "      <th></th>\n",
       "      <th></th>\n",
       "      <th></th>\n",
       "      <th></th>\n",
       "      <th></th>\n",
       "      <th></th>\n",
       "      <th></th>\n",
       "      <th></th>\n",
       "      <th></th>\n",
       "      <th></th>\n",
       "      <th></th>\n",
       "      <th></th>\n",
       "      <th></th>\n",
       "      <th></th>\n",
       "      <th></th>\n",
       "      <th></th>\n",
       "    </tr>\n",
       "  </thead>\n",
       "  <tbody>\n",
       "    <tr>\n",
       "      <th>EH1(72)</th>\n",
       "      <td>0.118068</td>\n",
       "      <td>0.096143</td>\n",
       "      <td>0.118796</td>\n",
       "      <td>0.171914</td>\n",
       "      <td>0.056545</td>\n",
       "      <td>0.086754</td>\n",
       "      <td>0.155324</td>\n",
       "      <td>0.119404</td>\n",
       "      <td>0.236117</td>\n",
       "      <td>-0.168890</td>\n",
       "      <td>...</td>\n",
       "      <td>0.093460</td>\n",
       "      <td>0.212549</td>\n",
       "      <td>0.421593</td>\n",
       "      <td>0.635783</td>\n",
       "      <td>0.066341</td>\n",
       "      <td>0.057537</td>\n",
       "      <td>1.171545</td>\n",
       "      <td>1</td>\n",
       "      <td>0.0685</td>\n",
       "      <td>0.9315</td>\n",
       "    </tr>\n",
       "    <tr>\n",
       "      <th>EH2(71)</th>\n",
       "      <td>0.107386</td>\n",
       "      <td>0.180276</td>\n",
       "      <td>0.109605</td>\n",
       "      <td>0.129907</td>\n",
       "      <td>0.118536</td>\n",
       "      <td>0.154043</td>\n",
       "      <td>0.163483</td>\n",
       "      <td>0.087913</td>\n",
       "      <td>0.025224</td>\n",
       "      <td>0.053429</td>\n",
       "      <td>...</td>\n",
       "      <td>0.091990</td>\n",
       "      <td>0.236621</td>\n",
       "      <td>0.436635</td>\n",
       "      <td>0.627822</td>\n",
       "      <td>0.065478</td>\n",
       "      <td>0.057645</td>\n",
       "      <td>1.254162</td>\n",
       "      <td>1</td>\n",
       "      <td>0.0685</td>\n",
       "      <td>0.9315</td>\n",
       "    </tr>\n",
       "    <tr>\n",
       "      <th>EH3(69)</th>\n",
       "      <td>0.112021</td>\n",
       "      <td>0.077265</td>\n",
       "      <td>0.114472</td>\n",
       "      <td>0.098869</td>\n",
       "      <td>0.120236</td>\n",
       "      <td>0.036784</td>\n",
       "      <td>0.067027</td>\n",
       "      <td>0.092908</td>\n",
       "      <td>-0.050240</td>\n",
       "      <td>0.076793</td>\n",
       "      <td>...</td>\n",
       "      <td>0.086817</td>\n",
       "      <td>0.240934</td>\n",
       "      <td>0.426602</td>\n",
       "      <td>0.581026</td>\n",
       "      <td>0.072795</td>\n",
       "      <td>0.070650</td>\n",
       "      <td>1.145435</td>\n",
       "      <td>1</td>\n",
       "      <td>0.0684</td>\n",
       "      <td>0.9316</td>\n",
       "    </tr>\n",
       "    <tr>\n",
       "      <th>CalB(68)</th>\n",
       "      <td>0.161866</td>\n",
       "      <td>0.287394</td>\n",
       "      <td>0.195907</td>\n",
       "      <td>0.105565</td>\n",
       "      <td>0.128690</td>\n",
       "      <td>0.293327</td>\n",
       "      <td>0.167705</td>\n",
       "      <td>0.133277</td>\n",
       "      <td>-0.040054</td>\n",
       "      <td>0.018115</td>\n",
       "      <td>...</td>\n",
       "      <td>0.108310</td>\n",
       "      <td>0.137290</td>\n",
       "      <td>0.145654</td>\n",
       "      <td>0.088244</td>\n",
       "      <td>0.140045</td>\n",
       "      <td>0.040067</td>\n",
       "      <td>0.524687</td>\n",
       "      <td>0</td>\n",
       "      <td>0.6528</td>\n",
       "      <td>0.3472</td>\n",
       "    </tr>\n",
       "    <tr>\n",
       "      <th>EH4(67)</th>\n",
       "      <td>0.093502</td>\n",
       "      <td>0.155839</td>\n",
       "      <td>0.122362</td>\n",
       "      <td>0.108427</td>\n",
       "      <td>0.144284</td>\n",
       "      <td>0.132430</td>\n",
       "      <td>0.157275</td>\n",
       "      <td>0.074507</td>\n",
       "      <td>0.082678</td>\n",
       "      <td>0.133993</td>\n",
       "      <td>...</td>\n",
       "      <td>0.093897</td>\n",
       "      <td>0.220335</td>\n",
       "      <td>0.433682</td>\n",
       "      <td>0.625750</td>\n",
       "      <td>0.066227</td>\n",
       "      <td>0.056797</td>\n",
       "      <td>1.274040</td>\n",
       "      <td>1</td>\n",
       "      <td>0.0685</td>\n",
       "      <td>0.9315</td>\n",
       "    </tr>\n",
       "  </tbody>\n",
       "</table>\n",
       "<p>5 rows × 63 columns</p>\n",
       "</div>"
      ],
      "text/plain": [
       "          CHOC760101.lag5_NMBroto  CHOC760101.lag19_NMBroto  \\\n",
       "#                                                             \n",
       "EH1(72)                  0.118068                  0.096143   \n",
       "EH2(71)                  0.107386                  0.180276   \n",
       "EH3(69)                  0.112021                  0.077265   \n",
       "CalB(68)                 0.161866                  0.287394   \n",
       "EH4(67)                  0.093502                  0.155839   \n",
       "\n",
       "          CHOC760101.lag28_NMBroto  BIGC670101.lag15_NMBroto  \\\n",
       "#                                                              \n",
       "EH1(72)                   0.118796                  0.171914   \n",
       "EH2(71)                   0.109605                  0.129907   \n",
       "EH3(69)                   0.114472                  0.098869   \n",
       "CalB(68)                  0.195907                  0.105565   \n",
       "EH4(67)                   0.122362                  0.108427   \n",
       "\n",
       "          BIGC670101.lag17_NMBroto  BIGC670101.lag19_NMBroto  \\\n",
       "#                                                              \n",
       "EH1(72)                   0.056545                  0.086754   \n",
       "EH2(71)                   0.118536                  0.154043   \n",
       "EH3(69)                   0.120236                  0.036784   \n",
       "CalB(68)                  0.128690                  0.293327   \n",
       "EH4(67)                   0.144284                  0.132430   \n",
       "\n",
       "          BIGC670101.lag20_NMBroto  BIGC670101.lag28_NMBroto  \\\n",
       "#                                                              \n",
       "EH1(72)                   0.155324                  0.119404   \n",
       "EH2(71)                   0.163483                  0.087913   \n",
       "EH3(69)                   0.067027                  0.092908   \n",
       "CalB(68)                  0.167705                  0.133277   \n",
       "EH4(67)                   0.157275                  0.074507   \n",
       "\n",
       "          CHAM810101.lag4_NMBroto  CHAM810101.lag7_NMBroto  ...  \\\n",
       "#                                                           ...   \n",
       "EH1(72)                  0.236117                -0.168890  ...   \n",
       "EH2(71)                  0.025224                 0.053429  ...   \n",
       "EH3(69)                 -0.050240                 0.076793  ...   \n",
       "CalB(68)                -0.040054                 0.018115  ...   \n",
       "EH4(67)                  0.082678                 0.133993  ...   \n",
       "\n",
       "          tri_gram_pssm3119  tri_gram_pssm3183  tri_gram_pssm3194  \\\n",
       "#                                                                   \n",
       "EH1(72)            0.093460           0.212549           0.421593   \n",
       "EH2(71)            0.091990           0.236621           0.436635   \n",
       "EH3(69)            0.086817           0.240934           0.426602   \n",
       "CalB(68)           0.108310           0.137290           0.145654   \n",
       "EH4(67)            0.093897           0.220335           0.433682   \n",
       "\n",
       "          tri_gram_pssm3353  tri_gram_pssm3615  tri_gram_pssm3759  \\\n",
       "#                                                                   \n",
       "EH1(72)            0.635783           0.066341           0.057537   \n",
       "EH2(71)            0.627822           0.065478           0.057645   \n",
       "EH3(69)            0.581026           0.072795           0.070650   \n",
       "CalB(68)           0.088244           0.140045           0.040067   \n",
       "EH4(67)            0.625750           0.066227           0.056797   \n",
       "\n",
       "          tri_gram_pssm4000  prediction_label  prediction_score_0  \\\n",
       "#                                                                   \n",
       "EH1(72)            1.171545                 1              0.0685   \n",
       "EH2(71)            1.254162                 1              0.0685   \n",
       "EH3(69)            1.145435                 1              0.0684   \n",
       "CalB(68)           0.524687                 0              0.6528   \n",
       "EH4(67)            1.274040                 1              0.0685   \n",
       "\n",
       "          prediction_score_1  \n",
       "#                             \n",
       "EH1(72)               0.9315  \n",
       "EH2(71)               0.9315  \n",
       "EH3(69)               0.9316  \n",
       "CalB(68)              0.3472  \n",
       "EH4(67)               0.9315  \n",
       "\n",
       "[5 rows x 63 columns]"
      ]
     },
     "execution_count": 74,
     "metadata": {},
     "output_type": "execute_result"
    }
   ],
   "source": [
    "predictions.head()"
   ]
  },
  {
   "cell_type": "markdown",
   "metadata": {},
   "source": [
    "#### Optional if you want to filter predictions based if that test sample is within the applicability domain"
   ]
  },
  {
   "cell_type": "markdown",
   "metadata": {},
   "source": [
    "Applicability domain compares eucleadian distance between the features from the training and features from the test.   \n",
    "If the distance is far from a set threshold then that prediction is discarded since it deviates from the samples the model have seen during training  \n",
    "Testing on the training dataset it discards a few as well so the error can be quite high"
   ]
  },
  {
   "cell_type": "code",
   "execution_count": 41,
   "metadata": {},
   "outputs": [],
   "source": [
    "transformed, scaler_dict, test_x = predict.scale(scaler, feature.drop(), test_features)\n",
    "filtered_pred = predict.domain_filter(predictions, transformed, test_x, 5) # it returns the predictions appended to the features"
   ]
  },
  {
   "cell_type": "code",
   "execution_count": 44,
   "metadata": {},
   "outputs": [
    {
     "data": {
      "text/plain": [
       "((120, 20), (147, 19))"
      ]
     },
     "execution_count": 44,
     "metadata": {},
     "output_type": "execute_result"
    }
   ],
   "source": [
    "filtered_pred.shape, predictions.shape"
   ]
  },
  {
   "cell_type": "markdown",
   "metadata": {},
   "source": [
    " if you don't apply the domain filter, you can just use the predictions but you have to change the index to sample_0, sample_1, etc to filter the fasta files into positive or negative"
   ]
  },
  {
   "cell_type": "code",
   "execution_count": null,
   "metadata": {},
   "outputs": [],
   "source": [
    "\n",
    "predictions.index = [f\"sample_{x}\" for x, _ in enumerate(predictions.index)]\n",
    "col_name = [\"prediction_score\", \"prediction_label\", \"AD_number\"]\n",
    "predictions = predictions.loc[:, predictions.columns.str.contains(\"|\".join(col_name))] # only keep the columns with the prediction scores"
   ]
  },
  {
   "cell_type": "markdown",
   "metadata": {},
   "source": [
    "### Separate the fasta file into positive or negative"
   ]
  },
  {
   "cell_type": "code",
   "execution_count": 34,
   "metadata": {},
   "outputs": [],
   "source": [
    "fasta = \"../data/whole_sequence.fasta\"\n",
    "res_dir = \"prediction_results_domain\""
   ]
  },
  {
   "cell_type": "code",
   "execution_count": 35,
   "metadata": {},
   "outputs": [],
   "source": [
    "extractor = predict.FastaExtractor(fasta, res_dir)\n",
    "positive, negative = extractor.separate_negative_positive(predictions)\n"
   ]
  },
  {
   "cell_type": "code",
   "execution_count": 36,
   "metadata": {},
   "outputs": [],
   "source": [
    "extractor.extract(positive, negative, positive_fasta=\"classification_results/positive.fasta\", negative_fasta=f\"classification_results/negative.fasta\")"
   ]
  },
  {
   "cell_type": "markdown",
   "metadata": {},
   "source": [
    "## Several uses cases comes into mind \n",
    "\n",
    "1. Rapidly test different features sets people might have constructed (or generate one using BioML)\n",
    "2. Compare which of the classical algorithms is more suited for your features so you can focus your efforts on optimizing the hyperparameters of that algorithm\n",
    "3. Have a baseline model to compare the performance of your customized training pipeline\n",
    "4. TODO: Finetune your own large language models -> I will implement a way to automatically finetune LLM's for a specific task using parameter efficient fine tuning techniques. I'll allow you to train it on a consumer GPU, models between 13B and 30B parameters.\n",
    "\n"
   ]
  }
 ],
 "metadata": {
  "kernelspec": {
   "display_name": "bioml",
   "language": "python",
   "name": "python3"
  },
  "language_info": {
   "codemirror_mode": {
    "name": "ipython",
    "version": 3
   },
   "file_extension": ".py",
   "mimetype": "text/x-python",
   "name": "python",
   "nbconvert_exporter": "python",
   "pygments_lexer": "ipython3",
   "version": "3.10.13"
  },
  "orig_nbformat": 4
 },
 "nbformat": 4,
 "nbformat_minor": 2
}
