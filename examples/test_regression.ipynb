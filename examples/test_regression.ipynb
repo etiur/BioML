{
 "cells": [
  {
   "cell_type": "code",
   "execution_count": 1,
   "metadata": {},
   "outputs": [],
   "source": [
    "from pycaret.datasets import get_data\n",
    "from functools import partial\n",
    "import pandas as pd\n",
    "import time\n",
    "from sklearn.feature_selection import VarianceThreshold\n",
    "from sklearn.ensemble import RandomForestRegressor as rfr\n",
    "import shap\n",
    "import xgboost as xgb\n",
    "import numpy as np\n",
    "from sklearn.feature_selection import RFE, SelectKBest, f_regression, mutual_info_regression\n",
    "from sklearn.linear_model import RidgeClassifier, Ridge\n",
    "from sklearn.model_selection import train_test_split\n"
   ]
  },
  {
   "cell_type": "markdown",
   "metadata": {},
   "source": [
    "### Models"
   ]
  },
  {
   "cell_type": "code",
   "execution_count": 2,
   "metadata": {},
   "outputs": [
    {
     "data": {
      "text/html": [
       "<div>\n",
       "<style scoped>\n",
       "    .dataframe tbody tr th:only-of-type {\n",
       "        vertical-align: middle;\n",
       "    }\n",
       "\n",
       "    .dataframe tbody tr th {\n",
       "        vertical-align: top;\n",
       "    }\n",
       "\n",
       "    .dataframe thead th {\n",
       "        text-align: right;\n",
       "    }\n",
       "</style>\n",
       "<table border=\"1\" class=\"dataframe\">\n",
       "  <thead>\n",
       "    <tr style=\"text-align: right;\">\n",
       "      <th></th>\n",
       "      <th>Number of times pregnant</th>\n",
       "      <th>Plasma glucose concentration a 2 hours in an oral glucose tolerance test</th>\n",
       "      <th>Diastolic blood pressure (mm Hg)</th>\n",
       "      <th>Triceps skin fold thickness (mm)</th>\n",
       "      <th>2-Hour serum insulin (mu U/ml)</th>\n",
       "      <th>Body mass index (weight in kg/(height in m)^2)</th>\n",
       "      <th>Diabetes pedigree function</th>\n",
       "      <th>Age (years)</th>\n",
       "      <th>Class variable</th>\n",
       "    </tr>\n",
       "  </thead>\n",
       "  <tbody>\n",
       "    <tr>\n",
       "      <th>0</th>\n",
       "      <td>6</td>\n",
       "      <td>148</td>\n",
       "      <td>72</td>\n",
       "      <td>35</td>\n",
       "      <td>0</td>\n",
       "      <td>33.6</td>\n",
       "      <td>0.627</td>\n",
       "      <td>50</td>\n",
       "      <td>1</td>\n",
       "    </tr>\n",
       "    <tr>\n",
       "      <th>1</th>\n",
       "      <td>1</td>\n",
       "      <td>85</td>\n",
       "      <td>66</td>\n",
       "      <td>29</td>\n",
       "      <td>0</td>\n",
       "      <td>26.6</td>\n",
       "      <td>0.351</td>\n",
       "      <td>31</td>\n",
       "      <td>0</td>\n",
       "    </tr>\n",
       "    <tr>\n",
       "      <th>2</th>\n",
       "      <td>8</td>\n",
       "      <td>183</td>\n",
       "      <td>64</td>\n",
       "      <td>0</td>\n",
       "      <td>0</td>\n",
       "      <td>23.3</td>\n",
       "      <td>0.672</td>\n",
       "      <td>32</td>\n",
       "      <td>1</td>\n",
       "    </tr>\n",
       "    <tr>\n",
       "      <th>3</th>\n",
       "      <td>1</td>\n",
       "      <td>89</td>\n",
       "      <td>66</td>\n",
       "      <td>23</td>\n",
       "      <td>94</td>\n",
       "      <td>28.1</td>\n",
       "      <td>0.167</td>\n",
       "      <td>21</td>\n",
       "      <td>0</td>\n",
       "    </tr>\n",
       "    <tr>\n",
       "      <th>4</th>\n",
       "      <td>0</td>\n",
       "      <td>137</td>\n",
       "      <td>40</td>\n",
       "      <td>35</td>\n",
       "      <td>168</td>\n",
       "      <td>43.1</td>\n",
       "      <td>2.288</td>\n",
       "      <td>33</td>\n",
       "      <td>1</td>\n",
       "    </tr>\n",
       "  </tbody>\n",
       "</table>\n",
       "</div>"
      ],
      "text/plain": [
       "   Number of times pregnant  \\\n",
       "0                         6   \n",
       "1                         1   \n",
       "2                         8   \n",
       "3                         1   \n",
       "4                         0   \n",
       "\n",
       "   Plasma glucose concentration a 2 hours in an oral glucose tolerance test  \\\n",
       "0                                                148                          \n",
       "1                                                 85                          \n",
       "2                                                183                          \n",
       "3                                                 89                          \n",
       "4                                                137                          \n",
       "\n",
       "   Diastolic blood pressure (mm Hg)  Triceps skin fold thickness (mm)  \\\n",
       "0                                72                                35   \n",
       "1                                66                                29   \n",
       "2                                64                                 0   \n",
       "3                                66                                23   \n",
       "4                                40                                35   \n",
       "\n",
       "   2-Hour serum insulin (mu U/ml)  \\\n",
       "0                               0   \n",
       "1                               0   \n",
       "2                               0   \n",
       "3                              94   \n",
       "4                             168   \n",
       "\n",
       "   Body mass index (weight in kg/(height in m)^2)  Diabetes pedigree function  \\\n",
       "0                                            33.6                       0.627   \n",
       "1                                            26.6                       0.351   \n",
       "2                                            23.3                       0.672   \n",
       "3                                            28.1                       0.167   \n",
       "4                                            43.1                       2.288   \n",
       "\n",
       "   Age (years)  Class variable  \n",
       "0           50               1  \n",
       "1           31               0  \n",
       "2           32               1  \n",
       "3           21               0  \n",
       "4           33               1  "
      ]
     },
     "metadata": {},
     "output_type": "display_data"
    },
    {
     "data": {
      "text/html": [
       "<div>\n",
       "<style scoped>\n",
       "    .dataframe tbody tr th:only-of-type {\n",
       "        vertical-align: middle;\n",
       "    }\n",
       "\n",
       "    .dataframe tbody tr th {\n",
       "        vertical-align: top;\n",
       "    }\n",
       "\n",
       "    .dataframe thead th {\n",
       "        text-align: right;\n",
       "    }\n",
       "</style>\n",
       "<table border=\"1\" class=\"dataframe\">\n",
       "  <thead>\n",
       "    <tr style=\"text-align: right;\">\n",
       "      <th></th>\n",
       "      <th>age</th>\n",
       "      <th>sex</th>\n",
       "      <th>bmi</th>\n",
       "      <th>children</th>\n",
       "      <th>smoker</th>\n",
       "      <th>region</th>\n",
       "      <th>charges</th>\n",
       "    </tr>\n",
       "  </thead>\n",
       "  <tbody>\n",
       "    <tr>\n",
       "      <th>0</th>\n",
       "      <td>19</td>\n",
       "      <td>female</td>\n",
       "      <td>27.900</td>\n",
       "      <td>0</td>\n",
       "      <td>yes</td>\n",
       "      <td>southwest</td>\n",
       "      <td>16884.92400</td>\n",
       "    </tr>\n",
       "    <tr>\n",
       "      <th>1</th>\n",
       "      <td>18</td>\n",
       "      <td>male</td>\n",
       "      <td>33.770</td>\n",
       "      <td>1</td>\n",
       "      <td>no</td>\n",
       "      <td>southeast</td>\n",
       "      <td>1725.55230</td>\n",
       "    </tr>\n",
       "    <tr>\n",
       "      <th>2</th>\n",
       "      <td>28</td>\n",
       "      <td>male</td>\n",
       "      <td>33.000</td>\n",
       "      <td>3</td>\n",
       "      <td>no</td>\n",
       "      <td>southeast</td>\n",
       "      <td>4449.46200</td>\n",
       "    </tr>\n",
       "    <tr>\n",
       "      <th>3</th>\n",
       "      <td>33</td>\n",
       "      <td>male</td>\n",
       "      <td>22.705</td>\n",
       "      <td>0</td>\n",
       "      <td>no</td>\n",
       "      <td>northwest</td>\n",
       "      <td>21984.47061</td>\n",
       "    </tr>\n",
       "    <tr>\n",
       "      <th>4</th>\n",
       "      <td>32</td>\n",
       "      <td>male</td>\n",
       "      <td>28.880</td>\n",
       "      <td>0</td>\n",
       "      <td>no</td>\n",
       "      <td>northwest</td>\n",
       "      <td>3866.85520</td>\n",
       "    </tr>\n",
       "  </tbody>\n",
       "</table>\n",
       "</div>"
      ],
      "text/plain": [
       "   age     sex     bmi  children smoker     region      charges\n",
       "0   19  female  27.900         0    yes  southwest  16884.92400\n",
       "1   18    male  33.770         1     no  southeast   1725.55230\n",
       "2   28    male  33.000         3     no  southeast   4449.46200\n",
       "3   33    male  22.705         0     no  northwest  21984.47061\n",
       "4   32    male  28.880         0     no  northwest   3866.85520"
      ]
     },
     "metadata": {},
     "output_type": "display_data"
    }
   ],
   "source": [
    "data = get_data('diabetes')\n",
    "data_reg = get_data('insurance')\n",
    "new_data = data.drop(\"Class variable\", axis=1)\n",
    "charges = data_reg.loc[data.index][\"charges\"]"
   ]
  },
  {
   "cell_type": "code",
   "execution_count": 3,
   "metadata": {},
   "outputs": [],
   "source": [
    "labels = pd.read_csv(\"../data/regression_labels.csv\", index_col=0)\n",
    "regre = pd.read_csv(\"../data/regression.csv\", index_col=0)"
   ]
  },
  {
   "cell_type": "markdown",
   "metadata": {},
   "source": [
    "## Regression"
   ]
  },
  {
   "cell_type": "code",
   "execution_count": 4,
   "metadata": {},
   "outputs": [],
   "source": [
    "import BioML.models.regression as regression\n",
    "from collections import defaultdict\n",
    "from functools import partial\n",
    "import pandas as pd\n",
    "import numpy as np"
   ]
  },
  {
   "cell_type": "code",
   "execution_count": 5,
   "metadata": {},
   "outputs": [],
   "source": [
    "plot = (\"learning\", \"error\", \"residuals\")"
   ]
  },
  {
   "cell_type": "code",
   "execution_count": 6,
   "metadata": {},
   "outputs": [],
   "source": [
    "excel = pd.read_excel(\"../data/esterase_features.xlsx\", index_col=0, sheet_name=\"ch2_20\")\n",
    "label = list(range(len(excel)))"
   ]
  },
  {
   "cell_type": "code",
   "execution_count": 8,
   "metadata": {},
   "outputs": [
    {
     "name": "stderr",
     "output_type": "stream",
     "text": [
      "27-05-2024 17:11:57 INFO ------------------------------------------------------------------------------\n",
      "27-05-2024 17:11:57 INFO PycaretInterface parameters\n",
      "27-05-2024 17:11:57 INFO Seed: 200\n",
      "27-05-2024 17:11:57 INFO Budget time: 20\n",
      "27-05-2024 17:11:57 INFO The number of models to select: 3\n",
      "27-05-2024 17:11:57 INFO Output path: regression_results\n",
      "27-05-2024 17:11:57 INFO ----------------Trainer inputs-------------------------\n",
      "27-05-2024 17:11:57 INFO Number of kfolds: 5\n",
      "27-05-2024 17:11:57 INFO Number of retuning iterations: 50\n",
      "27-05-2024 17:11:57 INFO Test size: 30\n"
     ]
    }
   ],
   "source": [
    "data = regression.DataParser(\"../data/esterase_features.xlsx\", label)\n",
    "experiment = regression.PycaretInterface(\"regression\", 200, budget_time=20, best_model=3, \n",
    "                                        output_path=\"regression_results\", optimize=\"RMSE\")\n",
    "regressor = regression.Regressor(optimize=\"RMSE\")\n",
    "training = regression.Trainer(experiment, regressor, 5, 30)\n"
   ]
  },
  {
   "cell_type": "code",
   "execution_count": 9,
   "metadata": {},
   "outputs": [],
   "source": [
    "c = regression.split.ClusterSpliter(\"../data/resultsDB_clu.tsv\", 5, random_state=experiment.seed)\n",
    "X_train, X_test = c.train_test_split(data.features)"
   ]
  },
  {
   "cell_type": "code",
   "execution_count": 10,
   "metadata": {},
   "outputs": [
    {
     "name": "stderr",
     "output_type": "stream",
     "text": [
      "2024/05/27 17:12:04 INFO mlflow.tracking.fluent: Experiment with name 'Regression' does not exist. Creating a new experiment.\n",
      "27-05-2024 17:12:05 INFO --------------------------------------------------------\n",
      "27-05-2024 17:12:05 INFO Training regression models\n",
      "27-05-2024 17:12:05 INFO The models used ['lr', 'lasso', 'ridge', 'en', 'lar', 'llar', 'omp', 'br', 'ard', 'par', 'huber', 'svm', 'knn', 'dt', 'rf', 'et', 'ada', 'gbr', 'mlp', 'xgboost', 'catboost', 'dummy']\n",
      "27-05-2024 17:12:05 INFO The number of models used 22\n",
      "27-05-2024 17:12:05 INFO Time budget is 20 minutes\n",
      "27-05-2024 17:12:17 INFO Model ridge trained in 0.2 minutes\n",
      "27-05-2024 17:12:26 INFO Model lr trained in 0.137 minutes\n",
      "27-05-2024 17:12:27 INFO Model xgboost trained in 0.029 minutes\n",
      "27-05-2024 17:12:29 INFO Model llar trained in 0.02 minutes\n",
      "27-05-2024 17:12:29 INFO Model dt trained in 0.016 minutes\n",
      "27-05-2024 17:12:31 INFO Model mlp trained in 0.033 minutes\n",
      "27-05-2024 17:12:33 INFO Model en trained in 0.02 minutes\n",
      "27-05-2024 17:12:34 INFO Model br trained in 0.022 minutes\n",
      "27-05-2024 17:12:35 INFO Model lasso trained in 0.019 minutes\n",
      "27-05-2024 17:12:37 INFO Model ard trained in 0.034 minutes\n",
      "27-05-2024 17:12:38 INFO Model omp trained in 0.015 minutes\n",
      "27-05-2024 17:12:39 INFO Model gbr trained in 0.019 minutes\n",
      "27-05-2024 17:12:48 INFO Model catboost trained in 0.155 minutes\n",
      "27-05-2024 17:12:49 INFO Model svm trained in 0.016 minutes\n",
      "27-05-2024 17:12:51 INFO Model rf trained in 0.029 minutes\n",
      "27-05-2024 17:12:53 INFO Model dummy trained in 0.028 minutes\n",
      "27-05-2024 17:12:55 INFO Model et trained in 0.035 minutes\n",
      "27-05-2024 17:12:58 INFO Model knn trained in 0.056 minutes\n",
      "27-05-2024 17:13:01 INFO Model huber trained in 0.044 minutes\n",
      "27-05-2024 17:13:04 INFO Model lar trained in 0.046 minutes\n",
      "27-05-2024 17:13:07 INFO Model ada trained in 0.047 minutes\n",
      "27-05-2024 17:13:08 INFO Model par trained in 0.031 minutes\n",
      "27-05-2024 17:13:08 INFO Training over: Total runtime 1.052 minutes\n",
      "27-05-2024 17:13:08 INFO Analyse the best models and plotting them\n",
      "27-05-2024 17:13:09 INFO Analyse the top 1 model: en\n",
      "27-05-2024 17:13:15 INFO Analyse the top 2 model: llar\n",
      "27-05-2024 17:13:19 INFO Analyse the top 3 model: lasso\n",
      "27-05-2024 17:13:24 INFO --------Stacking the best models--------\n",
      "27-05-2024 17:13:24 INFO ----------Stacking the best models--------------\n",
      "27-05-2024 17:13:28 INFO --------Creating an ensemble model--------\n",
      "27-05-2024 17:13:28 INFO ----------Creating a majority voting model--------------\n",
      "27-05-2024 17:13:28 INFO fold: 5\n",
      "27-05-2024 17:13:28 INFO weights: None\n",
      "27-05-2024 17:13:31 INFO --------Retuning the best models--------\n",
      "27-05-2024 17:13:31 INFO Retuning en\n",
      "27-05-2024 17:13:31 INFO ---------Retuning the best models--------------\n",
      "27-05-2024 17:13:31 INFO num_iter: 50\n",
      "27-05-2024 17:13:31 INFO fold: 5\n",
      "27-05-2024 17:13:45 INFO Retuning llar\n",
      "27-05-2024 17:13:45 INFO ---------Retuning the best models--------------\n",
      "27-05-2024 17:13:45 INFO num_iter: 50\n",
      "27-05-2024 17:13:45 INFO fold: 5\n",
      "27-05-2024 17:13:57 INFO Retuning lasso\n",
      "27-05-2024 17:13:57 INFO ---------Retuning the best models--------------\n",
      "27-05-2024 17:13:57 INFO num_iter: 50\n",
      "27-05-2024 17:13:57 INFO fold: 5\n"
     ]
    }
   ],
   "source": [
    "results, models_dict = training.generate_training_results(X_train, data.label, True,\n",
    "                                                          test_data=X_test, fold_strategy=c)"
   ]
  },
  {
   "cell_type": "code",
   "execution_count": 7,
   "metadata": {},
   "outputs": [],
   "source": [
    "test_set_predictions = training.generate_holdout_prediction(models_dict)"
   ]
  },
  {
   "cell_type": "code",
   "execution_count": 8,
   "metadata": {},
   "outputs": [
    {
     "data": {
      "text/html": [],
      "text/plain": [
       "<IPython.core.display.HTML object>"
      ]
     },
     "metadata": {},
     "output_type": "display_data"
    },
    {
     "data": {
      "text/html": [],
      "text/plain": [
       "<IPython.core.display.HTML object>"
      ]
     },
     "metadata": {},
     "output_type": "display_data"
    },
    {
     "data": {
      "text/html": [],
      "text/plain": [
       "<IPython.core.display.HTML object>"
      ]
     },
     "metadata": {},
     "output_type": "display_data"
    },
    {
     "data": {
      "text/html": [],
      "text/plain": [
       "<IPython.core.display.HTML object>"
      ]
     },
     "metadata": {},
     "output_type": "display_data"
    },
    {
     "data": {
      "text/html": [],
      "text/plain": [
       "<IPython.core.display.HTML object>"
      ]
     },
     "metadata": {},
     "output_type": "display_data"
    },
    {
     "data": {
      "text/html": [],
      "text/plain": [
       "<IPython.core.display.HTML object>"
      ]
     },
     "metadata": {},
     "output_type": "display_data"
    },
    {
     "data": {
      "text/html": [],
      "text/plain": [
       "<IPython.core.display.HTML object>"
      ]
     },
     "metadata": {},
     "output_type": "display_data"
    }
   ],
   "source": [
    "regression.evaluate_all_models(experiment.evaluate_model, models_dict, \"regression_evaluation\")"
   ]
  },
  {
   "cell_type": "code",
   "execution_count": 9,
   "metadata": {},
   "outputs": [],
   "source": [
    "training_output = \"regression_results\"\n",
    "for tune_status, result_dict in results.items():\n",
    "    for key, value in result_dict.items():\n",
    "        regression.write_results(f\"{training_output}/{tune_status}\", *value, sheet_name=key)\n",
    "    regression.write_results(f\"{training_output}/{tune_status}\", test_set_predictions[tune_status] , sheet_name=f\"test_results\")"
   ]
  },
  {
   "cell_type": "markdown",
   "metadata": {},
   "source": [
    "## Save models from pre-trained"
   ]
  },
  {
   "cell_type": "code",
   "execution_count": null,
   "metadata": {},
   "outputs": [],
   "source": [
    "from BioML.models import save_model"
   ]
  },
  {
   "cell_type": "code",
   "execution_count": null,
   "metadata": {},
   "outputs": [],
   "source": [
    "generate = save_model.GenerateModel(training)\n",
    "final_model = generate.finalize_model(models[\"tuned\"][\"majority\"])\n",
    "generate.save_model(final_model, \"model_output/majority\")"
   ]
  },
  {
   "cell_type": "markdown",
   "metadata": {},
   "source": [
    "## Save Models from scratch"
   ]
  },
  {
   "cell_type": "code",
   "execution_count": 11,
   "metadata": {},
   "outputs": [],
   "source": [
    "from BioML.models import save_model"
   ]
  },
  {
   "cell_type": "code",
   "execution_count": 6,
   "metadata": {},
   "outputs": [
    {
     "name": "stderr",
     "output_type": "stream",
     "text": [
      "23-02-2024 12:21:03 INFO ------------------------------------------------------------------------------\n",
      "23-02-2024 12:21:03 INFO PycaretInterface parameters\n",
      "23-02-2024 12:21:03 INFO Seed: 200\n",
      "23-02-2024 12:21:03 INFO Budget time: 20\n",
      "23-02-2024 12:21:03 INFO The number of models to select: 3\n",
      "23-02-2024 12:21:03 INFO Output path: regression_training\n",
      "23-02-2024 12:21:03 INFO ----------------Trainer inputs-------------------------\n",
      "23-02-2024 12:21:03 INFO Number of kfolds: 5\n",
      "23-02-2024 12:21:03 INFO Number of iterations: 30\n"
     ]
    }
   ],
   "source": [
    "data = save_model.DataParser(\"../data/regression.csv\", \"../data/regression_labels.csv\")\n",
    "experiment = save_model.PycaretInterface(\"regression\", 200, budget_time=20, best_model=3, \n",
    "                                  output_path=\"regression_training\", optimize=\"RMSE\", experiment_name=\"generate_model\")\n",
    "regressor = save_model.Regressor(test_size=0.2, optimize=\"RMSE\", selected=[\"br\", \"lr\"])\n",
    "training = save_model.Trainer(experiment, regressor, 5, 30)\n"
   ]
  },
  {
   "cell_type": "code",
   "execution_count": 7,
   "metadata": {},
   "outputs": [
    {
     "data": {
      "text/plain": [
       "['br', 'lr']"
      ]
     },
     "execution_count": 7,
     "metadata": {},
     "output_type": "execute_result"
    }
   ],
   "source": [
    "regressor.selected"
   ]
  },
  {
   "cell_type": "code",
   "execution_count": 10,
   "metadata": {},
   "outputs": [
    {
     "name": "stderr",
     "output_type": "stream",
     "text": [
      "2024/02/23 12:22:41 INFO mlflow.tracking.fluent: Experiment with name 'generate_model' does not exist. Creating a new experiment.\n",
      "23-02-2024 12:22:49 INFO --------------------------------------------------------\n",
      "23-02-2024 12:22:49 INFO Training regression models\n",
      "23-02-2024 12:22:49 INFO The models used ['br', 'lr']\n",
      "23-02-2024 12:22:49 INFO Time budget is 20 minutes\n",
      "23-02-2024 12:23:34 INFO Training over: Total runtime 0.765 minutes\n",
      "23-02-2024 12:23:34 INFO Analyse the best models and plotting them\n",
      "23-02-2024 12:23:34 INFO Analyse the top 1 model: br\n",
      "23-02-2024 12:23:41 INFO Analyse the top 2 model: lr\n"
     ]
    }
   ],
   "source": [
    "sorted_results, sorted_models, top_params = training.run_training(data.features, data.label)"
   ]
  },
  {
   "cell_type": "code",
   "execution_count": 28,
   "metadata": {},
   "outputs": [
    {
     "name": "stderr",
     "output_type": "stream",
     "text": [
      "26-12-2023 13:40:52 INFO --------Creating an ensemble model--------\n",
      "26-12-2023 13:40:52 INFO ----------Creating a majority voting model--------------\n",
      "26-12-2023 13:40:52 INFO fold: 5\n",
      "26-12-2023 13:40:52 INFO weights: None\n",
      "26-12-2023 13:40:53 INFO ----------Finalizing the model by training it with all the data including test set--------------\n"
     ]
    },
    {
     "name": "stdout",
     "output_type": "stream",
     "text": [
      "Transformation Pipeline and Model Successfully Saved\n"
     ]
    }
   ],
   "source": [
    "generate = save_model.GenerateModel(training)\n",
    "models =  generate.train_by_strategy(sorted_models, \"majority\")\n",
    "final_model = generate.finalize_model(models)\n",
    "generate.save_model(final_model, \"model_output/majority\")"
   ]
  },
  {
   "cell_type": "markdown",
   "metadata": {},
   "source": [
    "## Prediction"
   ]
  },
  {
   "cell_type": "code",
   "execution_count": 1,
   "metadata": {},
   "outputs": [],
   "source": [
    "from BioML.models import predict\n",
    "import pandas as pd\n",
    "import numpy as np\n",
    "from scipy.spatial import distance"
   ]
  },
  {
   "cell_type": "code",
   "execution_count": 11,
   "metadata": {},
   "outputs": [],
   "source": [
    "training_features = \"../data/regression.csv\"\n",
    "label = pd.read_csv(\"../data/regression_labels.csv\", index_col=0)\n",
    "test_features = \"../data/regression.csv\"\n",
    "outlier_train=()\n",
    "outlier_test=()\n",
    "sheet_name=None\n",
    "problem=\"regression\"\n",
    "model_path=\"model_output/majority\"\n",
    "scaler=\"zscore\""
   ]
  },
  {
   "cell_type": "code",
   "execution_count": 12,
   "metadata": {},
   "outputs": [],
   "source": [
    "feature = predict.DataParser(training_features, label, outliers=outlier_train, sheets=sheet_name)\n",
    "test_features = feature.remove_outliers(feature.read_features(test_features), outlier_test)\n",
    "predictions = predict.predict(test_features, model_path, problem)"
   ]
  },
  {
   "cell_type": "code",
   "execution_count": 5,
   "metadata": {},
   "outputs": [],
   "source": [
    "transformed, scaler_dict, test_x = predict.scale(scaler, feature.drop(), test_features)"
   ]
  },
  {
   "cell_type": "code",
   "execution_count": 27,
   "metadata": {},
   "outputs": [],
   "source": [
    "filtered_pred = predict.domain_filter(predictions, transformed, test_x, 1)"
   ]
  },
  {
   "cell_type": "code",
   "execution_count": null,
   "metadata": {},
   "outputs": [],
   "source": [
    "col_name = [\"prediction_score\", \"prediction_label\", \"AD_number\"]\n",
    "predictions = predictions.loc[:, predictions.columns.str.contains(\"|\".join(col_name))] "
   ]
  }
 ],
 "metadata": {
  "kernelspec": {
   "display_name": "bioml",
   "language": "python",
   "name": "python3"
  },
  "language_info": {
   "codemirror_mode": {
    "name": "ipython",
    "version": 3
   },
   "file_extension": ".py",
   "mimetype": "text/x-python",
   "name": "python",
   "nbconvert_exporter": "python",
   "pygments_lexer": "ipython3",
   "version": "3.10.13"
  },
  "orig_nbformat": 4
 },
 "nbformat": 4,
 "nbformat_minor": 2
}
