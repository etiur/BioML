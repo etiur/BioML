{
 "cells": [
  {
   "cell_type": "code",
   "execution_count": 1,
   "metadata": {},
   "outputs": [],
   "source": [
    "from pycaret.datasets import get_data\n",
    "from functools import partial\n",
    "import pandas as pd\n",
    "import time\n",
    "from sklearn.feature_selection import VarianceThreshold\n",
    "from sklearn.ensemble import RandomForestRegressor as rfr\n",
    "import shap\n",
    "import xgboost as xgb\n",
    "import numpy as np\n",
    "from sklearn.feature_selection import RFE, SelectKBest, f_regression, mutual_info_regression\n",
    "from sklearn.linear_model import RidgeClassifier, Ridge\n",
    "from sklearn.model_selection import train_test_split\n"
   ]
  },
  {
   "cell_type": "markdown",
   "metadata": {},
   "source": [
    "### Models"
   ]
  },
  {
   "cell_type": "code",
   "execution_count": 2,
   "metadata": {},
   "outputs": [
    {
     "data": {
      "text/html": [
       "<div>\n",
       "<style scoped>\n",
       "    .dataframe tbody tr th:only-of-type {\n",
       "        vertical-align: middle;\n",
       "    }\n",
       "\n",
       "    .dataframe tbody tr th {\n",
       "        vertical-align: top;\n",
       "    }\n",
       "\n",
       "    .dataframe thead th {\n",
       "        text-align: right;\n",
       "    }\n",
       "</style>\n",
       "<table border=\"1\" class=\"dataframe\">\n",
       "  <thead>\n",
       "    <tr style=\"text-align: right;\">\n",
       "      <th></th>\n",
       "      <th>Number of times pregnant</th>\n",
       "      <th>Plasma glucose concentration a 2 hours in an oral glucose tolerance test</th>\n",
       "      <th>Diastolic blood pressure (mm Hg)</th>\n",
       "      <th>Triceps skin fold thickness (mm)</th>\n",
       "      <th>2-Hour serum insulin (mu U/ml)</th>\n",
       "      <th>Body mass index (weight in kg/(height in m)^2)</th>\n",
       "      <th>Diabetes pedigree function</th>\n",
       "      <th>Age (years)</th>\n",
       "      <th>Class variable</th>\n",
       "    </tr>\n",
       "  </thead>\n",
       "  <tbody>\n",
       "    <tr>\n",
       "      <th>0</th>\n",
       "      <td>6</td>\n",
       "      <td>148</td>\n",
       "      <td>72</td>\n",
       "      <td>35</td>\n",
       "      <td>0</td>\n",
       "      <td>33.6</td>\n",
       "      <td>0.627</td>\n",
       "      <td>50</td>\n",
       "      <td>1</td>\n",
       "    </tr>\n",
       "    <tr>\n",
       "      <th>1</th>\n",
       "      <td>1</td>\n",
       "      <td>85</td>\n",
       "      <td>66</td>\n",
       "      <td>29</td>\n",
       "      <td>0</td>\n",
       "      <td>26.6</td>\n",
       "      <td>0.351</td>\n",
       "      <td>31</td>\n",
       "      <td>0</td>\n",
       "    </tr>\n",
       "    <tr>\n",
       "      <th>2</th>\n",
       "      <td>8</td>\n",
       "      <td>183</td>\n",
       "      <td>64</td>\n",
       "      <td>0</td>\n",
       "      <td>0</td>\n",
       "      <td>23.3</td>\n",
       "      <td>0.672</td>\n",
       "      <td>32</td>\n",
       "      <td>1</td>\n",
       "    </tr>\n",
       "    <tr>\n",
       "      <th>3</th>\n",
       "      <td>1</td>\n",
       "      <td>89</td>\n",
       "      <td>66</td>\n",
       "      <td>23</td>\n",
       "      <td>94</td>\n",
       "      <td>28.1</td>\n",
       "      <td>0.167</td>\n",
       "      <td>21</td>\n",
       "      <td>0</td>\n",
       "    </tr>\n",
       "    <tr>\n",
       "      <th>4</th>\n",
       "      <td>0</td>\n",
       "      <td>137</td>\n",
       "      <td>40</td>\n",
       "      <td>35</td>\n",
       "      <td>168</td>\n",
       "      <td>43.1</td>\n",
       "      <td>2.288</td>\n",
       "      <td>33</td>\n",
       "      <td>1</td>\n",
       "    </tr>\n",
       "  </tbody>\n",
       "</table>\n",
       "</div>"
      ],
      "text/plain": [
       "   Number of times pregnant  \\\n",
       "0                         6   \n",
       "1                         1   \n",
       "2                         8   \n",
       "3                         1   \n",
       "4                         0   \n",
       "\n",
       "   Plasma glucose concentration a 2 hours in an oral glucose tolerance test  \\\n",
       "0                                                148                          \n",
       "1                                                 85                          \n",
       "2                                                183                          \n",
       "3                                                 89                          \n",
       "4                                                137                          \n",
       "\n",
       "   Diastolic blood pressure (mm Hg)  Triceps skin fold thickness (mm)  \\\n",
       "0                                72                                35   \n",
       "1                                66                                29   \n",
       "2                                64                                 0   \n",
       "3                                66                                23   \n",
       "4                                40                                35   \n",
       "\n",
       "   2-Hour serum insulin (mu U/ml)  \\\n",
       "0                               0   \n",
       "1                               0   \n",
       "2                               0   \n",
       "3                              94   \n",
       "4                             168   \n",
       "\n",
       "   Body mass index (weight in kg/(height in m)^2)  Diabetes pedigree function  \\\n",
       "0                                            33.6                       0.627   \n",
       "1                                            26.6                       0.351   \n",
       "2                                            23.3                       0.672   \n",
       "3                                            28.1                       0.167   \n",
       "4                                            43.1                       2.288   \n",
       "\n",
       "   Age (years)  Class variable  \n",
       "0           50               1  \n",
       "1           31               0  \n",
       "2           32               1  \n",
       "3           21               0  \n",
       "4           33               1  "
      ]
     },
     "metadata": {},
     "output_type": "display_data"
    },
    {
     "data": {
      "text/html": [
       "<div>\n",
       "<style scoped>\n",
       "    .dataframe tbody tr th:only-of-type {\n",
       "        vertical-align: middle;\n",
       "    }\n",
       "\n",
       "    .dataframe tbody tr th {\n",
       "        vertical-align: top;\n",
       "    }\n",
       "\n",
       "    .dataframe thead th {\n",
       "        text-align: right;\n",
       "    }\n",
       "</style>\n",
       "<table border=\"1\" class=\"dataframe\">\n",
       "  <thead>\n",
       "    <tr style=\"text-align: right;\">\n",
       "      <th></th>\n",
       "      <th>age</th>\n",
       "      <th>sex</th>\n",
       "      <th>bmi</th>\n",
       "      <th>children</th>\n",
       "      <th>smoker</th>\n",
       "      <th>region</th>\n",
       "      <th>charges</th>\n",
       "    </tr>\n",
       "  </thead>\n",
       "  <tbody>\n",
       "    <tr>\n",
       "      <th>0</th>\n",
       "      <td>19</td>\n",
       "      <td>female</td>\n",
       "      <td>27.900</td>\n",
       "      <td>0</td>\n",
       "      <td>yes</td>\n",
       "      <td>southwest</td>\n",
       "      <td>16884.92400</td>\n",
       "    </tr>\n",
       "    <tr>\n",
       "      <th>1</th>\n",
       "      <td>18</td>\n",
       "      <td>male</td>\n",
       "      <td>33.770</td>\n",
       "      <td>1</td>\n",
       "      <td>no</td>\n",
       "      <td>southeast</td>\n",
       "      <td>1725.55230</td>\n",
       "    </tr>\n",
       "    <tr>\n",
       "      <th>2</th>\n",
       "      <td>28</td>\n",
       "      <td>male</td>\n",
       "      <td>33.000</td>\n",
       "      <td>3</td>\n",
       "      <td>no</td>\n",
       "      <td>southeast</td>\n",
       "      <td>4449.46200</td>\n",
       "    </tr>\n",
       "    <tr>\n",
       "      <th>3</th>\n",
       "      <td>33</td>\n",
       "      <td>male</td>\n",
       "      <td>22.705</td>\n",
       "      <td>0</td>\n",
       "      <td>no</td>\n",
       "      <td>northwest</td>\n",
       "      <td>21984.47061</td>\n",
       "    </tr>\n",
       "    <tr>\n",
       "      <th>4</th>\n",
       "      <td>32</td>\n",
       "      <td>male</td>\n",
       "      <td>28.880</td>\n",
       "      <td>0</td>\n",
       "      <td>no</td>\n",
       "      <td>northwest</td>\n",
       "      <td>3866.85520</td>\n",
       "    </tr>\n",
       "  </tbody>\n",
       "</table>\n",
       "</div>"
      ],
      "text/plain": [
       "   age     sex     bmi  children smoker     region      charges\n",
       "0   19  female  27.900         0    yes  southwest  16884.92400\n",
       "1   18    male  33.770         1     no  southeast   1725.55230\n",
       "2   28    male  33.000         3     no  southeast   4449.46200\n",
       "3   33    male  22.705         0     no  northwest  21984.47061\n",
       "4   32    male  28.880         0     no  northwest   3866.85520"
      ]
     },
     "metadata": {},
     "output_type": "display_data"
    }
   ],
   "source": [
    "data = get_data('diabetes')\n",
    "data_reg = get_data('insurance')\n",
    "new_data = data.drop(\"Class variable\", axis=1)\n",
    "charges = data_reg.loc[data.index][\"charges\"]"
   ]
  },
  {
   "cell_type": "code",
   "execution_count": 3,
   "metadata": {},
   "outputs": [],
   "source": [
    "labels = pd.read_csv(\"../data/regression_labels.csv\", index_col=0)\n",
    "regre = pd.read_csv(\"../data/regression.csv\", index_col=0)"
   ]
  },
  {
   "cell_type": "markdown",
   "metadata": {},
   "source": [
    "## Regression"
   ]
  },
  {
   "cell_type": "code",
   "execution_count": 2,
   "metadata": {},
   "outputs": [],
   "source": [
    "import BioML.models.regression as regression\n",
    "from collections import defaultdict\n",
    "from functools import partial\n",
    "import pandas as pd\n",
    "import numpy as np\n",
    "from pycaret.regression import RegressionExperiment\n",
    "from scipy.stats import pearsonr"
   ]
  },
  {
   "cell_type": "code",
   "execution_count": 5,
   "metadata": {},
   "outputs": [],
   "source": [
    "plot = (\"learning\", \"error\", \"residuals\")"
   ]
  },
  {
   "cell_type": "code",
   "execution_count": 6,
   "metadata": {},
   "outputs": [],
   "source": [
    "excel = pd.read_excel(\"../data/esterase_features.xlsx\", index_col=0, sheet_name=\"ch2_20\")\n",
    "label = list(range(len(excel)))"
   ]
  },
  {
   "cell_type": "code",
   "execution_count": 7,
   "metadata": {},
   "outputs": [],
   "source": [
    "def pear_r(true_y, y_pred, **kwargs):\n",
    "    correlate = pearsonr(true_y, y_pred)\n",
    "    return correlate[0]\n",
    "    "
   ]
  },
  {
   "cell_type": "code",
   "execution_count": 8,
   "metadata": {},
   "outputs": [
    {
     "name": "stderr",
     "output_type": "stream",
     "text": [
      "09-06-2024 11:49:06 INFO ------------------------------------------------------------------------------\n",
      "09-06-2024 11:49:06 INFO PycaretInterface parameters\n",
      "09-06-2024 11:49:06 INFO Seed: 200\n",
      "09-06-2024 11:49:06 INFO Budget time: 20\n",
      "09-06-2024 11:49:06 INFO The number of models to select: 3\n",
      "09-06-2024 11:49:06 INFO Output path: regression_results\n",
      "09-06-2024 11:49:06 INFO ----------------Trainer inputs-------------------------\n",
      "09-06-2024 11:49:06 INFO Number of kfolds: 5\n",
      "09-06-2024 11:49:06 INFO Number of retuning iterations: 50\n",
      "09-06-2024 11:49:06 INFO Test size: 0.2\n"
     ]
    }
   ],
   "source": [
    "data = regression.DataParser(data_reg)\n",
    "experiment = regression.PycaretInterface(\"regression\", 200, budget_time=20, best_model=3, \n",
    "                                        output_path=\"regression_results\", optimize=\"NDCG\", \n",
    "                                        log_experiment=False)\n",
    "regressor = regression.Regressor(optimize=\"NDCG\", selected=[\"ridge\", \"xgboost\", \"rf\"])\n",
    "training = regression.Trainer(experiment, regressor, 5)\n"
   ]
  },
  {
   "cell_type": "code",
   "execution_count": 9,
   "metadata": {},
   "outputs": [
    {
     "ename": "ValueError",
     "evalue": "Found input variables with inconsistent numbers of samples: [1338, 0]",
     "output_type": "error",
     "traceback": [
      "\u001b[1;31m---------------------------------------------------------------------------\u001b[0m",
      "\u001b[1;31mValueError\u001b[0m                                Traceback (most recent call last)",
      "Cell \u001b[1;32mIn[9], line 2\u001b[0m\n\u001b[0;32m      1\u001b[0m c \u001b[38;5;241m=\u001b[39m regression\u001b[38;5;241m.\u001b[39msplit\u001b[38;5;241m.\u001b[39mClusterSpliter(\u001b[38;5;124m\"\u001b[39m\u001b[38;5;124m../data/resultsDB_clu.tsv\u001b[39m\u001b[38;5;124m\"\u001b[39m, \u001b[38;5;241m5\u001b[39m, random_state\u001b[38;5;241m=\u001b[39mexperiment\u001b[38;5;241m.\u001b[39mseed)\n\u001b[1;32m----> 2\u001b[0m X_train, X_test \u001b[38;5;241m=\u001b[39m \u001b[43mc\u001b[49m\u001b[38;5;241;43m.\u001b[39;49m\u001b[43mtrain_test_split\u001b[49m\u001b[43m(\u001b[49m\u001b[43mdata\u001b[49m\u001b[38;5;241;43m.\u001b[39;49m\u001b[43mfeatures\u001b[49m\u001b[43m)\u001b[49m\n",
      "File \u001b[1;32mG:\\Mi unidad\\BSC\\programs\\BioML\\BioML\\utilities\\split_methods.py:335\u001b[0m, in \u001b[0;36mClusterSpliter.train_test_split\u001b[1;34m(self, X, y, groups, test_size, split_index)\u001b[0m\n\u001b[0;32m    332\u001b[0m \u001b[38;5;28;01melse\u001b[39;00m:\n\u001b[0;32m    333\u001b[0m     groups \u001b[38;5;241m=\u001b[39m \u001b[38;5;28mself\u001b[39m\u001b[38;5;241m.\u001b[39mget_group_index(groups)\n\u001b[1;32m--> 335\u001b[0m \u001b[38;5;28;01mreturn\u001b[39;00m \u001b[38;5;28;43mself\u001b[39;49m\u001b[38;5;241;43m.\u001b[39;49m\u001b[43mgroup_kfold\u001b[49m\u001b[38;5;241;43m.\u001b[39;49m\u001b[43mtrain_test_split\u001b[49m\u001b[43m(\u001b[49m\u001b[43mX\u001b[49m\u001b[43m,\u001b[49m\u001b[43m \u001b[49m\u001b[43my\u001b[49m\u001b[43m,\u001b[49m\u001b[43m \u001b[49m\u001b[43mtest_size\u001b[49m\u001b[38;5;241;43m=\u001b[39;49m\u001b[43mtest_size\u001b[49m\u001b[43m,\u001b[49m\u001b[43m \u001b[49m\u001b[43mgroups\u001b[49m\u001b[38;5;241;43m=\u001b[39;49m\u001b[43mgroups\u001b[49m\u001b[43m,\u001b[49m\u001b[43m \u001b[49m\u001b[43msplit_index\u001b[49m\u001b[38;5;241;43m=\u001b[39;49m\u001b[43msplit_index\u001b[49m\u001b[43m)\u001b[49m\n",
      "File \u001b[1;32mG:\\Mi unidad\\BSC\\programs\\BioML\\BioML\\utilities\\split_methods.py:182\u001b[0m, in \u001b[0;36mShuffleGroupKFold.train_test_split\u001b[1;34m(self, X, y, test_size, groups, split_index)\u001b[0m\n\u001b[0;32m    180\u001b[0m         train_data, train_group, train_target \u001b[38;5;241m=\u001b[39m shuffle(X, groups, y, random_state\u001b[38;5;241m=\u001b[39m\u001b[38;5;28mself\u001b[39m\u001b[38;5;241m.\u001b[39mrandom_state)\n\u001b[0;32m    181\u001b[0m     \u001b[38;5;28;01melse\u001b[39;00m:\n\u001b[1;32m--> 182\u001b[0m         train_data, train_group \u001b[38;5;241m=\u001b[39m \u001b[43mshuffle\u001b[49m\u001b[43m(\u001b[49m\u001b[43mX\u001b[49m\u001b[43m,\u001b[49m\u001b[43m \u001b[49m\u001b[43mgroups\u001b[49m\u001b[43m,\u001b[49m\u001b[43m \u001b[49m\u001b[43mrandom_state\u001b[49m\u001b[38;5;241;43m=\u001b[39;49m\u001b[38;5;28;43mself\u001b[39;49m\u001b[38;5;241;43m.\u001b[39;49m\u001b[43mrandom_state\u001b[49m\u001b[43m)\u001b[49m\n\u001b[0;32m    183\u001b[0m         train_target \u001b[38;5;241m=\u001b[39m y\n\u001b[0;32m    184\u001b[0m \u001b[38;5;66;03m# generate the train_test_split\u001b[39;00m\n",
      "File \u001b[1;32mc:\\Users\\ruite\\miniforge3\\envs\\bioml\\lib\\site-packages\\sklearn\\utils\\__init__.py:777\u001b[0m, in \u001b[0;36mshuffle\u001b[1;34m(random_state, n_samples, *arrays)\u001b[0m\n\u001b[0;32m    711\u001b[0m \u001b[38;5;28;01mdef\u001b[39;00m \u001b[38;5;21mshuffle\u001b[39m(\u001b[38;5;241m*\u001b[39marrays, random_state\u001b[38;5;241m=\u001b[39m\u001b[38;5;28;01mNone\u001b[39;00m, n_samples\u001b[38;5;241m=\u001b[39m\u001b[38;5;28;01mNone\u001b[39;00m):\n\u001b[0;32m    712\u001b[0m \u001b[38;5;250m    \u001b[39m\u001b[38;5;124;03m\"\"\"Shuffle arrays or sparse matrices in a consistent way.\u001b[39;00m\n\u001b[0;32m    713\u001b[0m \n\u001b[0;32m    714\u001b[0m \u001b[38;5;124;03m    This is a convenience alias to ``resample(*arrays, replace=False)`` to do\u001b[39;00m\n\u001b[1;32m   (...)\u001b[0m\n\u001b[0;32m    775\u001b[0m \u001b[38;5;124;03m      array([0, 1])\u001b[39;00m\n\u001b[0;32m    776\u001b[0m \u001b[38;5;124;03m    \"\"\"\u001b[39;00m\n\u001b[1;32m--> 777\u001b[0m     \u001b[38;5;28;01mreturn\u001b[39;00m \u001b[43mresample\u001b[49m\u001b[43m(\u001b[49m\n\u001b[0;32m    778\u001b[0m \u001b[43m        \u001b[49m\u001b[38;5;241;43m*\u001b[39;49m\u001b[43marrays\u001b[49m\u001b[43m,\u001b[49m\u001b[43m \u001b[49m\u001b[43mreplace\u001b[49m\u001b[38;5;241;43m=\u001b[39;49m\u001b[38;5;28;43;01mFalse\u001b[39;49;00m\u001b[43m,\u001b[49m\u001b[43m \u001b[49m\u001b[43mn_samples\u001b[49m\u001b[38;5;241;43m=\u001b[39;49m\u001b[43mn_samples\u001b[49m\u001b[43m,\u001b[49m\u001b[43m \u001b[49m\u001b[43mrandom_state\u001b[49m\u001b[38;5;241;43m=\u001b[39;49m\u001b[43mrandom_state\u001b[49m\n\u001b[0;32m    779\u001b[0m \u001b[43m    \u001b[49m\u001b[43m)\u001b[49m\n",
      "File \u001b[1;32mc:\\Users\\ruite\\miniforge3\\envs\\bioml\\lib\\site-packages\\sklearn\\utils\\_param_validation.py:213\u001b[0m, in \u001b[0;36mvalidate_params.<locals>.decorator.<locals>.wrapper\u001b[1;34m(*args, **kwargs)\u001b[0m\n\u001b[0;32m    207\u001b[0m \u001b[38;5;28;01mtry\u001b[39;00m:\n\u001b[0;32m    208\u001b[0m     \u001b[38;5;28;01mwith\u001b[39;00m config_context(\n\u001b[0;32m    209\u001b[0m         skip_parameter_validation\u001b[38;5;241m=\u001b[39m(\n\u001b[0;32m    210\u001b[0m             prefer_skip_nested_validation \u001b[38;5;129;01mor\u001b[39;00m global_skip_validation\n\u001b[0;32m    211\u001b[0m         )\n\u001b[0;32m    212\u001b[0m     ):\n\u001b[1;32m--> 213\u001b[0m         \u001b[38;5;28;01mreturn\u001b[39;00m func(\u001b[38;5;241m*\u001b[39margs, \u001b[38;5;241m*\u001b[39m\u001b[38;5;241m*\u001b[39mkwargs)\n\u001b[0;32m    214\u001b[0m \u001b[38;5;28;01mexcept\u001b[39;00m InvalidParameterError \u001b[38;5;28;01mas\u001b[39;00m e:\n\u001b[0;32m    215\u001b[0m     \u001b[38;5;66;03m# When the function is just a wrapper around an estimator, we allow\u001b[39;00m\n\u001b[0;32m    216\u001b[0m     \u001b[38;5;66;03m# the function to delegate validation to the estimator, but we replace\u001b[39;00m\n\u001b[0;32m    217\u001b[0m     \u001b[38;5;66;03m# the name of the estimator by the name of the function in the error\u001b[39;00m\n\u001b[0;32m    218\u001b[0m     \u001b[38;5;66;03m# message to avoid confusion.\u001b[39;00m\n\u001b[0;32m    219\u001b[0m     msg \u001b[38;5;241m=\u001b[39m re\u001b[38;5;241m.\u001b[39msub(\n\u001b[0;32m    220\u001b[0m         \u001b[38;5;124mr\u001b[39m\u001b[38;5;124m\"\u001b[39m\u001b[38;5;124mparameter of \u001b[39m\u001b[38;5;124m\\\u001b[39m\u001b[38;5;124mw+ must be\u001b[39m\u001b[38;5;124m\"\u001b[39m,\n\u001b[0;32m    221\u001b[0m         \u001b[38;5;124mf\u001b[39m\u001b[38;5;124m\"\u001b[39m\u001b[38;5;124mparameter of \u001b[39m\u001b[38;5;132;01m{\u001b[39;00mfunc\u001b[38;5;241m.\u001b[39m\u001b[38;5;18m__qualname__\u001b[39m\u001b[38;5;132;01m}\u001b[39;00m\u001b[38;5;124m must be\u001b[39m\u001b[38;5;124m\"\u001b[39m,\n\u001b[0;32m    222\u001b[0m         \u001b[38;5;28mstr\u001b[39m(e),\n\u001b[0;32m    223\u001b[0m     )\n",
      "File \u001b[1;32mc:\\Users\\ruite\\miniforge3\\envs\\bioml\\lib\\site-packages\\sklearn\\utils\\__init__.py:663\u001b[0m, in \u001b[0;36mresample\u001b[1;34m(replace, n_samples, random_state, stratify, *arrays)\u001b[0m\n\u001b[0;32m    657\u001b[0m \u001b[38;5;28;01melif\u001b[39;00m (max_n_samples \u001b[38;5;241m>\u001b[39m n_samples) \u001b[38;5;129;01mand\u001b[39;00m (\u001b[38;5;129;01mnot\u001b[39;00m replace):\n\u001b[0;32m    658\u001b[0m     \u001b[38;5;28;01mraise\u001b[39;00m \u001b[38;5;167;01mValueError\u001b[39;00m(\n\u001b[0;32m    659\u001b[0m         \u001b[38;5;124m\"\u001b[39m\u001b[38;5;124mCannot sample \u001b[39m\u001b[38;5;132;01m%d\u001b[39;00m\u001b[38;5;124m out of arrays with dim \u001b[39m\u001b[38;5;132;01m%d\u001b[39;00m\u001b[38;5;124m when replace is False\u001b[39m\u001b[38;5;124m\"\u001b[39m\n\u001b[0;32m    660\u001b[0m         \u001b[38;5;241m%\u001b[39m (max_n_samples, n_samples)\n\u001b[0;32m    661\u001b[0m     )\n\u001b[1;32m--> 663\u001b[0m \u001b[43mcheck_consistent_length\u001b[49m\u001b[43m(\u001b[49m\u001b[38;5;241;43m*\u001b[39;49m\u001b[43marrays\u001b[49m\u001b[43m)\u001b[49m\n\u001b[0;32m    665\u001b[0m \u001b[38;5;28;01mif\u001b[39;00m stratify \u001b[38;5;129;01mis\u001b[39;00m \u001b[38;5;28;01mNone\u001b[39;00m:\n\u001b[0;32m    666\u001b[0m     \u001b[38;5;28;01mif\u001b[39;00m replace:\n",
      "File \u001b[1;32mc:\\Users\\ruite\\miniforge3\\envs\\bioml\\lib\\site-packages\\sklearn\\utils\\validation.py:457\u001b[0m, in \u001b[0;36mcheck_consistent_length\u001b[1;34m(*arrays)\u001b[0m\n\u001b[0;32m    455\u001b[0m uniques \u001b[38;5;241m=\u001b[39m np\u001b[38;5;241m.\u001b[39munique(lengths)\n\u001b[0;32m    456\u001b[0m \u001b[38;5;28;01mif\u001b[39;00m \u001b[38;5;28mlen\u001b[39m(uniques) \u001b[38;5;241m>\u001b[39m \u001b[38;5;241m1\u001b[39m:\n\u001b[1;32m--> 457\u001b[0m     \u001b[38;5;28;01mraise\u001b[39;00m \u001b[38;5;167;01mValueError\u001b[39;00m(\n\u001b[0;32m    458\u001b[0m         \u001b[38;5;124m\"\u001b[39m\u001b[38;5;124mFound input variables with inconsistent numbers of samples: \u001b[39m\u001b[38;5;132;01m%r\u001b[39;00m\u001b[38;5;124m\"\u001b[39m\n\u001b[0;32m    459\u001b[0m         \u001b[38;5;241m%\u001b[39m [\u001b[38;5;28mint\u001b[39m(l) \u001b[38;5;28;01mfor\u001b[39;00m l \u001b[38;5;129;01min\u001b[39;00m lengths]\n\u001b[0;32m    460\u001b[0m     )\n",
      "\u001b[1;31mValueError\u001b[0m: Found input variables with inconsistent numbers of samples: [1338, 0]"
     ]
    }
   ],
   "source": [
    "c = regression.split.ClusterSpliter(\"../data/resultsDB_clu.tsv\", 5, random_state=experiment.seed)\n",
    "X_train, X_test = c.train_test_split(data.features)"
   ]
  },
  {
   "cell_type": "code",
   "execution_count": 9,
   "metadata": {},
   "outputs": [
    {
     "name": "stderr",
     "output_type": "stream",
     "text": [
      "09-06-2024 11:49:11 INFO --------------------------------------------------------\n",
      "09-06-2024 11:49:11 INFO Training regression models\n",
      "09-06-2024 11:49:11 INFO The models used ['ridge', 'xgboost', 'rf']\n",
      "09-06-2024 11:49:11 INFO The number of models used 3\n",
      "09-06-2024 11:49:11 INFO Time budget is 20 minutes\n",
      "09-06-2024 11:49:14 INFO Model ridge trained in 0.051 minutes\n",
      "09-06-2024 11:49:17 INFO Model xgboost trained in 0.043 minutes\n",
      "09-06-2024 11:49:19 INFO Model rf trained in 0.042 minutes\n",
      "09-06-2024 11:49:19 INFO Training over: Total runtime 0.136 minutes\n",
      "09-06-2024 11:49:19 INFO Analyse the best models and plotting them\n",
      "09-06-2024 11:49:19 INFO Analyse the top 1 model: ridge\n",
      "09-06-2024 11:49:21 INFO Analyse the top 2 model: rf\n",
      "09-06-2024 11:49:25 INFO Analyse the top 3 model: xgboost\n",
      "09-06-2024 11:49:28 INFO --------Stacking the best models--------\n",
      "09-06-2024 11:49:28 INFO ----------Stacking the best models--------------\n",
      "09-06-2024 11:49:31 INFO --------Creating an ensemble model--------\n",
      "09-06-2024 11:49:31 INFO ----------Creating a majority voting model--------------\n",
      "09-06-2024 11:49:31 INFO fold: 5\n",
      "09-06-2024 11:49:31 INFO weights: None\n"
     ]
    }
   ],
   "source": [
    "results, models_dict = training.generate_training_results(data_reg, \"charges\", tune=False)"
   ]
  },
  {
   "cell_type": "code",
   "execution_count": 49,
   "metadata": {},
   "outputs": [
    {
     "data": {
      "text/plain": [
       "225     11987.167969\n",
       "420     46889.261719\n",
       "853     11729.679688\n",
       "289     25992.820312\n",
       "147      9877.607422\n",
       "            ...     \n",
       "1103    11363.283203\n",
       "844     10072.054688\n",
       "810      9414.919922\n",
       "784      4350.514160\n",
       "617     23306.546875\n",
       "Name: charges, Length: 1070, dtype: float32"
      ]
     },
     "execution_count": 49,
     "metadata": {},
     "output_type": "execute_result"
    }
   ],
   "source": [
    "x_train = experiment.pycaret.get_config(\"X_train\")\n",
    "y_train = experiment.pycaret.get_config(\"y_train\")"
   ]
  },
  {
   "cell_type": "code",
   "execution_count": 56,
   "metadata": {},
   "outputs": [],
   "source": [
    "X_train = experiment.pycaret.get_config(\"X_train_transformed\")"
   ]
  },
  {
   "cell_type": "code",
   "execution_count": 58,
   "metadata": {},
   "outputs": [],
   "source": [
    "correlate = pearsonr(y_train, pred)"
   ]
  },
  {
   "cell_type": "code",
   "execution_count": 71,
   "metadata": {},
   "outputs": [
    {
     "data": {
      "text/plain": [
       "PearsonRResult(statistic=0.8638410477076413, pvalue=2.6917e-320)"
      ]
     },
     "execution_count": 71,
     "metadata": {},
     "output_type": "execute_result"
    }
   ],
   "source": [
    "correlate"
   ]
  },
  {
   "cell_type": "code",
   "execution_count": 10,
   "metadata": {},
   "outputs": [
    {
     "data": {
      "text/html": [
       "<div>\n",
       "<style scoped>\n",
       "    .dataframe tbody tr th:only-of-type {\n",
       "        vertical-align: middle;\n",
       "    }\n",
       "\n",
       "    .dataframe tbody tr th {\n",
       "        vertical-align: top;\n",
       "    }\n",
       "\n",
       "    .dataframe thead th {\n",
       "        text-align: right;\n",
       "    }\n",
       "</style>\n",
       "<table border=\"1\" class=\"dataframe\">\n",
       "  <thead>\n",
       "    <tr style=\"text-align: right;\">\n",
       "      <th></th>\n",
       "      <th></th>\n",
       "      <th></th>\n",
       "      <th>MAE</th>\n",
       "      <th>MSE</th>\n",
       "      <th>RMSE</th>\n",
       "      <th>R2</th>\n",
       "      <th>RMSLE</th>\n",
       "      <th>MAPE</th>\n",
       "      <th>NDCG</th>\n",
       "      <th>Pearson</th>\n",
       "    </tr>\n",
       "    <tr>\n",
       "      <th></th>\n",
       "      <th>Split</th>\n",
       "      <th>Fold</th>\n",
       "      <th></th>\n",
       "      <th></th>\n",
       "      <th></th>\n",
       "      <th></th>\n",
       "      <th></th>\n",
       "      <th></th>\n",
       "      <th></th>\n",
       "      <th></th>\n",
       "    </tr>\n",
       "  </thead>\n",
       "  <tbody>\n",
       "    <tr>\n",
       "      <th rowspan=\"4\" valign=\"top\">ridge</th>\n",
       "      <th rowspan=\"2\" valign=\"top\">CV-Train</th>\n",
       "      <th>Mean</th>\n",
       "      <td>4126.8902</td>\n",
       "      <td>3.638525e+07</td>\n",
       "      <td>6031.0584</td>\n",
       "      <td>0.7468</td>\n",
       "      <td>0.5797</td>\n",
       "      <td>0.4081</td>\n",
       "      <td>0.8458</td>\n",
       "      <td>0.8642</td>\n",
       "    </tr>\n",
       "    <tr>\n",
       "      <th>Std</th>\n",
       "      <td>113.0031</td>\n",
       "      <td>1.295802e+06</td>\n",
       "      <td>107.6196</td>\n",
       "      <td>0.0054</td>\n",
       "      <td>0.0228</td>\n",
       "      <td>0.0171</td>\n",
       "      <td>0.0522</td>\n",
       "      <td>0.0031</td>\n",
       "    </tr>\n",
       "    <tr>\n",
       "      <th rowspan=\"2\" valign=\"top\">CV-Val</th>\n",
       "      <th>Mean</th>\n",
       "      <td>4179.4594</td>\n",
       "      <td>3.728019e+07</td>\n",
       "      <td>6091.8197</td>\n",
       "      <td>0.7393</td>\n",
       "      <td>0.5920</td>\n",
       "      <td>0.4136</td>\n",
       "      <td>0.8972</td>\n",
       "      <td>0.8621</td>\n",
       "    </tr>\n",
       "    <tr>\n",
       "      <th>Std</th>\n",
       "      <td>365.6410</td>\n",
       "      <td>5.046651e+06</td>\n",
       "      <td>412.2174</td>\n",
       "      <td>0.0216</td>\n",
       "      <td>0.1040</td>\n",
       "      <td>0.0516</td>\n",
       "      <td>0.0568</td>\n",
       "      <td>0.0122</td>\n",
       "    </tr>\n",
       "    <tr>\n",
       "      <th rowspan=\"4\" valign=\"top\">rf</th>\n",
       "      <th rowspan=\"2\" valign=\"top\">CV-Train</th>\n",
       "      <th>Mean</th>\n",
       "      <td>1022.6477</td>\n",
       "      <td>3.422717e+06</td>\n",
       "      <td>1849.3452</td>\n",
       "      <td>0.9762</td>\n",
       "      <td>0.1797</td>\n",
       "      <td>0.1204</td>\n",
       "      <td>0.9934</td>\n",
       "      <td>0.9885</td>\n",
       "    </tr>\n",
       "    <tr>\n",
       "      <th>Std</th>\n",
       "      <td>48.6998</td>\n",
       "      <td>1.868239e+05</td>\n",
       "      <td>51.3737</td>\n",
       "      <td>0.0014</td>\n",
       "      <td>0.0071</td>\n",
       "      <td>0.0083</td>\n",
       "      <td>0.0031</td>\n",
       "      <td>0.0007</td>\n",
       "    </tr>\n",
       "    <tr>\n",
       "      <th rowspan=\"2\" valign=\"top\">CV-Val</th>\n",
       "      <th>Mean</th>\n",
       "      <td>2757.5890</td>\n",
       "      <td>2.430746e+07</td>\n",
       "      <td>4909.7675</td>\n",
       "      <td>0.8303</td>\n",
       "      <td>0.4620</td>\n",
       "      <td>0.3275</td>\n",
       "      <td>0.8941</td>\n",
       "      <td>0.9124</td>\n",
       "    </tr>\n",
       "    <tr>\n",
       "      <th>Std</th>\n",
       "      <td>356.0923</td>\n",
       "      <td>4.369858e+06</td>\n",
       "      <td>449.0432</td>\n",
       "      <td>0.0220</td>\n",
       "      <td>0.0475</td>\n",
       "      <td>0.0467</td>\n",
       "      <td>0.0666</td>\n",
       "      <td>0.0119</td>\n",
       "    </tr>\n",
       "    <tr>\n",
       "      <th rowspan=\"4\" valign=\"top\">xgboost</th>\n",
       "      <th rowspan=\"2\" valign=\"top\">CV-Train</th>\n",
       "      <th>Mean</th>\n",
       "      <td>337.0519</td>\n",
       "      <td>4.218450e+05</td>\n",
       "      <td>642.9434</td>\n",
       "      <td>0.9971</td>\n",
       "      <td>0.0912</td>\n",
       "      <td>0.0504</td>\n",
       "      <td>0.9991</td>\n",
       "      <td>0.9986</td>\n",
       "    </tr>\n",
       "    <tr>\n",
       "      <th>Std</th>\n",
       "      <td>34.7308</td>\n",
       "      <td>1.186714e+05</td>\n",
       "      <td>92.0265</td>\n",
       "      <td>0.0009</td>\n",
       "      <td>0.0145</td>\n",
       "      <td>0.0056</td>\n",
       "      <td>0.0014</td>\n",
       "      <td>0.0004</td>\n",
       "    </tr>\n",
       "    <tr>\n",
       "      <th rowspan=\"2\" valign=\"top\">CV-Val</th>\n",
       "      <th>Mean</th>\n",
       "      <td>3233.9792</td>\n",
       "      <td>3.151363e+07</td>\n",
       "      <td>5590.9190</td>\n",
       "      <td>0.7788</td>\n",
       "      <td>0.5717</td>\n",
       "      <td>0.4155</td>\n",
       "      <td>0.8665</td>\n",
       "      <td>0.8869</td>\n",
       "    </tr>\n",
       "    <tr>\n",
       "      <th>Std</th>\n",
       "      <td>324.8764</td>\n",
       "      <td>5.633689e+06</td>\n",
       "      <td>505.2262</td>\n",
       "      <td>0.0359</td>\n",
       "      <td>0.0775</td>\n",
       "      <td>0.0662</td>\n",
       "      <td>0.1158</td>\n",
       "      <td>0.0186</td>\n",
       "    </tr>\n",
       "  </tbody>\n",
       "</table>\n",
       "</div>"
      ],
      "text/plain": [
       "                             MAE           MSE       RMSE      R2   RMSLE  \\\n",
       "        Split    Fold                                                       \n",
       "ridge   CV-Train Mean  4126.8902  3.638525e+07  6031.0584  0.7468  0.5797   \n",
       "                 Std    113.0031  1.295802e+06   107.6196  0.0054  0.0228   \n",
       "        CV-Val   Mean  4179.4594  3.728019e+07  6091.8197  0.7393  0.5920   \n",
       "                 Std    365.6410  5.046651e+06   412.2174  0.0216  0.1040   \n",
       "rf      CV-Train Mean  1022.6477  3.422717e+06  1849.3452  0.9762  0.1797   \n",
       "                 Std     48.6998  1.868239e+05    51.3737  0.0014  0.0071   \n",
       "        CV-Val   Mean  2757.5890  2.430746e+07  4909.7675  0.8303  0.4620   \n",
       "                 Std    356.0923  4.369858e+06   449.0432  0.0220  0.0475   \n",
       "xgboost CV-Train Mean   337.0519  4.218450e+05   642.9434  0.9971  0.0912   \n",
       "                 Std     34.7308  1.186714e+05    92.0265  0.0009  0.0145   \n",
       "        CV-Val   Mean  3233.9792  3.151363e+07  5590.9190  0.7788  0.5717   \n",
       "                 Std    324.8764  5.633689e+06   505.2262  0.0359  0.0775   \n",
       "\n",
       "                         MAPE    NDCG  Pearson  \n",
       "        Split    Fold                           \n",
       "ridge   CV-Train Mean  0.4081  0.8458   0.8642  \n",
       "                 Std   0.0171  0.0522   0.0031  \n",
       "        CV-Val   Mean  0.4136  0.8972   0.8621  \n",
       "                 Std   0.0516  0.0568   0.0122  \n",
       "rf      CV-Train Mean  0.1204  0.9934   0.9885  \n",
       "                 Std   0.0083  0.0031   0.0007  \n",
       "        CV-Val   Mean  0.3275  0.8941   0.9124  \n",
       "                 Std   0.0467  0.0666   0.0119  \n",
       "xgboost CV-Train Mean  0.0504  0.9991   0.9986  \n",
       "                 Std   0.0056  0.0014   0.0004  \n",
       "        CV-Val   Mean  0.4155  0.8665   0.8869  \n",
       "                 Std   0.0662  0.1158   0.0186  "
      ]
     },
     "execution_count": 10,
     "metadata": {},
     "output_type": "execute_result"
    }
   ],
   "source": [
    "results[\"not_tuned\"][\"train\"][0]"
   ]
  },
  {
   "cell_type": "code",
   "execution_count": 7,
   "metadata": {},
   "outputs": [],
   "source": [
    "test_set_predictions = training.generate_holdout_prediction(models_dict)"
   ]
  },
  {
   "cell_type": "code",
   "execution_count": 9,
   "metadata": {},
   "outputs": [],
   "source": [
    "training_output = \"regression_results\"\n",
    "for tune_status, result_dict in results.items():\n",
    "    for key, value in result_dict.items():\n",
    "        regression.write_results(f\"{training_output}/{tune_status}\", *value, sheet_name=key)\n",
    "    regression.write_results(f\"{training_output}/{tune_status}\", test_set_predictions[tune_status] , sheet_name=f\"test_results\")"
   ]
  },
  {
   "cell_type": "markdown",
   "metadata": {},
   "source": [
    "## Save models from pre-trained"
   ]
  },
  {
   "cell_type": "code",
   "execution_count": null,
   "metadata": {},
   "outputs": [],
   "source": [
    "from BioML.models import save_model"
   ]
  },
  {
   "cell_type": "code",
   "execution_count": null,
   "metadata": {},
   "outputs": [],
   "source": [
    "generate = save_model.GenerateModel(training)\n",
    "final_model = generate.finalize_model(models[\"tuned\"][\"majority\"])\n",
    "generate.save_model(final_model, \"model_output/majority\")"
   ]
  },
  {
   "cell_type": "markdown",
   "metadata": {},
   "source": [
    "## Save Models from scratch"
   ]
  },
  {
   "cell_type": "code",
   "execution_count": 11,
   "metadata": {},
   "outputs": [],
   "source": [
    "from BioML.models import save_model"
   ]
  },
  {
   "cell_type": "code",
   "execution_count": 6,
   "metadata": {},
   "outputs": [
    {
     "name": "stderr",
     "output_type": "stream",
     "text": [
      "23-02-2024 12:21:03 INFO ------------------------------------------------------------------------------\n",
      "23-02-2024 12:21:03 INFO PycaretInterface parameters\n",
      "23-02-2024 12:21:03 INFO Seed: 200\n",
      "23-02-2024 12:21:03 INFO Budget time: 20\n",
      "23-02-2024 12:21:03 INFO The number of models to select: 3\n",
      "23-02-2024 12:21:03 INFO Output path: regression_training\n",
      "23-02-2024 12:21:03 INFO ----------------Trainer inputs-------------------------\n",
      "23-02-2024 12:21:03 INFO Number of kfolds: 5\n",
      "23-02-2024 12:21:03 INFO Number of iterations: 30\n"
     ]
    }
   ],
   "source": [
    "data = save_model.DataParser(\"../data/regression.csv\", \"../data/regression_labels.csv\")\n",
    "experiment = save_model.PycaretInterface(\"regression\", 200, budget_time=20, best_model=3, \n",
    "                                  output_path=\"regression_training\", optimize=\"RMSE\", experiment_name=\"generate_model\")\n",
    "regressor = save_model.Regressor(test_size=0.2, optimize=\"RMSE\", selected=[\"br\", \"lr\"])\n",
    "training = save_model.Trainer(experiment, regressor, 5, 30)\n"
   ]
  },
  {
   "cell_type": "code",
   "execution_count": 7,
   "metadata": {},
   "outputs": [
    {
     "data": {
      "text/plain": [
       "['br', 'lr']"
      ]
     },
     "execution_count": 7,
     "metadata": {},
     "output_type": "execute_result"
    }
   ],
   "source": [
    "regressor.selected"
   ]
  },
  {
   "cell_type": "code",
   "execution_count": 10,
   "metadata": {},
   "outputs": [
    {
     "name": "stderr",
     "output_type": "stream",
     "text": [
      "2024/02/23 12:22:41 INFO mlflow.tracking.fluent: Experiment with name 'generate_model' does not exist. Creating a new experiment.\n",
      "23-02-2024 12:22:49 INFO --------------------------------------------------------\n",
      "23-02-2024 12:22:49 INFO Training regression models\n",
      "23-02-2024 12:22:49 INFO The models used ['br', 'lr']\n",
      "23-02-2024 12:22:49 INFO Time budget is 20 minutes\n",
      "23-02-2024 12:23:34 INFO Training over: Total runtime 0.765 minutes\n",
      "23-02-2024 12:23:34 INFO Analyse the best models and plotting them\n",
      "23-02-2024 12:23:34 INFO Analyse the top 1 model: br\n",
      "23-02-2024 12:23:41 INFO Analyse the top 2 model: lr\n"
     ]
    }
   ],
   "source": [
    "sorted_results, sorted_models, top_params = training.run_training(data.features, data.label)"
   ]
  },
  {
   "cell_type": "code",
   "execution_count": 28,
   "metadata": {},
   "outputs": [
    {
     "name": "stderr",
     "output_type": "stream",
     "text": [
      "26-12-2023 13:40:52 INFO --------Creating an ensemble model--------\n",
      "26-12-2023 13:40:52 INFO ----------Creating a majority voting model--------------\n",
      "26-12-2023 13:40:52 INFO fold: 5\n",
      "26-12-2023 13:40:52 INFO weights: None\n",
      "26-12-2023 13:40:53 INFO ----------Finalizing the model by training it with all the data including test set--------------\n"
     ]
    },
    {
     "name": "stdout",
     "output_type": "stream",
     "text": [
      "Transformation Pipeline and Model Successfully Saved\n"
     ]
    }
   ],
   "source": [
    "generate = save_model.GenerateModel(training)\n",
    "models =  generate.train_by_strategy(sorted_models, \"majority\")\n",
    "final_model = generate.finalize_model(models)\n",
    "generate.save_model(final_model, \"model_output/majority\")"
   ]
  },
  {
   "cell_type": "markdown",
   "metadata": {},
   "source": [
    "## Prediction"
   ]
  },
  {
   "cell_type": "code",
   "execution_count": 1,
   "metadata": {},
   "outputs": [],
   "source": [
    "from BioML.models import predict\n",
    "import pandas as pd\n",
    "import numpy as np\n",
    "from scipy.spatial import distance"
   ]
  },
  {
   "cell_type": "code",
   "execution_count": 11,
   "metadata": {},
   "outputs": [],
   "source": [
    "training_features = \"../data/regression.csv\"\n",
    "label = pd.read_csv(\"../data/regression_labels.csv\", index_col=0)\n",
    "test_features = \"../data/regression.csv\"\n",
    "outlier_train=()\n",
    "outlier_test=()\n",
    "sheet_name=None\n",
    "problem=\"regression\"\n",
    "model_path=\"model_output/majority\"\n",
    "scaler=\"zscore\""
   ]
  },
  {
   "cell_type": "code",
   "execution_count": 12,
   "metadata": {},
   "outputs": [],
   "source": [
    "feature = predict.DataParser(training_features, label, outliers=outlier_train, sheets=sheet_name)\n",
    "test_features = feature.remove_outliers(feature.read_features(test_features), outlier_test)\n",
    "predictions = predict.predict(test_features, model_path, problem)"
   ]
  },
  {
   "cell_type": "code",
   "execution_count": 5,
   "metadata": {},
   "outputs": [],
   "source": [
    "transformed, scaler_dict, test_x = predict.scale(scaler, feature.drop(), test_features)"
   ]
  },
  {
   "cell_type": "code",
   "execution_count": 27,
   "metadata": {},
   "outputs": [],
   "source": [
    "filtered_pred = predict.domain_filter(predictions, transformed, test_x, 1)"
   ]
  },
  {
   "cell_type": "code",
   "execution_count": null,
   "metadata": {},
   "outputs": [],
   "source": [
    "col_name = [\"prediction_score\", \"prediction_label\", \"AD_number\"]\n",
    "predictions = predictions.loc[:, predictions.columns.str.contains(\"|\".join(col_name))] "
   ]
  },
  {
   "cell_type": "markdown",
   "metadata": {},
   "source": [
    "## Test"
   ]
  },
  {
   "cell_type": "code",
   "execution_count": 14,
   "metadata": {},
   "outputs": [],
   "source": [
    "import operator as op\n",
    "import pandas as pd\n",
    "import numpy as np"
   ]
  },
  {
   "cell_type": "code",
   "execution_count": null,
   "metadata": {},
   "outputs": [],
   "source": [
    "def calculate_score_dataframe(dataframe: pd.DataFrame, \n",
    "                              optimize=\"Pearson\", \n",
    "                              greater_is_better=True) -> float | int: # type: ignore\n",
    "    \"\"\"\n",
    "    Calculates the score of a DataFrame based on the optimization metric and R2 score.\n",
    "\n",
    "    Parameters\n",
    "    ----------\n",
    "    dataframe : pd.DataFrame\n",
    "        The DataFrame containing the performance metrics of a regression model.\n",
    "\n",
    "    Returns\n",
    "    -------\n",
    "    int or float\n",
    "        The calculated score of the DataFrame.\n",
    "\n",
    "\n",
    "    Examples\n",
    "    --------\n",
    "    >>> dataframe = pd.read_csv(\"performance_metrics.csv\")\n",
    "    >>> score = _calculate_score_dataframe(dataframe)\n",
    "    ... # Calculates the score of the DataFrame based on the optimization metric and R2 score.\n",
    "    \"\"\"\n",
    "    cv_train = dataframe.loc[(\"CV-Train\", \"Mean\")]\n",
    "    cv_val = dataframe.loc[(\"CV-Val\", \"Mean\")]\n",
    "\n",
    "    operation = op.add\n",
    "    penalize = 1e6 if cv_train[optimize] == 1 else 0\n",
    "    if greater_is_better:\n",
    "        operation = op.sub\n",
    "        penalize = -1e6 if cv_train[optimize] == 1 else 0\n",
    "\n",
    "    metric = cv_train[optimize] * 0.7 + cv_val[optimize] # type: ignore\n",
    "    diff =  1.2 * abs(cv_val[optimize] - cv_train[optimize]) # type: ignore\n",
    "    rmse = operation(metric, diff) + penalize\n",
    "    if greater_is_better:\n",
    "        return rmse\n",
    "    return - rmse # negative because the sorting is from greater to smaller, in this case the smaller the error value the better"
   ]
  },
  {
   "cell_type": "code",
   "execution_count": 32,
   "metadata": {},
   "outputs": [],
   "source": [
    "sheet = pd.ExcelFile(\"/home/ruite/Projects/horus_bioml/ph_features/regression_results/training_results.xlsx\").sheet_names\n",
    "data = pd.read_excel(\"/home/ruite/Projects/horus_bioml/ph_features/regression_results/training_results.xlsx\", sheet_name=sheet, index_col=[0,1,2])\n",
    "performance_list = []\n",
    "for sheet, sorted_results in data.items():\n",
    "    index = sorted_results.index.unique(0)\n",
    "    score = np.nanmean([calculate_score_dataframe(sorted_results.loc[i], \"RMSE\", False) for i in index])\n",
    "\n",
    "    performance_list.append((sheet, sorted_results.loc[index], score/len(index)))\n",
    "    performance_list.sort(key=lambda x: x[2], reverse=True) # the greater the better"
   ]
  },
  {
   "cell_type": "code",
   "execution_count": 33,
   "metadata": {},
   "outputs": [],
   "source": [
    "from BioML.utilities.utils import write_results\n",
    "for sheet, performance, score in performance_list:\n",
    "    write_results(\"/home/ruite/Projects/horus_bioml/ph_features/regression_3\", performance, sheet_name=sheet)"
   ]
  }
 ],
 "metadata": {
  "kernelspec": {
   "display_name": "bioml",
   "language": "python",
   "name": "python3"
  },
  "language_info": {
   "codemirror_mode": {
    "name": "ipython",
    "version": 3
   },
   "file_extension": ".py",
   "mimetype": "text/x-python",
   "name": "python",
   "nbconvert_exporter": "python",
   "pygments_lexer": "ipython3",
   "version": "3.11.11"
  },
  "orig_nbformat": 4
 },
 "nbformat": 4,
 "nbformat_minor": 2
}
