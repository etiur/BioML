{
 "cells": [
  {
   "cell_type": "code",
   "execution_count": 1,
   "metadata": {},
   "outputs": [],
   "source": [
    "from pycaret.datasets import get_data\n",
    "from functools import partial\n",
    "import pandas as pd\n",
    "import time\n",
    "from sklearn.feature_selection import VarianceThreshold\n",
    "from sklearn.ensemble import RandomForestRegressor as rfr\n",
    "import shap\n",
    "import xgboost as xgb\n",
    "import numpy as np\n",
    "from sklearn.feature_selection import RFE, SelectKBest, f_regression, mutual_info_regression\n",
    "from sklearn.linear_model import RidgeClassifier, Ridge\n",
    "from sklearn.model_selection import train_test_split\n"
   ]
  },
  {
   "cell_type": "markdown",
   "metadata": {},
   "source": [
    "### Models"
   ]
  },
  {
   "cell_type": "code",
   "execution_count": 2,
   "metadata": {},
   "outputs": [
    {
     "data": {
      "text/html": [
       "<div>\n",
       "<style scoped>\n",
       "    .dataframe tbody tr th:only-of-type {\n",
       "        vertical-align: middle;\n",
       "    }\n",
       "\n",
       "    .dataframe tbody tr th {\n",
       "        vertical-align: top;\n",
       "    }\n",
       "\n",
       "    .dataframe thead th {\n",
       "        text-align: right;\n",
       "    }\n",
       "</style>\n",
       "<table border=\"1\" class=\"dataframe\">\n",
       "  <thead>\n",
       "    <tr style=\"text-align: right;\">\n",
       "      <th></th>\n",
       "      <th>Number of times pregnant</th>\n",
       "      <th>Plasma glucose concentration a 2 hours in an oral glucose tolerance test</th>\n",
       "      <th>Diastolic blood pressure (mm Hg)</th>\n",
       "      <th>Triceps skin fold thickness (mm)</th>\n",
       "      <th>2-Hour serum insulin (mu U/ml)</th>\n",
       "      <th>Body mass index (weight in kg/(height in m)^2)</th>\n",
       "      <th>Diabetes pedigree function</th>\n",
       "      <th>Age (years)</th>\n",
       "      <th>Class variable</th>\n",
       "    </tr>\n",
       "  </thead>\n",
       "  <tbody>\n",
       "    <tr>\n",
       "      <th>0</th>\n",
       "      <td>6</td>\n",
       "      <td>148</td>\n",
       "      <td>72</td>\n",
       "      <td>35</td>\n",
       "      <td>0</td>\n",
       "      <td>33.6</td>\n",
       "      <td>0.627</td>\n",
       "      <td>50</td>\n",
       "      <td>1</td>\n",
       "    </tr>\n",
       "    <tr>\n",
       "      <th>1</th>\n",
       "      <td>1</td>\n",
       "      <td>85</td>\n",
       "      <td>66</td>\n",
       "      <td>29</td>\n",
       "      <td>0</td>\n",
       "      <td>26.6</td>\n",
       "      <td>0.351</td>\n",
       "      <td>31</td>\n",
       "      <td>0</td>\n",
       "    </tr>\n",
       "    <tr>\n",
       "      <th>2</th>\n",
       "      <td>8</td>\n",
       "      <td>183</td>\n",
       "      <td>64</td>\n",
       "      <td>0</td>\n",
       "      <td>0</td>\n",
       "      <td>23.3</td>\n",
       "      <td>0.672</td>\n",
       "      <td>32</td>\n",
       "      <td>1</td>\n",
       "    </tr>\n",
       "    <tr>\n",
       "      <th>3</th>\n",
       "      <td>1</td>\n",
       "      <td>89</td>\n",
       "      <td>66</td>\n",
       "      <td>23</td>\n",
       "      <td>94</td>\n",
       "      <td>28.1</td>\n",
       "      <td>0.167</td>\n",
       "      <td>21</td>\n",
       "      <td>0</td>\n",
       "    </tr>\n",
       "    <tr>\n",
       "      <th>4</th>\n",
       "      <td>0</td>\n",
       "      <td>137</td>\n",
       "      <td>40</td>\n",
       "      <td>35</td>\n",
       "      <td>168</td>\n",
       "      <td>43.1</td>\n",
       "      <td>2.288</td>\n",
       "      <td>33</td>\n",
       "      <td>1</td>\n",
       "    </tr>\n",
       "  </tbody>\n",
       "</table>\n",
       "</div>"
      ],
      "text/plain": [
       "   Number of times pregnant  \\\n",
       "0                         6   \n",
       "1                         1   \n",
       "2                         8   \n",
       "3                         1   \n",
       "4                         0   \n",
       "\n",
       "   Plasma glucose concentration a 2 hours in an oral glucose tolerance test  \\\n",
       "0                                                148                          \n",
       "1                                                 85                          \n",
       "2                                                183                          \n",
       "3                                                 89                          \n",
       "4                                                137                          \n",
       "\n",
       "   Diastolic blood pressure (mm Hg)  Triceps skin fold thickness (mm)  \\\n",
       "0                                72                                35   \n",
       "1                                66                                29   \n",
       "2                                64                                 0   \n",
       "3                                66                                23   \n",
       "4                                40                                35   \n",
       "\n",
       "   2-Hour serum insulin (mu U/ml)  \\\n",
       "0                               0   \n",
       "1                               0   \n",
       "2                               0   \n",
       "3                              94   \n",
       "4                             168   \n",
       "\n",
       "   Body mass index (weight in kg/(height in m)^2)  Diabetes pedigree function  \\\n",
       "0                                            33.6                       0.627   \n",
       "1                                            26.6                       0.351   \n",
       "2                                            23.3                       0.672   \n",
       "3                                            28.1                       0.167   \n",
       "4                                            43.1                       2.288   \n",
       "\n",
       "   Age (years)  Class variable  \n",
       "0           50               1  \n",
       "1           31               0  \n",
       "2           32               1  \n",
       "3           21               0  \n",
       "4           33               1  "
      ]
     },
     "metadata": {},
     "output_type": "display_data"
    },
    {
     "data": {
      "text/html": [
       "<div>\n",
       "<style scoped>\n",
       "    .dataframe tbody tr th:only-of-type {\n",
       "        vertical-align: middle;\n",
       "    }\n",
       "\n",
       "    .dataframe tbody tr th {\n",
       "        vertical-align: top;\n",
       "    }\n",
       "\n",
       "    .dataframe thead th {\n",
       "        text-align: right;\n",
       "    }\n",
       "</style>\n",
       "<table border=\"1\" class=\"dataframe\">\n",
       "  <thead>\n",
       "    <tr style=\"text-align: right;\">\n",
       "      <th></th>\n",
       "      <th>age</th>\n",
       "      <th>sex</th>\n",
       "      <th>bmi</th>\n",
       "      <th>children</th>\n",
       "      <th>smoker</th>\n",
       "      <th>region</th>\n",
       "      <th>charges</th>\n",
       "    </tr>\n",
       "  </thead>\n",
       "  <tbody>\n",
       "    <tr>\n",
       "      <th>0</th>\n",
       "      <td>19</td>\n",
       "      <td>female</td>\n",
       "      <td>27.900</td>\n",
       "      <td>0</td>\n",
       "      <td>yes</td>\n",
       "      <td>southwest</td>\n",
       "      <td>16884.92400</td>\n",
       "    </tr>\n",
       "    <tr>\n",
       "      <th>1</th>\n",
       "      <td>18</td>\n",
       "      <td>male</td>\n",
       "      <td>33.770</td>\n",
       "      <td>1</td>\n",
       "      <td>no</td>\n",
       "      <td>southeast</td>\n",
       "      <td>1725.55230</td>\n",
       "    </tr>\n",
       "    <tr>\n",
       "      <th>2</th>\n",
       "      <td>28</td>\n",
       "      <td>male</td>\n",
       "      <td>33.000</td>\n",
       "      <td>3</td>\n",
       "      <td>no</td>\n",
       "      <td>southeast</td>\n",
       "      <td>4449.46200</td>\n",
       "    </tr>\n",
       "    <tr>\n",
       "      <th>3</th>\n",
       "      <td>33</td>\n",
       "      <td>male</td>\n",
       "      <td>22.705</td>\n",
       "      <td>0</td>\n",
       "      <td>no</td>\n",
       "      <td>northwest</td>\n",
       "      <td>21984.47061</td>\n",
       "    </tr>\n",
       "    <tr>\n",
       "      <th>4</th>\n",
       "      <td>32</td>\n",
       "      <td>male</td>\n",
       "      <td>28.880</td>\n",
       "      <td>0</td>\n",
       "      <td>no</td>\n",
       "      <td>northwest</td>\n",
       "      <td>3866.85520</td>\n",
       "    </tr>\n",
       "  </tbody>\n",
       "</table>\n",
       "</div>"
      ],
      "text/plain": [
       "   age     sex     bmi  children smoker     region      charges\n",
       "0   19  female  27.900         0    yes  southwest  16884.92400\n",
       "1   18    male  33.770         1     no  southeast   1725.55230\n",
       "2   28    male  33.000         3     no  southeast   4449.46200\n",
       "3   33    male  22.705         0     no  northwest  21984.47061\n",
       "4   32    male  28.880         0     no  northwest   3866.85520"
      ]
     },
     "metadata": {},
     "output_type": "display_data"
    }
   ],
   "source": [
    "data = get_data('diabetes')\n",
    "data_reg = get_data('insurance')\n",
    "new_data = data.drop(\"Class variable\", axis=1)\n",
    "charges = data_reg.loc[data.index][\"charges\"]"
   ]
  },
  {
   "cell_type": "code",
   "execution_count": 3,
   "metadata": {},
   "outputs": [],
   "source": [
    "labels = pd.read_csv(\"../data/regression_labels.csv\", index_col=0)\n",
    "regre = pd.read_csv(\"../data/regression.csv\", index_col=0)"
   ]
  },
  {
   "cell_type": "markdown",
   "metadata": {},
   "source": [
    "## Regression"
   ]
  },
  {
   "cell_type": "code",
   "execution_count": 4,
   "metadata": {},
   "outputs": [],
   "source": [
    "import BioML.models.regression as regression\n",
    "from collections import defaultdict\n",
    "from functools import partial\n",
    "import pandas as pd\n",
    "import numpy as np"
   ]
  },
  {
   "cell_type": "code",
   "execution_count": 5,
   "metadata": {},
   "outputs": [],
   "source": [
    "plot = (\"learning\", \"error\", \"residuals\")"
   ]
  },
  {
   "cell_type": "code",
   "execution_count": 6,
   "metadata": {},
   "outputs": [],
   "source": [
    "excel = pd.read_excel(\"../data/esterase_features.xlsx\", index_col=0, sheet_name=\"ch2_20\")\n",
    "label = list(range(len(excel)))"
   ]
  },
  {
   "cell_type": "code",
   "execution_count": 7,
   "metadata": {},
   "outputs": [
    {
     "name": "stderr",
     "output_type": "stream",
     "text": [
      "31-05-2024 21:57:40 INFO ------------------------------------------------------------------------------\n",
      "31-05-2024 21:57:40 INFO PycaretInterface parameters\n",
      "31-05-2024 21:57:40 INFO Seed: 200\n",
      "31-05-2024 21:57:40 INFO Budget time: 20\n",
      "31-05-2024 21:57:40 INFO The number of models to select: 3\n",
      "31-05-2024 21:57:40 INFO Output path: regression_results\n",
      "31-05-2024 21:57:40 INFO ----------------Trainer inputs-------------------------\n",
      "31-05-2024 21:57:40 INFO Number of kfolds: 5\n",
      "31-05-2024 21:57:40 INFO Number of retuning iterations: 50\n",
      "31-05-2024 21:57:40 INFO Test size: 30\n"
     ]
    }
   ],
   "source": [
    "data = regression.DataParser(\"../data/esterase_features.xlsx\", label)\n",
    "experiment = regression.PycaretInterface(\"regression\", 200, budget_time=20, best_model=3, \n",
    "                                        output_path=\"regression_results\", optimize=\"RMSE\")\n",
    "regressor = regression.Regressor(optimize=\"RMSE\")\n",
    "training = regression.Trainer(experiment, regressor, 5, 30)\n"
   ]
  },
  {
   "cell_type": "code",
   "execution_count": 8,
   "metadata": {},
   "outputs": [],
   "source": [
    "c = regression.split.ClusterSpliter(\"../data/resultsDB_clu.tsv\", 5, random_state=experiment.seed)\n",
    "X_train, X_test = c.train_test_split(data.features)"
   ]
  },
  {
   "cell_type": "code",
   "execution_count": 9,
   "metadata": {},
   "outputs": [
    {
     "name": "stderr",
     "output_type": "stream",
     "text": [
      "2024/05/31 21:57:52 INFO mlflow.tracking.fluent: Experiment with name 'Regression' does not exist. Creating a new experiment.\n",
      "31-05-2024 21:57:53 INFO --------------------------------------------------------\n",
      "31-05-2024 21:57:53 INFO Training regression models\n",
      "31-05-2024 21:57:53 INFO The models used ['lr', 'lasso', 'ridge', 'en', 'lar', 'llar', 'omp', 'br', 'ard', 'par', 'huber', 'svm', 'knn', 'dt', 'rf', 'et', 'ada', 'gbr', 'mlp', 'xgboost', 'catboost', 'dummy']\n",
      "31-05-2024 21:57:53 INFO The number of models used 22\n",
      "31-05-2024 21:57:53 INFO Time budget is 20 minutes\n",
      "31-05-2024 21:57:58 INFO Model ridge trained in 0.091 minutes\n",
      "31-05-2024 21:58:02 INFO Model lr trained in 0.067 minutes\n",
      "31-05-2024 21:58:07 INFO Model xgboost trained in 0.076 minutes\n",
      "31-05-2024 21:58:09 INFO Model llar trained in 0.035 minutes\n",
      "31-05-2024 21:58:11 INFO Model dt trained in 0.035 minutes\n",
      "31-05-2024 21:58:13 INFO Model mlp trained in 0.044 minutes\n",
      "31-05-2024 21:58:15 INFO Model en trained in 0.034 minutes\n",
      "31-05-2024 21:58:18 INFO Model br trained in 0.035 minutes\n",
      "31-05-2024 21:58:20 INFO Model lasso trained in 0.035 minutes\n",
      "31-05-2024 21:58:22 INFO Model ard trained in 0.039 minutes\n",
      "31-05-2024 21:58:24 INFO Model omp trained in 0.032 minutes\n",
      "31-05-2024 21:58:26 INFO Model gbr trained in 0.041 minutes\n",
      "31-05-2024 21:58:32 INFO Model catboost trained in 0.099 minutes\n",
      "31-05-2024 21:58:34 INFO Model svm trained in 0.032 minutes\n",
      "31-05-2024 21:58:37 INFO Model rf trained in 0.04 minutes\n",
      "31-05-2024 21:58:38 INFO Model dummy trained in 0.029 minutes\n",
      "31-05-2024 21:58:41 INFO Model et trained in 0.037 minutes\n",
      "31-05-2024 21:58:43 INFO Model knn trained in 0.039 minutes\n",
      "31-05-2024 21:58:45 INFO Model huber trained in 0.038 minutes\n",
      "31-05-2024 21:58:48 INFO Model lar trained in 0.039 minutes\n",
      "31-05-2024 21:58:50 INFO Model ada trained in 0.04 minutes\n",
      "31-05-2024 21:58:53 INFO Model par trained in 0.049 minutes\n",
      "31-05-2024 21:58:53 INFO Training over: Total runtime 1.004 minutes\n",
      "31-05-2024 21:58:53 INFO Analyse the best models and plotting them\n",
      "31-05-2024 21:58:53 INFO Analyse the top 1 model: catboost\n",
      "31-05-2024 21:59:21 INFO Analyse the top 2 model: omp\n",
      "31-05-2024 21:59:23 INFO Analyse the top 3 model: en\n",
      "31-05-2024 21:59:25 INFO --------Stacking the best models--------\n",
      "31-05-2024 21:59:25 INFO ----------Stacking the best models--------------\n",
      "31-05-2024 21:59:48 INFO --------Creating an ensemble model--------\n",
      "31-05-2024 21:59:48 INFO ----------Creating a majority voting model--------------\n",
      "31-05-2024 21:59:48 INFO fold: 5\n",
      "31-05-2024 21:59:48 INFO weights: None\n",
      "31-05-2024 21:59:55 INFO --------Retuning the best models--------\n",
      "31-05-2024 21:59:55 INFO Retuning catboost\n",
      "31-05-2024 21:59:55 INFO ---------Retuning the best models--------------\n",
      "31-05-2024 21:59:55 INFO num_iter: 50\n",
      "31-05-2024 21:59:55 INFO fold: 5\n",
      "31-05-2024 22:01:14 INFO Retuning omp\n",
      "31-05-2024 22:01:14 INFO ---------Retuning the best models--------------\n",
      "31-05-2024 22:01:14 INFO num_iter: 50\n",
      "31-05-2024 22:01:14 INFO fold: 5\n",
      "31-05-2024 22:01:26 INFO Retuning en\n",
      "31-05-2024 22:01:26 INFO ---------Retuning the best models--------------\n",
      "31-05-2024 22:01:26 INFO num_iter: 50\n",
      "31-05-2024 22:01:26 INFO fold: 5\n",
      "31-05-2024 22:01:38 INFO --------Stacking the best models--------\n",
      "31-05-2024 22:01:38 INFO ----------Stacking the best models--------------\n",
      "31-05-2024 22:01:44 INFO --------Creating an ensemble model--------\n",
      "31-05-2024 22:01:44 INFO ----------Creating a majority voting model--------------\n",
      "31-05-2024 22:01:44 INFO fold: 5\n",
      "31-05-2024 22:01:44 INFO weights: None\n",
      "31-05-2024 22:01:47 INFO Analyse the best models and plotting them\n",
      "31-05-2024 22:01:47 INFO Analyse the top 1 model: catboost\n",
      "31-05-2024 22:01:52 INFO Analyse the top 2 model: omp\n",
      "31-05-2024 22:01:54 INFO Analyse the top 3 model: en\n"
     ]
    }
   ],
   "source": [
    "results, models_dict = training.generate_training_results(X_train, data.label, True,\n",
    "                                                          test_data=X_test, fold_strategy=c)"
   ]
  },
  {
   "cell_type": "code",
   "execution_count": 13,
   "metadata": {},
   "outputs": [
    {
     "data": {
      "text/html": [
       "<div>\n",
       "<style scoped>\n",
       "    .dataframe tbody tr th:only-of-type {\n",
       "        vertical-align: middle;\n",
       "    }\n",
       "\n",
       "    .dataframe tbody tr th {\n",
       "        vertical-align: top;\n",
       "    }\n",
       "\n",
       "    .dataframe thead th {\n",
       "        text-align: right;\n",
       "    }\n",
       "</style>\n",
       "<table border=\"1\" class=\"dataframe\">\n",
       "  <thead>\n",
       "    <tr style=\"text-align: right;\">\n",
       "      <th></th>\n",
       "      <th></th>\n",
       "      <th></th>\n",
       "      <th>MAE</th>\n",
       "      <th>MSE</th>\n",
       "      <th>RMSE</th>\n",
       "      <th>R2</th>\n",
       "      <th>RMSLE</th>\n",
       "      <th>MAPE</th>\n",
       "    </tr>\n",
       "    <tr>\n",
       "      <th></th>\n",
       "      <th>Split</th>\n",
       "      <th>Fold</th>\n",
       "      <th></th>\n",
       "      <th></th>\n",
       "      <th></th>\n",
       "      <th></th>\n",
       "      <th></th>\n",
       "      <th></th>\n",
       "    </tr>\n",
       "  </thead>\n",
       "  <tbody>\n",
       "    <tr>\n",
       "      <th rowspan=\"4\" valign=\"top\">catboost</th>\n",
       "      <th rowspan=\"2\" valign=\"top\">CV-Train</th>\n",
       "      <th>Mean</th>\n",
       "      <td>0.1192</td>\n",
       "      <td>0.1091</td>\n",
       "      <td>0.1477</td>\n",
       "      <td>0.1999</td>\n",
       "      <td>0.0106</td>\n",
       "      <td>0.0052</td>\n",
       "    </tr>\n",
       "    <tr>\n",
       "      <th>Std</th>\n",
       "      <td>0.2383</td>\n",
       "      <td>0.2183</td>\n",
       "      <td>0.2955</td>\n",
       "      <td>0.3999</td>\n",
       "      <td>0.0213</td>\n",
       "      <td>0.0103</td>\n",
       "    </tr>\n",
       "    <tr>\n",
       "      <th rowspan=\"2\" valign=\"top\">CV-Val</th>\n",
       "      <th>Mean</th>\n",
       "      <td>7.4438</td>\n",
       "      <td>371.0364</td>\n",
       "      <td>8.6144</td>\n",
       "      <td>0.0141</td>\n",
       "      <td>0.1954</td>\n",
       "      <td>0.4896</td>\n",
       "    </tr>\n",
       "    <tr>\n",
       "      <th>Std</th>\n",
       "      <td>14.8877</td>\n",
       "      <td>742.0728</td>\n",
       "      <td>17.2287</td>\n",
       "      <td>0.0282</td>\n",
       "      <td>0.3908</td>\n",
       "      <td>0.9793</td>\n",
       "    </tr>\n",
       "    <tr>\n",
       "      <th>omp</th>\n",
       "      <th>CV-Train</th>\n",
       "      <th>Mean</th>\n",
       "      <td>30.9773</td>\n",
       "      <td>1354.9729</td>\n",
       "      <td>36.8079</td>\n",
       "      <td>0.1956</td>\n",
       "      <td>0.7452</td>\n",
       "      <td>1.3546</td>\n",
       "    </tr>\n",
       "    <tr>\n",
       "      <th>...</th>\n",
       "      <th>...</th>\n",
       "      <th>...</th>\n",
       "      <td>...</td>\n",
       "      <td>...</td>\n",
       "      <td>...</td>\n",
       "      <td>...</td>\n",
       "      <td>...</td>\n",
       "      <td>...</td>\n",
       "    </tr>\n",
       "    <tr>\n",
       "      <th>lar</th>\n",
       "      <th>CV-Val</th>\n",
       "      <th>Std</th>\n",
       "      <td>15.1894</td>\n",
       "      <td>3024.6323</td>\n",
       "      <td>23.4350</td>\n",
       "      <td>1.5407</td>\n",
       "      <td>0.4418</td>\n",
       "      <td>5.7405</td>\n",
       "    </tr>\n",
       "    <tr>\n",
       "      <th rowspan=\"4\" valign=\"top\">dt</th>\n",
       "      <th rowspan=\"2\" valign=\"top\">CV-Train</th>\n",
       "      <th>Mean</th>\n",
       "      <td>0.0000</td>\n",
       "      <td>0.0000</td>\n",
       "      <td>0.0000</td>\n",
       "      <td>1.0000</td>\n",
       "      <td>0.0000</td>\n",
       "      <td>0.0000</td>\n",
       "    </tr>\n",
       "    <tr>\n",
       "      <th>Std</th>\n",
       "      <td>0.0000</td>\n",
       "      <td>0.0000</td>\n",
       "      <td>0.0000</td>\n",
       "      <td>0.0000</td>\n",
       "      <td>0.0000</td>\n",
       "      <td>0.0000</td>\n",
       "    </tr>\n",
       "    <tr>\n",
       "      <th rowspan=\"2\" valign=\"top\">CV-Val</th>\n",
       "      <th>Mean</th>\n",
       "      <td>48.2105</td>\n",
       "      <td>3460.0692</td>\n",
       "      <td>57.8207</td>\n",
       "      <td>-1.1355</td>\n",
       "      <td>1.0222</td>\n",
       "      <td>2.7474</td>\n",
       "    </tr>\n",
       "    <tr>\n",
       "      <th>Std</th>\n",
       "      <td>8.6081</td>\n",
       "      <td>1390.7840</td>\n",
       "      <td>10.8090</td>\n",
       "      <td>0.8189</td>\n",
       "      <td>0.3644</td>\n",
       "      <td>3.8236</td>\n",
       "    </tr>\n",
       "  </tbody>\n",
       "</table>\n",
       "<p>88 rows × 6 columns</p>\n",
       "</div>"
      ],
      "text/plain": [
       "                            MAE        MSE     RMSE      R2   RMSLE    MAPE\n",
       "         Split    Fold                                                     \n",
       "catboost CV-Train Mean   0.1192     0.1091   0.1477  0.1999  0.0106  0.0052\n",
       "                  Std    0.2383     0.2183   0.2955  0.3999  0.0213  0.0103\n",
       "         CV-Val   Mean   7.4438   371.0364   8.6144  0.0141  0.1954  0.4896\n",
       "                  Std   14.8877   742.0728  17.2287  0.0282  0.3908  0.9793\n",
       "omp      CV-Train Mean  30.9773  1354.9729  36.8079  0.1956  0.7452  1.3546\n",
       "...                         ...        ...      ...     ...     ...     ...\n",
       "lar      CV-Val   Std   15.1894  3024.6323  23.4350  1.5407  0.4418  5.7405\n",
       "dt       CV-Train Mean   0.0000     0.0000   0.0000  1.0000  0.0000  0.0000\n",
       "                  Std    0.0000     0.0000   0.0000  0.0000  0.0000  0.0000\n",
       "         CV-Val   Mean  48.2105  3460.0692  57.8207 -1.1355  1.0222  2.7474\n",
       "                  Std    8.6081  1390.7840  10.8090  0.8189  0.3644  3.8236\n",
       "\n",
       "[88 rows x 6 columns]"
      ]
     },
     "execution_count": 13,
     "metadata": {},
     "output_type": "execute_result"
    }
   ],
   "source": [
    "results[\"not_tuned\"][\"train\"][0]"
   ]
  },
  {
   "cell_type": "code",
   "execution_count": 7,
   "metadata": {},
   "outputs": [],
   "source": [
    "test_set_predictions = training.generate_holdout_prediction(models_dict)"
   ]
  },
  {
   "cell_type": "code",
   "execution_count": 8,
   "metadata": {},
   "outputs": [
    {
     "data": {
      "text/html": [],
      "text/plain": [
       "<IPython.core.display.HTML object>"
      ]
     },
     "metadata": {},
     "output_type": "display_data"
    },
    {
     "data": {
      "text/html": [],
      "text/plain": [
       "<IPython.core.display.HTML object>"
      ]
     },
     "metadata": {},
     "output_type": "display_data"
    },
    {
     "data": {
      "text/html": [],
      "text/plain": [
       "<IPython.core.display.HTML object>"
      ]
     },
     "metadata": {},
     "output_type": "display_data"
    },
    {
     "data": {
      "text/html": [],
      "text/plain": [
       "<IPython.core.display.HTML object>"
      ]
     },
     "metadata": {},
     "output_type": "display_data"
    },
    {
     "data": {
      "text/html": [],
      "text/plain": [
       "<IPython.core.display.HTML object>"
      ]
     },
     "metadata": {},
     "output_type": "display_data"
    },
    {
     "data": {
      "text/html": [],
      "text/plain": [
       "<IPython.core.display.HTML object>"
      ]
     },
     "metadata": {},
     "output_type": "display_data"
    },
    {
     "data": {
      "text/html": [],
      "text/plain": [
       "<IPython.core.display.HTML object>"
      ]
     },
     "metadata": {},
     "output_type": "display_data"
    }
   ],
   "source": [
    "regression.evaluate_all_models(experiment.evaluate_model, models_dict, \"regression_evaluation\")"
   ]
  },
  {
   "cell_type": "code",
   "execution_count": 9,
   "metadata": {},
   "outputs": [],
   "source": [
    "training_output = \"regression_results\"\n",
    "for tune_status, result_dict in results.items():\n",
    "    for key, value in result_dict.items():\n",
    "        regression.write_results(f\"{training_output}/{tune_status}\", *value, sheet_name=key)\n",
    "    regression.write_results(f\"{training_output}/{tune_status}\", test_set_predictions[tune_status] , sheet_name=f\"test_results\")"
   ]
  },
  {
   "cell_type": "markdown",
   "metadata": {},
   "source": [
    "## Save models from pre-trained"
   ]
  },
  {
   "cell_type": "code",
   "execution_count": null,
   "metadata": {},
   "outputs": [],
   "source": [
    "from BioML.models import save_model"
   ]
  },
  {
   "cell_type": "code",
   "execution_count": null,
   "metadata": {},
   "outputs": [],
   "source": [
    "generate = save_model.GenerateModel(training)\n",
    "final_model = generate.finalize_model(models[\"tuned\"][\"majority\"])\n",
    "generate.save_model(final_model, \"model_output/majority\")"
   ]
  },
  {
   "cell_type": "markdown",
   "metadata": {},
   "source": [
    "## Save Models from scratch"
   ]
  },
  {
   "cell_type": "code",
   "execution_count": 11,
   "metadata": {},
   "outputs": [],
   "source": [
    "from BioML.models import save_model"
   ]
  },
  {
   "cell_type": "code",
   "execution_count": 6,
   "metadata": {},
   "outputs": [
    {
     "name": "stderr",
     "output_type": "stream",
     "text": [
      "23-02-2024 12:21:03 INFO ------------------------------------------------------------------------------\n",
      "23-02-2024 12:21:03 INFO PycaretInterface parameters\n",
      "23-02-2024 12:21:03 INFO Seed: 200\n",
      "23-02-2024 12:21:03 INFO Budget time: 20\n",
      "23-02-2024 12:21:03 INFO The number of models to select: 3\n",
      "23-02-2024 12:21:03 INFO Output path: regression_training\n",
      "23-02-2024 12:21:03 INFO ----------------Trainer inputs-------------------------\n",
      "23-02-2024 12:21:03 INFO Number of kfolds: 5\n",
      "23-02-2024 12:21:03 INFO Number of iterations: 30\n"
     ]
    }
   ],
   "source": [
    "data = save_model.DataParser(\"../data/regression.csv\", \"../data/regression_labels.csv\")\n",
    "experiment = save_model.PycaretInterface(\"regression\", 200, budget_time=20, best_model=3, \n",
    "                                  output_path=\"regression_training\", optimize=\"RMSE\", experiment_name=\"generate_model\")\n",
    "regressor = save_model.Regressor(test_size=0.2, optimize=\"RMSE\", selected=[\"br\", \"lr\"])\n",
    "training = save_model.Trainer(experiment, regressor, 5, 30)\n"
   ]
  },
  {
   "cell_type": "code",
   "execution_count": 7,
   "metadata": {},
   "outputs": [
    {
     "data": {
      "text/plain": [
       "['br', 'lr']"
      ]
     },
     "execution_count": 7,
     "metadata": {},
     "output_type": "execute_result"
    }
   ],
   "source": [
    "regressor.selected"
   ]
  },
  {
   "cell_type": "code",
   "execution_count": 10,
   "metadata": {},
   "outputs": [
    {
     "name": "stderr",
     "output_type": "stream",
     "text": [
      "2024/02/23 12:22:41 INFO mlflow.tracking.fluent: Experiment with name 'generate_model' does not exist. Creating a new experiment.\n",
      "23-02-2024 12:22:49 INFO --------------------------------------------------------\n",
      "23-02-2024 12:22:49 INFO Training regression models\n",
      "23-02-2024 12:22:49 INFO The models used ['br', 'lr']\n",
      "23-02-2024 12:22:49 INFO Time budget is 20 minutes\n",
      "23-02-2024 12:23:34 INFO Training over: Total runtime 0.765 minutes\n",
      "23-02-2024 12:23:34 INFO Analyse the best models and plotting them\n",
      "23-02-2024 12:23:34 INFO Analyse the top 1 model: br\n",
      "23-02-2024 12:23:41 INFO Analyse the top 2 model: lr\n"
     ]
    }
   ],
   "source": [
    "sorted_results, sorted_models, top_params = training.run_training(data.features, data.label)"
   ]
  },
  {
   "cell_type": "code",
   "execution_count": 28,
   "metadata": {},
   "outputs": [
    {
     "name": "stderr",
     "output_type": "stream",
     "text": [
      "26-12-2023 13:40:52 INFO --------Creating an ensemble model--------\n",
      "26-12-2023 13:40:52 INFO ----------Creating a majority voting model--------------\n",
      "26-12-2023 13:40:52 INFO fold: 5\n",
      "26-12-2023 13:40:52 INFO weights: None\n",
      "26-12-2023 13:40:53 INFO ----------Finalizing the model by training it with all the data including test set--------------\n"
     ]
    },
    {
     "name": "stdout",
     "output_type": "stream",
     "text": [
      "Transformation Pipeline and Model Successfully Saved\n"
     ]
    }
   ],
   "source": [
    "generate = save_model.GenerateModel(training)\n",
    "models =  generate.train_by_strategy(sorted_models, \"majority\")\n",
    "final_model = generate.finalize_model(models)\n",
    "generate.save_model(final_model, \"model_output/majority\")"
   ]
  },
  {
   "cell_type": "markdown",
   "metadata": {},
   "source": [
    "## Prediction"
   ]
  },
  {
   "cell_type": "code",
   "execution_count": 1,
   "metadata": {},
   "outputs": [],
   "source": [
    "from BioML.models import predict\n",
    "import pandas as pd\n",
    "import numpy as np\n",
    "from scipy.spatial import distance"
   ]
  },
  {
   "cell_type": "code",
   "execution_count": 11,
   "metadata": {},
   "outputs": [],
   "source": [
    "training_features = \"../data/regression.csv\"\n",
    "label = pd.read_csv(\"../data/regression_labels.csv\", index_col=0)\n",
    "test_features = \"../data/regression.csv\"\n",
    "outlier_train=()\n",
    "outlier_test=()\n",
    "sheet_name=None\n",
    "problem=\"regression\"\n",
    "model_path=\"model_output/majority\"\n",
    "scaler=\"zscore\""
   ]
  },
  {
   "cell_type": "code",
   "execution_count": 12,
   "metadata": {},
   "outputs": [],
   "source": [
    "feature = predict.DataParser(training_features, label, outliers=outlier_train, sheets=sheet_name)\n",
    "test_features = feature.remove_outliers(feature.read_features(test_features), outlier_test)\n",
    "predictions = predict.predict(test_features, model_path, problem)"
   ]
  },
  {
   "cell_type": "code",
   "execution_count": 5,
   "metadata": {},
   "outputs": [],
   "source": [
    "transformed, scaler_dict, test_x = predict.scale(scaler, feature.drop(), test_features)"
   ]
  },
  {
   "cell_type": "code",
   "execution_count": 27,
   "metadata": {},
   "outputs": [],
   "source": [
    "filtered_pred = predict.domain_filter(predictions, transformed, test_x, 1)"
   ]
  },
  {
   "cell_type": "code",
   "execution_count": null,
   "metadata": {},
   "outputs": [],
   "source": [
    "col_name = [\"prediction_score\", \"prediction_label\", \"AD_number\"]\n",
    "predictions = predictions.loc[:, predictions.columns.str.contains(\"|\".join(col_name))] "
   ]
  }
 ],
 "metadata": {
  "kernelspec": {
   "display_name": "bioml",
   "language": "python",
   "name": "python3"
  },
  "language_info": {
   "codemirror_mode": {
    "name": "ipython",
    "version": 3
   },
   "file_extension": ".py",
   "mimetype": "text/x-python",
   "name": "python",
   "nbconvert_exporter": "python",
   "pygments_lexer": "ipython3",
   "version": "3.10.14"
  },
  "orig_nbformat": 4
 },
 "nbformat": 4,
 "nbformat_minor": 2
}
